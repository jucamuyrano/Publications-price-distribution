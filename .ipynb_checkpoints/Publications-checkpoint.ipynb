{
 "cells": [
  {
   "cell_type": "markdown",
   "metadata": {},
   "source": [
    "## Import libraries"
   ]
  },
  {
   "cell_type": "code",
   "execution_count": 1,
   "metadata": {},
   "outputs": [],
   "source": [
    "import pandas as pd\n",
    "import numpy as np\n",
    "import os\n",
    "import matplotlib.pyplot as plt\n",
    "import seaborn as sns\n",
    "from datetime import datetime"
   ]
  },
  {
   "cell_type": "markdown",
   "metadata": {},
   "source": [
    "## Upload Data Base"
   ]
  },
  {
   "cell_type": "code",
   "execution_count": 2,
   "metadata": {},
   "outputs": [],
   "source": [
    "df = pd.read_csv(r'base_pubs.csv')"
   ]
  },
  {
   "cell_type": "code",
   "execution_count": 3,
   "metadata": {},
   "outputs": [
    {
     "data": {
      "text/plain": [
       "(208012, 7)"
      ]
     },
     "execution_count": 3,
     "metadata": {},
     "output_type": "execute_result"
    }
   ],
   "source": [
    "df.shape"
   ]
  },
  {
   "cell_type": "code",
   "execution_count": 4,
   "metadata": {},
   "outputs": [
    {
     "data": {
      "text/plain": [
       "Index(['CTLG_PROD_ID', 'SIT_SITE_ID', 'ITE_ITEM_ID', 'ITE_BASE_CURRENT_PRICE',\n",
       "       'ITE_STATUS', 'CAT_CATEG_ID_L7', 'CAT_CATEG_ID_L1'],\n",
       "      dtype='object')"
      ]
     },
     "execution_count": 4,
     "metadata": {},
     "output_type": "execute_result"
    }
   ],
   "source": [
    "df.columns"
   ]
  },
  {
   "cell_type": "code",
   "execution_count": 5,
   "metadata": {
    "scrolled": true
   },
   "outputs": [
    {
     "data": {
      "text/html": [
       "<div>\n",
       "<style scoped>\n",
       "    .dataframe tbody tr th:only-of-type {\n",
       "        vertical-align: middle;\n",
       "    }\n",
       "\n",
       "    .dataframe tbody tr th {\n",
       "        vertical-align: top;\n",
       "    }\n",
       "\n",
       "    .dataframe thead th {\n",
       "        text-align: right;\n",
       "    }\n",
       "</style>\n",
       "<table border=\"1\" class=\"dataframe\">\n",
       "  <thead>\n",
       "    <tr style=\"text-align: right;\">\n",
       "      <th></th>\n",
       "      <th>CTLG_PROD_ID</th>\n",
       "      <th>SIT_SITE_ID</th>\n",
       "      <th>ITE_ITEM_ID</th>\n",
       "      <th>ITE_BASE_CURRENT_PRICE</th>\n",
       "      <th>ITE_STATUS</th>\n",
       "      <th>CAT_CATEG_ID_L7</th>\n",
       "      <th>CAT_CATEG_ID_L1</th>\n",
       "    </tr>\n",
       "  </thead>\n",
       "  <tbody>\n",
       "    <tr>\n",
       "      <th>0</th>\n",
       "      <td>15914455.0</td>\n",
       "      <td>MLB</td>\n",
       "      <td>1730834725</td>\n",
       "      <td>209.80</td>\n",
       "      <td>active</td>\n",
       "      <td>196208</td>\n",
       "      <td>1000</td>\n",
       "    </tr>\n",
       "    <tr>\n",
       "      <th>1</th>\n",
       "      <td>NaN</td>\n",
       "      <td>MLB</td>\n",
       "      <td>1932231953</td>\n",
       "      <td>80.50</td>\n",
       "      <td>active</td>\n",
       "      <td>1672</td>\n",
       "      <td>1648</td>\n",
       "    </tr>\n",
       "    <tr>\n",
       "      <th>2</th>\n",
       "      <td>16255367.0</td>\n",
       "      <td>MLB</td>\n",
       "      <td>1940727918</td>\n",
       "      <td>77.31</td>\n",
       "      <td>active</td>\n",
       "      <td>6777</td>\n",
       "      <td>1648</td>\n",
       "    </tr>\n",
       "    <tr>\n",
       "      <th>3</th>\n",
       "      <td>14727339.0</td>\n",
       "      <td>MLB</td>\n",
       "      <td>1756695472</td>\n",
       "      <td>13.38</td>\n",
       "      <td>active</td>\n",
       "      <td>1714</td>\n",
       "      <td>1648</td>\n",
       "    </tr>\n",
       "    <tr>\n",
       "      <th>4</th>\n",
       "      <td>6084026.0</td>\n",
       "      <td>MLB</td>\n",
       "      <td>1900682550</td>\n",
       "      <td>28.39</td>\n",
       "      <td>active</td>\n",
       "      <td>186456</td>\n",
       "      <td>1144</td>\n",
       "    </tr>\n",
       "  </tbody>\n",
       "</table>\n",
       "</div>"
      ],
      "text/plain": [
       "   CTLG_PROD_ID SIT_SITE_ID  ITE_ITEM_ID  ITE_BASE_CURRENT_PRICE ITE_STATUS  \\\n",
       "0    15914455.0      MLB      1730834725                  209.80     active   \n",
       "1           NaN      MLB      1932231953                   80.50     active   \n",
       "2    16255367.0      MLB      1940727918                   77.31     active   \n",
       "3    14727339.0      MLB      1756695472                   13.38     active   \n",
       "4     6084026.0      MLB      1900682550                   28.39     active   \n",
       "\n",
       "   CAT_CATEG_ID_L7  CAT_CATEG_ID_L1  \n",
       "0           196208             1000  \n",
       "1             1672             1648  \n",
       "2             6777             1648  \n",
       "3             1714             1648  \n",
       "4           186456             1144  "
      ]
     },
     "execution_count": 5,
     "metadata": {},
     "output_type": "execute_result"
    }
   ],
   "source": [
    "df.head()"
   ]
  },
  {
   "cell_type": "code",
   "execution_count": 6,
   "metadata": {},
   "outputs": [
    {
     "data": {
      "text/plain": [
       "CTLG_PROD_ID              float64\n",
       "SIT_SITE_ID                object\n",
       "ITE_ITEM_ID                 int64\n",
       "ITE_BASE_CURRENT_PRICE    float64\n",
       "ITE_STATUS                 object\n",
       "CAT_CATEG_ID_L7             int64\n",
       "CAT_CATEG_ID_L1             int64\n",
       "dtype: object"
      ]
     },
     "execution_count": 6,
     "metadata": {},
     "output_type": "execute_result"
    }
   ],
   "source": [
    "df.dtypes"
   ]
  },
  {
   "cell_type": "markdown",
   "metadata": {},
   "source": [
    "## Drop NaN rows"
   ]
  },
  {
   "cell_type": "code",
   "execution_count": 7,
   "metadata": {
    "scrolled": true
   },
   "outputs": [
    {
     "data": {
      "text/plain": [
       "3277"
      ]
     },
     "execution_count": 7,
     "metadata": {},
     "output_type": "execute_result"
    }
   ],
   "source": [
    "countNaN = df['CTLG_PROD_ID'].isna().sum()\n",
    "countNaN"
   ]
  },
  {
   "cell_type": "code",
   "execution_count": 8,
   "metadata": {},
   "outputs": [],
   "source": [
    "df.dropna(subset = ['CTLG_PROD_ID'], inplace=True)"
   ]
  },
  {
   "cell_type": "code",
   "execution_count": 9,
   "metadata": {},
   "outputs": [
    {
     "data": {
      "text/plain": [
       "0"
      ]
     },
     "execution_count": 9,
     "metadata": {},
     "output_type": "execute_result"
    }
   ],
   "source": [
    "countNaN = df['CTLG_PROD_ID'].isna().sum()\n",
    "countNaN"
   ]
  },
  {
   "cell_type": "markdown",
   "metadata": {},
   "source": [
    "## Change data type"
   ]
  },
  {
   "cell_type": "code",
   "execution_count": 10,
   "metadata": {},
   "outputs": [],
   "source": [
    "df['CTLG_PROD_ID']=df['CTLG_PROD_ID'].astype('int')"
   ]
  },
  {
   "cell_type": "code",
   "execution_count": 11,
   "metadata": {},
   "outputs": [
    {
     "data": {
      "text/plain": [
       "dtype('int64')"
      ]
     },
     "execution_count": 11,
     "metadata": {},
     "output_type": "execute_result"
    }
   ],
   "source": [
    "df['CTLG_PROD_ID'].dtypes"
   ]
  },
  {
   "cell_type": "markdown",
   "metadata": {},
   "source": [
    "## Describe of the prices of the products"
   ]
  },
  {
   "cell_type": "code",
   "execution_count": 12,
   "metadata": {},
   "outputs": [
    {
     "data": {
      "text/html": [
       "<div>\n",
       "<style scoped>\n",
       "    .dataframe tbody tr th:only-of-type {\n",
       "        vertical-align: middle;\n",
       "    }\n",
       "\n",
       "    .dataframe tbody tr th {\n",
       "        vertical-align: top;\n",
       "    }\n",
       "\n",
       "    .dataframe thead th {\n",
       "        text-align: right;\n",
       "    }\n",
       "</style>\n",
       "<table border=\"1\" class=\"dataframe\">\n",
       "  <thead>\n",
       "    <tr style=\"text-align: right;\">\n",
       "      <th></th>\n",
       "      <th>count</th>\n",
       "      <th>mean</th>\n",
       "      <th>std</th>\n",
       "      <th>min</th>\n",
       "      <th>25%</th>\n",
       "      <th>50%</th>\n",
       "      <th>75%</th>\n",
       "      <th>max</th>\n",
       "    </tr>\n",
       "    <tr>\n",
       "      <th>CTLG_PROD_ID</th>\n",
       "      <th></th>\n",
       "      <th></th>\n",
       "      <th></th>\n",
       "      <th></th>\n",
       "      <th></th>\n",
       "      <th></th>\n",
       "      <th></th>\n",
       "      <th></th>\n",
       "    </tr>\n",
       "  </thead>\n",
       "  <tbody>\n",
       "    <tr>\n",
       "      <th>633</th>\n",
       "      <td>1.0</td>\n",
       "      <td>66.890000</td>\n",
       "      <td>NaN</td>\n",
       "      <td>66.89</td>\n",
       "      <td>66.89</td>\n",
       "      <td>66.89</td>\n",
       "      <td>66.890</td>\n",
       "      <td>66.89</td>\n",
       "    </tr>\n",
       "    <tr>\n",
       "      <th>5020</th>\n",
       "      <td>1.0</td>\n",
       "      <td>43.910000</td>\n",
       "      <td>NaN</td>\n",
       "      <td>43.91</td>\n",
       "      <td>43.91</td>\n",
       "      <td>43.91</td>\n",
       "      <td>43.910</td>\n",
       "      <td>43.91</td>\n",
       "    </tr>\n",
       "    <tr>\n",
       "      <th>11438</th>\n",
       "      <td>1.0</td>\n",
       "      <td>931.850000</td>\n",
       "      <td>NaN</td>\n",
       "      <td>931.85</td>\n",
       "      <td>931.85</td>\n",
       "      <td>931.85</td>\n",
       "      <td>931.850</td>\n",
       "      <td>931.85</td>\n",
       "    </tr>\n",
       "    <tr>\n",
       "      <th>101022</th>\n",
       "      <td>1.0</td>\n",
       "      <td>432.520000</td>\n",
       "      <td>NaN</td>\n",
       "      <td>432.52</td>\n",
       "      <td>432.52</td>\n",
       "      <td>432.52</td>\n",
       "      <td>432.520</td>\n",
       "      <td>432.52</td>\n",
       "    </tr>\n",
       "    <tr>\n",
       "      <th>802465</th>\n",
       "      <td>27.0</td>\n",
       "      <td>153.065556</td>\n",
       "      <td>18.054667</td>\n",
       "      <td>131.70</td>\n",
       "      <td>141.94</td>\n",
       "      <td>148.65</td>\n",
       "      <td>156.525</td>\n",
       "      <td>201.61</td>\n",
       "    </tr>\n",
       "    <tr>\n",
       "      <th>...</th>\n",
       "      <td>...</td>\n",
       "      <td>...</td>\n",
       "      <td>...</td>\n",
       "      <td>...</td>\n",
       "      <td>...</td>\n",
       "      <td>...</td>\n",
       "      <td>...</td>\n",
       "      <td>...</td>\n",
       "    </tr>\n",
       "    <tr>\n",
       "      <th>18209455</th>\n",
       "      <td>13.0</td>\n",
       "      <td>598.552308</td>\n",
       "      <td>195.217031</td>\n",
       "      <td>362.71</td>\n",
       "      <td>362.71</td>\n",
       "      <td>643.31</td>\n",
       "      <td>710.210</td>\n",
       "      <td>1008.65</td>\n",
       "    </tr>\n",
       "    <tr>\n",
       "      <th>18209881</th>\n",
       "      <td>1.0</td>\n",
       "      <td>248.630000</td>\n",
       "      <td>NaN</td>\n",
       "      <td>248.63</td>\n",
       "      <td>248.63</td>\n",
       "      <td>248.63</td>\n",
       "      <td>248.630</td>\n",
       "      <td>248.63</td>\n",
       "    </tr>\n",
       "    <tr>\n",
       "      <th>18213136</th>\n",
       "      <td>1.0</td>\n",
       "      <td>187.130000</td>\n",
       "      <td>NaN</td>\n",
       "      <td>187.13</td>\n",
       "      <td>187.13</td>\n",
       "      <td>187.13</td>\n",
       "      <td>187.130</td>\n",
       "      <td>187.13</td>\n",
       "    </tr>\n",
       "    <tr>\n",
       "      <th>18217813</th>\n",
       "      <td>3.0</td>\n",
       "      <td>192.546667</td>\n",
       "      <td>38.656023</td>\n",
       "      <td>163.02</td>\n",
       "      <td>170.67</td>\n",
       "      <td>178.32</td>\n",
       "      <td>207.310</td>\n",
       "      <td>236.30</td>\n",
       "    </tr>\n",
       "    <tr>\n",
       "      <th>18235364</th>\n",
       "      <td>5.0</td>\n",
       "      <td>44.490000</td>\n",
       "      <td>6.717418</td>\n",
       "      <td>38.53</td>\n",
       "      <td>39.18</td>\n",
       "      <td>43.70</td>\n",
       "      <td>45.860</td>\n",
       "      <td>55.18</td>\n",
       "    </tr>\n",
       "  </tbody>\n",
       "</table>\n",
       "<p>13593 rows × 8 columns</p>\n",
       "</div>"
      ],
      "text/plain": [
       "              count        mean         std     min     25%     50%      75%  \\\n",
       "CTLG_PROD_ID                                                                   \n",
       "633             1.0   66.890000         NaN   66.89   66.89   66.89   66.890   \n",
       "5020            1.0   43.910000         NaN   43.91   43.91   43.91   43.910   \n",
       "11438           1.0  931.850000         NaN  931.85  931.85  931.85  931.850   \n",
       "101022          1.0  432.520000         NaN  432.52  432.52  432.52  432.520   \n",
       "802465         27.0  153.065556   18.054667  131.70  141.94  148.65  156.525   \n",
       "...             ...         ...         ...     ...     ...     ...      ...   \n",
       "18209455       13.0  598.552308  195.217031  362.71  362.71  643.31  710.210   \n",
       "18209881        1.0  248.630000         NaN  248.63  248.63  248.63  248.630   \n",
       "18213136        1.0  187.130000         NaN  187.13  187.13  187.13  187.130   \n",
       "18217813        3.0  192.546667   38.656023  163.02  170.67  178.32  207.310   \n",
       "18235364        5.0   44.490000    6.717418   38.53   39.18   43.70   45.860   \n",
       "\n",
       "                  max  \n",
       "CTLG_PROD_ID           \n",
       "633             66.89  \n",
       "5020            43.91  \n",
       "11438          931.85  \n",
       "101022         432.52  \n",
       "802465         201.61  \n",
       "...               ...  \n",
       "18209455      1008.65  \n",
       "18209881       248.63  \n",
       "18213136       187.13  \n",
       "18217813       236.30  \n",
       "18235364        55.18  \n",
       "\n",
       "[13593 rows x 8 columns]"
      ]
     },
     "execution_count": 12,
     "metadata": {},
     "output_type": "execute_result"
    }
   ],
   "source": [
    "gb=df.groupby(['CTLG_PROD_ID'])\n",
    "df_d=gb['ITE_BASE_CURRENT_PRICE'].describe()\n",
    "df_d"
   ]
  },
  {
   "cell_type": "markdown",
   "metadata": {},
   "source": [
    "## Drop rows with NaN std"
   ]
  },
  {
   "cell_type": "code",
   "execution_count": 13,
   "metadata": {},
   "outputs": [
    {
     "data": {
      "text/plain": [
       "2930"
      ]
     },
     "execution_count": 13,
     "metadata": {},
     "output_type": "execute_result"
    }
   ],
   "source": [
    "countNaN = df_d['std'].isna().sum()\n",
    "countNaN"
   ]
  },
  {
   "cell_type": "code",
   "execution_count": 14,
   "metadata": {},
   "outputs": [],
   "source": [
    "df_d.dropna(subset = ['std'], inplace=True)"
   ]
  },
  {
   "cell_type": "code",
   "execution_count": 15,
   "metadata": {},
   "outputs": [
    {
     "data": {
      "text/plain": [
       "0"
      ]
     },
     "execution_count": 15,
     "metadata": {},
     "output_type": "execute_result"
    }
   ],
   "source": [
    "countNaN = df_d['std'].isna().sum()\n",
    "countNaN"
   ]
  },
  {
   "cell_type": "markdown",
   "metadata": {},
   "source": [
    "## Reset the index"
   ]
  },
  {
   "cell_type": "code",
   "execution_count": 16,
   "metadata": {},
   "outputs": [],
   "source": [
    "df_d=df_d.reset_index()"
   ]
  },
  {
   "cell_type": "code",
   "execution_count": 17,
   "metadata": {},
   "outputs": [
    {
     "data": {
      "text/html": [
       "<div>\n",
       "<style scoped>\n",
       "    .dataframe tbody tr th:only-of-type {\n",
       "        vertical-align: middle;\n",
       "    }\n",
       "\n",
       "    .dataframe tbody tr th {\n",
       "        vertical-align: top;\n",
       "    }\n",
       "\n",
       "    .dataframe thead th {\n",
       "        text-align: right;\n",
       "    }\n",
       "</style>\n",
       "<table border=\"1\" class=\"dataframe\">\n",
       "  <thead>\n",
       "    <tr style=\"text-align: right;\">\n",
       "      <th></th>\n",
       "      <th>CTLG_PROD_ID</th>\n",
       "      <th>count</th>\n",
       "      <th>mean</th>\n",
       "      <th>std</th>\n",
       "      <th>min</th>\n",
       "      <th>25%</th>\n",
       "      <th>50%</th>\n",
       "      <th>75%</th>\n",
       "      <th>max</th>\n",
       "    </tr>\n",
       "  </thead>\n",
       "  <tbody>\n",
       "    <tr>\n",
       "      <th>0</th>\n",
       "      <td>802465</td>\n",
       "      <td>27.0</td>\n",
       "      <td>153.065556</td>\n",
       "      <td>18.054667</td>\n",
       "      <td>131.70</td>\n",
       "      <td>141.940</td>\n",
       "      <td>148.65</td>\n",
       "      <td>156.525</td>\n",
       "      <td>201.61</td>\n",
       "    </tr>\n",
       "    <tr>\n",
       "      <th>1</th>\n",
       "      <td>802499</td>\n",
       "      <td>11.0</td>\n",
       "      <td>63.684545</td>\n",
       "      <td>7.481744</td>\n",
       "      <td>49.25</td>\n",
       "      <td>63.455</td>\n",
       "      <td>67.19</td>\n",
       "      <td>67.190</td>\n",
       "      <td>70.14</td>\n",
       "    </tr>\n",
       "    <tr>\n",
       "      <th>2</th>\n",
       "      <td>802500</td>\n",
       "      <td>9.0</td>\n",
       "      <td>75.371111</td>\n",
       "      <td>7.870711</td>\n",
       "      <td>60.67</td>\n",
       "      <td>70.600</td>\n",
       "      <td>77.27</td>\n",
       "      <td>81.440</td>\n",
       "      <td>83.46</td>\n",
       "    </tr>\n",
       "    <tr>\n",
       "      <th>3</th>\n",
       "      <td>802523</td>\n",
       "      <td>33.0</td>\n",
       "      <td>44.114545</td>\n",
       "      <td>7.164920</td>\n",
       "      <td>31.19</td>\n",
       "      <td>38.640</td>\n",
       "      <td>45.46</td>\n",
       "      <td>47.610</td>\n",
       "      <td>60.94</td>\n",
       "    </tr>\n",
       "    <tr>\n",
       "      <th>4</th>\n",
       "      <td>802544</td>\n",
       "      <td>47.0</td>\n",
       "      <td>106.392979</td>\n",
       "      <td>20.900336</td>\n",
       "      <td>74.61</td>\n",
       "      <td>97.760</td>\n",
       "      <td>99.40</td>\n",
       "      <td>109.840</td>\n",
       "      <td>181.78</td>\n",
       "    </tr>\n",
       "  </tbody>\n",
       "</table>\n",
       "</div>"
      ],
      "text/plain": [
       "   CTLG_PROD_ID  count        mean        std     min      25%     50%  \\\n",
       "0        802465   27.0  153.065556  18.054667  131.70  141.940  148.65   \n",
       "1        802499   11.0   63.684545   7.481744   49.25   63.455   67.19   \n",
       "2        802500    9.0   75.371111   7.870711   60.67   70.600   77.27   \n",
       "3        802523   33.0   44.114545   7.164920   31.19   38.640   45.46   \n",
       "4        802544   47.0  106.392979  20.900336   74.61   97.760   99.40   \n",
       "\n",
       "       75%     max  \n",
       "0  156.525  201.61  \n",
       "1   67.190   70.14  \n",
       "2   81.440   83.46  \n",
       "3   47.610   60.94  \n",
       "4  109.840  181.78  "
      ]
     },
     "execution_count": 17,
     "metadata": {},
     "output_type": "execute_result"
    }
   ],
   "source": [
    "df_d.head()"
   ]
  },
  {
   "cell_type": "code",
   "execution_count": 18,
   "metadata": {},
   "outputs": [
    {
     "data": {
      "text/plain": [
       "(10663, 9)"
      ]
     },
     "execution_count": 18,
     "metadata": {},
     "output_type": "execute_result"
    }
   ],
   "source": [
    "df_d.shape"
   ]
  },
  {
   "cell_type": "markdown",
   "metadata": {},
   "source": [
    "## Export the products IDs"
   ]
  },
  {
   "cell_type": "code",
   "execution_count": 19,
   "metadata": {},
   "outputs": [],
   "source": [
    "#ID=df_d['CTLG_PROD_ID']\n",
    "#ID.to_csv(r'products_id.csv', index = False)"
   ]
  },
  {
   "cell_type": "markdown",
   "metadata": {},
   "source": [
    "## Upload of orders data base"
   ]
  },
  {
   "cell_type": "code",
   "execution_count": 20,
   "metadata": {},
   "outputs": [],
   "source": [
    "df_or = pd.read_csv(r'orders_prod_id.csv')"
   ]
  },
  {
   "cell_type": "code",
   "execution_count": 21,
   "metadata": {
    "scrolled": true
   },
   "outputs": [
    {
     "data": {
      "text/plain": [
       "(806506, 10)"
      ]
     },
     "execution_count": 21,
     "metadata": {},
     "output_type": "execute_result"
    }
   ],
   "source": [
    "df_or.shape"
   ]
  },
  {
   "cell_type": "code",
   "execution_count": 22,
   "metadata": {},
   "outputs": [
    {
     "data": {
      "text/plain": [
       "Index(['ORD_ORDER_ID', 'ITE_ITEM_ID', 'CTLG_PROD_ID', 'flag_bad_user',\n",
       "       'is_buybox', 'has_bpp', 'has_claim_seller', 'is_refund', 'GMV_USD',\n",
       "       'bpp_cashout_final'],\n",
       "      dtype='object')"
      ]
     },
     "execution_count": 22,
     "metadata": {},
     "output_type": "execute_result"
    }
   ],
   "source": [
    "df_or.columns"
   ]
  },
  {
   "cell_type": "code",
   "execution_count": 23,
   "metadata": {},
   "outputs": [
    {
     "data": {
      "text/plain": [
       "ORD_ORDER_ID           int64\n",
       "ITE_ITEM_ID            int64\n",
       "CTLG_PROD_ID           int64\n",
       "flag_bad_user          int64\n",
       "is_buybox              int64\n",
       "has_bpp                int64\n",
       "has_claim_seller       int64\n",
       "is_refund            float64\n",
       "GMV_USD              float64\n",
       "bpp_cashout_final    float64\n",
       "dtype: object"
      ]
     },
     "execution_count": 23,
     "metadata": {},
     "output_type": "execute_result"
    }
   ],
   "source": [
    "df_or.dtypes"
   ]
  },
  {
   "cell_type": "code",
   "execution_count": 24,
   "metadata": {},
   "outputs": [
    {
     "data": {
      "text/html": [
       "<div>\n",
       "<style scoped>\n",
       "    .dataframe tbody tr th:only-of-type {\n",
       "        vertical-align: middle;\n",
       "    }\n",
       "\n",
       "    .dataframe tbody tr th {\n",
       "        vertical-align: top;\n",
       "    }\n",
       "\n",
       "    .dataframe thead th {\n",
       "        text-align: right;\n",
       "    }\n",
       "</style>\n",
       "<table border=\"1\" class=\"dataframe\">\n",
       "  <thead>\n",
       "    <tr style=\"text-align: right;\">\n",
       "      <th></th>\n",
       "      <th>ORD_ORDER_ID</th>\n",
       "      <th>ITE_ITEM_ID</th>\n",
       "      <th>CTLG_PROD_ID</th>\n",
       "      <th>flag_bad_user</th>\n",
       "      <th>is_buybox</th>\n",
       "      <th>has_bpp</th>\n",
       "      <th>has_claim_seller</th>\n",
       "      <th>is_refund</th>\n",
       "      <th>GMV_USD</th>\n",
       "      <th>bpp_cashout_final</th>\n",
       "    </tr>\n",
       "  </thead>\n",
       "  <tbody>\n",
       "    <tr>\n",
       "      <th>160257</th>\n",
       "      <td>4548366648</td>\n",
       "      <td>1600451640</td>\n",
       "      <td>9488665</td>\n",
       "      <td>0</td>\n",
       "      <td>0</td>\n",
       "      <td>0</td>\n",
       "      <td>0</td>\n",
       "      <td>0.0</td>\n",
       "      <td>12.62</td>\n",
       "      <td>0.0</td>\n",
       "    </tr>\n",
       "    <tr>\n",
       "      <th>146461</th>\n",
       "      <td>4572480276</td>\n",
       "      <td>1858159245</td>\n",
       "      <td>6239418</td>\n",
       "      <td>0</td>\n",
       "      <td>1</td>\n",
       "      <td>0</td>\n",
       "      <td>0</td>\n",
       "      <td>0.0</td>\n",
       "      <td>149.33</td>\n",
       "      <td>0.0</td>\n",
       "    </tr>\n",
       "    <tr>\n",
       "      <th>470973</th>\n",
       "      <td>4560605834</td>\n",
       "      <td>1808465592</td>\n",
       "      <td>16951108</td>\n",
       "      <td>0</td>\n",
       "      <td>1</td>\n",
       "      <td>0</td>\n",
       "      <td>0</td>\n",
       "      <td>0.0</td>\n",
       "      <td>199.13</td>\n",
       "      <td>0.0</td>\n",
       "    </tr>\n",
       "    <tr>\n",
       "      <th>448206</th>\n",
       "      <td>4552306314</td>\n",
       "      <td>1614436800</td>\n",
       "      <td>11136916</td>\n",
       "      <td>0</td>\n",
       "      <td>1</td>\n",
       "      <td>0</td>\n",
       "      <td>0</td>\n",
       "      <td>0.0</td>\n",
       "      <td>23.92</td>\n",
       "      <td>0.0</td>\n",
       "    </tr>\n",
       "    <tr>\n",
       "      <th>185164</th>\n",
       "      <td>4595620238</td>\n",
       "      <td>1883400955</td>\n",
       "      <td>16211423</td>\n",
       "      <td>0</td>\n",
       "      <td>1</td>\n",
       "      <td>0</td>\n",
       "      <td>0</td>\n",
       "      <td>0.0</td>\n",
       "      <td>25.58</td>\n",
       "      <td>0.0</td>\n",
       "    </tr>\n",
       "  </tbody>\n",
       "</table>\n",
       "</div>"
      ],
      "text/plain": [
       "        ORD_ORDER_ID  ITE_ITEM_ID  CTLG_PROD_ID  flag_bad_user  is_buybox  \\\n",
       "160257    4548366648   1600451640       9488665              0          0   \n",
       "146461    4572480276   1858159245       6239418              0          1   \n",
       "470973    4560605834   1808465592      16951108              0          1   \n",
       "448206    4552306314   1614436800      11136916              0          1   \n",
       "185164    4595620238   1883400955      16211423              0          1   \n",
       "\n",
       "        has_bpp  has_claim_seller  is_refund  GMV_USD  bpp_cashout_final  \n",
       "160257        0                 0        0.0    12.62                0.0  \n",
       "146461        0                 0        0.0   149.33                0.0  \n",
       "470973        0                 0        0.0   199.13                0.0  \n",
       "448206        0                 0        0.0    23.92                0.0  \n",
       "185164        0                 0        0.0    25.58                0.0  "
      ]
     },
     "execution_count": 24,
     "metadata": {},
     "output_type": "execute_result"
    }
   ],
   "source": [
    "df_or.sample(5)"
   ]
  },
  {
   "cell_type": "markdown",
   "metadata": {},
   "source": [
    "## Join the DFs by Product ID"
   ]
  },
  {
   "cell_type": "code",
   "execution_count": 25,
   "metadata": {},
   "outputs": [],
   "source": [
    "df_f = pd.merge(left = df_d, right = df_or,\n",
    "                how = 'inner',\n",
    "                left_on='CTLG_PROD_ID', right_on='CTLG_PROD_ID')"
   ]
  },
  {
   "cell_type": "code",
   "execution_count": 26,
   "metadata": {},
   "outputs": [
    {
     "data": {
      "text/plain": [
       "(806506, 18)"
      ]
     },
     "execution_count": 26,
     "metadata": {},
     "output_type": "execute_result"
    }
   ],
   "source": [
    "df_f.shape"
   ]
  },
  {
   "cell_type": "code",
   "execution_count": 27,
   "metadata": {},
   "outputs": [
    {
     "data": {
      "text/plain": [
       "Index(['CTLG_PROD_ID', 'count', 'mean', 'std', 'min', '25%', '50%', '75%',\n",
       "       'max', 'ORD_ORDER_ID', 'ITE_ITEM_ID', 'flag_bad_user', 'is_buybox',\n",
       "       'has_bpp', 'has_claim_seller', 'is_refund', 'GMV_USD',\n",
       "       'bpp_cashout_final'],\n",
       "      dtype='object')"
      ]
     },
     "execution_count": 27,
     "metadata": {},
     "output_type": "execute_result"
    }
   ],
   "source": [
    "df_f.columns"
   ]
  },
  {
   "cell_type": "code",
   "execution_count": 28,
   "metadata": {},
   "outputs": [
    {
     "data": {
      "text/html": [
       "<div>\n",
       "<style scoped>\n",
       "    .dataframe tbody tr th:only-of-type {\n",
       "        vertical-align: middle;\n",
       "    }\n",
       "\n",
       "    .dataframe tbody tr th {\n",
       "        vertical-align: top;\n",
       "    }\n",
       "\n",
       "    .dataframe thead th {\n",
       "        text-align: right;\n",
       "    }\n",
       "</style>\n",
       "<table border=\"1\" class=\"dataframe\">\n",
       "  <thead>\n",
       "    <tr style=\"text-align: right;\">\n",
       "      <th></th>\n",
       "      <th>CTLG_PROD_ID</th>\n",
       "      <th>count</th>\n",
       "      <th>mean</th>\n",
       "      <th>std</th>\n",
       "      <th>min</th>\n",
       "      <th>25%</th>\n",
       "      <th>50%</th>\n",
       "      <th>75%</th>\n",
       "      <th>max</th>\n",
       "      <th>ORD_ORDER_ID</th>\n",
       "      <th>ITE_ITEM_ID</th>\n",
       "      <th>flag_bad_user</th>\n",
       "      <th>is_buybox</th>\n",
       "      <th>has_bpp</th>\n",
       "      <th>has_claim_seller</th>\n",
       "      <th>is_refund</th>\n",
       "      <th>GMV_USD</th>\n",
       "      <th>bpp_cashout_final</th>\n",
       "    </tr>\n",
       "  </thead>\n",
       "  <tbody>\n",
       "    <tr>\n",
       "      <th>550218</th>\n",
       "      <td>15912271</td>\n",
       "      <td>4.0</td>\n",
       "      <td>558.985000</td>\n",
       "      <td>111.685674</td>\n",
       "      <td>419.98</td>\n",
       "      <td>494.800</td>\n",
       "      <td>574.76</td>\n",
       "      <td>638.945</td>\n",
       "      <td>666.44</td>\n",
       "      <td>4590393500</td>\n",
       "      <td>1689813033</td>\n",
       "      <td>0</td>\n",
       "      <td>1</td>\n",
       "      <td>0</td>\n",
       "      <td>0</td>\n",
       "      <td>0.0</td>\n",
       "      <td>546.70</td>\n",
       "      <td>0.0</td>\n",
       "    </tr>\n",
       "    <tr>\n",
       "      <th>603801</th>\n",
       "      <td>15984003</td>\n",
       "      <td>77.0</td>\n",
       "      <td>71.754026</td>\n",
       "      <td>8.213587</td>\n",
       "      <td>58.96</td>\n",
       "      <td>70.770</td>\n",
       "      <td>71.03</td>\n",
       "      <td>74.650</td>\n",
       "      <td>114.67</td>\n",
       "      <td>4581008947</td>\n",
       "      <td>1883031524</td>\n",
       "      <td>0</td>\n",
       "      <td>1</td>\n",
       "      <td>0</td>\n",
       "      <td>0</td>\n",
       "      <td>0.0</td>\n",
       "      <td>60.76</td>\n",
       "      <td>0.0</td>\n",
       "    </tr>\n",
       "    <tr>\n",
       "      <th>385609</th>\n",
       "      <td>15257472</td>\n",
       "      <td>29.0</td>\n",
       "      <td>21.582759</td>\n",
       "      <td>9.554278</td>\n",
       "      <td>11.87</td>\n",
       "      <td>14.890</td>\n",
       "      <td>18.07</td>\n",
       "      <td>26.150</td>\n",
       "      <td>50.78</td>\n",
       "      <td>4538383569</td>\n",
       "      <td>1691805336</td>\n",
       "      <td>0</td>\n",
       "      <td>0</td>\n",
       "      <td>0</td>\n",
       "      <td>0</td>\n",
       "      <td>0.0</td>\n",
       "      <td>14.79</td>\n",
       "      <td>0.0</td>\n",
       "    </tr>\n",
       "    <tr>\n",
       "      <th>449867</th>\n",
       "      <td>15471717</td>\n",
       "      <td>27.0</td>\n",
       "      <td>74.837037</td>\n",
       "      <td>144.466065</td>\n",
       "      <td>40.17</td>\n",
       "      <td>43.555</td>\n",
       "      <td>46.08</td>\n",
       "      <td>49.540</td>\n",
       "      <td>797.20</td>\n",
       "      <td>4603669116</td>\n",
       "      <td>1884979644</td>\n",
       "      <td>0</td>\n",
       "      <td>1</td>\n",
       "      <td>0</td>\n",
       "      <td>0</td>\n",
       "      <td>0.0</td>\n",
       "      <td>45.52</td>\n",
       "      <td>0.0</td>\n",
       "    </tr>\n",
       "    <tr>\n",
       "      <th>463902</th>\n",
       "      <td>15570789</td>\n",
       "      <td>2.0</td>\n",
       "      <td>32.520000</td>\n",
       "      <td>0.000000</td>\n",
       "      <td>32.52</td>\n",
       "      <td>32.520</td>\n",
       "      <td>32.52</td>\n",
       "      <td>32.520</td>\n",
       "      <td>32.52</td>\n",
       "      <td>4583440078</td>\n",
       "      <td>1627562634</td>\n",
       "      <td>0</td>\n",
       "      <td>1</td>\n",
       "      <td>0</td>\n",
       "      <td>0</td>\n",
       "      <td>0.0</td>\n",
       "      <td>28.38</td>\n",
       "      <td>0.0</td>\n",
       "    </tr>\n",
       "  </tbody>\n",
       "</table>\n",
       "</div>"
      ],
      "text/plain": [
       "        CTLG_PROD_ID  count        mean         std     min      25%     50%  \\\n",
       "550218      15912271    4.0  558.985000  111.685674  419.98  494.800  574.76   \n",
       "603801      15984003   77.0   71.754026    8.213587   58.96   70.770   71.03   \n",
       "385609      15257472   29.0   21.582759    9.554278   11.87   14.890   18.07   \n",
       "449867      15471717   27.0   74.837037  144.466065   40.17   43.555   46.08   \n",
       "463902      15570789    2.0   32.520000    0.000000   32.52   32.520   32.52   \n",
       "\n",
       "            75%     max  ORD_ORDER_ID  ITE_ITEM_ID  flag_bad_user  is_buybox  \\\n",
       "550218  638.945  666.44    4590393500   1689813033              0          1   \n",
       "603801   74.650  114.67    4581008947   1883031524              0          1   \n",
       "385609   26.150   50.78    4538383569   1691805336              0          0   \n",
       "449867   49.540  797.20    4603669116   1884979644              0          1   \n",
       "463902   32.520   32.52    4583440078   1627562634              0          1   \n",
       "\n",
       "        has_bpp  has_claim_seller  is_refund  GMV_USD  bpp_cashout_final  \n",
       "550218        0                 0        0.0   546.70                0.0  \n",
       "603801        0                 0        0.0    60.76                0.0  \n",
       "385609        0                 0        0.0    14.79                0.0  \n",
       "449867        0                 0        0.0    45.52                0.0  \n",
       "463902        0                 0        0.0    28.38                0.0  "
      ]
     },
     "execution_count": 28,
     "metadata": {},
     "output_type": "execute_result"
    }
   ],
   "source": [
    "df_f.sample(5)"
   ]
  },
  {
   "cell_type": "markdown",
   "metadata": {},
   "source": [
    "## Create columns flag low_price for those items with price below 25% and 50%"
   ]
  },
  {
   "cell_type": "code",
   "execution_count": 29,
   "metadata": {
    "scrolled": true
   },
   "outputs": [],
   "source": [
    "df_f['Low25_Price'] = df_f.apply(lambda x: 1 if x['25%'] >= x['GMV_USD'] else 0, axis=1)"
   ]
  },
  {
   "cell_type": "code",
   "execution_count": 30,
   "metadata": {},
   "outputs": [],
   "source": [
    "df_f['Low50_Price'] = df_f.apply(lambda x: 1 if x['50%'] >= x['GMV_USD'] else 0, axis=1)"
   ]
  },
  {
   "cell_type": "code",
   "execution_count": 31,
   "metadata": {},
   "outputs": [
    {
     "data": {
      "text/html": [
       "<div>\n",
       "<style scoped>\n",
       "    .dataframe tbody tr th:only-of-type {\n",
       "        vertical-align: middle;\n",
       "    }\n",
       "\n",
       "    .dataframe tbody tr th {\n",
       "        vertical-align: top;\n",
       "    }\n",
       "\n",
       "    .dataframe thead th {\n",
       "        text-align: right;\n",
       "    }\n",
       "</style>\n",
       "<table border=\"1\" class=\"dataframe\">\n",
       "  <thead>\n",
       "    <tr style=\"text-align: right;\">\n",
       "      <th></th>\n",
       "      <th>CTLG_PROD_ID</th>\n",
       "      <th>count</th>\n",
       "      <th>mean</th>\n",
       "      <th>std</th>\n",
       "      <th>min</th>\n",
       "      <th>25%</th>\n",
       "      <th>50%</th>\n",
       "      <th>75%</th>\n",
       "      <th>max</th>\n",
       "      <th>ORD_ORDER_ID</th>\n",
       "      <th>ITE_ITEM_ID</th>\n",
       "      <th>flag_bad_user</th>\n",
       "      <th>is_buybox</th>\n",
       "      <th>has_bpp</th>\n",
       "      <th>has_claim_seller</th>\n",
       "      <th>is_refund</th>\n",
       "      <th>GMV_USD</th>\n",
       "      <th>bpp_cashout_final</th>\n",
       "      <th>Low25_Price</th>\n",
       "      <th>Low50_Price</th>\n",
       "    </tr>\n",
       "  </thead>\n",
       "  <tbody>\n",
       "    <tr>\n",
       "      <th>800324</th>\n",
       "      <td>17806731</td>\n",
       "      <td>44.0</td>\n",
       "      <td>22.441818</td>\n",
       "      <td>21.380912</td>\n",
       "      <td>2.28</td>\n",
       "      <td>3.7750</td>\n",
       "      <td>18.615</td>\n",
       "      <td>35.660</td>\n",
       "      <td>60.62</td>\n",
       "      <td>4550306669</td>\n",
       "      <td>1872082483</td>\n",
       "      <td>0</td>\n",
       "      <td>0</td>\n",
       "      <td>0</td>\n",
       "      <td>0</td>\n",
       "      <td>0.0</td>\n",
       "      <td>51.99</td>\n",
       "      <td>0.0</td>\n",
       "      <td>0</td>\n",
       "      <td>0</td>\n",
       "    </tr>\n",
       "    <tr>\n",
       "      <th>47721</th>\n",
       "      <td>6121297</td>\n",
       "      <td>72.0</td>\n",
       "      <td>85.080556</td>\n",
       "      <td>118.072867</td>\n",
       "      <td>37.99</td>\n",
       "      <td>54.9750</td>\n",
       "      <td>68.030</td>\n",
       "      <td>81.070</td>\n",
       "      <td>1054.76</td>\n",
       "      <td>4589856034</td>\n",
       "      <td>1562811951</td>\n",
       "      <td>0</td>\n",
       "      <td>1</td>\n",
       "      <td>0</td>\n",
       "      <td>0</td>\n",
       "      <td>0.0</td>\n",
       "      <td>45.64</td>\n",
       "      <td>0.0</td>\n",
       "      <td>1</td>\n",
       "      <td>1</td>\n",
       "    </tr>\n",
       "    <tr>\n",
       "      <th>168550</th>\n",
       "      <td>8019979</td>\n",
       "      <td>11.0</td>\n",
       "      <td>87.200909</td>\n",
       "      <td>142.211125</td>\n",
       "      <td>28.44</td>\n",
       "      <td>38.2950</td>\n",
       "      <td>47.340</td>\n",
       "      <td>53.815</td>\n",
       "      <td>515.24</td>\n",
       "      <td>4541858899</td>\n",
       "      <td>1853108457</td>\n",
       "      <td>0</td>\n",
       "      <td>1</td>\n",
       "      <td>0</td>\n",
       "      <td>0</td>\n",
       "      <td>0.0</td>\n",
       "      <td>30.88</td>\n",
       "      <td>0.0</td>\n",
       "      <td>1</td>\n",
       "      <td>1</td>\n",
       "    </tr>\n",
       "    <tr>\n",
       "      <th>749488</th>\n",
       "      <td>16995137</td>\n",
       "      <td>5.0</td>\n",
       "      <td>4.094000</td>\n",
       "      <td>1.198282</td>\n",
       "      <td>3.17</td>\n",
       "      <td>3.3800</td>\n",
       "      <td>3.780</td>\n",
       "      <td>3.980</td>\n",
       "      <td>6.16</td>\n",
       "      <td>4580810397</td>\n",
       "      <td>1871437843</td>\n",
       "      <td>0</td>\n",
       "      <td>1</td>\n",
       "      <td>0</td>\n",
       "      <td>0</td>\n",
       "      <td>0.0</td>\n",
       "      <td>3.78</td>\n",
       "      <td>0.0</td>\n",
       "      <td>0</td>\n",
       "      <td>1</td>\n",
       "    </tr>\n",
       "    <tr>\n",
       "      <th>324545</th>\n",
       "      <td>14682774</td>\n",
       "      <td>34.0</td>\n",
       "      <td>326.411765</td>\n",
       "      <td>282.600523</td>\n",
       "      <td>133.58</td>\n",
       "      <td>169.4825</td>\n",
       "      <td>176.370</td>\n",
       "      <td>373.590</td>\n",
       "      <td>1562.78</td>\n",
       "      <td>4561812016</td>\n",
       "      <td>1830040927</td>\n",
       "      <td>0</td>\n",
       "      <td>0</td>\n",
       "      <td>0</td>\n",
       "      <td>0</td>\n",
       "      <td>0.0</td>\n",
       "      <td>457.80</td>\n",
       "      <td>0.0</td>\n",
       "      <td>0</td>\n",
       "      <td>0</td>\n",
       "    </tr>\n",
       "  </tbody>\n",
       "</table>\n",
       "</div>"
      ],
      "text/plain": [
       "        CTLG_PROD_ID  count        mean         std     min       25%  \\\n",
       "800324      17806731   44.0   22.441818   21.380912    2.28    3.7750   \n",
       "47721        6121297   72.0   85.080556  118.072867   37.99   54.9750   \n",
       "168550       8019979   11.0   87.200909  142.211125   28.44   38.2950   \n",
       "749488      16995137    5.0    4.094000    1.198282    3.17    3.3800   \n",
       "324545      14682774   34.0  326.411765  282.600523  133.58  169.4825   \n",
       "\n",
       "            50%      75%      max  ORD_ORDER_ID  ITE_ITEM_ID  flag_bad_user  \\\n",
       "800324   18.615   35.660    60.62    4550306669   1872082483              0   \n",
       "47721    68.030   81.070  1054.76    4589856034   1562811951              0   \n",
       "168550   47.340   53.815   515.24    4541858899   1853108457              0   \n",
       "749488    3.780    3.980     6.16    4580810397   1871437843              0   \n",
       "324545  176.370  373.590  1562.78    4561812016   1830040927              0   \n",
       "\n",
       "        is_buybox  has_bpp  has_claim_seller  is_refund  GMV_USD  \\\n",
       "800324          0        0                 0        0.0    51.99   \n",
       "47721           1        0                 0        0.0    45.64   \n",
       "168550          1        0                 0        0.0    30.88   \n",
       "749488          1        0                 0        0.0     3.78   \n",
       "324545          0        0                 0        0.0   457.80   \n",
       "\n",
       "        bpp_cashout_final  Low25_Price  Low50_Price  \n",
       "800324                0.0            0            0  \n",
       "47721                 0.0            1            1  \n",
       "168550                0.0            1            1  \n",
       "749488                0.0            0            1  \n",
       "324545                0.0            0            0  "
      ]
     },
     "execution_count": 31,
     "metadata": {},
     "output_type": "execute_result"
    }
   ],
   "source": [
    "df_f.sample(5)"
   ]
  },
  {
   "cell_type": "code",
   "execution_count": null,
   "metadata": {},
   "outputs": [],
   "source": []
  },
  {
   "cell_type": "code",
   "execution_count": null,
   "metadata": {},
   "outputs": [],
   "source": []
  },
  {
   "cell_type": "code",
   "execution_count": null,
   "metadata": {},
   "outputs": [],
   "source": [
    "df_f.plot(kind='bar', figsize=(10, 6))"
   ]
  },
  {
   "cell_type": "code",
   "execution_count": null,
   "metadata": {},
   "outputs": [],
   "source": []
  },
  {
   "cell_type": "code",
   "execution_count": null,
   "metadata": {},
   "outputs": [],
   "source": []
  },
  {
   "cell_type": "code",
   "execution_count": null,
   "metadata": {},
   "outputs": [],
   "source": []
  },
  {
   "cell_type": "code",
   "execution_count": null,
   "metadata": {},
   "outputs": [],
   "source": []
  },
  {
   "cell_type": "code",
   "execution_count": null,
   "metadata": {},
   "outputs": [],
   "source": []
  },
  {
   "cell_type": "code",
   "execution_count": null,
   "metadata": {},
   "outputs": [],
   "source": [
    "#df_ratios['extremos']= df_ratios.apply(lambda x: 'caso1' if x['ratio_recla_1m']> 0.3 and x['ratio_cashout_1m']> 0.3 and x['ratio_ref_1m']> 0.3 and x['ratio_claims_1m']> 0.3 else 'no',axis=1)\n"
   ]
  },
  {
   "cell_type": "code",
   "execution_count": null,
   "metadata": {},
   "outputs": [],
   "source": [
    "#df['adicionales']= df.apply(lambda x: 'caso1' if x['gmv_90d']<= 0 else('caso2' if  x['gmv_30d']<=0  else 'no'),axis=1)\n"
   ]
  },
  {
   "cell_type": "code",
   "execution_count": null,
   "metadata": {},
   "outputs": [],
   "source": []
  },
  {
   "cell_type": "code",
   "execution_count": null,
   "metadata": {},
   "outputs": [],
   "source": []
  }
 ],
 "metadata": {
  "kernelspec": {
   "display_name": "Python 3",
   "language": "python",
   "name": "python3"
  },
  "language_info": {
   "codemirror_mode": {
    "name": "ipython",
    "version": 3
   },
   "file_extension": ".py",
   "mimetype": "text/x-python",
   "name": "python",
   "nbconvert_exporter": "python",
   "pygments_lexer": "ipython3",
   "version": "3.8.5"
  }
 },
 "nbformat": 4,
 "nbformat_minor": 4
}
