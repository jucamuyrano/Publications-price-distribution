{
 "cells": [
  {
   "cell_type": "markdown",
   "metadata": {},
   "source": [
    "## Import libraries"
   ]
  },
  {
   "cell_type": "code",
   "execution_count": 4,
   "metadata": {},
   "outputs": [],
   "source": [
    "import pandas as pd\n",
    "import numpy as np\n",
    "import os\n",
    "import matplotlib.pyplot as plt\n",
    "import seaborn as sns\n",
    "from datetime import datetime"
   ]
  },
  {
   "cell_type": "markdown",
   "metadata": {},
   "source": [
    "## Upload Data Base"
   ]
  },
  {
   "cell_type": "code",
   "execution_count": 2,
   "metadata": {},
   "outputs": [],
   "source": [
    "df = pd.read_csv(r'base_pubs.csv')"
   ]
  },
  {
   "cell_type": "code",
   "execution_count": 3,
   "metadata": {},
   "outputs": [
    {
     "data": {
      "text/plain": [
       "(208012, 7)"
      ]
     },
     "execution_count": 3,
     "metadata": {},
     "output_type": "execute_result"
    }
   ],
   "source": [
    "df.shape"
   ]
  },
  {
   "cell_type": "code",
   "execution_count": 4,
   "metadata": {},
   "outputs": [
    {
     "data": {
      "text/plain": [
       "Index(['CTLG_PROD_ID', 'SIT_SITE_ID', 'ITE_ITEM_ID', 'ITE_BASE_CURRENT_PRICE',\n",
       "       'ITE_STATUS', 'CAT_CATEG_ID_L7', 'CAT_CATEG_ID_L1'],\n",
       "      dtype='object')"
      ]
     },
     "execution_count": 4,
     "metadata": {},
     "output_type": "execute_result"
    }
   ],
   "source": [
    "df.columns"
   ]
  },
  {
   "cell_type": "code",
   "execution_count": 5,
   "metadata": {
    "scrolled": true
   },
   "outputs": [
    {
     "data": {
      "text/html": [
       "<div>\n",
       "<style scoped>\n",
       "    .dataframe tbody tr th:only-of-type {\n",
       "        vertical-align: middle;\n",
       "    }\n",
       "\n",
       "    .dataframe tbody tr th {\n",
       "        vertical-align: top;\n",
       "    }\n",
       "\n",
       "    .dataframe thead th {\n",
       "        text-align: right;\n",
       "    }\n",
       "</style>\n",
       "<table border=\"1\" class=\"dataframe\">\n",
       "  <thead>\n",
       "    <tr style=\"text-align: right;\">\n",
       "      <th></th>\n",
       "      <th>CTLG_PROD_ID</th>\n",
       "      <th>SIT_SITE_ID</th>\n",
       "      <th>ITE_ITEM_ID</th>\n",
       "      <th>ITE_BASE_CURRENT_PRICE</th>\n",
       "      <th>ITE_STATUS</th>\n",
       "      <th>CAT_CATEG_ID_L7</th>\n",
       "      <th>CAT_CATEG_ID_L1</th>\n",
       "    </tr>\n",
       "  </thead>\n",
       "  <tbody>\n",
       "    <tr>\n",
       "      <th>0</th>\n",
       "      <td>15914455.0</td>\n",
       "      <td>MLB</td>\n",
       "      <td>1730834725</td>\n",
       "      <td>209.80</td>\n",
       "      <td>active</td>\n",
       "      <td>196208</td>\n",
       "      <td>1000</td>\n",
       "    </tr>\n",
       "    <tr>\n",
       "      <th>1</th>\n",
       "      <td>NaN</td>\n",
       "      <td>MLB</td>\n",
       "      <td>1932231953</td>\n",
       "      <td>80.50</td>\n",
       "      <td>active</td>\n",
       "      <td>1672</td>\n",
       "      <td>1648</td>\n",
       "    </tr>\n",
       "    <tr>\n",
       "      <th>2</th>\n",
       "      <td>16255367.0</td>\n",
       "      <td>MLB</td>\n",
       "      <td>1940727918</td>\n",
       "      <td>77.31</td>\n",
       "      <td>active</td>\n",
       "      <td>6777</td>\n",
       "      <td>1648</td>\n",
       "    </tr>\n",
       "    <tr>\n",
       "      <th>3</th>\n",
       "      <td>14727339.0</td>\n",
       "      <td>MLB</td>\n",
       "      <td>1756695472</td>\n",
       "      <td>13.38</td>\n",
       "      <td>active</td>\n",
       "      <td>1714</td>\n",
       "      <td>1648</td>\n",
       "    </tr>\n",
       "    <tr>\n",
       "      <th>4</th>\n",
       "      <td>6084026.0</td>\n",
       "      <td>MLB</td>\n",
       "      <td>1900682550</td>\n",
       "      <td>28.39</td>\n",
       "      <td>active</td>\n",
       "      <td>186456</td>\n",
       "      <td>1144</td>\n",
       "    </tr>\n",
       "  </tbody>\n",
       "</table>\n",
       "</div>"
      ],
      "text/plain": [
       "   CTLG_PROD_ID SIT_SITE_ID  ITE_ITEM_ID  ITE_BASE_CURRENT_PRICE ITE_STATUS  \\\n",
       "0    15914455.0      MLB      1730834725                  209.80     active   \n",
       "1           NaN      MLB      1932231953                   80.50     active   \n",
       "2    16255367.0      MLB      1940727918                   77.31     active   \n",
       "3    14727339.0      MLB      1756695472                   13.38     active   \n",
       "4     6084026.0      MLB      1900682550                   28.39     active   \n",
       "\n",
       "   CAT_CATEG_ID_L7  CAT_CATEG_ID_L1  \n",
       "0           196208             1000  \n",
       "1             1672             1648  \n",
       "2             6777             1648  \n",
       "3             1714             1648  \n",
       "4           186456             1144  "
      ]
     },
     "execution_count": 5,
     "metadata": {},
     "output_type": "execute_result"
    }
   ],
   "source": [
    "df.head()"
   ]
  },
  {
   "cell_type": "code",
   "execution_count": 6,
   "metadata": {},
   "outputs": [
    {
     "data": {
      "text/plain": [
       "CTLG_PROD_ID              float64\n",
       "SIT_SITE_ID                object\n",
       "ITE_ITEM_ID                 int64\n",
       "ITE_BASE_CURRENT_PRICE    float64\n",
       "ITE_STATUS                 object\n",
       "CAT_CATEG_ID_L7             int64\n",
       "CAT_CATEG_ID_L1             int64\n",
       "dtype: object"
      ]
     },
     "execution_count": 6,
     "metadata": {},
     "output_type": "execute_result"
    }
   ],
   "source": [
    "df.dtypes"
   ]
  },
  {
   "cell_type": "markdown",
   "metadata": {},
   "source": [
    "## Drop NaN rows"
   ]
  },
  {
   "cell_type": "code",
   "execution_count": 7,
   "metadata": {
    "scrolled": true
   },
   "outputs": [
    {
     "data": {
      "text/plain": [
       "3277"
      ]
     },
     "execution_count": 7,
     "metadata": {},
     "output_type": "execute_result"
    }
   ],
   "source": [
    "countNaN = df['CTLG_PROD_ID'].isna().sum()\n",
    "countNaN"
   ]
  },
  {
   "cell_type": "code",
   "execution_count": 8,
   "metadata": {},
   "outputs": [],
   "source": [
    "df.dropna(subset = ['CTLG_PROD_ID'], inplace=True)"
   ]
  },
  {
   "cell_type": "code",
   "execution_count": 9,
   "metadata": {},
   "outputs": [
    {
     "data": {
      "text/plain": [
       "0"
      ]
     },
     "execution_count": 9,
     "metadata": {},
     "output_type": "execute_result"
    }
   ],
   "source": [
    "countNaN = df['CTLG_PROD_ID'].isna().sum()\n",
    "countNaN"
   ]
  },
  {
   "cell_type": "markdown",
   "metadata": {},
   "source": [
    "## Change data type"
   ]
  },
  {
   "cell_type": "code",
   "execution_count": 10,
   "metadata": {},
   "outputs": [],
   "source": [
    "df['CTLG_PROD_ID']=df['CTLG_PROD_ID'].astype('int')"
   ]
  },
  {
   "cell_type": "code",
   "execution_count": 11,
   "metadata": {},
   "outputs": [
    {
     "data": {
      "text/plain": [
       "dtype('int64')"
      ]
     },
     "execution_count": 11,
     "metadata": {},
     "output_type": "execute_result"
    }
   ],
   "source": [
    "df['CTLG_PROD_ID'].dtypes"
   ]
  },
  {
   "cell_type": "markdown",
   "metadata": {},
   "source": [
    "## Describe of the prices of the products"
   ]
  },
  {
   "cell_type": "code",
   "execution_count": 12,
   "metadata": {},
   "outputs": [
    {
     "data": {
      "text/html": [
       "<div>\n",
       "<style scoped>\n",
       "    .dataframe tbody tr th:only-of-type {\n",
       "        vertical-align: middle;\n",
       "    }\n",
       "\n",
       "    .dataframe tbody tr th {\n",
       "        vertical-align: top;\n",
       "    }\n",
       "\n",
       "    .dataframe thead th {\n",
       "        text-align: right;\n",
       "    }\n",
       "</style>\n",
       "<table border=\"1\" class=\"dataframe\">\n",
       "  <thead>\n",
       "    <tr style=\"text-align: right;\">\n",
       "      <th></th>\n",
       "      <th>count</th>\n",
       "      <th>mean</th>\n",
       "      <th>std</th>\n",
       "      <th>min</th>\n",
       "      <th>25%</th>\n",
       "      <th>50%</th>\n",
       "      <th>75%</th>\n",
       "      <th>max</th>\n",
       "    </tr>\n",
       "    <tr>\n",
       "      <th>CTLG_PROD_ID</th>\n",
       "      <th></th>\n",
       "      <th></th>\n",
       "      <th></th>\n",
       "      <th></th>\n",
       "      <th></th>\n",
       "      <th></th>\n",
       "      <th></th>\n",
       "      <th></th>\n",
       "    </tr>\n",
       "  </thead>\n",
       "  <tbody>\n",
       "    <tr>\n",
       "      <th>633</th>\n",
       "      <td>1.0</td>\n",
       "      <td>66.890000</td>\n",
       "      <td>NaN</td>\n",
       "      <td>66.89</td>\n",
       "      <td>66.89</td>\n",
       "      <td>66.89</td>\n",
       "      <td>66.890</td>\n",
       "      <td>66.89</td>\n",
       "    </tr>\n",
       "    <tr>\n",
       "      <th>5020</th>\n",
       "      <td>1.0</td>\n",
       "      <td>43.910000</td>\n",
       "      <td>NaN</td>\n",
       "      <td>43.91</td>\n",
       "      <td>43.91</td>\n",
       "      <td>43.91</td>\n",
       "      <td>43.910</td>\n",
       "      <td>43.91</td>\n",
       "    </tr>\n",
       "    <tr>\n",
       "      <th>11438</th>\n",
       "      <td>1.0</td>\n",
       "      <td>931.850000</td>\n",
       "      <td>NaN</td>\n",
       "      <td>931.85</td>\n",
       "      <td>931.85</td>\n",
       "      <td>931.85</td>\n",
       "      <td>931.850</td>\n",
       "      <td>931.85</td>\n",
       "    </tr>\n",
       "    <tr>\n",
       "      <th>101022</th>\n",
       "      <td>1.0</td>\n",
       "      <td>432.520000</td>\n",
       "      <td>NaN</td>\n",
       "      <td>432.52</td>\n",
       "      <td>432.52</td>\n",
       "      <td>432.52</td>\n",
       "      <td>432.520</td>\n",
       "      <td>432.52</td>\n",
       "    </tr>\n",
       "    <tr>\n",
       "      <th>802465</th>\n",
       "      <td>27.0</td>\n",
       "      <td>153.065556</td>\n",
       "      <td>18.054667</td>\n",
       "      <td>131.70</td>\n",
       "      <td>141.94</td>\n",
       "      <td>148.65</td>\n",
       "      <td>156.525</td>\n",
       "      <td>201.61</td>\n",
       "    </tr>\n",
       "    <tr>\n",
       "      <th>...</th>\n",
       "      <td>...</td>\n",
       "      <td>...</td>\n",
       "      <td>...</td>\n",
       "      <td>...</td>\n",
       "      <td>...</td>\n",
       "      <td>...</td>\n",
       "      <td>...</td>\n",
       "      <td>...</td>\n",
       "    </tr>\n",
       "    <tr>\n",
       "      <th>18209455</th>\n",
       "      <td>13.0</td>\n",
       "      <td>598.552308</td>\n",
       "      <td>195.217031</td>\n",
       "      <td>362.71</td>\n",
       "      <td>362.71</td>\n",
       "      <td>643.31</td>\n",
       "      <td>710.210</td>\n",
       "      <td>1008.65</td>\n",
       "    </tr>\n",
       "    <tr>\n",
       "      <th>18209881</th>\n",
       "      <td>1.0</td>\n",
       "      <td>248.630000</td>\n",
       "      <td>NaN</td>\n",
       "      <td>248.63</td>\n",
       "      <td>248.63</td>\n",
       "      <td>248.63</td>\n",
       "      <td>248.630</td>\n",
       "      <td>248.63</td>\n",
       "    </tr>\n",
       "    <tr>\n",
       "      <th>18213136</th>\n",
       "      <td>1.0</td>\n",
       "      <td>187.130000</td>\n",
       "      <td>NaN</td>\n",
       "      <td>187.13</td>\n",
       "      <td>187.13</td>\n",
       "      <td>187.13</td>\n",
       "      <td>187.130</td>\n",
       "      <td>187.13</td>\n",
       "    </tr>\n",
       "    <tr>\n",
       "      <th>18217813</th>\n",
       "      <td>3.0</td>\n",
       "      <td>192.546667</td>\n",
       "      <td>38.656023</td>\n",
       "      <td>163.02</td>\n",
       "      <td>170.67</td>\n",
       "      <td>178.32</td>\n",
       "      <td>207.310</td>\n",
       "      <td>236.30</td>\n",
       "    </tr>\n",
       "    <tr>\n",
       "      <th>18235364</th>\n",
       "      <td>5.0</td>\n",
       "      <td>44.490000</td>\n",
       "      <td>6.717418</td>\n",
       "      <td>38.53</td>\n",
       "      <td>39.18</td>\n",
       "      <td>43.70</td>\n",
       "      <td>45.860</td>\n",
       "      <td>55.18</td>\n",
       "    </tr>\n",
       "  </tbody>\n",
       "</table>\n",
       "<p>13593 rows × 8 columns</p>\n",
       "</div>"
      ],
      "text/plain": [
       "              count        mean         std     min     25%     50%      75%  \\\n",
       "CTLG_PROD_ID                                                                   \n",
       "633             1.0   66.890000         NaN   66.89   66.89   66.89   66.890   \n",
       "5020            1.0   43.910000         NaN   43.91   43.91   43.91   43.910   \n",
       "11438           1.0  931.850000         NaN  931.85  931.85  931.85  931.850   \n",
       "101022          1.0  432.520000         NaN  432.52  432.52  432.52  432.520   \n",
       "802465         27.0  153.065556   18.054667  131.70  141.94  148.65  156.525   \n",
       "...             ...         ...         ...     ...     ...     ...      ...   \n",
       "18209455       13.0  598.552308  195.217031  362.71  362.71  643.31  710.210   \n",
       "18209881        1.0  248.630000         NaN  248.63  248.63  248.63  248.630   \n",
       "18213136        1.0  187.130000         NaN  187.13  187.13  187.13  187.130   \n",
       "18217813        3.0  192.546667   38.656023  163.02  170.67  178.32  207.310   \n",
       "18235364        5.0   44.490000    6.717418   38.53   39.18   43.70   45.860   \n",
       "\n",
       "                  max  \n",
       "CTLG_PROD_ID           \n",
       "633             66.89  \n",
       "5020            43.91  \n",
       "11438          931.85  \n",
       "101022         432.52  \n",
       "802465         201.61  \n",
       "...               ...  \n",
       "18209455      1008.65  \n",
       "18209881       248.63  \n",
       "18213136       187.13  \n",
       "18217813       236.30  \n",
       "18235364        55.18  \n",
       "\n",
       "[13593 rows x 8 columns]"
      ]
     },
     "execution_count": 12,
     "metadata": {},
     "output_type": "execute_result"
    }
   ],
   "source": [
    "gb=df.groupby(['CTLG_PROD_ID'])\n",
    "df_d=gb['ITE_BASE_CURRENT_PRICE'].describe()\n",
    "df_d"
   ]
  },
  {
   "cell_type": "markdown",
   "metadata": {},
   "source": [
    "## Drop rows with NaN std"
   ]
  },
  {
   "cell_type": "code",
   "execution_count": 13,
   "metadata": {},
   "outputs": [
    {
     "data": {
      "text/plain": [
       "2930"
      ]
     },
     "execution_count": 13,
     "metadata": {},
     "output_type": "execute_result"
    }
   ],
   "source": [
    "countNaN = df_d['std'].isna().sum()\n",
    "countNaN"
   ]
  },
  {
   "cell_type": "code",
   "execution_count": 14,
   "metadata": {},
   "outputs": [],
   "source": [
    "df_d.dropna(subset = ['std'], inplace=True)"
   ]
  },
  {
   "cell_type": "code",
   "execution_count": 15,
   "metadata": {},
   "outputs": [
    {
     "data": {
      "text/plain": [
       "0"
      ]
     },
     "execution_count": 15,
     "metadata": {},
     "output_type": "execute_result"
    }
   ],
   "source": [
    "countNaN = df_d['std'].isna().sum()\n",
    "countNaN"
   ]
  },
  {
   "cell_type": "markdown",
   "metadata": {},
   "source": [
    "## Reset the index"
   ]
  },
  {
   "cell_type": "code",
   "execution_count": 16,
   "metadata": {},
   "outputs": [],
   "source": [
    "df_d=df_d.reset_index()"
   ]
  },
  {
   "cell_type": "code",
   "execution_count": 17,
   "metadata": {},
   "outputs": [
    {
     "data": {
      "text/html": [
       "<div>\n",
       "<style scoped>\n",
       "    .dataframe tbody tr th:only-of-type {\n",
       "        vertical-align: middle;\n",
       "    }\n",
       "\n",
       "    .dataframe tbody tr th {\n",
       "        vertical-align: top;\n",
       "    }\n",
       "\n",
       "    .dataframe thead th {\n",
       "        text-align: right;\n",
       "    }\n",
       "</style>\n",
       "<table border=\"1\" class=\"dataframe\">\n",
       "  <thead>\n",
       "    <tr style=\"text-align: right;\">\n",
       "      <th></th>\n",
       "      <th>CTLG_PROD_ID</th>\n",
       "      <th>count</th>\n",
       "      <th>mean</th>\n",
       "      <th>std</th>\n",
       "      <th>min</th>\n",
       "      <th>25%</th>\n",
       "      <th>50%</th>\n",
       "      <th>75%</th>\n",
       "      <th>max</th>\n",
       "    </tr>\n",
       "  </thead>\n",
       "  <tbody>\n",
       "    <tr>\n",
       "      <th>0</th>\n",
       "      <td>802465</td>\n",
       "      <td>27.0</td>\n",
       "      <td>153.065556</td>\n",
       "      <td>18.054667</td>\n",
       "      <td>131.70</td>\n",
       "      <td>141.940</td>\n",
       "      <td>148.65</td>\n",
       "      <td>156.525</td>\n",
       "      <td>201.61</td>\n",
       "    </tr>\n",
       "    <tr>\n",
       "      <th>1</th>\n",
       "      <td>802499</td>\n",
       "      <td>11.0</td>\n",
       "      <td>63.684545</td>\n",
       "      <td>7.481744</td>\n",
       "      <td>49.25</td>\n",
       "      <td>63.455</td>\n",
       "      <td>67.19</td>\n",
       "      <td>67.190</td>\n",
       "      <td>70.14</td>\n",
       "    </tr>\n",
       "    <tr>\n",
       "      <th>2</th>\n",
       "      <td>802500</td>\n",
       "      <td>9.0</td>\n",
       "      <td>75.371111</td>\n",
       "      <td>7.870711</td>\n",
       "      <td>60.67</td>\n",
       "      <td>70.600</td>\n",
       "      <td>77.27</td>\n",
       "      <td>81.440</td>\n",
       "      <td>83.46</td>\n",
       "    </tr>\n",
       "    <tr>\n",
       "      <th>3</th>\n",
       "      <td>802523</td>\n",
       "      <td>33.0</td>\n",
       "      <td>44.114545</td>\n",
       "      <td>7.164920</td>\n",
       "      <td>31.19</td>\n",
       "      <td>38.640</td>\n",
       "      <td>45.46</td>\n",
       "      <td>47.610</td>\n",
       "      <td>60.94</td>\n",
       "    </tr>\n",
       "    <tr>\n",
       "      <th>4</th>\n",
       "      <td>802544</td>\n",
       "      <td>47.0</td>\n",
       "      <td>106.392979</td>\n",
       "      <td>20.900336</td>\n",
       "      <td>74.61</td>\n",
       "      <td>97.760</td>\n",
       "      <td>99.40</td>\n",
       "      <td>109.840</td>\n",
       "      <td>181.78</td>\n",
       "    </tr>\n",
       "  </tbody>\n",
       "</table>\n",
       "</div>"
      ],
      "text/plain": [
       "   CTLG_PROD_ID  count        mean        std     min      25%     50%  \\\n",
       "0        802465   27.0  153.065556  18.054667  131.70  141.940  148.65   \n",
       "1        802499   11.0   63.684545   7.481744   49.25   63.455   67.19   \n",
       "2        802500    9.0   75.371111   7.870711   60.67   70.600   77.27   \n",
       "3        802523   33.0   44.114545   7.164920   31.19   38.640   45.46   \n",
       "4        802544   47.0  106.392979  20.900336   74.61   97.760   99.40   \n",
       "\n",
       "       75%     max  \n",
       "0  156.525  201.61  \n",
       "1   67.190   70.14  \n",
       "2   81.440   83.46  \n",
       "3   47.610   60.94  \n",
       "4  109.840  181.78  "
      ]
     },
     "execution_count": 17,
     "metadata": {},
     "output_type": "execute_result"
    }
   ],
   "source": [
    "df_d.head()"
   ]
  },
  {
   "cell_type": "code",
   "execution_count": 18,
   "metadata": {},
   "outputs": [
    {
     "data": {
      "text/plain": [
       "(10663, 9)"
      ]
     },
     "execution_count": 18,
     "metadata": {},
     "output_type": "execute_result"
    }
   ],
   "source": [
    "df_d.shape"
   ]
  },
  {
   "cell_type": "markdown",
   "metadata": {},
   "source": [
    "## Export the products IDs"
   ]
  },
  {
   "cell_type": "code",
   "execution_count": 19,
   "metadata": {},
   "outputs": [],
   "source": [
    "#ID=df_d['CTLG_PROD_ID']\n",
    "#ID.to_csv(r'products_id.csv', index = False)"
   ]
  },
  {
   "cell_type": "markdown",
   "metadata": {},
   "source": [
    "## Upload of orders data base"
   ]
  },
  {
   "cell_type": "code",
   "execution_count": 20,
   "metadata": {},
   "outputs": [],
   "source": [
    "df_or = pd.read_csv(r'orders_prod_id.csv')"
   ]
  },
  {
   "cell_type": "code",
   "execution_count": 21,
   "metadata": {
    "scrolled": true
   },
   "outputs": [
    {
     "data": {
      "text/plain": [
       "(806506, 10)"
      ]
     },
     "execution_count": 21,
     "metadata": {},
     "output_type": "execute_result"
    }
   ],
   "source": [
    "df_or.shape"
   ]
  },
  {
   "cell_type": "code",
   "execution_count": 22,
   "metadata": {},
   "outputs": [
    {
     "data": {
      "text/plain": [
       "Index(['ORD_ORDER_ID', 'ITE_ITEM_ID', 'CTLG_PROD_ID', 'flag_bad_user',\n",
       "       'is_buybox', 'has_bpp', 'has_claim_seller', 'is_refund', 'GMV_USD',\n",
       "       'bpp_cashout_final'],\n",
       "      dtype='object')"
      ]
     },
     "execution_count": 22,
     "metadata": {},
     "output_type": "execute_result"
    }
   ],
   "source": [
    "df_or.columns"
   ]
  },
  {
   "cell_type": "code",
   "execution_count": 23,
   "metadata": {},
   "outputs": [
    {
     "data": {
      "text/plain": [
       "ORD_ORDER_ID           int64\n",
       "ITE_ITEM_ID            int64\n",
       "CTLG_PROD_ID           int64\n",
       "flag_bad_user          int64\n",
       "is_buybox              int64\n",
       "has_bpp                int64\n",
       "has_claim_seller       int64\n",
       "is_refund            float64\n",
       "GMV_USD              float64\n",
       "bpp_cashout_final    float64\n",
       "dtype: object"
      ]
     },
     "execution_count": 23,
     "metadata": {},
     "output_type": "execute_result"
    }
   ],
   "source": [
    "df_or.dtypes"
   ]
  },
  {
   "cell_type": "code",
   "execution_count": 24,
   "metadata": {},
   "outputs": [
    {
     "data": {
      "text/html": [
       "<div>\n",
       "<style scoped>\n",
       "    .dataframe tbody tr th:only-of-type {\n",
       "        vertical-align: middle;\n",
       "    }\n",
       "\n",
       "    .dataframe tbody tr th {\n",
       "        vertical-align: top;\n",
       "    }\n",
       "\n",
       "    .dataframe thead th {\n",
       "        text-align: right;\n",
       "    }\n",
       "</style>\n",
       "<table border=\"1\" class=\"dataframe\">\n",
       "  <thead>\n",
       "    <tr style=\"text-align: right;\">\n",
       "      <th></th>\n",
       "      <th>ORD_ORDER_ID</th>\n",
       "      <th>ITE_ITEM_ID</th>\n",
       "      <th>CTLG_PROD_ID</th>\n",
       "      <th>flag_bad_user</th>\n",
       "      <th>is_buybox</th>\n",
       "      <th>has_bpp</th>\n",
       "      <th>has_claim_seller</th>\n",
       "      <th>is_refund</th>\n",
       "      <th>GMV_USD</th>\n",
       "      <th>bpp_cashout_final</th>\n",
       "    </tr>\n",
       "  </thead>\n",
       "  <tbody>\n",
       "    <tr>\n",
       "      <th>160257</th>\n",
       "      <td>4548366648</td>\n",
       "      <td>1600451640</td>\n",
       "      <td>9488665</td>\n",
       "      <td>0</td>\n",
       "      <td>0</td>\n",
       "      <td>0</td>\n",
       "      <td>0</td>\n",
       "      <td>0.0</td>\n",
       "      <td>12.62</td>\n",
       "      <td>0.0</td>\n",
       "    </tr>\n",
       "    <tr>\n",
       "      <th>146461</th>\n",
       "      <td>4572480276</td>\n",
       "      <td>1858159245</td>\n",
       "      <td>6239418</td>\n",
       "      <td>0</td>\n",
       "      <td>1</td>\n",
       "      <td>0</td>\n",
       "      <td>0</td>\n",
       "      <td>0.0</td>\n",
       "      <td>149.33</td>\n",
       "      <td>0.0</td>\n",
       "    </tr>\n",
       "    <tr>\n",
       "      <th>470973</th>\n",
       "      <td>4560605834</td>\n",
       "      <td>1808465592</td>\n",
       "      <td>16951108</td>\n",
       "      <td>0</td>\n",
       "      <td>1</td>\n",
       "      <td>0</td>\n",
       "      <td>0</td>\n",
       "      <td>0.0</td>\n",
       "      <td>199.13</td>\n",
       "      <td>0.0</td>\n",
       "    </tr>\n",
       "    <tr>\n",
       "      <th>448206</th>\n",
       "      <td>4552306314</td>\n",
       "      <td>1614436800</td>\n",
       "      <td>11136916</td>\n",
       "      <td>0</td>\n",
       "      <td>1</td>\n",
       "      <td>0</td>\n",
       "      <td>0</td>\n",
       "      <td>0.0</td>\n",
       "      <td>23.92</td>\n",
       "      <td>0.0</td>\n",
       "    </tr>\n",
       "    <tr>\n",
       "      <th>185164</th>\n",
       "      <td>4595620238</td>\n",
       "      <td>1883400955</td>\n",
       "      <td>16211423</td>\n",
       "      <td>0</td>\n",
       "      <td>1</td>\n",
       "      <td>0</td>\n",
       "      <td>0</td>\n",
       "      <td>0.0</td>\n",
       "      <td>25.58</td>\n",
       "      <td>0.0</td>\n",
       "    </tr>\n",
       "  </tbody>\n",
       "</table>\n",
       "</div>"
      ],
      "text/plain": [
       "        ORD_ORDER_ID  ITE_ITEM_ID  CTLG_PROD_ID  flag_bad_user  is_buybox  \\\n",
       "160257    4548366648   1600451640       9488665              0          0   \n",
       "146461    4572480276   1858159245       6239418              0          1   \n",
       "470973    4560605834   1808465592      16951108              0          1   \n",
       "448206    4552306314   1614436800      11136916              0          1   \n",
       "185164    4595620238   1883400955      16211423              0          1   \n",
       "\n",
       "        has_bpp  has_claim_seller  is_refund  GMV_USD  bpp_cashout_final  \n",
       "160257        0                 0        0.0    12.62                0.0  \n",
       "146461        0                 0        0.0   149.33                0.0  \n",
       "470973        0                 0        0.0   199.13                0.0  \n",
       "448206        0                 0        0.0    23.92                0.0  \n",
       "185164        0                 0        0.0    25.58                0.0  "
      ]
     },
     "execution_count": 24,
     "metadata": {},
     "output_type": "execute_result"
    }
   ],
   "source": [
    "df_or.sample(5)"
   ]
  },
  {
   "cell_type": "markdown",
   "metadata": {},
   "source": [
    "## Join the DFs by Product ID"
   ]
  },
  {
   "cell_type": "code",
   "execution_count": 25,
   "metadata": {},
   "outputs": [],
   "source": [
    "df_f = pd.merge(left = df_d, right = df_or,\n",
    "                how = 'inner',\n",
    "                left_on='CTLG_PROD_ID', right_on='CTLG_PROD_ID')"
   ]
  },
  {
   "cell_type": "code",
   "execution_count": 26,
   "metadata": {},
   "outputs": [
    {
     "data": {
      "text/plain": [
       "(806506, 18)"
      ]
     },
     "execution_count": 26,
     "metadata": {},
     "output_type": "execute_result"
    }
   ],
   "source": [
    "df_f.shape"
   ]
  },
  {
   "cell_type": "code",
   "execution_count": 27,
   "metadata": {},
   "outputs": [
    {
     "data": {
      "text/plain": [
       "Index(['CTLG_PROD_ID', 'count', 'mean', 'std', 'min', '25%', '50%', '75%',\n",
       "       'max', 'ORD_ORDER_ID', 'ITE_ITEM_ID', 'flag_bad_user', 'is_buybox',\n",
       "       'has_bpp', 'has_claim_seller', 'is_refund', 'GMV_USD',\n",
       "       'bpp_cashout_final'],\n",
       "      dtype='object')"
      ]
     },
     "execution_count": 27,
     "metadata": {},
     "output_type": "execute_result"
    }
   ],
   "source": [
    "df_f.columns"
   ]
  },
  {
   "cell_type": "code",
   "execution_count": 28,
   "metadata": {},
   "outputs": [
    {
     "data": {
      "text/html": [
       "<div>\n",
       "<style scoped>\n",
       "    .dataframe tbody tr th:only-of-type {\n",
       "        vertical-align: middle;\n",
       "    }\n",
       "\n",
       "    .dataframe tbody tr th {\n",
       "        vertical-align: top;\n",
       "    }\n",
       "\n",
       "    .dataframe thead th {\n",
       "        text-align: right;\n",
       "    }\n",
       "</style>\n",
       "<table border=\"1\" class=\"dataframe\">\n",
       "  <thead>\n",
       "    <tr style=\"text-align: right;\">\n",
       "      <th></th>\n",
       "      <th>CTLG_PROD_ID</th>\n",
       "      <th>count</th>\n",
       "      <th>mean</th>\n",
       "      <th>std</th>\n",
       "      <th>min</th>\n",
       "      <th>25%</th>\n",
       "      <th>50%</th>\n",
       "      <th>75%</th>\n",
       "      <th>max</th>\n",
       "      <th>ORD_ORDER_ID</th>\n",
       "      <th>ITE_ITEM_ID</th>\n",
       "      <th>flag_bad_user</th>\n",
       "      <th>is_buybox</th>\n",
       "      <th>has_bpp</th>\n",
       "      <th>has_claim_seller</th>\n",
       "      <th>is_refund</th>\n",
       "      <th>GMV_USD</th>\n",
       "      <th>bpp_cashout_final</th>\n",
       "    </tr>\n",
       "  </thead>\n",
       "  <tbody>\n",
       "    <tr>\n",
       "      <th>550218</th>\n",
       "      <td>15912271</td>\n",
       "      <td>4.0</td>\n",
       "      <td>558.985000</td>\n",
       "      <td>111.685674</td>\n",
       "      <td>419.98</td>\n",
       "      <td>494.800</td>\n",
       "      <td>574.76</td>\n",
       "      <td>638.945</td>\n",
       "      <td>666.44</td>\n",
       "      <td>4590393500</td>\n",
       "      <td>1689813033</td>\n",
       "      <td>0</td>\n",
       "      <td>1</td>\n",
       "      <td>0</td>\n",
       "      <td>0</td>\n",
       "      <td>0.0</td>\n",
       "      <td>546.70</td>\n",
       "      <td>0.0</td>\n",
       "    </tr>\n",
       "    <tr>\n",
       "      <th>603801</th>\n",
       "      <td>15984003</td>\n",
       "      <td>77.0</td>\n",
       "      <td>71.754026</td>\n",
       "      <td>8.213587</td>\n",
       "      <td>58.96</td>\n",
       "      <td>70.770</td>\n",
       "      <td>71.03</td>\n",
       "      <td>74.650</td>\n",
       "      <td>114.67</td>\n",
       "      <td>4581008947</td>\n",
       "      <td>1883031524</td>\n",
       "      <td>0</td>\n",
       "      <td>1</td>\n",
       "      <td>0</td>\n",
       "      <td>0</td>\n",
       "      <td>0.0</td>\n",
       "      <td>60.76</td>\n",
       "      <td>0.0</td>\n",
       "    </tr>\n",
       "    <tr>\n",
       "      <th>385609</th>\n",
       "      <td>15257472</td>\n",
       "      <td>29.0</td>\n",
       "      <td>21.582759</td>\n",
       "      <td>9.554278</td>\n",
       "      <td>11.87</td>\n",
       "      <td>14.890</td>\n",
       "      <td>18.07</td>\n",
       "      <td>26.150</td>\n",
       "      <td>50.78</td>\n",
       "      <td>4538383569</td>\n",
       "      <td>1691805336</td>\n",
       "      <td>0</td>\n",
       "      <td>0</td>\n",
       "      <td>0</td>\n",
       "      <td>0</td>\n",
       "      <td>0.0</td>\n",
       "      <td>14.79</td>\n",
       "      <td>0.0</td>\n",
       "    </tr>\n",
       "    <tr>\n",
       "      <th>449867</th>\n",
       "      <td>15471717</td>\n",
       "      <td>27.0</td>\n",
       "      <td>74.837037</td>\n",
       "      <td>144.466065</td>\n",
       "      <td>40.17</td>\n",
       "      <td>43.555</td>\n",
       "      <td>46.08</td>\n",
       "      <td>49.540</td>\n",
       "      <td>797.20</td>\n",
       "      <td>4603669116</td>\n",
       "      <td>1884979644</td>\n",
       "      <td>0</td>\n",
       "      <td>1</td>\n",
       "      <td>0</td>\n",
       "      <td>0</td>\n",
       "      <td>0.0</td>\n",
       "      <td>45.52</td>\n",
       "      <td>0.0</td>\n",
       "    </tr>\n",
       "    <tr>\n",
       "      <th>463902</th>\n",
       "      <td>15570789</td>\n",
       "      <td>2.0</td>\n",
       "      <td>32.520000</td>\n",
       "      <td>0.000000</td>\n",
       "      <td>32.52</td>\n",
       "      <td>32.520</td>\n",
       "      <td>32.52</td>\n",
       "      <td>32.520</td>\n",
       "      <td>32.52</td>\n",
       "      <td>4583440078</td>\n",
       "      <td>1627562634</td>\n",
       "      <td>0</td>\n",
       "      <td>1</td>\n",
       "      <td>0</td>\n",
       "      <td>0</td>\n",
       "      <td>0.0</td>\n",
       "      <td>28.38</td>\n",
       "      <td>0.0</td>\n",
       "    </tr>\n",
       "  </tbody>\n",
       "</table>\n",
       "</div>"
      ],
      "text/plain": [
       "        CTLG_PROD_ID  count        mean         std     min      25%     50%  \\\n",
       "550218      15912271    4.0  558.985000  111.685674  419.98  494.800  574.76   \n",
       "603801      15984003   77.0   71.754026    8.213587   58.96   70.770   71.03   \n",
       "385609      15257472   29.0   21.582759    9.554278   11.87   14.890   18.07   \n",
       "449867      15471717   27.0   74.837037  144.466065   40.17   43.555   46.08   \n",
       "463902      15570789    2.0   32.520000    0.000000   32.52   32.520   32.52   \n",
       "\n",
       "            75%     max  ORD_ORDER_ID  ITE_ITEM_ID  flag_bad_user  is_buybox  \\\n",
       "550218  638.945  666.44    4590393500   1689813033              0          1   \n",
       "603801   74.650  114.67    4581008947   1883031524              0          1   \n",
       "385609   26.150   50.78    4538383569   1691805336              0          0   \n",
       "449867   49.540  797.20    4603669116   1884979644              0          1   \n",
       "463902   32.520   32.52    4583440078   1627562634              0          1   \n",
       "\n",
       "        has_bpp  has_claim_seller  is_refund  GMV_USD  bpp_cashout_final  \n",
       "550218        0                 0        0.0   546.70                0.0  \n",
       "603801        0                 0        0.0    60.76                0.0  \n",
       "385609        0                 0        0.0    14.79                0.0  \n",
       "449867        0                 0        0.0    45.52                0.0  \n",
       "463902        0                 0        0.0    28.38                0.0  "
      ]
     },
     "execution_count": 28,
     "metadata": {},
     "output_type": "execute_result"
    }
   ],
   "source": [
    "df_f.sample(5)"
   ]
  },
  {
   "cell_type": "markdown",
   "metadata": {},
   "source": [
    "## Create columns flag low_price for those items with price below 25% and 50%"
   ]
  },
  {
   "cell_type": "code",
   "execution_count": 29,
   "metadata": {
    "scrolled": true
   },
   "outputs": [],
   "source": [
    "df_f['Low25_Price'] = df_f.apply(lambda x: 1 if x['25%'] >= x['GMV_USD'] else 0, axis=1)"
   ]
  },
  {
   "cell_type": "code",
   "execution_count": 30,
   "metadata": {},
   "outputs": [],
   "source": [
    "df_f['Low50_Price'] = df_f.apply(lambda x: 1 if x['50%'] >= x['GMV_USD'] else 0, axis=1)"
   ]
  },
  {
   "cell_type": "code",
   "execution_count": 31,
   "metadata": {},
   "outputs": [
    {
     "data": {
      "text/html": [
       "<div>\n",
       "<style scoped>\n",
       "    .dataframe tbody tr th:only-of-type {\n",
       "        vertical-align: middle;\n",
       "    }\n",
       "\n",
       "    .dataframe tbody tr th {\n",
       "        vertical-align: top;\n",
       "    }\n",
       "\n",
       "    .dataframe thead th {\n",
       "        text-align: right;\n",
       "    }\n",
       "</style>\n",
       "<table border=\"1\" class=\"dataframe\">\n",
       "  <thead>\n",
       "    <tr style=\"text-align: right;\">\n",
       "      <th></th>\n",
       "      <th>CTLG_PROD_ID</th>\n",
       "      <th>count</th>\n",
       "      <th>mean</th>\n",
       "      <th>std</th>\n",
       "      <th>min</th>\n",
       "      <th>25%</th>\n",
       "      <th>50%</th>\n",
       "      <th>75%</th>\n",
       "      <th>max</th>\n",
       "      <th>ORD_ORDER_ID</th>\n",
       "      <th>ITE_ITEM_ID</th>\n",
       "      <th>flag_bad_user</th>\n",
       "      <th>is_buybox</th>\n",
       "      <th>has_bpp</th>\n",
       "      <th>has_claim_seller</th>\n",
       "      <th>is_refund</th>\n",
       "      <th>GMV_USD</th>\n",
       "      <th>bpp_cashout_final</th>\n",
       "      <th>Low25_Price</th>\n",
       "      <th>Low50_Price</th>\n",
       "    </tr>\n",
       "  </thead>\n",
       "  <tbody>\n",
       "    <tr>\n",
       "      <th>800324</th>\n",
       "      <td>17806731</td>\n",
       "      <td>44.0</td>\n",
       "      <td>22.441818</td>\n",
       "      <td>21.380912</td>\n",
       "      <td>2.28</td>\n",
       "      <td>3.7750</td>\n",
       "      <td>18.615</td>\n",
       "      <td>35.660</td>\n",
       "      <td>60.62</td>\n",
       "      <td>4550306669</td>\n",
       "      <td>1872082483</td>\n",
       "      <td>0</td>\n",
       "      <td>0</td>\n",
       "      <td>0</td>\n",
       "      <td>0</td>\n",
       "      <td>0.0</td>\n",
       "      <td>51.99</td>\n",
       "      <td>0.0</td>\n",
       "      <td>0</td>\n",
       "      <td>0</td>\n",
       "    </tr>\n",
       "    <tr>\n",
       "      <th>47721</th>\n",
       "      <td>6121297</td>\n",
       "      <td>72.0</td>\n",
       "      <td>85.080556</td>\n",
       "      <td>118.072867</td>\n",
       "      <td>37.99</td>\n",
       "      <td>54.9750</td>\n",
       "      <td>68.030</td>\n",
       "      <td>81.070</td>\n",
       "      <td>1054.76</td>\n",
       "      <td>4589856034</td>\n",
       "      <td>1562811951</td>\n",
       "      <td>0</td>\n",
       "      <td>1</td>\n",
       "      <td>0</td>\n",
       "      <td>0</td>\n",
       "      <td>0.0</td>\n",
       "      <td>45.64</td>\n",
       "      <td>0.0</td>\n",
       "      <td>1</td>\n",
       "      <td>1</td>\n",
       "    </tr>\n",
       "    <tr>\n",
       "      <th>168550</th>\n",
       "      <td>8019979</td>\n",
       "      <td>11.0</td>\n",
       "      <td>87.200909</td>\n",
       "      <td>142.211125</td>\n",
       "      <td>28.44</td>\n",
       "      <td>38.2950</td>\n",
       "      <td>47.340</td>\n",
       "      <td>53.815</td>\n",
       "      <td>515.24</td>\n",
       "      <td>4541858899</td>\n",
       "      <td>1853108457</td>\n",
       "      <td>0</td>\n",
       "      <td>1</td>\n",
       "      <td>0</td>\n",
       "      <td>0</td>\n",
       "      <td>0.0</td>\n",
       "      <td>30.88</td>\n",
       "      <td>0.0</td>\n",
       "      <td>1</td>\n",
       "      <td>1</td>\n",
       "    </tr>\n",
       "    <tr>\n",
       "      <th>749488</th>\n",
       "      <td>16995137</td>\n",
       "      <td>5.0</td>\n",
       "      <td>4.094000</td>\n",
       "      <td>1.198282</td>\n",
       "      <td>3.17</td>\n",
       "      <td>3.3800</td>\n",
       "      <td>3.780</td>\n",
       "      <td>3.980</td>\n",
       "      <td>6.16</td>\n",
       "      <td>4580810397</td>\n",
       "      <td>1871437843</td>\n",
       "      <td>0</td>\n",
       "      <td>1</td>\n",
       "      <td>0</td>\n",
       "      <td>0</td>\n",
       "      <td>0.0</td>\n",
       "      <td>3.78</td>\n",
       "      <td>0.0</td>\n",
       "      <td>0</td>\n",
       "      <td>1</td>\n",
       "    </tr>\n",
       "    <tr>\n",
       "      <th>324545</th>\n",
       "      <td>14682774</td>\n",
       "      <td>34.0</td>\n",
       "      <td>326.411765</td>\n",
       "      <td>282.600523</td>\n",
       "      <td>133.58</td>\n",
       "      <td>169.4825</td>\n",
       "      <td>176.370</td>\n",
       "      <td>373.590</td>\n",
       "      <td>1562.78</td>\n",
       "      <td>4561812016</td>\n",
       "      <td>1830040927</td>\n",
       "      <td>0</td>\n",
       "      <td>0</td>\n",
       "      <td>0</td>\n",
       "      <td>0</td>\n",
       "      <td>0.0</td>\n",
       "      <td>457.80</td>\n",
       "      <td>0.0</td>\n",
       "      <td>0</td>\n",
       "      <td>0</td>\n",
       "    </tr>\n",
       "  </tbody>\n",
       "</table>\n",
       "</div>"
      ],
      "text/plain": [
       "        CTLG_PROD_ID  count        mean         std     min       25%  \\\n",
       "800324      17806731   44.0   22.441818   21.380912    2.28    3.7750   \n",
       "47721        6121297   72.0   85.080556  118.072867   37.99   54.9750   \n",
       "168550       8019979   11.0   87.200909  142.211125   28.44   38.2950   \n",
       "749488      16995137    5.0    4.094000    1.198282    3.17    3.3800   \n",
       "324545      14682774   34.0  326.411765  282.600523  133.58  169.4825   \n",
       "\n",
       "            50%      75%      max  ORD_ORDER_ID  ITE_ITEM_ID  flag_bad_user  \\\n",
       "800324   18.615   35.660    60.62    4550306669   1872082483              0   \n",
       "47721    68.030   81.070  1054.76    4589856034   1562811951              0   \n",
       "168550   47.340   53.815   515.24    4541858899   1853108457              0   \n",
       "749488    3.780    3.980     6.16    4580810397   1871437843              0   \n",
       "324545  176.370  373.590  1562.78    4561812016   1830040927              0   \n",
       "\n",
       "        is_buybox  has_bpp  has_claim_seller  is_refund  GMV_USD  \\\n",
       "800324          0        0                 0        0.0    51.99   \n",
       "47721           1        0                 0        0.0    45.64   \n",
       "168550          1        0                 0        0.0    30.88   \n",
       "749488          1        0                 0        0.0     3.78   \n",
       "324545          0        0                 0        0.0   457.80   \n",
       "\n",
       "        bpp_cashout_final  Low25_Price  Low50_Price  \n",
       "800324                0.0            0            0  \n",
       "47721                 0.0            1            1  \n",
       "168550                0.0            1            1  \n",
       "749488                0.0            0            1  \n",
       "324545                0.0            0            0  "
      ]
     },
     "execution_count": 31,
     "metadata": {},
     "output_type": "execute_result"
    }
   ],
   "source": [
    "df_f.sample(5)"
   ]
  },
  {
   "cell_type": "code",
   "execution_count": null,
   "metadata": {},
   "outputs": [],
   "source": [
    "##########################################"
   ]
  },
  {
   "cell_type": "markdown",
   "metadata": {},
   "source": [
    "## Upload Data Base"
   ]
  },
  {
   "cell_type": "code",
   "execution_count": 5,
   "metadata": {},
   "outputs": [],
   "source": [
    "df_ord = pd.read_csv(r'base_publicaciones.csv')"
   ]
  },
  {
   "cell_type": "code",
   "execution_count": 6,
   "metadata": {},
   "outputs": [
    {
     "data": {
      "text/plain": [
       "(869470, 10)"
      ]
     },
     "execution_count": 6,
     "metadata": {},
     "output_type": "execute_result"
    }
   ],
   "source": [
    "df_ord.shape"
   ]
  },
  {
   "cell_type": "code",
   "execution_count": 7,
   "metadata": {},
   "outputs": [
    {
     "data": {
      "text/plain": [
       "Index(['ORD_ORDER_ID', 'ITE_ITEM_ID', 'CTLG_PROD_ID', 'ITE_BASE_CURRENT_PRICE',\n",
       "       'flag_bad_user', 'is_buybox', 'has_bpp', 'has_claim_seller',\n",
       "       'is_refund', 'bpp_cashout_final'],\n",
       "      dtype='object')"
      ]
     },
     "execution_count": 7,
     "metadata": {},
     "output_type": "execute_result"
    }
   ],
   "source": [
    "df_ord.columns"
   ]
  },
  {
   "cell_type": "code",
   "execution_count": 8,
   "metadata": {},
   "outputs": [
    {
     "data": {
      "text/html": [
       "<div>\n",
       "<style scoped>\n",
       "    .dataframe tbody tr th:only-of-type {\n",
       "        vertical-align: middle;\n",
       "    }\n",
       "\n",
       "    .dataframe tbody tr th {\n",
       "        vertical-align: top;\n",
       "    }\n",
       "\n",
       "    .dataframe thead th {\n",
       "        text-align: right;\n",
       "    }\n",
       "</style>\n",
       "<table border=\"1\" class=\"dataframe\">\n",
       "  <thead>\n",
       "    <tr style=\"text-align: right;\">\n",
       "      <th></th>\n",
       "      <th>ORD_ORDER_ID</th>\n",
       "      <th>ITE_ITEM_ID</th>\n",
       "      <th>CTLG_PROD_ID</th>\n",
       "      <th>ITE_BASE_CURRENT_PRICE</th>\n",
       "      <th>flag_bad_user</th>\n",
       "      <th>is_buybox</th>\n",
       "      <th>has_bpp</th>\n",
       "      <th>has_claim_seller</th>\n",
       "      <th>is_refund</th>\n",
       "      <th>bpp_cashout_final</th>\n",
       "    </tr>\n",
       "  </thead>\n",
       "  <tbody>\n",
       "    <tr>\n",
       "      <th>0</th>\n",
       "      <td>4577317619</td>\n",
       "      <td>1718794438</td>\n",
       "      <td>10608114</td>\n",
       "      <td>10.66</td>\n",
       "      <td>0</td>\n",
       "      <td>0</td>\n",
       "      <td>0</td>\n",
       "      <td>0</td>\n",
       "      <td>0.0</td>\n",
       "      <td>0.0</td>\n",
       "    </tr>\n",
       "    <tr>\n",
       "      <th>1</th>\n",
       "      <td>4542724158</td>\n",
       "      <td>1855945942</td>\n",
       "      <td>15305518</td>\n",
       "      <td>20.32</td>\n",
       "      <td>0</td>\n",
       "      <td>1</td>\n",
       "      <td>0</td>\n",
       "      <td>0</td>\n",
       "      <td>0.0</td>\n",
       "      <td>0.0</td>\n",
       "    </tr>\n",
       "    <tr>\n",
       "      <th>2</th>\n",
       "      <td>4603385249</td>\n",
       "      <td>1899937971</td>\n",
       "      <td>6078534</td>\n",
       "      <td>3.33</td>\n",
       "      <td>0</td>\n",
       "      <td>1</td>\n",
       "      <td>0</td>\n",
       "      <td>0</td>\n",
       "      <td>0.0</td>\n",
       "      <td>0.0</td>\n",
       "    </tr>\n",
       "    <tr>\n",
       "      <th>3</th>\n",
       "      <td>4588423792</td>\n",
       "      <td>1658897376</td>\n",
       "      <td>14214635</td>\n",
       "      <td>34.45</td>\n",
       "      <td>0</td>\n",
       "      <td>1</td>\n",
       "      <td>0</td>\n",
       "      <td>0</td>\n",
       "      <td>0.0</td>\n",
       "      <td>0.0</td>\n",
       "    </tr>\n",
       "    <tr>\n",
       "      <th>4</th>\n",
       "      <td>4546930678</td>\n",
       "      <td>1743613950</td>\n",
       "      <td>15786116</td>\n",
       "      <td>23.54</td>\n",
       "      <td>0</td>\n",
       "      <td>1</td>\n",
       "      <td>0</td>\n",
       "      <td>0</td>\n",
       "      <td>0.0</td>\n",
       "      <td>0.0</td>\n",
       "    </tr>\n",
       "  </tbody>\n",
       "</table>\n",
       "</div>"
      ],
      "text/plain": [
       "   ORD_ORDER_ID  ITE_ITEM_ID  CTLG_PROD_ID  ITE_BASE_CURRENT_PRICE  \\\n",
       "0    4577317619   1718794438      10608114                   10.66   \n",
       "1    4542724158   1855945942      15305518                   20.32   \n",
       "2    4603385249   1899937971       6078534                    3.33   \n",
       "3    4588423792   1658897376      14214635                   34.45   \n",
       "4    4546930678   1743613950      15786116                   23.54   \n",
       "\n",
       "   flag_bad_user  is_buybox  has_bpp  has_claim_seller  is_refund  \\\n",
       "0              0          0        0                 0        0.0   \n",
       "1              0          1        0                 0        0.0   \n",
       "2              0          1        0                 0        0.0   \n",
       "3              0          1        0                 0        0.0   \n",
       "4              0          1        0                 0        0.0   \n",
       "\n",
       "   bpp_cashout_final  \n",
       "0                0.0  \n",
       "1                0.0  \n",
       "2                0.0  \n",
       "3                0.0  \n",
       "4                0.0  "
      ]
     },
     "execution_count": 8,
     "metadata": {},
     "output_type": "execute_result"
    }
   ],
   "source": [
    "df_ord.head()"
   ]
  },
  {
   "cell_type": "code",
   "execution_count": 9,
   "metadata": {},
   "outputs": [
    {
     "data": {
      "text/plain": [
       "ORD_ORDER_ID                int64\n",
       "ITE_ITEM_ID                 int64\n",
       "CTLG_PROD_ID                int64\n",
       "ITE_BASE_CURRENT_PRICE    float64\n",
       "flag_bad_user               int64\n",
       "is_buybox                   int64\n",
       "has_bpp                     int64\n",
       "has_claim_seller            int64\n",
       "is_refund                 float64\n",
       "bpp_cashout_final         float64\n",
       "dtype: object"
      ]
     },
     "execution_count": 9,
     "metadata": {},
     "output_type": "execute_result"
    }
   ],
   "source": [
    "df_ord.dtypes"
   ]
  },
  {
   "cell_type": "markdown",
   "metadata": {},
   "source": [
    "## Describe of the prices of the products"
   ]
  },
  {
   "cell_type": "code",
   "execution_count": 10,
   "metadata": {},
   "outputs": [],
   "source": [
    "df_prod = df_ord[['CTLG_PROD_ID','ITE_ITEM_ID','ITE_BASE_CURRENT_PRICE']]"
   ]
  },
  {
   "cell_type": "code",
   "execution_count": 11,
   "metadata": {},
   "outputs": [
    {
     "data": {
      "text/html": [
       "<div>\n",
       "<style scoped>\n",
       "    .dataframe tbody tr th:only-of-type {\n",
       "        vertical-align: middle;\n",
       "    }\n",
       "\n",
       "    .dataframe tbody tr th {\n",
       "        vertical-align: top;\n",
       "    }\n",
       "\n",
       "    .dataframe thead th {\n",
       "        text-align: right;\n",
       "    }\n",
       "</style>\n",
       "<table border=\"1\" class=\"dataframe\">\n",
       "  <thead>\n",
       "    <tr style=\"text-align: right;\">\n",
       "      <th></th>\n",
       "      <th>CTLG_PROD_ID</th>\n",
       "      <th>ITE_ITEM_ID</th>\n",
       "      <th>ITE_BASE_CURRENT_PRICE</th>\n",
       "    </tr>\n",
       "  </thead>\n",
       "  <tbody>\n",
       "    <tr>\n",
       "      <th>510069</th>\n",
       "      <td>16998054</td>\n",
       "      <td>1864667169</td>\n",
       "      <td>246.05</td>\n",
       "    </tr>\n",
       "    <tr>\n",
       "      <th>274083</th>\n",
       "      <td>15949974</td>\n",
       "      <td>1878386950</td>\n",
       "      <td>167.91</td>\n",
       "    </tr>\n",
       "    <tr>\n",
       "      <th>154650</th>\n",
       "      <td>15162780</td>\n",
       "      <td>1867791218</td>\n",
       "      <td>402.83</td>\n",
       "    </tr>\n",
       "    <tr>\n",
       "      <th>425402</th>\n",
       "      <td>14661340</td>\n",
       "      <td>1880222549</td>\n",
       "      <td>96.42</td>\n",
       "    </tr>\n",
       "    <tr>\n",
       "      <th>570679</th>\n",
       "      <td>16368722</td>\n",
       "      <td>1699762574</td>\n",
       "      <td>12.63</td>\n",
       "    </tr>\n",
       "  </tbody>\n",
       "</table>\n",
       "</div>"
      ],
      "text/plain": [
       "        CTLG_PROD_ID  ITE_ITEM_ID  ITE_BASE_CURRENT_PRICE\n",
       "510069      16998054   1864667169                  246.05\n",
       "274083      15949974   1878386950                  167.91\n",
       "154650      15162780   1867791218                  402.83\n",
       "425402      14661340   1880222549                   96.42\n",
       "570679      16368722   1699762574                   12.63"
      ]
     },
     "execution_count": 11,
     "metadata": {},
     "output_type": "execute_result"
    }
   ],
   "source": [
    "df_prod.sample(5)"
   ]
  },
  {
   "cell_type": "code",
   "execution_count": 12,
   "metadata": {},
   "outputs": [
    {
     "data": {
      "text/plain": [
       "(869470, 3)"
      ]
     },
     "execution_count": 12,
     "metadata": {},
     "output_type": "execute_result"
    }
   ],
   "source": [
    "df_prod.shape"
   ]
  },
  {
   "cell_type": "code",
   "execution_count": 13,
   "metadata": {},
   "outputs": [
    {
     "data": {
      "text/html": [
       "<div>\n",
       "<style scoped>\n",
       "    .dataframe tbody tr th:only-of-type {\n",
       "        vertical-align: middle;\n",
       "    }\n",
       "\n",
       "    .dataframe tbody tr th {\n",
       "        vertical-align: top;\n",
       "    }\n",
       "\n",
       "    .dataframe thead th {\n",
       "        text-align: right;\n",
       "    }\n",
       "</style>\n",
       "<table border=\"1\" class=\"dataframe\">\n",
       "  <thead>\n",
       "    <tr style=\"text-align: right;\">\n",
       "      <th></th>\n",
       "      <th>count</th>\n",
       "      <th>mean</th>\n",
       "      <th>std</th>\n",
       "      <th>min</th>\n",
       "      <th>25%</th>\n",
       "      <th>50%</th>\n",
       "      <th>75%</th>\n",
       "      <th>max</th>\n",
       "    </tr>\n",
       "    <tr>\n",
       "      <th>CTLG_PROD_ID</th>\n",
       "      <th></th>\n",
       "      <th></th>\n",
       "      <th></th>\n",
       "      <th></th>\n",
       "      <th></th>\n",
       "      <th></th>\n",
       "      <th></th>\n",
       "      <th></th>\n",
       "    </tr>\n",
       "  </thead>\n",
       "  <tbody>\n",
       "    <tr>\n",
       "      <th>633</th>\n",
       "      <td>2.0</td>\n",
       "      <td>47.590000</td>\n",
       "      <td>1.183697e+01</td>\n",
       "      <td>39.22</td>\n",
       "      <td>43.4050</td>\n",
       "      <td>47.590</td>\n",
       "      <td>51.7750</td>\n",
       "      <td>55.96</td>\n",
       "    </tr>\n",
       "    <tr>\n",
       "      <th>5020</th>\n",
       "      <td>22.0</td>\n",
       "      <td>44.903636</td>\n",
       "      <td>4.364103e+00</td>\n",
       "      <td>42.09</td>\n",
       "      <td>42.5025</td>\n",
       "      <td>44.020</td>\n",
       "      <td>44.4025</td>\n",
       "      <td>57.98</td>\n",
       "    </tr>\n",
       "    <tr>\n",
       "      <th>802465</th>\n",
       "      <td>51.0</td>\n",
       "      <td>87.916471</td>\n",
       "      <td>6.482665e+01</td>\n",
       "      <td>7.83</td>\n",
       "      <td>7.8300</td>\n",
       "      <td>133.770</td>\n",
       "      <td>140.2100</td>\n",
       "      <td>156.84</td>\n",
       "    </tr>\n",
       "    <tr>\n",
       "      <th>802499</th>\n",
       "      <td>7.0</td>\n",
       "      <td>47.891429</td>\n",
       "      <td>1.512552e+00</td>\n",
       "      <td>47.02</td>\n",
       "      <td>47.0200</td>\n",
       "      <td>47.080</td>\n",
       "      <td>48.1650</td>\n",
       "      <td>50.77</td>\n",
       "    </tr>\n",
       "    <tr>\n",
       "      <th>802500</th>\n",
       "      <td>2.0</td>\n",
       "      <td>63.605000</td>\n",
       "      <td>1.248043e+01</td>\n",
       "      <td>54.78</td>\n",
       "      <td>59.1925</td>\n",
       "      <td>63.605</td>\n",
       "      <td>68.0175</td>\n",
       "      <td>72.43</td>\n",
       "    </tr>\n",
       "    <tr>\n",
       "      <th>...</th>\n",
       "      <td>...</td>\n",
       "      <td>...</td>\n",
       "      <td>...</td>\n",
       "      <td>...</td>\n",
       "      <td>...</td>\n",
       "      <td>...</td>\n",
       "      <td>...</td>\n",
       "      <td>...</td>\n",
       "    </tr>\n",
       "    <tr>\n",
       "      <th>18185023</th>\n",
       "      <td>4.0</td>\n",
       "      <td>88.860000</td>\n",
       "      <td>4.180000e+00</td>\n",
       "      <td>86.77</td>\n",
       "      <td>86.7700</td>\n",
       "      <td>86.770</td>\n",
       "      <td>88.8600</td>\n",
       "      <td>95.13</td>\n",
       "    </tr>\n",
       "    <tr>\n",
       "      <th>18186809</th>\n",
       "      <td>3.0</td>\n",
       "      <td>120.853333</td>\n",
       "      <td>1.144490e+01</td>\n",
       "      <td>109.22</td>\n",
       "      <td>115.2300</td>\n",
       "      <td>121.240</td>\n",
       "      <td>126.6700</td>\n",
       "      <td>132.10</td>\n",
       "    </tr>\n",
       "    <tr>\n",
       "      <th>18209455</th>\n",
       "      <td>40.0</td>\n",
       "      <td>588.700000</td>\n",
       "      <td>4.605405e-13</td>\n",
       "      <td>588.70</td>\n",
       "      <td>588.7000</td>\n",
       "      <td>588.700</td>\n",
       "      <td>588.7000</td>\n",
       "      <td>588.70</td>\n",
       "    </tr>\n",
       "    <tr>\n",
       "      <th>18217813</th>\n",
       "      <td>1.0</td>\n",
       "      <td>197.380000</td>\n",
       "      <td>NaN</td>\n",
       "      <td>197.38</td>\n",
       "      <td>197.3800</td>\n",
       "      <td>197.380</td>\n",
       "      <td>197.3800</td>\n",
       "      <td>197.38</td>\n",
       "    </tr>\n",
       "    <tr>\n",
       "      <th>18235364</th>\n",
       "      <td>1.0</td>\n",
       "      <td>40.200000</td>\n",
       "      <td>NaN</td>\n",
       "      <td>40.20</td>\n",
       "      <td>40.2000</td>\n",
       "      <td>40.200</td>\n",
       "      <td>40.2000</td>\n",
       "      <td>40.20</td>\n",
       "    </tr>\n",
       "  </tbody>\n",
       "</table>\n",
       "<p>9555 rows × 8 columns</p>\n",
       "</div>"
      ],
      "text/plain": [
       "              count        mean           std     min       25%      50%  \\\n",
       "CTLG_PROD_ID                                                               \n",
       "633             2.0   47.590000  1.183697e+01   39.22   43.4050   47.590   \n",
       "5020           22.0   44.903636  4.364103e+00   42.09   42.5025   44.020   \n",
       "802465         51.0   87.916471  6.482665e+01    7.83    7.8300  133.770   \n",
       "802499          7.0   47.891429  1.512552e+00   47.02   47.0200   47.080   \n",
       "802500          2.0   63.605000  1.248043e+01   54.78   59.1925   63.605   \n",
       "...             ...         ...           ...     ...       ...      ...   \n",
       "18185023        4.0   88.860000  4.180000e+00   86.77   86.7700   86.770   \n",
       "18186809        3.0  120.853333  1.144490e+01  109.22  115.2300  121.240   \n",
       "18209455       40.0  588.700000  4.605405e-13  588.70  588.7000  588.700   \n",
       "18217813        1.0  197.380000           NaN  197.38  197.3800  197.380   \n",
       "18235364        1.0   40.200000           NaN   40.20   40.2000   40.200   \n",
       "\n",
       "                   75%     max  \n",
       "CTLG_PROD_ID                    \n",
       "633            51.7750   55.96  \n",
       "5020           44.4025   57.98  \n",
       "802465        140.2100  156.84  \n",
       "802499         48.1650   50.77  \n",
       "802500         68.0175   72.43  \n",
       "...                ...     ...  \n",
       "18185023       88.8600   95.13  \n",
       "18186809      126.6700  132.10  \n",
       "18209455      588.7000  588.70  \n",
       "18217813      197.3800  197.38  \n",
       "18235364       40.2000   40.20  \n",
       "\n",
       "[9555 rows x 8 columns]"
      ]
     },
     "execution_count": 13,
     "metadata": {},
     "output_type": "execute_result"
    }
   ],
   "source": [
    "gb=df_prod.groupby(['CTLG_PROD_ID'])\n",
    "df_des=gb['ITE_BASE_CURRENT_PRICE'].describe()\n",
    "df_des"
   ]
  },
  {
   "cell_type": "markdown",
   "metadata": {},
   "source": [
    "## Drop rows with NaN std"
   ]
  },
  {
   "cell_type": "code",
   "execution_count": 14,
   "metadata": {},
   "outputs": [
    {
     "data": {
      "text/plain": [
       "1073"
      ]
     },
     "execution_count": 14,
     "metadata": {},
     "output_type": "execute_result"
    }
   ],
   "source": [
    "countNaN = df_des['std'].isna().sum()\n",
    "countNaN"
   ]
  },
  {
   "cell_type": "code",
   "execution_count": 15,
   "metadata": {},
   "outputs": [],
   "source": [
    "df_des.dropna(subset = ['std'], inplace=True)"
   ]
  },
  {
   "cell_type": "code",
   "execution_count": 16,
   "metadata": {},
   "outputs": [
    {
     "data": {
      "text/plain": [
       "0"
      ]
     },
     "execution_count": 16,
     "metadata": {},
     "output_type": "execute_result"
    }
   ],
   "source": [
    "countNaN = df_des['std'].isna().sum()\n",
    "countNaN"
   ]
  },
  {
   "cell_type": "markdown",
   "metadata": {},
   "source": [
    "## Reset the index"
   ]
  },
  {
   "cell_type": "code",
   "execution_count": 17,
   "metadata": {},
   "outputs": [],
   "source": [
    "df_des=df_des.reset_index()"
   ]
  },
  {
   "cell_type": "code",
   "execution_count": 18,
   "metadata": {},
   "outputs": [
    {
     "data": {
      "text/html": [
       "<div>\n",
       "<style scoped>\n",
       "    .dataframe tbody tr th:only-of-type {\n",
       "        vertical-align: middle;\n",
       "    }\n",
       "\n",
       "    .dataframe tbody tr th {\n",
       "        vertical-align: top;\n",
       "    }\n",
       "\n",
       "    .dataframe thead th {\n",
       "        text-align: right;\n",
       "    }\n",
       "</style>\n",
       "<table border=\"1\" class=\"dataframe\">\n",
       "  <thead>\n",
       "    <tr style=\"text-align: right;\">\n",
       "      <th></th>\n",
       "      <th>CTLG_PROD_ID</th>\n",
       "      <th>count</th>\n",
       "      <th>mean</th>\n",
       "      <th>std</th>\n",
       "      <th>min</th>\n",
       "      <th>25%</th>\n",
       "      <th>50%</th>\n",
       "      <th>75%</th>\n",
       "      <th>max</th>\n",
       "    </tr>\n",
       "  </thead>\n",
       "  <tbody>\n",
       "    <tr>\n",
       "      <th>0</th>\n",
       "      <td>633</td>\n",
       "      <td>2.0</td>\n",
       "      <td>47.590000</td>\n",
       "      <td>11.836968</td>\n",
       "      <td>39.22</td>\n",
       "      <td>43.4050</td>\n",
       "      <td>47.590</td>\n",
       "      <td>51.7750</td>\n",
       "      <td>55.96</td>\n",
       "    </tr>\n",
       "    <tr>\n",
       "      <th>1</th>\n",
       "      <td>5020</td>\n",
       "      <td>22.0</td>\n",
       "      <td>44.903636</td>\n",
       "      <td>4.364103</td>\n",
       "      <td>42.09</td>\n",
       "      <td>42.5025</td>\n",
       "      <td>44.020</td>\n",
       "      <td>44.4025</td>\n",
       "      <td>57.98</td>\n",
       "    </tr>\n",
       "    <tr>\n",
       "      <th>2</th>\n",
       "      <td>802465</td>\n",
       "      <td>51.0</td>\n",
       "      <td>87.916471</td>\n",
       "      <td>64.826648</td>\n",
       "      <td>7.83</td>\n",
       "      <td>7.8300</td>\n",
       "      <td>133.770</td>\n",
       "      <td>140.2100</td>\n",
       "      <td>156.84</td>\n",
       "    </tr>\n",
       "    <tr>\n",
       "      <th>3</th>\n",
       "      <td>802499</td>\n",
       "      <td>7.0</td>\n",
       "      <td>47.891429</td>\n",
       "      <td>1.512552</td>\n",
       "      <td>47.02</td>\n",
       "      <td>47.0200</td>\n",
       "      <td>47.080</td>\n",
       "      <td>48.1650</td>\n",
       "      <td>50.77</td>\n",
       "    </tr>\n",
       "    <tr>\n",
       "      <th>4</th>\n",
       "      <td>802500</td>\n",
       "      <td>2.0</td>\n",
       "      <td>63.605000</td>\n",
       "      <td>12.480435</td>\n",
       "      <td>54.78</td>\n",
       "      <td>59.1925</td>\n",
       "      <td>63.605</td>\n",
       "      <td>68.0175</td>\n",
       "      <td>72.43</td>\n",
       "    </tr>\n",
       "  </tbody>\n",
       "</table>\n",
       "</div>"
      ],
      "text/plain": [
       "   CTLG_PROD_ID  count       mean        std    min      25%      50%  \\\n",
       "0           633    2.0  47.590000  11.836968  39.22  43.4050   47.590   \n",
       "1          5020   22.0  44.903636   4.364103  42.09  42.5025   44.020   \n",
       "2        802465   51.0  87.916471  64.826648   7.83   7.8300  133.770   \n",
       "3        802499    7.0  47.891429   1.512552  47.02  47.0200   47.080   \n",
       "4        802500    2.0  63.605000  12.480435  54.78  59.1925   63.605   \n",
       "\n",
       "        75%     max  \n",
       "0   51.7750   55.96  \n",
       "1   44.4025   57.98  \n",
       "2  140.2100  156.84  \n",
       "3   48.1650   50.77  \n",
       "4   68.0175   72.43  "
      ]
     },
     "execution_count": 18,
     "metadata": {},
     "output_type": "execute_result"
    }
   ],
   "source": [
    "df_des.head()"
   ]
  },
  {
   "cell_type": "code",
   "execution_count": 19,
   "metadata": {},
   "outputs": [
    {
     "data": {
      "text/plain": [
       "(8482, 9)"
      ]
     },
     "execution_count": 19,
     "metadata": {},
     "output_type": "execute_result"
    }
   ],
   "source": [
    "df_des.shape"
   ]
  },
  {
   "cell_type": "markdown",
   "metadata": {},
   "source": [
    "## Join the DFs by Product ID"
   ]
  },
  {
   "cell_type": "code",
   "execution_count": 20,
   "metadata": {},
   "outputs": [],
   "source": [
    "df = pd.merge(left = df_des, right = df_ord,\n",
    "                how = 'inner',\n",
    "                left_on='CTLG_PROD_ID', right_on='CTLG_PROD_ID')"
   ]
  },
  {
   "cell_type": "code",
   "execution_count": 21,
   "metadata": {},
   "outputs": [
    {
     "data": {
      "text/plain": [
       "(868397, 18)"
      ]
     },
     "execution_count": 21,
     "metadata": {},
     "output_type": "execute_result"
    }
   ],
   "source": [
    "df.shape"
   ]
  },
  {
   "cell_type": "code",
   "execution_count": 22,
   "metadata": {},
   "outputs": [
    {
     "data": {
      "text/plain": [
       "Index(['CTLG_PROD_ID', 'count', 'mean', 'std', 'min', '25%', '50%', '75%',\n",
       "       'max', 'ORD_ORDER_ID', 'ITE_ITEM_ID', 'ITE_BASE_CURRENT_PRICE',\n",
       "       'flag_bad_user', 'is_buybox', 'has_bpp', 'has_claim_seller',\n",
       "       'is_refund', 'bpp_cashout_final'],\n",
       "      dtype='object')"
      ]
     },
     "execution_count": 22,
     "metadata": {},
     "output_type": "execute_result"
    }
   ],
   "source": [
    "df.columns"
   ]
  },
  {
   "cell_type": "code",
   "execution_count": 23,
   "metadata": {},
   "outputs": [
    {
     "data": {
      "text/html": [
       "<div>\n",
       "<style scoped>\n",
       "    .dataframe tbody tr th:only-of-type {\n",
       "        vertical-align: middle;\n",
       "    }\n",
       "\n",
       "    .dataframe tbody tr th {\n",
       "        vertical-align: top;\n",
       "    }\n",
       "\n",
       "    .dataframe thead th {\n",
       "        text-align: right;\n",
       "    }\n",
       "</style>\n",
       "<table border=\"1\" class=\"dataframe\">\n",
       "  <thead>\n",
       "    <tr style=\"text-align: right;\">\n",
       "      <th></th>\n",
       "      <th>CTLG_PROD_ID</th>\n",
       "      <th>count</th>\n",
       "      <th>mean</th>\n",
       "      <th>std</th>\n",
       "      <th>min</th>\n",
       "      <th>25%</th>\n",
       "      <th>50%</th>\n",
       "      <th>75%</th>\n",
       "      <th>max</th>\n",
       "      <th>ORD_ORDER_ID</th>\n",
       "      <th>ITE_ITEM_ID</th>\n",
       "      <th>ITE_BASE_CURRENT_PRICE</th>\n",
       "      <th>flag_bad_user</th>\n",
       "      <th>is_buybox</th>\n",
       "      <th>has_bpp</th>\n",
       "      <th>has_claim_seller</th>\n",
       "      <th>is_refund</th>\n",
       "      <th>bpp_cashout_final</th>\n",
       "    </tr>\n",
       "  </thead>\n",
       "  <tbody>\n",
       "    <tr>\n",
       "      <th>670173</th>\n",
       "      <td>16051360</td>\n",
       "      <td>280.0</td>\n",
       "      <td>46.024143</td>\n",
       "      <td>8.524927</td>\n",
       "      <td>41.20</td>\n",
       "      <td>45.13</td>\n",
       "      <td>45.13</td>\n",
       "      <td>45.13</td>\n",
       "      <td>113.16</td>\n",
       "      <td>4539814126</td>\n",
       "      <td>1364800241</td>\n",
       "      <td>50.53</td>\n",
       "      <td>0</td>\n",
       "      <td>0</td>\n",
       "      <td>0</td>\n",
       "      <td>0</td>\n",
       "      <td>0.0</td>\n",
       "      <td>0.0</td>\n",
       "    </tr>\n",
       "    <tr>\n",
       "      <th>582374</th>\n",
       "      <td>15915536</td>\n",
       "      <td>1049.0</td>\n",
       "      <td>49.535481</td>\n",
       "      <td>1.999287</td>\n",
       "      <td>32.51</td>\n",
       "      <td>49.03</td>\n",
       "      <td>49.46</td>\n",
       "      <td>49.46</td>\n",
       "      <td>74.82</td>\n",
       "      <td>4574610650</td>\n",
       "      <td>1839643076</td>\n",
       "      <td>48.88</td>\n",
       "      <td>0</td>\n",
       "      <td>0</td>\n",
       "      <td>0</td>\n",
       "      <td>0</td>\n",
       "      <td>0.0</td>\n",
       "      <td>0.0</td>\n",
       "    </tr>\n",
       "    <tr>\n",
       "      <th>170014</th>\n",
       "      <td>8054615</td>\n",
       "      <td>57.0</td>\n",
       "      <td>24.474912</td>\n",
       "      <td>3.327438</td>\n",
       "      <td>18.18</td>\n",
       "      <td>22.38</td>\n",
       "      <td>22.68</td>\n",
       "      <td>25.35</td>\n",
       "      <td>31.77</td>\n",
       "      <td>4549991039</td>\n",
       "      <td>1639289825</td>\n",
       "      <td>22.38</td>\n",
       "      <td>0</td>\n",
       "      <td>0</td>\n",
       "      <td>0</td>\n",
       "      <td>1</td>\n",
       "      <td>0.0</td>\n",
       "      <td>0.0</td>\n",
       "    </tr>\n",
       "    <tr>\n",
       "      <th>292075</th>\n",
       "      <td>13841393</td>\n",
       "      <td>7850.0</td>\n",
       "      <td>48.487200</td>\n",
       "      <td>4.909094</td>\n",
       "      <td>43.14</td>\n",
       "      <td>45.13</td>\n",
       "      <td>48.29</td>\n",
       "      <td>49.05</td>\n",
       "      <td>250.02</td>\n",
       "      <td>4601964784</td>\n",
       "      <td>1858675774</td>\n",
       "      <td>45.13</td>\n",
       "      <td>0</td>\n",
       "      <td>1</td>\n",
       "      <td>0</td>\n",
       "      <td>0</td>\n",
       "      <td>0.0</td>\n",
       "      <td>0.0</td>\n",
       "    </tr>\n",
       "    <tr>\n",
       "      <th>130698</th>\n",
       "      <td>6408981</td>\n",
       "      <td>17962.0</td>\n",
       "      <td>53.589554</td>\n",
       "      <td>6.892285</td>\n",
       "      <td>34.07</td>\n",
       "      <td>50.64</td>\n",
       "      <td>52.02</td>\n",
       "      <td>54.17</td>\n",
       "      <td>375.73</td>\n",
       "      <td>4601507872</td>\n",
       "      <td>1398573776</td>\n",
       "      <td>54.17</td>\n",
       "      <td>0</td>\n",
       "      <td>1</td>\n",
       "      <td>0</td>\n",
       "      <td>0</td>\n",
       "      <td>0.0</td>\n",
       "      <td>0.0</td>\n",
       "    </tr>\n",
       "  </tbody>\n",
       "</table>\n",
       "</div>"
      ],
      "text/plain": [
       "        CTLG_PROD_ID    count       mean       std    min    25%    50%  \\\n",
       "670173      16051360    280.0  46.024143  8.524927  41.20  45.13  45.13   \n",
       "582374      15915536   1049.0  49.535481  1.999287  32.51  49.03  49.46   \n",
       "170014       8054615     57.0  24.474912  3.327438  18.18  22.38  22.68   \n",
       "292075      13841393   7850.0  48.487200  4.909094  43.14  45.13  48.29   \n",
       "130698       6408981  17962.0  53.589554  6.892285  34.07  50.64  52.02   \n",
       "\n",
       "          75%     max  ORD_ORDER_ID  ITE_ITEM_ID  ITE_BASE_CURRENT_PRICE  \\\n",
       "670173  45.13  113.16    4539814126   1364800241                   50.53   \n",
       "582374  49.46   74.82    4574610650   1839643076                   48.88   \n",
       "170014  25.35   31.77    4549991039   1639289825                   22.38   \n",
       "292075  49.05  250.02    4601964784   1858675774                   45.13   \n",
       "130698  54.17  375.73    4601507872   1398573776                   54.17   \n",
       "\n",
       "        flag_bad_user  is_buybox  has_bpp  has_claim_seller  is_refund  \\\n",
       "670173              0          0        0                 0        0.0   \n",
       "582374              0          0        0                 0        0.0   \n",
       "170014              0          0        0                 1        0.0   \n",
       "292075              0          1        0                 0        0.0   \n",
       "130698              0          1        0                 0        0.0   \n",
       "\n",
       "        bpp_cashout_final  \n",
       "670173                0.0  \n",
       "582374                0.0  \n",
       "170014                0.0  \n",
       "292075                0.0  \n",
       "130698                0.0  "
      ]
     },
     "execution_count": 23,
     "metadata": {},
     "output_type": "execute_result"
    }
   ],
   "source": [
    "df.sample(5)"
   ]
  },
  {
   "cell_type": "markdown",
   "metadata": {},
   "source": [
    "## Create columns flag low_price for those items with price below 25% and 50%"
   ]
  },
  {
   "cell_type": "code",
   "execution_count": 24,
   "metadata": {},
   "outputs": [],
   "source": [
    "df['Low25_Price'] = df.apply(lambda x: 1 if x['25%'] >= x['ITE_BASE_CURRENT_PRICE'] else 0, axis=1)"
   ]
  },
  {
   "cell_type": "code",
   "execution_count": 25,
   "metadata": {},
   "outputs": [],
   "source": [
    "df['Low50_Price'] = df.apply(lambda x: 1 if x['50%'] >= x['ITE_BASE_CURRENT_PRICE'] and x['25%'] < x['ITE_BASE_CURRENT_PRICE'] else 0, axis=1)"
   ]
  },
  {
   "cell_type": "markdown",
   "metadata": {},
   "source": [
    "## Create column flag high_price for those items with price over 75%"
   ]
  },
  {
   "cell_type": "code",
   "execution_count": 26,
   "metadata": {},
   "outputs": [],
   "source": [
    "df['High75_Price'] = df.apply(lambda x: 1 if x['75%'] <= x['ITE_BASE_CURRENT_PRICE'] else 0, axis=1)"
   ]
  },
  {
   "cell_type": "code",
   "execution_count": 27,
   "metadata": {},
   "outputs": [
    {
     "data": {
      "text/html": [
       "<div>\n",
       "<style scoped>\n",
       "    .dataframe tbody tr th:only-of-type {\n",
       "        vertical-align: middle;\n",
       "    }\n",
       "\n",
       "    .dataframe tbody tr th {\n",
       "        vertical-align: top;\n",
       "    }\n",
       "\n",
       "    .dataframe thead th {\n",
       "        text-align: right;\n",
       "    }\n",
       "</style>\n",
       "<table border=\"1\" class=\"dataframe\">\n",
       "  <thead>\n",
       "    <tr style=\"text-align: right;\">\n",
       "      <th></th>\n",
       "      <th>CTLG_PROD_ID</th>\n",
       "      <th>count</th>\n",
       "      <th>mean</th>\n",
       "      <th>std</th>\n",
       "      <th>min</th>\n",
       "      <th>25%</th>\n",
       "      <th>50%</th>\n",
       "      <th>75%</th>\n",
       "      <th>max</th>\n",
       "      <th>ORD_ORDER_ID</th>\n",
       "      <th>...</th>\n",
       "      <th>ITE_BASE_CURRENT_PRICE</th>\n",
       "      <th>flag_bad_user</th>\n",
       "      <th>is_buybox</th>\n",
       "      <th>has_bpp</th>\n",
       "      <th>has_claim_seller</th>\n",
       "      <th>is_refund</th>\n",
       "      <th>bpp_cashout_final</th>\n",
       "      <th>Low25_Price</th>\n",
       "      <th>Low50_Price</th>\n",
       "      <th>High75_Price</th>\n",
       "    </tr>\n",
       "  </thead>\n",
       "  <tbody>\n",
       "    <tr>\n",
       "      <th>691668</th>\n",
       "      <td>16107489</td>\n",
       "      <td>4415.0</td>\n",
       "      <td>136.018242</td>\n",
       "      <td>20.831566</td>\n",
       "      <td>113.66</td>\n",
       "      <td>125.1100</td>\n",
       "      <td>125.11</td>\n",
       "      <td>136.440</td>\n",
       "      <td>198.60</td>\n",
       "      <td>4565255476</td>\n",
       "      <td>...</td>\n",
       "      <td>125.11</td>\n",
       "      <td>0</td>\n",
       "      <td>1</td>\n",
       "      <td>1</td>\n",
       "      <td>1</td>\n",
       "      <td>1.0</td>\n",
       "      <td>0.0</td>\n",
       "      <td>1</td>\n",
       "      <td>0</td>\n",
       "      <td>0</td>\n",
       "    </tr>\n",
       "    <tr>\n",
       "      <th>183441</th>\n",
       "      <td>8752429</td>\n",
       "      <td>640.0</td>\n",
       "      <td>394.095875</td>\n",
       "      <td>46.222926</td>\n",
       "      <td>153.20</td>\n",
       "      <td>362.5900</td>\n",
       "      <td>376.61</td>\n",
       "      <td>410.070</td>\n",
       "      <td>609.26</td>\n",
       "      <td>4599595779</td>\n",
       "      <td>...</td>\n",
       "      <td>365.40</td>\n",
       "      <td>0</td>\n",
       "      <td>0</td>\n",
       "      <td>0</td>\n",
       "      <td>0</td>\n",
       "      <td>0.0</td>\n",
       "      <td>0.0</td>\n",
       "      <td>0</td>\n",
       "      <td>1</td>\n",
       "      <td>0</td>\n",
       "    </tr>\n",
       "    <tr>\n",
       "      <th>172960</th>\n",
       "      <td>8370241</td>\n",
       "      <td>6.0</td>\n",
       "      <td>100.403333</td>\n",
       "      <td>10.732891</td>\n",
       "      <td>91.00</td>\n",
       "      <td>93.2425</td>\n",
       "      <td>99.97</td>\n",
       "      <td>100.075</td>\n",
       "      <td>120.37</td>\n",
       "      <td>4585162771</td>\n",
       "      <td>...</td>\n",
       "      <td>91.00</td>\n",
       "      <td>0</td>\n",
       "      <td>0</td>\n",
       "      <td>0</td>\n",
       "      <td>0</td>\n",
       "      <td>0.0</td>\n",
       "      <td>0.0</td>\n",
       "      <td>1</td>\n",
       "      <td>0</td>\n",
       "      <td>0</td>\n",
       "    </tr>\n",
       "    <tr>\n",
       "      <th>298816</th>\n",
       "      <td>13953199</td>\n",
       "      <td>431.0</td>\n",
       "      <td>202.559072</td>\n",
       "      <td>10.389718</td>\n",
       "      <td>126.36</td>\n",
       "      <td>204.1600</td>\n",
       "      <td>204.16</td>\n",
       "      <td>204.160</td>\n",
       "      <td>289.53</td>\n",
       "      <td>4544243296</td>\n",
       "      <td>...</td>\n",
       "      <td>204.16</td>\n",
       "      <td>0</td>\n",
       "      <td>1</td>\n",
       "      <td>0</td>\n",
       "      <td>0</td>\n",
       "      <td>0.0</td>\n",
       "      <td>0.0</td>\n",
       "      <td>1</td>\n",
       "      <td>0</td>\n",
       "      <td>1</td>\n",
       "    </tr>\n",
       "    <tr>\n",
       "      <th>126082</th>\n",
       "      <td>6408981</td>\n",
       "      <td>17962.0</td>\n",
       "      <td>53.589554</td>\n",
       "      <td>6.892285</td>\n",
       "      <td>34.07</td>\n",
       "      <td>50.6400</td>\n",
       "      <td>52.02</td>\n",
       "      <td>54.170</td>\n",
       "      <td>375.73</td>\n",
       "      <td>4608714521</td>\n",
       "      <td>...</td>\n",
       "      <td>49.08</td>\n",
       "      <td>0</td>\n",
       "      <td>1</td>\n",
       "      <td>0</td>\n",
       "      <td>0</td>\n",
       "      <td>0.0</td>\n",
       "      <td>0.0</td>\n",
       "      <td>1</td>\n",
       "      <td>0</td>\n",
       "      <td>0</td>\n",
       "    </tr>\n",
       "  </tbody>\n",
       "</table>\n",
       "<p>5 rows × 21 columns</p>\n",
       "</div>"
      ],
      "text/plain": [
       "        CTLG_PROD_ID    count        mean        std     min       25%  \\\n",
       "691668      16107489   4415.0  136.018242  20.831566  113.66  125.1100   \n",
       "183441       8752429    640.0  394.095875  46.222926  153.20  362.5900   \n",
       "172960       8370241      6.0  100.403333  10.732891   91.00   93.2425   \n",
       "298816      13953199    431.0  202.559072  10.389718  126.36  204.1600   \n",
       "126082       6408981  17962.0   53.589554   6.892285   34.07   50.6400   \n",
       "\n",
       "           50%      75%     max  ORD_ORDER_ID  ...  ITE_BASE_CURRENT_PRICE  \\\n",
       "691668  125.11  136.440  198.60    4565255476  ...                  125.11   \n",
       "183441  376.61  410.070  609.26    4599595779  ...                  365.40   \n",
       "172960   99.97  100.075  120.37    4585162771  ...                   91.00   \n",
       "298816  204.16  204.160  289.53    4544243296  ...                  204.16   \n",
       "126082   52.02   54.170  375.73    4608714521  ...                   49.08   \n",
       "\n",
       "        flag_bad_user  is_buybox  has_bpp  has_claim_seller  is_refund  \\\n",
       "691668              0          1        1                 1        1.0   \n",
       "183441              0          0        0                 0        0.0   \n",
       "172960              0          0        0                 0        0.0   \n",
       "298816              0          1        0                 0        0.0   \n",
       "126082              0          1        0                 0        0.0   \n",
       "\n",
       "        bpp_cashout_final  Low25_Price  Low50_Price  High75_Price  \n",
       "691668                0.0            1            0             0  \n",
       "183441                0.0            0            1             0  \n",
       "172960                0.0            1            0             0  \n",
       "298816                0.0            1            0             1  \n",
       "126082                0.0            1            0             0  \n",
       "\n",
       "[5 rows x 21 columns]"
      ]
     },
     "execution_count": 27,
     "metadata": {},
     "output_type": "execute_result"
    }
   ],
   "source": [
    "df.sample(5)"
   ]
  },
  {
   "cell_type": "markdown",
   "metadata": {},
   "source": [
    "## Order weight on products"
   ]
  },
  {
   "cell_type": "code",
   "execution_count": 28,
   "metadata": {},
   "outputs": [],
   "source": [
    "df['weight'] = 1/df[['count']]"
   ]
  },
  {
   "cell_type": "code",
   "execution_count": 29,
   "metadata": {},
   "outputs": [
    {
     "data": {
      "text/html": [
       "<div>\n",
       "<style scoped>\n",
       "    .dataframe tbody tr th:only-of-type {\n",
       "        vertical-align: middle;\n",
       "    }\n",
       "\n",
       "    .dataframe tbody tr th {\n",
       "        vertical-align: top;\n",
       "    }\n",
       "\n",
       "    .dataframe thead th {\n",
       "        text-align: right;\n",
       "    }\n",
       "</style>\n",
       "<table border=\"1\" class=\"dataframe\">\n",
       "  <thead>\n",
       "    <tr style=\"text-align: right;\">\n",
       "      <th></th>\n",
       "      <th>CTLG_PROD_ID</th>\n",
       "      <th>count</th>\n",
       "      <th>mean</th>\n",
       "      <th>std</th>\n",
       "      <th>min</th>\n",
       "      <th>25%</th>\n",
       "      <th>50%</th>\n",
       "      <th>75%</th>\n",
       "      <th>max</th>\n",
       "      <th>ORD_ORDER_ID</th>\n",
       "      <th>...</th>\n",
       "      <th>flag_bad_user</th>\n",
       "      <th>is_buybox</th>\n",
       "      <th>has_bpp</th>\n",
       "      <th>has_claim_seller</th>\n",
       "      <th>is_refund</th>\n",
       "      <th>bpp_cashout_final</th>\n",
       "      <th>Low25_Price</th>\n",
       "      <th>Low50_Price</th>\n",
       "      <th>High75_Price</th>\n",
       "      <th>weight</th>\n",
       "    </tr>\n",
       "  </thead>\n",
       "  <tbody>\n",
       "    <tr>\n",
       "      <th>679262</th>\n",
       "      <td>16069877</td>\n",
       "      <td>517.0</td>\n",
       "      <td>196.265938</td>\n",
       "      <td>13.989321</td>\n",
       "      <td>174.31</td>\n",
       "      <td>186.75</td>\n",
       "      <td>195.20</td>\n",
       "      <td>200.34</td>\n",
       "      <td>380.32</td>\n",
       "      <td>4558840225</td>\n",
       "      <td>...</td>\n",
       "      <td>0</td>\n",
       "      <td>1</td>\n",
       "      <td>0</td>\n",
       "      <td>0</td>\n",
       "      <td>0.0</td>\n",
       "      <td>0.0</td>\n",
       "      <td>0</td>\n",
       "      <td>0</td>\n",
       "      <td>1</td>\n",
       "      <td>0.001934</td>\n",
       "    </tr>\n",
       "    <tr>\n",
       "      <th>385944</th>\n",
       "      <td>15199736</td>\n",
       "      <td>294.0</td>\n",
       "      <td>82.802857</td>\n",
       "      <td>7.293548</td>\n",
       "      <td>70.27</td>\n",
       "      <td>85.19</td>\n",
       "      <td>85.98</td>\n",
       "      <td>86.35</td>\n",
       "      <td>98.30</td>\n",
       "      <td>4589018410</td>\n",
       "      <td>...</td>\n",
       "      <td>0</td>\n",
       "      <td>1</td>\n",
       "      <td>0</td>\n",
       "      <td>0</td>\n",
       "      <td>0.0</td>\n",
       "      <td>0.0</td>\n",
       "      <td>1</td>\n",
       "      <td>0</td>\n",
       "      <td>0</td>\n",
       "      <td>0.003401</td>\n",
       "    </tr>\n",
       "    <tr>\n",
       "      <th>847555</th>\n",
       "      <td>17509976</td>\n",
       "      <td>255.0</td>\n",
       "      <td>332.548745</td>\n",
       "      <td>12.550821</td>\n",
       "      <td>323.70</td>\n",
       "      <td>323.70</td>\n",
       "      <td>323.89</td>\n",
       "      <td>339.40</td>\n",
       "      <td>400.70</td>\n",
       "      <td>4535164084</td>\n",
       "      <td>...</td>\n",
       "      <td>0</td>\n",
       "      <td>0</td>\n",
       "      <td>0</td>\n",
       "      <td>0</td>\n",
       "      <td>0.0</td>\n",
       "      <td>0.0</td>\n",
       "      <td>0</td>\n",
       "      <td>0</td>\n",
       "      <td>1</td>\n",
       "      <td>0.003922</td>\n",
       "    </tr>\n",
       "    <tr>\n",
       "      <th>857264</th>\n",
       "      <td>17803706</td>\n",
       "      <td>527.0</td>\n",
       "      <td>104.412846</td>\n",
       "      <td>28.338571</td>\n",
       "      <td>63.17</td>\n",
       "      <td>76.54</td>\n",
       "      <td>123.47</td>\n",
       "      <td>123.47</td>\n",
       "      <td>158.81</td>\n",
       "      <td>4536231046</td>\n",
       "      <td>...</td>\n",
       "      <td>0</td>\n",
       "      <td>0</td>\n",
       "      <td>0</td>\n",
       "      <td>0</td>\n",
       "      <td>0.0</td>\n",
       "      <td>0.0</td>\n",
       "      <td>0</td>\n",
       "      <td>1</td>\n",
       "      <td>1</td>\n",
       "      <td>0.001898</td>\n",
       "    </tr>\n",
       "    <tr>\n",
       "      <th>99276</th>\n",
       "      <td>6316596</td>\n",
       "      <td>22.0</td>\n",
       "      <td>127.487727</td>\n",
       "      <td>19.858848</td>\n",
       "      <td>117.10</td>\n",
       "      <td>117.10</td>\n",
       "      <td>117.10</td>\n",
       "      <td>117.10</td>\n",
       "      <td>169.29</td>\n",
       "      <td>4566510663</td>\n",
       "      <td>...</td>\n",
       "      <td>0</td>\n",
       "      <td>0</td>\n",
       "      <td>0</td>\n",
       "      <td>0</td>\n",
       "      <td>0.0</td>\n",
       "      <td>0.0</td>\n",
       "      <td>1</td>\n",
       "      <td>0</td>\n",
       "      <td>1</td>\n",
       "      <td>0.045455</td>\n",
       "    </tr>\n",
       "  </tbody>\n",
       "</table>\n",
       "<p>5 rows × 22 columns</p>\n",
       "</div>"
      ],
      "text/plain": [
       "        CTLG_PROD_ID  count        mean        std     min     25%     50%  \\\n",
       "679262      16069877  517.0  196.265938  13.989321  174.31  186.75  195.20   \n",
       "385944      15199736  294.0   82.802857   7.293548   70.27   85.19   85.98   \n",
       "847555      17509976  255.0  332.548745  12.550821  323.70  323.70  323.89   \n",
       "857264      17803706  527.0  104.412846  28.338571   63.17   76.54  123.47   \n",
       "99276        6316596   22.0  127.487727  19.858848  117.10  117.10  117.10   \n",
       "\n",
       "           75%     max  ORD_ORDER_ID  ...  flag_bad_user  is_buybox  has_bpp  \\\n",
       "679262  200.34  380.32    4558840225  ...              0          1        0   \n",
       "385944   86.35   98.30    4589018410  ...              0          1        0   \n",
       "847555  339.40  400.70    4535164084  ...              0          0        0   \n",
       "857264  123.47  158.81    4536231046  ...              0          0        0   \n",
       "99276   117.10  169.29    4566510663  ...              0          0        0   \n",
       "\n",
       "        has_claim_seller  is_refund  bpp_cashout_final  Low25_Price  \\\n",
       "679262                 0        0.0                0.0            0   \n",
       "385944                 0        0.0                0.0            1   \n",
       "847555                 0        0.0                0.0            0   \n",
       "857264                 0        0.0                0.0            0   \n",
       "99276                  0        0.0                0.0            1   \n",
       "\n",
       "        Low50_Price  High75_Price    weight  \n",
       "679262            0             1  0.001934  \n",
       "385944            0             0  0.003401  \n",
       "847555            0             1  0.003922  \n",
       "857264            1             1  0.001898  \n",
       "99276             0             1  0.045455  \n",
       "\n",
       "[5 rows x 22 columns]"
      ]
     },
     "execution_count": 29,
     "metadata": {},
     "output_type": "execute_result"
    }
   ],
   "source": [
    "df.sample(5)"
   ]
  },
  {
   "cell_type": "code",
   "execution_count": 30,
   "metadata": {},
   "outputs": [
    {
     "data": {
      "text/plain": [
       "Index(['CTLG_PROD_ID', 'count', 'mean', 'std', 'min', '25%', '50%', '75%',\n",
       "       'max', 'ORD_ORDER_ID', 'ITE_ITEM_ID', 'ITE_BASE_CURRENT_PRICE',\n",
       "       'flag_bad_user', 'is_buybox', 'has_bpp', 'has_claim_seller',\n",
       "       'is_refund', 'bpp_cashout_final', 'Low25_Price', 'Low50_Price',\n",
       "       'High75_Price', 'weight'],\n",
       "      dtype='object')"
      ]
     },
     "execution_count": 30,
     "metadata": {},
     "output_type": "execute_result"
    }
   ],
   "source": [
    "df.columns"
   ]
  },
  {
   "cell_type": "markdown",
   "metadata": {},
   "source": [
    "## Bad orders"
   ]
  },
  {
   "cell_type": "code",
   "execution_count": 31,
   "metadata": {},
   "outputs": [],
   "source": [
    "df['bad_order'] = df.apply(lambda x: 1 if x['flag_bad_user'] == 1 or x['has_bpp'] == 1 or x['has_claim_seller'] == 1 or x['is_refund'] == 1 or x['bpp_cashout_final'] > 0 else 0, axis=1)\n"
   ]
  },
  {
   "cell_type": "code",
   "execution_count": 32,
   "metadata": {},
   "outputs": [
    {
     "data": {
      "text/html": [
       "<div>\n",
       "<style scoped>\n",
       "    .dataframe tbody tr th:only-of-type {\n",
       "        vertical-align: middle;\n",
       "    }\n",
       "\n",
       "    .dataframe tbody tr th {\n",
       "        vertical-align: top;\n",
       "    }\n",
       "\n",
       "    .dataframe thead th {\n",
       "        text-align: right;\n",
       "    }\n",
       "</style>\n",
       "<table border=\"1\" class=\"dataframe\">\n",
       "  <thead>\n",
       "    <tr style=\"text-align: right;\">\n",
       "      <th></th>\n",
       "      <th>CTLG_PROD_ID</th>\n",
       "      <th>count</th>\n",
       "      <th>mean</th>\n",
       "      <th>std</th>\n",
       "      <th>min</th>\n",
       "      <th>25%</th>\n",
       "      <th>50%</th>\n",
       "      <th>75%</th>\n",
       "      <th>max</th>\n",
       "      <th>ORD_ORDER_ID</th>\n",
       "      <th>...</th>\n",
       "      <th>is_buybox</th>\n",
       "      <th>has_bpp</th>\n",
       "      <th>has_claim_seller</th>\n",
       "      <th>is_refund</th>\n",
       "      <th>bpp_cashout_final</th>\n",
       "      <th>Low25_Price</th>\n",
       "      <th>Low50_Price</th>\n",
       "      <th>High75_Price</th>\n",
       "      <th>weight</th>\n",
       "      <th>bad_order</th>\n",
       "    </tr>\n",
       "  </thead>\n",
       "  <tbody>\n",
       "    <tr>\n",
       "      <th>181437</th>\n",
       "      <td>8752191</td>\n",
       "      <td>2368.0</td>\n",
       "      <td>29.207276</td>\n",
       "      <td>2.127505</td>\n",
       "      <td>15.96</td>\n",
       "      <td>28.07</td>\n",
       "      <td>28.37</td>\n",
       "      <td>30.7900</td>\n",
       "      <td>43.34</td>\n",
       "      <td>4553566519</td>\n",
       "      <td>...</td>\n",
       "      <td>1</td>\n",
       "      <td>0</td>\n",
       "      <td>0</td>\n",
       "      <td>0.0</td>\n",
       "      <td>0.00</td>\n",
       "      <td>0</td>\n",
       "      <td>0</td>\n",
       "      <td>0</td>\n",
       "      <td>0.000422</td>\n",
       "      <td>0</td>\n",
       "    </tr>\n",
       "    <tr>\n",
       "      <th>680965</th>\n",
       "      <td>16081132</td>\n",
       "      <td>142.0</td>\n",
       "      <td>176.202113</td>\n",
       "      <td>8.887107</td>\n",
       "      <td>161.85</td>\n",
       "      <td>173.27</td>\n",
       "      <td>173.27</td>\n",
       "      <td>183.5500</td>\n",
       "      <td>209.58</td>\n",
       "      <td>4595565530</td>\n",
       "      <td>...</td>\n",
       "      <td>1</td>\n",
       "      <td>0</td>\n",
       "      <td>0</td>\n",
       "      <td>0.0</td>\n",
       "      <td>0.00</td>\n",
       "      <td>1</td>\n",
       "      <td>0</td>\n",
       "      <td>0</td>\n",
       "      <td>0.007042</td>\n",
       "      <td>0</td>\n",
       "    </tr>\n",
       "    <tr>\n",
       "      <th>47385</th>\n",
       "      <td>6120049</td>\n",
       "      <td>342.0</td>\n",
       "      <td>16.230175</td>\n",
       "      <td>4.857843</td>\n",
       "      <td>1.87</td>\n",
       "      <td>13.87</td>\n",
       "      <td>13.87</td>\n",
       "      <td>15.7000</td>\n",
       "      <td>32.50</td>\n",
       "      <td>4576657746</td>\n",
       "      <td>...</td>\n",
       "      <td>1</td>\n",
       "      <td>1</td>\n",
       "      <td>1</td>\n",
       "      <td>1.0</td>\n",
       "      <td>46.65</td>\n",
       "      <td>1</td>\n",
       "      <td>0</td>\n",
       "      <td>0</td>\n",
       "      <td>0.002924</td>\n",
       "      <td>1</td>\n",
       "    </tr>\n",
       "    <tr>\n",
       "      <th>640550</th>\n",
       "      <td>15984003</td>\n",
       "      <td>4690.0</td>\n",
       "      <td>60.440322</td>\n",
       "      <td>4.632960</td>\n",
       "      <td>46.25</td>\n",
       "      <td>56.67</td>\n",
       "      <td>60.48</td>\n",
       "      <td>62.7500</td>\n",
       "      <td>158.68</td>\n",
       "      <td>4589926231</td>\n",
       "      <td>...</td>\n",
       "      <td>1</td>\n",
       "      <td>0</td>\n",
       "      <td>0</td>\n",
       "      <td>0.0</td>\n",
       "      <td>0.00</td>\n",
       "      <td>0</td>\n",
       "      <td>0</td>\n",
       "      <td>0</td>\n",
       "      <td>0.000213</td>\n",
       "      <td>0</td>\n",
       "    </tr>\n",
       "    <tr>\n",
       "      <th>250196</th>\n",
       "      <td>11211695</td>\n",
       "      <td>18.0</td>\n",
       "      <td>538.898333</td>\n",
       "      <td>18.472132</td>\n",
       "      <td>531.04</td>\n",
       "      <td>531.04</td>\n",
       "      <td>531.04</td>\n",
       "      <td>537.4825</td>\n",
       "      <td>588.88</td>\n",
       "      <td>4563108795</td>\n",
       "      <td>...</td>\n",
       "      <td>1</td>\n",
       "      <td>0</td>\n",
       "      <td>0</td>\n",
       "      <td>0.0</td>\n",
       "      <td>0.00</td>\n",
       "      <td>1</td>\n",
       "      <td>0</td>\n",
       "      <td>0</td>\n",
       "      <td>0.055556</td>\n",
       "      <td>0</td>\n",
       "    </tr>\n",
       "  </tbody>\n",
       "</table>\n",
       "<p>5 rows × 23 columns</p>\n",
       "</div>"
      ],
      "text/plain": [
       "        CTLG_PROD_ID   count        mean        std     min     25%     50%  \\\n",
       "181437       8752191  2368.0   29.207276   2.127505   15.96   28.07   28.37   \n",
       "680965      16081132   142.0  176.202113   8.887107  161.85  173.27  173.27   \n",
       "47385        6120049   342.0   16.230175   4.857843    1.87   13.87   13.87   \n",
       "640550      15984003  4690.0   60.440322   4.632960   46.25   56.67   60.48   \n",
       "250196      11211695    18.0  538.898333  18.472132  531.04  531.04  531.04   \n",
       "\n",
       "             75%     max  ORD_ORDER_ID  ...  is_buybox  has_bpp  \\\n",
       "181437   30.7900   43.34    4553566519  ...          1        0   \n",
       "680965  183.5500  209.58    4595565530  ...          1        0   \n",
       "47385    15.7000   32.50    4576657746  ...          1        1   \n",
       "640550   62.7500  158.68    4589926231  ...          1        0   \n",
       "250196  537.4825  588.88    4563108795  ...          1        0   \n",
       "\n",
       "        has_claim_seller  is_refund  bpp_cashout_final  Low25_Price  \\\n",
       "181437                 0        0.0               0.00            0   \n",
       "680965                 0        0.0               0.00            1   \n",
       "47385                  1        1.0              46.65            1   \n",
       "640550                 0        0.0               0.00            0   \n",
       "250196                 0        0.0               0.00            1   \n",
       "\n",
       "        Low50_Price  High75_Price    weight  bad_order  \n",
       "181437            0             0  0.000422          0  \n",
       "680965            0             0  0.007042          0  \n",
       "47385             0             0  0.002924          1  \n",
       "640550            0             0  0.000213          0  \n",
       "250196            0             0  0.055556          0  \n",
       "\n",
       "[5 rows x 23 columns]"
      ]
     },
     "execution_count": 32,
     "metadata": {},
     "output_type": "execute_result"
    }
   ],
   "source": [
    "df.sample(5)"
   ]
  },
  {
   "cell_type": "code",
   "execution_count": 33,
   "metadata": {},
   "outputs": [
    {
     "data": {
      "text/plain": [
       "Index(['CTLG_PROD_ID', 'count', 'mean', 'std', 'min', '25%', '50%', '75%',\n",
       "       'max', 'ORD_ORDER_ID', 'ITE_ITEM_ID', 'ITE_BASE_CURRENT_PRICE',\n",
       "       'flag_bad_user', 'is_buybox', 'has_bpp', 'has_claim_seller',\n",
       "       'is_refund', 'bpp_cashout_final', 'Low25_Price', 'Low50_Price',\n",
       "       'High75_Price', 'weight', 'bad_order'],\n",
       "      dtype='object')"
      ]
     },
     "execution_count": 33,
     "metadata": {},
     "output_type": "execute_result"
    }
   ],
   "source": [
    "df.columns"
   ]
  },
  {
   "cell_type": "code",
   "execution_count": null,
   "metadata": {},
   "outputs": [],
   "source": []
  },
  {
   "cell_type": "code",
   "execution_count": null,
   "metadata": {},
   "outputs": [],
   "source": []
  },
  {
   "cell_type": "code",
   "execution_count": null,
   "metadata": {},
   "outputs": [],
   "source": []
  },
  {
   "cell_type": "code",
   "execution_count": null,
   "metadata": {},
   "outputs": [],
   "source": []
  },
  {
   "cell_type": "markdown",
   "metadata": {},
   "source": [
    "## Export the products IDs"
   ]
  },
  {
   "cell_type": "code",
   "execution_count": null,
   "metadata": {},
   "outputs": [],
   "source": [
    "#ID=df['CTLG_PROD_ID']\n",
    "#ID.to_csv(r'products_id.csv', index = False)"
   ]
  },
  {
   "cell_type": "code",
   "execution_count": null,
   "metadata": {},
   "outputs": [],
   "source": [
    "#LAMBDA CON AND\n",
    "#df_ratios['extremos']= df_ratios.apply(lambda x: 'caso1' if x['ratio_recla_1m']> 0.3 and x['ratio_cashout_1m']> 0.3 and x['ratio_ref_1m']> 0.3 and x['ratio_claims_1m']> 0.3 else 'no',axis=1)\n"
   ]
  },
  {
   "cell_type": "code",
   "execution_count": null,
   "metadata": {},
   "outputs": [],
   "source": [
    "#LAMDA CON IF ANIDADO\n",
    "#df['adicionales']= df.apply(lambda x: 'caso1' if x['gmv_90d']<= 0 else('caso2' if  x['gmv_30d']<=0  else 'no'),axis=1)\n"
   ]
  }
 ],
 "metadata": {
  "kernelspec": {
   "display_name": "Python 3",
   "language": "python",
   "name": "python3"
  },
  "language_info": {
   "codemirror_mode": {
    "name": "ipython",
    "version": 3
   },
   "file_extension": ".py",
   "mimetype": "text/x-python",
   "name": "python",
   "nbconvert_exporter": "python",
   "pygments_lexer": "ipython3",
   "version": "3.8.5"
  }
 },
 "nbformat": 4,
 "nbformat_minor": 4
}
