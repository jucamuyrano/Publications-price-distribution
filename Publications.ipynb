{
 "cells": [
  {
   "cell_type": "markdown",
   "metadata": {},
   "source": [
    "## Import libraries"
   ]
  },
  {
   "cell_type": "code",
   "execution_count": 1,
   "metadata": {},
   "outputs": [],
   "source": [
    "import pandas as pd\n",
    "import numpy as np\n",
    "import os\n",
    "import matplotlib.pyplot as plt\n",
    "import seaborn as sns\n",
    "from datetime import datetime"
   ]
  },
  {
   "cell_type": "markdown",
   "metadata": {},
   "source": [
    "## Upload Data Base"
   ]
  },
  {
   "cell_type": "code",
   "execution_count": 2,
   "metadata": {},
   "outputs": [],
   "source": [
    "df_ord = pd.read_csv(r'base_publicaciones.csv')"
   ]
  },
  {
   "cell_type": "code",
   "execution_count": 3,
   "metadata": {},
   "outputs": [
    {
     "data": {
      "text/plain": [
       "(869470, 10)"
      ]
     },
     "execution_count": 3,
     "metadata": {},
     "output_type": "execute_result"
    }
   ],
   "source": [
    "df_ord.shape"
   ]
  },
  {
   "cell_type": "code",
   "execution_count": 4,
   "metadata": {},
   "outputs": [
    {
     "data": {
      "text/plain": [
       "Index(['ORD_ORDER_ID', 'ITE_ITEM_ID', 'CTLG_PROD_ID', 'ITE_BASE_CURRENT_PRICE',\n",
       "       'flag_bad_user', 'is_buybox', 'has_bpp', 'has_claim_seller',\n",
       "       'is_refund', 'bpp_cashout_final'],\n",
       "      dtype='object')"
      ]
     },
     "execution_count": 4,
     "metadata": {},
     "output_type": "execute_result"
    }
   ],
   "source": [
    "df_ord.columns"
   ]
  },
  {
   "cell_type": "code",
   "execution_count": 5,
   "metadata": {},
   "outputs": [
    {
     "data": {
      "text/html": [
       "<div>\n",
       "<style scoped>\n",
       "    .dataframe tbody tr th:only-of-type {\n",
       "        vertical-align: middle;\n",
       "    }\n",
       "\n",
       "    .dataframe tbody tr th {\n",
       "        vertical-align: top;\n",
       "    }\n",
       "\n",
       "    .dataframe thead th {\n",
       "        text-align: right;\n",
       "    }\n",
       "</style>\n",
       "<table border=\"1\" class=\"dataframe\">\n",
       "  <thead>\n",
       "    <tr style=\"text-align: right;\">\n",
       "      <th></th>\n",
       "      <th>ORD_ORDER_ID</th>\n",
       "      <th>ITE_ITEM_ID</th>\n",
       "      <th>CTLG_PROD_ID</th>\n",
       "      <th>ITE_BASE_CURRENT_PRICE</th>\n",
       "      <th>flag_bad_user</th>\n",
       "      <th>is_buybox</th>\n",
       "      <th>has_bpp</th>\n",
       "      <th>has_claim_seller</th>\n",
       "      <th>is_refund</th>\n",
       "      <th>bpp_cashout_final</th>\n",
       "    </tr>\n",
       "  </thead>\n",
       "  <tbody>\n",
       "    <tr>\n",
       "      <th>0</th>\n",
       "      <td>4577317619</td>\n",
       "      <td>1718794438</td>\n",
       "      <td>10608114</td>\n",
       "      <td>10.66</td>\n",
       "      <td>0</td>\n",
       "      <td>0</td>\n",
       "      <td>0</td>\n",
       "      <td>0</td>\n",
       "      <td>0.0</td>\n",
       "      <td>0.0</td>\n",
       "    </tr>\n",
       "    <tr>\n",
       "      <th>1</th>\n",
       "      <td>4542724158</td>\n",
       "      <td>1855945942</td>\n",
       "      <td>15305518</td>\n",
       "      <td>20.32</td>\n",
       "      <td>0</td>\n",
       "      <td>1</td>\n",
       "      <td>0</td>\n",
       "      <td>0</td>\n",
       "      <td>0.0</td>\n",
       "      <td>0.0</td>\n",
       "    </tr>\n",
       "    <tr>\n",
       "      <th>2</th>\n",
       "      <td>4603385249</td>\n",
       "      <td>1899937971</td>\n",
       "      <td>6078534</td>\n",
       "      <td>3.33</td>\n",
       "      <td>0</td>\n",
       "      <td>1</td>\n",
       "      <td>0</td>\n",
       "      <td>0</td>\n",
       "      <td>0.0</td>\n",
       "      <td>0.0</td>\n",
       "    </tr>\n",
       "    <tr>\n",
       "      <th>3</th>\n",
       "      <td>4588423792</td>\n",
       "      <td>1658897376</td>\n",
       "      <td>14214635</td>\n",
       "      <td>34.45</td>\n",
       "      <td>0</td>\n",
       "      <td>1</td>\n",
       "      <td>0</td>\n",
       "      <td>0</td>\n",
       "      <td>0.0</td>\n",
       "      <td>0.0</td>\n",
       "    </tr>\n",
       "    <tr>\n",
       "      <th>4</th>\n",
       "      <td>4546930678</td>\n",
       "      <td>1743613950</td>\n",
       "      <td>15786116</td>\n",
       "      <td>23.54</td>\n",
       "      <td>0</td>\n",
       "      <td>1</td>\n",
       "      <td>0</td>\n",
       "      <td>0</td>\n",
       "      <td>0.0</td>\n",
       "      <td>0.0</td>\n",
       "    </tr>\n",
       "  </tbody>\n",
       "</table>\n",
       "</div>"
      ],
      "text/plain": [
       "   ORD_ORDER_ID  ITE_ITEM_ID  CTLG_PROD_ID  ITE_BASE_CURRENT_PRICE  \\\n",
       "0    4577317619   1718794438      10608114                   10.66   \n",
       "1    4542724158   1855945942      15305518                   20.32   \n",
       "2    4603385249   1899937971       6078534                    3.33   \n",
       "3    4588423792   1658897376      14214635                   34.45   \n",
       "4    4546930678   1743613950      15786116                   23.54   \n",
       "\n",
       "   flag_bad_user  is_buybox  has_bpp  has_claim_seller  is_refund  \\\n",
       "0              0          0        0                 0        0.0   \n",
       "1              0          1        0                 0        0.0   \n",
       "2              0          1        0                 0        0.0   \n",
       "3              0          1        0                 0        0.0   \n",
       "4              0          1        0                 0        0.0   \n",
       "\n",
       "   bpp_cashout_final  \n",
       "0                0.0  \n",
       "1                0.0  \n",
       "2                0.0  \n",
       "3                0.0  \n",
       "4                0.0  "
      ]
     },
     "execution_count": 5,
     "metadata": {},
     "output_type": "execute_result"
    }
   ],
   "source": [
    "df_ord.head()"
   ]
  },
  {
   "cell_type": "code",
   "execution_count": 6,
   "metadata": {},
   "outputs": [
    {
     "data": {
      "text/plain": [
       "ORD_ORDER_ID                int64\n",
       "ITE_ITEM_ID                 int64\n",
       "CTLG_PROD_ID                int64\n",
       "ITE_BASE_CURRENT_PRICE    float64\n",
       "flag_bad_user               int64\n",
       "is_buybox                   int64\n",
       "has_bpp                     int64\n",
       "has_claim_seller            int64\n",
       "is_refund                 float64\n",
       "bpp_cashout_final         float64\n",
       "dtype: object"
      ]
     },
     "execution_count": 6,
     "metadata": {},
     "output_type": "execute_result"
    }
   ],
   "source": [
    "df_ord.dtypes"
   ]
  },
  {
   "cell_type": "markdown",
   "metadata": {},
   "source": [
    "## Describe of the prices of the products"
   ]
  },
  {
   "cell_type": "code",
   "execution_count": 7,
   "metadata": {},
   "outputs": [],
   "source": [
    "df_prod = df_ord[['CTLG_PROD_ID','ITE_ITEM_ID','ITE_BASE_CURRENT_PRICE']]"
   ]
  },
  {
   "cell_type": "code",
   "execution_count": 8,
   "metadata": {},
   "outputs": [
    {
     "data": {
      "text/html": [
       "<div>\n",
       "<style scoped>\n",
       "    .dataframe tbody tr th:only-of-type {\n",
       "        vertical-align: middle;\n",
       "    }\n",
       "\n",
       "    .dataframe tbody tr th {\n",
       "        vertical-align: top;\n",
       "    }\n",
       "\n",
       "    .dataframe thead th {\n",
       "        text-align: right;\n",
       "    }\n",
       "</style>\n",
       "<table border=\"1\" class=\"dataframe\">\n",
       "  <thead>\n",
       "    <tr style=\"text-align: right;\">\n",
       "      <th></th>\n",
       "      <th>CTLG_PROD_ID</th>\n",
       "      <th>ITE_ITEM_ID</th>\n",
       "      <th>ITE_BASE_CURRENT_PRICE</th>\n",
       "    </tr>\n",
       "  </thead>\n",
       "  <tbody>\n",
       "    <tr>\n",
       "      <th>629815</th>\n",
       "      <td>15794701</td>\n",
       "      <td>1760604126</td>\n",
       "      <td>20.02</td>\n",
       "    </tr>\n",
       "    <tr>\n",
       "      <th>396701</th>\n",
       "      <td>7912355</td>\n",
       "      <td>1855918624</td>\n",
       "      <td>136.61</td>\n",
       "    </tr>\n",
       "    <tr>\n",
       "      <th>157583</th>\n",
       "      <td>14421011</td>\n",
       "      <td>1818393794</td>\n",
       "      <td>22.22</td>\n",
       "    </tr>\n",
       "    <tr>\n",
       "      <th>43730</th>\n",
       "      <td>11754229</td>\n",
       "      <td>1621612942</td>\n",
       "      <td>48.98</td>\n",
       "    </tr>\n",
       "    <tr>\n",
       "      <th>524458</th>\n",
       "      <td>9810238</td>\n",
       "      <td>1852867419</td>\n",
       "      <td>1.41</td>\n",
       "    </tr>\n",
       "  </tbody>\n",
       "</table>\n",
       "</div>"
      ],
      "text/plain": [
       "        CTLG_PROD_ID  ITE_ITEM_ID  ITE_BASE_CURRENT_PRICE\n",
       "629815      15794701   1760604126                   20.02\n",
       "396701       7912355   1855918624                  136.61\n",
       "157583      14421011   1818393794                   22.22\n",
       "43730       11754229   1621612942                   48.98\n",
       "524458       9810238   1852867419                    1.41"
      ]
     },
     "execution_count": 8,
     "metadata": {},
     "output_type": "execute_result"
    }
   ],
   "source": [
    "df_prod.sample(5)"
   ]
  },
  {
   "cell_type": "code",
   "execution_count": 9,
   "metadata": {},
   "outputs": [
    {
     "data": {
      "text/plain": [
       "(869470, 3)"
      ]
     },
     "execution_count": 9,
     "metadata": {},
     "output_type": "execute_result"
    }
   ],
   "source": [
    "df_prod.shape"
   ]
  },
  {
   "cell_type": "code",
   "execution_count": 10,
   "metadata": {},
   "outputs": [
    {
     "data": {
      "text/html": [
       "<div>\n",
       "<style scoped>\n",
       "    .dataframe tbody tr th:only-of-type {\n",
       "        vertical-align: middle;\n",
       "    }\n",
       "\n",
       "    .dataframe tbody tr th {\n",
       "        vertical-align: top;\n",
       "    }\n",
       "\n",
       "    .dataframe thead th {\n",
       "        text-align: right;\n",
       "    }\n",
       "</style>\n",
       "<table border=\"1\" class=\"dataframe\">\n",
       "  <thead>\n",
       "    <tr style=\"text-align: right;\">\n",
       "      <th></th>\n",
       "      <th>count</th>\n",
       "      <th>mean</th>\n",
       "      <th>std</th>\n",
       "      <th>min</th>\n",
       "      <th>25%</th>\n",
       "      <th>50%</th>\n",
       "      <th>75%</th>\n",
       "      <th>max</th>\n",
       "    </tr>\n",
       "    <tr>\n",
       "      <th>CTLG_PROD_ID</th>\n",
       "      <th></th>\n",
       "      <th></th>\n",
       "      <th></th>\n",
       "      <th></th>\n",
       "      <th></th>\n",
       "      <th></th>\n",
       "      <th></th>\n",
       "      <th></th>\n",
       "    </tr>\n",
       "  </thead>\n",
       "  <tbody>\n",
       "    <tr>\n",
       "      <th>633</th>\n",
       "      <td>2.0</td>\n",
       "      <td>47.590000</td>\n",
       "      <td>1.183697e+01</td>\n",
       "      <td>39.22</td>\n",
       "      <td>43.4050</td>\n",
       "      <td>47.590</td>\n",
       "      <td>51.7750</td>\n",
       "      <td>55.96</td>\n",
       "    </tr>\n",
       "    <tr>\n",
       "      <th>5020</th>\n",
       "      <td>22.0</td>\n",
       "      <td>44.903636</td>\n",
       "      <td>4.364103e+00</td>\n",
       "      <td>42.09</td>\n",
       "      <td>42.5025</td>\n",
       "      <td>44.020</td>\n",
       "      <td>44.4025</td>\n",
       "      <td>57.98</td>\n",
       "    </tr>\n",
       "    <tr>\n",
       "      <th>802465</th>\n",
       "      <td>51.0</td>\n",
       "      <td>87.916471</td>\n",
       "      <td>6.482665e+01</td>\n",
       "      <td>7.83</td>\n",
       "      <td>7.8300</td>\n",
       "      <td>133.770</td>\n",
       "      <td>140.2100</td>\n",
       "      <td>156.84</td>\n",
       "    </tr>\n",
       "    <tr>\n",
       "      <th>802499</th>\n",
       "      <td>7.0</td>\n",
       "      <td>47.891429</td>\n",
       "      <td>1.512552e+00</td>\n",
       "      <td>47.02</td>\n",
       "      <td>47.0200</td>\n",
       "      <td>47.080</td>\n",
       "      <td>48.1650</td>\n",
       "      <td>50.77</td>\n",
       "    </tr>\n",
       "    <tr>\n",
       "      <th>802500</th>\n",
       "      <td>2.0</td>\n",
       "      <td>63.605000</td>\n",
       "      <td>1.248043e+01</td>\n",
       "      <td>54.78</td>\n",
       "      <td>59.1925</td>\n",
       "      <td>63.605</td>\n",
       "      <td>68.0175</td>\n",
       "      <td>72.43</td>\n",
       "    </tr>\n",
       "    <tr>\n",
       "      <th>...</th>\n",
       "      <td>...</td>\n",
       "      <td>...</td>\n",
       "      <td>...</td>\n",
       "      <td>...</td>\n",
       "      <td>...</td>\n",
       "      <td>...</td>\n",
       "      <td>...</td>\n",
       "      <td>...</td>\n",
       "    </tr>\n",
       "    <tr>\n",
       "      <th>18185023</th>\n",
       "      <td>4.0</td>\n",
       "      <td>88.860000</td>\n",
       "      <td>4.180000e+00</td>\n",
       "      <td>86.77</td>\n",
       "      <td>86.7700</td>\n",
       "      <td>86.770</td>\n",
       "      <td>88.8600</td>\n",
       "      <td>95.13</td>\n",
       "    </tr>\n",
       "    <tr>\n",
       "      <th>18186809</th>\n",
       "      <td>3.0</td>\n",
       "      <td>120.853333</td>\n",
       "      <td>1.144490e+01</td>\n",
       "      <td>109.22</td>\n",
       "      <td>115.2300</td>\n",
       "      <td>121.240</td>\n",
       "      <td>126.6700</td>\n",
       "      <td>132.10</td>\n",
       "    </tr>\n",
       "    <tr>\n",
       "      <th>18209455</th>\n",
       "      <td>40.0</td>\n",
       "      <td>588.700000</td>\n",
       "      <td>4.605405e-13</td>\n",
       "      <td>588.70</td>\n",
       "      <td>588.7000</td>\n",
       "      <td>588.700</td>\n",
       "      <td>588.7000</td>\n",
       "      <td>588.70</td>\n",
       "    </tr>\n",
       "    <tr>\n",
       "      <th>18217813</th>\n",
       "      <td>1.0</td>\n",
       "      <td>197.380000</td>\n",
       "      <td>NaN</td>\n",
       "      <td>197.38</td>\n",
       "      <td>197.3800</td>\n",
       "      <td>197.380</td>\n",
       "      <td>197.3800</td>\n",
       "      <td>197.38</td>\n",
       "    </tr>\n",
       "    <tr>\n",
       "      <th>18235364</th>\n",
       "      <td>1.0</td>\n",
       "      <td>40.200000</td>\n",
       "      <td>NaN</td>\n",
       "      <td>40.20</td>\n",
       "      <td>40.2000</td>\n",
       "      <td>40.200</td>\n",
       "      <td>40.2000</td>\n",
       "      <td>40.20</td>\n",
       "    </tr>\n",
       "  </tbody>\n",
       "</table>\n",
       "<p>9555 rows × 8 columns</p>\n",
       "</div>"
      ],
      "text/plain": [
       "              count        mean           std     min       25%      50%  \\\n",
       "CTLG_PROD_ID                                                               \n",
       "633             2.0   47.590000  1.183697e+01   39.22   43.4050   47.590   \n",
       "5020           22.0   44.903636  4.364103e+00   42.09   42.5025   44.020   \n",
       "802465         51.0   87.916471  6.482665e+01    7.83    7.8300  133.770   \n",
       "802499          7.0   47.891429  1.512552e+00   47.02   47.0200   47.080   \n",
       "802500          2.0   63.605000  1.248043e+01   54.78   59.1925   63.605   \n",
       "...             ...         ...           ...     ...       ...      ...   \n",
       "18185023        4.0   88.860000  4.180000e+00   86.77   86.7700   86.770   \n",
       "18186809        3.0  120.853333  1.144490e+01  109.22  115.2300  121.240   \n",
       "18209455       40.0  588.700000  4.605405e-13  588.70  588.7000  588.700   \n",
       "18217813        1.0  197.380000           NaN  197.38  197.3800  197.380   \n",
       "18235364        1.0   40.200000           NaN   40.20   40.2000   40.200   \n",
       "\n",
       "                   75%     max  \n",
       "CTLG_PROD_ID                    \n",
       "633            51.7750   55.96  \n",
       "5020           44.4025   57.98  \n",
       "802465        140.2100  156.84  \n",
       "802499         48.1650   50.77  \n",
       "802500         68.0175   72.43  \n",
       "...                ...     ...  \n",
       "18185023       88.8600   95.13  \n",
       "18186809      126.6700  132.10  \n",
       "18209455      588.7000  588.70  \n",
       "18217813      197.3800  197.38  \n",
       "18235364       40.2000   40.20  \n",
       "\n",
       "[9555 rows x 8 columns]"
      ]
     },
     "execution_count": 10,
     "metadata": {},
     "output_type": "execute_result"
    }
   ],
   "source": [
    "gb=df_prod.groupby(['CTLG_PROD_ID'])\n",
    "df_des=gb['ITE_BASE_CURRENT_PRICE'].describe()\n",
    "df_des"
   ]
  },
  {
   "cell_type": "markdown",
   "metadata": {},
   "source": [
    "## Drop rows with NaN std"
   ]
  },
  {
   "cell_type": "code",
   "execution_count": 11,
   "metadata": {},
   "outputs": [
    {
     "data": {
      "text/plain": [
       "1073"
      ]
     },
     "execution_count": 11,
     "metadata": {},
     "output_type": "execute_result"
    }
   ],
   "source": [
    "countNaN = df_des['std'].isna().sum()\n",
    "countNaN"
   ]
  },
  {
   "cell_type": "code",
   "execution_count": 12,
   "metadata": {},
   "outputs": [],
   "source": [
    "df_des.dropna(subset = ['std'], inplace=True)"
   ]
  },
  {
   "cell_type": "code",
   "execution_count": 13,
   "metadata": {},
   "outputs": [
    {
     "data": {
      "text/plain": [
       "0"
      ]
     },
     "execution_count": 13,
     "metadata": {},
     "output_type": "execute_result"
    }
   ],
   "source": [
    "countNaN = df_des['std'].isna().sum()\n",
    "countNaN"
   ]
  },
  {
   "cell_type": "markdown",
   "metadata": {},
   "source": [
    "## Reset the index"
   ]
  },
  {
   "cell_type": "code",
   "execution_count": 14,
   "metadata": {},
   "outputs": [],
   "source": [
    "df_des=df_des.reset_index()"
   ]
  },
  {
   "cell_type": "code",
   "execution_count": 15,
   "metadata": {},
   "outputs": [
    {
     "data": {
      "text/html": [
       "<div>\n",
       "<style scoped>\n",
       "    .dataframe tbody tr th:only-of-type {\n",
       "        vertical-align: middle;\n",
       "    }\n",
       "\n",
       "    .dataframe tbody tr th {\n",
       "        vertical-align: top;\n",
       "    }\n",
       "\n",
       "    .dataframe thead th {\n",
       "        text-align: right;\n",
       "    }\n",
       "</style>\n",
       "<table border=\"1\" class=\"dataframe\">\n",
       "  <thead>\n",
       "    <tr style=\"text-align: right;\">\n",
       "      <th></th>\n",
       "      <th>CTLG_PROD_ID</th>\n",
       "      <th>count</th>\n",
       "      <th>mean</th>\n",
       "      <th>std</th>\n",
       "      <th>min</th>\n",
       "      <th>25%</th>\n",
       "      <th>50%</th>\n",
       "      <th>75%</th>\n",
       "      <th>max</th>\n",
       "    </tr>\n",
       "  </thead>\n",
       "  <tbody>\n",
       "    <tr>\n",
       "      <th>0</th>\n",
       "      <td>633</td>\n",
       "      <td>2.0</td>\n",
       "      <td>47.590000</td>\n",
       "      <td>11.836968</td>\n",
       "      <td>39.22</td>\n",
       "      <td>43.4050</td>\n",
       "      <td>47.590</td>\n",
       "      <td>51.7750</td>\n",
       "      <td>55.96</td>\n",
       "    </tr>\n",
       "    <tr>\n",
       "      <th>1</th>\n",
       "      <td>5020</td>\n",
       "      <td>22.0</td>\n",
       "      <td>44.903636</td>\n",
       "      <td>4.364103</td>\n",
       "      <td>42.09</td>\n",
       "      <td>42.5025</td>\n",
       "      <td>44.020</td>\n",
       "      <td>44.4025</td>\n",
       "      <td>57.98</td>\n",
       "    </tr>\n",
       "    <tr>\n",
       "      <th>2</th>\n",
       "      <td>802465</td>\n",
       "      <td>51.0</td>\n",
       "      <td>87.916471</td>\n",
       "      <td>64.826648</td>\n",
       "      <td>7.83</td>\n",
       "      <td>7.8300</td>\n",
       "      <td>133.770</td>\n",
       "      <td>140.2100</td>\n",
       "      <td>156.84</td>\n",
       "    </tr>\n",
       "    <tr>\n",
       "      <th>3</th>\n",
       "      <td>802499</td>\n",
       "      <td>7.0</td>\n",
       "      <td>47.891429</td>\n",
       "      <td>1.512552</td>\n",
       "      <td>47.02</td>\n",
       "      <td>47.0200</td>\n",
       "      <td>47.080</td>\n",
       "      <td>48.1650</td>\n",
       "      <td>50.77</td>\n",
       "    </tr>\n",
       "    <tr>\n",
       "      <th>4</th>\n",
       "      <td>802500</td>\n",
       "      <td>2.0</td>\n",
       "      <td>63.605000</td>\n",
       "      <td>12.480435</td>\n",
       "      <td>54.78</td>\n",
       "      <td>59.1925</td>\n",
       "      <td>63.605</td>\n",
       "      <td>68.0175</td>\n",
       "      <td>72.43</td>\n",
       "    </tr>\n",
       "  </tbody>\n",
       "</table>\n",
       "</div>"
      ],
      "text/plain": [
       "   CTLG_PROD_ID  count       mean        std    min      25%      50%  \\\n",
       "0           633    2.0  47.590000  11.836968  39.22  43.4050   47.590   \n",
       "1          5020   22.0  44.903636   4.364103  42.09  42.5025   44.020   \n",
       "2        802465   51.0  87.916471  64.826648   7.83   7.8300  133.770   \n",
       "3        802499    7.0  47.891429   1.512552  47.02  47.0200   47.080   \n",
       "4        802500    2.0  63.605000  12.480435  54.78  59.1925   63.605   \n",
       "\n",
       "        75%     max  \n",
       "0   51.7750   55.96  \n",
       "1   44.4025   57.98  \n",
       "2  140.2100  156.84  \n",
       "3   48.1650   50.77  \n",
       "4   68.0175   72.43  "
      ]
     },
     "execution_count": 15,
     "metadata": {},
     "output_type": "execute_result"
    }
   ],
   "source": [
    "df_des.head()"
   ]
  },
  {
   "cell_type": "code",
   "execution_count": 16,
   "metadata": {},
   "outputs": [
    {
     "data": {
      "text/plain": [
       "(8482, 9)"
      ]
     },
     "execution_count": 16,
     "metadata": {},
     "output_type": "execute_result"
    }
   ],
   "source": [
    "df_des.shape"
   ]
  },
  {
   "cell_type": "markdown",
   "metadata": {},
   "source": [
    "## Join the DFs by Product ID"
   ]
  },
  {
   "cell_type": "code",
   "execution_count": 17,
   "metadata": {},
   "outputs": [],
   "source": [
    "df = pd.merge(left = df_des, right = df_ord,\n",
    "                how = 'inner',\n",
    "                left_on='CTLG_PROD_ID', right_on='CTLG_PROD_ID')"
   ]
  },
  {
   "cell_type": "code",
   "execution_count": 18,
   "metadata": {},
   "outputs": [
    {
     "data": {
      "text/plain": [
       "(868397, 18)"
      ]
     },
     "execution_count": 18,
     "metadata": {},
     "output_type": "execute_result"
    }
   ],
   "source": [
    "df.shape"
   ]
  },
  {
   "cell_type": "code",
   "execution_count": 19,
   "metadata": {},
   "outputs": [
    {
     "data": {
      "text/plain": [
       "Index(['CTLG_PROD_ID', 'count', 'mean', 'std', 'min', '25%', '50%', '75%',\n",
       "       'max', 'ORD_ORDER_ID', 'ITE_ITEM_ID', 'ITE_BASE_CURRENT_PRICE',\n",
       "       'flag_bad_user', 'is_buybox', 'has_bpp', 'has_claim_seller',\n",
       "       'is_refund', 'bpp_cashout_final'],\n",
       "      dtype='object')"
      ]
     },
     "execution_count": 19,
     "metadata": {},
     "output_type": "execute_result"
    }
   ],
   "source": [
    "df.columns"
   ]
  },
  {
   "cell_type": "code",
   "execution_count": 20,
   "metadata": {},
   "outputs": [
    {
     "data": {
      "text/html": [
       "<div>\n",
       "<style scoped>\n",
       "    .dataframe tbody tr th:only-of-type {\n",
       "        vertical-align: middle;\n",
       "    }\n",
       "\n",
       "    .dataframe tbody tr th {\n",
       "        vertical-align: top;\n",
       "    }\n",
       "\n",
       "    .dataframe thead th {\n",
       "        text-align: right;\n",
       "    }\n",
       "</style>\n",
       "<table border=\"1\" class=\"dataframe\">\n",
       "  <thead>\n",
       "    <tr style=\"text-align: right;\">\n",
       "      <th></th>\n",
       "      <th>CTLG_PROD_ID</th>\n",
       "      <th>count</th>\n",
       "      <th>mean</th>\n",
       "      <th>std</th>\n",
       "      <th>min</th>\n",
       "      <th>25%</th>\n",
       "      <th>50%</th>\n",
       "      <th>75%</th>\n",
       "      <th>max</th>\n",
       "      <th>ORD_ORDER_ID</th>\n",
       "      <th>ITE_ITEM_ID</th>\n",
       "      <th>ITE_BASE_CURRENT_PRICE</th>\n",
       "      <th>flag_bad_user</th>\n",
       "      <th>is_buybox</th>\n",
       "      <th>has_bpp</th>\n",
       "      <th>has_claim_seller</th>\n",
       "      <th>is_refund</th>\n",
       "      <th>bpp_cashout_final</th>\n",
       "    </tr>\n",
       "  </thead>\n",
       "  <tbody>\n",
       "    <tr>\n",
       "      <th>416256</th>\n",
       "      <td>15280550</td>\n",
       "      <td>17.0</td>\n",
       "      <td>3.400588</td>\n",
       "      <td>0.383739</td>\n",
       "      <td>2.41</td>\n",
       "      <td>3.54</td>\n",
       "      <td>3.54</td>\n",
       "      <td>3.54</td>\n",
       "      <td>3.90</td>\n",
       "      <td>4591910739</td>\n",
       "      <td>1872659461</td>\n",
       "      <td>3.54</td>\n",
       "      <td>0</td>\n",
       "      <td>1</td>\n",
       "      <td>0</td>\n",
       "      <td>0</td>\n",
       "      <td>0.0</td>\n",
       "      <td>0.00</td>\n",
       "    </tr>\n",
       "    <tr>\n",
       "      <th>501917</th>\n",
       "      <td>15586822</td>\n",
       "      <td>827.0</td>\n",
       "      <td>372.816796</td>\n",
       "      <td>141.734210</td>\n",
       "      <td>272.49</td>\n",
       "      <td>301.21</td>\n",
       "      <td>345.24</td>\n",
       "      <td>377.23</td>\n",
       "      <td>985.00</td>\n",
       "      <td>4571824972</td>\n",
       "      <td>1791646169</td>\n",
       "      <td>414.80</td>\n",
       "      <td>0</td>\n",
       "      <td>0</td>\n",
       "      <td>1</td>\n",
       "      <td>1</td>\n",
       "      <td>0.0</td>\n",
       "      <td>385.69</td>\n",
       "    </tr>\n",
       "    <tr>\n",
       "      <th>25047</th>\n",
       "      <td>6078511</td>\n",
       "      <td>481.0</td>\n",
       "      <td>10.849771</td>\n",
       "      <td>1.974317</td>\n",
       "      <td>5.96</td>\n",
       "      <td>9.12</td>\n",
       "      <td>9.95</td>\n",
       "      <td>12.39</td>\n",
       "      <td>18.91</td>\n",
       "      <td>4548697700</td>\n",
       "      <td>1811715297</td>\n",
       "      <td>9.95</td>\n",
       "      <td>0</td>\n",
       "      <td>1</td>\n",
       "      <td>0</td>\n",
       "      <td>0</td>\n",
       "      <td>0.0</td>\n",
       "      <td>0.00</td>\n",
       "    </tr>\n",
       "    <tr>\n",
       "      <th>532602</th>\n",
       "      <td>15755060</td>\n",
       "      <td>147.0</td>\n",
       "      <td>51.785510</td>\n",
       "      <td>5.091482</td>\n",
       "      <td>21.92</td>\n",
       "      <td>49.01</td>\n",
       "      <td>51.60</td>\n",
       "      <td>54.94</td>\n",
       "      <td>58.69</td>\n",
       "      <td>4600907635</td>\n",
       "      <td>1538580117</td>\n",
       "      <td>51.84</td>\n",
       "      <td>0</td>\n",
       "      <td>0</td>\n",
       "      <td>0</td>\n",
       "      <td>0</td>\n",
       "      <td>0.0</td>\n",
       "      <td>0.00</td>\n",
       "    </tr>\n",
       "    <tr>\n",
       "      <th>740253</th>\n",
       "      <td>16211882</td>\n",
       "      <td>1627.0</td>\n",
       "      <td>220.891328</td>\n",
       "      <td>13.576629</td>\n",
       "      <td>159.36</td>\n",
       "      <td>225.48</td>\n",
       "      <td>225.55</td>\n",
       "      <td>226.53</td>\n",
       "      <td>295.50</td>\n",
       "      <td>4576404144</td>\n",
       "      <td>1791397960</td>\n",
       "      <td>234.26</td>\n",
       "      <td>0</td>\n",
       "      <td>1</td>\n",
       "      <td>0</td>\n",
       "      <td>0</td>\n",
       "      <td>0.0</td>\n",
       "      <td>0.00</td>\n",
       "    </tr>\n",
       "  </tbody>\n",
       "</table>\n",
       "</div>"
      ],
      "text/plain": [
       "        CTLG_PROD_ID   count        mean         std     min     25%     50%  \\\n",
       "416256      15280550    17.0    3.400588    0.383739    2.41    3.54    3.54   \n",
       "501917      15586822   827.0  372.816796  141.734210  272.49  301.21  345.24   \n",
       "25047        6078511   481.0   10.849771    1.974317    5.96    9.12    9.95   \n",
       "532602      15755060   147.0   51.785510    5.091482   21.92   49.01   51.60   \n",
       "740253      16211882  1627.0  220.891328   13.576629  159.36  225.48  225.55   \n",
       "\n",
       "           75%     max  ORD_ORDER_ID  ITE_ITEM_ID  ITE_BASE_CURRENT_PRICE  \\\n",
       "416256    3.54    3.90    4591910739   1872659461                    3.54   \n",
       "501917  377.23  985.00    4571824972   1791646169                  414.80   \n",
       "25047    12.39   18.91    4548697700   1811715297                    9.95   \n",
       "532602   54.94   58.69    4600907635   1538580117                   51.84   \n",
       "740253  226.53  295.50    4576404144   1791397960                  234.26   \n",
       "\n",
       "        flag_bad_user  is_buybox  has_bpp  has_claim_seller  is_refund  \\\n",
       "416256              0          1        0                 0        0.0   \n",
       "501917              0          0        1                 1        0.0   \n",
       "25047               0          1        0                 0        0.0   \n",
       "532602              0          0        0                 0        0.0   \n",
       "740253              0          1        0                 0        0.0   \n",
       "\n",
       "        bpp_cashout_final  \n",
       "416256               0.00  \n",
       "501917             385.69  \n",
       "25047                0.00  \n",
       "532602               0.00  \n",
       "740253               0.00  "
      ]
     },
     "execution_count": 20,
     "metadata": {},
     "output_type": "execute_result"
    }
   ],
   "source": [
    "df.sample(5)"
   ]
  },
  {
   "cell_type": "markdown",
   "metadata": {},
   "source": [
    "## Order weight on products"
   ]
  },
  {
   "cell_type": "code",
   "execution_count": 21,
   "metadata": {},
   "outputs": [],
   "source": [
    "df['weight'] = 1/df[['count']]"
   ]
  },
  {
   "cell_type": "code",
   "execution_count": 22,
   "metadata": {},
   "outputs": [
    {
     "data": {
      "text/html": [
       "<div>\n",
       "<style scoped>\n",
       "    .dataframe tbody tr th:only-of-type {\n",
       "        vertical-align: middle;\n",
       "    }\n",
       "\n",
       "    .dataframe tbody tr th {\n",
       "        vertical-align: top;\n",
       "    }\n",
       "\n",
       "    .dataframe thead th {\n",
       "        text-align: right;\n",
       "    }\n",
       "</style>\n",
       "<table border=\"1\" class=\"dataframe\">\n",
       "  <thead>\n",
       "    <tr style=\"text-align: right;\">\n",
       "      <th></th>\n",
       "      <th>CTLG_PROD_ID</th>\n",
       "      <th>count</th>\n",
       "      <th>mean</th>\n",
       "      <th>std</th>\n",
       "      <th>min</th>\n",
       "      <th>25%</th>\n",
       "      <th>50%</th>\n",
       "      <th>75%</th>\n",
       "      <th>max</th>\n",
       "      <th>ORD_ORDER_ID</th>\n",
       "      <th>ITE_ITEM_ID</th>\n",
       "      <th>ITE_BASE_CURRENT_PRICE</th>\n",
       "      <th>flag_bad_user</th>\n",
       "      <th>is_buybox</th>\n",
       "      <th>has_bpp</th>\n",
       "      <th>has_claim_seller</th>\n",
       "      <th>is_refund</th>\n",
       "      <th>bpp_cashout_final</th>\n",
       "      <th>weight</th>\n",
       "    </tr>\n",
       "  </thead>\n",
       "  <tbody>\n",
       "    <tr>\n",
       "      <th>110781</th>\n",
       "      <td>6345082</td>\n",
       "      <td>675.0</td>\n",
       "      <td>37.761274</td>\n",
       "      <td>7.842546</td>\n",
       "      <td>13.74</td>\n",
       "      <td>32.76</td>\n",
       "      <td>38.24</td>\n",
       "      <td>41.160</td>\n",
       "      <td>204.16</td>\n",
       "      <td>4537799340</td>\n",
       "      <td>1397559201</td>\n",
       "      <td>39.37</td>\n",
       "      <td>0</td>\n",
       "      <td>1</td>\n",
       "      <td>0</td>\n",
       "      <td>0</td>\n",
       "      <td>0.0</td>\n",
       "      <td>0.0</td>\n",
       "      <td>0.001481</td>\n",
       "    </tr>\n",
       "    <tr>\n",
       "      <th>80760</th>\n",
       "      <td>6248205</td>\n",
       "      <td>1409.0</td>\n",
       "      <td>35.744216</td>\n",
       "      <td>3.126226</td>\n",
       "      <td>29.23</td>\n",
       "      <td>33.86</td>\n",
       "      <td>35.92</td>\n",
       "      <td>35.950</td>\n",
       "      <td>56.96</td>\n",
       "      <td>4603902035</td>\n",
       "      <td>1758391000</td>\n",
       "      <td>34.58</td>\n",
       "      <td>0</td>\n",
       "      <td>1</td>\n",
       "      <td>1</td>\n",
       "      <td>1</td>\n",
       "      <td>1.0</td>\n",
       "      <td>0.0</td>\n",
       "      <td>0.000710</td>\n",
       "    </tr>\n",
       "    <tr>\n",
       "      <th>210539</th>\n",
       "      <td>9338771</td>\n",
       "      <td>192.0</td>\n",
       "      <td>55.644479</td>\n",
       "      <td>5.940800</td>\n",
       "      <td>39.82</td>\n",
       "      <td>52.81</td>\n",
       "      <td>57.94</td>\n",
       "      <td>58.275</td>\n",
       "      <td>90.02</td>\n",
       "      <td>4576001960</td>\n",
       "      <td>1520482681</td>\n",
       "      <td>57.94</td>\n",
       "      <td>0</td>\n",
       "      <td>1</td>\n",
       "      <td>0</td>\n",
       "      <td>1</td>\n",
       "      <td>0.0</td>\n",
       "      <td>0.0</td>\n",
       "      <td>0.005208</td>\n",
       "    </tr>\n",
       "    <tr>\n",
       "      <th>461504</th>\n",
       "      <td>15388664</td>\n",
       "      <td>112.0</td>\n",
       "      <td>78.685268</td>\n",
       "      <td>1.960691</td>\n",
       "      <td>78.50</td>\n",
       "      <td>78.50</td>\n",
       "      <td>78.50</td>\n",
       "      <td>78.500</td>\n",
       "      <td>99.25</td>\n",
       "      <td>4589550359</td>\n",
       "      <td>1683176090</td>\n",
       "      <td>78.50</td>\n",
       "      <td>0</td>\n",
       "      <td>1</td>\n",
       "      <td>0</td>\n",
       "      <td>0</td>\n",
       "      <td>0.0</td>\n",
       "      <td>0.0</td>\n",
       "      <td>0.008929</td>\n",
       "    </tr>\n",
       "    <tr>\n",
       "      <th>551974</th>\n",
       "      <td>15793964</td>\n",
       "      <td>1493.0</td>\n",
       "      <td>260.216618</td>\n",
       "      <td>49.919171</td>\n",
       "      <td>27.47</td>\n",
       "      <td>252.48</td>\n",
       "      <td>258.24</td>\n",
       "      <td>269.710</td>\n",
       "      <td>983.00</td>\n",
       "      <td>4541836347</td>\n",
       "      <td>1827346094</td>\n",
       "      <td>256.10</td>\n",
       "      <td>0</td>\n",
       "      <td>1</td>\n",
       "      <td>0</td>\n",
       "      <td>0</td>\n",
       "      <td>0.0</td>\n",
       "      <td>0.0</td>\n",
       "      <td>0.000670</td>\n",
       "    </tr>\n",
       "  </tbody>\n",
       "</table>\n",
       "</div>"
      ],
      "text/plain": [
       "        CTLG_PROD_ID   count        mean        std    min     25%     50%  \\\n",
       "110781       6345082   675.0   37.761274   7.842546  13.74   32.76   38.24   \n",
       "80760        6248205  1409.0   35.744216   3.126226  29.23   33.86   35.92   \n",
       "210539       9338771   192.0   55.644479   5.940800  39.82   52.81   57.94   \n",
       "461504      15388664   112.0   78.685268   1.960691  78.50   78.50   78.50   \n",
       "551974      15793964  1493.0  260.216618  49.919171  27.47  252.48  258.24   \n",
       "\n",
       "            75%     max  ORD_ORDER_ID  ITE_ITEM_ID  ITE_BASE_CURRENT_PRICE  \\\n",
       "110781   41.160  204.16    4537799340   1397559201                   39.37   \n",
       "80760    35.950   56.96    4603902035   1758391000                   34.58   \n",
       "210539   58.275   90.02    4576001960   1520482681                   57.94   \n",
       "461504   78.500   99.25    4589550359   1683176090                   78.50   \n",
       "551974  269.710  983.00    4541836347   1827346094                  256.10   \n",
       "\n",
       "        flag_bad_user  is_buybox  has_bpp  has_claim_seller  is_refund  \\\n",
       "110781              0          1        0                 0        0.0   \n",
       "80760               0          1        1                 1        1.0   \n",
       "210539              0          1        0                 1        0.0   \n",
       "461504              0          1        0                 0        0.0   \n",
       "551974              0          1        0                 0        0.0   \n",
       "\n",
       "        bpp_cashout_final    weight  \n",
       "110781                0.0  0.001481  \n",
       "80760                 0.0  0.000710  \n",
       "210539                0.0  0.005208  \n",
       "461504                0.0  0.008929  \n",
       "551974                0.0  0.000670  "
      ]
     },
     "execution_count": 22,
     "metadata": {},
     "output_type": "execute_result"
    }
   ],
   "source": [
    "df.sample(5)"
   ]
  },
  {
   "cell_type": "code",
   "execution_count": 23,
   "metadata": {},
   "outputs": [
    {
     "data": {
      "text/plain": [
       "Index(['CTLG_PROD_ID', 'count', 'mean', 'std', 'min', '25%', '50%', '75%',\n",
       "       'max', 'ORD_ORDER_ID', 'ITE_ITEM_ID', 'ITE_BASE_CURRENT_PRICE',\n",
       "       'flag_bad_user', 'is_buybox', 'has_bpp', 'has_claim_seller',\n",
       "       'is_refund', 'bpp_cashout_final', 'weight'],\n",
       "      dtype='object')"
      ]
     },
     "execution_count": 23,
     "metadata": {},
     "output_type": "execute_result"
    }
   ],
   "source": [
    "df.columns"
   ]
  },
  {
   "cell_type": "markdown",
   "metadata": {},
   "source": [
    "## Bad orders"
   ]
  },
  {
   "cell_type": "code",
   "execution_count": 24,
   "metadata": {},
   "outputs": [],
   "source": [
    "df['bad_order'] = df.apply(lambda x: 1 if x['flag_bad_user'] == 1 or x['has_bpp'] == 1 or x['has_claim_seller'] == 1 or x['is_refund'] == 1 or x['bpp_cashout_final'] > 0 else 0, axis=1)\n"
   ]
  },
  {
   "cell_type": "code",
   "execution_count": 25,
   "metadata": {},
   "outputs": [
    {
     "data": {
      "text/html": [
       "<div>\n",
       "<style scoped>\n",
       "    .dataframe tbody tr th:only-of-type {\n",
       "        vertical-align: middle;\n",
       "    }\n",
       "\n",
       "    .dataframe tbody tr th {\n",
       "        vertical-align: top;\n",
       "    }\n",
       "\n",
       "    .dataframe thead th {\n",
       "        text-align: right;\n",
       "    }\n",
       "</style>\n",
       "<table border=\"1\" class=\"dataframe\">\n",
       "  <thead>\n",
       "    <tr style=\"text-align: right;\">\n",
       "      <th></th>\n",
       "      <th>CTLG_PROD_ID</th>\n",
       "      <th>count</th>\n",
       "      <th>mean</th>\n",
       "      <th>std</th>\n",
       "      <th>min</th>\n",
       "      <th>25%</th>\n",
       "      <th>50%</th>\n",
       "      <th>75%</th>\n",
       "      <th>max</th>\n",
       "      <th>ORD_ORDER_ID</th>\n",
       "      <th>ITE_ITEM_ID</th>\n",
       "      <th>ITE_BASE_CURRENT_PRICE</th>\n",
       "      <th>flag_bad_user</th>\n",
       "      <th>is_buybox</th>\n",
       "      <th>has_bpp</th>\n",
       "      <th>has_claim_seller</th>\n",
       "      <th>is_refund</th>\n",
       "      <th>bpp_cashout_final</th>\n",
       "      <th>weight</th>\n",
       "      <th>bad_order</th>\n",
       "    </tr>\n",
       "  </thead>\n",
       "  <tbody>\n",
       "    <tr>\n",
       "      <th>648436</th>\n",
       "      <td>16000342</td>\n",
       "      <td>1937.0</td>\n",
       "      <td>45.632772</td>\n",
       "      <td>4.313746</td>\n",
       "      <td>35.43</td>\n",
       "      <td>44.33</td>\n",
       "      <td>44.33</td>\n",
       "      <td>46.82</td>\n",
       "      <td>63.66</td>\n",
       "      <td>4547213564</td>\n",
       "      <td>1778268727</td>\n",
       "      <td>49.25</td>\n",
       "      <td>0</td>\n",
       "      <td>1</td>\n",
       "      <td>0</td>\n",
       "      <td>0</td>\n",
       "      <td>0.0</td>\n",
       "      <td>0.0</td>\n",
       "      <td>0.000516</td>\n",
       "      <td>0</td>\n",
       "    </tr>\n",
       "    <tr>\n",
       "      <th>831723</th>\n",
       "      <td>17449009</td>\n",
       "      <td>1161.0</td>\n",
       "      <td>154.801025</td>\n",
       "      <td>25.299836</td>\n",
       "      <td>113.58</td>\n",
       "      <td>145.80</td>\n",
       "      <td>145.80</td>\n",
       "      <td>146.20</td>\n",
       "      <td>222.37</td>\n",
       "      <td>4597189990</td>\n",
       "      <td>1857032605</td>\n",
       "      <td>146.20</td>\n",
       "      <td>0</td>\n",
       "      <td>1</td>\n",
       "      <td>0</td>\n",
       "      <td>0</td>\n",
       "      <td>0.0</td>\n",
       "      <td>0.0</td>\n",
       "      <td>0.000861</td>\n",
       "      <td>0</td>\n",
       "    </tr>\n",
       "    <tr>\n",
       "      <th>512440</th>\n",
       "      <td>15700283</td>\n",
       "      <td>3956.0</td>\n",
       "      <td>3.890432</td>\n",
       "      <td>2.643229</td>\n",
       "      <td>1.32</td>\n",
       "      <td>3.34</td>\n",
       "      <td>4.00</td>\n",
       "      <td>4.32</td>\n",
       "      <td>57.36</td>\n",
       "      <td>4567780678</td>\n",
       "      <td>1552293579</td>\n",
       "      <td>4.51</td>\n",
       "      <td>0</td>\n",
       "      <td>0</td>\n",
       "      <td>0</td>\n",
       "      <td>0</td>\n",
       "      <td>0.0</td>\n",
       "      <td>0.0</td>\n",
       "      <td>0.000253</td>\n",
       "      <td>0</td>\n",
       "    </tr>\n",
       "    <tr>\n",
       "      <th>104472</th>\n",
       "      <td>6333700</td>\n",
       "      <td>110.0</td>\n",
       "      <td>389.857273</td>\n",
       "      <td>25.121747</td>\n",
       "      <td>275.08</td>\n",
       "      <td>372.97</td>\n",
       "      <td>372.97</td>\n",
       "      <td>408.11</td>\n",
       "      <td>437.75</td>\n",
       "      <td>4586790780</td>\n",
       "      <td>1752235683</td>\n",
       "      <td>372.97</td>\n",
       "      <td>0</td>\n",
       "      <td>1</td>\n",
       "      <td>0</td>\n",
       "      <td>0</td>\n",
       "      <td>0.0</td>\n",
       "      <td>0.0</td>\n",
       "      <td>0.009091</td>\n",
       "      <td>0</td>\n",
       "    </tr>\n",
       "    <tr>\n",
       "      <th>328067</th>\n",
       "      <td>14605138</td>\n",
       "      <td>337.0</td>\n",
       "      <td>30.791543</td>\n",
       "      <td>2.553119</td>\n",
       "      <td>23.56</td>\n",
       "      <td>29.43</td>\n",
       "      <td>30.61</td>\n",
       "      <td>33.23</td>\n",
       "      <td>35.28</td>\n",
       "      <td>4567275011</td>\n",
       "      <td>1722048363</td>\n",
       "      <td>29.43</td>\n",
       "      <td>0</td>\n",
       "      <td>1</td>\n",
       "      <td>0</td>\n",
       "      <td>0</td>\n",
       "      <td>0.0</td>\n",
       "      <td>0.0</td>\n",
       "      <td>0.002967</td>\n",
       "      <td>0</td>\n",
       "    </tr>\n",
       "  </tbody>\n",
       "</table>\n",
       "</div>"
      ],
      "text/plain": [
       "        CTLG_PROD_ID   count        mean        std     min     25%     50%  \\\n",
       "648436      16000342  1937.0   45.632772   4.313746   35.43   44.33   44.33   \n",
       "831723      17449009  1161.0  154.801025  25.299836  113.58  145.80  145.80   \n",
       "512440      15700283  3956.0    3.890432   2.643229    1.32    3.34    4.00   \n",
       "104472       6333700   110.0  389.857273  25.121747  275.08  372.97  372.97   \n",
       "328067      14605138   337.0   30.791543   2.553119   23.56   29.43   30.61   \n",
       "\n",
       "           75%     max  ORD_ORDER_ID  ITE_ITEM_ID  ITE_BASE_CURRENT_PRICE  \\\n",
       "648436   46.82   63.66    4547213564   1778268727                   49.25   \n",
       "831723  146.20  222.37    4597189990   1857032605                  146.20   \n",
       "512440    4.32   57.36    4567780678   1552293579                    4.51   \n",
       "104472  408.11  437.75    4586790780   1752235683                  372.97   \n",
       "328067   33.23   35.28    4567275011   1722048363                   29.43   \n",
       "\n",
       "        flag_bad_user  is_buybox  has_bpp  has_claim_seller  is_refund  \\\n",
       "648436              0          1        0                 0        0.0   \n",
       "831723              0          1        0                 0        0.0   \n",
       "512440              0          0        0                 0        0.0   \n",
       "104472              0          1        0                 0        0.0   \n",
       "328067              0          1        0                 0        0.0   \n",
       "\n",
       "        bpp_cashout_final    weight  bad_order  \n",
       "648436                0.0  0.000516          0  \n",
       "831723                0.0  0.000861          0  \n",
       "512440                0.0  0.000253          0  \n",
       "104472                0.0  0.009091          0  \n",
       "328067                0.0  0.002967          0  "
      ]
     },
     "execution_count": 25,
     "metadata": {},
     "output_type": "execute_result"
    }
   ],
   "source": [
    "df.sample(5)"
   ]
  },
  {
   "cell_type": "code",
   "execution_count": 26,
   "metadata": {},
   "outputs": [
    {
     "data": {
      "text/plain": [
       "Index(['CTLG_PROD_ID', 'count', 'mean', 'std', 'min', '25%', '50%', '75%',\n",
       "       'max', 'ORD_ORDER_ID', 'ITE_ITEM_ID', 'ITE_BASE_CURRENT_PRICE',\n",
       "       'flag_bad_user', 'is_buybox', 'has_bpp', 'has_claim_seller',\n",
       "       'is_refund', 'bpp_cashout_final', 'weight', 'bad_order'],\n",
       "      dtype='object')"
      ]
     },
     "execution_count": 26,
     "metadata": {},
     "output_type": "execute_result"
    }
   ],
   "source": [
    "df.columns"
   ]
  },
  {
   "cell_type": "markdown",
   "metadata": {},
   "source": [
    "# Base on the Price_Range"
   ]
  },
  {
   "cell_type": "markdown",
   "metadata": {},
   "source": [
    "## Create columns flag low_price for those items with price below the 25%"
   ]
  },
  {
   "cell_type": "code",
   "execution_count": 27,
   "metadata": {},
   "outputs": [],
   "source": [
    "df['Low25_Price'] = df.apply(lambda x: 1 if x['25%'] > x['ITE_BASE_CURRENT_PRICE'] else 0, axis=1)"
   ]
  },
  {
   "cell_type": "markdown",
   "metadata": {},
   "source": [
    "## Create columns flag middle_price for items with price below the 75% and over the  25%"
   ]
  },
  {
   "cell_type": "code",
   "execution_count": 28,
   "metadata": {},
   "outputs": [],
   "source": [
    "df['Middle_Price'] = df.apply(lambda x: 1 if x['75%'] >= x['ITE_BASE_CURRENT_PRICE'] and x['25%'] <= x['ITE_BASE_CURRENT_PRICE'] else 0, axis=1)\n"
   ]
  },
  {
   "cell_type": "markdown",
   "metadata": {},
   "source": [
    "## Create column flag high_price for those items with price over the 75%"
   ]
  },
  {
   "cell_type": "code",
   "execution_count": 29,
   "metadata": {},
   "outputs": [],
   "source": [
    "df['High75_Price'] = df.apply(lambda x: 1 if x['75%'] < x['ITE_BASE_CURRENT_PRICE'] else 0, axis=1)"
   ]
  },
  {
   "cell_type": "markdown",
   "metadata": {},
   "source": [
    "## Create column flag price_range"
   ]
  },
  {
   "cell_type": "code",
   "execution_count": 30,
   "metadata": {},
   "outputs": [],
   "source": [
    "df['Price_Range'] = df.apply(lambda x:'low_25' if x['Low25_Price']== 1 else('high_75' if  x['High75_Price']==1  else 'middle'),axis=1)\n"
   ]
  },
  {
   "cell_type": "code",
   "execution_count": 31,
   "metadata": {},
   "outputs": [
    {
     "data": {
      "text/plain": [
       "Index(['CTLG_PROD_ID', 'count', 'mean', 'std', 'min', '25%', '50%', '75%',\n",
       "       'max', 'ORD_ORDER_ID', 'ITE_ITEM_ID', 'ITE_BASE_CURRENT_PRICE',\n",
       "       'flag_bad_user', 'is_buybox', 'has_bpp', 'has_claim_seller',\n",
       "       'is_refund', 'bpp_cashout_final', 'weight', 'bad_order', 'Low25_Price',\n",
       "       'Middle_Price', 'High75_Price', 'Price_Range'],\n",
       "      dtype='object')"
      ]
     },
     "execution_count": 31,
     "metadata": {},
     "output_type": "execute_result"
    }
   ],
   "source": [
    "df.columns"
   ]
  },
  {
   "cell_type": "code",
   "execution_count": 32,
   "metadata": {},
   "outputs": [
    {
     "data": {
      "text/html": [
       "<div>\n",
       "<style scoped>\n",
       "    .dataframe tbody tr th:only-of-type {\n",
       "        vertical-align: middle;\n",
       "    }\n",
       "\n",
       "    .dataframe tbody tr th {\n",
       "        vertical-align: top;\n",
       "    }\n",
       "\n",
       "    .dataframe thead th {\n",
       "        text-align: right;\n",
       "    }\n",
       "</style>\n",
       "<table border=\"1\" class=\"dataframe\">\n",
       "  <thead>\n",
       "    <tr style=\"text-align: right;\">\n",
       "      <th></th>\n",
       "      <th>CTLG_PROD_ID</th>\n",
       "      <th>count</th>\n",
       "      <th>mean</th>\n",
       "      <th>std</th>\n",
       "      <th>min</th>\n",
       "      <th>25%</th>\n",
       "      <th>50%</th>\n",
       "      <th>75%</th>\n",
       "      <th>max</th>\n",
       "      <th>ORD_ORDER_ID</th>\n",
       "      <th>...</th>\n",
       "      <th>has_bpp</th>\n",
       "      <th>has_claim_seller</th>\n",
       "      <th>is_refund</th>\n",
       "      <th>bpp_cashout_final</th>\n",
       "      <th>weight</th>\n",
       "      <th>bad_order</th>\n",
       "      <th>Low25_Price</th>\n",
       "      <th>Middle_Price</th>\n",
       "      <th>High75_Price</th>\n",
       "      <th>Price_Range</th>\n",
       "    </tr>\n",
       "  </thead>\n",
       "  <tbody>\n",
       "    <tr>\n",
       "      <th>361280</th>\n",
       "      <td>15121865</td>\n",
       "      <td>1278.0</td>\n",
       "      <td>158.815493</td>\n",
       "      <td>12.099898</td>\n",
       "      <td>123.84</td>\n",
       "      <td>150.80</td>\n",
       "      <td>150.80</td>\n",
       "      <td>169.24</td>\n",
       "      <td>176.47</td>\n",
       "      <td>4558267581</td>\n",
       "      <td>...</td>\n",
       "      <td>0</td>\n",
       "      <td>0</td>\n",
       "      <td>0.0</td>\n",
       "      <td>0.0</td>\n",
       "      <td>0.000782</td>\n",
       "      <td>0</td>\n",
       "      <td>0</td>\n",
       "      <td>1</td>\n",
       "      <td>0</td>\n",
       "      <td>middle</td>\n",
       "    </tr>\n",
       "    <tr>\n",
       "      <th>89740</th>\n",
       "      <td>6287694</td>\n",
       "      <td>99.0</td>\n",
       "      <td>129.222121</td>\n",
       "      <td>92.421419</td>\n",
       "      <td>21.85</td>\n",
       "      <td>37.85</td>\n",
       "      <td>214.76</td>\n",
       "      <td>214.76</td>\n",
       "      <td>214.76</td>\n",
       "      <td>4598095731</td>\n",
       "      <td>...</td>\n",
       "      <td>0</td>\n",
       "      <td>0</td>\n",
       "      <td>0.0</td>\n",
       "      <td>0.0</td>\n",
       "      <td>0.010101</td>\n",
       "      <td>0</td>\n",
       "      <td>1</td>\n",
       "      <td>0</td>\n",
       "      <td>0</td>\n",
       "      <td>low_25</td>\n",
       "    </tr>\n",
       "    <tr>\n",
       "      <th>195005</th>\n",
       "      <td>8898171</td>\n",
       "      <td>286.0</td>\n",
       "      <td>40.983077</td>\n",
       "      <td>5.022472</td>\n",
       "      <td>33.73</td>\n",
       "      <td>37.78</td>\n",
       "      <td>38.51</td>\n",
       "      <td>45.06</td>\n",
       "      <td>50.30</td>\n",
       "      <td>4582369619</td>\n",
       "      <td>...</td>\n",
       "      <td>0</td>\n",
       "      <td>0</td>\n",
       "      <td>0.0</td>\n",
       "      <td>0.0</td>\n",
       "      <td>0.003497</td>\n",
       "      <td>0</td>\n",
       "      <td>0</td>\n",
       "      <td>1</td>\n",
       "      <td>0</td>\n",
       "      <td>middle</td>\n",
       "    </tr>\n",
       "    <tr>\n",
       "      <th>51759</th>\n",
       "      <td>6131854</td>\n",
       "      <td>184.0</td>\n",
       "      <td>34.597989</td>\n",
       "      <td>5.378650</td>\n",
       "      <td>9.55</td>\n",
       "      <td>29.97</td>\n",
       "      <td>34.54</td>\n",
       "      <td>38.62</td>\n",
       "      <td>58.95</td>\n",
       "      <td>4549407308</td>\n",
       "      <td>...</td>\n",
       "      <td>0</td>\n",
       "      <td>0</td>\n",
       "      <td>0.0</td>\n",
       "      <td>0.0</td>\n",
       "      <td>0.005435</td>\n",
       "      <td>0</td>\n",
       "      <td>0</td>\n",
       "      <td>0</td>\n",
       "      <td>1</td>\n",
       "      <td>high_75</td>\n",
       "    </tr>\n",
       "    <tr>\n",
       "      <th>275470</th>\n",
       "      <td>12838063</td>\n",
       "      <td>148.0</td>\n",
       "      <td>37.401959</td>\n",
       "      <td>2.614026</td>\n",
       "      <td>32.45</td>\n",
       "      <td>35.24</td>\n",
       "      <td>38.38</td>\n",
       "      <td>39.06</td>\n",
       "      <td>42.98</td>\n",
       "      <td>4583519318</td>\n",
       "      <td>...</td>\n",
       "      <td>1</td>\n",
       "      <td>1</td>\n",
       "      <td>1.0</td>\n",
       "      <td>0.0</td>\n",
       "      <td>0.006757</td>\n",
       "      <td>1</td>\n",
       "      <td>0</td>\n",
       "      <td>1</td>\n",
       "      <td>0</td>\n",
       "      <td>middle</td>\n",
       "    </tr>\n",
       "  </tbody>\n",
       "</table>\n",
       "<p>5 rows × 24 columns</p>\n",
       "</div>"
      ],
      "text/plain": [
       "        CTLG_PROD_ID   count        mean        std     min     25%     50%  \\\n",
       "361280      15121865  1278.0  158.815493  12.099898  123.84  150.80  150.80   \n",
       "89740        6287694    99.0  129.222121  92.421419   21.85   37.85  214.76   \n",
       "195005       8898171   286.0   40.983077   5.022472   33.73   37.78   38.51   \n",
       "51759        6131854   184.0   34.597989   5.378650    9.55   29.97   34.54   \n",
       "275470      12838063   148.0   37.401959   2.614026   32.45   35.24   38.38   \n",
       "\n",
       "           75%     max  ORD_ORDER_ID  ...  has_bpp  has_claim_seller  \\\n",
       "361280  169.24  176.47    4558267581  ...        0                 0   \n",
       "89740   214.76  214.76    4598095731  ...        0                 0   \n",
       "195005   45.06   50.30    4582369619  ...        0                 0   \n",
       "51759    38.62   58.95    4549407308  ...        0                 0   \n",
       "275470   39.06   42.98    4583519318  ...        1                 1   \n",
       "\n",
       "        is_refund  bpp_cashout_final    weight  bad_order  Low25_Price  \\\n",
       "361280        0.0                0.0  0.000782          0            0   \n",
       "89740         0.0                0.0  0.010101          0            1   \n",
       "195005        0.0                0.0  0.003497          0            0   \n",
       "51759         0.0                0.0  0.005435          0            0   \n",
       "275470        1.0                0.0  0.006757          1            0   \n",
       "\n",
       "        Middle_Price  High75_Price  Price_Range  \n",
       "361280             1             0       middle  \n",
       "89740              0             0       low_25  \n",
       "195005             1             0       middle  \n",
       "51759              0             1      high_75  \n",
       "275470             1             0       middle  \n",
       "\n",
       "[5 rows x 24 columns]"
      ]
     },
     "execution_count": 32,
     "metadata": {},
     "output_type": "execute_result"
    }
   ],
   "source": [
    "df.sample(5)"
   ]
  },
  {
   "cell_type": "markdown",
   "metadata": {},
   "source": [
    "## Distribution Bad Orders"
   ]
  },
  {
   "cell_type": "code",
   "execution_count": 33,
   "metadata": {},
   "outputs": [],
   "source": [
    "df_1=df[['Price_Range','bad_order','ORD_ORDER_ID']]"
   ]
  },
  {
   "cell_type": "code",
   "execution_count": 34,
   "metadata": {},
   "outputs": [
    {
     "data": {
      "text/html": [
       "<div>\n",
       "<style scoped>\n",
       "    .dataframe tbody tr th:only-of-type {\n",
       "        vertical-align: middle;\n",
       "    }\n",
       "\n",
       "    .dataframe tbody tr th {\n",
       "        vertical-align: top;\n",
       "    }\n",
       "\n",
       "    .dataframe thead th {\n",
       "        text-align: right;\n",
       "    }\n",
       "</style>\n",
       "<table border=\"1\" class=\"dataframe\">\n",
       "  <thead>\n",
       "    <tr style=\"text-align: right;\">\n",
       "      <th></th>\n",
       "      <th>Price_Range</th>\n",
       "      <th>bad_order</th>\n",
       "      <th>ORD_ORDER_ID</th>\n",
       "      <th>TOTAL</th>\n",
       "      <th>Dis.[%]</th>\n",
       "    </tr>\n",
       "  </thead>\n",
       "  <tbody>\n",
       "    <tr>\n",
       "      <th>0</th>\n",
       "      <td>high_75</td>\n",
       "      <td>0</td>\n",
       "      <td>120675</td>\n",
       "      <td>140534</td>\n",
       "      <td>85.9</td>\n",
       "    </tr>\n",
       "    <tr>\n",
       "      <th>1</th>\n",
       "      <td>high_75</td>\n",
       "      <td>1</td>\n",
       "      <td>19859</td>\n",
       "      <td>140534</td>\n",
       "      <td>14.1</td>\n",
       "    </tr>\n",
       "    <tr>\n",
       "      <th>2</th>\n",
       "      <td>low_25</td>\n",
       "      <td>0</td>\n",
       "      <td>100553</td>\n",
       "      <td>126987</td>\n",
       "      <td>79.2</td>\n",
       "    </tr>\n",
       "    <tr>\n",
       "      <th>3</th>\n",
       "      <td>low_25</td>\n",
       "      <td>1</td>\n",
       "      <td>26434</td>\n",
       "      <td>126987</td>\n",
       "      <td>20.8</td>\n",
       "    </tr>\n",
       "    <tr>\n",
       "      <th>4</th>\n",
       "      <td>middle</td>\n",
       "      <td>0</td>\n",
       "      <td>523584</td>\n",
       "      <td>600876</td>\n",
       "      <td>87.1</td>\n",
       "    </tr>\n",
       "    <tr>\n",
       "      <th>5</th>\n",
       "      <td>middle</td>\n",
       "      <td>1</td>\n",
       "      <td>77292</td>\n",
       "      <td>600876</td>\n",
       "      <td>12.9</td>\n",
       "    </tr>\n",
       "  </tbody>\n",
       "</table>\n",
       "</div>"
      ],
      "text/plain": [
       "  Price_Range  bad_order  ORD_ORDER_ID   TOTAL  Dis.[%]\n",
       "0     high_75          0        120675  140534     85.9\n",
       "1     high_75          1         19859  140534     14.1\n",
       "2      low_25          0        100553  126987     79.2\n",
       "3      low_25          1         26434  126987     20.8\n",
       "4      middle          0        523584  600876     87.1\n",
       "5      middle          1         77292  600876     12.9"
      ]
     },
     "execution_count": 34,
     "metadata": {},
     "output_type": "execute_result"
    }
   ],
   "source": [
    "gb1=df_1.groupby(['Price_Range','bad_order']).count()\n",
    "gb1=gb1.reset_index()\n",
    "\n",
    "gb2=gb1[['Price_Range','ORD_ORDER_ID']].groupby(['Price_Range']).sum()\n",
    "gb2=gb2.reset_index()\n",
    "gb2['TOTAL']=gb2['ORD_ORDER_ID']\n",
    "gb2=gb2[['Price_Range','TOTAL']]\n",
    "\n",
    "gb3 = pd.merge(left = gb1, right = gb2,\n",
    "                how = 'inner',\n",
    "                left_on='Price_Range', right_on='Price_Range')\n",
    "\n",
    "gb3['Dis.[%]']=(gb3['ORD_ORDER_ID']/gb3['TOTAL'])*100\n",
    "gb3['Dis.[%]']=gb3['Dis.[%]'].round(decimals=1)\n",
    "\n",
    "gb3"
   ]
  },
  {
   "cell_type": "code",
   "execution_count": 35,
   "metadata": {},
   "outputs": [
    {
     "data": {
      "image/png": "[encoded data removed]",
      "text/plain": [
       "<Figure size 432x288 with 1 Axes>"
      ]
     },
     "metadata": {
      "needs_background": "light"
     },
     "output_type": "display_data"
    }
   ],
   "source": [
    "sns.histplot(\n",
    "            data=df_1,\n",
    "            x=\"Price_Range\",\n",
    "            hue=\"bad_order\",\n",
    "            multiple=\"dodge\",\n",
    "            shrink=.8\n",
    "            ).set(title='Precio',ylabel='Orders');"
   ]
  },
  {
   "cell_type": "markdown",
   "metadata": {},
   "source": [
    "## Distribution Bad Users"
   ]
  },
  {
   "cell_type": "code",
   "execution_count": 36,
   "metadata": {},
   "outputs": [],
   "source": [
    "df_1=df[['Price_Range','flag_bad_user','ORD_ORDER_ID']]"
   ]
  },
  {
   "cell_type": "code",
   "execution_count": 37,
   "metadata": {},
   "outputs": [
    {
     "data": {
      "text/html": [
       "<div>\n",
       "<style scoped>\n",
       "    .dataframe tbody tr th:only-of-type {\n",
       "        vertical-align: middle;\n",
       "    }\n",
       "\n",
       "    .dataframe tbody tr th {\n",
       "        vertical-align: top;\n",
       "    }\n",
       "\n",
       "    .dataframe thead th {\n",
       "        text-align: right;\n",
       "    }\n",
       "</style>\n",
       "<table border=\"1\" class=\"dataframe\">\n",
       "  <thead>\n",
       "    <tr style=\"text-align: right;\">\n",
       "      <th></th>\n",
       "      <th>Price_Range</th>\n",
       "      <th>flag_bad_user</th>\n",
       "      <th>ORD_ORDER_ID</th>\n",
       "      <th>TOTAL</th>\n",
       "      <th>Dis.[%]</th>\n",
       "    </tr>\n",
       "  </thead>\n",
       "  <tbody>\n",
       "    <tr>\n",
       "      <th>0</th>\n",
       "      <td>high_75</td>\n",
       "      <td>0</td>\n",
       "      <td>136138</td>\n",
       "      <td>140534</td>\n",
       "      <td>96.9</td>\n",
       "    </tr>\n",
       "    <tr>\n",
       "      <th>1</th>\n",
       "      <td>high_75</td>\n",
       "      <td>1</td>\n",
       "      <td>4396</td>\n",
       "      <td>140534</td>\n",
       "      <td>3.1</td>\n",
       "    </tr>\n",
       "    <tr>\n",
       "      <th>2</th>\n",
       "      <td>low_25</td>\n",
       "      <td>0</td>\n",
       "      <td>119663</td>\n",
       "      <td>126987</td>\n",
       "      <td>94.2</td>\n",
       "    </tr>\n",
       "    <tr>\n",
       "      <th>3</th>\n",
       "      <td>low_25</td>\n",
       "      <td>1</td>\n",
       "      <td>7324</td>\n",
       "      <td>126987</td>\n",
       "      <td>5.8</td>\n",
       "    </tr>\n",
       "    <tr>\n",
       "      <th>4</th>\n",
       "      <td>middle</td>\n",
       "      <td>0</td>\n",
       "      <td>582734</td>\n",
       "      <td>600876</td>\n",
       "      <td>97.0</td>\n",
       "    </tr>\n",
       "    <tr>\n",
       "      <th>5</th>\n",
       "      <td>middle</td>\n",
       "      <td>1</td>\n",
       "      <td>18142</td>\n",
       "      <td>600876</td>\n",
       "      <td>3.0</td>\n",
       "    </tr>\n",
       "  </tbody>\n",
       "</table>\n",
       "</div>"
      ],
      "text/plain": [
       "  Price_Range  flag_bad_user  ORD_ORDER_ID   TOTAL  Dis.[%]\n",
       "0     high_75              0        136138  140534     96.9\n",
       "1     high_75              1          4396  140534      3.1\n",
       "2      low_25              0        119663  126987     94.2\n",
       "3      low_25              1          7324  126987      5.8\n",
       "4      middle              0        582734  600876     97.0\n",
       "5      middle              1         18142  600876      3.0"
      ]
     },
     "execution_count": 37,
     "metadata": {},
     "output_type": "execute_result"
    }
   ],
   "source": [
    "gb1=df_1.groupby(['Price_Range','flag_bad_user']).count()\n",
    "gb1=gb1.reset_index()\n",
    "\n",
    "gb2=gb1[['Price_Range','ORD_ORDER_ID']].groupby(['Price_Range']).sum()\n",
    "gb2=gb2.reset_index()\n",
    "gb2['TOTAL']=gb2['ORD_ORDER_ID']\n",
    "gb2=gb2[['Price_Range','TOTAL']]\n",
    "\n",
    "gb3 = pd.merge(left = gb1, right = gb2,\n",
    "                how = 'inner',\n",
    "                left_on='Price_Range', right_on='Price_Range')\n",
    "\n",
    "gb3['Dis.[%]']=(gb3['ORD_ORDER_ID']/gb3['TOTAL'])*100\n",
    "gb3['Dis.[%]']=gb3['Dis.[%]'].round(decimals=1)\n",
    "\n",
    "gb3"
   ]
  },
  {
   "cell_type": "code",
   "execution_count": 38,
   "metadata": {},
   "outputs": [
    {
     "data": {
      "image/png": "[encoded data removed]",
      "text/plain": [
       "<Figure size 432x288 with 1 Axes>"
      ]
     },
     "metadata": {
      "needs_background": "light"
     },
     "output_type": "display_data"
    }
   ],
   "source": [
    "sns.histplot(\n",
    "            data=df_1,\n",
    "            x=\"Price_Range\",\n",
    "            hue=\"flag_bad_user\",\n",
    "            multiple=\"dodge\",\n",
    "            shrink=.8\n",
    "            ).set(title='Precio',ylabel='Orders');"
   ]
  },
  {
   "cell_type": "markdown",
   "metadata": {},
   "source": [
    "## Distribution Has CashOut"
   ]
  },
  {
   "cell_type": "code",
   "execution_count": 39,
   "metadata": {},
   "outputs": [
    {
     "name": "stderr",
     "output_type": "stream",
     "text": [
      "<ipython-input-39-239d2c268fe3>:2: SettingWithCopyWarning: \n",
      "A value is trying to be set on a copy of a slice from a DataFrame.\n",
      "Try using .loc[row_indexer,col_indexer] = value instead\n",
      "\n",
      "See the caveats in the documentation: https://pandas.pydata.org/pandas-docs/stable/user_guide/indexing.html#returning-a-view-versus-a-copy\n",
      "  df_1['has_co'] = df_1.apply(lambda x: 1 if x['bpp_cashout_final'] > 0 else 0, axis=1)\n"
     ]
    }
   ],
   "source": [
    "df_1=df[['Price_Range','bpp_cashout_final','ORD_ORDER_ID']]\n",
    "df_1['has_co'] = df_1.apply(lambda x: 1 if x['bpp_cashout_final'] > 0 else 0, axis=1)\n",
    "df_1=df_1[['Price_Range','has_co','ORD_ORDER_ID']]"
   ]
  },
  {
   "cell_type": "code",
   "execution_count": 40,
   "metadata": {},
   "outputs": [
    {
     "data": {
      "text/html": [
       "<div>\n",
       "<style scoped>\n",
       "    .dataframe tbody tr th:only-of-type {\n",
       "        vertical-align: middle;\n",
       "    }\n",
       "\n",
       "    .dataframe tbody tr th {\n",
       "        vertical-align: top;\n",
       "    }\n",
       "\n",
       "    .dataframe thead th {\n",
       "        text-align: right;\n",
       "    }\n",
       "</style>\n",
       "<table border=\"1\" class=\"dataframe\">\n",
       "  <thead>\n",
       "    <tr style=\"text-align: right;\">\n",
       "      <th></th>\n",
       "      <th>Price_Range</th>\n",
       "      <th>has_co</th>\n",
       "      <th>ORD_ORDER_ID</th>\n",
       "      <th>TOTAL</th>\n",
       "      <th>Dis.[%]</th>\n",
       "    </tr>\n",
       "  </thead>\n",
       "  <tbody>\n",
       "    <tr>\n",
       "      <th>0</th>\n",
       "      <td>high_75</td>\n",
       "      <td>0</td>\n",
       "      <td>139690</td>\n",
       "      <td>140534</td>\n",
       "      <td>99.4</td>\n",
       "    </tr>\n",
       "    <tr>\n",
       "      <th>1</th>\n",
       "      <td>high_75</td>\n",
       "      <td>1</td>\n",
       "      <td>844</td>\n",
       "      <td>140534</td>\n",
       "      <td>0.6</td>\n",
       "    </tr>\n",
       "    <tr>\n",
       "      <th>2</th>\n",
       "      <td>low_25</td>\n",
       "      <td>0</td>\n",
       "      <td>125609</td>\n",
       "      <td>126987</td>\n",
       "      <td>98.9</td>\n",
       "    </tr>\n",
       "    <tr>\n",
       "      <th>3</th>\n",
       "      <td>low_25</td>\n",
       "      <td>1</td>\n",
       "      <td>1378</td>\n",
       "      <td>126987</td>\n",
       "      <td>1.1</td>\n",
       "    </tr>\n",
       "    <tr>\n",
       "      <th>4</th>\n",
       "      <td>middle</td>\n",
       "      <td>0</td>\n",
       "      <td>597099</td>\n",
       "      <td>600876</td>\n",
       "      <td>99.4</td>\n",
       "    </tr>\n",
       "    <tr>\n",
       "      <th>5</th>\n",
       "      <td>middle</td>\n",
       "      <td>1</td>\n",
       "      <td>3777</td>\n",
       "      <td>600876</td>\n",
       "      <td>0.6</td>\n",
       "    </tr>\n",
       "  </tbody>\n",
       "</table>\n",
       "</div>"
      ],
      "text/plain": [
       "  Price_Range  has_co  ORD_ORDER_ID   TOTAL  Dis.[%]\n",
       "0     high_75       0        139690  140534     99.4\n",
       "1     high_75       1           844  140534      0.6\n",
       "2      low_25       0        125609  126987     98.9\n",
       "3      low_25       1          1378  126987      1.1\n",
       "4      middle       0        597099  600876     99.4\n",
       "5      middle       1          3777  600876      0.6"
      ]
     },
     "execution_count": 40,
     "metadata": {},
     "output_type": "execute_result"
    }
   ],
   "source": [
    "gb1=df_1.groupby(['Price_Range','has_co']).count()\n",
    "gb1=gb1.reset_index()\n",
    "\n",
    "gb2=gb1[['Price_Range','ORD_ORDER_ID']].groupby(['Price_Range']).sum()\n",
    "gb2=gb2.reset_index()\n",
    "gb2['TOTAL']=gb2['ORD_ORDER_ID']\n",
    "gb2=gb2[['Price_Range','TOTAL']]\n",
    "\n",
    "gb3 = pd.merge(left = gb1, right = gb2,\n",
    "                how = 'inner',\n",
    "                left_on='Price_Range', right_on='Price_Range')\n",
    "\n",
    "gb3['Dis.[%]']=(gb3['ORD_ORDER_ID']/gb3['TOTAL'])*100\n",
    "gb3['Dis.[%]']=gb3['Dis.[%]'].round(decimals=1)\n",
    "\n",
    "gb3"
   ]
  },
  {
   "cell_type": "code",
   "execution_count": 41,
   "metadata": {},
   "outputs": [
    {
     "data": {
      "image/png": "[encoded data removed]",
      "text/plain": [
       "<Figure size 432x288 with 1 Axes>"
      ]
     },
     "metadata": {
      "needs_background": "light"
     },
     "output_type": "display_data"
    }
   ],
   "source": [
    "sns.histplot(\n",
    "            data=df_1,\n",
    "            x=\"Price_Range\",\n",
    "            hue=\"has_co\",\n",
    "            multiple=\"dodge\",\n",
    "            shrink=.8\n",
    "            ).set(title='Precio',ylabel='Orders');"
   ]
  },
  {
   "cell_type": "markdown",
   "metadata": {},
   "source": [
    "## Distribution Has Claim"
   ]
  },
  {
   "cell_type": "code",
   "execution_count": 42,
   "metadata": {},
   "outputs": [],
   "source": [
    "df_1=df[['Price_Range','has_claim_seller','ORD_ORDER_ID']]"
   ]
  },
  {
   "cell_type": "code",
   "execution_count": 43,
   "metadata": {},
   "outputs": [
    {
     "data": {
      "text/html": [
       "<div>\n",
       "<style scoped>\n",
       "    .dataframe tbody tr th:only-of-type {\n",
       "        vertical-align: middle;\n",
       "    }\n",
       "\n",
       "    .dataframe tbody tr th {\n",
       "        vertical-align: top;\n",
       "    }\n",
       "\n",
       "    .dataframe thead th {\n",
       "        text-align: right;\n",
       "    }\n",
       "</style>\n",
       "<table border=\"1\" class=\"dataframe\">\n",
       "  <thead>\n",
       "    <tr style=\"text-align: right;\">\n",
       "      <th></th>\n",
       "      <th>Price_Range</th>\n",
       "      <th>has_claim_seller</th>\n",
       "      <th>ORD_ORDER_ID</th>\n",
       "      <th>TOTAL</th>\n",
       "      <th>Dis.[%]</th>\n",
       "    </tr>\n",
       "  </thead>\n",
       "  <tbody>\n",
       "    <tr>\n",
       "      <th>0</th>\n",
       "      <td>high_75</td>\n",
       "      <td>0</td>\n",
       "      <td>127238</td>\n",
       "      <td>140534</td>\n",
       "      <td>90.5</td>\n",
       "    </tr>\n",
       "    <tr>\n",
       "      <th>1</th>\n",
       "      <td>high_75</td>\n",
       "      <td>1</td>\n",
       "      <td>13296</td>\n",
       "      <td>140534</td>\n",
       "      <td>9.5</td>\n",
       "    </tr>\n",
       "    <tr>\n",
       "      <th>2</th>\n",
       "      <td>low_25</td>\n",
       "      <td>0</td>\n",
       "      <td>110606</td>\n",
       "      <td>126987</td>\n",
       "      <td>87.1</td>\n",
       "    </tr>\n",
       "    <tr>\n",
       "      <th>3</th>\n",
       "      <td>low_25</td>\n",
       "      <td>1</td>\n",
       "      <td>16381</td>\n",
       "      <td>126987</td>\n",
       "      <td>12.9</td>\n",
       "    </tr>\n",
       "    <tr>\n",
       "      <th>4</th>\n",
       "      <td>middle</td>\n",
       "      <td>0</td>\n",
       "      <td>551372</td>\n",
       "      <td>600876</td>\n",
       "      <td>91.8</td>\n",
       "    </tr>\n",
       "    <tr>\n",
       "      <th>5</th>\n",
       "      <td>middle</td>\n",
       "      <td>1</td>\n",
       "      <td>49504</td>\n",
       "      <td>600876</td>\n",
       "      <td>8.2</td>\n",
       "    </tr>\n",
       "  </tbody>\n",
       "</table>\n",
       "</div>"
      ],
      "text/plain": [
       "  Price_Range  has_claim_seller  ORD_ORDER_ID   TOTAL  Dis.[%]\n",
       "0     high_75                 0        127238  140534     90.5\n",
       "1     high_75                 1         13296  140534      9.5\n",
       "2      low_25                 0        110606  126987     87.1\n",
       "3      low_25                 1         16381  126987     12.9\n",
       "4      middle                 0        551372  600876     91.8\n",
       "5      middle                 1         49504  600876      8.2"
      ]
     },
     "execution_count": 43,
     "metadata": {},
     "output_type": "execute_result"
    }
   ],
   "source": [
    "gb1=df_1.groupby(['Price_Range','has_claim_seller']).count()\n",
    "gb1=gb1.reset_index()\n",
    "\n",
    "gb2=gb1[['Price_Range','ORD_ORDER_ID']].groupby(['Price_Range']).sum()\n",
    "gb2=gb2.reset_index()\n",
    "gb2['TOTAL']=gb2['ORD_ORDER_ID']\n",
    "gb2=gb2[['Price_Range','TOTAL']]\n",
    "\n",
    "gb3 = pd.merge(left = gb1, right = gb2,\n",
    "                how = 'inner',\n",
    "                left_on='Price_Range', right_on='Price_Range')\n",
    "\n",
    "gb3['Dis.[%]']=(gb3['ORD_ORDER_ID']/gb3['TOTAL'])*100\n",
    "gb3['Dis.[%]']=gb3['Dis.[%]'].round(decimals=1)\n",
    "\n",
    "gb3"
   ]
  },
  {
   "cell_type": "code",
   "execution_count": 44,
   "metadata": {},
   "outputs": [
    {
     "data": {
      "image/png": "[encoded data removed]",
      "text/plain": [
       "<Figure size 432x288 with 1 Axes>"
      ]
     },
     "metadata": {
      "needs_background": "light"
     },
     "output_type": "display_data"
    }
   ],
   "source": [
    "sns.histplot(\n",
    "            data=df_1,\n",
    "            x=\"Price_Range\",\n",
    "            hue=\"has_claim_seller\",\n",
    "            multiple=\"dodge\",\n",
    "            shrink=.8\n",
    "            ).set(title='Precio',ylabel='Orders');"
   ]
  },
  {
   "cell_type": "markdown",
   "metadata": {},
   "source": [
    "## Distribution is Refund"
   ]
  },
  {
   "cell_type": "code",
   "execution_count": 45,
   "metadata": {},
   "outputs": [],
   "source": [
    "df_1=df[['Price_Range','is_refund','ORD_ORDER_ID']]"
   ]
  },
  {
   "cell_type": "code",
   "execution_count": 46,
   "metadata": {},
   "outputs": [
    {
     "data": {
      "text/html": [
       "<div>\n",
       "<style scoped>\n",
       "    .dataframe tbody tr th:only-of-type {\n",
       "        vertical-align: middle;\n",
       "    }\n",
       "\n",
       "    .dataframe tbody tr th {\n",
       "        vertical-align: top;\n",
       "    }\n",
       "\n",
       "    .dataframe thead th {\n",
       "        text-align: right;\n",
       "    }\n",
       "</style>\n",
       "<table border=\"1\" class=\"dataframe\">\n",
       "  <thead>\n",
       "    <tr style=\"text-align: right;\">\n",
       "      <th></th>\n",
       "      <th>Price_Range</th>\n",
       "      <th>is_refund</th>\n",
       "      <th>ORD_ORDER_ID</th>\n",
       "      <th>TOTAL</th>\n",
       "      <th>Dis.[%]</th>\n",
       "    </tr>\n",
       "  </thead>\n",
       "  <tbody>\n",
       "    <tr>\n",
       "      <th>0</th>\n",
       "      <td>high_75</td>\n",
       "      <td>0.0</td>\n",
       "      <td>127272</td>\n",
       "      <td>140533</td>\n",
       "      <td>90.6</td>\n",
       "    </tr>\n",
       "    <tr>\n",
       "      <th>1</th>\n",
       "      <td>high_75</td>\n",
       "      <td>1.0</td>\n",
       "      <td>13261</td>\n",
       "      <td>140533</td>\n",
       "      <td>9.4</td>\n",
       "    </tr>\n",
       "    <tr>\n",
       "      <th>2</th>\n",
       "      <td>low_25</td>\n",
       "      <td>0.0</td>\n",
       "      <td>109284</td>\n",
       "      <td>126978</td>\n",
       "      <td>86.1</td>\n",
       "    </tr>\n",
       "    <tr>\n",
       "      <th>3</th>\n",
       "      <td>low_25</td>\n",
       "      <td>1.0</td>\n",
       "      <td>17694</td>\n",
       "      <td>126978</td>\n",
       "      <td>13.9</td>\n",
       "    </tr>\n",
       "    <tr>\n",
       "      <th>4</th>\n",
       "      <td>middle</td>\n",
       "      <td>0.0</td>\n",
       "      <td>551477</td>\n",
       "      <td>600874</td>\n",
       "      <td>91.8</td>\n",
       "    </tr>\n",
       "    <tr>\n",
       "      <th>5</th>\n",
       "      <td>middle</td>\n",
       "      <td>1.0</td>\n",
       "      <td>49397</td>\n",
       "      <td>600874</td>\n",
       "      <td>8.2</td>\n",
       "    </tr>\n",
       "  </tbody>\n",
       "</table>\n",
       "</div>"
      ],
      "text/plain": [
       "  Price_Range  is_refund  ORD_ORDER_ID   TOTAL  Dis.[%]\n",
       "0     high_75        0.0        127272  140533     90.6\n",
       "1     high_75        1.0         13261  140533      9.4\n",
       "2      low_25        0.0        109284  126978     86.1\n",
       "3      low_25        1.0         17694  126978     13.9\n",
       "4      middle        0.0        551477  600874     91.8\n",
       "5      middle        1.0         49397  600874      8.2"
      ]
     },
     "execution_count": 46,
     "metadata": {},
     "output_type": "execute_result"
    }
   ],
   "source": [
    "gb1=df_1.groupby(['Price_Range','is_refund']).count()\n",
    "gb1=gb1.reset_index()\n",
    "\n",
    "gb2=gb1[['Price_Range','ORD_ORDER_ID']].groupby(['Price_Range']).sum()\n",
    "gb2=gb2.reset_index()\n",
    "gb2['TOTAL']=gb2['ORD_ORDER_ID']\n",
    "gb2=gb2[['Price_Range','TOTAL']]\n",
    "\n",
    "gb3 = pd.merge(left = gb1, right = gb2,\n",
    "                how = 'inner',\n",
    "                left_on='Price_Range', right_on='Price_Range')\n",
    "\n",
    "gb3['Dis.[%]']=(gb3['ORD_ORDER_ID']/gb3['TOTAL'])*100\n",
    "gb3['Dis.[%]']=gb3['Dis.[%]'].round(decimals=1)\n",
    "\n",
    "gb3"
   ]
  },
  {
   "cell_type": "code",
   "execution_count": 47,
   "metadata": {},
   "outputs": [
    {
     "data": {
      "image/png": "[encoded data removed]",
      "text/plain": [
       "<Figure size 432x288 with 1 Axes>"
      ]
     },
     "metadata": {
      "needs_background": "light"
     },
     "output_type": "display_data"
    }
   ],
   "source": [
    "sns.histplot(\n",
    "            data=df_1,\n",
    "            x=\"Price_Range\",\n",
    "            hue=\"is_refund\",\n",
    "            multiple=\"dodge\",\n",
    "            shrink=.8\n",
    "            ).set(title='Precio',ylabel='Orders');"
   ]
  },
  {
   "cell_type": "markdown",
   "metadata": {},
   "source": [
    "# Base on the STD_Range"
   ]
  },
  {
   "cell_type": "markdown",
   "metadata": {},
   "source": [
    "## Create DF STD"
   ]
  },
  {
   "cell_type": "code",
   "execution_count": 55,
   "metadata": {},
   "outputs": [
    {
     "name": "stderr",
     "output_type": "stream",
     "text": [
      "<ipython-input-55-01a83c4a6b8b>:2: SettingWithCopyWarning: \n",
      "A value is trying to be set on a copy of a slice from a DataFrame.\n",
      "Try using .loc[row_indexer,col_indexer] = value instead\n",
      "\n",
      "See the caveats in the documentation: https://pandas.pydata.org/pandas-docs/stable/user_guide/indexing.html#returning-a-view-versus-a-copy\n",
      "  df_std['STDx1'] = df_des['std']\n",
      "<ipython-input-55-01a83c4a6b8b>:3: SettingWithCopyWarning: \n",
      "A value is trying to be set on a copy of a slice from a DataFrame.\n",
      "Try using .loc[row_indexer,col_indexer] = value instead\n",
      "\n",
      "See the caveats in the documentation: https://pandas.pydata.org/pandas-docs/stable/user_guide/indexing.html#returning-a-view-versus-a-copy\n",
      "  df_std['STDx1.25'] = df_des['std']*1.25\n",
      "<ipython-input-55-01a83c4a6b8b>:4: SettingWithCopyWarning: \n",
      "A value is trying to be set on a copy of a slice from a DataFrame.\n",
      "Try using .loc[row_indexer,col_indexer] = value instead\n",
      "\n",
      "See the caveats in the documentation: https://pandas.pydata.org/pandas-docs/stable/user_guide/indexing.html#returning-a-view-versus-a-copy\n",
      "  df_std['STDx1.5'] = df_des['std']*1.5\n",
      "<ipython-input-55-01a83c4a6b8b>:5: SettingWithCopyWarning: \n",
      "A value is trying to be set on a copy of a slice from a DataFrame.\n",
      "Try using .loc[row_indexer,col_indexer] = value instead\n",
      "\n",
      "See the caveats in the documentation: https://pandas.pydata.org/pandas-docs/stable/user_guide/indexing.html#returning-a-view-versus-a-copy\n",
      "  df_std['STDx1.75'] = df_des['std']*1.75\n",
      "<ipython-input-55-01a83c4a6b8b>:6: SettingWithCopyWarning: \n",
      "A value is trying to be set on a copy of a slice from a DataFrame.\n",
      "Try using .loc[row_indexer,col_indexer] = value instead\n",
      "\n",
      "See the caveats in the documentation: https://pandas.pydata.org/pandas-docs/stable/user_guide/indexing.html#returning-a-view-versus-a-copy\n",
      "  df_std['STDx2'] = df_des['std']*2\n",
      "<ipython-input-55-01a83c4a6b8b>:7: SettingWithCopyWarning: \n",
      "A value is trying to be set on a copy of a slice from a DataFrame.\n",
      "Try using .loc[row_indexer,col_indexer] = value instead\n",
      "\n",
      "See the caveats in the documentation: https://pandas.pydata.org/pandas-docs/stable/user_guide/indexing.html#returning-a-view-versus-a-copy\n",
      "  df_std['STDx2.25'] = df_des['std']*2.25\n"
     ]
    }
   ],
   "source": [
    "df_std = df_des[['CTLG_PROD_ID','mean']]\n",
    "df_std['STDx1'] = df_des['std']\n",
    "df_std['STDx1.25'] = df_des['std']*1.25\n",
    "df_std['STDx1.5'] = df_des['std']*1.5\n",
    "df_std['STDx1.75'] = df_des['std']*1.75\n",
    "df_std['STDx2'] = df_des['std']*2\n",
    "df_std['STDx2.25'] = df_des['std']*2.25\n",
    "df_std['STDx2.5'] = df_des['std']*2.5\n",
    "df_std['STDx2.75'] = df_des['std']*2.75\n",
    "df_std['STDx3'] = df_des['std']*3\n",
    "df_std=df_std.round(decimals=2)"
   ]
  },
  {
   "cell_type": "code",
   "execution_count": 56,
   "metadata": {},
   "outputs": [
    {
     "data": {
      "text/html": [
       "<div>\n",
       "<style scoped>\n",
       "    .dataframe tbody tr th:only-of-type {\n",
       "        vertical-align: middle;\n",
       "    }\n",
       "\n",
       "    .dataframe tbody tr th {\n",
       "        vertical-align: top;\n",
       "    }\n",
       "\n",
       "    .dataframe thead th {\n",
       "        text-align: right;\n",
       "    }\n",
       "</style>\n",
       "<table border=\"1\" class=\"dataframe\">\n",
       "  <thead>\n",
       "    <tr style=\"text-align: right;\">\n",
       "      <th></th>\n",
       "      <th>CTLG_PROD_ID</th>\n",
       "      <th>mean</th>\n",
       "      <th>STDx1</th>\n",
       "      <th>STDx1.25</th>\n",
       "      <th>STDx1.5</th>\n",
       "      <th>STDx1.75</th>\n",
       "      <th>STDx2</th>\n",
       "      <th>STDx2.25</th>\n",
       "      <th>STDx2.5</th>\n",
       "      <th>STDx2.75</th>\n",
       "      <th>STDx3</th>\n",
       "    </tr>\n",
       "  </thead>\n",
       "  <tbody>\n",
       "    <tr>\n",
       "      <th>7810</th>\n",
       "      <td>16269737</td>\n",
       "      <td>268.04</td>\n",
       "      <td>21.42</td>\n",
       "      <td>26.77</td>\n",
       "      <td>32.13</td>\n",
       "      <td>37.48</td>\n",
       "      <td>42.84</td>\n",
       "      <td>48.19</td>\n",
       "      <td>53.55</td>\n",
       "      <td>58.90</td>\n",
       "      <td>64.26</td>\n",
       "    </tr>\n",
       "    <tr>\n",
       "      <th>3374</th>\n",
       "      <td>13768441</td>\n",
       "      <td>167.18</td>\n",
       "      <td>5.19</td>\n",
       "      <td>6.49</td>\n",
       "      <td>7.78</td>\n",
       "      <td>9.08</td>\n",
       "      <td>10.38</td>\n",
       "      <td>11.67</td>\n",
       "      <td>12.97</td>\n",
       "      <td>14.27</td>\n",
       "      <td>15.56</td>\n",
       "    </tr>\n",
       "    <tr>\n",
       "      <th>6815</th>\n",
       "      <td>15989658</td>\n",
       "      <td>46.60</td>\n",
       "      <td>16.24</td>\n",
       "      <td>20.30</td>\n",
       "      <td>24.36</td>\n",
       "      <td>28.42</td>\n",
       "      <td>32.48</td>\n",
       "      <td>36.54</td>\n",
       "      <td>40.60</td>\n",
       "      <td>44.66</td>\n",
       "      <td>48.72</td>\n",
       "    </tr>\n",
       "    <tr>\n",
       "      <th>7243</th>\n",
       "      <td>16082171</td>\n",
       "      <td>70.67</td>\n",
       "      <td>0.00</td>\n",
       "      <td>0.00</td>\n",
       "      <td>0.00</td>\n",
       "      <td>0.00</td>\n",
       "      <td>0.00</td>\n",
       "      <td>0.00</td>\n",
       "      <td>0.00</td>\n",
       "      <td>0.00</td>\n",
       "      <td>0.00</td>\n",
       "    </tr>\n",
       "    <tr>\n",
       "      <th>1510</th>\n",
       "      <td>7991846</td>\n",
       "      <td>57.27</td>\n",
       "      <td>4.13</td>\n",
       "      <td>5.16</td>\n",
       "      <td>6.19</td>\n",
       "      <td>7.22</td>\n",
       "      <td>8.25</td>\n",
       "      <td>9.28</td>\n",
       "      <td>10.31</td>\n",
       "      <td>11.35</td>\n",
       "      <td>12.38</td>\n",
       "    </tr>\n",
       "  </tbody>\n",
       "</table>\n",
       "</div>"
      ],
      "text/plain": [
       "      CTLG_PROD_ID    mean  STDx1  STDx1.25  STDx1.5  STDx1.75  STDx2  \\\n",
       "7810      16269737  268.04  21.42     26.77    32.13     37.48  42.84   \n",
       "3374      13768441  167.18   5.19      6.49     7.78      9.08  10.38   \n",
       "6815      15989658   46.60  16.24     20.30    24.36     28.42  32.48   \n",
       "7243      16082171   70.67   0.00      0.00     0.00      0.00   0.00   \n",
       "1510       7991846   57.27   4.13      5.16     6.19      7.22   8.25   \n",
       "\n",
       "      STDx2.25  STDx2.5  STDx2.75  STDx3  \n",
       "7810     48.19    53.55     58.90  64.26  \n",
       "3374     11.67    12.97     14.27  15.56  \n",
       "6815     36.54    40.60     44.66  48.72  \n",
       "7243      0.00     0.00      0.00   0.00  \n",
       "1510      9.28    10.31     11.35  12.38  "
      ]
     },
     "execution_count": 56,
     "metadata": {},
     "output_type": "execute_result"
    }
   ],
   "source": [
    "df_std.sample(5)"
   ]
  },
  {
   "cell_type": "code",
   "execution_count": 54,
   "metadata": {},
   "outputs": [
    {
     "data": {
      "text/plain": [
       "Index(['CTLG_PROD_ID', 'count', 'mean', 'std', 'min', '25%', '50%', '75%',\n",
       "       'max', 'ORD_ORDER_ID', 'ITE_ITEM_ID', 'ITE_BASE_CURRENT_PRICE',\n",
       "       'flag_bad_user', 'is_buybox', 'has_bpp', 'has_claim_seller',\n",
       "       'is_refund', 'bpp_cashout_final', 'weight', 'bad_order', 'Low25_Price',\n",
       "       'Middle_Price', 'High75_Price', 'Price_Range'],\n",
       "      dtype='object')"
      ]
     },
     "execution_count": 54,
     "metadata": {},
     "output_type": "execute_result"
    }
   ],
   "source": [
    "df.columns"
   ]
  },
  {
   "cell_type": "markdown",
   "metadata": {},
   "source": [
    "## Join the DF STD with the rest of the info"
   ]
  },
  {
   "cell_type": "code",
   "execution_count": 57,
   "metadata": {},
   "outputs": [],
   "source": [
    "df_red = df[['CTLG_PROD_ID','ORD_ORDER_ID','ITE_ITEM_ID','ITE_BASE_CURRENT_PRICE','flag_bad_user','has_bpp','has_claim_seller','is_refund','bpp_cashout_final','bad_order']]\n",
    "df_s = pd.merge(left = df_red, right = df_std,\n",
    "                how = 'inner',\n",
    "                left_on='CTLG_PROD_ID', right_on='CTLG_PROD_ID')"
   ]
  },
  {
   "cell_type": "code",
   "execution_count": 58,
   "metadata": {},
   "outputs": [
    {
     "data": {
      "text/html": [
       "<div>\n",
       "<style scoped>\n",
       "    .dataframe tbody tr th:only-of-type {\n",
       "        vertical-align: middle;\n",
       "    }\n",
       "\n",
       "    .dataframe tbody tr th {\n",
       "        vertical-align: top;\n",
       "    }\n",
       "\n",
       "    .dataframe thead th {\n",
       "        text-align: right;\n",
       "    }\n",
       "</style>\n",
       "<table border=\"1\" class=\"dataframe\">\n",
       "  <thead>\n",
       "    <tr style=\"text-align: right;\">\n",
       "      <th></th>\n",
       "      <th>CTLG_PROD_ID</th>\n",
       "      <th>ORD_ORDER_ID</th>\n",
       "      <th>ITE_ITEM_ID</th>\n",
       "      <th>ITE_BASE_CURRENT_PRICE</th>\n",
       "      <th>flag_bad_user</th>\n",
       "      <th>has_bpp</th>\n",
       "      <th>has_claim_seller</th>\n",
       "      <th>is_refund</th>\n",
       "      <th>bpp_cashout_final</th>\n",
       "      <th>bad_order</th>\n",
       "      <th>mean</th>\n",
       "      <th>STDx1</th>\n",
       "      <th>STDx1.25</th>\n",
       "      <th>STDx1.5</th>\n",
       "      <th>STDx1.75</th>\n",
       "      <th>STDx2</th>\n",
       "      <th>STDx2.25</th>\n",
       "      <th>STDx2.5</th>\n",
       "      <th>STDx2.75</th>\n",
       "      <th>STDx3</th>\n",
       "    </tr>\n",
       "  </thead>\n",
       "  <tbody>\n",
       "    <tr>\n",
       "      <th>656097</th>\n",
       "      <td>16004905</td>\n",
       "      <td>4601248038</td>\n",
       "      <td>1756759973</td>\n",
       "      <td>80.29</td>\n",
       "      <td>0</td>\n",
       "      <td>0</td>\n",
       "      <td>0</td>\n",
       "      <td>0.0</td>\n",
       "      <td>0.0</td>\n",
       "      <td>0</td>\n",
       "      <td>80.37</td>\n",
       "      <td>0.73</td>\n",
       "      <td>0.91</td>\n",
       "      <td>1.09</td>\n",
       "      <td>1.27</td>\n",
       "      <td>1.45</td>\n",
       "      <td>1.63</td>\n",
       "      <td>1.82</td>\n",
       "      <td>2.00</td>\n",
       "      <td>2.18</td>\n",
       "    </tr>\n",
       "    <tr>\n",
       "      <th>791663</th>\n",
       "      <td>16926661</td>\n",
       "      <td>4554105664</td>\n",
       "      <td>1703408677</td>\n",
       "      <td>113.55</td>\n",
       "      <td>0</td>\n",
       "      <td>0</td>\n",
       "      <td>0</td>\n",
       "      <td>0.0</td>\n",
       "      <td>0.0</td>\n",
       "      <td>0</td>\n",
       "      <td>115.12</td>\n",
       "      <td>7.60</td>\n",
       "      <td>9.50</td>\n",
       "      <td>11.40</td>\n",
       "      <td>13.30</td>\n",
       "      <td>15.19</td>\n",
       "      <td>17.09</td>\n",
       "      <td>18.99</td>\n",
       "      <td>20.89</td>\n",
       "      <td>22.79</td>\n",
       "    </tr>\n",
       "    <tr>\n",
       "      <th>615366</th>\n",
       "      <td>15961044</td>\n",
       "      <td>4571776133</td>\n",
       "      <td>1656034416</td>\n",
       "      <td>30.41</td>\n",
       "      <td>0</td>\n",
       "      <td>0</td>\n",
       "      <td>0</td>\n",
       "      <td>0.0</td>\n",
       "      <td>0.0</td>\n",
       "      <td>0</td>\n",
       "      <td>35.88</td>\n",
       "      <td>7.21</td>\n",
       "      <td>9.01</td>\n",
       "      <td>10.81</td>\n",
       "      <td>12.61</td>\n",
       "      <td>14.41</td>\n",
       "      <td>16.21</td>\n",
       "      <td>18.02</td>\n",
       "      <td>19.82</td>\n",
       "      <td>21.62</td>\n",
       "    </tr>\n",
       "    <tr>\n",
       "      <th>31918</th>\n",
       "      <td>6078680</td>\n",
       "      <td>4593182782</td>\n",
       "      <td>1495954384</td>\n",
       "      <td>69.08</td>\n",
       "      <td>0</td>\n",
       "      <td>0</td>\n",
       "      <td>0</td>\n",
       "      <td>0.0</td>\n",
       "      <td>0.0</td>\n",
       "      <td>0</td>\n",
       "      <td>62.81</td>\n",
       "      <td>22.68</td>\n",
       "      <td>28.35</td>\n",
       "      <td>34.03</td>\n",
       "      <td>39.70</td>\n",
       "      <td>45.37</td>\n",
       "      <td>51.04</td>\n",
       "      <td>56.71</td>\n",
       "      <td>62.38</td>\n",
       "      <td>68.05</td>\n",
       "    </tr>\n",
       "    <tr>\n",
       "      <th>158799</th>\n",
       "      <td>7942172</td>\n",
       "      <td>4579383295</td>\n",
       "      <td>1820029677</td>\n",
       "      <td>64.78</td>\n",
       "      <td>0</td>\n",
       "      <td>1</td>\n",
       "      <td>1</td>\n",
       "      <td>1.0</td>\n",
       "      <td>0.0</td>\n",
       "      <td>1</td>\n",
       "      <td>69.11</td>\n",
       "      <td>5.30</td>\n",
       "      <td>6.62</td>\n",
       "      <td>7.95</td>\n",
       "      <td>9.27</td>\n",
       "      <td>10.60</td>\n",
       "      <td>11.92</td>\n",
       "      <td>13.25</td>\n",
       "      <td>14.57</td>\n",
       "      <td>15.90</td>\n",
       "    </tr>\n",
       "  </tbody>\n",
       "</table>\n",
       "</div>"
      ],
      "text/plain": [
       "        CTLG_PROD_ID  ORD_ORDER_ID  ITE_ITEM_ID  ITE_BASE_CURRENT_PRICE  \\\n",
       "656097      16004905    4601248038   1756759973                   80.29   \n",
       "791663      16926661    4554105664   1703408677                  113.55   \n",
       "615366      15961044    4571776133   1656034416                   30.41   \n",
       "31918        6078680    4593182782   1495954384                   69.08   \n",
       "158799       7942172    4579383295   1820029677                   64.78   \n",
       "\n",
       "        flag_bad_user  has_bpp  has_claim_seller  is_refund  \\\n",
       "656097              0        0                 0        0.0   \n",
       "791663              0        0                 0        0.0   \n",
       "615366              0        0                 0        0.0   \n",
       "31918               0        0                 0        0.0   \n",
       "158799              0        1                 1        1.0   \n",
       "\n",
       "        bpp_cashout_final  bad_order    mean  STDx1  STDx1.25  STDx1.5  \\\n",
       "656097                0.0          0   80.37   0.73      0.91     1.09   \n",
       "791663                0.0          0  115.12   7.60      9.50    11.40   \n",
       "615366                0.0          0   35.88   7.21      9.01    10.81   \n",
       "31918                 0.0          0   62.81  22.68     28.35    34.03   \n",
       "158799                0.0          1   69.11   5.30      6.62     7.95   \n",
       "\n",
       "        STDx1.75  STDx2  STDx2.25  STDx2.5  STDx2.75  STDx3  \n",
       "656097      1.27   1.45      1.63     1.82      2.00   2.18  \n",
       "791663     13.30  15.19     17.09    18.99     20.89  22.79  \n",
       "615366     12.61  14.41     16.21    18.02     19.82  21.62  \n",
       "31918      39.70  45.37     51.04    56.71     62.38  68.05  \n",
       "158799      9.27  10.60     11.92    13.25     14.57  15.90  "
      ]
     },
     "execution_count": 58,
     "metadata": {},
     "output_type": "execute_result"
    }
   ],
   "source": [
    "df_s.sample(5)"
   ]
  },
  {
   "cell_type": "code",
   "execution_count": 71,
   "metadata": {},
   "outputs": [
    {
     "data": {
      "text/plain": [
       "Index(['CTLG_PROD_ID', 'ORD_ORDER_ID', 'ITE_ITEM_ID', 'ITE_BASE_CURRENT_PRICE',\n",
       "       'flag_bad_user', 'has_bpp', 'has_claim_seller', 'is_refund',\n",
       "       'bpp_cashout_final', 'bad_order', 'mean', 'STDx1', 'STDx1.25',\n",
       "       'STDx1.5', 'STDx1.75', 'STDx2', 'STDx2.25', 'STDx2.5', 'STDx2.75',\n",
       "       'STDx3', 'media-2std', 'Low_2STD', 'media+2std', 'High_2STD',\n",
       "       'STD_Range'],\n",
       "      dtype='object')"
      ]
     },
     "execution_count": 71,
     "metadata": {},
     "output_type": "execute_result"
    }
   ],
   "source": [
    "df_s.columns"
   ]
  },
  {
   "cell_type": "markdown",
   "metadata": {},
   "source": [
    "## Create column flag below 2 STD"
   ]
  },
  {
   "cell_type": "code",
   "execution_count": 72,
   "metadata": {},
   "outputs": [],
   "source": [
    "df_s['media-1std'] = df_s['mean'] - df_s['STDx1']\n",
    "df_s['media-1.25std'] = df_s['mean'] - df_s['STDx1.25']\n",
    "df_s['media-1.5std'] = df_s['mean'] - df_s['STDx1.5']\n",
    "df_s['media-1.75std'] = df_s['mean'] - df_s['STDx1.75']\n",
    "df_s['media-2std'] = df_s['mean'] - df_s['STDx2']\n",
    "df_s['media-2.25std'] = df_s['mean'] - df_s['STDx2.25']\n",
    "df_s['media-2.5std'] = df_s['mean'] - df_s['STDx2.5']\n",
    "df_s['media-2.75std'] = df_s['mean'] - df_s['STDx2.75']\n",
    "df_s['media-3std'] = df_s['mean'] - df_s['STDx3']"
   ]
  },
  {
   "cell_type": "code",
   "execution_count": 73,
   "metadata": {},
   "outputs": [],
   "source": [
    "df_s['Low_1STD'] = df_s.apply(lambda x: 1 if x['media-1std'] > x['ITE_BASE_CURRENT_PRICE'] else 0, axis=1)\n",
    "df_s['Low_1.25STD'] = df_s.apply(lambda x: 1 if x['media-1.25std'] > x['ITE_BASE_CURRENT_PRICE'] else 0, axis=1)\n",
    "df_s['Low_1.5STD'] = df_s.apply(lambda x: 1 if x['media-1.5std'] > x['ITE_BASE_CURRENT_PRICE'] else 0, axis=1)\n",
    "df_s['Low_1.75STD'] = df_s.apply(lambda x: 1 if x['media-1.75std'] > x['ITE_BASE_CURRENT_PRICE'] else 0, axis=1)\n",
    "df_s['Low_2STD'] = df_s.apply(lambda x: 1 if x['media-2std'] > x['ITE_BASE_CURRENT_PRICE'] else 0, axis=1)\n",
    "df_s['Low_2.25STD'] = df_s.apply(lambda x: 1 if x['media-2.25std'] > x['ITE_BASE_CURRENT_PRICE'] else 0, axis=1)\n",
    "df_s['Low_2.5STD'] = df_s.apply(lambda x: 1 if x['media-2.5std'] > x['ITE_BASE_CURRENT_PRICE'] else 0, axis=1)\n",
    "df_s['Low_2.75STD'] = df_s.apply(lambda x: 1 if x['media-2.75std'] > x['ITE_BASE_CURRENT_PRICE'] else 0, axis=1)\n",
    "df_s['Low_3STD'] = df_s.apply(lambda x: 1 if x['media-3std'] > x['ITE_BASE_CURRENT_PRICE'] else 0, axis=1)"
   ]
  },
  {
   "cell_type": "markdown",
   "metadata": {},
   "source": [
    "## Create column flag over 2 STD"
   ]
  },
  {
   "cell_type": "code",
   "execution_count": 74,
   "metadata": {},
   "outputs": [],
   "source": [
    "df_s['media+1std'] = df_s['mean'] + df_s['STDx1']\n",
    "df_s['media+1.25std'] = df_s['mean'] + df_s['STDx1.25']\n",
    "df_s['media+1.5std'] = df_s['mean'] + df_s['STDx1.5']\n",
    "df_s['media+1.75std'] = df_s['mean'] + df_s['STDx1.75']\n",
    "df_s['media+2std'] = df_s['mean'] + df_s['STDx2']\n",
    "df_s['media+2.25std'] = df_s['mean'] + df_s['STDx2.25']\n",
    "df_s['media+2.5std'] = df_s['mean'] + df_s['STDx2.5']\n",
    "df_s['media+2.75std'] = df_s['mean'] + df_s['STDx2.75']\n",
    "df_s['media+3std'] = df_s['mean'] + df_s['STDx3']"
   ]
  },
  {
   "cell_type": "code",
   "execution_count": 75,
   "metadata": {},
   "outputs": [],
   "source": [
    "df_s['High_1STD'] = df_s.apply(lambda x: 1 if x['media+1std'] < x['ITE_BASE_CURRENT_PRICE'] else 0, axis=1)\n",
    "df_s['High_1.25STD'] = df_s.apply(lambda x: 1 if x['media+1.25std'] < x['ITE_BASE_CURRENT_PRICE'] else 0, axis=1)\n",
    "df_s['High_1.5STD'] = df_s.apply(lambda x: 1 if x['media+1.5std'] < x['ITE_BASE_CURRENT_PRICE'] else 0, axis=1)\n",
    "df_s['High_1.75STD'] = df_s.apply(lambda x: 1 if x['media+1.75std'] < x['ITE_BASE_CURRENT_PRICE'] else 0, axis=1)\n",
    "df_s['High_2STD'] = df_s.apply(lambda x: 1 if x['media+2std'] < x['ITE_BASE_CURRENT_PRICE'] else 0, axis=1)\n",
    "df_s['High_2.25STD'] = df_s.apply(lambda x: 1 if x['media+2.25std'] < x['ITE_BASE_CURRENT_PRICE'] else 0, axis=1)\n",
    "df_s['High_2.5STD'] = df_s.apply(lambda x: 1 if x['media+2.5std'] < x['ITE_BASE_CURRENT_PRICE'] else 0, axis=1)\n",
    "df_s['High_2.75STD'] = df_s.apply(lambda x: 1 if x['media+2.75std'] < x['ITE_BASE_CURRENT_PRICE'] else 0, axis=1)\n",
    "df_s['High_3STD'] = df_s.apply(lambda x: 1 if x['media+3std'] < x['ITE_BASE_CURRENT_PRICE'] else 0, axis=1)"
   ]
  },
  {
   "cell_type": "markdown",
   "metadata": {},
   "source": [
    "## Create column flag STD_range"
   ]
  },
  {
   "cell_type": "code",
   "execution_count": 76,
   "metadata": {},
   "outputs": [],
   "source": [
    "df_s['1STD_Range'] = df_s.apply(lambda x:'low_STD' if x['Low_1STD']== 1 else('high_STD' if  x['High_1STD']==1  else 'middle_STD'),axis=1)\n",
    "df_s['1.25STD_Range'] = df_s.apply(lambda x:'low_STD' if x['Low_1.25STD']== 1 else('high_STD' if  x['High_1.25STD']==1  else 'middle_STD'),axis=1)\n",
    "df_s['1.5STD_Range'] = df_s.apply(lambda x:'low_STD' if x['Low_1.5STD']== 1 else('high_STD' if  x['High_1.5STD']==1  else 'middle_STD'),axis=1)\n",
    "df_s['1.75STD_Range'] = df_s.apply(lambda x:'low_STD' if x['Low_1.75STD']== 1 else('high_STD' if  x['High_1.75STD']==1  else 'middle_STD'),axis=1)\n",
    "df_s['2STD_Range'] = df_s.apply(lambda x:'low_STD' if x['Low_2STD']== 1 else('high_STD' if  x['High_2STD']==1  else 'middle_STD'),axis=1)\n",
    "df_s['2.25STD_Range'] = df_s.apply(lambda x:'low_STD' if x['Low_2.25STD']== 1 else('high_STD' if  x['High_2.25STD']==1  else 'middle_STD'),axis=1)\n",
    "df_s['2.5STD_Range'] = df_s.apply(lambda x:'low_STD' if x['Low_2.5STD']== 1 else('high_STD' if  x['High_2.5STD']==1  else 'middle_STD'),axis=1)\n",
    "df_s['2.75STD_Range'] = df_s.apply(lambda x:'low_STD' if x['Low_2.75STD']== 1 else('high_STD' if  x['High_2.75STD']==1  else 'middle_STD'),axis=1)\n",
    "df_s['3STD_Range'] = df_s.apply(lambda x:'low_STD' if x['Low_3STD']== 1 else('high_STD' if  x['High_3STD']==1  else 'middle_STD'),axis=1)\n"
   ]
  },
  {
   "cell_type": "code",
   "execution_count": 77,
   "metadata": {},
   "outputs": [
    {
     "data": {
      "text/plain": [
       "Index(['CTLG_PROD_ID', 'ORD_ORDER_ID', 'ITE_ITEM_ID', 'ITE_BASE_CURRENT_PRICE',\n",
       "       'flag_bad_user', 'has_bpp', 'has_claim_seller', 'is_refund',\n",
       "       'bpp_cashout_final', 'bad_order', 'mean', 'STDx1', 'STDx1.25',\n",
       "       'STDx1.5', 'STDx1.75', 'STDx2', 'STDx2.25', 'STDx2.5', 'STDx2.75',\n",
       "       'STDx3', 'media-2std', 'Low_2STD', 'media+2std', 'High_2STD',\n",
       "       'STD_Range', 'media-1std', 'media-1.25std', 'media-1.5std',\n",
       "       'media-1.75std', 'media-2.25std', 'media-2.5std', 'media-2.75std',\n",
       "       'media-3std', 'Low_1STD', 'Low_1.25STD', 'Low_1.5STD', 'Low_1.75STD',\n",
       "       'Low_2.25STD', 'Low_2.5STD', 'Low_2.75STD', 'Low_3STD', 'media+1std',\n",
       "       'media+1.25std', 'media+1.5std', 'media+1.75std', 'media+2.25std',\n",
       "       'media+2.5std', 'media+2.75std', 'media+3std', 'High_1STD',\n",
       "       'High_1.25STD', 'High_1.5STD', 'High_1.75STD', 'High_2.25STD',\n",
       "       'High_2.5STD', 'High_2.75STD', 'High_3STD', '1STD_Range',\n",
       "       '1.25STD_Range', '1.5STD_Range', '1.75STD_Range', '2STD_Range',\n",
       "       '2.25STD_Range', '2.5STD_Range', '2.75STD_Range', '3STD_Range'],\n",
       "      dtype='object')"
      ]
     },
     "execution_count": 77,
     "metadata": {},
     "output_type": "execute_result"
    }
   ],
   "source": [
    "df_s.columns"
   ]
  },
  {
   "cell_type": "code",
   "execution_count": 78,
   "metadata": {},
   "outputs": [
    {
     "data": {
      "text/html": [
       "<div>\n",
       "<style scoped>\n",
       "    .dataframe tbody tr th:only-of-type {\n",
       "        vertical-align: middle;\n",
       "    }\n",
       "\n",
       "    .dataframe tbody tr th {\n",
       "        vertical-align: top;\n",
       "    }\n",
       "\n",
       "    .dataframe thead th {\n",
       "        text-align: right;\n",
       "    }\n",
       "</style>\n",
       "<table border=\"1\" class=\"dataframe\">\n",
       "  <thead>\n",
       "    <tr style=\"text-align: right;\">\n",
       "      <th></th>\n",
       "      <th>CTLG_PROD_ID</th>\n",
       "      <th>ORD_ORDER_ID</th>\n",
       "      <th>ITE_ITEM_ID</th>\n",
       "      <th>ITE_BASE_CURRENT_PRICE</th>\n",
       "      <th>flag_bad_user</th>\n",
       "      <th>has_bpp</th>\n",
       "      <th>has_claim_seller</th>\n",
       "      <th>is_refund</th>\n",
       "      <th>bpp_cashout_final</th>\n",
       "      <th>bad_order</th>\n",
       "      <th>...</th>\n",
       "      <th>High_3STD</th>\n",
       "      <th>1STD_Range</th>\n",
       "      <th>1.25STD_Range</th>\n",
       "      <th>1.5STD_Range</th>\n",
       "      <th>1.75STD_Range</th>\n",
       "      <th>2STD_Range</th>\n",
       "      <th>2.25STD_Range</th>\n",
       "      <th>2.5STD_Range</th>\n",
       "      <th>2.75STD_Range</th>\n",
       "      <th>3STD_Range</th>\n",
       "    </tr>\n",
       "  </thead>\n",
       "  <tbody>\n",
       "    <tr>\n",
       "      <th>397581</th>\n",
       "      <td>15245949</td>\n",
       "      <td>4591059477</td>\n",
       "      <td>1116032739</td>\n",
       "      <td>11.76</td>\n",
       "      <td>0</td>\n",
       "      <td>0</td>\n",
       "      <td>0</td>\n",
       "      <td>0.0</td>\n",
       "      <td>0.0</td>\n",
       "      <td>0</td>\n",
       "      <td>...</td>\n",
       "      <td>0</td>\n",
       "      <td>low_STD</td>\n",
       "      <td>low_STD</td>\n",
       "      <td>low_STD</td>\n",
       "      <td>middle_STD</td>\n",
       "      <td>middle_STD</td>\n",
       "      <td>middle_STD</td>\n",
       "      <td>middle_STD</td>\n",
       "      <td>middle_STD</td>\n",
       "      <td>middle_STD</td>\n",
       "    </tr>\n",
       "    <tr>\n",
       "      <th>576221</th>\n",
       "      <td>15843882</td>\n",
       "      <td>4594018950</td>\n",
       "      <td>1563539699</td>\n",
       "      <td>235.36</td>\n",
       "      <td>0</td>\n",
       "      <td>0</td>\n",
       "      <td>0</td>\n",
       "      <td>0.0</td>\n",
       "      <td>0.0</td>\n",
       "      <td>0</td>\n",
       "      <td>...</td>\n",
       "      <td>0</td>\n",
       "      <td>middle_STD</td>\n",
       "      <td>middle_STD</td>\n",
       "      <td>middle_STD</td>\n",
       "      <td>middle_STD</td>\n",
       "      <td>middle_STD</td>\n",
       "      <td>middle_STD</td>\n",
       "      <td>middle_STD</td>\n",
       "      <td>middle_STD</td>\n",
       "      <td>middle_STD</td>\n",
       "    </tr>\n",
       "    <tr>\n",
       "      <th>712415</th>\n",
       "      <td>16141900</td>\n",
       "      <td>4594878577</td>\n",
       "      <td>1815214027</td>\n",
       "      <td>37.44</td>\n",
       "      <td>1</td>\n",
       "      <td>0</td>\n",
       "      <td>0</td>\n",
       "      <td>0.0</td>\n",
       "      <td>0.0</td>\n",
       "      <td>1</td>\n",
       "      <td>...</td>\n",
       "      <td>0</td>\n",
       "      <td>high_STD</td>\n",
       "      <td>high_STD</td>\n",
       "      <td>high_STD</td>\n",
       "      <td>high_STD</td>\n",
       "      <td>high_STD</td>\n",
       "      <td>high_STD</td>\n",
       "      <td>high_STD</td>\n",
       "      <td>middle_STD</td>\n",
       "      <td>middle_STD</td>\n",
       "    </tr>\n",
       "    <tr>\n",
       "      <th>260814</th>\n",
       "      <td>11547168</td>\n",
       "      <td>4580133057</td>\n",
       "      <td>1739484653</td>\n",
       "      <td>38.06</td>\n",
       "      <td>0</td>\n",
       "      <td>0</td>\n",
       "      <td>0</td>\n",
       "      <td>0.0</td>\n",
       "      <td>0.0</td>\n",
       "      <td>0</td>\n",
       "      <td>...</td>\n",
       "      <td>0</td>\n",
       "      <td>middle_STD</td>\n",
       "      <td>middle_STD</td>\n",
       "      <td>middle_STD</td>\n",
       "      <td>middle_STD</td>\n",
       "      <td>middle_STD</td>\n",
       "      <td>middle_STD</td>\n",
       "      <td>middle_STD</td>\n",
       "      <td>middle_STD</td>\n",
       "      <td>middle_STD</td>\n",
       "    </tr>\n",
       "    <tr>\n",
       "      <th>184900</th>\n",
       "      <td>8755483</td>\n",
       "      <td>4593083810</td>\n",
       "      <td>1891834552</td>\n",
       "      <td>484.82</td>\n",
       "      <td>0</td>\n",
       "      <td>0</td>\n",
       "      <td>0</td>\n",
       "      <td>0.0</td>\n",
       "      <td>0.0</td>\n",
       "      <td>0</td>\n",
       "      <td>...</td>\n",
       "      <td>0</td>\n",
       "      <td>middle_STD</td>\n",
       "      <td>middle_STD</td>\n",
       "      <td>middle_STD</td>\n",
       "      <td>middle_STD</td>\n",
       "      <td>middle_STD</td>\n",
       "      <td>middle_STD</td>\n",
       "      <td>middle_STD</td>\n",
       "      <td>middle_STD</td>\n",
       "      <td>middle_STD</td>\n",
       "    </tr>\n",
       "  </tbody>\n",
       "</table>\n",
       "<p>5 rows × 66 columns</p>\n",
       "</div>"
      ],
      "text/plain": [
       "        CTLG_PROD_ID  ORD_ORDER_ID  ITE_ITEM_ID  ITE_BASE_CURRENT_PRICE  \\\n",
       "397581      15245949    4591059477   1116032739                   11.76   \n",
       "576221      15843882    4594018950   1563539699                  235.36   \n",
       "712415      16141900    4594878577   1815214027                   37.44   \n",
       "260814      11547168    4580133057   1739484653                   38.06   \n",
       "184900       8755483    4593083810   1891834552                  484.82   \n",
       "\n",
       "        flag_bad_user  has_bpp  has_claim_seller  is_refund  \\\n",
       "397581              0        0                 0        0.0   \n",
       "576221              0        0                 0        0.0   \n",
       "712415              1        0                 0        0.0   \n",
       "260814              0        0                 0        0.0   \n",
       "184900              0        0                 0        0.0   \n",
       "\n",
       "        bpp_cashout_final  bad_order  ...  High_3STD  1STD_Range  \\\n",
       "397581                0.0          0  ...          0     low_STD   \n",
       "576221                0.0          0  ...          0  middle_STD   \n",
       "712415                0.0          1  ...          0    high_STD   \n",
       "260814                0.0          0  ...          0  middle_STD   \n",
       "184900                0.0          0  ...          0  middle_STD   \n",
       "\n",
       "        1.25STD_Range  1.5STD_Range  1.75STD_Range  2STD_Range  2.25STD_Range  \\\n",
       "397581        low_STD       low_STD     middle_STD  middle_STD     middle_STD   \n",
       "576221     middle_STD    middle_STD     middle_STD  middle_STD     middle_STD   \n",
       "712415       high_STD      high_STD       high_STD    high_STD       high_STD   \n",
       "260814     middle_STD    middle_STD     middle_STD  middle_STD     middle_STD   \n",
       "184900     middle_STD    middle_STD     middle_STD  middle_STD     middle_STD   \n",
       "\n",
       "        2.5STD_Range  2.75STD_Range  3STD_Range  \n",
       "397581    middle_STD     middle_STD  middle_STD  \n",
       "576221    middle_STD     middle_STD  middle_STD  \n",
       "712415      high_STD     middle_STD  middle_STD  \n",
       "260814    middle_STD     middle_STD  middle_STD  \n",
       "184900    middle_STD     middle_STD  middle_STD  \n",
       "\n",
       "[5 rows x 66 columns]"
      ]
     },
     "execution_count": 78,
     "metadata": {},
     "output_type": "execute_result"
    }
   ],
   "source": [
    "df_s.sample(5)"
   ]
  },
  {
   "cell_type": "code",
   "execution_count": 79,
   "metadata": {},
   "outputs": [
    {
     "data": {
      "text/html": [
       "<div>\n",
       "<style scoped>\n",
       "    .dataframe tbody tr th:only-of-type {\n",
       "        vertical-align: middle;\n",
       "    }\n",
       "\n",
       "    .dataframe tbody tr th {\n",
       "        vertical-align: top;\n",
       "    }\n",
       "\n",
       "    .dataframe thead th {\n",
       "        text-align: right;\n",
       "    }\n",
       "</style>\n",
       "<table border=\"1\" class=\"dataframe\">\n",
       "  <thead>\n",
       "    <tr style=\"text-align: right;\">\n",
       "      <th></th>\n",
       "      <th>1STD_Range</th>\n",
       "      <th>1.25STD_Range</th>\n",
       "      <th>1.5STD_Range</th>\n",
       "      <th>1.75STD_Range</th>\n",
       "      <th>2STD_Range</th>\n",
       "      <th>2.25STD_Range</th>\n",
       "      <th>2.5STD_Range</th>\n",
       "      <th>2.75STD_Range</th>\n",
       "      <th>3STD_Range</th>\n",
       "      <th>bad_order</th>\n",
       "      <th>ORD_ORDER_ID</th>\n",
       "    </tr>\n",
       "  </thead>\n",
       "  <tbody>\n",
       "    <tr>\n",
       "      <th>545608</th>\n",
       "      <td>middle_STD</td>\n",
       "      <td>middle_STD</td>\n",
       "      <td>middle_STD</td>\n",
       "      <td>middle_STD</td>\n",
       "      <td>middle_STD</td>\n",
       "      <td>middle_STD</td>\n",
       "      <td>middle_STD</td>\n",
       "      <td>middle_STD</td>\n",
       "      <td>middle_STD</td>\n",
       "      <td>1</td>\n",
       "      <td>4598895064</td>\n",
       "    </tr>\n",
       "    <tr>\n",
       "      <th>821933</th>\n",
       "      <td>middle_STD</td>\n",
       "      <td>middle_STD</td>\n",
       "      <td>middle_STD</td>\n",
       "      <td>middle_STD</td>\n",
       "      <td>middle_STD</td>\n",
       "      <td>middle_STD</td>\n",
       "      <td>middle_STD</td>\n",
       "      <td>middle_STD</td>\n",
       "      <td>middle_STD</td>\n",
       "      <td>0</td>\n",
       "      <td>4552301868</td>\n",
       "    </tr>\n",
       "    <tr>\n",
       "      <th>356369</th>\n",
       "      <td>middle_STD</td>\n",
       "      <td>middle_STD</td>\n",
       "      <td>middle_STD</td>\n",
       "      <td>middle_STD</td>\n",
       "      <td>middle_STD</td>\n",
       "      <td>middle_STD</td>\n",
       "      <td>middle_STD</td>\n",
       "      <td>middle_STD</td>\n",
       "      <td>middle_STD</td>\n",
       "      <td>0</td>\n",
       "      <td>4535267758</td>\n",
       "    </tr>\n",
       "    <tr>\n",
       "      <th>423881</th>\n",
       "      <td>middle_STD</td>\n",
       "      <td>middle_STD</td>\n",
       "      <td>middle_STD</td>\n",
       "      <td>middle_STD</td>\n",
       "      <td>middle_STD</td>\n",
       "      <td>middle_STD</td>\n",
       "      <td>middle_STD</td>\n",
       "      <td>middle_STD</td>\n",
       "      <td>middle_STD</td>\n",
       "      <td>0</td>\n",
       "      <td>4563340468</td>\n",
       "    </tr>\n",
       "    <tr>\n",
       "      <th>2544</th>\n",
       "      <td>middle_STD</td>\n",
       "      <td>middle_STD</td>\n",
       "      <td>middle_STD</td>\n",
       "      <td>middle_STD</td>\n",
       "      <td>middle_STD</td>\n",
       "      <td>middle_STD</td>\n",
       "      <td>middle_STD</td>\n",
       "      <td>middle_STD</td>\n",
       "      <td>middle_STD</td>\n",
       "      <td>0</td>\n",
       "      <td>4586321327</td>\n",
       "    </tr>\n",
       "  </tbody>\n",
       "</table>\n",
       "</div>"
      ],
      "text/plain": [
       "        1STD_Range 1.25STD_Range 1.5STD_Range 1.75STD_Range  2STD_Range  \\\n",
       "545608  middle_STD    middle_STD   middle_STD    middle_STD  middle_STD   \n",
       "821933  middle_STD    middle_STD   middle_STD    middle_STD  middle_STD   \n",
       "356369  middle_STD    middle_STD   middle_STD    middle_STD  middle_STD   \n",
       "423881  middle_STD    middle_STD   middle_STD    middle_STD  middle_STD   \n",
       "2544    middle_STD    middle_STD   middle_STD    middle_STD  middle_STD   \n",
       "\n",
       "       2.25STD_Range 2.5STD_Range 2.75STD_Range  3STD_Range  bad_order  \\\n",
       "545608    middle_STD   middle_STD    middle_STD  middle_STD          1   \n",
       "821933    middle_STD   middle_STD    middle_STD  middle_STD          0   \n",
       "356369    middle_STD   middle_STD    middle_STD  middle_STD          0   \n",
       "423881    middle_STD   middle_STD    middle_STD  middle_STD          0   \n",
       "2544      middle_STD   middle_STD    middle_STD  middle_STD          0   \n",
       "\n",
       "        ORD_ORDER_ID  \n",
       "545608    4598895064  \n",
       "821933    4552301868  \n",
       "356369    4535267758  \n",
       "423881    4563340468  \n",
       "2544      4586321327  "
      ]
     },
     "execution_count": 79,
     "metadata": {},
     "output_type": "execute_result"
    }
   ],
   "source": [
    "df_2=df_s[['1STD_Range','1.25STD_Range','1.5STD_Range','1.75STD_Range','2STD_Range','2.25STD_Range','2.5STD_Range','2.75STD_Range','3STD_Range','bad_order','ORD_ORDER_ID']]\n",
    "df_2.sample(5)"
   ]
  },
  {
   "cell_type": "markdown",
   "metadata": {},
   "source": [
    "## Distribution Bad Orders by STD"
   ]
  },
  {
   "cell_type": "code",
   "execution_count": 172,
   "metadata": {},
   "outputs": [],
   "source": [
    "df_1=df_s[['1STD_Range','bad_order','ORD_ORDER_ID']]\n",
    "gb1=df_1.groupby(['1STD_Range','bad_order']).count()\n",
    "gb1=gb1.reset_index()\n",
    "\n",
    "gb2=gb1[['1STD_Range','ORD_ORDER_ID']].groupby(['1STD_Range']).sum()\n",
    "gb2=gb2.reset_index()\n",
    "gb2['TOTAL']=gb2['ORD_ORDER_ID']\n",
    "gb2=gb2[['1STD_Range','TOTAL']]\n",
    "\n",
    "ds_1 = pd.merge(left = gb1, right = gb2,\n",
    "                how = 'inner',\n",
    "                left_on='1STD_Range', right_on='1STD_Range')\n",
    "\n",
    "ds_1['Dis.[%]']=(ds_1['ORD_ORDER_ID']/ds_1['TOTAL'])*100\n",
    "ds_1['Dis.[%]']=ds_1['Dis.[%]'].round(decimals=1)\n",
    "\n",
    "ds_1=ds_1[ds_1['bad_order']==1]\n",
    "ds_1=ds_1[ds_1['1STD_Range']=='low_STD']"
   ]
  },
  {
   "cell_type": "code",
   "execution_count": 173,
   "metadata": {},
   "outputs": [],
   "source": [
    "df_1=df_s[['1.25STD_Range','bad_order','ORD_ORDER_ID']]\n",
    "gb1=df_1.groupby(['1.25STD_Range','bad_order']).count()\n",
    "gb1=gb1.reset_index()\n",
    "\n",
    "gb2=gb1[['1.25STD_Range','ORD_ORDER_ID']].groupby(['1.25STD_Range']).sum()\n",
    "gb2=gb2.reset_index()\n",
    "gb2['TOTAL']=gb2['ORD_ORDER_ID']\n",
    "gb2=gb2[['1.25STD_Range','TOTAL']]\n",
    "\n",
    "ds_125 = pd.merge(left = gb1, right = gb2,\n",
    "                how = 'inner',\n",
    "                left_on='1.25STD_Range', right_on='1.25STD_Range')\n",
    "\n",
    "ds_125['Dis.[%]']=(ds_125['ORD_ORDER_ID']/ds_125['TOTAL'])*100\n",
    "ds_125['Dis.[%]']=ds_125['Dis.[%]'].round(decimals=1)\n",
    "\n",
    "ds_125=ds_125[ds_125['bad_order']==1]\n",
    "ds_125=ds_125[ds_125['1.25STD_Range']=='low_STD']"
   ]
  },
  {
   "cell_type": "code",
   "execution_count": 174,
   "metadata": {},
   "outputs": [],
   "source": [
    "df_1=df_s[['1.5STD_Range','bad_order','ORD_ORDER_ID']]\n",
    "gb1=df_1.groupby(['1.5STD_Range','bad_order']).count()\n",
    "gb1=gb1.reset_index()\n",
    "\n",
    "gb2=gb1[['1.5STD_Range','ORD_ORDER_ID']].groupby(['1.5STD_Range']).sum()\n",
    "gb2=gb2.reset_index()\n",
    "gb2['TOTAL']=gb2['ORD_ORDER_ID']\n",
    "gb2=gb2[['1.5STD_Range','TOTAL']]\n",
    "\n",
    "ds_15 = pd.merge(left = gb1, right = gb2,\n",
    "                how = 'inner',\n",
    "                left_on='1.5STD_Range', right_on='1.5STD_Range')\n",
    "\n",
    "ds_15['Dis.[%]']=(ds_15['ORD_ORDER_ID']/ds_15['TOTAL'])*100\n",
    "ds_15['Dis.[%]']=ds_15['Dis.[%]'].round(decimals=1)\n",
    "\n",
    "ds_15=ds_15[ds_15['bad_order']==1]\n",
    "ds_15=ds_15[ds_15['1.5STD_Range']=='low_STD']"
   ]
  },
  {
   "cell_type": "code",
   "execution_count": 175,
   "metadata": {},
   "outputs": [],
   "source": [
    "df_1=df_s[['1.75STD_Range','bad_order','ORD_ORDER_ID']]\n",
    "gb1=df_1.groupby(['1.75STD_Range','bad_order']).count()\n",
    "gb1=gb1.reset_index()\n",
    "\n",
    "gb2=gb1[['1.75STD_Range','ORD_ORDER_ID']].groupby(['1.75STD_Range']).sum()\n",
    "gb2=gb2.reset_index()\n",
    "gb2['TOTAL']=gb2['ORD_ORDER_ID']\n",
    "gb2=gb2[['1.75STD_Range','TOTAL']]\n",
    "\n",
    "ds_175 = pd.merge(left = gb1, right = gb2,\n",
    "                how = 'inner',\n",
    "                left_on='1.75STD_Range', right_on='1.75STD_Range')\n",
    "\n",
    "ds_175['Dis.[%]']=(ds_175['ORD_ORDER_ID']/ds_175['TOTAL'])*100\n",
    "ds_175['Dis.[%]']=ds_175['Dis.[%]'].round(decimals=1)\n",
    "\n",
    "ds_175=ds_175[ds_175['bad_order']==1]\n",
    "ds_175=ds_175[ds_175['1.75STD_Range']=='low_STD']"
   ]
  },
  {
   "cell_type": "code",
   "execution_count": 176,
   "metadata": {},
   "outputs": [],
   "source": [
    "df_1=df_s[['2STD_Range','bad_order','ORD_ORDER_ID']]\n",
    "gb1=df_1.groupby(['2STD_Range','bad_order']).count()\n",
    "gb1=gb1.reset_index()\n",
    "\n",
    "gb2=gb1[['2STD_Range','ORD_ORDER_ID']].groupby(['2STD_Range']).sum()\n",
    "gb2=gb2.reset_index()\n",
    "gb2['TOTAL']=gb2['ORD_ORDER_ID']\n",
    "gb2=gb2[['2STD_Range','TOTAL']]\n",
    "\n",
    "ds_2 = pd.merge(left = gb1, right = gb2,\n",
    "                how = 'inner',\n",
    "                left_on='2STD_Range', right_on='2STD_Range')\n",
    "\n",
    "ds_2['Dis.[%]']=(ds_2['ORD_ORDER_ID']/ds_2['TOTAL'])*100\n",
    "ds_2['Dis.[%]']=ds_2['Dis.[%]'].round(decimals=1)\n",
    "\n",
    "ds_2=ds_2[ds_2['bad_order']==1]\n",
    "ds_2=ds_2[ds_2['2STD_Range']=='low_STD']"
   ]
  },
  {
   "cell_type": "code",
   "execution_count": 177,
   "metadata": {},
   "outputs": [],
   "source": [
    "df_1=df_s[['2.25STD_Range','bad_order','ORD_ORDER_ID']]\n",
    "gb1=df_1.groupby(['2.25STD_Range','bad_order']).count()\n",
    "gb1=gb1.reset_index()\n",
    "\n",
    "gb2=gb1[['2.25STD_Range','ORD_ORDER_ID']].groupby(['2.25STD_Range']).sum()\n",
    "gb2=gb2.reset_index()\n",
    "gb2['TOTAL']=gb2['ORD_ORDER_ID']\n",
    "gb2=gb2[['2.25STD_Range','TOTAL']]\n",
    "\n",
    "ds_225 = pd.merge(left = gb1, right = gb2,\n",
    "                how = 'inner',\n",
    "                left_on='2.25STD_Range', right_on='2.25STD_Range')\n",
    "\n",
    "ds_225['Dis.[%]']=(ds_225['ORD_ORDER_ID']/ds_225['TOTAL'])*100\n",
    "ds_225['Dis.[%]']=ds_225['Dis.[%]'].round(decimals=1)\n",
    "\n",
    "ds_225=ds_225[ds_225['bad_order']==1]\n",
    "ds_225=ds_225[ds_225['2.25STD_Range']=='low_STD']"
   ]
  },
  {
   "cell_type": "code",
   "execution_count": 178,
   "metadata": {},
   "outputs": [],
   "source": [
    "df_1=df_s[['2.5STD_Range','bad_order','ORD_ORDER_ID']]\n",
    "gb1=df_1.groupby(['2.5STD_Range','bad_order']).count()\n",
    "gb1=gb1.reset_index()\n",
    "\n",
    "gb2=gb1[['2.5STD_Range','ORD_ORDER_ID']].groupby(['2.5STD_Range']).sum()\n",
    "gb2=gb2.reset_index()\n",
    "gb2['TOTAL']=gb2['ORD_ORDER_ID']\n",
    "gb2=gb2[['2.5STD_Range','TOTAL']]\n",
    "\n",
    "ds_25 = pd.merge(left = gb1, right = gb2,\n",
    "                how = 'inner',\n",
    "                left_on='2.5STD_Range', right_on='2.5STD_Range')\n",
    "\n",
    "ds_25['Dis.[%]']=(ds_25['ORD_ORDER_ID']/ds_25['TOTAL'])*100\n",
    "ds_25['Dis.[%]']=ds_25['Dis.[%]'].round(decimals=1)\n",
    "\n",
    "ds_25=ds_25[ds_25['bad_order']==1]\n",
    "ds_25=ds_25[ds_25['2.5STD_Range']=='low_STD']"
   ]
  },
  {
   "cell_type": "code",
   "execution_count": 179,
   "metadata": {},
   "outputs": [],
   "source": [
    "df_1=df_s[['2.75STD_Range','bad_order','ORD_ORDER_ID']]\n",
    "gb1=df_1.groupby(['2.75STD_Range','bad_order']).count()\n",
    "gb1=gb1.reset_index()\n",
    "\n",
    "gb2=gb1[['2.75STD_Range','ORD_ORDER_ID']].groupby(['2.75STD_Range']).sum()\n",
    "gb2=gb2.reset_index()\n",
    "gb2['TOTAL']=gb2['ORD_ORDER_ID']\n",
    "gb2=gb2[['2.75STD_Range','TOTAL']]\n",
    "\n",
    "ds_275 = pd.merge(left = gb1, right = gb2,\n",
    "                how = 'inner',\n",
    "                left_on='2.75STD_Range', right_on='2.75STD_Range')\n",
    "\n",
    "ds_275['Dis.[%]']=(ds_275['ORD_ORDER_ID']/ds_275['TOTAL'])*100\n",
    "ds_275['Dis.[%]']=ds_275['Dis.[%]'].round(decimals=1)\n",
    "\n",
    "ds_275=ds_275[ds_275['bad_order']==1]\n",
    "ds_275=ds_275[ds_275['2.75STD_Range']=='low_STD']"
   ]
  },
  {
   "cell_type": "code",
   "execution_count": 180,
   "metadata": {},
   "outputs": [],
   "source": [
    "df_1=df_s[['3STD_Range','bad_order','ORD_ORDER_ID']]\n",
    "gb1=df_1.groupby(['3STD_Range','bad_order']).count()\n",
    "gb1=gb1.reset_index()\n",
    "\n",
    "gb2=gb1[['3STD_Range','ORD_ORDER_ID']].groupby(['3STD_Range']).sum()\n",
    "gb2=gb2.reset_index()\n",
    "gb2['TOTAL']=gb2['ORD_ORDER_ID']\n",
    "gb2=gb2[['3STD_Range','TOTAL']]\n",
    "\n",
    "ds_3 = pd.merge(left = gb1, right = gb2,\n",
    "                how = 'inner',\n",
    "                left_on='3STD_Range', right_on='3STD_Range')\n",
    "\n",
    "ds_3['Dis.[%]']=(ds_3['ORD_ORDER_ID']/ds_3['TOTAL'])*100\n",
    "ds_3['Dis.[%]']=ds_3['Dis.[%]'].round(decimals=1)\n",
    "\n",
    "ds_3=ds_3[ds_3['bad_order']==1]\n",
    "ds_3=ds_3[ds_3['3STD_Range']=='low_STD']"
   ]
  },
  {
   "cell_type": "code",
   "execution_count": 181,
   "metadata": {},
   "outputs": [
    {
     "data": {
      "text/html": [
       "<div>\n",
       "<style scoped>\n",
       "    .dataframe tbody tr th:only-of-type {\n",
       "        vertical-align: middle;\n",
       "    }\n",
       "\n",
       "    .dataframe tbody tr th {\n",
       "        vertical-align: top;\n",
       "    }\n",
       "\n",
       "    .dataframe thead th {\n",
       "        text-align: right;\n",
       "    }\n",
       "</style>\n",
       "<table border=\"1\" class=\"dataframe\">\n",
       "  <thead>\n",
       "    <tr style=\"text-align: right;\">\n",
       "      <th></th>\n",
       "      <th>1STD_Range</th>\n",
       "      <th>bad_order</th>\n",
       "      <th>ORD_ORDER_ID</th>\n",
       "      <th>TOTAL</th>\n",
       "      <th>Dis.[%]</th>\n",
       "    </tr>\n",
       "  </thead>\n",
       "  <tbody>\n",
       "    <tr>\n",
       "      <th>3</th>\n",
       "      <td>low_STD</td>\n",
       "      <td>1</td>\n",
       "      <td>13009</td>\n",
       "      <td>59974</td>\n",
       "      <td>21.7</td>\n",
       "    </tr>\n",
       "  </tbody>\n",
       "</table>\n",
       "</div>"
      ],
      "text/plain": [
       "  1STD_Range  bad_order  ORD_ORDER_ID  TOTAL  Dis.[%]\n",
       "3    low_STD          1         13009  59974     21.7"
      ]
     },
     "execution_count": 181,
     "metadata": {},
     "output_type": "execute_result"
    }
   ],
   "source": [
    "ds_1"
   ]
  },
  {
   "cell_type": "code",
   "execution_count": 182,
   "metadata": {},
   "outputs": [
    {
     "data": {
      "text/html": [
       "<div>\n",
       "<style scoped>\n",
       "    .dataframe tbody tr th:only-of-type {\n",
       "        vertical-align: middle;\n",
       "    }\n",
       "\n",
       "    .dataframe tbody tr th {\n",
       "        vertical-align: top;\n",
       "    }\n",
       "\n",
       "    .dataframe thead th {\n",
       "        text-align: right;\n",
       "    }\n",
       "</style>\n",
       "<table border=\"1\" class=\"dataframe\">\n",
       "  <thead>\n",
       "    <tr style=\"text-align: right;\">\n",
       "      <th></th>\n",
       "      <th>1.25STD_Range</th>\n",
       "      <th>bad_order</th>\n",
       "      <th>ORD_ORDER_ID</th>\n",
       "      <th>TOTAL</th>\n",
       "      <th>Dis.[%]</th>\n",
       "    </tr>\n",
       "  </thead>\n",
       "  <tbody>\n",
       "    <tr>\n",
       "      <th>3</th>\n",
       "      <td>low_STD</td>\n",
       "      <td>1</td>\n",
       "      <td>8395</td>\n",
       "      <td>33889</td>\n",
       "      <td>24.8</td>\n",
       "    </tr>\n",
       "  </tbody>\n",
       "</table>\n",
       "</div>"
      ],
      "text/plain": [
       "  1.25STD_Range  bad_order  ORD_ORDER_ID  TOTAL  Dis.[%]\n",
       "3       low_STD          1          8395  33889     24.8"
      ]
     },
     "execution_count": 182,
     "metadata": {},
     "output_type": "execute_result"
    }
   ],
   "source": [
    "ds_125"
   ]
  },
  {
   "cell_type": "code",
   "execution_count": 183,
   "metadata": {},
   "outputs": [
    {
     "data": {
      "text/html": [
       "<div>\n",
       "<style scoped>\n",
       "    .dataframe tbody tr th:only-of-type {\n",
       "        vertical-align: middle;\n",
       "    }\n",
       "\n",
       "    .dataframe tbody tr th {\n",
       "        vertical-align: top;\n",
       "    }\n",
       "\n",
       "    .dataframe thead th {\n",
       "        text-align: right;\n",
       "    }\n",
       "</style>\n",
       "<table border=\"1\" class=\"dataframe\">\n",
       "  <thead>\n",
       "    <tr style=\"text-align: right;\">\n",
       "      <th></th>\n",
       "      <th>1.5STD_Range</th>\n",
       "      <th>bad_order</th>\n",
       "      <th>ORD_ORDER_ID</th>\n",
       "      <th>TOTAL</th>\n",
       "      <th>Dis.[%]</th>\n",
       "    </tr>\n",
       "  </thead>\n",
       "  <tbody>\n",
       "    <tr>\n",
       "      <th>3</th>\n",
       "      <td>low_STD</td>\n",
       "      <td>1</td>\n",
       "      <td>5528</td>\n",
       "      <td>19755</td>\n",
       "      <td>28.0</td>\n",
       "    </tr>\n",
       "  </tbody>\n",
       "</table>\n",
       "</div>"
      ],
      "text/plain": [
       "  1.5STD_Range  bad_order  ORD_ORDER_ID  TOTAL  Dis.[%]\n",
       "3      low_STD          1          5528  19755     28.0"
      ]
     },
     "execution_count": 183,
     "metadata": {},
     "output_type": "execute_result"
    }
   ],
   "source": [
    "ds_15"
   ]
  },
  {
   "cell_type": "code",
   "execution_count": 184,
   "metadata": {},
   "outputs": [
    {
     "data": {
      "text/html": [
       "<div>\n",
       "<style scoped>\n",
       "    .dataframe tbody tr th:only-of-type {\n",
       "        vertical-align: middle;\n",
       "    }\n",
       "\n",
       "    .dataframe tbody tr th {\n",
       "        vertical-align: top;\n",
       "    }\n",
       "\n",
       "    .dataframe thead th {\n",
       "        text-align: right;\n",
       "    }\n",
       "</style>\n",
       "<table border=\"1\" class=\"dataframe\">\n",
       "  <thead>\n",
       "    <tr style=\"text-align: right;\">\n",
       "      <th></th>\n",
       "      <th>1.75STD_Range</th>\n",
       "      <th>bad_order</th>\n",
       "      <th>ORD_ORDER_ID</th>\n",
       "      <th>TOTAL</th>\n",
       "      <th>Dis.[%]</th>\n",
       "    </tr>\n",
       "  </thead>\n",
       "  <tbody>\n",
       "    <tr>\n",
       "      <th>3</th>\n",
       "      <td>low_STD</td>\n",
       "      <td>1</td>\n",
       "      <td>4040</td>\n",
       "      <td>12347</td>\n",
       "      <td>32.7</td>\n",
       "    </tr>\n",
       "  </tbody>\n",
       "</table>\n",
       "</div>"
      ],
      "text/plain": [
       "  1.75STD_Range  bad_order  ORD_ORDER_ID  TOTAL  Dis.[%]\n",
       "3       low_STD          1          4040  12347     32.7"
      ]
     },
     "execution_count": 184,
     "metadata": {},
     "output_type": "execute_result"
    }
   ],
   "source": [
    "ds_175"
   ]
  },
  {
   "cell_type": "code",
   "execution_count": 185,
   "metadata": {},
   "outputs": [
    {
     "data": {
      "text/html": [
       "<div>\n",
       "<style scoped>\n",
       "    .dataframe tbody tr th:only-of-type {\n",
       "        vertical-align: middle;\n",
       "    }\n",
       "\n",
       "    .dataframe tbody tr th {\n",
       "        vertical-align: top;\n",
       "    }\n",
       "\n",
       "    .dataframe thead th {\n",
       "        text-align: right;\n",
       "    }\n",
       "</style>\n",
       "<table border=\"1\" class=\"dataframe\">\n",
       "  <thead>\n",
       "    <tr style=\"text-align: right;\">\n",
       "      <th></th>\n",
       "      <th>2STD_Range</th>\n",
       "      <th>bad_order</th>\n",
       "      <th>ORD_ORDER_ID</th>\n",
       "      <th>TOTAL</th>\n",
       "      <th>Dis.[%]</th>\n",
       "    </tr>\n",
       "  </thead>\n",
       "  <tbody>\n",
       "    <tr>\n",
       "      <th>3</th>\n",
       "      <td>low_STD</td>\n",
       "      <td>1</td>\n",
       "      <td>2929</td>\n",
       "      <td>8492</td>\n",
       "      <td>34.5</td>\n",
       "    </tr>\n",
       "  </tbody>\n",
       "</table>\n",
       "</div>"
      ],
      "text/plain": [
       "  2STD_Range  bad_order  ORD_ORDER_ID  TOTAL  Dis.[%]\n",
       "3    low_STD          1          2929   8492     34.5"
      ]
     },
     "execution_count": 185,
     "metadata": {},
     "output_type": "execute_result"
    }
   ],
   "source": [
    "ds_2"
   ]
  },
  {
   "cell_type": "code",
   "execution_count": 186,
   "metadata": {},
   "outputs": [
    {
     "data": {
      "text/html": [
       "<div>\n",
       "<style scoped>\n",
       "    .dataframe tbody tr th:only-of-type {\n",
       "        vertical-align: middle;\n",
       "    }\n",
       "\n",
       "    .dataframe tbody tr th {\n",
       "        vertical-align: top;\n",
       "    }\n",
       "\n",
       "    .dataframe thead th {\n",
       "        text-align: right;\n",
       "    }\n",
       "</style>\n",
       "<table border=\"1\" class=\"dataframe\">\n",
       "  <thead>\n",
       "    <tr style=\"text-align: right;\">\n",
       "      <th></th>\n",
       "      <th>2.25STD_Range</th>\n",
       "      <th>bad_order</th>\n",
       "      <th>ORD_ORDER_ID</th>\n",
       "      <th>TOTAL</th>\n",
       "      <th>Dis.[%]</th>\n",
       "    </tr>\n",
       "  </thead>\n",
       "  <tbody>\n",
       "    <tr>\n",
       "      <th>3</th>\n",
       "      <td>low_STD</td>\n",
       "      <td>1</td>\n",
       "      <td>2249</td>\n",
       "      <td>6012</td>\n",
       "      <td>37.4</td>\n",
       "    </tr>\n",
       "  </tbody>\n",
       "</table>\n",
       "</div>"
      ],
      "text/plain": [
       "  2.25STD_Range  bad_order  ORD_ORDER_ID  TOTAL  Dis.[%]\n",
       "3       low_STD          1          2249   6012     37.4"
      ]
     },
     "execution_count": 186,
     "metadata": {},
     "output_type": "execute_result"
    }
   ],
   "source": [
    "ds_225"
   ]
  },
  {
   "cell_type": "code",
   "execution_count": 187,
   "metadata": {},
   "outputs": [
    {
     "data": {
      "text/html": [
       "<div>\n",
       "<style scoped>\n",
       "    .dataframe tbody tr th:only-of-type {\n",
       "        vertical-align: middle;\n",
       "    }\n",
       "\n",
       "    .dataframe tbody tr th {\n",
       "        vertical-align: top;\n",
       "    }\n",
       "\n",
       "    .dataframe thead th {\n",
       "        text-align: right;\n",
       "    }\n",
       "</style>\n",
       "<table border=\"1\" class=\"dataframe\">\n",
       "  <thead>\n",
       "    <tr style=\"text-align: right;\">\n",
       "      <th></th>\n",
       "      <th>2.5STD_Range</th>\n",
       "      <th>bad_order</th>\n",
       "      <th>ORD_ORDER_ID</th>\n",
       "      <th>TOTAL</th>\n",
       "      <th>Dis.[%]</th>\n",
       "    </tr>\n",
       "  </thead>\n",
       "  <tbody>\n",
       "    <tr>\n",
       "      <th>3</th>\n",
       "      <td>low_STD</td>\n",
       "      <td>1</td>\n",
       "      <td>1807</td>\n",
       "      <td>4324</td>\n",
       "      <td>41.8</td>\n",
       "    </tr>\n",
       "  </tbody>\n",
       "</table>\n",
       "</div>"
      ],
      "text/plain": [
       "  2.5STD_Range  bad_order  ORD_ORDER_ID  TOTAL  Dis.[%]\n",
       "3      low_STD          1          1807   4324     41.8"
      ]
     },
     "execution_count": 187,
     "metadata": {},
     "output_type": "execute_result"
    }
   ],
   "source": [
    "ds_25"
   ]
  },
  {
   "cell_type": "code",
   "execution_count": 188,
   "metadata": {},
   "outputs": [
    {
     "data": {
      "text/html": [
       "<div>\n",
       "<style scoped>\n",
       "    .dataframe tbody tr th:only-of-type {\n",
       "        vertical-align: middle;\n",
       "    }\n",
       "\n",
       "    .dataframe tbody tr th {\n",
       "        vertical-align: top;\n",
       "    }\n",
       "\n",
       "    .dataframe thead th {\n",
       "        text-align: right;\n",
       "    }\n",
       "</style>\n",
       "<table border=\"1\" class=\"dataframe\">\n",
       "  <thead>\n",
       "    <tr style=\"text-align: right;\">\n",
       "      <th></th>\n",
       "      <th>2.75STD_Range</th>\n",
       "      <th>bad_order</th>\n",
       "      <th>ORD_ORDER_ID</th>\n",
       "      <th>TOTAL</th>\n",
       "      <th>Dis.[%]</th>\n",
       "    </tr>\n",
       "  </thead>\n",
       "  <tbody>\n",
       "    <tr>\n",
       "      <th>3</th>\n",
       "      <td>low_STD</td>\n",
       "      <td>1</td>\n",
       "      <td>1489</td>\n",
       "      <td>3248</td>\n",
       "      <td>45.8</td>\n",
       "    </tr>\n",
       "  </tbody>\n",
       "</table>\n",
       "</div>"
      ],
      "text/plain": [
       "  2.75STD_Range  bad_order  ORD_ORDER_ID  TOTAL  Dis.[%]\n",
       "3       low_STD          1          1489   3248     45.8"
      ]
     },
     "execution_count": 188,
     "metadata": {},
     "output_type": "execute_result"
    }
   ],
   "source": [
    "ds_275"
   ]
  },
  {
   "cell_type": "code",
   "execution_count": 189,
   "metadata": {},
   "outputs": [
    {
     "data": {
      "text/html": [
       "<div>\n",
       "<style scoped>\n",
       "    .dataframe tbody tr th:only-of-type {\n",
       "        vertical-align: middle;\n",
       "    }\n",
       "\n",
       "    .dataframe tbody tr th {\n",
       "        vertical-align: top;\n",
       "    }\n",
       "\n",
       "    .dataframe thead th {\n",
       "        text-align: right;\n",
       "    }\n",
       "</style>\n",
       "<table border=\"1\" class=\"dataframe\">\n",
       "  <thead>\n",
       "    <tr style=\"text-align: right;\">\n",
       "      <th></th>\n",
       "      <th>3STD_Range</th>\n",
       "      <th>bad_order</th>\n",
       "      <th>ORD_ORDER_ID</th>\n",
       "      <th>TOTAL</th>\n",
       "      <th>Dis.[%]</th>\n",
       "    </tr>\n",
       "  </thead>\n",
       "  <tbody>\n",
       "    <tr>\n",
       "      <th>3</th>\n",
       "      <td>low_STD</td>\n",
       "      <td>1</td>\n",
       "      <td>1279</td>\n",
       "      <td>2537</td>\n",
       "      <td>50.4</td>\n",
       "    </tr>\n",
       "  </tbody>\n",
       "</table>\n",
       "</div>"
      ],
      "text/plain": [
       "  3STD_Range  bad_order  ORD_ORDER_ID  TOTAL  Dis.[%]\n",
       "3    low_STD          1          1279   2537     50.4"
      ]
     },
     "execution_count": 189,
     "metadata": {},
     "output_type": "execute_result"
    }
   ],
   "source": [
    "ds_3"
   ]
  },
  {
   "cell_type": "code",
   "execution_count": 192,
   "metadata": {},
   "outputs": [
    {
     "data": {
      "image/png": "[encoded data removed]",
      "text/plain": [
       "<Figure size 432x288 with 1 Axes>"
      ]
     },
     "metadata": {
      "needs_background": "light"
     },
     "output_type": "display_data"
    }
   ],
   "source": [
    "sns.histplot(\n",
    "            data=df_1,\n",
    "            x=\"3STD_Range\",\n",
    "            hue=\"bad_order\",\n",
    "            multiple=\"dodge\",\n",
    "            shrink=.8\n",
    "            ).set(title='Precio',ylabel='Orders');"
   ]
  },
  {
   "cell_type": "markdown",
   "metadata": {},
   "source": [
    "## Distribution Bad Users"
   ]
  },
  {
   "cell_type": "code",
   "execution_count": 84,
   "metadata": {},
   "outputs": [],
   "source": [
    "df_1=df_s[['STD_Range','flag_bad_user','ORD_ORDER_ID']]"
   ]
  },
  {
   "cell_type": "code",
   "execution_count": 85,
   "metadata": {},
   "outputs": [
    {
     "data": {
      "text/html": [
       "<div>\n",
       "<style scoped>\n",
       "    .dataframe tbody tr th:only-of-type {\n",
       "        vertical-align: middle;\n",
       "    }\n",
       "\n",
       "    .dataframe tbody tr th {\n",
       "        vertical-align: top;\n",
       "    }\n",
       "\n",
       "    .dataframe thead th {\n",
       "        text-align: right;\n",
       "    }\n",
       "</style>\n",
       "<table border=\"1\" class=\"dataframe\">\n",
       "  <thead>\n",
       "    <tr style=\"text-align: right;\">\n",
       "      <th></th>\n",
       "      <th>2STD_Range</th>\n",
       "      <th>flag_bad_user</th>\n",
       "      <th>ORD_ORDER_ID</th>\n",
       "      <th>TOTAL</th>\n",
       "      <th>Dis.[%]</th>\n",
       "    </tr>\n",
       "  </thead>\n",
       "  <tbody>\n",
       "    <tr>\n",
       "      <th>0</th>\n",
       "      <td>high_STD</td>\n",
       "      <td>0</td>\n",
       "      <td>24801</td>\n",
       "      <td>25477</td>\n",
       "      <td>97.3</td>\n",
       "    </tr>\n",
       "    <tr>\n",
       "      <th>1</th>\n",
       "      <td>high_STD</td>\n",
       "      <td>1</td>\n",
       "      <td>676</td>\n",
       "      <td>25477</td>\n",
       "      <td>2.7</td>\n",
       "    </tr>\n",
       "    <tr>\n",
       "      <th>2</th>\n",
       "      <td>low_STD</td>\n",
       "      <td>0</td>\n",
       "      <td>8042</td>\n",
       "      <td>8492</td>\n",
       "      <td>94.7</td>\n",
       "    </tr>\n",
       "    <tr>\n",
       "      <th>3</th>\n",
       "      <td>low_STD</td>\n",
       "      <td>1</td>\n",
       "      <td>450</td>\n",
       "      <td>8492</td>\n",
       "      <td>5.3</td>\n",
       "    </tr>\n",
       "    <tr>\n",
       "      <th>4</th>\n",
       "      <td>middle_STD</td>\n",
       "      <td>0</td>\n",
       "      <td>805692</td>\n",
       "      <td>834428</td>\n",
       "      <td>96.6</td>\n",
       "    </tr>\n",
       "    <tr>\n",
       "      <th>5</th>\n",
       "      <td>middle_STD</td>\n",
       "      <td>1</td>\n",
       "      <td>28736</td>\n",
       "      <td>834428</td>\n",
       "      <td>3.4</td>\n",
       "    </tr>\n",
       "  </tbody>\n",
       "</table>\n",
       "</div>"
      ],
      "text/plain": [
       "   2STD_Range  flag_bad_user  ORD_ORDER_ID   TOTAL  Dis.[%]\n",
       "0    high_STD              0         24801   25477     97.3\n",
       "1    high_STD              1           676   25477      2.7\n",
       "2     low_STD              0          8042    8492     94.7\n",
       "3     low_STD              1           450    8492      5.3\n",
       "4  middle_STD              0        805692  834428     96.6\n",
       "5  middle_STD              1         28736  834428      3.4"
      ]
     },
     "execution_count": 85,
     "metadata": {},
     "output_type": "execute_result"
    }
   ],
   "source": [
    "gb1=df_1.groupby(['STD_Range','flag_bad_user']).count()\n",
    "gb1=gb1.reset_index()\n",
    "\n",
    "gb2=gb1[['STD_Range','ORD_ORDER_ID']].groupby(['STD_Range']).sum()\n",
    "gb2=gb2.reset_index()\n",
    "gb2['TOTAL']=gb2['ORD_ORDER_ID']\n",
    "gb2=gb2[['2STD_Range','TOTAL']]\n",
    "\n",
    "gb3 = pd.merge(left = gb1, right = gb2,\n",
    "                how = 'inner',\n",
    "                left_on='STD_Range', right_on='STD_Range')\n",
    "\n",
    "gb3['Dis.[%]']=(gb3['ORD_ORDER_ID']/gb3['TOTAL'])*100\n",
    "gb3['Dis.[%]']=gb3['Dis.[%]'].round(decimals=1)\n",
    "\n",
    "gb3"
   ]
  },
  {
   "cell_type": "code",
   "execution_count": 83,
   "metadata": {},
   "outputs": [
    {
     "data": {
      "image/png": "[encoded data removed]",
      "text/plain": [
       "<Figure size 432x288 with 1 Axes>"
      ]
     },
     "metadata": {
      "needs_background": "light"
     },
     "output_type": "display_data"
    }
   ],
   "source": [
    "sns.histplot(\n",
    "            data=df_1,\n",
    "            x=\"STD_Range\",\n",
    "            hue=\"flag_bad_user\",\n",
    "            multiple=\"dodge\",\n",
    "            shrink=.8\n",
    "            ).set(title='Precio',ylabel='Orders');"
   ]
  },
  {
   "cell_type": "markdown",
   "metadata": {},
   "source": [
    "## Distribution Has CashOut"
   ]
  },
  {
   "cell_type": "code",
   "execution_count": 43,
   "metadata": {},
   "outputs": [
    {
     "name": "stderr",
     "output_type": "stream",
     "text": [
      "<ipython-input-43-080048337619>:2: SettingWithCopyWarning: \n",
      "A value is trying to be set on a copy of a slice from a DataFrame.\n",
      "Try using .loc[row_indexer,col_indexer] = value instead\n",
      "\n",
      "See the caveats in the documentation: https://pandas.pydata.org/pandas-docs/stable/user_guide/indexing.html#returning-a-view-versus-a-copy\n",
      "  df_1['has_co'] = df_1.apply(lambda x: 1 if x['bpp_cashout_final'] > 0 else 0, axis=1)\n"
     ]
    }
   ],
   "source": [
    "df_1=df_s[['STD_Range','bpp_cashout_final','ORD_ORDER_ID']]\n",
    "df_1['has_co'] = df_1.apply(lambda x: 1 if x['bpp_cashout_final'] > 0 else 0, axis=1)\n",
    "df_1=df_1[['STD_Range','has_co','ORD_ORDER_ID']]"
   ]
  },
  {
   "cell_type": "code",
   "execution_count": 44,
   "metadata": {},
   "outputs": [
    {
     "data": {
      "text/html": [
       "<div>\n",
       "<style scoped>\n",
       "    .dataframe tbody tr th:only-of-type {\n",
       "        vertical-align: middle;\n",
       "    }\n",
       "\n",
       "    .dataframe tbody tr th {\n",
       "        vertical-align: top;\n",
       "    }\n",
       "\n",
       "    .dataframe thead th {\n",
       "        text-align: right;\n",
       "    }\n",
       "</style>\n",
       "<table border=\"1\" class=\"dataframe\">\n",
       "  <thead>\n",
       "    <tr style=\"text-align: right;\">\n",
       "      <th></th>\n",
       "      <th>STD_Range</th>\n",
       "      <th>has_co</th>\n",
       "      <th>ORD_ORDER_ID</th>\n",
       "      <th>TOTAL</th>\n",
       "      <th>Dis.[%]</th>\n",
       "    </tr>\n",
       "  </thead>\n",
       "  <tbody>\n",
       "    <tr>\n",
       "      <th>0</th>\n",
       "      <td>high_2STD</td>\n",
       "      <td>0</td>\n",
       "      <td>19963</td>\n",
       "      <td>20046</td>\n",
       "      <td>99.6</td>\n",
       "    </tr>\n",
       "    <tr>\n",
       "      <th>1</th>\n",
       "      <td>high_2STD</td>\n",
       "      <td>1</td>\n",
       "      <td>83</td>\n",
       "      <td>20046</td>\n",
       "      <td>0.4</td>\n",
       "    </tr>\n",
       "    <tr>\n",
       "      <th>2</th>\n",
       "      <td>low_2STD</td>\n",
       "      <td>0</td>\n",
       "      <td>5201</td>\n",
       "      <td>5310</td>\n",
       "      <td>97.9</td>\n",
       "    </tr>\n",
       "    <tr>\n",
       "      <th>3</th>\n",
       "      <td>low_2STD</td>\n",
       "      <td>1</td>\n",
       "      <td>109</td>\n",
       "      <td>5310</td>\n",
       "      <td>2.1</td>\n",
       "    </tr>\n",
       "    <tr>\n",
       "      <th>4</th>\n",
       "      <td>middle_2STD</td>\n",
       "      <td>0</td>\n",
       "      <td>837234</td>\n",
       "      <td>843041</td>\n",
       "      <td>99.3</td>\n",
       "    </tr>\n",
       "    <tr>\n",
       "      <th>5</th>\n",
       "      <td>middle_2STD</td>\n",
       "      <td>1</td>\n",
       "      <td>5807</td>\n",
       "      <td>843041</td>\n",
       "      <td>0.7</td>\n",
       "    </tr>\n",
       "  </tbody>\n",
       "</table>\n",
       "</div>"
      ],
      "text/plain": [
       "     STD_Range  has_co  ORD_ORDER_ID   TOTAL  Dis.[%]\n",
       "0    high_2STD       0         19963   20046     99.6\n",
       "1    high_2STD       1            83   20046      0.4\n",
       "2     low_2STD       0          5201    5310     97.9\n",
       "3     low_2STD       1           109    5310      2.1\n",
       "4  middle_2STD       0        837234  843041     99.3\n",
       "5  middle_2STD       1          5807  843041      0.7"
      ]
     },
     "execution_count": 44,
     "metadata": {},
     "output_type": "execute_result"
    }
   ],
   "source": [
    "gb1=df_1.groupby(['STD_Range','has_co']).count()\n",
    "gb1=gb1.reset_index()\n",
    "\n",
    "gb2=gb1[['STD_Range','ORD_ORDER_ID']].groupby(['STD_Range']).sum()\n",
    "gb2=gb2.reset_index()\n",
    "gb2['TOTAL']=gb2['ORD_ORDER_ID']\n",
    "gb2=gb2[['STD_Range','TOTAL']]\n",
    "\n",
    "gb3 = pd.merge(left = gb1, right = gb2,\n",
    "                how = 'inner',\n",
    "                left_on='STD_Range', right_on='STD_Range')\n",
    "\n",
    "gb3['Dis.[%]']=(gb3['ORD_ORDER_ID']/gb3['TOTAL'])*100\n",
    "gb3['Dis.[%]']=gb3['Dis.[%]'].round(decimals=1)\n",
    "\n",
    "gb3"
   ]
  },
  {
   "cell_type": "code",
   "execution_count": 45,
   "metadata": {},
   "outputs": [
    {
     "data": {
      "image/png": "[encoded data removed]",
      "text/plain": [
       "<Figure size 432x288 with 1 Axes>"
      ]
     },
     "metadata": {
      "needs_background": "light"
     },
     "output_type": "display_data"
    }
   ],
   "source": [
    "sns.histplot(\n",
    "            data=df_1,\n",
    "            x=\"STD_Range\",\n",
    "            hue=\"has_co\",\n",
    "            multiple=\"dodge\",\n",
    "            shrink=.8\n",
    "            ).set(title='Precio',ylabel='Orders');"
   ]
  },
  {
   "cell_type": "markdown",
   "metadata": {},
   "source": [
    "## Distribution Has Claim"
   ]
  },
  {
   "cell_type": "code",
   "execution_count": 46,
   "metadata": {},
   "outputs": [],
   "source": [
    "df_1=df_s[['STD_Range','has_claim_seller','ORD_ORDER_ID']]"
   ]
  },
  {
   "cell_type": "code",
   "execution_count": 47,
   "metadata": {},
   "outputs": [
    {
     "data": {
      "text/html": [
       "<div>\n",
       "<style scoped>\n",
       "    .dataframe tbody tr th:only-of-type {\n",
       "        vertical-align: middle;\n",
       "    }\n",
       "\n",
       "    .dataframe tbody tr th {\n",
       "        vertical-align: top;\n",
       "    }\n",
       "\n",
       "    .dataframe thead th {\n",
       "        text-align: right;\n",
       "    }\n",
       "</style>\n",
       "<table border=\"1\" class=\"dataframe\">\n",
       "  <thead>\n",
       "    <tr style=\"text-align: right;\">\n",
       "      <th></th>\n",
       "      <th>STD_Range</th>\n",
       "      <th>has_claim_seller</th>\n",
       "      <th>ORD_ORDER_ID</th>\n",
       "      <th>TOTAL</th>\n",
       "      <th>Dis.[%]</th>\n",
       "    </tr>\n",
       "  </thead>\n",
       "  <tbody>\n",
       "    <tr>\n",
       "      <th>0</th>\n",
       "      <td>high_2STD</td>\n",
       "      <td>0</td>\n",
       "      <td>17889</td>\n",
       "      <td>20046</td>\n",
       "      <td>89.2</td>\n",
       "    </tr>\n",
       "    <tr>\n",
       "      <th>1</th>\n",
       "      <td>high_2STD</td>\n",
       "      <td>1</td>\n",
       "      <td>2157</td>\n",
       "      <td>20046</td>\n",
       "      <td>10.8</td>\n",
       "    </tr>\n",
       "    <tr>\n",
       "      <th>2</th>\n",
       "      <td>low_2STD</td>\n",
       "      <td>0</td>\n",
       "      <td>3807</td>\n",
       "      <td>5310</td>\n",
       "      <td>71.7</td>\n",
       "    </tr>\n",
       "    <tr>\n",
       "      <th>3</th>\n",
       "      <td>low_2STD</td>\n",
       "      <td>1</td>\n",
       "      <td>1503</td>\n",
       "      <td>5310</td>\n",
       "      <td>28.3</td>\n",
       "    </tr>\n",
       "    <tr>\n",
       "      <th>4</th>\n",
       "      <td>middle_2STD</td>\n",
       "      <td>0</td>\n",
       "      <td>767520</td>\n",
       "      <td>843041</td>\n",
       "      <td>91.0</td>\n",
       "    </tr>\n",
       "    <tr>\n",
       "      <th>5</th>\n",
       "      <td>middle_2STD</td>\n",
       "      <td>1</td>\n",
       "      <td>75521</td>\n",
       "      <td>843041</td>\n",
       "      <td>9.0</td>\n",
       "    </tr>\n",
       "  </tbody>\n",
       "</table>\n",
       "</div>"
      ],
      "text/plain": [
       "     STD_Range  has_claim_seller  ORD_ORDER_ID   TOTAL  Dis.[%]\n",
       "0    high_2STD                 0         17889   20046     89.2\n",
       "1    high_2STD                 1          2157   20046     10.8\n",
       "2     low_2STD                 0          3807    5310     71.7\n",
       "3     low_2STD                 1          1503    5310     28.3\n",
       "4  middle_2STD                 0        767520  843041     91.0\n",
       "5  middle_2STD                 1         75521  843041      9.0"
      ]
     },
     "execution_count": 47,
     "metadata": {},
     "output_type": "execute_result"
    }
   ],
   "source": [
    "gb1=df_1.groupby(['STD_Range','has_claim_seller']).count()\n",
    "gb1=gb1.reset_index()\n",
    "\n",
    "gb2=gb1[['STD_Range','ORD_ORDER_ID']].groupby(['STD_Range']).sum()\n",
    "gb2=gb2.reset_index()\n",
    "gb2['TOTAL']=gb2['ORD_ORDER_ID']\n",
    "gb2=gb2[['STD_Range','TOTAL']]\n",
    "\n",
    "gb3 = pd.merge(left = gb1, right = gb2,\n",
    "                how = 'inner',\n",
    "                left_on='STD_Range', right_on='STD_Range')\n",
    "\n",
    "gb3['Dis.[%]']=(gb3['ORD_ORDER_ID']/gb3['TOTAL'])*100\n",
    "gb3['Dis.[%]']=gb3['Dis.[%]'].round(decimals=1)\n",
    "\n",
    "gb3"
   ]
  },
  {
   "cell_type": "code",
   "execution_count": 48,
   "metadata": {},
   "outputs": [
    {
     "data": {
      "image/png": "[encoded data removed]",
      "text/plain": [
       "<Figure size 432x288 with 1 Axes>"
      ]
     },
     "metadata": {
      "needs_background": "light"
     },
     "output_type": "display_data"
    }
   ],
   "source": [
    "sns.histplot(\n",
    "            data=df_1,\n",
    "            x=\"STD_Range\",\n",
    "            hue=\"has_claim_seller\",\n",
    "            multiple=\"dodge\",\n",
    "            shrink=.8\n",
    "            ).set(title='Precio',ylabel='Orders');"
   ]
  },
  {
   "cell_type": "markdown",
   "metadata": {},
   "source": [
    "## Distribution is Refund"
   ]
  },
  {
   "cell_type": "code",
   "execution_count": 49,
   "metadata": {},
   "outputs": [],
   "source": [
    "df_1=df_s[['STD_Range','is_refund','ORD_ORDER_ID']]"
   ]
  },
  {
   "cell_type": "code",
   "execution_count": 50,
   "metadata": {},
   "outputs": [
    {
     "data": {
      "text/html": [
       "<div>\n",
       "<style scoped>\n",
       "    .dataframe tbody tr th:only-of-type {\n",
       "        vertical-align: middle;\n",
       "    }\n",
       "\n",
       "    .dataframe tbody tr th {\n",
       "        vertical-align: top;\n",
       "    }\n",
       "\n",
       "    .dataframe thead th {\n",
       "        text-align: right;\n",
       "    }\n",
       "</style>\n",
       "<table border=\"1\" class=\"dataframe\">\n",
       "  <thead>\n",
       "    <tr style=\"text-align: right;\">\n",
       "      <th></th>\n",
       "      <th>STD_Range</th>\n",
       "      <th>is_refund</th>\n",
       "      <th>ORD_ORDER_ID</th>\n",
       "      <th>TOTAL</th>\n",
       "      <th>Dis.[%]</th>\n",
       "    </tr>\n",
       "  </thead>\n",
       "  <tbody>\n",
       "    <tr>\n",
       "      <th>0</th>\n",
       "      <td>high_2STD</td>\n",
       "      <td>0.0</td>\n",
       "      <td>17999</td>\n",
       "      <td>20046</td>\n",
       "      <td>89.8</td>\n",
       "    </tr>\n",
       "    <tr>\n",
       "      <th>1</th>\n",
       "      <td>high_2STD</td>\n",
       "      <td>1.0</td>\n",
       "      <td>2047</td>\n",
       "      <td>20046</td>\n",
       "      <td>10.2</td>\n",
       "    </tr>\n",
       "    <tr>\n",
       "      <th>2</th>\n",
       "      <td>low_2STD</td>\n",
       "      <td>0.0</td>\n",
       "      <td>3531</td>\n",
       "      <td>5309</td>\n",
       "      <td>66.5</td>\n",
       "    </tr>\n",
       "    <tr>\n",
       "      <th>3</th>\n",
       "      <td>low_2STD</td>\n",
       "      <td>1.0</td>\n",
       "      <td>1778</td>\n",
       "      <td>5309</td>\n",
       "      <td>33.5</td>\n",
       "    </tr>\n",
       "    <tr>\n",
       "      <th>4</th>\n",
       "      <td>middle_2STD</td>\n",
       "      <td>0.0</td>\n",
       "      <td>766503</td>\n",
       "      <td>843030</td>\n",
       "      <td>90.9</td>\n",
       "    </tr>\n",
       "    <tr>\n",
       "      <th>5</th>\n",
       "      <td>middle_2STD</td>\n",
       "      <td>1.0</td>\n",
       "      <td>76527</td>\n",
       "      <td>843030</td>\n",
       "      <td>9.1</td>\n",
       "    </tr>\n",
       "  </tbody>\n",
       "</table>\n",
       "</div>"
      ],
      "text/plain": [
       "     STD_Range  is_refund  ORD_ORDER_ID   TOTAL  Dis.[%]\n",
       "0    high_2STD        0.0         17999   20046     89.8\n",
       "1    high_2STD        1.0          2047   20046     10.2\n",
       "2     low_2STD        0.0          3531    5309     66.5\n",
       "3     low_2STD        1.0          1778    5309     33.5\n",
       "4  middle_2STD        0.0        766503  843030     90.9\n",
       "5  middle_2STD        1.0         76527  843030      9.1"
      ]
     },
     "execution_count": 50,
     "metadata": {},
     "output_type": "execute_result"
    }
   ],
   "source": [
    "gb1=df_1.groupby(['STD_Range','is_refund']).count()\n",
    "gb1=gb1.reset_index()\n",
    "\n",
    "gb2=gb1[['STD_Range','ORD_ORDER_ID']].groupby(['STD_Range']).sum()\n",
    "gb2=gb2.reset_index()\n",
    "gb2['TOTAL']=gb2['ORD_ORDER_ID']\n",
    "gb2=gb2[['STD_Range','TOTAL']]\n",
    "\n",
    "gb3 = pd.merge(left = gb1, right = gb2,\n",
    "                how = 'inner',\n",
    "                left_on='STD_Range', right_on='STD_Range')\n",
    "\n",
    "gb3['Dis.[%]']=(gb3['ORD_ORDER_ID']/gb3['TOTAL'])*100\n",
    "gb3['Dis.[%]']=gb3['Dis.[%]'].round(decimals=1)\n",
    "\n",
    "gb3"
   ]
  },
  {
   "cell_type": "code",
   "execution_count": 51,
   "metadata": {},
   "outputs": [
    {
     "data": {
      "image/png": "[encoded data removed]",
      "text/plain": [
       "<Figure size 432x288 with 1 Axes>"
      ]
     },
     "metadata": {
      "needs_background": "light"
     },
     "output_type": "display_data"
    }
   ],
   "source": [
    "sns.histplot(\n",
    "            data=df_1,\n",
    "            x=\"STD_Range\",\n",
    "            hue=\"is_refund\",\n",
    "            multiple=\"dodge\",\n",
    "            shrink=.8\n",
    "            ).set(title='Precio',ylabel='Orders');"
   ]
  },
  {
   "cell_type": "markdown",
   "metadata": {},
   "source": [
    "## Export the products IDs"
   ]
  },
  {
   "cell_type": "code",
   "execution_count": null,
   "metadata": {},
   "outputs": [],
   "source": [
    "#ID=df['CTLG_PROD_ID']\n",
    "#ID.to_csv(r'products_id.csv', index = False)"
   ]
  },
  {
   "cell_type": "code",
   "execution_count": null,
   "metadata": {},
   "outputs": [],
   "source": [
    "#LAMBDA CON AND\n",
    "#df_ratios['extremos']= df_ratios.apply(lambda x: 'caso1' if x['ratio_recla_1m']> 0.3 and x['ratio_cashout_1m']> 0.3 and x['ratio_ref_1m']> 0.3 and x['ratio_claims_1m']> 0.3 else 'no',axis=1)\n"
   ]
  },
  {
   "cell_type": "code",
   "execution_count": null,
   "metadata": {},
   "outputs": [],
   "source": [
    "#LAMDA CON IF ANIDADO\n",
    "#df['adicionales']= df.apply(lambda x: 'caso1' if x['gmv_90d']<= 0 else('caso2' if  x['gmv_30d']<=0  else 'no'),axis=1)\n"
   ]
  }
 ],
 "metadata": {
  "kernelspec": {
   "display_name": "Python 3",
   "language": "python",
   "name": "python3"
  },
  "language_info": {
   "codemirror_mode": {
    "name": "ipython",
    "version": 3
   },
   "file_extension": ".py",
   "mimetype": "text/x-python",
   "name": "python",
   "nbconvert_exporter": "python",
   "pygments_lexer": "ipython3",
   "version": "3.8.5"
  }
 },
 "nbformat": 4,
 "nbformat_minor": 4
}
