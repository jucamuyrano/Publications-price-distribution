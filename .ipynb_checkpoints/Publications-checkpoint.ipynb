{
 "cells": [
  {
   "cell_type": "markdown",
   "metadata": {},
   "source": [
    "## Import libraries"
   ]
  },
  {
   "cell_type": "code",
   "execution_count": 1,
   "metadata": {},
   "outputs": [],
   "source": [
    "import pandas as pd\n",
    "import numpy as np\n",
    "import os\n",
    "import matplotlib.pyplot as plt\n",
    "import seaborn as sns\n",
    "from datetime import datetime"
   ]
  },
  {
   "cell_type": "markdown",
   "metadata": {},
   "source": [
    "## Upload Data Base"
   ]
  },
  {
   "cell_type": "code",
   "execution_count": 2,
   "metadata": {},
   "outputs": [],
   "source": [
    "df_ord = pd.read_csv(r'base_publicaciones.csv')"
   ]
  },
  {
   "cell_type": "code",
   "execution_count": 3,
   "metadata": {},
   "outputs": [
    {
     "data": {
      "text/plain": [
       "(869470, 10)"
      ]
     },
     "execution_count": 3,
     "metadata": {},
     "output_type": "execute_result"
    }
   ],
   "source": [
    "df_ord.shape"
   ]
  },
  {
   "cell_type": "code",
   "execution_count": 4,
   "metadata": {},
   "outputs": [
    {
     "data": {
      "text/plain": [
       "Index(['ORD_ORDER_ID', 'ITE_ITEM_ID', 'CTLG_PROD_ID', 'ITE_BASE_CURRENT_PRICE',\n",
       "       'flag_bad_user', 'is_buybox', 'has_bpp', 'has_claim_seller',\n",
       "       'is_refund', 'bpp_cashout_final'],\n",
       "      dtype='object')"
      ]
     },
     "execution_count": 4,
     "metadata": {},
     "output_type": "execute_result"
    }
   ],
   "source": [
    "df_ord.columns"
   ]
  },
  {
   "cell_type": "code",
   "execution_count": 5,
   "metadata": {},
   "outputs": [
    {
     "data": {
      "text/html": [
       "<div>\n",
       "<style scoped>\n",
       "    .dataframe tbody tr th:only-of-type {\n",
       "        vertical-align: middle;\n",
       "    }\n",
       "\n",
       "    .dataframe tbody tr th {\n",
       "        vertical-align: top;\n",
       "    }\n",
       "\n",
       "    .dataframe thead th {\n",
       "        text-align: right;\n",
       "    }\n",
       "</style>\n",
       "<table border=\"1\" class=\"dataframe\">\n",
       "  <thead>\n",
       "    <tr style=\"text-align: right;\">\n",
       "      <th></th>\n",
       "      <th>ORD_ORDER_ID</th>\n",
       "      <th>ITE_ITEM_ID</th>\n",
       "      <th>CTLG_PROD_ID</th>\n",
       "      <th>ITE_BASE_CURRENT_PRICE</th>\n",
       "      <th>flag_bad_user</th>\n",
       "      <th>is_buybox</th>\n",
       "      <th>has_bpp</th>\n",
       "      <th>has_claim_seller</th>\n",
       "      <th>is_refund</th>\n",
       "      <th>bpp_cashout_final</th>\n",
       "    </tr>\n",
       "  </thead>\n",
       "  <tbody>\n",
       "    <tr>\n",
       "      <th>0</th>\n",
       "      <td>4577317619</td>\n",
       "      <td>1718794438</td>\n",
       "      <td>10608114</td>\n",
       "      <td>10.66</td>\n",
       "      <td>0</td>\n",
       "      <td>0</td>\n",
       "      <td>0</td>\n",
       "      <td>0</td>\n",
       "      <td>0.0</td>\n",
       "      <td>0.0</td>\n",
       "    </tr>\n",
       "    <tr>\n",
       "      <th>1</th>\n",
       "      <td>4542724158</td>\n",
       "      <td>1855945942</td>\n",
       "      <td>15305518</td>\n",
       "      <td>20.32</td>\n",
       "      <td>0</td>\n",
       "      <td>1</td>\n",
       "      <td>0</td>\n",
       "      <td>0</td>\n",
       "      <td>0.0</td>\n",
       "      <td>0.0</td>\n",
       "    </tr>\n",
       "    <tr>\n",
       "      <th>2</th>\n",
       "      <td>4603385249</td>\n",
       "      <td>1899937971</td>\n",
       "      <td>6078534</td>\n",
       "      <td>3.33</td>\n",
       "      <td>0</td>\n",
       "      <td>1</td>\n",
       "      <td>0</td>\n",
       "      <td>0</td>\n",
       "      <td>0.0</td>\n",
       "      <td>0.0</td>\n",
       "    </tr>\n",
       "    <tr>\n",
       "      <th>3</th>\n",
       "      <td>4588423792</td>\n",
       "      <td>1658897376</td>\n",
       "      <td>14214635</td>\n",
       "      <td>34.45</td>\n",
       "      <td>0</td>\n",
       "      <td>1</td>\n",
       "      <td>0</td>\n",
       "      <td>0</td>\n",
       "      <td>0.0</td>\n",
       "      <td>0.0</td>\n",
       "    </tr>\n",
       "    <tr>\n",
       "      <th>4</th>\n",
       "      <td>4546930678</td>\n",
       "      <td>1743613950</td>\n",
       "      <td>15786116</td>\n",
       "      <td>23.54</td>\n",
       "      <td>0</td>\n",
       "      <td>1</td>\n",
       "      <td>0</td>\n",
       "      <td>0</td>\n",
       "      <td>0.0</td>\n",
       "      <td>0.0</td>\n",
       "    </tr>\n",
       "  </tbody>\n",
       "</table>\n",
       "</div>"
      ],
      "text/plain": [
       "   ORD_ORDER_ID  ITE_ITEM_ID  CTLG_PROD_ID  ITE_BASE_CURRENT_PRICE  \\\n",
       "0    4577317619   1718794438      10608114                   10.66   \n",
       "1    4542724158   1855945942      15305518                   20.32   \n",
       "2    4603385249   1899937971       6078534                    3.33   \n",
       "3    4588423792   1658897376      14214635                   34.45   \n",
       "4    4546930678   1743613950      15786116                   23.54   \n",
       "\n",
       "   flag_bad_user  is_buybox  has_bpp  has_claim_seller  is_refund  \\\n",
       "0              0          0        0                 0        0.0   \n",
       "1              0          1        0                 0        0.0   \n",
       "2              0          1        0                 0        0.0   \n",
       "3              0          1        0                 0        0.0   \n",
       "4              0          1        0                 0        0.0   \n",
       "\n",
       "   bpp_cashout_final  \n",
       "0                0.0  \n",
       "1                0.0  \n",
       "2                0.0  \n",
       "3                0.0  \n",
       "4                0.0  "
      ]
     },
     "execution_count": 5,
     "metadata": {},
     "output_type": "execute_result"
    }
   ],
   "source": [
    "df_ord.head()"
   ]
  },
  {
   "cell_type": "code",
   "execution_count": 6,
   "metadata": {},
   "outputs": [
    {
     "data": {
      "text/plain": [
       "ORD_ORDER_ID                int64\n",
       "ITE_ITEM_ID                 int64\n",
       "CTLG_PROD_ID                int64\n",
       "ITE_BASE_CURRENT_PRICE    float64\n",
       "flag_bad_user               int64\n",
       "is_buybox                   int64\n",
       "has_bpp                     int64\n",
       "has_claim_seller            int64\n",
       "is_refund                 float64\n",
       "bpp_cashout_final         float64\n",
       "dtype: object"
      ]
     },
     "execution_count": 6,
     "metadata": {},
     "output_type": "execute_result"
    }
   ],
   "source": [
    "df_ord.dtypes"
   ]
  },
  {
   "cell_type": "markdown",
   "metadata": {},
   "source": [
    "## Describe of the prices of the products"
   ]
  },
  {
   "cell_type": "code",
   "execution_count": 7,
   "metadata": {},
   "outputs": [],
   "source": [
    "df_prod = df_ord[['CTLG_PROD_ID','ITE_ITEM_ID','ITE_BASE_CURRENT_PRICE']]"
   ]
  },
  {
   "cell_type": "code",
   "execution_count": 8,
   "metadata": {},
   "outputs": [
    {
     "data": {
      "text/html": [
       "<div>\n",
       "<style scoped>\n",
       "    .dataframe tbody tr th:only-of-type {\n",
       "        vertical-align: middle;\n",
       "    }\n",
       "\n",
       "    .dataframe tbody tr th {\n",
       "        vertical-align: top;\n",
       "    }\n",
       "\n",
       "    .dataframe thead th {\n",
       "        text-align: right;\n",
       "    }\n",
       "</style>\n",
       "<table border=\"1\" class=\"dataframe\">\n",
       "  <thead>\n",
       "    <tr style=\"text-align: right;\">\n",
       "      <th></th>\n",
       "      <th>CTLG_PROD_ID</th>\n",
       "      <th>ITE_ITEM_ID</th>\n",
       "      <th>ITE_BASE_CURRENT_PRICE</th>\n",
       "    </tr>\n",
       "  </thead>\n",
       "  <tbody>\n",
       "    <tr>\n",
       "      <th>263499</th>\n",
       "      <td>17459951</td>\n",
       "      <td>1851851511</td>\n",
       "      <td>301.14</td>\n",
       "    </tr>\n",
       "    <tr>\n",
       "      <th>454131</th>\n",
       "      <td>16951105</td>\n",
       "      <td>1696616366</td>\n",
       "      <td>190.21</td>\n",
       "    </tr>\n",
       "    <tr>\n",
       "      <th>551744</th>\n",
       "      <td>11547163</td>\n",
       "      <td>1798883481</td>\n",
       "      <td>5.60</td>\n",
       "    </tr>\n",
       "    <tr>\n",
       "      <th>230037</th>\n",
       "      <td>16211882</td>\n",
       "      <td>1718964196</td>\n",
       "      <td>225.48</td>\n",
       "    </tr>\n",
       "    <tr>\n",
       "      <th>171475</th>\n",
       "      <td>16479924</td>\n",
       "      <td>1750759153</td>\n",
       "      <td>326.64</td>\n",
       "    </tr>\n",
       "  </tbody>\n",
       "</table>\n",
       "</div>"
      ],
      "text/plain": [
       "        CTLG_PROD_ID  ITE_ITEM_ID  ITE_BASE_CURRENT_PRICE\n",
       "263499      17459951   1851851511                  301.14\n",
       "454131      16951105   1696616366                  190.21\n",
       "551744      11547163   1798883481                    5.60\n",
       "230037      16211882   1718964196                  225.48\n",
       "171475      16479924   1750759153                  326.64"
      ]
     },
     "execution_count": 8,
     "metadata": {},
     "output_type": "execute_result"
    }
   ],
   "source": [
    "df_prod.sample(5)"
   ]
  },
  {
   "cell_type": "code",
   "execution_count": 9,
   "metadata": {},
   "outputs": [
    {
     "data": {
      "text/plain": [
       "(869470, 3)"
      ]
     },
     "execution_count": 9,
     "metadata": {},
     "output_type": "execute_result"
    }
   ],
   "source": [
    "df_prod.shape"
   ]
  },
  {
   "cell_type": "code",
   "execution_count": 10,
   "metadata": {},
   "outputs": [
    {
     "data": {
      "text/html": [
       "<div>\n",
       "<style scoped>\n",
       "    .dataframe tbody tr th:only-of-type {\n",
       "        vertical-align: middle;\n",
       "    }\n",
       "\n",
       "    .dataframe tbody tr th {\n",
       "        vertical-align: top;\n",
       "    }\n",
       "\n",
       "    .dataframe thead th {\n",
       "        text-align: right;\n",
       "    }\n",
       "</style>\n",
       "<table border=\"1\" class=\"dataframe\">\n",
       "  <thead>\n",
       "    <tr style=\"text-align: right;\">\n",
       "      <th></th>\n",
       "      <th>count</th>\n",
       "      <th>mean</th>\n",
       "      <th>std</th>\n",
       "      <th>min</th>\n",
       "      <th>25%</th>\n",
       "      <th>50%</th>\n",
       "      <th>75%</th>\n",
       "      <th>max</th>\n",
       "    </tr>\n",
       "    <tr>\n",
       "      <th>CTLG_PROD_ID</th>\n",
       "      <th></th>\n",
       "      <th></th>\n",
       "      <th></th>\n",
       "      <th></th>\n",
       "      <th></th>\n",
       "      <th></th>\n",
       "      <th></th>\n",
       "      <th></th>\n",
       "    </tr>\n",
       "  </thead>\n",
       "  <tbody>\n",
       "    <tr>\n",
       "      <th>633</th>\n",
       "      <td>2.0</td>\n",
       "      <td>47.590000</td>\n",
       "      <td>1.183697e+01</td>\n",
       "      <td>39.22</td>\n",
       "      <td>43.4050</td>\n",
       "      <td>47.590</td>\n",
       "      <td>51.7750</td>\n",
       "      <td>55.96</td>\n",
       "    </tr>\n",
       "    <tr>\n",
       "      <th>5020</th>\n",
       "      <td>22.0</td>\n",
       "      <td>44.903636</td>\n",
       "      <td>4.364103e+00</td>\n",
       "      <td>42.09</td>\n",
       "      <td>42.5025</td>\n",
       "      <td>44.020</td>\n",
       "      <td>44.4025</td>\n",
       "      <td>57.98</td>\n",
       "    </tr>\n",
       "    <tr>\n",
       "      <th>802465</th>\n",
       "      <td>51.0</td>\n",
       "      <td>87.916471</td>\n",
       "      <td>6.482665e+01</td>\n",
       "      <td>7.83</td>\n",
       "      <td>7.8300</td>\n",
       "      <td>133.770</td>\n",
       "      <td>140.2100</td>\n",
       "      <td>156.84</td>\n",
       "    </tr>\n",
       "    <tr>\n",
       "      <th>802499</th>\n",
       "      <td>7.0</td>\n",
       "      <td>47.891429</td>\n",
       "      <td>1.512552e+00</td>\n",
       "      <td>47.02</td>\n",
       "      <td>47.0200</td>\n",
       "      <td>47.080</td>\n",
       "      <td>48.1650</td>\n",
       "      <td>50.77</td>\n",
       "    </tr>\n",
       "    <tr>\n",
       "      <th>802500</th>\n",
       "      <td>2.0</td>\n",
       "      <td>63.605000</td>\n",
       "      <td>1.248043e+01</td>\n",
       "      <td>54.78</td>\n",
       "      <td>59.1925</td>\n",
       "      <td>63.605</td>\n",
       "      <td>68.0175</td>\n",
       "      <td>72.43</td>\n",
       "    </tr>\n",
       "    <tr>\n",
       "      <th>...</th>\n",
       "      <td>...</td>\n",
       "      <td>...</td>\n",
       "      <td>...</td>\n",
       "      <td>...</td>\n",
       "      <td>...</td>\n",
       "      <td>...</td>\n",
       "      <td>...</td>\n",
       "      <td>...</td>\n",
       "    </tr>\n",
       "    <tr>\n",
       "      <th>18185023</th>\n",
       "      <td>4.0</td>\n",
       "      <td>88.860000</td>\n",
       "      <td>4.180000e+00</td>\n",
       "      <td>86.77</td>\n",
       "      <td>86.7700</td>\n",
       "      <td>86.770</td>\n",
       "      <td>88.8600</td>\n",
       "      <td>95.13</td>\n",
       "    </tr>\n",
       "    <tr>\n",
       "      <th>18186809</th>\n",
       "      <td>3.0</td>\n",
       "      <td>120.853333</td>\n",
       "      <td>1.144490e+01</td>\n",
       "      <td>109.22</td>\n",
       "      <td>115.2300</td>\n",
       "      <td>121.240</td>\n",
       "      <td>126.6700</td>\n",
       "      <td>132.10</td>\n",
       "    </tr>\n",
       "    <tr>\n",
       "      <th>18209455</th>\n",
       "      <td>40.0</td>\n",
       "      <td>588.700000</td>\n",
       "      <td>4.605405e-13</td>\n",
       "      <td>588.70</td>\n",
       "      <td>588.7000</td>\n",
       "      <td>588.700</td>\n",
       "      <td>588.7000</td>\n",
       "      <td>588.70</td>\n",
       "    </tr>\n",
       "    <tr>\n",
       "      <th>18217813</th>\n",
       "      <td>1.0</td>\n",
       "      <td>197.380000</td>\n",
       "      <td>NaN</td>\n",
       "      <td>197.38</td>\n",
       "      <td>197.3800</td>\n",
       "      <td>197.380</td>\n",
       "      <td>197.3800</td>\n",
       "      <td>197.38</td>\n",
       "    </tr>\n",
       "    <tr>\n",
       "      <th>18235364</th>\n",
       "      <td>1.0</td>\n",
       "      <td>40.200000</td>\n",
       "      <td>NaN</td>\n",
       "      <td>40.20</td>\n",
       "      <td>40.2000</td>\n",
       "      <td>40.200</td>\n",
       "      <td>40.2000</td>\n",
       "      <td>40.20</td>\n",
       "    </tr>\n",
       "  </tbody>\n",
       "</table>\n",
       "<p>9555 rows × 8 columns</p>\n",
       "</div>"
      ],
      "text/plain": [
       "              count        mean           std     min       25%      50%  \\\n",
       "CTLG_PROD_ID                                                               \n",
       "633             2.0   47.590000  1.183697e+01   39.22   43.4050   47.590   \n",
       "5020           22.0   44.903636  4.364103e+00   42.09   42.5025   44.020   \n",
       "802465         51.0   87.916471  6.482665e+01    7.83    7.8300  133.770   \n",
       "802499          7.0   47.891429  1.512552e+00   47.02   47.0200   47.080   \n",
       "802500          2.0   63.605000  1.248043e+01   54.78   59.1925   63.605   \n",
       "...             ...         ...           ...     ...       ...      ...   \n",
       "18185023        4.0   88.860000  4.180000e+00   86.77   86.7700   86.770   \n",
       "18186809        3.0  120.853333  1.144490e+01  109.22  115.2300  121.240   \n",
       "18209455       40.0  588.700000  4.605405e-13  588.70  588.7000  588.700   \n",
       "18217813        1.0  197.380000           NaN  197.38  197.3800  197.380   \n",
       "18235364        1.0   40.200000           NaN   40.20   40.2000   40.200   \n",
       "\n",
       "                   75%     max  \n",
       "CTLG_PROD_ID                    \n",
       "633            51.7750   55.96  \n",
       "5020           44.4025   57.98  \n",
       "802465        140.2100  156.84  \n",
       "802499         48.1650   50.77  \n",
       "802500         68.0175   72.43  \n",
       "...                ...     ...  \n",
       "18185023       88.8600   95.13  \n",
       "18186809      126.6700  132.10  \n",
       "18209455      588.7000  588.70  \n",
       "18217813      197.3800  197.38  \n",
       "18235364       40.2000   40.20  \n",
       "\n",
       "[9555 rows x 8 columns]"
      ]
     },
     "execution_count": 10,
     "metadata": {},
     "output_type": "execute_result"
    }
   ],
   "source": [
    "gb=df_prod.groupby(['CTLG_PROD_ID'])\n",
    "df_des=gb['ITE_BASE_CURRENT_PRICE'].describe()\n",
    "df_des"
   ]
  },
  {
   "cell_type": "markdown",
   "metadata": {},
   "source": [
    "## Drop rows with NaN std"
   ]
  },
  {
   "cell_type": "code",
   "execution_count": 11,
   "metadata": {},
   "outputs": [
    {
     "data": {
      "text/plain": [
       "1073"
      ]
     },
     "execution_count": 11,
     "metadata": {},
     "output_type": "execute_result"
    }
   ],
   "source": [
    "countNaN = df_des['std'].isna().sum()\n",
    "countNaN"
   ]
  },
  {
   "cell_type": "code",
   "execution_count": 12,
   "metadata": {},
   "outputs": [],
   "source": [
    "df_des.dropna(subset = ['std'], inplace=True)"
   ]
  },
  {
   "cell_type": "code",
   "execution_count": 13,
   "metadata": {},
   "outputs": [
    {
     "data": {
      "text/plain": [
       "0"
      ]
     },
     "execution_count": 13,
     "metadata": {},
     "output_type": "execute_result"
    }
   ],
   "source": [
    "countNaN = df_des['std'].isna().sum()\n",
    "countNaN"
   ]
  },
  {
   "cell_type": "markdown",
   "metadata": {},
   "source": [
    "## Reset the index"
   ]
  },
  {
   "cell_type": "code",
   "execution_count": 14,
   "metadata": {},
   "outputs": [],
   "source": [
    "df_des=df_des.reset_index()"
   ]
  },
  {
   "cell_type": "code",
   "execution_count": 15,
   "metadata": {},
   "outputs": [
    {
     "data": {
      "text/html": [
       "<div>\n",
       "<style scoped>\n",
       "    .dataframe tbody tr th:only-of-type {\n",
       "        vertical-align: middle;\n",
       "    }\n",
       "\n",
       "    .dataframe tbody tr th {\n",
       "        vertical-align: top;\n",
       "    }\n",
       "\n",
       "    .dataframe thead th {\n",
       "        text-align: right;\n",
       "    }\n",
       "</style>\n",
       "<table border=\"1\" class=\"dataframe\">\n",
       "  <thead>\n",
       "    <tr style=\"text-align: right;\">\n",
       "      <th></th>\n",
       "      <th>CTLG_PROD_ID</th>\n",
       "      <th>count</th>\n",
       "      <th>mean</th>\n",
       "      <th>std</th>\n",
       "      <th>min</th>\n",
       "      <th>25%</th>\n",
       "      <th>50%</th>\n",
       "      <th>75%</th>\n",
       "      <th>max</th>\n",
       "    </tr>\n",
       "  </thead>\n",
       "  <tbody>\n",
       "    <tr>\n",
       "      <th>0</th>\n",
       "      <td>633</td>\n",
       "      <td>2.0</td>\n",
       "      <td>47.590000</td>\n",
       "      <td>11.836968</td>\n",
       "      <td>39.22</td>\n",
       "      <td>43.4050</td>\n",
       "      <td>47.590</td>\n",
       "      <td>51.7750</td>\n",
       "      <td>55.96</td>\n",
       "    </tr>\n",
       "    <tr>\n",
       "      <th>1</th>\n",
       "      <td>5020</td>\n",
       "      <td>22.0</td>\n",
       "      <td>44.903636</td>\n",
       "      <td>4.364103</td>\n",
       "      <td>42.09</td>\n",
       "      <td>42.5025</td>\n",
       "      <td>44.020</td>\n",
       "      <td>44.4025</td>\n",
       "      <td>57.98</td>\n",
       "    </tr>\n",
       "    <tr>\n",
       "      <th>2</th>\n",
       "      <td>802465</td>\n",
       "      <td>51.0</td>\n",
       "      <td>87.916471</td>\n",
       "      <td>64.826648</td>\n",
       "      <td>7.83</td>\n",
       "      <td>7.8300</td>\n",
       "      <td>133.770</td>\n",
       "      <td>140.2100</td>\n",
       "      <td>156.84</td>\n",
       "    </tr>\n",
       "    <tr>\n",
       "      <th>3</th>\n",
       "      <td>802499</td>\n",
       "      <td>7.0</td>\n",
       "      <td>47.891429</td>\n",
       "      <td>1.512552</td>\n",
       "      <td>47.02</td>\n",
       "      <td>47.0200</td>\n",
       "      <td>47.080</td>\n",
       "      <td>48.1650</td>\n",
       "      <td>50.77</td>\n",
       "    </tr>\n",
       "    <tr>\n",
       "      <th>4</th>\n",
       "      <td>802500</td>\n",
       "      <td>2.0</td>\n",
       "      <td>63.605000</td>\n",
       "      <td>12.480435</td>\n",
       "      <td>54.78</td>\n",
       "      <td>59.1925</td>\n",
       "      <td>63.605</td>\n",
       "      <td>68.0175</td>\n",
       "      <td>72.43</td>\n",
       "    </tr>\n",
       "  </tbody>\n",
       "</table>\n",
       "</div>"
      ],
      "text/plain": [
       "   CTLG_PROD_ID  count       mean        std    min      25%      50%  \\\n",
       "0           633    2.0  47.590000  11.836968  39.22  43.4050   47.590   \n",
       "1          5020   22.0  44.903636   4.364103  42.09  42.5025   44.020   \n",
       "2        802465   51.0  87.916471  64.826648   7.83   7.8300  133.770   \n",
       "3        802499    7.0  47.891429   1.512552  47.02  47.0200   47.080   \n",
       "4        802500    2.0  63.605000  12.480435  54.78  59.1925   63.605   \n",
       "\n",
       "        75%     max  \n",
       "0   51.7750   55.96  \n",
       "1   44.4025   57.98  \n",
       "2  140.2100  156.84  \n",
       "3   48.1650   50.77  \n",
       "4   68.0175   72.43  "
      ]
     },
     "execution_count": 15,
     "metadata": {},
     "output_type": "execute_result"
    }
   ],
   "source": [
    "df_des.head()"
   ]
  },
  {
   "cell_type": "code",
   "execution_count": 16,
   "metadata": {},
   "outputs": [
    {
     "data": {
      "text/plain": [
       "(8482, 9)"
      ]
     },
     "execution_count": 16,
     "metadata": {},
     "output_type": "execute_result"
    }
   ],
   "source": [
    "df_des.shape"
   ]
  },
  {
   "cell_type": "markdown",
   "metadata": {},
   "source": [
    "## Join the DFs by Product ID"
   ]
  },
  {
   "cell_type": "code",
   "execution_count": 17,
   "metadata": {},
   "outputs": [],
   "source": [
    "df = pd.merge(left = df_des, right = df_ord,\n",
    "                how = 'inner',\n",
    "                left_on='CTLG_PROD_ID', right_on='CTLG_PROD_ID')"
   ]
  },
  {
   "cell_type": "code",
   "execution_count": 18,
   "metadata": {},
   "outputs": [
    {
     "data": {
      "text/plain": [
       "(868397, 18)"
      ]
     },
     "execution_count": 18,
     "metadata": {},
     "output_type": "execute_result"
    }
   ],
   "source": [
    "df.shape"
   ]
  },
  {
   "cell_type": "code",
   "execution_count": 19,
   "metadata": {},
   "outputs": [
    {
     "data": {
      "text/plain": [
       "Index(['CTLG_PROD_ID', 'count', 'mean', 'std', 'min', '25%', '50%', '75%',\n",
       "       'max', 'ORD_ORDER_ID', 'ITE_ITEM_ID', 'ITE_BASE_CURRENT_PRICE',\n",
       "       'flag_bad_user', 'is_buybox', 'has_bpp', 'has_claim_seller',\n",
       "       'is_refund', 'bpp_cashout_final'],\n",
       "      dtype='object')"
      ]
     },
     "execution_count": 19,
     "metadata": {},
     "output_type": "execute_result"
    }
   ],
   "source": [
    "df.columns"
   ]
  },
  {
   "cell_type": "code",
   "execution_count": 20,
   "metadata": {},
   "outputs": [
    {
     "data": {
      "text/html": [
       "<div>\n",
       "<style scoped>\n",
       "    .dataframe tbody tr th:only-of-type {\n",
       "        vertical-align: middle;\n",
       "    }\n",
       "\n",
       "    .dataframe tbody tr th {\n",
       "        vertical-align: top;\n",
       "    }\n",
       "\n",
       "    .dataframe thead th {\n",
       "        text-align: right;\n",
       "    }\n",
       "</style>\n",
       "<table border=\"1\" class=\"dataframe\">\n",
       "  <thead>\n",
       "    <tr style=\"text-align: right;\">\n",
       "      <th></th>\n",
       "      <th>CTLG_PROD_ID</th>\n",
       "      <th>count</th>\n",
       "      <th>mean</th>\n",
       "      <th>std</th>\n",
       "      <th>min</th>\n",
       "      <th>25%</th>\n",
       "      <th>50%</th>\n",
       "      <th>75%</th>\n",
       "      <th>max</th>\n",
       "      <th>ORD_ORDER_ID</th>\n",
       "      <th>ITE_ITEM_ID</th>\n",
       "      <th>ITE_BASE_CURRENT_PRICE</th>\n",
       "      <th>flag_bad_user</th>\n",
       "      <th>is_buybox</th>\n",
       "      <th>has_bpp</th>\n",
       "      <th>has_claim_seller</th>\n",
       "      <th>is_refund</th>\n",
       "      <th>bpp_cashout_final</th>\n",
       "    </tr>\n",
       "  </thead>\n",
       "  <tbody>\n",
       "    <tr>\n",
       "      <th>639511</th>\n",
       "      <td>15984003</td>\n",
       "      <td>4690.0</td>\n",
       "      <td>60.440322</td>\n",
       "      <td>4.632960</td>\n",
       "      <td>46.25</td>\n",
       "      <td>56.67</td>\n",
       "      <td>60.48</td>\n",
       "      <td>62.75</td>\n",
       "      <td>158.68</td>\n",
       "      <td>4583574292</td>\n",
       "      <td>1876749071</td>\n",
       "      <td>68.70</td>\n",
       "      <td>0</td>\n",
       "      <td>1</td>\n",
       "      <td>0</td>\n",
       "      <td>0</td>\n",
       "      <td>0.0</td>\n",
       "      <td>0.0</td>\n",
       "    </tr>\n",
       "    <tr>\n",
       "      <th>793182</th>\n",
       "      <td>16926684</td>\n",
       "      <td>2366.0</td>\n",
       "      <td>174.970359</td>\n",
       "      <td>20.877237</td>\n",
       "      <td>155.27</td>\n",
       "      <td>168.62</td>\n",
       "      <td>168.62</td>\n",
       "      <td>168.62</td>\n",
       "      <td>273.36</td>\n",
       "      <td>4565385064</td>\n",
       "      <td>1740839377</td>\n",
       "      <td>168.62</td>\n",
       "      <td>0</td>\n",
       "      <td>0</td>\n",
       "      <td>0</td>\n",
       "      <td>0</td>\n",
       "      <td>0.0</td>\n",
       "      <td>0.0</td>\n",
       "    </tr>\n",
       "    <tr>\n",
       "      <th>328646</th>\n",
       "      <td>14618022</td>\n",
       "      <td>514.0</td>\n",
       "      <td>21.144942</td>\n",
       "      <td>0.561384</td>\n",
       "      <td>20.71</td>\n",
       "      <td>21.10</td>\n",
       "      <td>21.10</td>\n",
       "      <td>21.10</td>\n",
       "      <td>27.46</td>\n",
       "      <td>4576231301</td>\n",
       "      <td>1604028628</td>\n",
       "      <td>21.10</td>\n",
       "      <td>0</td>\n",
       "      <td>1</td>\n",
       "      <td>0</td>\n",
       "      <td>0</td>\n",
       "      <td>0.0</td>\n",
       "      <td>0.0</td>\n",
       "    </tr>\n",
       "    <tr>\n",
       "      <th>788895</th>\n",
       "      <td>16602514</td>\n",
       "      <td>1276.0</td>\n",
       "      <td>35.271309</td>\n",
       "      <td>0.799624</td>\n",
       "      <td>24.74</td>\n",
       "      <td>35.28</td>\n",
       "      <td>35.28</td>\n",
       "      <td>35.28</td>\n",
       "      <td>43.78</td>\n",
       "      <td>4583241541</td>\n",
       "      <td>1868847103</td>\n",
       "      <td>35.28</td>\n",
       "      <td>0</td>\n",
       "      <td>1</td>\n",
       "      <td>0</td>\n",
       "      <td>0</td>\n",
       "      <td>0.0</td>\n",
       "      <td>0.0</td>\n",
       "    </tr>\n",
       "    <tr>\n",
       "      <th>523848</th>\n",
       "      <td>15707806</td>\n",
       "      <td>450.0</td>\n",
       "      <td>74.313356</td>\n",
       "      <td>2.084107</td>\n",
       "      <td>67.18</td>\n",
       "      <td>74.40</td>\n",
       "      <td>74.40</td>\n",
       "      <td>74.40</td>\n",
       "      <td>104.12</td>\n",
       "      <td>4542054221</td>\n",
       "      <td>1680978047</td>\n",
       "      <td>74.40</td>\n",
       "      <td>0</td>\n",
       "      <td>1</td>\n",
       "      <td>0</td>\n",
       "      <td>0</td>\n",
       "      <td>0.0</td>\n",
       "      <td>0.0</td>\n",
       "    </tr>\n",
       "  </tbody>\n",
       "</table>\n",
       "</div>"
      ],
      "text/plain": [
       "        CTLG_PROD_ID   count        mean        std     min     25%     50%  \\\n",
       "639511      15984003  4690.0   60.440322   4.632960   46.25   56.67   60.48   \n",
       "793182      16926684  2366.0  174.970359  20.877237  155.27  168.62  168.62   \n",
       "328646      14618022   514.0   21.144942   0.561384   20.71   21.10   21.10   \n",
       "788895      16602514  1276.0   35.271309   0.799624   24.74   35.28   35.28   \n",
       "523848      15707806   450.0   74.313356   2.084107   67.18   74.40   74.40   \n",
       "\n",
       "           75%     max  ORD_ORDER_ID  ITE_ITEM_ID  ITE_BASE_CURRENT_PRICE  \\\n",
       "639511   62.75  158.68    4583574292   1876749071                   68.70   \n",
       "793182  168.62  273.36    4565385064   1740839377                  168.62   \n",
       "328646   21.10   27.46    4576231301   1604028628                   21.10   \n",
       "788895   35.28   43.78    4583241541   1868847103                   35.28   \n",
       "523848   74.40  104.12    4542054221   1680978047                   74.40   \n",
       "\n",
       "        flag_bad_user  is_buybox  has_bpp  has_claim_seller  is_refund  \\\n",
       "639511              0          1        0                 0        0.0   \n",
       "793182              0          0        0                 0        0.0   \n",
       "328646              0          1        0                 0        0.0   \n",
       "788895              0          1        0                 0        0.0   \n",
       "523848              0          1        0                 0        0.0   \n",
       "\n",
       "        bpp_cashout_final  \n",
       "639511                0.0  \n",
       "793182                0.0  \n",
       "328646                0.0  \n",
       "788895                0.0  \n",
       "523848                0.0  "
      ]
     },
     "execution_count": 20,
     "metadata": {},
     "output_type": "execute_result"
    }
   ],
   "source": [
    "df.sample(5)"
   ]
  },
  {
   "cell_type": "markdown",
   "metadata": {},
   "source": [
    "## Order weight on products"
   ]
  },
  {
   "cell_type": "code",
   "execution_count": 21,
   "metadata": {},
   "outputs": [],
   "source": [
    "df['weight'] = 1/df[['count']]"
   ]
  },
  {
   "cell_type": "code",
   "execution_count": 22,
   "metadata": {},
   "outputs": [
    {
     "data": {
      "text/html": [
       "<div>\n",
       "<style scoped>\n",
       "    .dataframe tbody tr th:only-of-type {\n",
       "        vertical-align: middle;\n",
       "    }\n",
       "\n",
       "    .dataframe tbody tr th {\n",
       "        vertical-align: top;\n",
       "    }\n",
       "\n",
       "    .dataframe thead th {\n",
       "        text-align: right;\n",
       "    }\n",
       "</style>\n",
       "<table border=\"1\" class=\"dataframe\">\n",
       "  <thead>\n",
       "    <tr style=\"text-align: right;\">\n",
       "      <th></th>\n",
       "      <th>CTLG_PROD_ID</th>\n",
       "      <th>count</th>\n",
       "      <th>mean</th>\n",
       "      <th>std</th>\n",
       "      <th>min</th>\n",
       "      <th>25%</th>\n",
       "      <th>50%</th>\n",
       "      <th>75%</th>\n",
       "      <th>max</th>\n",
       "      <th>ORD_ORDER_ID</th>\n",
       "      <th>ITE_ITEM_ID</th>\n",
       "      <th>ITE_BASE_CURRENT_PRICE</th>\n",
       "      <th>flag_bad_user</th>\n",
       "      <th>is_buybox</th>\n",
       "      <th>has_bpp</th>\n",
       "      <th>has_claim_seller</th>\n",
       "      <th>is_refund</th>\n",
       "      <th>bpp_cashout_final</th>\n",
       "      <th>weight</th>\n",
       "    </tr>\n",
       "  </thead>\n",
       "  <tbody>\n",
       "    <tr>\n",
       "      <th>41188</th>\n",
       "      <td>6085450</td>\n",
       "      <td>821.0</td>\n",
       "      <td>49.351157</td>\n",
       "      <td>5.007336</td>\n",
       "      <td>27.45</td>\n",
       "      <td>46.88</td>\n",
       "      <td>48.76</td>\n",
       "      <td>50.10</td>\n",
       "      <td>88.26</td>\n",
       "      <td>4600343371</td>\n",
       "      <td>1891287008</td>\n",
       "      <td>48.71</td>\n",
       "      <td>0</td>\n",
       "      <td>1</td>\n",
       "      <td>0</td>\n",
       "      <td>0</td>\n",
       "      <td>0.0</td>\n",
       "      <td>0.0</td>\n",
       "      <td>0.001218</td>\n",
       "    </tr>\n",
       "    <tr>\n",
       "      <th>729374</th>\n",
       "      <td>16175433</td>\n",
       "      <td>924.0</td>\n",
       "      <td>23.905606</td>\n",
       "      <td>0.734499</td>\n",
       "      <td>19.55</td>\n",
       "      <td>23.56</td>\n",
       "      <td>23.56</td>\n",
       "      <td>23.56</td>\n",
       "      <td>25.32</td>\n",
       "      <td>4537147444</td>\n",
       "      <td>1517853929</td>\n",
       "      <td>25.32</td>\n",
       "      <td>0</td>\n",
       "      <td>0</td>\n",
       "      <td>0</td>\n",
       "      <td>0</td>\n",
       "      <td>0.0</td>\n",
       "      <td>0.0</td>\n",
       "      <td>0.001082</td>\n",
       "    </tr>\n",
       "    <tr>\n",
       "      <th>591963</th>\n",
       "      <td>15946508</td>\n",
       "      <td>2665.0</td>\n",
       "      <td>227.914435</td>\n",
       "      <td>26.074479</td>\n",
       "      <td>187.22</td>\n",
       "      <td>209.47</td>\n",
       "      <td>218.48</td>\n",
       "      <td>243.28</td>\n",
       "      <td>334.02</td>\n",
       "      <td>4579767707</td>\n",
       "      <td>1647423185</td>\n",
       "      <td>243.28</td>\n",
       "      <td>0</td>\n",
       "      <td>1</td>\n",
       "      <td>0</td>\n",
       "      <td>0</td>\n",
       "      <td>0.0</td>\n",
       "      <td>0.0</td>\n",
       "      <td>0.000375</td>\n",
       "    </tr>\n",
       "    <tr>\n",
       "      <th>397273</th>\n",
       "      <td>15245949</td>\n",
       "      <td>814.0</td>\n",
       "      <td>14.333084</td>\n",
       "      <td>1.604944</td>\n",
       "      <td>11.76</td>\n",
       "      <td>11.76</td>\n",
       "      <td>15.31</td>\n",
       "      <td>15.31</td>\n",
       "      <td>17.63</td>\n",
       "      <td>4601109700</td>\n",
       "      <td>1116032739</td>\n",
       "      <td>11.76</td>\n",
       "      <td>0</td>\n",
       "      <td>0</td>\n",
       "      <td>0</td>\n",
       "      <td>0</td>\n",
       "      <td>0.0</td>\n",
       "      <td>0.0</td>\n",
       "      <td>0.001229</td>\n",
       "    </tr>\n",
       "    <tr>\n",
       "      <th>270103</th>\n",
       "      <td>12398222</td>\n",
       "      <td>335.0</td>\n",
       "      <td>6.520597</td>\n",
       "      <td>3.637707</td>\n",
       "      <td>1.89</td>\n",
       "      <td>3.91</td>\n",
       "      <td>5.71</td>\n",
       "      <td>8.13</td>\n",
       "      <td>19.55</td>\n",
       "      <td>4545615634</td>\n",
       "      <td>1849309168</td>\n",
       "      <td>8.13</td>\n",
       "      <td>0</td>\n",
       "      <td>1</td>\n",
       "      <td>0</td>\n",
       "      <td>0</td>\n",
       "      <td>0.0</td>\n",
       "      <td>0.0</td>\n",
       "      <td>0.002985</td>\n",
       "    </tr>\n",
       "  </tbody>\n",
       "</table>\n",
       "</div>"
      ],
      "text/plain": [
       "        CTLG_PROD_ID   count        mean        std     min     25%     50%  \\\n",
       "41188        6085450   821.0   49.351157   5.007336   27.45   46.88   48.76   \n",
       "729374      16175433   924.0   23.905606   0.734499   19.55   23.56   23.56   \n",
       "591963      15946508  2665.0  227.914435  26.074479  187.22  209.47  218.48   \n",
       "397273      15245949   814.0   14.333084   1.604944   11.76   11.76   15.31   \n",
       "270103      12398222   335.0    6.520597   3.637707    1.89    3.91    5.71   \n",
       "\n",
       "           75%     max  ORD_ORDER_ID  ITE_ITEM_ID  ITE_BASE_CURRENT_PRICE  \\\n",
       "41188    50.10   88.26    4600343371   1891287008                   48.71   \n",
       "729374   23.56   25.32    4537147444   1517853929                   25.32   \n",
       "591963  243.28  334.02    4579767707   1647423185                  243.28   \n",
       "397273   15.31   17.63    4601109700   1116032739                   11.76   \n",
       "270103    8.13   19.55    4545615634   1849309168                    8.13   \n",
       "\n",
       "        flag_bad_user  is_buybox  has_bpp  has_claim_seller  is_refund  \\\n",
       "41188               0          1        0                 0        0.0   \n",
       "729374              0          0        0                 0        0.0   \n",
       "591963              0          1        0                 0        0.0   \n",
       "397273              0          0        0                 0        0.0   \n",
       "270103              0          1        0                 0        0.0   \n",
       "\n",
       "        bpp_cashout_final    weight  \n",
       "41188                 0.0  0.001218  \n",
       "729374                0.0  0.001082  \n",
       "591963                0.0  0.000375  \n",
       "397273                0.0  0.001229  \n",
       "270103                0.0  0.002985  "
      ]
     },
     "execution_count": 22,
     "metadata": {},
     "output_type": "execute_result"
    }
   ],
   "source": [
    "df.sample(5)"
   ]
  },
  {
   "cell_type": "code",
   "execution_count": 23,
   "metadata": {},
   "outputs": [
    {
     "data": {
      "text/plain": [
       "Index(['CTLG_PROD_ID', 'count', 'mean', 'std', 'min', '25%', '50%', '75%',\n",
       "       'max', 'ORD_ORDER_ID', 'ITE_ITEM_ID', 'ITE_BASE_CURRENT_PRICE',\n",
       "       'flag_bad_user', 'is_buybox', 'has_bpp', 'has_claim_seller',\n",
       "       'is_refund', 'bpp_cashout_final', 'weight'],\n",
       "      dtype='object')"
      ]
     },
     "execution_count": 23,
     "metadata": {},
     "output_type": "execute_result"
    }
   ],
   "source": [
    "df.columns"
   ]
  },
  {
   "cell_type": "markdown",
   "metadata": {},
   "source": [
    "## Bad orders"
   ]
  },
  {
   "cell_type": "code",
   "execution_count": 24,
   "metadata": {},
   "outputs": [],
   "source": [
    "df['bad_order'] = df.apply(lambda x: 1 if x['flag_bad_user'] == 1 or x['has_bpp'] == 1 or x['has_claim_seller'] == 1 or x['is_refund'] == 1 or x['bpp_cashout_final'] > 0 else 0, axis=1)\n"
   ]
  },
  {
   "cell_type": "code",
   "execution_count": 25,
   "metadata": {},
   "outputs": [
    {
     "data": {
      "text/html": [
       "<div>\n",
       "<style scoped>\n",
       "    .dataframe tbody tr th:only-of-type {\n",
       "        vertical-align: middle;\n",
       "    }\n",
       "\n",
       "    .dataframe tbody tr th {\n",
       "        vertical-align: top;\n",
       "    }\n",
       "\n",
       "    .dataframe thead th {\n",
       "        text-align: right;\n",
       "    }\n",
       "</style>\n",
       "<table border=\"1\" class=\"dataframe\">\n",
       "  <thead>\n",
       "    <tr style=\"text-align: right;\">\n",
       "      <th></th>\n",
       "      <th>CTLG_PROD_ID</th>\n",
       "      <th>count</th>\n",
       "      <th>mean</th>\n",
       "      <th>std</th>\n",
       "      <th>min</th>\n",
       "      <th>25%</th>\n",
       "      <th>50%</th>\n",
       "      <th>75%</th>\n",
       "      <th>max</th>\n",
       "      <th>ORD_ORDER_ID</th>\n",
       "      <th>ITE_ITEM_ID</th>\n",
       "      <th>ITE_BASE_CURRENT_PRICE</th>\n",
       "      <th>flag_bad_user</th>\n",
       "      <th>is_buybox</th>\n",
       "      <th>has_bpp</th>\n",
       "      <th>has_claim_seller</th>\n",
       "      <th>is_refund</th>\n",
       "      <th>bpp_cashout_final</th>\n",
       "      <th>weight</th>\n",
       "      <th>bad_order</th>\n",
       "    </tr>\n",
       "  </thead>\n",
       "  <tbody>\n",
       "    <tr>\n",
       "      <th>663980</th>\n",
       "      <td>16033514</td>\n",
       "      <td>851.0</td>\n",
       "      <td>99.009847</td>\n",
       "      <td>11.710891</td>\n",
       "      <td>89.90</td>\n",
       "      <td>95.51</td>\n",
       "      <td>95.51</td>\n",
       "      <td>102.60</td>\n",
       "      <td>172.24</td>\n",
       "      <td>4539827509</td>\n",
       "      <td>1870076771</td>\n",
       "      <td>89.90</td>\n",
       "      <td>0</td>\n",
       "      <td>1</td>\n",
       "      <td>0</td>\n",
       "      <td>0</td>\n",
       "      <td>0.0</td>\n",
       "      <td>0.0</td>\n",
       "      <td>0.001175</td>\n",
       "      <td>0</td>\n",
       "    </tr>\n",
       "    <tr>\n",
       "      <th>566437</th>\n",
       "      <td>15809302</td>\n",
       "      <td>511.0</td>\n",
       "      <td>298.834599</td>\n",
       "      <td>24.380079</td>\n",
       "      <td>225.60</td>\n",
       "      <td>291.51</td>\n",
       "      <td>291.71</td>\n",
       "      <td>298.12</td>\n",
       "      <td>463.49</td>\n",
       "      <td>4542561227</td>\n",
       "      <td>1871152426</td>\n",
       "      <td>298.12</td>\n",
       "      <td>0</td>\n",
       "      <td>1</td>\n",
       "      <td>0</td>\n",
       "      <td>0</td>\n",
       "      <td>0.0</td>\n",
       "      <td>0.0</td>\n",
       "      <td>0.001957</td>\n",
       "      <td>0</td>\n",
       "    </tr>\n",
       "    <tr>\n",
       "      <th>315942</th>\n",
       "      <td>14421011</td>\n",
       "      <td>2137.0</td>\n",
       "      <td>23.066121</td>\n",
       "      <td>1.524784</td>\n",
       "      <td>17.03</td>\n",
       "      <td>22.22</td>\n",
       "      <td>22.53</td>\n",
       "      <td>23.86</td>\n",
       "      <td>37.54</td>\n",
       "      <td>4579407173</td>\n",
       "      <td>1808532925</td>\n",
       "      <td>22.91</td>\n",
       "      <td>0</td>\n",
       "      <td>1</td>\n",
       "      <td>0</td>\n",
       "      <td>0</td>\n",
       "      <td>0.0</td>\n",
       "      <td>0.0</td>\n",
       "      <td>0.000468</td>\n",
       "      <td>0</td>\n",
       "    </tr>\n",
       "    <tr>\n",
       "      <th>19633</th>\n",
       "      <td>6066981</td>\n",
       "      <td>122.0</td>\n",
       "      <td>12.419262</td>\n",
       "      <td>2.232325</td>\n",
       "      <td>11.71</td>\n",
       "      <td>11.71</td>\n",
       "      <td>11.71</td>\n",
       "      <td>11.71</td>\n",
       "      <td>21.87</td>\n",
       "      <td>4602066214</td>\n",
       "      <td>1525979523</td>\n",
       "      <td>11.71</td>\n",
       "      <td>0</td>\n",
       "      <td>1</td>\n",
       "      <td>0</td>\n",
       "      <td>0</td>\n",
       "      <td>0.0</td>\n",
       "      <td>0.0</td>\n",
       "      <td>0.008197</td>\n",
       "      <td>0</td>\n",
       "    </tr>\n",
       "    <tr>\n",
       "      <th>595958</th>\n",
       "      <td>15946510</td>\n",
       "      <td>955.0</td>\n",
       "      <td>227.073099</td>\n",
       "      <td>40.062869</td>\n",
       "      <td>129.03</td>\n",
       "      <td>190.72</td>\n",
       "      <td>225.48</td>\n",
       "      <td>254.99</td>\n",
       "      <td>305.71</td>\n",
       "      <td>4568083031</td>\n",
       "      <td>1876278720</td>\n",
       "      <td>195.20</td>\n",
       "      <td>0</td>\n",
       "      <td>1</td>\n",
       "      <td>0</td>\n",
       "      <td>0</td>\n",
       "      <td>0.0</td>\n",
       "      <td>0.0</td>\n",
       "      <td>0.001047</td>\n",
       "      <td>0</td>\n",
       "    </tr>\n",
       "  </tbody>\n",
       "</table>\n",
       "</div>"
      ],
      "text/plain": [
       "        CTLG_PROD_ID   count        mean        std     min     25%     50%  \\\n",
       "663980      16033514   851.0   99.009847  11.710891   89.90   95.51   95.51   \n",
       "566437      15809302   511.0  298.834599  24.380079  225.60  291.51  291.71   \n",
       "315942      14421011  2137.0   23.066121   1.524784   17.03   22.22   22.53   \n",
       "19633        6066981   122.0   12.419262   2.232325   11.71   11.71   11.71   \n",
       "595958      15946510   955.0  227.073099  40.062869  129.03  190.72  225.48   \n",
       "\n",
       "           75%     max  ORD_ORDER_ID  ITE_ITEM_ID  ITE_BASE_CURRENT_PRICE  \\\n",
       "663980  102.60  172.24    4539827509   1870076771                   89.90   \n",
       "566437  298.12  463.49    4542561227   1871152426                  298.12   \n",
       "315942   23.86   37.54    4579407173   1808532925                   22.91   \n",
       "19633    11.71   21.87    4602066214   1525979523                   11.71   \n",
       "595958  254.99  305.71    4568083031   1876278720                  195.20   \n",
       "\n",
       "        flag_bad_user  is_buybox  has_bpp  has_claim_seller  is_refund  \\\n",
       "663980              0          1        0                 0        0.0   \n",
       "566437              0          1        0                 0        0.0   \n",
       "315942              0          1        0                 0        0.0   \n",
       "19633               0          1        0                 0        0.0   \n",
       "595958              0          1        0                 0        0.0   \n",
       "\n",
       "        bpp_cashout_final    weight  bad_order  \n",
       "663980                0.0  0.001175          0  \n",
       "566437                0.0  0.001957          0  \n",
       "315942                0.0  0.000468          0  \n",
       "19633                 0.0  0.008197          0  \n",
       "595958                0.0  0.001047          0  "
      ]
     },
     "execution_count": 25,
     "metadata": {},
     "output_type": "execute_result"
    }
   ],
   "source": [
    "df.sample(5)"
   ]
  },
  {
   "cell_type": "code",
   "execution_count": 26,
   "metadata": {},
   "outputs": [
    {
     "data": {
      "text/plain": [
       "Index(['CTLG_PROD_ID', 'count', 'mean', 'std', 'min', '25%', '50%', '75%',\n",
       "       'max', 'ORD_ORDER_ID', 'ITE_ITEM_ID', 'ITE_BASE_CURRENT_PRICE',\n",
       "       'flag_bad_user', 'is_buybox', 'has_bpp', 'has_claim_seller',\n",
       "       'is_refund', 'bpp_cashout_final', 'weight', 'bad_order'],\n",
       "      dtype='object')"
      ]
     },
     "execution_count": 26,
     "metadata": {},
     "output_type": "execute_result"
    }
   ],
   "source": [
    "df.columns"
   ]
  },
  {
   "cell_type": "markdown",
   "metadata": {},
   "source": [
    "# Base on the Price_Range"
   ]
  },
  {
   "cell_type": "markdown",
   "metadata": {},
   "source": [
    "## Create columns flag low_price for those items with price below the 25%"
   ]
  },
  {
   "cell_type": "code",
   "execution_count": 27,
   "metadata": {},
   "outputs": [],
   "source": [
    "df['Low25_Price'] = df.apply(lambda x: 1 if x['25%'] > x['ITE_BASE_CURRENT_PRICE'] else 0, axis=1)"
   ]
  },
  {
   "cell_type": "markdown",
   "metadata": {},
   "source": [
    "## Create columns flag middle_price for items with price below the 75% and over the  25%"
   ]
  },
  {
   "cell_type": "code",
   "execution_count": 28,
   "metadata": {},
   "outputs": [],
   "source": [
    "df['Middle_Price'] = df.apply(lambda x: 1 if x['75%'] >= x['ITE_BASE_CURRENT_PRICE'] and x['25%'] <= x['ITE_BASE_CURRENT_PRICE'] else 0, axis=1)\n"
   ]
  },
  {
   "cell_type": "markdown",
   "metadata": {},
   "source": [
    "## Create column flag high_price for those items with price over the 75%"
   ]
  },
  {
   "cell_type": "code",
   "execution_count": 29,
   "metadata": {},
   "outputs": [],
   "source": [
    "df['High75_Price'] = df.apply(lambda x: 1 if x['75%'] < x['ITE_BASE_CURRENT_PRICE'] else 0, axis=1)"
   ]
  },
  {
   "cell_type": "markdown",
   "metadata": {},
   "source": [
    "## Create column flag price_range"
   ]
  },
  {
   "cell_type": "code",
   "execution_count": 30,
   "metadata": {},
   "outputs": [],
   "source": [
    "df['Price_Range'] = df.apply(lambda x:'low_25' if x['Low25_Price']== 1 else('high_75' if  x['High75_Price']==1  else 'middle'),axis=1)\n"
   ]
  },
  {
   "cell_type": "code",
   "execution_count": 31,
   "metadata": {},
   "outputs": [
    {
     "data": {
      "text/plain": [
       "Index(['CTLG_PROD_ID', 'count', 'mean', 'std', 'min', '25%', '50%', '75%',\n",
       "       'max', 'ORD_ORDER_ID', 'ITE_ITEM_ID', 'ITE_BASE_CURRENT_PRICE',\n",
       "       'flag_bad_user', 'is_buybox', 'has_bpp', 'has_claim_seller',\n",
       "       'is_refund', 'bpp_cashout_final', 'weight', 'bad_order', 'Low25_Price',\n",
       "       'Middle_Price', 'High75_Price', 'Price_Range'],\n",
       "      dtype='object')"
      ]
     },
     "execution_count": 31,
     "metadata": {},
     "output_type": "execute_result"
    }
   ],
   "source": [
    "df.columns"
   ]
  },
  {
   "cell_type": "code",
   "execution_count": 32,
   "metadata": {},
   "outputs": [
    {
     "data": {
      "text/html": [
       "<div>\n",
       "<style scoped>\n",
       "    .dataframe tbody tr th:only-of-type {\n",
       "        vertical-align: middle;\n",
       "    }\n",
       "\n",
       "    .dataframe tbody tr th {\n",
       "        vertical-align: top;\n",
       "    }\n",
       "\n",
       "    .dataframe thead th {\n",
       "        text-align: right;\n",
       "    }\n",
       "</style>\n",
       "<table border=\"1\" class=\"dataframe\">\n",
       "  <thead>\n",
       "    <tr style=\"text-align: right;\">\n",
       "      <th></th>\n",
       "      <th>CTLG_PROD_ID</th>\n",
       "      <th>count</th>\n",
       "      <th>mean</th>\n",
       "      <th>std</th>\n",
       "      <th>min</th>\n",
       "      <th>25%</th>\n",
       "      <th>50%</th>\n",
       "      <th>75%</th>\n",
       "      <th>max</th>\n",
       "      <th>ORD_ORDER_ID</th>\n",
       "      <th>...</th>\n",
       "      <th>has_bpp</th>\n",
       "      <th>has_claim_seller</th>\n",
       "      <th>is_refund</th>\n",
       "      <th>bpp_cashout_final</th>\n",
       "      <th>weight</th>\n",
       "      <th>bad_order</th>\n",
       "      <th>Low25_Price</th>\n",
       "      <th>Middle_Price</th>\n",
       "      <th>High75_Price</th>\n",
       "      <th>Price_Range</th>\n",
       "    </tr>\n",
       "  </thead>\n",
       "  <tbody>\n",
       "    <tr>\n",
       "      <th>266988</th>\n",
       "      <td>11998125</td>\n",
       "      <td>316.0</td>\n",
       "      <td>85.823829</td>\n",
       "      <td>4.118917</td>\n",
       "      <td>63.18</td>\n",
       "      <td>84.13</td>\n",
       "      <td>84.13</td>\n",
       "      <td>90.01</td>\n",
       "      <td>90.01</td>\n",
       "      <td>4580511228</td>\n",
       "      <td>...</td>\n",
       "      <td>0</td>\n",
       "      <td>0</td>\n",
       "      <td>0.0</td>\n",
       "      <td>0.0</td>\n",
       "      <td>0.003165</td>\n",
       "      <td>0</td>\n",
       "      <td>0</td>\n",
       "      <td>1</td>\n",
       "      <td>0</td>\n",
       "      <td>middle</td>\n",
       "    </tr>\n",
       "    <tr>\n",
       "      <th>147416</th>\n",
       "      <td>6504488</td>\n",
       "      <td>320.0</td>\n",
       "      <td>15.482906</td>\n",
       "      <td>1.727967</td>\n",
       "      <td>13.83</td>\n",
       "      <td>14.92</td>\n",
       "      <td>15.42</td>\n",
       "      <td>15.42</td>\n",
       "      <td>23.32</td>\n",
       "      <td>4559211974</td>\n",
       "      <td>...</td>\n",
       "      <td>0</td>\n",
       "      <td>0</td>\n",
       "      <td>0.0</td>\n",
       "      <td>0.0</td>\n",
       "      <td>0.003125</td>\n",
       "      <td>0</td>\n",
       "      <td>0</td>\n",
       "      <td>1</td>\n",
       "      <td>0</td>\n",
       "      <td>middle</td>\n",
       "    </tr>\n",
       "    <tr>\n",
       "      <th>124960</th>\n",
       "      <td>6408981</td>\n",
       "      <td>17962.0</td>\n",
       "      <td>53.589554</td>\n",
       "      <td>6.892285</td>\n",
       "      <td>34.07</td>\n",
       "      <td>50.64</td>\n",
       "      <td>52.02</td>\n",
       "      <td>54.17</td>\n",
       "      <td>375.73</td>\n",
       "      <td>4583018090</td>\n",
       "      <td>...</td>\n",
       "      <td>0</td>\n",
       "      <td>0</td>\n",
       "      <td>0.0</td>\n",
       "      <td>0.0</td>\n",
       "      <td>0.000056</td>\n",
       "      <td>0</td>\n",
       "      <td>0</td>\n",
       "      <td>1</td>\n",
       "      <td>0</td>\n",
       "      <td>middle</td>\n",
       "    </tr>\n",
       "    <tr>\n",
       "      <th>322526</th>\n",
       "      <td>14548567</td>\n",
       "      <td>94.0</td>\n",
       "      <td>21.981596</td>\n",
       "      <td>2.502918</td>\n",
       "      <td>20.92</td>\n",
       "      <td>20.92</td>\n",
       "      <td>20.92</td>\n",
       "      <td>21.30</td>\n",
       "      <td>32.37</td>\n",
       "      <td>4575174670</td>\n",
       "      <td>...</td>\n",
       "      <td>0</td>\n",
       "      <td>0</td>\n",
       "      <td>0.0</td>\n",
       "      <td>0.0</td>\n",
       "      <td>0.010638</td>\n",
       "      <td>0</td>\n",
       "      <td>0</td>\n",
       "      <td>1</td>\n",
       "      <td>0</td>\n",
       "      <td>middle</td>\n",
       "    </tr>\n",
       "    <tr>\n",
       "      <th>64497</th>\n",
       "      <td>6186903</td>\n",
       "      <td>2475.0</td>\n",
       "      <td>26.817006</td>\n",
       "      <td>10.231652</td>\n",
       "      <td>20.63</td>\n",
       "      <td>23.84</td>\n",
       "      <td>25.54</td>\n",
       "      <td>27.11</td>\n",
       "      <td>223.60</td>\n",
       "      <td>4568449831</td>\n",
       "      <td>...</td>\n",
       "      <td>0</td>\n",
       "      <td>0</td>\n",
       "      <td>0.0</td>\n",
       "      <td>0.0</td>\n",
       "      <td>0.000404</td>\n",
       "      <td>0</td>\n",
       "      <td>0</td>\n",
       "      <td>0</td>\n",
       "      <td>1</td>\n",
       "      <td>high_75</td>\n",
       "    </tr>\n",
       "  </tbody>\n",
       "</table>\n",
       "<p>5 rows × 24 columns</p>\n",
       "</div>"
      ],
      "text/plain": [
       "        CTLG_PROD_ID    count       mean        std    min    25%    50%  \\\n",
       "266988      11998125    316.0  85.823829   4.118917  63.18  84.13  84.13   \n",
       "147416       6504488    320.0  15.482906   1.727967  13.83  14.92  15.42   \n",
       "124960       6408981  17962.0  53.589554   6.892285  34.07  50.64  52.02   \n",
       "322526      14548567     94.0  21.981596   2.502918  20.92  20.92  20.92   \n",
       "64497        6186903   2475.0  26.817006  10.231652  20.63  23.84  25.54   \n",
       "\n",
       "          75%     max  ORD_ORDER_ID  ...  has_bpp  has_claim_seller  \\\n",
       "266988  90.01   90.01    4580511228  ...        0                 0   \n",
       "147416  15.42   23.32    4559211974  ...        0                 0   \n",
       "124960  54.17  375.73    4583018090  ...        0                 0   \n",
       "322526  21.30   32.37    4575174670  ...        0                 0   \n",
       "64497   27.11  223.60    4568449831  ...        0                 0   \n",
       "\n",
       "        is_refund  bpp_cashout_final    weight  bad_order  Low25_Price  \\\n",
       "266988        0.0                0.0  0.003165          0            0   \n",
       "147416        0.0                0.0  0.003125          0            0   \n",
       "124960        0.0                0.0  0.000056          0            0   \n",
       "322526        0.0                0.0  0.010638          0            0   \n",
       "64497         0.0                0.0  0.000404          0            0   \n",
       "\n",
       "        Middle_Price  High75_Price  Price_Range  \n",
       "266988             1             0       middle  \n",
       "147416             1             0       middle  \n",
       "124960             1             0       middle  \n",
       "322526             1             0       middle  \n",
       "64497              0             1      high_75  \n",
       "\n",
       "[5 rows x 24 columns]"
      ]
     },
     "execution_count": 32,
     "metadata": {},
     "output_type": "execute_result"
    }
   ],
   "source": [
    "df.sample(5)"
   ]
  },
  {
   "cell_type": "markdown",
   "metadata": {},
   "source": [
    "## Distribution Bad Orders"
   ]
  },
  {
   "cell_type": "code",
   "execution_count": 33,
   "metadata": {},
   "outputs": [],
   "source": [
    "df_1=df[['Price_Range','bad_order','ORD_ORDER_ID']]"
   ]
  },
  {
   "cell_type": "code",
   "execution_count": 34,
   "metadata": {},
   "outputs": [
    {
     "data": {
      "text/html": [
       "<div>\n",
       "<style scoped>\n",
       "    .dataframe tbody tr th:only-of-type {\n",
       "        vertical-align: middle;\n",
       "    }\n",
       "\n",
       "    .dataframe tbody tr th {\n",
       "        vertical-align: top;\n",
       "    }\n",
       "\n",
       "    .dataframe thead th {\n",
       "        text-align: right;\n",
       "    }\n",
       "</style>\n",
       "<table border=\"1\" class=\"dataframe\">\n",
       "  <thead>\n",
       "    <tr style=\"text-align: right;\">\n",
       "      <th></th>\n",
       "      <th>Price_Range</th>\n",
       "      <th>bad_order</th>\n",
       "      <th>ORD_ORDER_ID</th>\n",
       "      <th>TOTAL</th>\n",
       "      <th>Dis.[%]</th>\n",
       "    </tr>\n",
       "  </thead>\n",
       "  <tbody>\n",
       "    <tr>\n",
       "      <th>0</th>\n",
       "      <td>high_75</td>\n",
       "      <td>0</td>\n",
       "      <td>120675</td>\n",
       "      <td>140534</td>\n",
       "      <td>85.9</td>\n",
       "    </tr>\n",
       "    <tr>\n",
       "      <th>1</th>\n",
       "      <td>high_75</td>\n",
       "      <td>1</td>\n",
       "      <td>19859</td>\n",
       "      <td>140534</td>\n",
       "      <td>14.1</td>\n",
       "    </tr>\n",
       "    <tr>\n",
       "      <th>2</th>\n",
       "      <td>low_25</td>\n",
       "      <td>0</td>\n",
       "      <td>100553</td>\n",
       "      <td>126987</td>\n",
       "      <td>79.2</td>\n",
       "    </tr>\n",
       "    <tr>\n",
       "      <th>3</th>\n",
       "      <td>low_25</td>\n",
       "      <td>1</td>\n",
       "      <td>26434</td>\n",
       "      <td>126987</td>\n",
       "      <td>20.8</td>\n",
       "    </tr>\n",
       "    <tr>\n",
       "      <th>4</th>\n",
       "      <td>middle</td>\n",
       "      <td>0</td>\n",
       "      <td>523584</td>\n",
       "      <td>600876</td>\n",
       "      <td>87.1</td>\n",
       "    </tr>\n",
       "    <tr>\n",
       "      <th>5</th>\n",
       "      <td>middle</td>\n",
       "      <td>1</td>\n",
       "      <td>77292</td>\n",
       "      <td>600876</td>\n",
       "      <td>12.9</td>\n",
       "    </tr>\n",
       "  </tbody>\n",
       "</table>\n",
       "</div>"
      ],
      "text/plain": [
       "  Price_Range  bad_order  ORD_ORDER_ID   TOTAL  Dis.[%]\n",
       "0     high_75          0        120675  140534     85.9\n",
       "1     high_75          1         19859  140534     14.1\n",
       "2      low_25          0        100553  126987     79.2\n",
       "3      low_25          1         26434  126987     20.8\n",
       "4      middle          0        523584  600876     87.1\n",
       "5      middle          1         77292  600876     12.9"
      ]
     },
     "execution_count": 34,
     "metadata": {},
     "output_type": "execute_result"
    }
   ],
   "source": [
    "gb1=df_1.groupby(['Price_Range','bad_order']).count()\n",
    "gb1=gb1.reset_index()\n",
    "\n",
    "gb2=gb1[['Price_Range','ORD_ORDER_ID']].groupby(['Price_Range']).sum()\n",
    "gb2=gb2.reset_index()\n",
    "gb2['TOTAL']=gb2['ORD_ORDER_ID']\n",
    "gb2=gb2[['Price_Range','TOTAL']]\n",
    "\n",
    "gb3 = pd.merge(left = gb1, right = gb2,\n",
    "                how = 'inner',\n",
    "                left_on='Price_Range', right_on='Price_Range')\n",
    "\n",
    "gb3['Dis.[%]']=(gb3['ORD_ORDER_ID']/gb3['TOTAL'])*100\n",
    "gb3['Dis.[%]']=gb3['Dis.[%]'].round(decimals=1)\n",
    "\n",
    "gb3"
   ]
  },
  {
   "cell_type": "code",
   "execution_count": 35,
   "metadata": {},
   "outputs": [
    {
     "data": {
      "image/png": "[encoded data removed]",
      "text/plain": [
       "<Figure size 432x288 with 1 Axes>"
      ]
     },
     "metadata": {
      "needs_background": "light"
     },
     "output_type": "display_data"
    }
   ],
   "source": [
    "sns.histplot(\n",
    "            data=df_1,\n",
    "            x=\"Price_Range\",\n",
    "            hue=\"bad_order\",\n",
    "            multiple=\"dodge\",\n",
    "            shrink=.8\n",
    "            ).set(title='Precio',ylabel='Orders');"
   ]
  },
  {
   "cell_type": "markdown",
   "metadata": {},
   "source": [
    "## Distribution Bad Users"
   ]
  },
  {
   "cell_type": "code",
   "execution_count": 36,
   "metadata": {},
   "outputs": [],
   "source": [
    "df_1=df[['Price_Range','flag_bad_user','ORD_ORDER_ID']]"
   ]
  },
  {
   "cell_type": "code",
   "execution_count": 37,
   "metadata": {},
   "outputs": [
    {
     "data": {
      "text/html": [
       "<div>\n",
       "<style scoped>\n",
       "    .dataframe tbody tr th:only-of-type {\n",
       "        vertical-align: middle;\n",
       "    }\n",
       "\n",
       "    .dataframe tbody tr th {\n",
       "        vertical-align: top;\n",
       "    }\n",
       "\n",
       "    .dataframe thead th {\n",
       "        text-align: right;\n",
       "    }\n",
       "</style>\n",
       "<table border=\"1\" class=\"dataframe\">\n",
       "  <thead>\n",
       "    <tr style=\"text-align: right;\">\n",
       "      <th></th>\n",
       "      <th>Price_Range</th>\n",
       "      <th>flag_bad_user</th>\n",
       "      <th>ORD_ORDER_ID</th>\n",
       "      <th>TOTAL</th>\n",
       "      <th>Dis.[%]</th>\n",
       "    </tr>\n",
       "  </thead>\n",
       "  <tbody>\n",
       "    <tr>\n",
       "      <th>0</th>\n",
       "      <td>high_75</td>\n",
       "      <td>0</td>\n",
       "      <td>136138</td>\n",
       "      <td>140534</td>\n",
       "      <td>96.9</td>\n",
       "    </tr>\n",
       "    <tr>\n",
       "      <th>1</th>\n",
       "      <td>high_75</td>\n",
       "      <td>1</td>\n",
       "      <td>4396</td>\n",
       "      <td>140534</td>\n",
       "      <td>3.1</td>\n",
       "    </tr>\n",
       "    <tr>\n",
       "      <th>2</th>\n",
       "      <td>low_25</td>\n",
       "      <td>0</td>\n",
       "      <td>119663</td>\n",
       "      <td>126987</td>\n",
       "      <td>94.2</td>\n",
       "    </tr>\n",
       "    <tr>\n",
       "      <th>3</th>\n",
       "      <td>low_25</td>\n",
       "      <td>1</td>\n",
       "      <td>7324</td>\n",
       "      <td>126987</td>\n",
       "      <td>5.8</td>\n",
       "    </tr>\n",
       "    <tr>\n",
       "      <th>4</th>\n",
       "      <td>middle</td>\n",
       "      <td>0</td>\n",
       "      <td>582734</td>\n",
       "      <td>600876</td>\n",
       "      <td>97.0</td>\n",
       "    </tr>\n",
       "    <tr>\n",
       "      <th>5</th>\n",
       "      <td>middle</td>\n",
       "      <td>1</td>\n",
       "      <td>18142</td>\n",
       "      <td>600876</td>\n",
       "      <td>3.0</td>\n",
       "    </tr>\n",
       "  </tbody>\n",
       "</table>\n",
       "</div>"
      ],
      "text/plain": [
       "  Price_Range  flag_bad_user  ORD_ORDER_ID   TOTAL  Dis.[%]\n",
       "0     high_75              0        136138  140534     96.9\n",
       "1     high_75              1          4396  140534      3.1\n",
       "2      low_25              0        119663  126987     94.2\n",
       "3      low_25              1          7324  126987      5.8\n",
       "4      middle              0        582734  600876     97.0\n",
       "5      middle              1         18142  600876      3.0"
      ]
     },
     "execution_count": 37,
     "metadata": {},
     "output_type": "execute_result"
    }
   ],
   "source": [
    "gb1=df_1.groupby(['Price_Range','flag_bad_user']).count()\n",
    "gb1=gb1.reset_index()\n",
    "\n",
    "gb2=gb1[['Price_Range','ORD_ORDER_ID']].groupby(['Price_Range']).sum()\n",
    "gb2=gb2.reset_index()\n",
    "gb2['TOTAL']=gb2['ORD_ORDER_ID']\n",
    "gb2=gb2[['Price_Range','TOTAL']]\n",
    "\n",
    "gb3 = pd.merge(left = gb1, right = gb2,\n",
    "                how = 'inner',\n",
    "                left_on='Price_Range', right_on='Price_Range')\n",
    "\n",
    "gb3['Dis.[%]']=(gb3['ORD_ORDER_ID']/gb3['TOTAL'])*100\n",
    "gb3['Dis.[%]']=gb3['Dis.[%]'].round(decimals=1)\n",
    "\n",
    "gb3"
   ]
  },
  {
   "cell_type": "code",
   "execution_count": 38,
   "metadata": {},
   "outputs": [
    {
     "data": {
      "image/png": "[encoded data removed]",
      "text/plain": [
       "<Figure size 432x288 with 1 Axes>"
      ]
     },
     "metadata": {
      "needs_background": "light"
     },
     "output_type": "display_data"
    }
   ],
   "source": [
    "sns.histplot(\n",
    "            data=df_1,\n",
    "            x=\"Price_Range\",\n",
    "            hue=\"flag_bad_user\",\n",
    "            multiple=\"dodge\",\n",
    "            shrink=.8\n",
    "            ).set(title='Precio',ylabel='Orders');"
   ]
  },
  {
   "cell_type": "markdown",
   "metadata": {},
   "source": [
    "## Distribution Has CashOut"
   ]
  },
  {
   "cell_type": "code",
   "execution_count": 39,
   "metadata": {},
   "outputs": [
    {
     "name": "stderr",
     "output_type": "stream",
     "text": [
      "<ipython-input-39-239d2c268fe3>:2: SettingWithCopyWarning: \n",
      "A value is trying to be set on a copy of a slice from a DataFrame.\n",
      "Try using .loc[row_indexer,col_indexer] = value instead\n",
      "\n",
      "See the caveats in the documentation: https://pandas.pydata.org/pandas-docs/stable/user_guide/indexing.html#returning-a-view-versus-a-copy\n",
      "  df_1['has_co'] = df_1.apply(lambda x: 1 if x['bpp_cashout_final'] > 0 else 0, axis=1)\n"
     ]
    }
   ],
   "source": [
    "df_1=df[['Price_Range','bpp_cashout_final','ORD_ORDER_ID']]\n",
    "df_1['has_co'] = df_1.apply(lambda x: 1 if x['bpp_cashout_final'] > 0 else 0, axis=1)\n",
    "df_1=df_1[['Price_Range','has_co','ORD_ORDER_ID']]"
   ]
  },
  {
   "cell_type": "code",
   "execution_count": 40,
   "metadata": {},
   "outputs": [
    {
     "data": {
      "text/html": [
       "<div>\n",
       "<style scoped>\n",
       "    .dataframe tbody tr th:only-of-type {\n",
       "        vertical-align: middle;\n",
       "    }\n",
       "\n",
       "    .dataframe tbody tr th {\n",
       "        vertical-align: top;\n",
       "    }\n",
       "\n",
       "    .dataframe thead th {\n",
       "        text-align: right;\n",
       "    }\n",
       "</style>\n",
       "<table border=\"1\" class=\"dataframe\">\n",
       "  <thead>\n",
       "    <tr style=\"text-align: right;\">\n",
       "      <th></th>\n",
       "      <th>Price_Range</th>\n",
       "      <th>has_co</th>\n",
       "      <th>ORD_ORDER_ID</th>\n",
       "      <th>TOTAL</th>\n",
       "      <th>Dis.[%]</th>\n",
       "    </tr>\n",
       "  </thead>\n",
       "  <tbody>\n",
       "    <tr>\n",
       "      <th>0</th>\n",
       "      <td>high_75</td>\n",
       "      <td>0</td>\n",
       "      <td>139690</td>\n",
       "      <td>140534</td>\n",
       "      <td>99.4</td>\n",
       "    </tr>\n",
       "    <tr>\n",
       "      <th>1</th>\n",
       "      <td>high_75</td>\n",
       "      <td>1</td>\n",
       "      <td>844</td>\n",
       "      <td>140534</td>\n",
       "      <td>0.6</td>\n",
       "    </tr>\n",
       "    <tr>\n",
       "      <th>2</th>\n",
       "      <td>low_25</td>\n",
       "      <td>0</td>\n",
       "      <td>125609</td>\n",
       "      <td>126987</td>\n",
       "      <td>98.9</td>\n",
       "    </tr>\n",
       "    <tr>\n",
       "      <th>3</th>\n",
       "      <td>low_25</td>\n",
       "      <td>1</td>\n",
       "      <td>1378</td>\n",
       "      <td>126987</td>\n",
       "      <td>1.1</td>\n",
       "    </tr>\n",
       "    <tr>\n",
       "      <th>4</th>\n",
       "      <td>middle</td>\n",
       "      <td>0</td>\n",
       "      <td>597099</td>\n",
       "      <td>600876</td>\n",
       "      <td>99.4</td>\n",
       "    </tr>\n",
       "    <tr>\n",
       "      <th>5</th>\n",
       "      <td>middle</td>\n",
       "      <td>1</td>\n",
       "      <td>3777</td>\n",
       "      <td>600876</td>\n",
       "      <td>0.6</td>\n",
       "    </tr>\n",
       "  </tbody>\n",
       "</table>\n",
       "</div>"
      ],
      "text/plain": [
       "  Price_Range  has_co  ORD_ORDER_ID   TOTAL  Dis.[%]\n",
       "0     high_75       0        139690  140534     99.4\n",
       "1     high_75       1           844  140534      0.6\n",
       "2      low_25       0        125609  126987     98.9\n",
       "3      low_25       1          1378  126987      1.1\n",
       "4      middle       0        597099  600876     99.4\n",
       "5      middle       1          3777  600876      0.6"
      ]
     },
     "execution_count": 40,
     "metadata": {},
     "output_type": "execute_result"
    }
   ],
   "source": [
    "gb1=df_1.groupby(['Price_Range','has_co']).count()\n",
    "gb1=gb1.reset_index()\n",
    "\n",
    "gb2=gb1[['Price_Range','ORD_ORDER_ID']].groupby(['Price_Range']).sum()\n",
    "gb2=gb2.reset_index()\n",
    "gb2['TOTAL']=gb2['ORD_ORDER_ID']\n",
    "gb2=gb2[['Price_Range','TOTAL']]\n",
    "\n",
    "gb3 = pd.merge(left = gb1, right = gb2,\n",
    "                how = 'inner',\n",
    "                left_on='Price_Range', right_on='Price_Range')\n",
    "\n",
    "gb3['Dis.[%]']=(gb3['ORD_ORDER_ID']/gb3['TOTAL'])*100\n",
    "gb3['Dis.[%]']=gb3['Dis.[%]'].round(decimals=1)\n",
    "\n",
    "gb3"
   ]
  },
  {
   "cell_type": "code",
   "execution_count": 41,
   "metadata": {},
   "outputs": [
    {
     "data": {
      "image/png": "[encoded data removed]",
      "text/plain": [
       "<Figure size 432x288 with 1 Axes>"
      ]
     },
     "metadata": {
      "needs_background": "light"
     },
     "output_type": "display_data"
    }
   ],
   "source": [
    "sns.histplot(\n",
    "            data=df_1,\n",
    "            x=\"Price_Range\",\n",
    "            hue=\"has_co\",\n",
    "            multiple=\"dodge\",\n",
    "            shrink=.8\n",
    "            ).set(title='Precio',ylabel='Orders');"
   ]
  },
  {
   "cell_type": "markdown",
   "metadata": {},
   "source": [
    "## Distribution Has Claim"
   ]
  },
  {
   "cell_type": "code",
   "execution_count": 42,
   "metadata": {},
   "outputs": [],
   "source": [
    "df_1=df[['Price_Range','has_claim_seller','ORD_ORDER_ID']]"
   ]
  },
  {
   "cell_type": "code",
   "execution_count": 43,
   "metadata": {},
   "outputs": [
    {
     "data": {
      "text/html": [
       "<div>\n",
       "<style scoped>\n",
       "    .dataframe tbody tr th:only-of-type {\n",
       "        vertical-align: middle;\n",
       "    }\n",
       "\n",
       "    .dataframe tbody tr th {\n",
       "        vertical-align: top;\n",
       "    }\n",
       "\n",
       "    .dataframe thead th {\n",
       "        text-align: right;\n",
       "    }\n",
       "</style>\n",
       "<table border=\"1\" class=\"dataframe\">\n",
       "  <thead>\n",
       "    <tr style=\"text-align: right;\">\n",
       "      <th></th>\n",
       "      <th>Price_Range</th>\n",
       "      <th>has_claim_seller</th>\n",
       "      <th>ORD_ORDER_ID</th>\n",
       "      <th>TOTAL</th>\n",
       "      <th>Dis.[%]</th>\n",
       "    </tr>\n",
       "  </thead>\n",
       "  <tbody>\n",
       "    <tr>\n",
       "      <th>0</th>\n",
       "      <td>high_75</td>\n",
       "      <td>0</td>\n",
       "      <td>127238</td>\n",
       "      <td>140534</td>\n",
       "      <td>90.5</td>\n",
       "    </tr>\n",
       "    <tr>\n",
       "      <th>1</th>\n",
       "      <td>high_75</td>\n",
       "      <td>1</td>\n",
       "      <td>13296</td>\n",
       "      <td>140534</td>\n",
       "      <td>9.5</td>\n",
       "    </tr>\n",
       "    <tr>\n",
       "      <th>2</th>\n",
       "      <td>low_25</td>\n",
       "      <td>0</td>\n",
       "      <td>110606</td>\n",
       "      <td>126987</td>\n",
       "      <td>87.1</td>\n",
       "    </tr>\n",
       "    <tr>\n",
       "      <th>3</th>\n",
       "      <td>low_25</td>\n",
       "      <td>1</td>\n",
       "      <td>16381</td>\n",
       "      <td>126987</td>\n",
       "      <td>12.9</td>\n",
       "    </tr>\n",
       "    <tr>\n",
       "      <th>4</th>\n",
       "      <td>middle</td>\n",
       "      <td>0</td>\n",
       "      <td>551372</td>\n",
       "      <td>600876</td>\n",
       "      <td>91.8</td>\n",
       "    </tr>\n",
       "    <tr>\n",
       "      <th>5</th>\n",
       "      <td>middle</td>\n",
       "      <td>1</td>\n",
       "      <td>49504</td>\n",
       "      <td>600876</td>\n",
       "      <td>8.2</td>\n",
       "    </tr>\n",
       "  </tbody>\n",
       "</table>\n",
       "</div>"
      ],
      "text/plain": [
       "  Price_Range  has_claim_seller  ORD_ORDER_ID   TOTAL  Dis.[%]\n",
       "0     high_75                 0        127238  140534     90.5\n",
       "1     high_75                 1         13296  140534      9.5\n",
       "2      low_25                 0        110606  126987     87.1\n",
       "3      low_25                 1         16381  126987     12.9\n",
       "4      middle                 0        551372  600876     91.8\n",
       "5      middle                 1         49504  600876      8.2"
      ]
     },
     "execution_count": 43,
     "metadata": {},
     "output_type": "execute_result"
    }
   ],
   "source": [
    "gb1=df_1.groupby(['Price_Range','has_claim_seller']).count()\n",
    "gb1=gb1.reset_index()\n",
    "\n",
    "gb2=gb1[['Price_Range','ORD_ORDER_ID']].groupby(['Price_Range']).sum()\n",
    "gb2=gb2.reset_index()\n",
    "gb2['TOTAL']=gb2['ORD_ORDER_ID']\n",
    "gb2=gb2[['Price_Range','TOTAL']]\n",
    "\n",
    "gb3 = pd.merge(left = gb1, right = gb2,\n",
    "                how = 'inner',\n",
    "                left_on='Price_Range', right_on='Price_Range')\n",
    "\n",
    "gb3['Dis.[%]']=(gb3['ORD_ORDER_ID']/gb3['TOTAL'])*100\n",
    "gb3['Dis.[%]']=gb3['Dis.[%]'].round(decimals=1)\n",
    "\n",
    "gb3"
   ]
  },
  {
   "cell_type": "code",
   "execution_count": 44,
   "metadata": {},
   "outputs": [
    {
     "data": {
      "image/png": "[encoded data removed]",
      "text/plain": [
       "<Figure size 432x288 with 1 Axes>"
      ]
     },
     "metadata": {
      "needs_background": "light"
     },
     "output_type": "display_data"
    }
   ],
   "source": [
    "sns.histplot(\n",
    "            data=df_1,\n",
    "            x=\"Price_Range\",\n",
    "            hue=\"has_claim_seller\",\n",
    "            multiple=\"dodge\",\n",
    "            shrink=.8\n",
    "            ).set(title='Precio',ylabel='Orders');"
   ]
  },
  {
   "cell_type": "markdown",
   "metadata": {},
   "source": [
    "## Distribution is Refund"
   ]
  },
  {
   "cell_type": "code",
   "execution_count": 45,
   "metadata": {},
   "outputs": [],
   "source": [
    "df_1=df[['Price_Range','is_refund','ORD_ORDER_ID']]"
   ]
  },
  {
   "cell_type": "code",
   "execution_count": 46,
   "metadata": {},
   "outputs": [
    {
     "data": {
      "text/html": [
       "<div>\n",
       "<style scoped>\n",
       "    .dataframe tbody tr th:only-of-type {\n",
       "        vertical-align: middle;\n",
       "    }\n",
       "\n",
       "    .dataframe tbody tr th {\n",
       "        vertical-align: top;\n",
       "    }\n",
       "\n",
       "    .dataframe thead th {\n",
       "        text-align: right;\n",
       "    }\n",
       "</style>\n",
       "<table border=\"1\" class=\"dataframe\">\n",
       "  <thead>\n",
       "    <tr style=\"text-align: right;\">\n",
       "      <th></th>\n",
       "      <th>Price_Range</th>\n",
       "      <th>is_refund</th>\n",
       "      <th>ORD_ORDER_ID</th>\n",
       "      <th>TOTAL</th>\n",
       "      <th>Dis.[%]</th>\n",
       "    </tr>\n",
       "  </thead>\n",
       "  <tbody>\n",
       "    <tr>\n",
       "      <th>0</th>\n",
       "      <td>high_75</td>\n",
       "      <td>0.0</td>\n",
       "      <td>127272</td>\n",
       "      <td>140533</td>\n",
       "      <td>90.6</td>\n",
       "    </tr>\n",
       "    <tr>\n",
       "      <th>1</th>\n",
       "      <td>high_75</td>\n",
       "      <td>1.0</td>\n",
       "      <td>13261</td>\n",
       "      <td>140533</td>\n",
       "      <td>9.4</td>\n",
       "    </tr>\n",
       "    <tr>\n",
       "      <th>2</th>\n",
       "      <td>low_25</td>\n",
       "      <td>0.0</td>\n",
       "      <td>109284</td>\n",
       "      <td>126978</td>\n",
       "      <td>86.1</td>\n",
       "    </tr>\n",
       "    <tr>\n",
       "      <th>3</th>\n",
       "      <td>low_25</td>\n",
       "      <td>1.0</td>\n",
       "      <td>17694</td>\n",
       "      <td>126978</td>\n",
       "      <td>13.9</td>\n",
       "    </tr>\n",
       "    <tr>\n",
       "      <th>4</th>\n",
       "      <td>middle</td>\n",
       "      <td>0.0</td>\n",
       "      <td>551477</td>\n",
       "      <td>600874</td>\n",
       "      <td>91.8</td>\n",
       "    </tr>\n",
       "    <tr>\n",
       "      <th>5</th>\n",
       "      <td>middle</td>\n",
       "      <td>1.0</td>\n",
       "      <td>49397</td>\n",
       "      <td>600874</td>\n",
       "      <td>8.2</td>\n",
       "    </tr>\n",
       "  </tbody>\n",
       "</table>\n",
       "</div>"
      ],
      "text/plain": [
       "  Price_Range  is_refund  ORD_ORDER_ID   TOTAL  Dis.[%]\n",
       "0     high_75        0.0        127272  140533     90.6\n",
       "1     high_75        1.0         13261  140533      9.4\n",
       "2      low_25        0.0        109284  126978     86.1\n",
       "3      low_25        1.0         17694  126978     13.9\n",
       "4      middle        0.0        551477  600874     91.8\n",
       "5      middle        1.0         49397  600874      8.2"
      ]
     },
     "execution_count": 46,
     "metadata": {},
     "output_type": "execute_result"
    }
   ],
   "source": [
    "gb1=df_1.groupby(['Price_Range','is_refund']).count()\n",
    "gb1=gb1.reset_index()\n",
    "\n",
    "gb2=gb1[['Price_Range','ORD_ORDER_ID']].groupby(['Price_Range']).sum()\n",
    "gb2=gb2.reset_index()\n",
    "gb2['TOTAL']=gb2['ORD_ORDER_ID']\n",
    "gb2=gb2[['Price_Range','TOTAL']]\n",
    "\n",
    "gb3 = pd.merge(left = gb1, right = gb2,\n",
    "                how = 'inner',\n",
    "                left_on='Price_Range', right_on='Price_Range')\n",
    "\n",
    "gb3['Dis.[%]']=(gb3['ORD_ORDER_ID']/gb3['TOTAL'])*100\n",
    "gb3['Dis.[%]']=gb3['Dis.[%]'].round(decimals=1)\n",
    "\n",
    "gb3"
   ]
  },
  {
   "cell_type": "code",
   "execution_count": 47,
   "metadata": {},
   "outputs": [
    {
     "data": {
      "image/png": "[encoded data removed]",
      "text/plain": [
       "<Figure size 432x288 with 1 Axes>"
      ]
     },
     "metadata": {
      "needs_background": "light"
     },
     "output_type": "display_data"
    }
   ],
   "source": [
    "sns.histplot(\n",
    "            data=df_1,\n",
    "            x=\"Price_Range\",\n",
    "            hue=\"is_refund\",\n",
    "            multiple=\"dodge\",\n",
    "            shrink=.8\n",
    "            ).set(title='Precio',ylabel='Orders');"
   ]
  },
  {
   "cell_type": "markdown",
   "metadata": {},
   "source": [
    "## Create DF STD"
   ]
  },
  {
   "cell_type": "code",
   "execution_count": 106,
   "metadata": {},
   "outputs": [
    {
     "name": "stderr",
     "output_type": "stream",
     "text": [
      "<ipython-input-106-6eefd10cf30f>:2: SettingWithCopyWarning: \n",
      "A value is trying to be set on a copy of a slice from a DataFrame.\n",
      "Try using .loc[row_indexer,col_indexer] = value instead\n",
      "\n",
      "See the caveats in the documentation: https://pandas.pydata.org/pandas-docs/stable/user_guide/indexing.html#returning-a-view-versus-a-copy\n",
      "  df_std['STDx1'] = df_des['50%'] - df_des['std']\n",
      "<ipython-input-106-6eefd10cf30f>:3: SettingWithCopyWarning: \n",
      "A value is trying to be set on a copy of a slice from a DataFrame.\n",
      "Try using .loc[row_indexer,col_indexer] = value instead\n",
      "\n",
      "See the caveats in the documentation: https://pandas.pydata.org/pandas-docs/stable/user_guide/indexing.html#returning-a-view-versus-a-copy\n",
      "  df_std['STDx1.25'] = df_des['50%'] - (df_des['std']*1.25)\n",
      "<ipython-input-106-6eefd10cf30f>:4: SettingWithCopyWarning: \n",
      "A value is trying to be set on a copy of a slice from a DataFrame.\n",
      "Try using .loc[row_indexer,col_indexer] = value instead\n",
      "\n",
      "See the caveats in the documentation: https://pandas.pydata.org/pandas-docs/stable/user_guide/indexing.html#returning-a-view-versus-a-copy\n",
      "  df_std['STDx1.5'] = df_des['50%'] - (df_des['std']*1.5)\n",
      "<ipython-input-106-6eefd10cf30f>:5: SettingWithCopyWarning: \n",
      "A value is trying to be set on a copy of a slice from a DataFrame.\n",
      "Try using .loc[row_indexer,col_indexer] = value instead\n",
      "\n",
      "See the caveats in the documentation: https://pandas.pydata.org/pandas-docs/stable/user_guide/indexing.html#returning-a-view-versus-a-copy\n",
      "  df_std['STDx1.75'] = df_des['50%'] - (df_des['std']*1.75)\n",
      "<ipython-input-106-6eefd10cf30f>:6: SettingWithCopyWarning: \n",
      "A value is trying to be set on a copy of a slice from a DataFrame.\n",
      "Try using .loc[row_indexer,col_indexer] = value instead\n",
      "\n",
      "See the caveats in the documentation: https://pandas.pydata.org/pandas-docs/stable/user_guide/indexing.html#returning-a-view-versus-a-copy\n",
      "  df_std['STDx2'] = df_des['50%'] - (df_des['std']*2)\n",
      "<ipython-input-106-6eefd10cf30f>:7: SettingWithCopyWarning: \n",
      "A value is trying to be set on a copy of a slice from a DataFrame.\n",
      "Try using .loc[row_indexer,col_indexer] = value instead\n",
      "\n",
      "See the caveats in the documentation: https://pandas.pydata.org/pandas-docs/stable/user_guide/indexing.html#returning-a-view-versus-a-copy\n",
      "  df_std['STDx2.25'] = df_des['50%'] - (df_des['std']*2.25)\n"
     ]
    }
   ],
   "source": [
    "df_std = df_des[['CTLG_PROD_ID','50%']]\n",
    "df_std['STDx1'] = df_des['50%'] - df_des['std']\n",
    "df_std['STDx1.25'] = df_des['50%'] - (df_des['std']*1.25)\n",
    "df_std['STDx1.5'] = df_des['50%'] - (df_des['std']*1.5)\n",
    "df_std['STDx1.75'] = df_des['50%'] - (df_des['std']*1.75)\n",
    "df_std['STDx2'] = df_des['50%'] - (df_des['std']*2)\n",
    "df_std['STDx2.25'] = df_des['50%'] - (df_des['std']*2.25)\n",
    "df_std['STDx2.5'] = df_des['50%'] - (df_des['std']*2.5)\n",
    "df_std['STDx2.75'] = df_des['50%'] - (df_des['std']*2.75)\n",
    "df_std['STDx3'] = df_des['50%'] - (df_des['std']*3)\n",
    "df_std=df_std.round(decimals=2)"
   ]
  },
  {
   "cell_type": "code",
   "execution_count": 107,
   "metadata": {},
   "outputs": [
    {
     "data": {
      "text/html": [
       "<div>\n",
       "<style scoped>\n",
       "    .dataframe tbody tr th:only-of-type {\n",
       "        vertical-align: middle;\n",
       "    }\n",
       "\n",
       "    .dataframe tbody tr th {\n",
       "        vertical-align: top;\n",
       "    }\n",
       "\n",
       "    .dataframe thead th {\n",
       "        text-align: right;\n",
       "    }\n",
       "</style>\n",
       "<table border=\"1\" class=\"dataframe\">\n",
       "  <thead>\n",
       "    <tr style=\"text-align: right;\">\n",
       "      <th></th>\n",
       "      <th>CTLG_PROD_ID</th>\n",
       "      <th>50%</th>\n",
       "      <th>STDx1</th>\n",
       "      <th>STDx1.25</th>\n",
       "      <th>STDx1.5</th>\n",
       "      <th>STDx1.75</th>\n",
       "      <th>STDx2</th>\n",
       "      <th>STDx2.25</th>\n",
       "      <th>STDx2.5</th>\n",
       "      <th>STDx2.75</th>\n",
       "      <th>STDx3</th>\n",
       "    </tr>\n",
       "  </thead>\n",
       "  <tbody>\n",
       "    <tr>\n",
       "      <th>7099</th>\n",
       "      <td>16050680</td>\n",
       "      <td>1861.31</td>\n",
       "      <td>1861.31</td>\n",
       "      <td>1861.31</td>\n",
       "      <td>1861.31</td>\n",
       "      <td>1861.31</td>\n",
       "      <td>1861.31</td>\n",
       "      <td>1861.31</td>\n",
       "      <td>1861.31</td>\n",
       "      <td>1861.31</td>\n",
       "      <td>1861.31</td>\n",
       "    </tr>\n",
       "    <tr>\n",
       "      <th>8219</th>\n",
       "      <td>17455797</td>\n",
       "      <td>1648.72</td>\n",
       "      <td>1622.35</td>\n",
       "      <td>1615.76</td>\n",
       "      <td>1609.17</td>\n",
       "      <td>1602.57</td>\n",
       "      <td>1595.98</td>\n",
       "      <td>1589.39</td>\n",
       "      <td>1582.80</td>\n",
       "      <td>1576.20</td>\n",
       "      <td>1569.61</td>\n",
       "    </tr>\n",
       "    <tr>\n",
       "      <th>7301</th>\n",
       "      <td>16094851</td>\n",
       "      <td>21.70</td>\n",
       "      <td>21.17</td>\n",
       "      <td>21.03</td>\n",
       "      <td>20.90</td>\n",
       "      <td>20.77</td>\n",
       "      <td>20.63</td>\n",
       "      <td>20.50</td>\n",
       "      <td>20.37</td>\n",
       "      <td>20.23</td>\n",
       "      <td>20.10</td>\n",
       "    </tr>\n",
       "    <tr>\n",
       "      <th>4318</th>\n",
       "      <td>15149568</td>\n",
       "      <td>887.08</td>\n",
       "      <td>858.58</td>\n",
       "      <td>851.46</td>\n",
       "      <td>844.34</td>\n",
       "      <td>837.21</td>\n",
       "      <td>830.09</td>\n",
       "      <td>822.96</td>\n",
       "      <td>815.84</td>\n",
       "      <td>808.72</td>\n",
       "      <td>801.59</td>\n",
       "    </tr>\n",
       "    <tr>\n",
       "      <th>4464</th>\n",
       "      <td>15203214</td>\n",
       "      <td>523.59</td>\n",
       "      <td>490.49</td>\n",
       "      <td>482.21</td>\n",
       "      <td>473.94</td>\n",
       "      <td>465.66</td>\n",
       "      <td>457.39</td>\n",
       "      <td>449.11</td>\n",
       "      <td>440.84</td>\n",
       "      <td>432.56</td>\n",
       "      <td>424.29</td>\n",
       "    </tr>\n",
       "  </tbody>\n",
       "</table>\n",
       "</div>"
      ],
      "text/plain": [
       "      CTLG_PROD_ID      50%    STDx1  STDx1.25  STDx1.5  STDx1.75    STDx2  \\\n",
       "7099      16050680  1861.31  1861.31   1861.31  1861.31   1861.31  1861.31   \n",
       "8219      17455797  1648.72  1622.35   1615.76  1609.17   1602.57  1595.98   \n",
       "7301      16094851    21.70    21.17     21.03    20.90     20.77    20.63   \n",
       "4318      15149568   887.08   858.58    851.46   844.34    837.21   830.09   \n",
       "4464      15203214   523.59   490.49    482.21   473.94    465.66   457.39   \n",
       "\n",
       "      STDx2.25  STDx2.5  STDx2.75    STDx3  \n",
       "7099   1861.31  1861.31   1861.31  1861.31  \n",
       "8219   1589.39  1582.80   1576.20  1569.61  \n",
       "7301     20.50    20.37     20.23    20.10  \n",
       "4318    822.96   815.84    808.72   801.59  \n",
       "4464    449.11   440.84    432.56   424.29  "
      ]
     },
     "execution_count": 107,
     "metadata": {},
     "output_type": "execute_result"
    }
   ],
   "source": [
    "df_std.sample(5)"
   ]
  },
  {
   "cell_type": "code",
   "execution_count": null,
   "metadata": {},
   "outputs": [],
   "source": []
  },
  {
   "cell_type": "code",
   "execution_count": null,
   "metadata": {},
   "outputs": [],
   "source": []
  },
  {
   "cell_type": "code",
   "execution_count": null,
   "metadata": {},
   "outputs": [],
   "source": []
  },
  {
   "cell_type": "code",
   "execution_count": null,
   "metadata": {},
   "outputs": [],
   "source": []
  },
  {
   "cell_type": "code",
   "execution_count": null,
   "metadata": {},
   "outputs": [],
   "source": []
  },
  {
   "cell_type": "markdown",
   "metadata": {},
   "source": [
    "# Base on the STD_Range"
   ]
  },
  {
   "cell_type": "code",
   "execution_count": null,
   "metadata": {},
   "outputs": [],
   "source": [
    "df['STDx2'] = df[['std']]*2"
   ]
  },
  {
   "cell_type": "markdown",
   "metadata": {},
   "source": [
    "## Create column flag below 2 STD"
   ]
  },
  {
   "cell_type": "code",
   "execution_count": null,
   "metadata": {},
   "outputs": [],
   "source": [
    "df['media-2std'] = df['50%'] - df['STDx2']\n",
    "df['Low_2STD'] = df.apply(lambda x: 1 if x['media-2std'] > x['ITE_BASE_CURRENT_PRICE'] else 0, axis=1)"
   ]
  },
  {
   "cell_type": "markdown",
   "metadata": {},
   "source": [
    "## Create column flag over 2 STD"
   ]
  },
  {
   "cell_type": "code",
   "execution_count": null,
   "metadata": {},
   "outputs": [],
   "source": [
    "df['media+2std'] = df['50%'] + df['STDx2']\n",
    "df['High_2STD'] = df.apply(lambda x: 1 if x['media+2std'] < x['ITE_BASE_CURRENT_PRICE'] else 0, axis=1)"
   ]
  },
  {
   "cell_type": "markdown",
   "metadata": {},
   "source": [
    "## Create column flag STD_range"
   ]
  },
  {
   "cell_type": "code",
   "execution_count": null,
   "metadata": {},
   "outputs": [],
   "source": [
    "df['STD_Range'] = df.apply(lambda x:'low_2STD' if x['Low_2STD']== 1 else('high_2STD' if  x['High_2STD']==1  else 'middle_2STD'),axis=1)\n"
   ]
  },
  {
   "cell_type": "code",
   "execution_count": null,
   "metadata": {},
   "outputs": [],
   "source": [
    "df.columns"
   ]
  },
  {
   "cell_type": "code",
   "execution_count": null,
   "metadata": {},
   "outputs": [],
   "source": [
    "df.sample(5)"
   ]
  },
  {
   "cell_type": "markdown",
   "metadata": {},
   "source": [
    "## Distribution Bad Orders"
   ]
  },
  {
   "cell_type": "code",
   "execution_count": 37,
   "metadata": {},
   "outputs": [],
   "source": [
    "df_1=df[['STD_Range','bad_order','ORD_ORDER_ID']]"
   ]
  },
  {
   "cell_type": "code",
   "execution_count": 38,
   "metadata": {},
   "outputs": [
    {
     "data": {
      "text/html": [
       "<div>\n",
       "<style scoped>\n",
       "    .dataframe tbody tr th:only-of-type {\n",
       "        vertical-align: middle;\n",
       "    }\n",
       "\n",
       "    .dataframe tbody tr th {\n",
       "        vertical-align: top;\n",
       "    }\n",
       "\n",
       "    .dataframe thead th {\n",
       "        text-align: right;\n",
       "    }\n",
       "</style>\n",
       "<table border=\"1\" class=\"dataframe\">\n",
       "  <thead>\n",
       "    <tr style=\"text-align: right;\">\n",
       "      <th></th>\n",
       "      <th>STD_Range</th>\n",
       "      <th>bad_order</th>\n",
       "      <th>ORD_ORDER_ID</th>\n",
       "      <th>TOTAL</th>\n",
       "      <th>Dis.[%]</th>\n",
       "    </tr>\n",
       "  </thead>\n",
       "  <tbody>\n",
       "    <tr>\n",
       "      <th>0</th>\n",
       "      <td>high_2STD</td>\n",
       "      <td>0</td>\n",
       "      <td>17069</td>\n",
       "      <td>20046</td>\n",
       "      <td>85.1</td>\n",
       "    </tr>\n",
       "    <tr>\n",
       "      <th>1</th>\n",
       "      <td>high_2STD</td>\n",
       "      <td>1</td>\n",
       "      <td>2977</td>\n",
       "      <td>20046</td>\n",
       "      <td>14.9</td>\n",
       "    </tr>\n",
       "    <tr>\n",
       "      <th>2</th>\n",
       "      <td>low_2STD</td>\n",
       "      <td>0</td>\n",
       "      <td>3263</td>\n",
       "      <td>5310</td>\n",
       "      <td>61.5</td>\n",
       "    </tr>\n",
       "    <tr>\n",
       "      <th>3</th>\n",
       "      <td>low_2STD</td>\n",
       "      <td>1</td>\n",
       "      <td>2047</td>\n",
       "      <td>5310</td>\n",
       "      <td>38.5</td>\n",
       "    </tr>\n",
       "    <tr>\n",
       "      <th>4</th>\n",
       "      <td>middle_2STD</td>\n",
       "      <td>0</td>\n",
       "      <td>724480</td>\n",
       "      <td>843041</td>\n",
       "      <td>85.9</td>\n",
       "    </tr>\n",
       "    <tr>\n",
       "      <th>5</th>\n",
       "      <td>middle_2STD</td>\n",
       "      <td>1</td>\n",
       "      <td>118561</td>\n",
       "      <td>843041</td>\n",
       "      <td>14.1</td>\n",
       "    </tr>\n",
       "  </tbody>\n",
       "</table>\n",
       "</div>"
      ],
      "text/plain": [
       "     STD_Range  bad_order  ORD_ORDER_ID   TOTAL  Dis.[%]\n",
       "0    high_2STD          0         17069   20046     85.1\n",
       "1    high_2STD          1          2977   20046     14.9\n",
       "2     low_2STD          0          3263    5310     61.5\n",
       "3     low_2STD          1          2047    5310     38.5\n",
       "4  middle_2STD          0        724480  843041     85.9\n",
       "5  middle_2STD          1        118561  843041     14.1"
      ]
     },
     "execution_count": 38,
     "metadata": {},
     "output_type": "execute_result"
    }
   ],
   "source": [
    "gb1=df_1.groupby(['STD_Range','bad_order']).count()\n",
    "gb1=gb1.reset_index()\n",
    "\n",
    "gb2=gb1[['STD_Range','ORD_ORDER_ID']].groupby(['STD_Range']).sum()\n",
    "gb2=gb2.reset_index()\n",
    "gb2['TOTAL']=gb2['ORD_ORDER_ID']\n",
    "gb2=gb2[['STD_Range','TOTAL']]\n",
    "\n",
    "gb3 = pd.merge(left = gb1, right = gb2,\n",
    "                how = 'inner',\n",
    "                left_on='STD_Range', right_on='STD_Range')\n",
    "\n",
    "gb3['Dis.[%]']=(gb3['ORD_ORDER_ID']/gb3['TOTAL'])*100\n",
    "gb3['Dis.[%]']=gb3['Dis.[%]'].round(decimals=1)\n",
    "\n",
    "gb3"
   ]
  },
  {
   "cell_type": "code",
   "execution_count": 39,
   "metadata": {},
   "outputs": [
    {
     "data": {
      "image/png": "[encoded data removed]",
      "text/plain": [
       "<Figure size 432x288 with 1 Axes>"
      ]
     },
     "metadata": {
      "needs_background": "light"
     },
     "output_type": "display_data"
    }
   ],
   "source": [
    "sns.histplot(\n",
    "            data=df_1,\n",
    "            x=\"STD_Range\",\n",
    "            hue=\"bad_order\",\n",
    "            multiple=\"dodge\",\n",
    "            shrink=.8\n",
    "            ).set(title='Precio',ylabel='Orders');"
   ]
  },
  {
   "cell_type": "markdown",
   "metadata": {},
   "source": [
    "## Distribution Bad Users"
   ]
  },
  {
   "cell_type": "code",
   "execution_count": 40,
   "metadata": {},
   "outputs": [],
   "source": [
    "df_1=df[['STD_Range','flag_bad_user','ORD_ORDER_ID']]"
   ]
  },
  {
   "cell_type": "code",
   "execution_count": 41,
   "metadata": {},
   "outputs": [
    {
     "data": {
      "text/html": [
       "<div>\n",
       "<style scoped>\n",
       "    .dataframe tbody tr th:only-of-type {\n",
       "        vertical-align: middle;\n",
       "    }\n",
       "\n",
       "    .dataframe tbody tr th {\n",
       "        vertical-align: top;\n",
       "    }\n",
       "\n",
       "    .dataframe thead th {\n",
       "        text-align: right;\n",
       "    }\n",
       "</style>\n",
       "<table border=\"1\" class=\"dataframe\">\n",
       "  <thead>\n",
       "    <tr style=\"text-align: right;\">\n",
       "      <th></th>\n",
       "      <th>STD_Range</th>\n",
       "      <th>flag_bad_user</th>\n",
       "      <th>ORD_ORDER_ID</th>\n",
       "      <th>TOTAL</th>\n",
       "      <th>Dis.[%]</th>\n",
       "    </tr>\n",
       "  </thead>\n",
       "  <tbody>\n",
       "    <tr>\n",
       "      <th>0</th>\n",
       "      <td>high_2STD</td>\n",
       "      <td>0</td>\n",
       "      <td>19547</td>\n",
       "      <td>20046</td>\n",
       "      <td>97.5</td>\n",
       "    </tr>\n",
       "    <tr>\n",
       "      <th>1</th>\n",
       "      <td>high_2STD</td>\n",
       "      <td>1</td>\n",
       "      <td>499</td>\n",
       "      <td>20046</td>\n",
       "      <td>2.5</td>\n",
       "    </tr>\n",
       "    <tr>\n",
       "      <th>2</th>\n",
       "      <td>low_2STD</td>\n",
       "      <td>0</td>\n",
       "      <td>4980</td>\n",
       "      <td>5310</td>\n",
       "      <td>93.8</td>\n",
       "    </tr>\n",
       "    <tr>\n",
       "      <th>3</th>\n",
       "      <td>low_2STD</td>\n",
       "      <td>1</td>\n",
       "      <td>330</td>\n",
       "      <td>5310</td>\n",
       "      <td>6.2</td>\n",
       "    </tr>\n",
       "    <tr>\n",
       "      <th>4</th>\n",
       "      <td>middle_2STD</td>\n",
       "      <td>0</td>\n",
       "      <td>814008</td>\n",
       "      <td>843041</td>\n",
       "      <td>96.6</td>\n",
       "    </tr>\n",
       "    <tr>\n",
       "      <th>5</th>\n",
       "      <td>middle_2STD</td>\n",
       "      <td>1</td>\n",
       "      <td>29033</td>\n",
       "      <td>843041</td>\n",
       "      <td>3.4</td>\n",
       "    </tr>\n",
       "  </tbody>\n",
       "</table>\n",
       "</div>"
      ],
      "text/plain": [
       "     STD_Range  flag_bad_user  ORD_ORDER_ID   TOTAL  Dis.[%]\n",
       "0    high_2STD              0         19547   20046     97.5\n",
       "1    high_2STD              1           499   20046      2.5\n",
       "2     low_2STD              0          4980    5310     93.8\n",
       "3     low_2STD              1           330    5310      6.2\n",
       "4  middle_2STD              0        814008  843041     96.6\n",
       "5  middle_2STD              1         29033  843041      3.4"
      ]
     },
     "execution_count": 41,
     "metadata": {},
     "output_type": "execute_result"
    }
   ],
   "source": [
    "gb1=df_1.groupby(['STD_Range','flag_bad_user']).count()\n",
    "gb1=gb1.reset_index()\n",
    "\n",
    "gb2=gb1[['STD_Range','ORD_ORDER_ID']].groupby(['STD_Range']).sum()\n",
    "gb2=gb2.reset_index()\n",
    "gb2['TOTAL']=gb2['ORD_ORDER_ID']\n",
    "gb2=gb2[['STD_Range','TOTAL']]\n",
    "\n",
    "gb3 = pd.merge(left = gb1, right = gb2,\n",
    "                how = 'inner',\n",
    "                left_on='STD_Range', right_on='STD_Range')\n",
    "\n",
    "gb3['Dis.[%]']=(gb3['ORD_ORDER_ID']/gb3['TOTAL'])*100\n",
    "gb3['Dis.[%]']=gb3['Dis.[%]'].round(decimals=1)\n",
    "\n",
    "gb3"
   ]
  },
  {
   "cell_type": "code",
   "execution_count": 42,
   "metadata": {},
   "outputs": [
    {
     "data": {
      "image/png": "[encoded data removed]",
      "text/plain": [
       "<Figure size 432x288 with 1 Axes>"
      ]
     },
     "metadata": {
      "needs_background": "light"
     },
     "output_type": "display_data"
    }
   ],
   "source": [
    "sns.histplot(\n",
    "            data=df_1,\n",
    "            x=\"STD_Range\",\n",
    "            hue=\"flag_bad_user\",\n",
    "            multiple=\"dodge\",\n",
    "            shrink=.8\n",
    "            ).set(title='Precio',ylabel='Orders');"
   ]
  },
  {
   "cell_type": "markdown",
   "metadata": {},
   "source": [
    "## Distribution Has CashOut"
   ]
  },
  {
   "cell_type": "code",
   "execution_count": 43,
   "metadata": {},
   "outputs": [
    {
     "name": "stderr",
     "output_type": "stream",
     "text": [
      "<ipython-input-43-080048337619>:2: SettingWithCopyWarning: \n",
      "A value is trying to be set on a copy of a slice from a DataFrame.\n",
      "Try using .loc[row_indexer,col_indexer] = value instead\n",
      "\n",
      "See the caveats in the documentation: https://pandas.pydata.org/pandas-docs/stable/user_guide/indexing.html#returning-a-view-versus-a-copy\n",
      "  df_1['has_co'] = df_1.apply(lambda x: 1 if x['bpp_cashout_final'] > 0 else 0, axis=1)\n"
     ]
    }
   ],
   "source": [
    "df_1=df[['STD_Range','bpp_cashout_final','ORD_ORDER_ID']]\n",
    "df_1['has_co'] = df_1.apply(lambda x: 1 if x['bpp_cashout_final'] > 0 else 0, axis=1)\n",
    "df_1=df_1[['STD_Range','has_co','ORD_ORDER_ID']]"
   ]
  },
  {
   "cell_type": "code",
   "execution_count": 44,
   "metadata": {},
   "outputs": [
    {
     "data": {
      "text/html": [
       "<div>\n",
       "<style scoped>\n",
       "    .dataframe tbody tr th:only-of-type {\n",
       "        vertical-align: middle;\n",
       "    }\n",
       "\n",
       "    .dataframe tbody tr th {\n",
       "        vertical-align: top;\n",
       "    }\n",
       "\n",
       "    .dataframe thead th {\n",
       "        text-align: right;\n",
       "    }\n",
       "</style>\n",
       "<table border=\"1\" class=\"dataframe\">\n",
       "  <thead>\n",
       "    <tr style=\"text-align: right;\">\n",
       "      <th></th>\n",
       "      <th>STD_Range</th>\n",
       "      <th>has_co</th>\n",
       "      <th>ORD_ORDER_ID</th>\n",
       "      <th>TOTAL</th>\n",
       "      <th>Dis.[%]</th>\n",
       "    </tr>\n",
       "  </thead>\n",
       "  <tbody>\n",
       "    <tr>\n",
       "      <th>0</th>\n",
       "      <td>high_2STD</td>\n",
       "      <td>0</td>\n",
       "      <td>19963</td>\n",
       "      <td>20046</td>\n",
       "      <td>99.6</td>\n",
       "    </tr>\n",
       "    <tr>\n",
       "      <th>1</th>\n",
       "      <td>high_2STD</td>\n",
       "      <td>1</td>\n",
       "      <td>83</td>\n",
       "      <td>20046</td>\n",
       "      <td>0.4</td>\n",
       "    </tr>\n",
       "    <tr>\n",
       "      <th>2</th>\n",
       "      <td>low_2STD</td>\n",
       "      <td>0</td>\n",
       "      <td>5201</td>\n",
       "      <td>5310</td>\n",
       "      <td>97.9</td>\n",
       "    </tr>\n",
       "    <tr>\n",
       "      <th>3</th>\n",
       "      <td>low_2STD</td>\n",
       "      <td>1</td>\n",
       "      <td>109</td>\n",
       "      <td>5310</td>\n",
       "      <td>2.1</td>\n",
       "    </tr>\n",
       "    <tr>\n",
       "      <th>4</th>\n",
       "      <td>middle_2STD</td>\n",
       "      <td>0</td>\n",
       "      <td>837234</td>\n",
       "      <td>843041</td>\n",
       "      <td>99.3</td>\n",
       "    </tr>\n",
       "    <tr>\n",
       "      <th>5</th>\n",
       "      <td>middle_2STD</td>\n",
       "      <td>1</td>\n",
       "      <td>5807</td>\n",
       "      <td>843041</td>\n",
       "      <td>0.7</td>\n",
       "    </tr>\n",
       "  </tbody>\n",
       "</table>\n",
       "</div>"
      ],
      "text/plain": [
       "     STD_Range  has_co  ORD_ORDER_ID   TOTAL  Dis.[%]\n",
       "0    high_2STD       0         19963   20046     99.6\n",
       "1    high_2STD       1            83   20046      0.4\n",
       "2     low_2STD       0          5201    5310     97.9\n",
       "3     low_2STD       1           109    5310      2.1\n",
       "4  middle_2STD       0        837234  843041     99.3\n",
       "5  middle_2STD       1          5807  843041      0.7"
      ]
     },
     "execution_count": 44,
     "metadata": {},
     "output_type": "execute_result"
    }
   ],
   "source": [
    "gb1=df_1.groupby(['STD_Range','has_co']).count()\n",
    "gb1=gb1.reset_index()\n",
    "\n",
    "gb2=gb1[['STD_Range','ORD_ORDER_ID']].groupby(['STD_Range']).sum()\n",
    "gb2=gb2.reset_index()\n",
    "gb2['TOTAL']=gb2['ORD_ORDER_ID']\n",
    "gb2=gb2[['STD_Range','TOTAL']]\n",
    "\n",
    "gb3 = pd.merge(left = gb1, right = gb2,\n",
    "                how = 'inner',\n",
    "                left_on='STD_Range', right_on='STD_Range')\n",
    "\n",
    "gb3['Dis.[%]']=(gb3['ORD_ORDER_ID']/gb3['TOTAL'])*100\n",
    "gb3['Dis.[%]']=gb3['Dis.[%]'].round(decimals=1)\n",
    "\n",
    "gb3"
   ]
  },
  {
   "cell_type": "code",
   "execution_count": 45,
   "metadata": {},
   "outputs": [
    {
     "data": {
      "image/png": "[encoded data removed]",
      "text/plain": [
       "<Figure size 432x288 with 1 Axes>"
      ]
     },
     "metadata": {
      "needs_background": "light"
     },
     "output_type": "display_data"
    }
   ],
   "source": [
    "sns.histplot(\n",
    "            data=df_1,\n",
    "            x=\"STD_Range\",\n",
    "            hue=\"has_co\",\n",
    "            multiple=\"dodge\",\n",
    "            shrink=.8\n",
    "            ).set(title='Precio',ylabel='Orders');"
   ]
  },
  {
   "cell_type": "markdown",
   "metadata": {},
   "source": [
    "## Distribution Has Claim"
   ]
  },
  {
   "cell_type": "code",
   "execution_count": 46,
   "metadata": {},
   "outputs": [],
   "source": [
    "df_1=df[['STD_Range','has_claim_seller','ORD_ORDER_ID']]"
   ]
  },
  {
   "cell_type": "code",
   "execution_count": 47,
   "metadata": {},
   "outputs": [
    {
     "data": {
      "text/html": [
       "<div>\n",
       "<style scoped>\n",
       "    .dataframe tbody tr th:only-of-type {\n",
       "        vertical-align: middle;\n",
       "    }\n",
       "\n",
       "    .dataframe tbody tr th {\n",
       "        vertical-align: top;\n",
       "    }\n",
       "\n",
       "    .dataframe thead th {\n",
       "        text-align: right;\n",
       "    }\n",
       "</style>\n",
       "<table border=\"1\" class=\"dataframe\">\n",
       "  <thead>\n",
       "    <tr style=\"text-align: right;\">\n",
       "      <th></th>\n",
       "      <th>STD_Range</th>\n",
       "      <th>has_claim_seller</th>\n",
       "      <th>ORD_ORDER_ID</th>\n",
       "      <th>TOTAL</th>\n",
       "      <th>Dis.[%]</th>\n",
       "    </tr>\n",
       "  </thead>\n",
       "  <tbody>\n",
       "    <tr>\n",
       "      <th>0</th>\n",
       "      <td>high_2STD</td>\n",
       "      <td>0</td>\n",
       "      <td>17889</td>\n",
       "      <td>20046</td>\n",
       "      <td>89.2</td>\n",
       "    </tr>\n",
       "    <tr>\n",
       "      <th>1</th>\n",
       "      <td>high_2STD</td>\n",
       "      <td>1</td>\n",
       "      <td>2157</td>\n",
       "      <td>20046</td>\n",
       "      <td>10.8</td>\n",
       "    </tr>\n",
       "    <tr>\n",
       "      <th>2</th>\n",
       "      <td>low_2STD</td>\n",
       "      <td>0</td>\n",
       "      <td>3807</td>\n",
       "      <td>5310</td>\n",
       "      <td>71.7</td>\n",
       "    </tr>\n",
       "    <tr>\n",
       "      <th>3</th>\n",
       "      <td>low_2STD</td>\n",
       "      <td>1</td>\n",
       "      <td>1503</td>\n",
       "      <td>5310</td>\n",
       "      <td>28.3</td>\n",
       "    </tr>\n",
       "    <tr>\n",
       "      <th>4</th>\n",
       "      <td>middle_2STD</td>\n",
       "      <td>0</td>\n",
       "      <td>767520</td>\n",
       "      <td>843041</td>\n",
       "      <td>91.0</td>\n",
       "    </tr>\n",
       "    <tr>\n",
       "      <th>5</th>\n",
       "      <td>middle_2STD</td>\n",
       "      <td>1</td>\n",
       "      <td>75521</td>\n",
       "      <td>843041</td>\n",
       "      <td>9.0</td>\n",
       "    </tr>\n",
       "  </tbody>\n",
       "</table>\n",
       "</div>"
      ],
      "text/plain": [
       "     STD_Range  has_claim_seller  ORD_ORDER_ID   TOTAL  Dis.[%]\n",
       "0    high_2STD                 0         17889   20046     89.2\n",
       "1    high_2STD                 1          2157   20046     10.8\n",
       "2     low_2STD                 0          3807    5310     71.7\n",
       "3     low_2STD                 1          1503    5310     28.3\n",
       "4  middle_2STD                 0        767520  843041     91.0\n",
       "5  middle_2STD                 1         75521  843041      9.0"
      ]
     },
     "execution_count": 47,
     "metadata": {},
     "output_type": "execute_result"
    }
   ],
   "source": [
    "gb1=df_1.groupby(['STD_Range','has_claim_seller']).count()\n",
    "gb1=gb1.reset_index()\n",
    "\n",
    "gb2=gb1[['STD_Range','ORD_ORDER_ID']].groupby(['STD_Range']).sum()\n",
    "gb2=gb2.reset_index()\n",
    "gb2['TOTAL']=gb2['ORD_ORDER_ID']\n",
    "gb2=gb2[['STD_Range','TOTAL']]\n",
    "\n",
    "gb3 = pd.merge(left = gb1, right = gb2,\n",
    "                how = 'inner',\n",
    "                left_on='STD_Range', right_on='STD_Range')\n",
    "\n",
    "gb3['Dis.[%]']=(gb3['ORD_ORDER_ID']/gb3['TOTAL'])*100\n",
    "gb3['Dis.[%]']=gb3['Dis.[%]'].round(decimals=1)\n",
    "\n",
    "gb3"
   ]
  },
  {
   "cell_type": "code",
   "execution_count": 48,
   "metadata": {},
   "outputs": [
    {
     "data": {
      "image/png": "[encoded data removed]",
      "text/plain": [
       "<Figure size 432x288 with 1 Axes>"
      ]
     },
     "metadata": {
      "needs_background": "light"
     },
     "output_type": "display_data"
    }
   ],
   "source": [
    "sns.histplot(\n",
    "            data=df_1,\n",
    "            x=\"STD_Range\",\n",
    "            hue=\"has_claim_seller\",\n",
    "            multiple=\"dodge\",\n",
    "            shrink=.8\n",
    "            ).set(title='Precio',ylabel='Orders');"
   ]
  },
  {
   "cell_type": "markdown",
   "metadata": {},
   "source": [
    "## Distribution is Refund"
   ]
  },
  {
   "cell_type": "code",
   "execution_count": 49,
   "metadata": {},
   "outputs": [],
   "source": [
    "df_1=df[['STD_Range','is_refund','ORD_ORDER_ID']]"
   ]
  },
  {
   "cell_type": "code",
   "execution_count": 50,
   "metadata": {},
   "outputs": [
    {
     "data": {
      "text/html": [
       "<div>\n",
       "<style scoped>\n",
       "    .dataframe tbody tr th:only-of-type {\n",
       "        vertical-align: middle;\n",
       "    }\n",
       "\n",
       "    .dataframe tbody tr th {\n",
       "        vertical-align: top;\n",
       "    }\n",
       "\n",
       "    .dataframe thead th {\n",
       "        text-align: right;\n",
       "    }\n",
       "</style>\n",
       "<table border=\"1\" class=\"dataframe\">\n",
       "  <thead>\n",
       "    <tr style=\"text-align: right;\">\n",
       "      <th></th>\n",
       "      <th>STD_Range</th>\n",
       "      <th>is_refund</th>\n",
       "      <th>ORD_ORDER_ID</th>\n",
       "      <th>TOTAL</th>\n",
       "      <th>Dis.[%]</th>\n",
       "    </tr>\n",
       "  </thead>\n",
       "  <tbody>\n",
       "    <tr>\n",
       "      <th>0</th>\n",
       "      <td>high_2STD</td>\n",
       "      <td>0.0</td>\n",
       "      <td>17999</td>\n",
       "      <td>20046</td>\n",
       "      <td>89.8</td>\n",
       "    </tr>\n",
       "    <tr>\n",
       "      <th>1</th>\n",
       "      <td>high_2STD</td>\n",
       "      <td>1.0</td>\n",
       "      <td>2047</td>\n",
       "      <td>20046</td>\n",
       "      <td>10.2</td>\n",
       "    </tr>\n",
       "    <tr>\n",
       "      <th>2</th>\n",
       "      <td>low_2STD</td>\n",
       "      <td>0.0</td>\n",
       "      <td>3531</td>\n",
       "      <td>5309</td>\n",
       "      <td>66.5</td>\n",
       "    </tr>\n",
       "    <tr>\n",
       "      <th>3</th>\n",
       "      <td>low_2STD</td>\n",
       "      <td>1.0</td>\n",
       "      <td>1778</td>\n",
       "      <td>5309</td>\n",
       "      <td>33.5</td>\n",
       "    </tr>\n",
       "    <tr>\n",
       "      <th>4</th>\n",
       "      <td>middle_2STD</td>\n",
       "      <td>0.0</td>\n",
       "      <td>766503</td>\n",
       "      <td>843030</td>\n",
       "      <td>90.9</td>\n",
       "    </tr>\n",
       "    <tr>\n",
       "      <th>5</th>\n",
       "      <td>middle_2STD</td>\n",
       "      <td>1.0</td>\n",
       "      <td>76527</td>\n",
       "      <td>843030</td>\n",
       "      <td>9.1</td>\n",
       "    </tr>\n",
       "  </tbody>\n",
       "</table>\n",
       "</div>"
      ],
      "text/plain": [
       "     STD_Range  is_refund  ORD_ORDER_ID   TOTAL  Dis.[%]\n",
       "0    high_2STD        0.0         17999   20046     89.8\n",
       "1    high_2STD        1.0          2047   20046     10.2\n",
       "2     low_2STD        0.0          3531    5309     66.5\n",
       "3     low_2STD        1.0          1778    5309     33.5\n",
       "4  middle_2STD        0.0        766503  843030     90.9\n",
       "5  middle_2STD        1.0         76527  843030      9.1"
      ]
     },
     "execution_count": 50,
     "metadata": {},
     "output_type": "execute_result"
    }
   ],
   "source": [
    "gb1=df_1.groupby(['STD_Range','is_refund']).count()\n",
    "gb1=gb1.reset_index()\n",
    "\n",
    "gb2=gb1[['STD_Range','ORD_ORDER_ID']].groupby(['STD_Range']).sum()\n",
    "gb2=gb2.reset_index()\n",
    "gb2['TOTAL']=gb2['ORD_ORDER_ID']\n",
    "gb2=gb2[['STD_Range','TOTAL']]\n",
    "\n",
    "gb3 = pd.merge(left = gb1, right = gb2,\n",
    "                how = 'inner',\n",
    "                left_on='STD_Range', right_on='STD_Range')\n",
    "\n",
    "gb3['Dis.[%]']=(gb3['ORD_ORDER_ID']/gb3['TOTAL'])*100\n",
    "gb3['Dis.[%]']=gb3['Dis.[%]'].round(decimals=1)\n",
    "\n",
    "gb3"
   ]
  },
  {
   "cell_type": "code",
   "execution_count": 51,
   "metadata": {},
   "outputs": [
    {
     "data": {
      "image/png": "[encoded data removed]",
      "text/plain": [
       "<Figure size 432x288 with 1 Axes>"
      ]
     },
     "metadata": {
      "needs_background": "light"
     },
     "output_type": "display_data"
    }
   ],
   "source": [
    "sns.histplot(\n",
    "            data=df_1,\n",
    "            x=\"STD_Range\",\n",
    "            hue=\"is_refund\",\n",
    "            multiple=\"dodge\",\n",
    "            shrink=.8\n",
    "            ).set(title='Precio',ylabel='Orders');"
   ]
  },
  {
   "cell_type": "markdown",
   "metadata": {},
   "source": [
    "## Export the products IDs"
   ]
  },
  {
   "cell_type": "code",
   "execution_count": null,
   "metadata": {},
   "outputs": [],
   "source": [
    "#ID=df['CTLG_PROD_ID']\n",
    "#ID.to_csv(r'products_id.csv', index = False)"
   ]
  },
  {
   "cell_type": "code",
   "execution_count": null,
   "metadata": {},
   "outputs": [],
   "source": [
    "#LAMBDA CON AND\n",
    "#df_ratios['extremos']= df_ratios.apply(lambda x: 'caso1' if x['ratio_recla_1m']> 0.3 and x['ratio_cashout_1m']> 0.3 and x['ratio_ref_1m']> 0.3 and x['ratio_claims_1m']> 0.3 else 'no',axis=1)\n"
   ]
  },
  {
   "cell_type": "code",
   "execution_count": null,
   "metadata": {},
   "outputs": [],
   "source": [
    "#LAMDA CON IF ANIDADO\n",
    "#df['adicionales']= df.apply(lambda x: 'caso1' if x['gmv_90d']<= 0 else('caso2' if  x['gmv_30d']<=0  else 'no'),axis=1)\n"
   ]
  }
 ],
 "metadata": {
  "kernelspec": {
   "display_name": "Python 3",
   "language": "python",
   "name": "python3"
  },
  "language_info": {
   "codemirror_mode": {
    "name": "ipython",
    "version": 3
   },
   "file_extension": ".py",
   "mimetype": "text/x-python",
   "name": "python",
   "nbconvert_exporter": "python",
   "pygments_lexer": "ipython3",
   "version": "3.8.5"
  }
 },
 "nbformat": 4,
 "nbformat_minor": 4
}
