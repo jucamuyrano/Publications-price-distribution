{
 "cells": [
  {
   "cell_type": "markdown",
   "metadata": {},
   "source": [
    "## Import libraries"
   ]
  },
  {
   "cell_type": "code",
   "execution_count": 1,
   "metadata": {},
   "outputs": [],
   "source": [
    "import pandas as pd\n",
    "import numpy as np\n",
    "import os\n",
    "import matplotlib.pyplot as plt\n",
    "import seaborn as sns\n",
    "from datetime import datetime"
   ]
  },
  {
   "cell_type": "markdown",
   "metadata": {},
   "source": [
    "## Upload Data Base"
   ]
  },
  {
   "cell_type": "code",
   "execution_count": 2,
   "metadata": {},
   "outputs": [],
   "source": [
    "df_ord = pd.read_csv(r'base_orders.csv')"
   ]
  },
  {
   "cell_type": "code",
   "execution_count": 3,
   "metadata": {},
   "outputs": [
    {
     "data": {
      "text/plain": [
       "(1066717, 14)"
      ]
     },
     "execution_count": 3,
     "metadata": {},
     "output_type": "execute_result"
    }
   ],
   "source": [
    "df_ord.shape"
   ]
  },
  {
   "cell_type": "code",
   "execution_count": 4,
   "metadata": {},
   "outputs": [
    {
     "data": {
      "text/plain": [
       "Index(['ORD_ORDER_ID', 'CUS_CUST_ID_SEL', 'ITE_ITEM_ID', 'CTLG_PROD_ID',\n",
       "       'ITE_BASE_CURRENT_PRICE', 'active_item', 'flag_bad_item',\n",
       "       'flag_bad_user', 'order_trusted', 'is_buybox', 'has_bpp',\n",
       "       'has_claim_seller', 'is_refund', 'bpp_cashout_final'],\n",
       "      dtype='object')"
      ]
     },
     "execution_count": 4,
     "metadata": {},
     "output_type": "execute_result"
    }
   ],
   "source": [
    "df_ord.columns"
   ]
  },
  {
   "cell_type": "code",
   "execution_count": 5,
   "metadata": {},
   "outputs": [
    {
     "data": {
      "text/html": [
       "<div>\n",
       "<style scoped>\n",
       "    .dataframe tbody tr th:only-of-type {\n",
       "        vertical-align: middle;\n",
       "    }\n",
       "\n",
       "    .dataframe tbody tr th {\n",
       "        vertical-align: top;\n",
       "    }\n",
       "\n",
       "    .dataframe thead th {\n",
       "        text-align: right;\n",
       "    }\n",
       "</style>\n",
       "<table border=\"1\" class=\"dataframe\">\n",
       "  <thead>\n",
       "    <tr style=\"text-align: right;\">\n",
       "      <th></th>\n",
       "      <th>ORD_ORDER_ID</th>\n",
       "      <th>CUS_CUST_ID_SEL</th>\n",
       "      <th>ITE_ITEM_ID</th>\n",
       "      <th>CTLG_PROD_ID</th>\n",
       "      <th>ITE_BASE_CURRENT_PRICE</th>\n",
       "      <th>active_item</th>\n",
       "      <th>flag_bad_item</th>\n",
       "      <th>flag_bad_user</th>\n",
       "      <th>order_trusted</th>\n",
       "      <th>is_buybox</th>\n",
       "      <th>has_bpp</th>\n",
       "      <th>has_claim_seller</th>\n",
       "      <th>is_refund</th>\n",
       "      <th>bpp_cashout_final</th>\n",
       "    </tr>\n",
       "  </thead>\n",
       "  <tbody>\n",
       "    <tr>\n",
       "      <th>0</th>\n",
       "      <td>4654788990</td>\n",
       "      <td>131356719</td>\n",
       "      <td>1904336408</td>\n",
       "      <td>6240112</td>\n",
       "      <td>518.25</td>\n",
       "      <td>0</td>\n",
       "      <td>0</td>\n",
       "      <td>0</td>\n",
       "      <td>0</td>\n",
       "      <td>0</td>\n",
       "      <td>1</td>\n",
       "      <td>1</td>\n",
       "      <td>1.0</td>\n",
       "      <td>0.0</td>\n",
       "    </tr>\n",
       "    <tr>\n",
       "      <th>1</th>\n",
       "      <td>4653151316</td>\n",
       "      <td>53919165</td>\n",
       "      <td>1367749223</td>\n",
       "      <td>11754915</td>\n",
       "      <td>22.24</td>\n",
       "      <td>1</td>\n",
       "      <td>0</td>\n",
       "      <td>0</td>\n",
       "      <td>1</td>\n",
       "      <td>0</td>\n",
       "      <td>0</td>\n",
       "      <td>0</td>\n",
       "      <td>0.0</td>\n",
       "      <td>0.0</td>\n",
       "    </tr>\n",
       "    <tr>\n",
       "      <th>2</th>\n",
       "      <td>4620214232</td>\n",
       "      <td>414872503</td>\n",
       "      <td>1689031432</td>\n",
       "      <td>15984003</td>\n",
       "      <td>52.99</td>\n",
       "      <td>0</td>\n",
       "      <td>0</td>\n",
       "      <td>0</td>\n",
       "      <td>1</td>\n",
       "      <td>1</td>\n",
       "      <td>0</td>\n",
       "      <td>0</td>\n",
       "      <td>0.0</td>\n",
       "      <td>0.0</td>\n",
       "    </tr>\n",
       "    <tr>\n",
       "      <th>3</th>\n",
       "      <td>4618321782</td>\n",
       "      <td>480263032</td>\n",
       "      <td>1658897376</td>\n",
       "      <td>14214635</td>\n",
       "      <td>35.11</td>\n",
       "      <td>0</td>\n",
       "      <td>0</td>\n",
       "      <td>0</td>\n",
       "      <td>1</td>\n",
       "      <td>1</td>\n",
       "      <td>0</td>\n",
       "      <td>0</td>\n",
       "      <td>0.0</td>\n",
       "      <td>0.0</td>\n",
       "    </tr>\n",
       "    <tr>\n",
       "      <th>4</th>\n",
       "      <td>4675812638</td>\n",
       "      <td>451835672</td>\n",
       "      <td>1743613950</td>\n",
       "      <td>15786116</td>\n",
       "      <td>25.04</td>\n",
       "      <td>0</td>\n",
       "      <td>0</td>\n",
       "      <td>0</td>\n",
       "      <td>1</td>\n",
       "      <td>1</td>\n",
       "      <td>0</td>\n",
       "      <td>0</td>\n",
       "      <td>0.0</td>\n",
       "      <td>0.0</td>\n",
       "    </tr>\n",
       "  </tbody>\n",
       "</table>\n",
       "</div>"
      ],
      "text/plain": [
       "   ORD_ORDER_ID  CUS_CUST_ID_SEL  ITE_ITEM_ID  CTLG_PROD_ID  \\\n",
       "0    4654788990        131356719   1904336408       6240112   \n",
       "1    4653151316         53919165   1367749223      11754915   \n",
       "2    4620214232        414872503   1689031432      15984003   \n",
       "3    4618321782        480263032   1658897376      14214635   \n",
       "4    4675812638        451835672   1743613950      15786116   \n",
       "\n",
       "   ITE_BASE_CURRENT_PRICE  active_item  flag_bad_item  flag_bad_user  \\\n",
       "0                  518.25            0              0              0   \n",
       "1                   22.24            1              0              0   \n",
       "2                   52.99            0              0              0   \n",
       "3                   35.11            0              0              0   \n",
       "4                   25.04            0              0              0   \n",
       "\n",
       "   order_trusted  is_buybox  has_bpp  has_claim_seller  is_refund  \\\n",
       "0              0          0        1                 1        1.0   \n",
       "1              1          0        0                 0        0.0   \n",
       "2              1          1        0                 0        0.0   \n",
       "3              1          1        0                 0        0.0   \n",
       "4              1          1        0                 0        0.0   \n",
       "\n",
       "   bpp_cashout_final  \n",
       "0                0.0  \n",
       "1                0.0  \n",
       "2                0.0  \n",
       "3                0.0  \n",
       "4                0.0  "
      ]
     },
     "execution_count": 5,
     "metadata": {},
     "output_type": "execute_result"
    }
   ],
   "source": [
    "df_ord.head()"
   ]
  },
  {
   "cell_type": "code",
   "execution_count": 6,
   "metadata": {},
   "outputs": [
    {
     "data": {
      "text/plain": [
       "ORD_ORDER_ID                int64\n",
       "CUS_CUST_ID_SEL             int64\n",
       "ITE_ITEM_ID                 int64\n",
       "CTLG_PROD_ID                int64\n",
       "ITE_BASE_CURRENT_PRICE    float64\n",
       "active_item                 int64\n",
       "flag_bad_item               int64\n",
       "flag_bad_user               int64\n",
       "order_trusted               int64\n",
       "is_buybox                   int64\n",
       "has_bpp                     int64\n",
       "has_claim_seller            int64\n",
       "is_refund                 float64\n",
       "bpp_cashout_final         float64\n",
       "dtype: object"
      ]
     },
     "execution_count": 6,
     "metadata": {},
     "output_type": "execute_result"
    }
   ],
   "source": [
    "df_ord.dtypes"
   ]
  },
  {
   "cell_type": "markdown",
   "metadata": {},
   "source": [
    "## Describe of the prices of the products"
   ]
  },
  {
   "cell_type": "code",
   "execution_count": 7,
   "metadata": {},
   "outputs": [],
   "source": [
    "df_prod = df_ord[['CTLG_PROD_ID','ITE_ITEM_ID','ITE_BASE_CURRENT_PRICE']]"
   ]
  },
  {
   "cell_type": "code",
   "execution_count": 8,
   "metadata": {},
   "outputs": [
    {
     "data": {
      "text/html": [
       "<div>\n",
       "<style scoped>\n",
       "    .dataframe tbody tr th:only-of-type {\n",
       "        vertical-align: middle;\n",
       "    }\n",
       "\n",
       "    .dataframe tbody tr th {\n",
       "        vertical-align: top;\n",
       "    }\n",
       "\n",
       "    .dataframe thead th {\n",
       "        text-align: right;\n",
       "    }\n",
       "</style>\n",
       "<table border=\"1\" class=\"dataframe\">\n",
       "  <thead>\n",
       "    <tr style=\"text-align: right;\">\n",
       "      <th></th>\n",
       "      <th>CTLG_PROD_ID</th>\n",
       "      <th>ITE_ITEM_ID</th>\n",
       "      <th>ITE_BASE_CURRENT_PRICE</th>\n",
       "    </tr>\n",
       "  </thead>\n",
       "  <tbody>\n",
       "    <tr>\n",
       "      <th>337620</th>\n",
       "      <td>15949974</td>\n",
       "      <td>1738234099</td>\n",
       "      <td>197.84</td>\n",
       "    </tr>\n",
       "    <tr>\n",
       "      <th>940730</th>\n",
       "      <td>8755483</td>\n",
       "      <td>1895674437</td>\n",
       "      <td>489.08</td>\n",
       "    </tr>\n",
       "    <tr>\n",
       "      <th>801907</th>\n",
       "      <td>15534261</td>\n",
       "      <td>1895343905</td>\n",
       "      <td>58.57</td>\n",
       "    </tr>\n",
       "    <tr>\n",
       "      <th>494103</th>\n",
       "      <td>14287795</td>\n",
       "      <td>1690041968</td>\n",
       "      <td>7.60</td>\n",
       "    </tr>\n",
       "    <tr>\n",
       "      <th>938998</th>\n",
       "      <td>8980299</td>\n",
       "      <td>1789164694</td>\n",
       "      <td>21.09</td>\n",
       "    </tr>\n",
       "  </tbody>\n",
       "</table>\n",
       "</div>"
      ],
      "text/plain": [
       "        CTLG_PROD_ID  ITE_ITEM_ID  ITE_BASE_CURRENT_PRICE\n",
       "337620      15949974   1738234099                  197.84\n",
       "940730       8755483   1895674437                  489.08\n",
       "801907      15534261   1895343905                   58.57\n",
       "494103      14287795   1690041968                    7.60\n",
       "938998       8980299   1789164694                   21.09"
      ]
     },
     "execution_count": 8,
     "metadata": {},
     "output_type": "execute_result"
    }
   ],
   "source": [
    "df_prod.sample(5)"
   ]
  },
  {
   "cell_type": "code",
   "execution_count": 9,
   "metadata": {},
   "outputs": [
    {
     "data": {
      "text/plain": [
       "(1066717, 3)"
      ]
     },
     "execution_count": 9,
     "metadata": {},
     "output_type": "execute_result"
    }
   ],
   "source": [
    "df_prod.shape"
   ]
  },
  {
   "cell_type": "code",
   "execution_count": 10,
   "metadata": {},
   "outputs": [
    {
     "data": {
      "text/html": [
       "<div>\n",
       "<style scoped>\n",
       "    .dataframe tbody tr th:only-of-type {\n",
       "        vertical-align: middle;\n",
       "    }\n",
       "\n",
       "    .dataframe tbody tr th {\n",
       "        vertical-align: top;\n",
       "    }\n",
       "\n",
       "    .dataframe thead th {\n",
       "        text-align: right;\n",
       "    }\n",
       "</style>\n",
       "<table border=\"1\" class=\"dataframe\">\n",
       "  <thead>\n",
       "    <tr style=\"text-align: right;\">\n",
       "      <th></th>\n",
       "      <th>count</th>\n",
       "      <th>mean</th>\n",
       "      <th>std</th>\n",
       "      <th>min</th>\n",
       "      <th>25%</th>\n",
       "      <th>50%</th>\n",
       "      <th>75%</th>\n",
       "      <th>max</th>\n",
       "    </tr>\n",
       "    <tr>\n",
       "      <th>CTLG_PROD_ID</th>\n",
       "      <th></th>\n",
       "      <th></th>\n",
       "      <th></th>\n",
       "      <th></th>\n",
       "      <th></th>\n",
       "      <th></th>\n",
       "      <th></th>\n",
       "      <th></th>\n",
       "    </tr>\n",
       "  </thead>\n",
       "  <tbody>\n",
       "    <tr>\n",
       "      <th>633</th>\n",
       "      <td>5.0</td>\n",
       "      <td>41.338000</td>\n",
       "      <td>4.864187</td>\n",
       "      <td>37.50</td>\n",
       "      <td>37.50</td>\n",
       "      <td>38.86</td>\n",
       "      <td>44.480</td>\n",
       "      <td>48.35</td>\n",
       "    </tr>\n",
       "    <tr>\n",
       "      <th>5020</th>\n",
       "      <td>21.0</td>\n",
       "      <td>44.738571</td>\n",
       "      <td>3.796100</td>\n",
       "      <td>41.91</td>\n",
       "      <td>41.91</td>\n",
       "      <td>44.90</td>\n",
       "      <td>45.380</td>\n",
       "      <td>59.86</td>\n",
       "    </tr>\n",
       "    <tr>\n",
       "      <th>802407</th>\n",
       "      <td>1.0</td>\n",
       "      <td>43.340000</td>\n",
       "      <td>NaN</td>\n",
       "      <td>43.34</td>\n",
       "      <td>43.34</td>\n",
       "      <td>43.34</td>\n",
       "      <td>43.340</td>\n",
       "      <td>43.34</td>\n",
       "    </tr>\n",
       "    <tr>\n",
       "      <th>802447</th>\n",
       "      <td>3.0</td>\n",
       "      <td>18.766667</td>\n",
       "      <td>7.990528</td>\n",
       "      <td>9.54</td>\n",
       "      <td>16.46</td>\n",
       "      <td>23.38</td>\n",
       "      <td>23.380</td>\n",
       "      <td>23.38</td>\n",
       "    </tr>\n",
       "    <tr>\n",
       "      <th>802465</th>\n",
       "      <td>75.0</td>\n",
       "      <td>98.923867</td>\n",
       "      <td>63.653281</td>\n",
       "      <td>5.72</td>\n",
       "      <td>7.60</td>\n",
       "      <td>137.79</td>\n",
       "      <td>140.415</td>\n",
       "      <td>181.60</td>\n",
       "    </tr>\n",
       "    <tr>\n",
       "      <th>...</th>\n",
       "      <td>...</td>\n",
       "      <td>...</td>\n",
       "      <td>...</td>\n",
       "      <td>...</td>\n",
       "      <td>...</td>\n",
       "      <td>...</td>\n",
       "      <td>...</td>\n",
       "      <td>...</td>\n",
       "    </tr>\n",
       "    <tr>\n",
       "      <th>18326224</th>\n",
       "      <td>1.0</td>\n",
       "      <td>79.990000</td>\n",
       "      <td>NaN</td>\n",
       "      <td>79.99</td>\n",
       "      <td>79.99</td>\n",
       "      <td>79.99</td>\n",
       "      <td>79.990</td>\n",
       "      <td>79.99</td>\n",
       "    </tr>\n",
       "    <tr>\n",
       "      <th>18337312</th>\n",
       "      <td>1.0</td>\n",
       "      <td>705.030000</td>\n",
       "      <td>NaN</td>\n",
       "      <td>705.03</td>\n",
       "      <td>705.03</td>\n",
       "      <td>705.03</td>\n",
       "      <td>705.030</td>\n",
       "      <td>705.03</td>\n",
       "    </tr>\n",
       "    <tr>\n",
       "      <th>18339643</th>\n",
       "      <td>4.0</td>\n",
       "      <td>181.730000</td>\n",
       "      <td>9.560000</td>\n",
       "      <td>167.39</td>\n",
       "      <td>181.73</td>\n",
       "      <td>186.51</td>\n",
       "      <td>186.510</td>\n",
       "      <td>186.51</td>\n",
       "    </tr>\n",
       "    <tr>\n",
       "      <th>18339644</th>\n",
       "      <td>1.0</td>\n",
       "      <td>190.320000</td>\n",
       "      <td>NaN</td>\n",
       "      <td>190.32</td>\n",
       "      <td>190.32</td>\n",
       "      <td>190.32</td>\n",
       "      <td>190.320</td>\n",
       "      <td>190.32</td>\n",
       "    </tr>\n",
       "    <tr>\n",
       "      <th>18339645</th>\n",
       "      <td>1.0</td>\n",
       "      <td>183.480000</td>\n",
       "      <td>NaN</td>\n",
       "      <td>183.48</td>\n",
       "      <td>183.48</td>\n",
       "      <td>183.48</td>\n",
       "      <td>183.480</td>\n",
       "      <td>183.48</td>\n",
       "    </tr>\n",
       "  </tbody>\n",
       "</table>\n",
       "<p>13878 rows × 8 columns</p>\n",
       "</div>"
      ],
      "text/plain": [
       "              count        mean        std     min     25%     50%      75%  \\\n",
       "CTLG_PROD_ID                                                                  \n",
       "633             5.0   41.338000   4.864187   37.50   37.50   38.86   44.480   \n",
       "5020           21.0   44.738571   3.796100   41.91   41.91   44.90   45.380   \n",
       "802407          1.0   43.340000        NaN   43.34   43.34   43.34   43.340   \n",
       "802447          3.0   18.766667   7.990528    9.54   16.46   23.38   23.380   \n",
       "802465         75.0   98.923867  63.653281    5.72    7.60  137.79  140.415   \n",
       "...             ...         ...        ...     ...     ...     ...      ...   \n",
       "18326224        1.0   79.990000        NaN   79.99   79.99   79.99   79.990   \n",
       "18337312        1.0  705.030000        NaN  705.03  705.03  705.03  705.030   \n",
       "18339643        4.0  181.730000   9.560000  167.39  181.73  186.51  186.510   \n",
       "18339644        1.0  190.320000        NaN  190.32  190.32  190.32  190.320   \n",
       "18339645        1.0  183.480000        NaN  183.48  183.48  183.48  183.480   \n",
       "\n",
       "                 max  \n",
       "CTLG_PROD_ID          \n",
       "633            48.35  \n",
       "5020           59.86  \n",
       "802407         43.34  \n",
       "802447         23.38  \n",
       "802465        181.60  \n",
       "...              ...  \n",
       "18326224       79.99  \n",
       "18337312      705.03  \n",
       "18339643      186.51  \n",
       "18339644      190.32  \n",
       "18339645      183.48  \n",
       "\n",
       "[13878 rows x 8 columns]"
      ]
     },
     "execution_count": 10,
     "metadata": {},
     "output_type": "execute_result"
    }
   ],
   "source": [
    "gb=df_prod.groupby(['CTLG_PROD_ID'])\n",
    "df_des=gb['ITE_BASE_CURRENT_PRICE'].describe()\n",
    "df_des"
   ]
  },
  {
   "cell_type": "markdown",
   "metadata": {},
   "source": [
    "## Drop rows with NaN std"
   ]
  },
  {
   "cell_type": "code",
   "execution_count": 11,
   "metadata": {},
   "outputs": [
    {
     "data": {
      "text/plain": [
       "1965"
      ]
     },
     "execution_count": 11,
     "metadata": {},
     "output_type": "execute_result"
    }
   ],
   "source": [
    "countNaN = df_des['std'].isna().sum()\n",
    "countNaN"
   ]
  },
  {
   "cell_type": "code",
   "execution_count": 12,
   "metadata": {},
   "outputs": [],
   "source": [
    "df_des.dropna(subset = ['std'], inplace=True)"
   ]
  },
  {
   "cell_type": "code",
   "execution_count": 13,
   "metadata": {},
   "outputs": [
    {
     "data": {
      "text/plain": [
       "0"
      ]
     },
     "execution_count": 13,
     "metadata": {},
     "output_type": "execute_result"
    }
   ],
   "source": [
    "countNaN = df_des['std'].isna().sum()\n",
    "countNaN"
   ]
  },
  {
   "cell_type": "markdown",
   "metadata": {},
   "source": [
    "## Reset the index"
   ]
  },
  {
   "cell_type": "code",
   "execution_count": 14,
   "metadata": {},
   "outputs": [],
   "source": [
    "df_des=df_des.reset_index()"
   ]
  },
  {
   "cell_type": "code",
   "execution_count": 15,
   "metadata": {},
   "outputs": [
    {
     "data": {
      "text/html": [
       "<div>\n",
       "<style scoped>\n",
       "    .dataframe tbody tr th:only-of-type {\n",
       "        vertical-align: middle;\n",
       "    }\n",
       "\n",
       "    .dataframe tbody tr th {\n",
       "        vertical-align: top;\n",
       "    }\n",
       "\n",
       "    .dataframe thead th {\n",
       "        text-align: right;\n",
       "    }\n",
       "</style>\n",
       "<table border=\"1\" class=\"dataframe\">\n",
       "  <thead>\n",
       "    <tr style=\"text-align: right;\">\n",
       "      <th></th>\n",
       "      <th>CTLG_PROD_ID</th>\n",
       "      <th>count</th>\n",
       "      <th>mean</th>\n",
       "      <th>std</th>\n",
       "      <th>min</th>\n",
       "      <th>25%</th>\n",
       "      <th>50%</th>\n",
       "      <th>75%</th>\n",
       "      <th>max</th>\n",
       "    </tr>\n",
       "  </thead>\n",
       "  <tbody>\n",
       "    <tr>\n",
       "      <th>0</th>\n",
       "      <td>633</td>\n",
       "      <td>5.0</td>\n",
       "      <td>41.338000</td>\n",
       "      <td>4.864187</td>\n",
       "      <td>37.50</td>\n",
       "      <td>37.50</td>\n",
       "      <td>38.86</td>\n",
       "      <td>44.480</td>\n",
       "      <td>48.35</td>\n",
       "    </tr>\n",
       "    <tr>\n",
       "      <th>1</th>\n",
       "      <td>5020</td>\n",
       "      <td>21.0</td>\n",
       "      <td>44.738571</td>\n",
       "      <td>3.796100</td>\n",
       "      <td>41.91</td>\n",
       "      <td>41.91</td>\n",
       "      <td>44.90</td>\n",
       "      <td>45.380</td>\n",
       "      <td>59.86</td>\n",
       "    </tr>\n",
       "    <tr>\n",
       "      <th>2</th>\n",
       "      <td>802447</td>\n",
       "      <td>3.0</td>\n",
       "      <td>18.766667</td>\n",
       "      <td>7.990528</td>\n",
       "      <td>9.54</td>\n",
       "      <td>16.46</td>\n",
       "      <td>23.38</td>\n",
       "      <td>23.380</td>\n",
       "      <td>23.38</td>\n",
       "    </tr>\n",
       "    <tr>\n",
       "      <th>3</th>\n",
       "      <td>802465</td>\n",
       "      <td>75.0</td>\n",
       "      <td>98.923867</td>\n",
       "      <td>63.653281</td>\n",
       "      <td>5.72</td>\n",
       "      <td>7.60</td>\n",
       "      <td>137.79</td>\n",
       "      <td>140.415</td>\n",
       "      <td>181.60</td>\n",
       "    </tr>\n",
       "    <tr>\n",
       "      <th>4</th>\n",
       "      <td>802499</td>\n",
       "      <td>3.0</td>\n",
       "      <td>47.350000</td>\n",
       "      <td>0.571577</td>\n",
       "      <td>47.02</td>\n",
       "      <td>47.02</td>\n",
       "      <td>47.02</td>\n",
       "      <td>47.515</td>\n",
       "      <td>48.01</td>\n",
       "    </tr>\n",
       "  </tbody>\n",
       "</table>\n",
       "</div>"
      ],
      "text/plain": [
       "   CTLG_PROD_ID  count       mean        std    min    25%     50%      75%  \\\n",
       "0           633    5.0  41.338000   4.864187  37.50  37.50   38.86   44.480   \n",
       "1          5020   21.0  44.738571   3.796100  41.91  41.91   44.90   45.380   \n",
       "2        802447    3.0  18.766667   7.990528   9.54  16.46   23.38   23.380   \n",
       "3        802465   75.0  98.923867  63.653281   5.72   7.60  137.79  140.415   \n",
       "4        802499    3.0  47.350000   0.571577  47.02  47.02   47.02   47.515   \n",
       "\n",
       "      max  \n",
       "0   48.35  \n",
       "1   59.86  \n",
       "2   23.38  \n",
       "3  181.60  \n",
       "4   48.01  "
      ]
     },
     "execution_count": 15,
     "metadata": {},
     "output_type": "execute_result"
    }
   ],
   "source": [
    "df_des.head()"
   ]
  },
  {
   "cell_type": "code",
   "execution_count": 16,
   "metadata": {},
   "outputs": [
    {
     "data": {
      "text/plain": [
       "(11913, 9)"
      ]
     },
     "execution_count": 16,
     "metadata": {},
     "output_type": "execute_result"
    }
   ],
   "source": [
    "df_des.shape"
   ]
  },
  {
   "cell_type": "markdown",
   "metadata": {},
   "source": [
    "## Join the DFs by Product ID"
   ]
  },
  {
   "cell_type": "code",
   "execution_count": 17,
   "metadata": {},
   "outputs": [],
   "source": [
    "df = pd.merge(left = df_des, right = df_ord,\n",
    "                how = 'inner',\n",
    "                left_on='CTLG_PROD_ID', right_on='CTLG_PROD_ID')"
   ]
  },
  {
   "cell_type": "code",
   "execution_count": 18,
   "metadata": {},
   "outputs": [
    {
     "data": {
      "text/plain": [
       "(1064752, 22)"
      ]
     },
     "execution_count": 18,
     "metadata": {},
     "output_type": "execute_result"
    }
   ],
   "source": [
    "df.shape"
   ]
  },
  {
   "cell_type": "code",
   "execution_count": 19,
   "metadata": {},
   "outputs": [
    {
     "data": {
      "text/plain": [
       "Index(['CTLG_PROD_ID', 'count', 'mean', 'std', 'min', '25%', '50%', '75%',\n",
       "       'max', 'ORD_ORDER_ID', 'CUS_CUST_ID_SEL', 'ITE_ITEM_ID',\n",
       "       'ITE_BASE_CURRENT_PRICE', 'active_item', 'flag_bad_item',\n",
       "       'flag_bad_user', 'order_trusted', 'is_buybox', 'has_bpp',\n",
       "       'has_claim_seller', 'is_refund', 'bpp_cashout_final'],\n",
       "      dtype='object')"
      ]
     },
     "execution_count": 19,
     "metadata": {},
     "output_type": "execute_result"
    }
   ],
   "source": [
    "df.columns"
   ]
  },
  {
   "cell_type": "code",
   "execution_count": 20,
   "metadata": {},
   "outputs": [
    {
     "data": {
      "text/html": [
       "<div>\n",
       "<style scoped>\n",
       "    .dataframe tbody tr th:only-of-type {\n",
       "        vertical-align: middle;\n",
       "    }\n",
       "\n",
       "    .dataframe tbody tr th {\n",
       "        vertical-align: top;\n",
       "    }\n",
       "\n",
       "    .dataframe thead th {\n",
       "        text-align: right;\n",
       "    }\n",
       "</style>\n",
       "<table border=\"1\" class=\"dataframe\">\n",
       "  <thead>\n",
       "    <tr style=\"text-align: right;\">\n",
       "      <th></th>\n",
       "      <th>CTLG_PROD_ID</th>\n",
       "      <th>count</th>\n",
       "      <th>mean</th>\n",
       "      <th>std</th>\n",
       "      <th>min</th>\n",
       "      <th>25%</th>\n",
       "      <th>50%</th>\n",
       "      <th>75%</th>\n",
       "      <th>max</th>\n",
       "      <th>ORD_ORDER_ID</th>\n",
       "      <th>...</th>\n",
       "      <th>ITE_BASE_CURRENT_PRICE</th>\n",
       "      <th>active_item</th>\n",
       "      <th>flag_bad_item</th>\n",
       "      <th>flag_bad_user</th>\n",
       "      <th>order_trusted</th>\n",
       "      <th>is_buybox</th>\n",
       "      <th>has_bpp</th>\n",
       "      <th>has_claim_seller</th>\n",
       "      <th>is_refund</th>\n",
       "      <th>bpp_cashout_final</th>\n",
       "    </tr>\n",
       "  </thead>\n",
       "  <tbody>\n",
       "    <tr>\n",
       "      <th>873494</th>\n",
       "      <td>16163951</td>\n",
       "      <td>801.0</td>\n",
       "      <td>370.713134</td>\n",
       "      <td>39.681906</td>\n",
       "      <td>328.10</td>\n",
       "      <td>351.32</td>\n",
       "      <td>358.38</td>\n",
       "      <td>371.35</td>\n",
       "      <td>582.91</td>\n",
       "      <td>4610373621</td>\n",
       "      <td>...</td>\n",
       "      <td>379.64</td>\n",
       "      <td>0</td>\n",
       "      <td>0</td>\n",
       "      <td>0</td>\n",
       "      <td>1</td>\n",
       "      <td>1</td>\n",
       "      <td>0</td>\n",
       "      <td>0</td>\n",
       "      <td>0.0</td>\n",
       "      <td>0.0</td>\n",
       "    </tr>\n",
       "    <tr>\n",
       "      <th>365521</th>\n",
       "      <td>14605138</td>\n",
       "      <td>675.0</td>\n",
       "      <td>28.390726</td>\n",
       "      <td>1.375589</td>\n",
       "      <td>24.20</td>\n",
       "      <td>27.32</td>\n",
       "      <td>27.62</td>\n",
       "      <td>29.28</td>\n",
       "      <td>34.29</td>\n",
       "      <td>4629487955</td>\n",
       "      <td>...</td>\n",
       "      <td>27.32</td>\n",
       "      <td>0</td>\n",
       "      <td>0</td>\n",
       "      <td>0</td>\n",
       "      <td>1</td>\n",
       "      <td>1</td>\n",
       "      <td>0</td>\n",
       "      <td>0</td>\n",
       "      <td>0.0</td>\n",
       "      <td>0.0</td>\n",
       "    </tr>\n",
       "    <tr>\n",
       "      <th>694799</th>\n",
       "      <td>15841984</td>\n",
       "      <td>1010.0</td>\n",
       "      <td>238.102238</td>\n",
       "      <td>4.096216</td>\n",
       "      <td>220.30</td>\n",
       "      <td>238.06</td>\n",
       "      <td>238.06</td>\n",
       "      <td>238.06</td>\n",
       "      <td>293.91</td>\n",
       "      <td>4613298744</td>\n",
       "      <td>...</td>\n",
       "      <td>238.06</td>\n",
       "      <td>1</td>\n",
       "      <td>0</td>\n",
       "      <td>0</td>\n",
       "      <td>1</td>\n",
       "      <td>1</td>\n",
       "      <td>0</td>\n",
       "      <td>0</td>\n",
       "      <td>0.0</td>\n",
       "      <td>0.0</td>\n",
       "    </tr>\n",
       "    <tr>\n",
       "      <th>565798</th>\n",
       "      <td>15534263</td>\n",
       "      <td>1152.0</td>\n",
       "      <td>62.042743</td>\n",
       "      <td>32.516582</td>\n",
       "      <td>48.60</td>\n",
       "      <td>54.55</td>\n",
       "      <td>55.46</td>\n",
       "      <td>58.23</td>\n",
       "      <td>248.61</td>\n",
       "      <td>4649788377</td>\n",
       "      <td>...</td>\n",
       "      <td>64.43</td>\n",
       "      <td>0</td>\n",
       "      <td>0</td>\n",
       "      <td>0</td>\n",
       "      <td>1</td>\n",
       "      <td>1</td>\n",
       "      <td>1</td>\n",
       "      <td>1</td>\n",
       "      <td>1.0</td>\n",
       "      <td>0.0</td>\n",
       "    </tr>\n",
       "    <tr>\n",
       "      <th>196001</th>\n",
       "      <td>8859567</td>\n",
       "      <td>1027.0</td>\n",
       "      <td>6.163934</td>\n",
       "      <td>3.136324</td>\n",
       "      <td>2.32</td>\n",
       "      <td>5.72</td>\n",
       "      <td>6.27</td>\n",
       "      <td>6.76</td>\n",
       "      <td>58.04</td>\n",
       "      <td>4671350737</td>\n",
       "      <td>...</td>\n",
       "      <td>6.27</td>\n",
       "      <td>1</td>\n",
       "      <td>0</td>\n",
       "      <td>0</td>\n",
       "      <td>1</td>\n",
       "      <td>0</td>\n",
       "      <td>0</td>\n",
       "      <td>0</td>\n",
       "      <td>0.0</td>\n",
       "      <td>0.0</td>\n",
       "    </tr>\n",
       "  </tbody>\n",
       "</table>\n",
       "<p>5 rows × 22 columns</p>\n",
       "</div>"
      ],
      "text/plain": [
       "        CTLG_PROD_ID   count        mean        std     min     25%     50%  \\\n",
       "873494      16163951   801.0  370.713134  39.681906  328.10  351.32  358.38   \n",
       "365521      14605138   675.0   28.390726   1.375589   24.20   27.32   27.62   \n",
       "694799      15841984  1010.0  238.102238   4.096216  220.30  238.06  238.06   \n",
       "565798      15534263  1152.0   62.042743  32.516582   48.60   54.55   55.46   \n",
       "196001       8859567  1027.0    6.163934   3.136324    2.32    5.72    6.27   \n",
       "\n",
       "           75%     max  ORD_ORDER_ID  ...  ITE_BASE_CURRENT_PRICE  \\\n",
       "873494  371.35  582.91    4610373621  ...                  379.64   \n",
       "365521   29.28   34.29    4629487955  ...                   27.32   \n",
       "694799  238.06  293.91    4613298744  ...                  238.06   \n",
       "565798   58.23  248.61    4649788377  ...                   64.43   \n",
       "196001    6.76   58.04    4671350737  ...                    6.27   \n",
       "\n",
       "        active_item  flag_bad_item  flag_bad_user  order_trusted  is_buybox  \\\n",
       "873494            0              0              0              1          1   \n",
       "365521            0              0              0              1          1   \n",
       "694799            1              0              0              1          1   \n",
       "565798            0              0              0              1          1   \n",
       "196001            1              0              0              1          0   \n",
       "\n",
       "        has_bpp  has_claim_seller  is_refund  bpp_cashout_final  \n",
       "873494        0                 0        0.0                0.0  \n",
       "365521        0                 0        0.0                0.0  \n",
       "694799        0                 0        0.0                0.0  \n",
       "565798        1                 1        1.0                0.0  \n",
       "196001        0                 0        0.0                0.0  \n",
       "\n",
       "[5 rows x 22 columns]"
      ]
     },
     "execution_count": 20,
     "metadata": {},
     "output_type": "execute_result"
    }
   ],
   "source": [
    "df.sample(5)"
   ]
  },
  {
   "cell_type": "markdown",
   "metadata": {},
   "source": [
    "## Bad orders"
   ]
  },
  {
   "cell_type": "code",
   "execution_count": 21,
   "metadata": {},
   "outputs": [],
   "source": [
    "df['bad_order'] = df.apply(lambda x: 1 if x['flag_bad_user'] == 1 or x['has_bpp'] == 1 or x['has_claim_seller'] == 1 or x['is_refund'] == 1 or x['bpp_cashout_final'] > 0 else 0, axis=1)\n"
   ]
  },
  {
   "cell_type": "code",
   "execution_count": 22,
   "metadata": {},
   "outputs": [
    {
     "data": {
      "text/html": [
       "<div>\n",
       "<style scoped>\n",
       "    .dataframe tbody tr th:only-of-type {\n",
       "        vertical-align: middle;\n",
       "    }\n",
       "\n",
       "    .dataframe tbody tr th {\n",
       "        vertical-align: top;\n",
       "    }\n",
       "\n",
       "    .dataframe thead th {\n",
       "        text-align: right;\n",
       "    }\n",
       "</style>\n",
       "<table border=\"1\" class=\"dataframe\">\n",
       "  <thead>\n",
       "    <tr style=\"text-align: right;\">\n",
       "      <th></th>\n",
       "      <th>CTLG_PROD_ID</th>\n",
       "      <th>count</th>\n",
       "      <th>mean</th>\n",
       "      <th>std</th>\n",
       "      <th>min</th>\n",
       "      <th>25%</th>\n",
       "      <th>50%</th>\n",
       "      <th>75%</th>\n",
       "      <th>max</th>\n",
       "      <th>ORD_ORDER_ID</th>\n",
       "      <th>...</th>\n",
       "      <th>active_item</th>\n",
       "      <th>flag_bad_item</th>\n",
       "      <th>flag_bad_user</th>\n",
       "      <th>order_trusted</th>\n",
       "      <th>is_buybox</th>\n",
       "      <th>has_bpp</th>\n",
       "      <th>has_claim_seller</th>\n",
       "      <th>is_refund</th>\n",
       "      <th>bpp_cashout_final</th>\n",
       "      <th>bad_order</th>\n",
       "    </tr>\n",
       "  </thead>\n",
       "  <tbody>\n",
       "    <tr>\n",
       "      <th>54087</th>\n",
       "      <td>6141038</td>\n",
       "      <td>35.0</td>\n",
       "      <td>30.420571</td>\n",
       "      <td>11.753877</td>\n",
       "      <td>12.55</td>\n",
       "      <td>12.55</td>\n",
       "      <td>39.06</td>\n",
       "      <td>39.06</td>\n",
       "      <td>39.06</td>\n",
       "      <td>4669474795</td>\n",
       "      <td>...</td>\n",
       "      <td>1</td>\n",
       "      <td>0</td>\n",
       "      <td>0</td>\n",
       "      <td>1</td>\n",
       "      <td>1</td>\n",
       "      <td>0</td>\n",
       "      <td>0</td>\n",
       "      <td>0.0</td>\n",
       "      <td>0.0</td>\n",
       "      <td>0</td>\n",
       "    </tr>\n",
       "    <tr>\n",
       "      <th>1019418</th>\n",
       "      <td>17459958</td>\n",
       "      <td>2122.0</td>\n",
       "      <td>336.367399</td>\n",
       "      <td>207.539770</td>\n",
       "      <td>278.32</td>\n",
       "      <td>323.08</td>\n",
       "      <td>329.19</td>\n",
       "      <td>340.22</td>\n",
       "      <td>9870.00</td>\n",
       "      <td>4675996560</td>\n",
       "      <td>...</td>\n",
       "      <td>0</td>\n",
       "      <td>0</td>\n",
       "      <td>0</td>\n",
       "      <td>1</td>\n",
       "      <td>1</td>\n",
       "      <td>0</td>\n",
       "      <td>0</td>\n",
       "      <td>0.0</td>\n",
       "      <td>0.0</td>\n",
       "      <td>0</td>\n",
       "    </tr>\n",
       "    <tr>\n",
       "      <th>125116</th>\n",
       "      <td>6370536</td>\n",
       "      <td>71.0</td>\n",
       "      <td>148.946197</td>\n",
       "      <td>73.994090</td>\n",
       "      <td>9.10</td>\n",
       "      <td>108.50</td>\n",
       "      <td>120.43</td>\n",
       "      <td>239.22</td>\n",
       "      <td>253.44</td>\n",
       "      <td>4676836456</td>\n",
       "      <td>...</td>\n",
       "      <td>1</td>\n",
       "      <td>0</td>\n",
       "      <td>0</td>\n",
       "      <td>1</td>\n",
       "      <td>0</td>\n",
       "      <td>0</td>\n",
       "      <td>0</td>\n",
       "      <td>0.0</td>\n",
       "      <td>0.0</td>\n",
       "      <td>0</td>\n",
       "    </tr>\n",
       "    <tr>\n",
       "      <th>286078</th>\n",
       "      <td>11665477</td>\n",
       "      <td>105.0</td>\n",
       "      <td>83.277524</td>\n",
       "      <td>1.538951</td>\n",
       "      <td>74.31</td>\n",
       "      <td>83.84</td>\n",
       "      <td>83.84</td>\n",
       "      <td>83.84</td>\n",
       "      <td>83.84</td>\n",
       "      <td>4670521605</td>\n",
       "      <td>...</td>\n",
       "      <td>1</td>\n",
       "      <td>0</td>\n",
       "      <td>0</td>\n",
       "      <td>1</td>\n",
       "      <td>1</td>\n",
       "      <td>0</td>\n",
       "      <td>0</td>\n",
       "      <td>0.0</td>\n",
       "      <td>0.0</td>\n",
       "      <td>0</td>\n",
       "    </tr>\n",
       "    <tr>\n",
       "      <th>1047459</th>\n",
       "      <td>17796173</td>\n",
       "      <td>1277.0</td>\n",
       "      <td>56.721237</td>\n",
       "      <td>17.287136</td>\n",
       "      <td>1.39</td>\n",
       "      <td>53.35</td>\n",
       "      <td>55.27</td>\n",
       "      <td>58.38</td>\n",
       "      <td>638.51</td>\n",
       "      <td>4680476946</td>\n",
       "      <td>...</td>\n",
       "      <td>1</td>\n",
       "      <td>0</td>\n",
       "      <td>0</td>\n",
       "      <td>1</td>\n",
       "      <td>0</td>\n",
       "      <td>0</td>\n",
       "      <td>0</td>\n",
       "      <td>0.0</td>\n",
       "      <td>0.0</td>\n",
       "      <td>0</td>\n",
       "    </tr>\n",
       "  </tbody>\n",
       "</table>\n",
       "<p>5 rows × 23 columns</p>\n",
       "</div>"
      ],
      "text/plain": [
       "         CTLG_PROD_ID   count        mean         std     min     25%     50%  \\\n",
       "54087         6141038    35.0   30.420571   11.753877   12.55   12.55   39.06   \n",
       "1019418      17459958  2122.0  336.367399  207.539770  278.32  323.08  329.19   \n",
       "125116        6370536    71.0  148.946197   73.994090    9.10  108.50  120.43   \n",
       "286078       11665477   105.0   83.277524    1.538951   74.31   83.84   83.84   \n",
       "1047459      17796173  1277.0   56.721237   17.287136    1.39   53.35   55.27   \n",
       "\n",
       "            75%      max  ORD_ORDER_ID  ...  active_item  flag_bad_item  \\\n",
       "54087     39.06    39.06    4669474795  ...            1              0   \n",
       "1019418  340.22  9870.00    4675996560  ...            0              0   \n",
       "125116   239.22   253.44    4676836456  ...            1              0   \n",
       "286078    83.84    83.84    4670521605  ...            1              0   \n",
       "1047459   58.38   638.51    4680476946  ...            1              0   \n",
       "\n",
       "         flag_bad_user  order_trusted  is_buybox  has_bpp  has_claim_seller  \\\n",
       "54087                0              1          1        0                 0   \n",
       "1019418              0              1          1        0                 0   \n",
       "125116               0              1          0        0                 0   \n",
       "286078               0              1          1        0                 0   \n",
       "1047459              0              1          0        0                 0   \n",
       "\n",
       "         is_refund  bpp_cashout_final  bad_order  \n",
       "54087          0.0                0.0          0  \n",
       "1019418        0.0                0.0          0  \n",
       "125116         0.0                0.0          0  \n",
       "286078         0.0                0.0          0  \n",
       "1047459        0.0                0.0          0  \n",
       "\n",
       "[5 rows x 23 columns]"
      ]
     },
     "execution_count": 22,
     "metadata": {},
     "output_type": "execute_result"
    }
   ],
   "source": [
    "df.sample(5)"
   ]
  },
  {
   "cell_type": "code",
   "execution_count": 23,
   "metadata": {},
   "outputs": [
    {
     "data": {
      "text/plain": [
       "Index(['CTLG_PROD_ID', 'count', 'mean', 'std', 'min', '25%', '50%', '75%',\n",
       "       'max', 'ORD_ORDER_ID', 'CUS_CUST_ID_SEL', 'ITE_ITEM_ID',\n",
       "       'ITE_BASE_CURRENT_PRICE', 'active_item', 'flag_bad_item',\n",
       "       'flag_bad_user', 'order_trusted', 'is_buybox', 'has_bpp',\n",
       "       'has_claim_seller', 'is_refund', 'bpp_cashout_final', 'bad_order'],\n",
       "      dtype='object')"
      ]
     },
     "execution_count": 23,
     "metadata": {},
     "output_type": "execute_result"
    }
   ],
   "source": [
    "df.columns"
   ]
  },
  {
   "cell_type": "markdown",
   "metadata": {},
   "source": [
    "# Base on the Price_Range"
   ]
  },
  {
   "cell_type": "markdown",
   "metadata": {},
   "source": [
    "## Create columns flag low_price for those items with price below the 25%"
   ]
  },
  {
   "cell_type": "code",
   "execution_count": 24,
   "metadata": {},
   "outputs": [],
   "source": [
    "df['Low25_Price'] = df.apply(lambda x: 1 if x['25%'] > x['ITE_BASE_CURRENT_PRICE'] else 0, axis=1)"
   ]
  },
  {
   "cell_type": "markdown",
   "metadata": {},
   "source": [
    "## Create columns flag middle_price for items with price below the 75% and over the  25%"
   ]
  },
  {
   "cell_type": "code",
   "execution_count": 25,
   "metadata": {},
   "outputs": [],
   "source": [
    "df['Middle_Price'] = df.apply(lambda x: 1 if x['75%'] >= x['ITE_BASE_CURRENT_PRICE'] and x['25%'] <= x['ITE_BASE_CURRENT_PRICE'] else 0, axis=1)\n"
   ]
  },
  {
   "cell_type": "markdown",
   "metadata": {},
   "source": [
    "## Create column flag high_price for those items with price over the 75%"
   ]
  },
  {
   "cell_type": "code",
   "execution_count": 26,
   "metadata": {},
   "outputs": [],
   "source": [
    "df['High75_Price'] = df.apply(lambda x: 1 if x['75%'] < x['ITE_BASE_CURRENT_PRICE'] else 0, axis=1)"
   ]
  },
  {
   "cell_type": "markdown",
   "metadata": {},
   "source": [
    "## Create column flag price_range"
   ]
  },
  {
   "cell_type": "code",
   "execution_count": 27,
   "metadata": {},
   "outputs": [],
   "source": [
    "df['Price_Range'] = df.apply(lambda x:'low_25' if x['Low25_Price']== 1 else('high_75' if  x['High75_Price']==1  else 'middle'),axis=1)\n"
   ]
  },
  {
   "cell_type": "code",
   "execution_count": 28,
   "metadata": {},
   "outputs": [
    {
     "data": {
      "text/plain": [
       "Index(['CTLG_PROD_ID', 'count', 'mean', 'std', 'min', '25%', '50%', '75%',\n",
       "       'max', 'ORD_ORDER_ID', 'CUS_CUST_ID_SEL', 'ITE_ITEM_ID',\n",
       "       'ITE_BASE_CURRENT_PRICE', 'active_item', 'flag_bad_item',\n",
       "       'flag_bad_user', 'order_trusted', 'is_buybox', 'has_bpp',\n",
       "       'has_claim_seller', 'is_refund', 'bpp_cashout_final', 'bad_order',\n",
       "       'Low25_Price', 'Middle_Price', 'High75_Price', 'Price_Range'],\n",
       "      dtype='object')"
      ]
     },
     "execution_count": 28,
     "metadata": {},
     "output_type": "execute_result"
    }
   ],
   "source": [
    "df.columns"
   ]
  },
  {
   "cell_type": "code",
   "execution_count": 29,
   "metadata": {},
   "outputs": [
    {
     "data": {
      "text/html": [
       "<div>\n",
       "<style scoped>\n",
       "    .dataframe tbody tr th:only-of-type {\n",
       "        vertical-align: middle;\n",
       "    }\n",
       "\n",
       "    .dataframe tbody tr th {\n",
       "        vertical-align: top;\n",
       "    }\n",
       "\n",
       "    .dataframe thead th {\n",
       "        text-align: right;\n",
       "    }\n",
       "</style>\n",
       "<table border=\"1\" class=\"dataframe\">\n",
       "  <thead>\n",
       "    <tr style=\"text-align: right;\">\n",
       "      <th></th>\n",
       "      <th>CTLG_PROD_ID</th>\n",
       "      <th>count</th>\n",
       "      <th>mean</th>\n",
       "      <th>std</th>\n",
       "      <th>min</th>\n",
       "      <th>25%</th>\n",
       "      <th>50%</th>\n",
       "      <th>75%</th>\n",
       "      <th>max</th>\n",
       "      <th>ORD_ORDER_ID</th>\n",
       "      <th>...</th>\n",
       "      <th>is_buybox</th>\n",
       "      <th>has_bpp</th>\n",
       "      <th>has_claim_seller</th>\n",
       "      <th>is_refund</th>\n",
       "      <th>bpp_cashout_final</th>\n",
       "      <th>bad_order</th>\n",
       "      <th>Low25_Price</th>\n",
       "      <th>Middle_Price</th>\n",
       "      <th>High75_Price</th>\n",
       "      <th>Price_Range</th>\n",
       "    </tr>\n",
       "  </thead>\n",
       "  <tbody>\n",
       "    <tr>\n",
       "      <th>357758</th>\n",
       "      <td>14540829</td>\n",
       "      <td>589.0</td>\n",
       "      <td>50.097080</td>\n",
       "      <td>16.982425</td>\n",
       "      <td>39.06</td>\n",
       "      <td>44.9000</td>\n",
       "      <td>51.40</td>\n",
       "      <td>51.40</td>\n",
       "      <td>239.88</td>\n",
       "      <td>4648788020</td>\n",
       "      <td>...</td>\n",
       "      <td>0</td>\n",
       "      <td>0</td>\n",
       "      <td>0</td>\n",
       "      <td>0.0</td>\n",
       "      <td>0.0</td>\n",
       "      <td>0</td>\n",
       "      <td>0</td>\n",
       "      <td>1</td>\n",
       "      <td>0</td>\n",
       "      <td>middle</td>\n",
       "    </tr>\n",
       "    <tr>\n",
       "      <th>57621</th>\n",
       "      <td>6156495</td>\n",
       "      <td>22.0</td>\n",
       "      <td>110.760000</td>\n",
       "      <td>1.643005</td>\n",
       "      <td>108.89</td>\n",
       "      <td>109.4475</td>\n",
       "      <td>111.12</td>\n",
       "      <td>111.12</td>\n",
       "      <td>116.57</td>\n",
       "      <td>4628309845</td>\n",
       "      <td>...</td>\n",
       "      <td>1</td>\n",
       "      <td>0</td>\n",
       "      <td>0</td>\n",
       "      <td>0.0</td>\n",
       "      <td>0.0</td>\n",
       "      <td>0</td>\n",
       "      <td>0</td>\n",
       "      <td>1</td>\n",
       "      <td>0</td>\n",
       "      <td>middle</td>\n",
       "    </tr>\n",
       "    <tr>\n",
       "      <th>807933</th>\n",
       "      <td>16051104</td>\n",
       "      <td>214.0</td>\n",
       "      <td>10.418411</td>\n",
       "      <td>0.447024</td>\n",
       "      <td>9.75</td>\n",
       "      <td>10.3500</td>\n",
       "      <td>10.35</td>\n",
       "      <td>10.35</td>\n",
       "      <td>12.70</td>\n",
       "      <td>4679931765</td>\n",
       "      <td>...</td>\n",
       "      <td>0</td>\n",
       "      <td>0</td>\n",
       "      <td>0</td>\n",
       "      <td>0.0</td>\n",
       "      <td>0.0</td>\n",
       "      <td>0</td>\n",
       "      <td>0</td>\n",
       "      <td>0</td>\n",
       "      <td>1</td>\n",
       "      <td>high_75</td>\n",
       "    </tr>\n",
       "    <tr>\n",
       "      <th>491144</th>\n",
       "      <td>15285466</td>\n",
       "      <td>14488.0</td>\n",
       "      <td>20.067006</td>\n",
       "      <td>2.234364</td>\n",
       "      <td>13.72</td>\n",
       "      <td>19.2100</td>\n",
       "      <td>19.21</td>\n",
       "      <td>21.35</td>\n",
       "      <td>194.41</td>\n",
       "      <td>4630602669</td>\n",
       "      <td>...</td>\n",
       "      <td>1</td>\n",
       "      <td>0</td>\n",
       "      <td>0</td>\n",
       "      <td>0.0</td>\n",
       "      <td>0.0</td>\n",
       "      <td>0</td>\n",
       "      <td>1</td>\n",
       "      <td>0</td>\n",
       "      <td>0</td>\n",
       "      <td>low_25</td>\n",
       "    </tr>\n",
       "    <tr>\n",
       "      <th>91805</th>\n",
       "      <td>6304594</td>\n",
       "      <td>841.0</td>\n",
       "      <td>4.128478</td>\n",
       "      <td>0.603908</td>\n",
       "      <td>2.29</td>\n",
       "      <td>4.2300</td>\n",
       "      <td>4.23</td>\n",
       "      <td>4.23</td>\n",
       "      <td>9.76</td>\n",
       "      <td>4677986150</td>\n",
       "      <td>...</td>\n",
       "      <td>1</td>\n",
       "      <td>0</td>\n",
       "      <td>1</td>\n",
       "      <td>0.0</td>\n",
       "      <td>0.0</td>\n",
       "      <td>1</td>\n",
       "      <td>1</td>\n",
       "      <td>0</td>\n",
       "      <td>0</td>\n",
       "      <td>low_25</td>\n",
       "    </tr>\n",
       "  </tbody>\n",
       "</table>\n",
       "<p>5 rows × 27 columns</p>\n",
       "</div>"
      ],
      "text/plain": [
       "        CTLG_PROD_ID    count        mean        std     min       25%  \\\n",
       "357758      14540829    589.0   50.097080  16.982425   39.06   44.9000   \n",
       "57621        6156495     22.0  110.760000   1.643005  108.89  109.4475   \n",
       "807933      16051104    214.0   10.418411   0.447024    9.75   10.3500   \n",
       "491144      15285466  14488.0   20.067006   2.234364   13.72   19.2100   \n",
       "91805        6304594    841.0    4.128478   0.603908    2.29    4.2300   \n",
       "\n",
       "           50%     75%     max  ORD_ORDER_ID  ...  is_buybox  has_bpp  \\\n",
       "357758   51.40   51.40  239.88    4648788020  ...          0        0   \n",
       "57621   111.12  111.12  116.57    4628309845  ...          1        0   \n",
       "807933   10.35   10.35   12.70    4679931765  ...          0        0   \n",
       "491144   19.21   21.35  194.41    4630602669  ...          1        0   \n",
       "91805     4.23    4.23    9.76    4677986150  ...          1        0   \n",
       "\n",
       "        has_claim_seller  is_refund  bpp_cashout_final  bad_order  \\\n",
       "357758                 0        0.0                0.0          0   \n",
       "57621                  0        0.0                0.0          0   \n",
       "807933                 0        0.0                0.0          0   \n",
       "491144                 0        0.0                0.0          0   \n",
       "91805                  1        0.0                0.0          1   \n",
       "\n",
       "        Low25_Price  Middle_Price  High75_Price  Price_Range  \n",
       "357758            0             1             0       middle  \n",
       "57621             0             1             0       middle  \n",
       "807933            0             0             1      high_75  \n",
       "491144            1             0             0       low_25  \n",
       "91805             1             0             0       low_25  \n",
       "\n",
       "[5 rows x 27 columns]"
      ]
     },
     "execution_count": 29,
     "metadata": {},
     "output_type": "execute_result"
    }
   ],
   "source": [
    "df.sample(5)"
   ]
  },
  {
   "cell_type": "markdown",
   "metadata": {},
   "source": [
    "## Distribution Bad Orders"
   ]
  },
  {
   "cell_type": "code",
   "execution_count": 30,
   "metadata": {},
   "outputs": [],
   "source": [
    "df_1=df[['Price_Range','bad_order','ORD_ORDER_ID']]"
   ]
  },
  {
   "cell_type": "code",
   "execution_count": 31,
   "metadata": {},
   "outputs": [
    {
     "data": {
      "text/html": [
       "<div>\n",
       "<style scoped>\n",
       "    .dataframe tbody tr th:only-of-type {\n",
       "        vertical-align: middle;\n",
       "    }\n",
       "\n",
       "    .dataframe tbody tr th {\n",
       "        vertical-align: top;\n",
       "    }\n",
       "\n",
       "    .dataframe thead th {\n",
       "        text-align: right;\n",
       "    }\n",
       "</style>\n",
       "<table border=\"1\" class=\"dataframe\">\n",
       "  <thead>\n",
       "    <tr style=\"text-align: right;\">\n",
       "      <th></th>\n",
       "      <th>Price_Range</th>\n",
       "      <th>bad_order</th>\n",
       "      <th>ORD_ORDER_ID</th>\n",
       "      <th>TOTAL</th>\n",
       "      <th>Dis.[%]</th>\n",
       "    </tr>\n",
       "  </thead>\n",
       "  <tbody>\n",
       "    <tr>\n",
       "      <th>0</th>\n",
       "      <td>high_75</td>\n",
       "      <td>0</td>\n",
       "      <td>144950</td>\n",
       "      <td>169616</td>\n",
       "      <td>85.5</td>\n",
       "    </tr>\n",
       "    <tr>\n",
       "      <th>1</th>\n",
       "      <td>high_75</td>\n",
       "      <td>1</td>\n",
       "      <td>24666</td>\n",
       "      <td>169616</td>\n",
       "      <td>14.5</td>\n",
       "    </tr>\n",
       "    <tr>\n",
       "      <th>2</th>\n",
       "      <td>low_25</td>\n",
       "      <td>0</td>\n",
       "      <td>122872</td>\n",
       "      <td>148995</td>\n",
       "      <td>82.5</td>\n",
       "    </tr>\n",
       "    <tr>\n",
       "      <th>3</th>\n",
       "      <td>low_25</td>\n",
       "      <td>1</td>\n",
       "      <td>26123</td>\n",
       "      <td>148995</td>\n",
       "      <td>17.5</td>\n",
       "    </tr>\n",
       "    <tr>\n",
       "      <th>4</th>\n",
       "      <td>middle</td>\n",
       "      <td>0</td>\n",
       "      <td>653552</td>\n",
       "      <td>746141</td>\n",
       "      <td>87.6</td>\n",
       "    </tr>\n",
       "    <tr>\n",
       "      <th>5</th>\n",
       "      <td>middle</td>\n",
       "      <td>1</td>\n",
       "      <td>92589</td>\n",
       "      <td>746141</td>\n",
       "      <td>12.4</td>\n",
       "    </tr>\n",
       "  </tbody>\n",
       "</table>\n",
       "</div>"
      ],
      "text/plain": [
       "  Price_Range  bad_order  ORD_ORDER_ID   TOTAL  Dis.[%]\n",
       "0     high_75          0        144950  169616     85.5\n",
       "1     high_75          1         24666  169616     14.5\n",
       "2      low_25          0        122872  148995     82.5\n",
       "3      low_25          1         26123  148995     17.5\n",
       "4      middle          0        653552  746141     87.6\n",
       "5      middle          1         92589  746141     12.4"
      ]
     },
     "execution_count": 31,
     "metadata": {},
     "output_type": "execute_result"
    }
   ],
   "source": [
    "gb1=df_1.groupby(['Price_Range','bad_order']).count()\n",
    "gb1=gb1.reset_index()\n",
    "\n",
    "gb2=gb1[['Price_Range','ORD_ORDER_ID']].groupby(['Price_Range']).sum()\n",
    "gb2=gb2.reset_index()\n",
    "gb2['TOTAL']=gb2['ORD_ORDER_ID']\n",
    "gb2=gb2[['Price_Range','TOTAL']]\n",
    "\n",
    "gb3 = pd.merge(left = gb1, right = gb2,\n",
    "                how = 'inner',\n",
    "                left_on='Price_Range', right_on='Price_Range')\n",
    "\n",
    "gb3['Dis.[%]']=(gb3['ORD_ORDER_ID']/gb3['TOTAL'])*100\n",
    "gb3['Dis.[%]']=gb3['Dis.[%]'].round(decimals=1)\n",
    "\n",
    "gb3"
   ]
  },
  {
   "cell_type": "code",
   "execution_count": 32,
   "metadata": {},
   "outputs": [
    {
     "data": {
      "image/png": "[encoded data removed]",
      "text/plain": [
       "<Figure size 432x288 with 1 Axes>"
      ]
     },
     "metadata": {
      "needs_background": "light"
     },
     "output_type": "display_data"
    }
   ],
   "source": [
    "sns.histplot(\n",
    "            data=df_1,\n",
    "            x=\"Price_Range\",\n",
    "            hue=\"bad_order\",\n",
    "            multiple=\"dodge\",\n",
    "            shrink=.8\n",
    "            ).set(title='Precio',ylabel='Orders');"
   ]
  },
  {
   "cell_type": "markdown",
   "metadata": {},
   "source": [
    "## Distribution Bad Users"
   ]
  },
  {
   "cell_type": "code",
   "execution_count": 33,
   "metadata": {},
   "outputs": [],
   "source": [
    "df_1=df[['Price_Range','flag_bad_user','ORD_ORDER_ID']]"
   ]
  },
  {
   "cell_type": "code",
   "execution_count": 34,
   "metadata": {},
   "outputs": [
    {
     "data": {
      "text/html": [
       "<div>\n",
       "<style scoped>\n",
       "    .dataframe tbody tr th:only-of-type {\n",
       "        vertical-align: middle;\n",
       "    }\n",
       "\n",
       "    .dataframe tbody tr th {\n",
       "        vertical-align: top;\n",
       "    }\n",
       "\n",
       "    .dataframe thead th {\n",
       "        text-align: right;\n",
       "    }\n",
       "</style>\n",
       "<table border=\"1\" class=\"dataframe\">\n",
       "  <thead>\n",
       "    <tr style=\"text-align: right;\">\n",
       "      <th></th>\n",
       "      <th>Price_Range</th>\n",
       "      <th>flag_bad_user</th>\n",
       "      <th>ORD_ORDER_ID</th>\n",
       "      <th>TOTAL</th>\n",
       "      <th>Dis.[%]</th>\n",
       "    </tr>\n",
       "  </thead>\n",
       "  <tbody>\n",
       "    <tr>\n",
       "      <th>0</th>\n",
       "      <td>high_75</td>\n",
       "      <td>0</td>\n",
       "      <td>163154</td>\n",
       "      <td>169616</td>\n",
       "      <td>96.2</td>\n",
       "    </tr>\n",
       "    <tr>\n",
       "      <th>1</th>\n",
       "      <td>high_75</td>\n",
       "      <td>1</td>\n",
       "      <td>6462</td>\n",
       "      <td>169616</td>\n",
       "      <td>3.8</td>\n",
       "    </tr>\n",
       "    <tr>\n",
       "      <th>2</th>\n",
       "      <td>low_25</td>\n",
       "      <td>0</td>\n",
       "      <td>142571</td>\n",
       "      <td>148995</td>\n",
       "      <td>95.7</td>\n",
       "    </tr>\n",
       "    <tr>\n",
       "      <th>3</th>\n",
       "      <td>low_25</td>\n",
       "      <td>1</td>\n",
       "      <td>6424</td>\n",
       "      <td>148995</td>\n",
       "      <td>4.3</td>\n",
       "    </tr>\n",
       "    <tr>\n",
       "      <th>4</th>\n",
       "      <td>middle</td>\n",
       "      <td>0</td>\n",
       "      <td>723664</td>\n",
       "      <td>746141</td>\n",
       "      <td>97.0</td>\n",
       "    </tr>\n",
       "    <tr>\n",
       "      <th>5</th>\n",
       "      <td>middle</td>\n",
       "      <td>1</td>\n",
       "      <td>22477</td>\n",
       "      <td>746141</td>\n",
       "      <td>3.0</td>\n",
       "    </tr>\n",
       "  </tbody>\n",
       "</table>\n",
       "</div>"
      ],
      "text/plain": [
       "  Price_Range  flag_bad_user  ORD_ORDER_ID   TOTAL  Dis.[%]\n",
       "0     high_75              0        163154  169616     96.2\n",
       "1     high_75              1          6462  169616      3.8\n",
       "2      low_25              0        142571  148995     95.7\n",
       "3      low_25              1          6424  148995      4.3\n",
       "4      middle              0        723664  746141     97.0\n",
       "5      middle              1         22477  746141      3.0"
      ]
     },
     "execution_count": 34,
     "metadata": {},
     "output_type": "execute_result"
    }
   ],
   "source": [
    "gb1=df_1.groupby(['Price_Range','flag_bad_user']).count()\n",
    "gb1=gb1.reset_index()\n",
    "\n",
    "gb2=gb1[['Price_Range','ORD_ORDER_ID']].groupby(['Price_Range']).sum()\n",
    "gb2=gb2.reset_index()\n",
    "gb2['TOTAL']=gb2['ORD_ORDER_ID']\n",
    "gb2=gb2[['Price_Range','TOTAL']]\n",
    "\n",
    "gb3 = pd.merge(left = gb1, right = gb2,\n",
    "                how = 'inner',\n",
    "                left_on='Price_Range', right_on='Price_Range')\n",
    "\n",
    "gb3['Dis.[%]']=(gb3['ORD_ORDER_ID']/gb3['TOTAL'])*100\n",
    "gb3['Dis.[%]']=gb3['Dis.[%]'].round(decimals=1)\n",
    "\n",
    "gb3"
   ]
  },
  {
   "cell_type": "code",
   "execution_count": 35,
   "metadata": {},
   "outputs": [
    {
     "data": {
      "image/png": "[encoded data removed]",
      "text/plain": [
       "<Figure size 432x288 with 1 Axes>"
      ]
     },
     "metadata": {
      "needs_background": "light"
     },
     "output_type": "display_data"
    }
   ],
   "source": [
    "sns.histplot(\n",
    "            data=df_1,\n",
    "            x=\"Price_Range\",\n",
    "            hue=\"flag_bad_user\",\n",
    "            multiple=\"dodge\",\n",
    "            shrink=.8\n",
    "            ).set(title='Precio',ylabel='Orders');"
   ]
  },
  {
   "cell_type": "markdown",
   "metadata": {},
   "source": [
    "## Distribution Has CashOut"
   ]
  },
  {
   "cell_type": "code",
   "execution_count": 36,
   "metadata": {},
   "outputs": [
    {
     "name": "stderr",
     "output_type": "stream",
     "text": [
      "<ipython-input-36-239d2c268fe3>:2: SettingWithCopyWarning: \n",
      "A value is trying to be set on a copy of a slice from a DataFrame.\n",
      "Try using .loc[row_indexer,col_indexer] = value instead\n",
      "\n",
      "See the caveats in the documentation: https://pandas.pydata.org/pandas-docs/stable/user_guide/indexing.html#returning-a-view-versus-a-copy\n",
      "  df_1['has_co'] = df_1.apply(lambda x: 1 if x['bpp_cashout_final'] > 0 else 0, axis=1)\n"
     ]
    }
   ],
   "source": [
    "df_1=df[['Price_Range','bpp_cashout_final','ORD_ORDER_ID']]\n",
    "df_1['has_co'] = df_1.apply(lambda x: 1 if x['bpp_cashout_final'] > 0 else 0, axis=1)\n",
    "df_1=df_1[['Price_Range','has_co','ORD_ORDER_ID']]"
   ]
  },
  {
   "cell_type": "code",
   "execution_count": 37,
   "metadata": {},
   "outputs": [
    {
     "data": {
      "text/html": [
       "<div>\n",
       "<style scoped>\n",
       "    .dataframe tbody tr th:only-of-type {\n",
       "        vertical-align: middle;\n",
       "    }\n",
       "\n",
       "    .dataframe tbody tr th {\n",
       "        vertical-align: top;\n",
       "    }\n",
       "\n",
       "    .dataframe thead th {\n",
       "        text-align: right;\n",
       "    }\n",
       "</style>\n",
       "<table border=\"1\" class=\"dataframe\">\n",
       "  <thead>\n",
       "    <tr style=\"text-align: right;\">\n",
       "      <th></th>\n",
       "      <th>Price_Range</th>\n",
       "      <th>has_co</th>\n",
       "      <th>ORD_ORDER_ID</th>\n",
       "      <th>TOTAL</th>\n",
       "      <th>Dis.[%]</th>\n",
       "    </tr>\n",
       "  </thead>\n",
       "  <tbody>\n",
       "    <tr>\n",
       "      <th>0</th>\n",
       "      <td>high_75</td>\n",
       "      <td>0</td>\n",
       "      <td>168674</td>\n",
       "      <td>169616</td>\n",
       "      <td>99.4</td>\n",
       "    </tr>\n",
       "    <tr>\n",
       "      <th>1</th>\n",
       "      <td>high_75</td>\n",
       "      <td>1</td>\n",
       "      <td>942</td>\n",
       "      <td>169616</td>\n",
       "      <td>0.6</td>\n",
       "    </tr>\n",
       "    <tr>\n",
       "      <th>2</th>\n",
       "      <td>low_25</td>\n",
       "      <td>0</td>\n",
       "      <td>147812</td>\n",
       "      <td>148995</td>\n",
       "      <td>99.2</td>\n",
       "    </tr>\n",
       "    <tr>\n",
       "      <th>3</th>\n",
       "      <td>low_25</td>\n",
       "      <td>1</td>\n",
       "      <td>1183</td>\n",
       "      <td>148995</td>\n",
       "      <td>0.8</td>\n",
       "    </tr>\n",
       "    <tr>\n",
       "      <th>4</th>\n",
       "      <td>middle</td>\n",
       "      <td>0</td>\n",
       "      <td>742098</td>\n",
       "      <td>746141</td>\n",
       "      <td>99.5</td>\n",
       "    </tr>\n",
       "    <tr>\n",
       "      <th>5</th>\n",
       "      <td>middle</td>\n",
       "      <td>1</td>\n",
       "      <td>4043</td>\n",
       "      <td>746141</td>\n",
       "      <td>0.5</td>\n",
       "    </tr>\n",
       "  </tbody>\n",
       "</table>\n",
       "</div>"
      ],
      "text/plain": [
       "  Price_Range  has_co  ORD_ORDER_ID   TOTAL  Dis.[%]\n",
       "0     high_75       0        168674  169616     99.4\n",
       "1     high_75       1           942  169616      0.6\n",
       "2      low_25       0        147812  148995     99.2\n",
       "3      low_25       1          1183  148995      0.8\n",
       "4      middle       0        742098  746141     99.5\n",
       "5      middle       1          4043  746141      0.5"
      ]
     },
     "execution_count": 37,
     "metadata": {},
     "output_type": "execute_result"
    }
   ],
   "source": [
    "gb1=df_1.groupby(['Price_Range','has_co']).count()\n",
    "gb1=gb1.reset_index()\n",
    "\n",
    "gb2=gb1[['Price_Range','ORD_ORDER_ID']].groupby(['Price_Range']).sum()\n",
    "gb2=gb2.reset_index()\n",
    "gb2['TOTAL']=gb2['ORD_ORDER_ID']\n",
    "gb2=gb2[['Price_Range','TOTAL']]\n",
    "\n",
    "gb3 = pd.merge(left = gb1, right = gb2,\n",
    "                how = 'inner',\n",
    "                left_on='Price_Range', right_on='Price_Range')\n",
    "\n",
    "gb3['Dis.[%]']=(gb3['ORD_ORDER_ID']/gb3['TOTAL'])*100\n",
    "gb3['Dis.[%]']=gb3['Dis.[%]'].round(decimals=1)\n",
    "\n",
    "gb3"
   ]
  },
  {
   "cell_type": "code",
   "execution_count": 38,
   "metadata": {},
   "outputs": [
    {
     "data": {
      "image/png": "[encoded data removed]",
      "text/plain": [
       "<Figure size 432x288 with 1 Axes>"
      ]
     },
     "metadata": {
      "needs_background": "light"
     },
     "output_type": "display_data"
    }
   ],
   "source": [
    "sns.histplot(\n",
    "            data=df_1,\n",
    "            x=\"Price_Range\",\n",
    "            hue=\"has_co\",\n",
    "            multiple=\"dodge\",\n",
    "            shrink=.8\n",
    "            ).set(title='Precio',ylabel='Orders');"
   ]
  },
  {
   "cell_type": "markdown",
   "metadata": {},
   "source": [
    "## Distribution Has Claim"
   ]
  },
  {
   "cell_type": "code",
   "execution_count": 39,
   "metadata": {},
   "outputs": [],
   "source": [
    "df_1=df[['Price_Range','has_claim_seller','ORD_ORDER_ID']]"
   ]
  },
  {
   "cell_type": "code",
   "execution_count": 40,
   "metadata": {},
   "outputs": [
    {
     "data": {
      "text/html": [
       "<div>\n",
       "<style scoped>\n",
       "    .dataframe tbody tr th:only-of-type {\n",
       "        vertical-align: middle;\n",
       "    }\n",
       "\n",
       "    .dataframe tbody tr th {\n",
       "        vertical-align: top;\n",
       "    }\n",
       "\n",
       "    .dataframe thead th {\n",
       "        text-align: right;\n",
       "    }\n",
       "</style>\n",
       "<table border=\"1\" class=\"dataframe\">\n",
       "  <thead>\n",
       "    <tr style=\"text-align: right;\">\n",
       "      <th></th>\n",
       "      <th>Price_Range</th>\n",
       "      <th>has_claim_seller</th>\n",
       "      <th>ORD_ORDER_ID</th>\n",
       "      <th>TOTAL</th>\n",
       "      <th>Dis.[%]</th>\n",
       "    </tr>\n",
       "  </thead>\n",
       "  <tbody>\n",
       "    <tr>\n",
       "      <th>0</th>\n",
       "      <td>high_75</td>\n",
       "      <td>0</td>\n",
       "      <td>153804</td>\n",
       "      <td>169616</td>\n",
       "      <td>90.7</td>\n",
       "    </tr>\n",
       "    <tr>\n",
       "      <th>1</th>\n",
       "      <td>high_75</td>\n",
       "      <td>1</td>\n",
       "      <td>15812</td>\n",
       "      <td>169616</td>\n",
       "      <td>9.3</td>\n",
       "    </tr>\n",
       "    <tr>\n",
       "      <th>2</th>\n",
       "      <td>low_25</td>\n",
       "      <td>0</td>\n",
       "      <td>132141</td>\n",
       "      <td>148995</td>\n",
       "      <td>88.7</td>\n",
       "    </tr>\n",
       "    <tr>\n",
       "      <th>3</th>\n",
       "      <td>low_25</td>\n",
       "      <td>1</td>\n",
       "      <td>16854</td>\n",
       "      <td>148995</td>\n",
       "      <td>11.3</td>\n",
       "    </tr>\n",
       "    <tr>\n",
       "      <th>4</th>\n",
       "      <td>middle</td>\n",
       "      <td>0</td>\n",
       "      <td>685001</td>\n",
       "      <td>746141</td>\n",
       "      <td>91.8</td>\n",
       "    </tr>\n",
       "    <tr>\n",
       "      <th>5</th>\n",
       "      <td>middle</td>\n",
       "      <td>1</td>\n",
       "      <td>61140</td>\n",
       "      <td>746141</td>\n",
       "      <td>8.2</td>\n",
       "    </tr>\n",
       "  </tbody>\n",
       "</table>\n",
       "</div>"
      ],
      "text/plain": [
       "  Price_Range  has_claim_seller  ORD_ORDER_ID   TOTAL  Dis.[%]\n",
       "0     high_75                 0        153804  169616     90.7\n",
       "1     high_75                 1         15812  169616      9.3\n",
       "2      low_25                 0        132141  148995     88.7\n",
       "3      low_25                 1         16854  148995     11.3\n",
       "4      middle                 0        685001  746141     91.8\n",
       "5      middle                 1         61140  746141      8.2"
      ]
     },
     "execution_count": 40,
     "metadata": {},
     "output_type": "execute_result"
    }
   ],
   "source": [
    "gb1=df_1.groupby(['Price_Range','has_claim_seller']).count()\n",
    "gb1=gb1.reset_index()\n",
    "\n",
    "gb2=gb1[['Price_Range','ORD_ORDER_ID']].groupby(['Price_Range']).sum()\n",
    "gb2=gb2.reset_index()\n",
    "gb2['TOTAL']=gb2['ORD_ORDER_ID']\n",
    "gb2=gb2[['Price_Range','TOTAL']]\n",
    "\n",
    "gb3 = pd.merge(left = gb1, right = gb2,\n",
    "                how = 'inner',\n",
    "                left_on='Price_Range', right_on='Price_Range')\n",
    "\n",
    "gb3['Dis.[%]']=(gb3['ORD_ORDER_ID']/gb3['TOTAL'])*100\n",
    "gb3['Dis.[%]']=gb3['Dis.[%]'].round(decimals=1)\n",
    "\n",
    "gb3"
   ]
  },
  {
   "cell_type": "code",
   "execution_count": 41,
   "metadata": {},
   "outputs": [
    {
     "data": {
      "image/png": "[encoded data removed]",
      "text/plain": [
       "<Figure size 432x288 with 1 Axes>"
      ]
     },
     "metadata": {
      "needs_background": "light"
     },
     "output_type": "display_data"
    }
   ],
   "source": [
    "sns.histplot(\n",
    "            data=df_1,\n",
    "            x=\"Price_Range\",\n",
    "            hue=\"has_claim_seller\",\n",
    "            multiple=\"dodge\",\n",
    "            shrink=.8\n",
    "            ).set(title='Precio',ylabel='Orders');"
   ]
  },
  {
   "cell_type": "markdown",
   "metadata": {},
   "source": [
    "## Distribution is Refund"
   ]
  },
  {
   "cell_type": "code",
   "execution_count": 42,
   "metadata": {},
   "outputs": [],
   "source": [
    "df_1=df[['Price_Range','is_refund','ORD_ORDER_ID']]"
   ]
  },
  {
   "cell_type": "code",
   "execution_count": 43,
   "metadata": {},
   "outputs": [
    {
     "data": {
      "text/html": [
       "<div>\n",
       "<style scoped>\n",
       "    .dataframe tbody tr th:only-of-type {\n",
       "        vertical-align: middle;\n",
       "    }\n",
       "\n",
       "    .dataframe tbody tr th {\n",
       "        vertical-align: top;\n",
       "    }\n",
       "\n",
       "    .dataframe thead th {\n",
       "        text-align: right;\n",
       "    }\n",
       "</style>\n",
       "<table border=\"1\" class=\"dataframe\">\n",
       "  <thead>\n",
       "    <tr style=\"text-align: right;\">\n",
       "      <th></th>\n",
       "      <th>Price_Range</th>\n",
       "      <th>is_refund</th>\n",
       "      <th>ORD_ORDER_ID</th>\n",
       "      <th>TOTAL</th>\n",
       "      <th>Dis.[%]</th>\n",
       "    </tr>\n",
       "  </thead>\n",
       "  <tbody>\n",
       "    <tr>\n",
       "      <th>0</th>\n",
       "      <td>high_75</td>\n",
       "      <td>0.0</td>\n",
       "      <td>153937</td>\n",
       "      <td>169612</td>\n",
       "      <td>90.8</td>\n",
       "    </tr>\n",
       "    <tr>\n",
       "      <th>1</th>\n",
       "      <td>high_75</td>\n",
       "      <td>1.0</td>\n",
       "      <td>15675</td>\n",
       "      <td>169612</td>\n",
       "      <td>9.2</td>\n",
       "    </tr>\n",
       "    <tr>\n",
       "      <th>2</th>\n",
       "      <td>low_25</td>\n",
       "      <td>0.0</td>\n",
       "      <td>131484</td>\n",
       "      <td>148987</td>\n",
       "      <td>88.3</td>\n",
       "    </tr>\n",
       "    <tr>\n",
       "      <th>3</th>\n",
       "      <td>low_25</td>\n",
       "      <td>1.0</td>\n",
       "      <td>17503</td>\n",
       "      <td>148987</td>\n",
       "      <td>11.7</td>\n",
       "    </tr>\n",
       "    <tr>\n",
       "      <th>4</th>\n",
       "      <td>middle</td>\n",
       "      <td>0.0</td>\n",
       "      <td>688331</td>\n",
       "      <td>746136</td>\n",
       "      <td>92.3</td>\n",
       "    </tr>\n",
       "    <tr>\n",
       "      <th>5</th>\n",
       "      <td>middle</td>\n",
       "      <td>1.0</td>\n",
       "      <td>57805</td>\n",
       "      <td>746136</td>\n",
       "      <td>7.7</td>\n",
       "    </tr>\n",
       "  </tbody>\n",
       "</table>\n",
       "</div>"
      ],
      "text/plain": [
       "  Price_Range  is_refund  ORD_ORDER_ID   TOTAL  Dis.[%]\n",
       "0     high_75        0.0        153937  169612     90.8\n",
       "1     high_75        1.0         15675  169612      9.2\n",
       "2      low_25        0.0        131484  148987     88.3\n",
       "3      low_25        1.0         17503  148987     11.7\n",
       "4      middle        0.0        688331  746136     92.3\n",
       "5      middle        1.0         57805  746136      7.7"
      ]
     },
     "execution_count": 43,
     "metadata": {},
     "output_type": "execute_result"
    }
   ],
   "source": [
    "gb1=df_1.groupby(['Price_Range','is_refund']).count()\n",
    "gb1=gb1.reset_index()\n",
    "\n",
    "gb2=gb1[['Price_Range','ORD_ORDER_ID']].groupby(['Price_Range']).sum()\n",
    "gb2=gb2.reset_index()\n",
    "gb2['TOTAL']=gb2['ORD_ORDER_ID']\n",
    "gb2=gb2[['Price_Range','TOTAL']]\n",
    "\n",
    "gb3 = pd.merge(left = gb1, right = gb2,\n",
    "                how = 'inner',\n",
    "                left_on='Price_Range', right_on='Price_Range')\n",
    "\n",
    "gb3['Dis.[%]']=(gb3['ORD_ORDER_ID']/gb3['TOTAL'])*100\n",
    "gb3['Dis.[%]']=gb3['Dis.[%]'].round(decimals=1)\n",
    "\n",
    "gb3"
   ]
  },
  {
   "cell_type": "code",
   "execution_count": 44,
   "metadata": {},
   "outputs": [
    {
     "data": {
      "image/png": "[encoded data removed]",
      "text/plain": [
       "<Figure size 432x288 with 1 Axes>"
      ]
     },
     "metadata": {
      "needs_background": "light"
     },
     "output_type": "display_data"
    }
   ],
   "source": [
    "sns.histplot(\n",
    "            data=df_1,\n",
    "            x=\"Price_Range\",\n",
    "            hue=\"is_refund\",\n",
    "            multiple=\"dodge\",\n",
    "            shrink=.8\n",
    "            ).set(title='Precio',ylabel='Orders');"
   ]
  },
  {
   "cell_type": "markdown",
   "metadata": {},
   "source": [
    "# Base on the STD_Range"
   ]
  },
  {
   "cell_type": "markdown",
   "metadata": {},
   "source": [
    "## Create DF STD"
   ]
  },
  {
   "cell_type": "code",
   "execution_count": 45,
   "metadata": {},
   "outputs": [
    {
     "name": "stderr",
     "output_type": "stream",
     "text": [
      "<ipython-input-45-01a83c4a6b8b>:2: SettingWithCopyWarning: \n",
      "A value is trying to be set on a copy of a slice from a DataFrame.\n",
      "Try using .loc[row_indexer,col_indexer] = value instead\n",
      "\n",
      "See the caveats in the documentation: https://pandas.pydata.org/pandas-docs/stable/user_guide/indexing.html#returning-a-view-versus-a-copy\n",
      "  df_std['STDx1'] = df_des['std']\n",
      "<ipython-input-45-01a83c4a6b8b>:3: SettingWithCopyWarning: \n",
      "A value is trying to be set on a copy of a slice from a DataFrame.\n",
      "Try using .loc[row_indexer,col_indexer] = value instead\n",
      "\n",
      "See the caveats in the documentation: https://pandas.pydata.org/pandas-docs/stable/user_guide/indexing.html#returning-a-view-versus-a-copy\n",
      "  df_std['STDx1.25'] = df_des['std']*1.25\n",
      "<ipython-input-45-01a83c4a6b8b>:4: SettingWithCopyWarning: \n",
      "A value is trying to be set on a copy of a slice from a DataFrame.\n",
      "Try using .loc[row_indexer,col_indexer] = value instead\n",
      "\n",
      "See the caveats in the documentation: https://pandas.pydata.org/pandas-docs/stable/user_guide/indexing.html#returning-a-view-versus-a-copy\n",
      "  df_std['STDx1.5'] = df_des['std']*1.5\n",
      "<ipython-input-45-01a83c4a6b8b>:5: SettingWithCopyWarning: \n",
      "A value is trying to be set on a copy of a slice from a DataFrame.\n",
      "Try using .loc[row_indexer,col_indexer] = value instead\n",
      "\n",
      "See the caveats in the documentation: https://pandas.pydata.org/pandas-docs/stable/user_guide/indexing.html#returning-a-view-versus-a-copy\n",
      "  df_std['STDx1.75'] = df_des['std']*1.75\n",
      "<ipython-input-45-01a83c4a6b8b>:6: SettingWithCopyWarning: \n",
      "A value is trying to be set on a copy of a slice from a DataFrame.\n",
      "Try using .loc[row_indexer,col_indexer] = value instead\n",
      "\n",
      "See the caveats in the documentation: https://pandas.pydata.org/pandas-docs/stable/user_guide/indexing.html#returning-a-view-versus-a-copy\n",
      "  df_std['STDx2'] = df_des['std']*2\n",
      "<ipython-input-45-01a83c4a6b8b>:7: SettingWithCopyWarning: \n",
      "A value is trying to be set on a copy of a slice from a DataFrame.\n",
      "Try using .loc[row_indexer,col_indexer] = value instead\n",
      "\n",
      "See the caveats in the documentation: https://pandas.pydata.org/pandas-docs/stable/user_guide/indexing.html#returning-a-view-versus-a-copy\n",
      "  df_std['STDx2.25'] = df_des['std']*2.25\n"
     ]
    }
   ],
   "source": [
    "df_std = df_des[['CTLG_PROD_ID','mean']]\n",
    "df_std['STDx1'] = df_des['std']\n",
    "df_std['STDx1.25'] = df_des['std']*1.25\n",
    "df_std['STDx1.5'] = df_des['std']*1.5\n",
    "df_std['STDx1.75'] = df_des['std']*1.75\n",
    "df_std['STDx2'] = df_des['std']*2\n",
    "df_std['STDx2.25'] = df_des['std']*2.25\n",
    "df_std['STDx2.5'] = df_des['std']*2.5\n",
    "df_std['STDx2.75'] = df_des['std']*2.75\n",
    "df_std['STDx3'] = df_des['std']*3\n",
    "df_std=df_std.round(decimals=2)"
   ]
  },
  {
   "cell_type": "code",
   "execution_count": 46,
   "metadata": {},
   "outputs": [
    {
     "data": {
      "text/html": [
       "<div>\n",
       "<style scoped>\n",
       "    .dataframe tbody tr th:only-of-type {\n",
       "        vertical-align: middle;\n",
       "    }\n",
       "\n",
       "    .dataframe tbody tr th {\n",
       "        vertical-align: top;\n",
       "    }\n",
       "\n",
       "    .dataframe thead th {\n",
       "        text-align: right;\n",
       "    }\n",
       "</style>\n",
       "<table border=\"1\" class=\"dataframe\">\n",
       "  <thead>\n",
       "    <tr style=\"text-align: right;\">\n",
       "      <th></th>\n",
       "      <th>CTLG_PROD_ID</th>\n",
       "      <th>mean</th>\n",
       "      <th>STDx1</th>\n",
       "      <th>STDx1.25</th>\n",
       "      <th>STDx1.5</th>\n",
       "      <th>STDx1.75</th>\n",
       "      <th>STDx2</th>\n",
       "      <th>STDx2.25</th>\n",
       "      <th>STDx2.5</th>\n",
       "      <th>STDx2.75</th>\n",
       "      <th>STDx3</th>\n",
       "    </tr>\n",
       "  </thead>\n",
       "  <tbody>\n",
       "    <tr>\n",
       "      <th>566</th>\n",
       "      <td>6121295</td>\n",
       "      <td>33.51</td>\n",
       "      <td>1.54</td>\n",
       "      <td>1.93</td>\n",
       "      <td>2.31</td>\n",
       "      <td>2.70</td>\n",
       "      <td>3.08</td>\n",
       "      <td>3.47</td>\n",
       "      <td>3.86</td>\n",
       "      <td>4.24</td>\n",
       "      <td>4.63</td>\n",
       "    </tr>\n",
       "    <tr>\n",
       "      <th>2775</th>\n",
       "      <td>9299258</td>\n",
       "      <td>502.40</td>\n",
       "      <td>27.02</td>\n",
       "      <td>33.78</td>\n",
       "      <td>40.53</td>\n",
       "      <td>47.29</td>\n",
       "      <td>54.04</td>\n",
       "      <td>60.80</td>\n",
       "      <td>67.55</td>\n",
       "      <td>74.31</td>\n",
       "      <td>81.06</td>\n",
       "    </tr>\n",
       "    <tr>\n",
       "      <th>6189</th>\n",
       "      <td>15188560</td>\n",
       "      <td>335.79</td>\n",
       "      <td>22.27</td>\n",
       "      <td>27.83</td>\n",
       "      <td>33.40</td>\n",
       "      <td>38.97</td>\n",
       "      <td>44.53</td>\n",
       "      <td>50.10</td>\n",
       "      <td>55.67</td>\n",
       "      <td>61.23</td>\n",
       "      <td>66.80</td>\n",
       "    </tr>\n",
       "    <tr>\n",
       "      <th>6349</th>\n",
       "      <td>15234048</td>\n",
       "      <td>717.13</td>\n",
       "      <td>10.50</td>\n",
       "      <td>13.12</td>\n",
       "      <td>15.74</td>\n",
       "      <td>18.37</td>\n",
       "      <td>20.99</td>\n",
       "      <td>23.62</td>\n",
       "      <td>26.24</td>\n",
       "      <td>28.87</td>\n",
       "      <td>31.49</td>\n",
       "    </tr>\n",
       "    <tr>\n",
       "      <th>11101</th>\n",
       "      <td>16933598</td>\n",
       "      <td>173.17</td>\n",
       "      <td>7.44</td>\n",
       "      <td>9.30</td>\n",
       "      <td>11.16</td>\n",
       "      <td>13.02</td>\n",
       "      <td>14.88</td>\n",
       "      <td>16.74</td>\n",
       "      <td>18.60</td>\n",
       "      <td>20.46</td>\n",
       "      <td>22.32</td>\n",
       "    </tr>\n",
       "  </tbody>\n",
       "</table>\n",
       "</div>"
      ],
      "text/plain": [
       "       CTLG_PROD_ID    mean  STDx1  STDx1.25  STDx1.5  STDx1.75  STDx2  \\\n",
       "566         6121295   33.51   1.54      1.93     2.31      2.70   3.08   \n",
       "2775        9299258  502.40  27.02     33.78    40.53     47.29  54.04   \n",
       "6189       15188560  335.79  22.27     27.83    33.40     38.97  44.53   \n",
       "6349       15234048  717.13  10.50     13.12    15.74     18.37  20.99   \n",
       "11101      16933598  173.17   7.44      9.30    11.16     13.02  14.88   \n",
       "\n",
       "       STDx2.25  STDx2.5  STDx2.75  STDx3  \n",
       "566        3.47     3.86      4.24   4.63  \n",
       "2775      60.80    67.55     74.31  81.06  \n",
       "6189      50.10    55.67     61.23  66.80  \n",
       "6349      23.62    26.24     28.87  31.49  \n",
       "11101     16.74    18.60     20.46  22.32  "
      ]
     },
     "execution_count": 46,
     "metadata": {},
     "output_type": "execute_result"
    }
   ],
   "source": [
    "df_std.sample(5)"
   ]
  },
  {
   "cell_type": "code",
   "execution_count": 47,
   "metadata": {},
   "outputs": [
    {
     "data": {
      "text/plain": [
       "Index(['CTLG_PROD_ID', 'count', 'mean', 'std', 'min', '25%', '50%', '75%',\n",
       "       'max', 'ORD_ORDER_ID', 'CUS_CUST_ID_SEL', 'ITE_ITEM_ID',\n",
       "       'ITE_BASE_CURRENT_PRICE', 'active_item', 'flag_bad_item',\n",
       "       'flag_bad_user', 'order_trusted', 'is_buybox', 'has_bpp',\n",
       "       'has_claim_seller', 'is_refund', 'bpp_cashout_final', 'bad_order',\n",
       "       'Low25_Price', 'Middle_Price', 'High75_Price', 'Price_Range'],\n",
       "      dtype='object')"
      ]
     },
     "execution_count": 47,
     "metadata": {},
     "output_type": "execute_result"
    }
   ],
   "source": [
    "df.columns"
   ]
  },
  {
   "cell_type": "code",
   "execution_count": 48,
   "metadata": {},
   "outputs": [
    {
     "data": {
      "text/html": [
       "<div>\n",
       "<style scoped>\n",
       "    .dataframe tbody tr th:only-of-type {\n",
       "        vertical-align: middle;\n",
       "    }\n",
       "\n",
       "    .dataframe tbody tr th {\n",
       "        vertical-align: top;\n",
       "    }\n",
       "\n",
       "    .dataframe thead th {\n",
       "        text-align: right;\n",
       "    }\n",
       "</style>\n",
       "<table border=\"1\" class=\"dataframe\">\n",
       "  <thead>\n",
       "    <tr style=\"text-align: right;\">\n",
       "      <th></th>\n",
       "      <th>CTLG_PROD_ID</th>\n",
       "      <th>count</th>\n",
       "      <th>mean</th>\n",
       "      <th>std</th>\n",
       "      <th>min</th>\n",
       "      <th>25%</th>\n",
       "      <th>50%</th>\n",
       "      <th>75%</th>\n",
       "      <th>max</th>\n",
       "      <th>ORD_ORDER_ID</th>\n",
       "      <th>...</th>\n",
       "      <th>is_buybox</th>\n",
       "      <th>has_bpp</th>\n",
       "      <th>has_claim_seller</th>\n",
       "      <th>is_refund</th>\n",
       "      <th>bpp_cashout_final</th>\n",
       "      <th>bad_order</th>\n",
       "      <th>Low25_Price</th>\n",
       "      <th>Middle_Price</th>\n",
       "      <th>High75_Price</th>\n",
       "      <th>Price_Range</th>\n",
       "    </tr>\n",
       "  </thead>\n",
       "  <tbody>\n",
       "    <tr>\n",
       "      <th>0</th>\n",
       "      <td>633</td>\n",
       "      <td>5.0</td>\n",
       "      <td>41.338</td>\n",
       "      <td>4.864187</td>\n",
       "      <td>37.5</td>\n",
       "      <td>37.5</td>\n",
       "      <td>38.86</td>\n",
       "      <td>44.48</td>\n",
       "      <td>48.35</td>\n",
       "      <td>4657437874</td>\n",
       "      <td>...</td>\n",
       "      <td>0</td>\n",
       "      <td>1</td>\n",
       "      <td>1</td>\n",
       "      <td>1.0</td>\n",
       "      <td>0.0</td>\n",
       "      <td>1</td>\n",
       "      <td>0</td>\n",
       "      <td>0</td>\n",
       "      <td>1</td>\n",
       "      <td>high_75</td>\n",
       "    </tr>\n",
       "    <tr>\n",
       "      <th>1</th>\n",
       "      <td>633</td>\n",
       "      <td>5.0</td>\n",
       "      <td>41.338</td>\n",
       "      <td>4.864187</td>\n",
       "      <td>37.5</td>\n",
       "      <td>37.5</td>\n",
       "      <td>38.86</td>\n",
       "      <td>44.48</td>\n",
       "      <td>48.35</td>\n",
       "      <td>4663135807</td>\n",
       "      <td>...</td>\n",
       "      <td>0</td>\n",
       "      <td>0</td>\n",
       "      <td>0</td>\n",
       "      <td>0.0</td>\n",
       "      <td>0.0</td>\n",
       "      <td>0</td>\n",
       "      <td>0</td>\n",
       "      <td>1</td>\n",
       "      <td>0</td>\n",
       "      <td>middle</td>\n",
       "    </tr>\n",
       "    <tr>\n",
       "      <th>2</th>\n",
       "      <td>633</td>\n",
       "      <td>5.0</td>\n",
       "      <td>41.338</td>\n",
       "      <td>4.864187</td>\n",
       "      <td>37.5</td>\n",
       "      <td>37.5</td>\n",
       "      <td>38.86</td>\n",
       "      <td>44.48</td>\n",
       "      <td>48.35</td>\n",
       "      <td>4613961317</td>\n",
       "      <td>...</td>\n",
       "      <td>1</td>\n",
       "      <td>0</td>\n",
       "      <td>0</td>\n",
       "      <td>0.0</td>\n",
       "      <td>0.0</td>\n",
       "      <td>0</td>\n",
       "      <td>0</td>\n",
       "      <td>1</td>\n",
       "      <td>0</td>\n",
       "      <td>middle</td>\n",
       "    </tr>\n",
       "    <tr>\n",
       "      <th>3</th>\n",
       "      <td>633</td>\n",
       "      <td>5.0</td>\n",
       "      <td>41.338</td>\n",
       "      <td>4.864187</td>\n",
       "      <td>37.5</td>\n",
       "      <td>37.5</td>\n",
       "      <td>38.86</td>\n",
       "      <td>44.48</td>\n",
       "      <td>48.35</td>\n",
       "      <td>4623483089</td>\n",
       "      <td>...</td>\n",
       "      <td>1</td>\n",
       "      <td>1</td>\n",
       "      <td>0</td>\n",
       "      <td>1.0</td>\n",
       "      <td>0.0</td>\n",
       "      <td>1</td>\n",
       "      <td>0</td>\n",
       "      <td>1</td>\n",
       "      <td>0</td>\n",
       "      <td>middle</td>\n",
       "    </tr>\n",
       "    <tr>\n",
       "      <th>4</th>\n",
       "      <td>633</td>\n",
       "      <td>5.0</td>\n",
       "      <td>41.338</td>\n",
       "      <td>4.864187</td>\n",
       "      <td>37.5</td>\n",
       "      <td>37.5</td>\n",
       "      <td>38.86</td>\n",
       "      <td>44.48</td>\n",
       "      <td>48.35</td>\n",
       "      <td>4672212277</td>\n",
       "      <td>...</td>\n",
       "      <td>0</td>\n",
       "      <td>0</td>\n",
       "      <td>0</td>\n",
       "      <td>0.0</td>\n",
       "      <td>0.0</td>\n",
       "      <td>0</td>\n",
       "      <td>0</td>\n",
       "      <td>1</td>\n",
       "      <td>0</td>\n",
       "      <td>middle</td>\n",
       "    </tr>\n",
       "  </tbody>\n",
       "</table>\n",
       "<p>5 rows × 27 columns</p>\n",
       "</div>"
      ],
      "text/plain": [
       "   CTLG_PROD_ID  count    mean       std   min   25%    50%    75%    max  \\\n",
       "0           633    5.0  41.338  4.864187  37.5  37.5  38.86  44.48  48.35   \n",
       "1           633    5.0  41.338  4.864187  37.5  37.5  38.86  44.48  48.35   \n",
       "2           633    5.0  41.338  4.864187  37.5  37.5  38.86  44.48  48.35   \n",
       "3           633    5.0  41.338  4.864187  37.5  37.5  38.86  44.48  48.35   \n",
       "4           633    5.0  41.338  4.864187  37.5  37.5  38.86  44.48  48.35   \n",
       "\n",
       "   ORD_ORDER_ID  ...  is_buybox  has_bpp  has_claim_seller  is_refund  \\\n",
       "0    4657437874  ...          0        1                 1        1.0   \n",
       "1    4663135807  ...          0        0                 0        0.0   \n",
       "2    4613961317  ...          1        0                 0        0.0   \n",
       "3    4623483089  ...          1        1                 0        1.0   \n",
       "4    4672212277  ...          0        0                 0        0.0   \n",
       "\n",
       "   bpp_cashout_final  bad_order  Low25_Price  Middle_Price  High75_Price  \\\n",
       "0                0.0          1            0             0             1   \n",
       "1                0.0          0            0             1             0   \n",
       "2                0.0          0            0             1             0   \n",
       "3                0.0          1            0             1             0   \n",
       "4                0.0          0            0             1             0   \n",
       "\n",
       "   Price_Range  \n",
       "0      high_75  \n",
       "1       middle  \n",
       "2       middle  \n",
       "3       middle  \n",
       "4       middle  \n",
       "\n",
       "[5 rows x 27 columns]"
      ]
     },
     "execution_count": 48,
     "metadata": {},
     "output_type": "execute_result"
    }
   ],
   "source": [
    "df.head(5)"
   ]
  },
  {
   "cell_type": "markdown",
   "metadata": {},
   "source": [
    "## Join the DF STD with the rest of the info"
   ]
  },
  {
   "cell_type": "code",
   "execution_count": 49,
   "metadata": {},
   "outputs": [],
   "source": [
    "df_red = df.drop(columns=['count','mean','std','min','25%','50%','75%','max','Low25_Price','Middle_Price','High75_Price','Price_Range'])\n",
    "\n",
    "df_s = pd.merge(left = df_red, right = df_std,\n",
    "                how = 'inner',\n",
    "                left_on='CTLG_PROD_ID', right_on='CTLG_PROD_ID')"
   ]
  },
  {
   "cell_type": "code",
   "execution_count": 50,
   "metadata": {},
   "outputs": [
    {
     "data": {
      "text/html": [
       "<div>\n",
       "<style scoped>\n",
       "    .dataframe tbody tr th:only-of-type {\n",
       "        vertical-align: middle;\n",
       "    }\n",
       "\n",
       "    .dataframe tbody tr th {\n",
       "        vertical-align: top;\n",
       "    }\n",
       "\n",
       "    .dataframe thead th {\n",
       "        text-align: right;\n",
       "    }\n",
       "</style>\n",
       "<table border=\"1\" class=\"dataframe\">\n",
       "  <thead>\n",
       "    <tr style=\"text-align: right;\">\n",
       "      <th></th>\n",
       "      <th>CTLG_PROD_ID</th>\n",
       "      <th>ORD_ORDER_ID</th>\n",
       "      <th>CUS_CUST_ID_SEL</th>\n",
       "      <th>ITE_ITEM_ID</th>\n",
       "      <th>ITE_BASE_CURRENT_PRICE</th>\n",
       "      <th>active_item</th>\n",
       "      <th>flag_bad_item</th>\n",
       "      <th>flag_bad_user</th>\n",
       "      <th>order_trusted</th>\n",
       "      <th>is_buybox</th>\n",
       "      <th>...</th>\n",
       "      <th>mean</th>\n",
       "      <th>STDx1</th>\n",
       "      <th>STDx1.25</th>\n",
       "      <th>STDx1.5</th>\n",
       "      <th>STDx1.75</th>\n",
       "      <th>STDx2</th>\n",
       "      <th>STDx2.25</th>\n",
       "      <th>STDx2.5</th>\n",
       "      <th>STDx2.75</th>\n",
       "      <th>STDx3</th>\n",
       "    </tr>\n",
       "  </thead>\n",
       "  <tbody>\n",
       "    <tr>\n",
       "      <th>868103</th>\n",
       "      <td>16157795</td>\n",
       "      <td>4621789919</td>\n",
       "      <td>130090710</td>\n",
       "      <td>1744844288</td>\n",
       "      <td>75.86</td>\n",
       "      <td>1</td>\n",
       "      <td>0</td>\n",
       "      <td>0</td>\n",
       "      <td>1</td>\n",
       "      <td>1</td>\n",
       "      <td>...</td>\n",
       "      <td>80.66</td>\n",
       "      <td>2.42</td>\n",
       "      <td>3.02</td>\n",
       "      <td>3.62</td>\n",
       "      <td>4.23</td>\n",
       "      <td>4.83</td>\n",
       "      <td>5.43</td>\n",
       "      <td>6.04</td>\n",
       "      <td>6.64</td>\n",
       "      <td>7.25</td>\n",
       "    </tr>\n",
       "    <tr>\n",
       "      <th>483383</th>\n",
       "      <td>15285466</td>\n",
       "      <td>4676758414</td>\n",
       "      <td>63258297</td>\n",
       "      <td>1855310543</td>\n",
       "      <td>23.18</td>\n",
       "      <td>0</td>\n",
       "      <td>0</td>\n",
       "      <td>0</td>\n",
       "      <td>1</td>\n",
       "      <td>1</td>\n",
       "      <td>...</td>\n",
       "      <td>20.07</td>\n",
       "      <td>2.23</td>\n",
       "      <td>2.79</td>\n",
       "      <td>3.35</td>\n",
       "      <td>3.91</td>\n",
       "      <td>4.47</td>\n",
       "      <td>5.03</td>\n",
       "      <td>5.59</td>\n",
       "      <td>6.14</td>\n",
       "      <td>6.70</td>\n",
       "    </tr>\n",
       "    <tr>\n",
       "      <th>775760</th>\n",
       "      <td>15984003</td>\n",
       "      <td>4670977913</td>\n",
       "      <td>414872503</td>\n",
       "      <td>1689031432</td>\n",
       "      <td>52.99</td>\n",
       "      <td>0</td>\n",
       "      <td>0</td>\n",
       "      <td>0</td>\n",
       "      <td>1</td>\n",
       "      <td>1</td>\n",
       "      <td>...</td>\n",
       "      <td>58.16</td>\n",
       "      <td>15.25</td>\n",
       "      <td>19.06</td>\n",
       "      <td>22.87</td>\n",
       "      <td>26.68</td>\n",
       "      <td>30.50</td>\n",
       "      <td>34.31</td>\n",
       "      <td>38.12</td>\n",
       "      <td>41.93</td>\n",
       "      <td>45.75</td>\n",
       "    </tr>\n",
       "    <tr>\n",
       "      <th>16276</th>\n",
       "      <td>6064933</td>\n",
       "      <td>4619742530</td>\n",
       "      <td>231800351</td>\n",
       "      <td>1835096080</td>\n",
       "      <td>11.93</td>\n",
       "      <td>0</td>\n",
       "      <td>0</td>\n",
       "      <td>0</td>\n",
       "      <td>1</td>\n",
       "      <td>1</td>\n",
       "      <td>...</td>\n",
       "      <td>14.22</td>\n",
       "      <td>2.69</td>\n",
       "      <td>3.36</td>\n",
       "      <td>4.04</td>\n",
       "      <td>4.71</td>\n",
       "      <td>5.38</td>\n",
       "      <td>6.05</td>\n",
       "      <td>6.73</td>\n",
       "      <td>7.40</td>\n",
       "      <td>8.07</td>\n",
       "    </tr>\n",
       "    <tr>\n",
       "      <th>1047403</th>\n",
       "      <td>17796173</td>\n",
       "      <td>4661088875</td>\n",
       "      <td>38397328</td>\n",
       "      <td>1870225169</td>\n",
       "      <td>60.73</td>\n",
       "      <td>1</td>\n",
       "      <td>0</td>\n",
       "      <td>0</td>\n",
       "      <td>0</td>\n",
       "      <td>0</td>\n",
       "      <td>...</td>\n",
       "      <td>56.72</td>\n",
       "      <td>17.29</td>\n",
       "      <td>21.61</td>\n",
       "      <td>25.93</td>\n",
       "      <td>30.25</td>\n",
       "      <td>34.57</td>\n",
       "      <td>38.90</td>\n",
       "      <td>43.22</td>\n",
       "      <td>47.54</td>\n",
       "      <td>51.86</td>\n",
       "    </tr>\n",
       "  </tbody>\n",
       "</table>\n",
       "<p>5 rows × 25 columns</p>\n",
       "</div>"
      ],
      "text/plain": [
       "         CTLG_PROD_ID  ORD_ORDER_ID  CUS_CUST_ID_SEL  ITE_ITEM_ID  \\\n",
       "868103       16157795    4621789919        130090710   1744844288   \n",
       "483383       15285466    4676758414         63258297   1855310543   \n",
       "775760       15984003    4670977913        414872503   1689031432   \n",
       "16276         6064933    4619742530        231800351   1835096080   \n",
       "1047403      17796173    4661088875         38397328   1870225169   \n",
       "\n",
       "         ITE_BASE_CURRENT_PRICE  active_item  flag_bad_item  flag_bad_user  \\\n",
       "868103                    75.86            1              0              0   \n",
       "483383                    23.18            0              0              0   \n",
       "775760                    52.99            0              0              0   \n",
       "16276                     11.93            0              0              0   \n",
       "1047403                   60.73            1              0              0   \n",
       "\n",
       "         order_trusted  is_buybox  ...   mean  STDx1  STDx1.25  STDx1.5  \\\n",
       "868103               1          1  ...  80.66   2.42      3.02     3.62   \n",
       "483383               1          1  ...  20.07   2.23      2.79     3.35   \n",
       "775760               1          1  ...  58.16  15.25     19.06    22.87   \n",
       "16276                1          1  ...  14.22   2.69      3.36     4.04   \n",
       "1047403              0          0  ...  56.72  17.29     21.61    25.93   \n",
       "\n",
       "         STDx1.75  STDx2  STDx2.25  STDx2.5  STDx2.75  STDx3  \n",
       "868103       4.23   4.83      5.43     6.04      6.64   7.25  \n",
       "483383       3.91   4.47      5.03     5.59      6.14   6.70  \n",
       "775760      26.68  30.50     34.31    38.12     41.93  45.75  \n",
       "16276        4.71   5.38      6.05     6.73      7.40   8.07  \n",
       "1047403     30.25  34.57     38.90    43.22     47.54  51.86  \n",
       "\n",
       "[5 rows x 25 columns]"
      ]
     },
     "execution_count": 50,
     "metadata": {},
     "output_type": "execute_result"
    }
   ],
   "source": [
    "df_s.sample(5)"
   ]
  },
  {
   "cell_type": "code",
   "execution_count": 51,
   "metadata": {},
   "outputs": [
    {
     "data": {
      "text/plain": [
       "Index(['CTLG_PROD_ID', 'ORD_ORDER_ID', 'CUS_CUST_ID_SEL', 'ITE_ITEM_ID',\n",
       "       'ITE_BASE_CURRENT_PRICE', 'active_item', 'flag_bad_item',\n",
       "       'flag_bad_user', 'order_trusted', 'is_buybox', 'has_bpp',\n",
       "       'has_claim_seller', 'is_refund', 'bpp_cashout_final', 'bad_order',\n",
       "       'mean', 'STDx1', 'STDx1.25', 'STDx1.5', 'STDx1.75', 'STDx2', 'STDx2.25',\n",
       "       'STDx2.5', 'STDx2.75', 'STDx3'],\n",
       "      dtype='object')"
      ]
     },
     "execution_count": 51,
     "metadata": {},
     "output_type": "execute_result"
    }
   ],
   "source": [
    "df_s.columns"
   ]
  },
  {
   "cell_type": "markdown",
   "metadata": {},
   "source": [
    "## Create column flag below STD"
   ]
  },
  {
   "cell_type": "code",
   "execution_count": 52,
   "metadata": {},
   "outputs": [],
   "source": [
    "df_s['media-1std'] = df_s['mean'] - df_s['STDx1']\n",
    "df_s['media-1.25std'] = df_s['mean'] - df_s['STDx1.25']\n",
    "df_s['media-1.5std'] = df_s['mean'] - df_s['STDx1.5']\n",
    "df_s['media-1.75std'] = df_s['mean'] - df_s['STDx1.75']\n",
    "df_s['media-2std'] = df_s['mean'] - df_s['STDx2']\n",
    "df_s['media-2.25std'] = df_s['mean'] - df_s['STDx2.25']\n",
    "df_s['media-2.5std'] = df_s['mean'] - df_s['STDx2.5']\n",
    "df_s['media-2.75std'] = df_s['mean'] - df_s['STDx2.75']\n",
    "df_s['media-3std'] = df_s['mean'] - df_s['STDx3']"
   ]
  },
  {
   "cell_type": "code",
   "execution_count": 53,
   "metadata": {},
   "outputs": [],
   "source": [
    "df_s['Low_1STD'] = df_s.apply(lambda x: 1 if x['media-1std'] > x['ITE_BASE_CURRENT_PRICE'] else 0, axis=1)\n",
    "df_s['Low_1.25STD'] = df_s.apply(lambda x: 1 if x['media-1.25std'] > x['ITE_BASE_CURRENT_PRICE'] else 0, axis=1)\n",
    "df_s['Low_1.5STD'] = df_s.apply(lambda x: 1 if x['media-1.5std'] > x['ITE_BASE_CURRENT_PRICE'] else 0, axis=1)\n",
    "df_s['Low_1.75STD'] = df_s.apply(lambda x: 1 if x['media-1.75std'] > x['ITE_BASE_CURRENT_PRICE'] else 0, axis=1)\n",
    "df_s['Low_2STD'] = df_s.apply(lambda x: 1 if x['media-2std'] > x['ITE_BASE_CURRENT_PRICE'] else 0, axis=1)\n",
    "df_s['Low_2.25STD'] = df_s.apply(lambda x: 1 if x['media-2.25std'] > x['ITE_BASE_CURRENT_PRICE'] else 0, axis=1)\n",
    "df_s['Low_2.5STD'] = df_s.apply(lambda x: 1 if x['media-2.5std'] > x['ITE_BASE_CURRENT_PRICE'] else 0, axis=1)\n",
    "df_s['Low_2.75STD'] = df_s.apply(lambda x: 1 if x['media-2.75std'] > x['ITE_BASE_CURRENT_PRICE'] else 0, axis=1)\n",
    "df_s['Low_3STD'] = df_s.apply(lambda x: 1 if x['media-3std'] > x['ITE_BASE_CURRENT_PRICE'] else 0, axis=1)"
   ]
  },
  {
   "cell_type": "markdown",
   "metadata": {},
   "source": [
    "## Create column flag over STD"
   ]
  },
  {
   "cell_type": "code",
   "execution_count": 54,
   "metadata": {},
   "outputs": [],
   "source": [
    "df_s['media+1std'] = df_s['mean'] + df_s['STDx1']\n",
    "df_s['media+1.25std'] = df_s['mean'] + df_s['STDx1.25']\n",
    "df_s['media+1.5std'] = df_s['mean'] + df_s['STDx1.5']\n",
    "df_s['media+1.75std'] = df_s['mean'] + df_s['STDx1.75']\n",
    "df_s['media+2std'] = df_s['mean'] + df_s['STDx2']\n",
    "df_s['media+2.25std'] = df_s['mean'] + df_s['STDx2.25']\n",
    "df_s['media+2.5std'] = df_s['mean'] + df_s['STDx2.5']\n",
    "df_s['media+2.75std'] = df_s['mean'] + df_s['STDx2.75']\n",
    "df_s['media+3std'] = df_s['mean'] + df_s['STDx3']"
   ]
  },
  {
   "cell_type": "code",
   "execution_count": 55,
   "metadata": {},
   "outputs": [],
   "source": [
    "df_s['High_1STD'] = df_s.apply(lambda x: 1 if x['media+1std'] < x['ITE_BASE_CURRENT_PRICE'] else 0, axis=1)\n",
    "df_s['High_1.25STD'] = df_s.apply(lambda x: 1 if x['media+1.25std'] < x['ITE_BASE_CURRENT_PRICE'] else 0, axis=1)\n",
    "df_s['High_1.5STD'] = df_s.apply(lambda x: 1 if x['media+1.5std'] < x['ITE_BASE_CURRENT_PRICE'] else 0, axis=1)\n",
    "df_s['High_1.75STD'] = df_s.apply(lambda x: 1 if x['media+1.75std'] < x['ITE_BASE_CURRENT_PRICE'] else 0, axis=1)\n",
    "df_s['High_2STD'] = df_s.apply(lambda x: 1 if x['media+2std'] < x['ITE_BASE_CURRENT_PRICE'] else 0, axis=1)\n",
    "df_s['High_2.25STD'] = df_s.apply(lambda x: 1 if x['media+2.25std'] < x['ITE_BASE_CURRENT_PRICE'] else 0, axis=1)\n",
    "df_s['High_2.5STD'] = df_s.apply(lambda x: 1 if x['media+2.5std'] < x['ITE_BASE_CURRENT_PRICE'] else 0, axis=1)\n",
    "df_s['High_2.75STD'] = df_s.apply(lambda x: 1 if x['media+2.75std'] < x['ITE_BASE_CURRENT_PRICE'] else 0, axis=1)\n",
    "df_s['High_3STD'] = df_s.apply(lambda x: 1 if x['media+3std'] < x['ITE_BASE_CURRENT_PRICE'] else 0, axis=1)"
   ]
  },
  {
   "cell_type": "markdown",
   "metadata": {},
   "source": [
    "## Create column flag STD_range"
   ]
  },
  {
   "cell_type": "code",
   "execution_count": 56,
   "metadata": {},
   "outputs": [],
   "source": [
    "df_s['1STD_Range'] = df_s.apply(lambda x:'low_STD' if x['Low_1STD']== 1 else('high_STD' if  x['High_1STD']==1  else 'middle_STD'),axis=1)\n",
    "df_s['1.25STD_Range'] = df_s.apply(lambda x:'low_STD' if x['Low_1.25STD']== 1 else('high_STD' if  x['High_1.25STD']==1  else 'middle_STD'),axis=1)\n",
    "df_s['1.5STD_Range'] = df_s.apply(lambda x:'low_STD' if x['Low_1.5STD']== 1 else('high_STD' if  x['High_1.5STD']==1  else 'middle_STD'),axis=1)\n",
    "df_s['1.75STD_Range'] = df_s.apply(lambda x:'low_STD' if x['Low_1.75STD']== 1 else('high_STD' if  x['High_1.75STD']==1  else 'middle_STD'),axis=1)\n",
    "df_s['2STD_Range'] = df_s.apply(lambda x:'low_STD' if x['Low_2STD']== 1 else('high_STD' if  x['High_2STD']==1  else 'middle_STD'),axis=1)\n",
    "df_s['2.25STD_Range'] = df_s.apply(lambda x:'low_STD' if x['Low_2.25STD']== 1 else('high_STD' if  x['High_2.25STD']==1  else 'middle_STD'),axis=1)\n",
    "df_s['2.5STD_Range'] = df_s.apply(lambda x:'low_STD' if x['Low_2.5STD']== 1 else('high_STD' if  x['High_2.5STD']==1  else 'middle_STD'),axis=1)\n",
    "df_s['2.75STD_Range'] = df_s.apply(lambda x:'low_STD' if x['Low_2.75STD']== 1 else('high_STD' if  x['High_2.75STD']==1  else 'middle_STD'),axis=1)\n",
    "df_s['3STD_Range'] = df_s.apply(lambda x:'low_STD' if x['Low_3STD']== 1 else('high_STD' if  x['High_3STD']==1  else 'middle_STD'),axis=1)\n"
   ]
  },
  {
   "cell_type": "code",
   "execution_count": 57,
   "metadata": {},
   "outputs": [
    {
     "data": {
      "text/plain": [
       "Index(['CTLG_PROD_ID', 'ORD_ORDER_ID', 'CUS_CUST_ID_SEL', 'ITE_ITEM_ID',\n",
       "       'ITE_BASE_CURRENT_PRICE', 'active_item', 'flag_bad_item',\n",
       "       'flag_bad_user', 'order_trusted', 'is_buybox', 'has_bpp',\n",
       "       'has_claim_seller', 'is_refund', 'bpp_cashout_final', 'bad_order',\n",
       "       'mean', 'STDx1', 'STDx1.25', 'STDx1.5', 'STDx1.75', 'STDx2', 'STDx2.25',\n",
       "       'STDx2.5', 'STDx2.75', 'STDx3', 'media-1std', 'media-1.25std',\n",
       "       'media-1.5std', 'media-1.75std', 'media-2std', 'media-2.25std',\n",
       "       'media-2.5std', 'media-2.75std', 'media-3std', 'Low_1STD',\n",
       "       'Low_1.25STD', 'Low_1.5STD', 'Low_1.75STD', 'Low_2STD', 'Low_2.25STD',\n",
       "       'Low_2.5STD', 'Low_2.75STD', 'Low_3STD', 'media+1std', 'media+1.25std',\n",
       "       'media+1.5std', 'media+1.75std', 'media+2std', 'media+2.25std',\n",
       "       'media+2.5std', 'media+2.75std', 'media+3std', 'High_1STD',\n",
       "       'High_1.25STD', 'High_1.5STD', 'High_1.75STD', 'High_2STD',\n",
       "       'High_2.25STD', 'High_2.5STD', 'High_2.75STD', 'High_3STD',\n",
       "       '1STD_Range', '1.25STD_Range', '1.5STD_Range', '1.75STD_Range',\n",
       "       '2STD_Range', '2.25STD_Range', '2.5STD_Range', '2.75STD_Range',\n",
       "       '3STD_Range'],\n",
       "      dtype='object')"
      ]
     },
     "execution_count": 57,
     "metadata": {},
     "output_type": "execute_result"
    }
   ],
   "source": [
    "df_s.columns"
   ]
  },
  {
   "cell_type": "code",
   "execution_count": 58,
   "metadata": {},
   "outputs": [
    {
     "data": {
      "text/html": [
       "<div>\n",
       "<style scoped>\n",
       "    .dataframe tbody tr th:only-of-type {\n",
       "        vertical-align: middle;\n",
       "    }\n",
       "\n",
       "    .dataframe tbody tr th {\n",
       "        vertical-align: top;\n",
       "    }\n",
       "\n",
       "    .dataframe thead th {\n",
       "        text-align: right;\n",
       "    }\n",
       "</style>\n",
       "<table border=\"1\" class=\"dataframe\">\n",
       "  <thead>\n",
       "    <tr style=\"text-align: right;\">\n",
       "      <th></th>\n",
       "      <th>CTLG_PROD_ID</th>\n",
       "      <th>ORD_ORDER_ID</th>\n",
       "      <th>CUS_CUST_ID_SEL</th>\n",
       "      <th>ITE_ITEM_ID</th>\n",
       "      <th>ITE_BASE_CURRENT_PRICE</th>\n",
       "      <th>active_item</th>\n",
       "      <th>flag_bad_item</th>\n",
       "      <th>flag_bad_user</th>\n",
       "      <th>order_trusted</th>\n",
       "      <th>is_buybox</th>\n",
       "      <th>...</th>\n",
       "      <th>High_3STD</th>\n",
       "      <th>1STD_Range</th>\n",
       "      <th>1.25STD_Range</th>\n",
       "      <th>1.5STD_Range</th>\n",
       "      <th>1.75STD_Range</th>\n",
       "      <th>2STD_Range</th>\n",
       "      <th>2.25STD_Range</th>\n",
       "      <th>2.5STD_Range</th>\n",
       "      <th>2.75STD_Range</th>\n",
       "      <th>3STD_Range</th>\n",
       "    </tr>\n",
       "  </thead>\n",
       "  <tbody>\n",
       "    <tr>\n",
       "      <th>1051789</th>\n",
       "      <td>17823392</td>\n",
       "      <td>4670022987</td>\n",
       "      <td>418149407</td>\n",
       "      <td>1832342815</td>\n",
       "      <td>83.48</td>\n",
       "      <td>1</td>\n",
       "      <td>0</td>\n",
       "      <td>0</td>\n",
       "      <td>1</td>\n",
       "      <td>0</td>\n",
       "      <td>...</td>\n",
       "      <td>0</td>\n",
       "      <td>middle_STD</td>\n",
       "      <td>middle_STD</td>\n",
       "      <td>middle_STD</td>\n",
       "      <td>middle_STD</td>\n",
       "      <td>middle_STD</td>\n",
       "      <td>middle_STD</td>\n",
       "      <td>middle_STD</td>\n",
       "      <td>middle_STD</td>\n",
       "      <td>middle_STD</td>\n",
       "    </tr>\n",
       "    <tr>\n",
       "      <th>200878</th>\n",
       "      <td>8923630</td>\n",
       "      <td>4648011457</td>\n",
       "      <td>116155669</td>\n",
       "      <td>1471283996</td>\n",
       "      <td>87.49</td>\n",
       "      <td>1</td>\n",
       "      <td>0</td>\n",
       "      <td>0</td>\n",
       "      <td>1</td>\n",
       "      <td>0</td>\n",
       "      <td>...</td>\n",
       "      <td>1</td>\n",
       "      <td>high_STD</td>\n",
       "      <td>high_STD</td>\n",
       "      <td>high_STD</td>\n",
       "      <td>high_STD</td>\n",
       "      <td>high_STD</td>\n",
       "      <td>high_STD</td>\n",
       "      <td>high_STD</td>\n",
       "      <td>high_STD</td>\n",
       "      <td>high_STD</td>\n",
       "    </tr>\n",
       "    <tr>\n",
       "      <th>11160</th>\n",
       "      <td>6062308</td>\n",
       "      <td>4609933737</td>\n",
       "      <td>308986917</td>\n",
       "      <td>1850098857</td>\n",
       "      <td>10.50</td>\n",
       "      <td>0</td>\n",
       "      <td>0</td>\n",
       "      <td>1</td>\n",
       "      <td>1</td>\n",
       "      <td>1</td>\n",
       "      <td>...</td>\n",
       "      <td>0</td>\n",
       "      <td>middle_STD</td>\n",
       "      <td>middle_STD</td>\n",
       "      <td>middle_STD</td>\n",
       "      <td>middle_STD</td>\n",
       "      <td>middle_STD</td>\n",
       "      <td>middle_STD</td>\n",
       "      <td>middle_STD</td>\n",
       "      <td>middle_STD</td>\n",
       "      <td>middle_STD</td>\n",
       "    </tr>\n",
       "    <tr>\n",
       "      <th>305547</th>\n",
       "      <td>13300825</td>\n",
       "      <td>4672252609</td>\n",
       "      <td>566826182</td>\n",
       "      <td>1870038579</td>\n",
       "      <td>26.68</td>\n",
       "      <td>1</td>\n",
       "      <td>0</td>\n",
       "      <td>0</td>\n",
       "      <td>1</td>\n",
       "      <td>0</td>\n",
       "      <td>...</td>\n",
       "      <td>0</td>\n",
       "      <td>low_STD</td>\n",
       "      <td>low_STD</td>\n",
       "      <td>low_STD</td>\n",
       "      <td>middle_STD</td>\n",
       "      <td>middle_STD</td>\n",
       "      <td>middle_STD</td>\n",
       "      <td>middle_STD</td>\n",
       "      <td>middle_STD</td>\n",
       "      <td>middle_STD</td>\n",
       "    </tr>\n",
       "    <tr>\n",
       "      <th>786646</th>\n",
       "      <td>16002633</td>\n",
       "      <td>4618812315</td>\n",
       "      <td>267892530</td>\n",
       "      <td>1715461575</td>\n",
       "      <td>512.52</td>\n",
       "      <td>1</td>\n",
       "      <td>0</td>\n",
       "      <td>0</td>\n",
       "      <td>1</td>\n",
       "      <td>1</td>\n",
       "      <td>...</td>\n",
       "      <td>0</td>\n",
       "      <td>middle_STD</td>\n",
       "      <td>middle_STD</td>\n",
       "      <td>middle_STD</td>\n",
       "      <td>middle_STD</td>\n",
       "      <td>middle_STD</td>\n",
       "      <td>middle_STD</td>\n",
       "      <td>middle_STD</td>\n",
       "      <td>middle_STD</td>\n",
       "      <td>middle_STD</td>\n",
       "    </tr>\n",
       "  </tbody>\n",
       "</table>\n",
       "<p>5 rows × 70 columns</p>\n",
       "</div>"
      ],
      "text/plain": [
       "         CTLG_PROD_ID  ORD_ORDER_ID  CUS_CUST_ID_SEL  ITE_ITEM_ID  \\\n",
       "1051789      17823392    4670022987        418149407   1832342815   \n",
       "200878        8923630    4648011457        116155669   1471283996   \n",
       "11160         6062308    4609933737        308986917   1850098857   \n",
       "305547       13300825    4672252609        566826182   1870038579   \n",
       "786646       16002633    4618812315        267892530   1715461575   \n",
       "\n",
       "         ITE_BASE_CURRENT_PRICE  active_item  flag_bad_item  flag_bad_user  \\\n",
       "1051789                   83.48            1              0              0   \n",
       "200878                    87.49            1              0              0   \n",
       "11160                     10.50            0              0              1   \n",
       "305547                    26.68            1              0              0   \n",
       "786646                   512.52            1              0              0   \n",
       "\n",
       "         order_trusted  is_buybox  ...  High_3STD  1STD_Range  1.25STD_Range  \\\n",
       "1051789              1          0  ...          0  middle_STD     middle_STD   \n",
       "200878               1          0  ...          1    high_STD       high_STD   \n",
       "11160                1          1  ...          0  middle_STD     middle_STD   \n",
       "305547               1          0  ...          0     low_STD        low_STD   \n",
       "786646               1          1  ...          0  middle_STD     middle_STD   \n",
       "\n",
       "         1.5STD_Range  1.75STD_Range  2STD_Range  2.25STD_Range  2.5STD_Range  \\\n",
       "1051789    middle_STD     middle_STD  middle_STD     middle_STD    middle_STD   \n",
       "200878       high_STD       high_STD    high_STD       high_STD      high_STD   \n",
       "11160      middle_STD     middle_STD  middle_STD     middle_STD    middle_STD   \n",
       "305547        low_STD     middle_STD  middle_STD     middle_STD    middle_STD   \n",
       "786646     middle_STD     middle_STD  middle_STD     middle_STD    middle_STD   \n",
       "\n",
       "         2.75STD_Range  3STD_Range  \n",
       "1051789     middle_STD  middle_STD  \n",
       "200878        high_STD    high_STD  \n",
       "11160       middle_STD  middle_STD  \n",
       "305547      middle_STD  middle_STD  \n",
       "786646      middle_STD  middle_STD  \n",
       "\n",
       "[5 rows x 70 columns]"
      ]
     },
     "execution_count": 58,
     "metadata": {},
     "output_type": "execute_result"
    }
   ],
   "source": [
    "df_s.sample(5)"
   ]
  },
  {
   "cell_type": "code",
   "execution_count": 59,
   "metadata": {},
   "outputs": [
    {
     "data": {
      "text/html": [
       "<div>\n",
       "<style scoped>\n",
       "    .dataframe tbody tr th:only-of-type {\n",
       "        vertical-align: middle;\n",
       "    }\n",
       "\n",
       "    .dataframe tbody tr th {\n",
       "        vertical-align: top;\n",
       "    }\n",
       "\n",
       "    .dataframe thead th {\n",
       "        text-align: right;\n",
       "    }\n",
       "</style>\n",
       "<table border=\"1\" class=\"dataframe\">\n",
       "  <thead>\n",
       "    <tr style=\"text-align: right;\">\n",
       "      <th></th>\n",
       "      <th>1STD_Range</th>\n",
       "      <th>1.25STD_Range</th>\n",
       "      <th>1.5STD_Range</th>\n",
       "      <th>1.75STD_Range</th>\n",
       "      <th>2STD_Range</th>\n",
       "      <th>2.25STD_Range</th>\n",
       "      <th>2.5STD_Range</th>\n",
       "      <th>2.75STD_Range</th>\n",
       "      <th>3STD_Range</th>\n",
       "      <th>bad_order</th>\n",
       "      <th>ORD_ORDER_ID</th>\n",
       "    </tr>\n",
       "  </thead>\n",
       "  <tbody>\n",
       "    <tr>\n",
       "      <th>64973</th>\n",
       "      <td>middle_STD</td>\n",
       "      <td>middle_STD</td>\n",
       "      <td>middle_STD</td>\n",
       "      <td>middle_STD</td>\n",
       "      <td>middle_STD</td>\n",
       "      <td>middle_STD</td>\n",
       "      <td>middle_STD</td>\n",
       "      <td>middle_STD</td>\n",
       "      <td>middle_STD</td>\n",
       "      <td>0</td>\n",
       "      <td>4668406582</td>\n",
       "    </tr>\n",
       "    <tr>\n",
       "      <th>549954</th>\n",
       "      <td>middle_STD</td>\n",
       "      <td>middle_STD</td>\n",
       "      <td>middle_STD</td>\n",
       "      <td>middle_STD</td>\n",
       "      <td>middle_STD</td>\n",
       "      <td>middle_STD</td>\n",
       "      <td>middle_STD</td>\n",
       "      <td>middle_STD</td>\n",
       "      <td>middle_STD</td>\n",
       "      <td>0</td>\n",
       "      <td>4656729673</td>\n",
       "    </tr>\n",
       "    <tr>\n",
       "      <th>368589</th>\n",
       "      <td>high_STD</td>\n",
       "      <td>high_STD</td>\n",
       "      <td>high_STD</td>\n",
       "      <td>middle_STD</td>\n",
       "      <td>middle_STD</td>\n",
       "      <td>middle_STD</td>\n",
       "      <td>middle_STD</td>\n",
       "      <td>middle_STD</td>\n",
       "      <td>middle_STD</td>\n",
       "      <td>0</td>\n",
       "      <td>4646386656</td>\n",
       "    </tr>\n",
       "    <tr>\n",
       "      <th>607163</th>\n",
       "      <td>middle_STD</td>\n",
       "      <td>middle_STD</td>\n",
       "      <td>middle_STD</td>\n",
       "      <td>middle_STD</td>\n",
       "      <td>middle_STD</td>\n",
       "      <td>middle_STD</td>\n",
       "      <td>middle_STD</td>\n",
       "      <td>middle_STD</td>\n",
       "      <td>middle_STD</td>\n",
       "      <td>0</td>\n",
       "      <td>4625183021</td>\n",
       "    </tr>\n",
       "    <tr>\n",
       "      <th>349144</th>\n",
       "      <td>middle_STD</td>\n",
       "      <td>middle_STD</td>\n",
       "      <td>middle_STD</td>\n",
       "      <td>middle_STD</td>\n",
       "      <td>middle_STD</td>\n",
       "      <td>middle_STD</td>\n",
       "      <td>middle_STD</td>\n",
       "      <td>middle_STD</td>\n",
       "      <td>middle_STD</td>\n",
       "      <td>1</td>\n",
       "      <td>4635444555</td>\n",
       "    </tr>\n",
       "  </tbody>\n",
       "</table>\n",
       "</div>"
      ],
      "text/plain": [
       "        1STD_Range 1.25STD_Range 1.5STD_Range 1.75STD_Range  2STD_Range  \\\n",
       "64973   middle_STD    middle_STD   middle_STD    middle_STD  middle_STD   \n",
       "549954  middle_STD    middle_STD   middle_STD    middle_STD  middle_STD   \n",
       "368589    high_STD      high_STD     high_STD    middle_STD  middle_STD   \n",
       "607163  middle_STD    middle_STD   middle_STD    middle_STD  middle_STD   \n",
       "349144  middle_STD    middle_STD   middle_STD    middle_STD  middle_STD   \n",
       "\n",
       "       2.25STD_Range 2.5STD_Range 2.75STD_Range  3STD_Range  bad_order  \\\n",
       "64973     middle_STD   middle_STD    middle_STD  middle_STD          0   \n",
       "549954    middle_STD   middle_STD    middle_STD  middle_STD          0   \n",
       "368589    middle_STD   middle_STD    middle_STD  middle_STD          0   \n",
       "607163    middle_STD   middle_STD    middle_STD  middle_STD          0   \n",
       "349144    middle_STD   middle_STD    middle_STD  middle_STD          1   \n",
       "\n",
       "        ORD_ORDER_ID  \n",
       "64973     4668406582  \n",
       "549954    4656729673  \n",
       "368589    4646386656  \n",
       "607163    4625183021  \n",
       "349144    4635444555  "
      ]
     },
     "execution_count": 59,
     "metadata": {},
     "output_type": "execute_result"
    }
   ],
   "source": [
    "df_2=df_s[['1STD_Range','1.25STD_Range','1.5STD_Range','1.75STD_Range','2STD_Range','2.25STD_Range','2.5STD_Range','2.75STD_Range','3STD_Range','bad_order','ORD_ORDER_ID']]\n",
    "df_2.sample(5)"
   ]
  },
  {
   "cell_type": "markdown",
   "metadata": {},
   "source": [
    "## Distribution Bad Orders by different STD segments"
   ]
  },
  {
   "cell_type": "code",
   "execution_count": 60,
   "metadata": {},
   "outputs": [],
   "source": [
    "df_1=df_s[['1STD_Range','bad_order','ORD_ORDER_ID']]\n",
    "gb1=df_1.groupby(['1STD_Range','bad_order']).count()\n",
    "gb1=gb1.reset_index()\n",
    "\n",
    "gb2=gb1[['1STD_Range','ORD_ORDER_ID']].groupby(['1STD_Range']).sum()\n",
    "gb2=gb2.reset_index()\n",
    "gb2['TOTAL']=gb2['ORD_ORDER_ID']\n",
    "gb2=gb2[['1STD_Range','TOTAL']]\n",
    "\n",
    "ds_1 = pd.merge(left = gb1, right = gb2,\n",
    "                how = 'inner',\n",
    "                left_on='1STD_Range', right_on='1STD_Range')\n",
    "\n",
    "ds_1['Dis.[%]']=(ds_1['ORD_ORDER_ID']/ds_1['TOTAL'])*100\n",
    "ds_1['Dis.[%]']=ds_1['Dis.[%]'].round(decimals=1)\n",
    "\n",
    "ds_1=ds_1[ds_1['bad_order']==1]\n",
    "#ds_1=ds_1[ds_1['1STD_Range']=='low_STD']"
   ]
  },
  {
   "cell_type": "code",
   "execution_count": 61,
   "metadata": {},
   "outputs": [],
   "source": [
    "df_1=df_s[['1.25STD_Range','bad_order','ORD_ORDER_ID']]\n",
    "gb1=df_1.groupby(['1.25STD_Range','bad_order']).count()\n",
    "gb1=gb1.reset_index()\n",
    "\n",
    "gb2=gb1[['1.25STD_Range','ORD_ORDER_ID']].groupby(['1.25STD_Range']).sum()\n",
    "gb2=gb2.reset_index()\n",
    "gb2['TOTAL']=gb2['ORD_ORDER_ID']\n",
    "gb2=gb2[['1.25STD_Range','TOTAL']]\n",
    "\n",
    "ds_125 = pd.merge(left = gb1, right = gb2,\n",
    "                how = 'inner',\n",
    "                left_on='1.25STD_Range', right_on='1.25STD_Range')\n",
    "\n",
    "ds_125['Dis.[%]']=(ds_125['ORD_ORDER_ID']/ds_125['TOTAL'])*100\n",
    "ds_125['Dis.[%]']=ds_125['Dis.[%]'].round(decimals=1)\n",
    "\n",
    "ds_125=ds_125[ds_125['bad_order']==1]\n",
    "#ds_125=ds_125[ds_125['1.25STD_Range']=='low_STD']"
   ]
  },
  {
   "cell_type": "code",
   "execution_count": 62,
   "metadata": {},
   "outputs": [],
   "source": [
    "df_1=df_s[['1.5STD_Range','bad_order','ORD_ORDER_ID']]\n",
    "gb1=df_1.groupby(['1.5STD_Range','bad_order']).count()\n",
    "gb1=gb1.reset_index()\n",
    "\n",
    "gb2=gb1[['1.5STD_Range','ORD_ORDER_ID']].groupby(['1.5STD_Range']).sum()\n",
    "gb2=gb2.reset_index()\n",
    "gb2['TOTAL']=gb2['ORD_ORDER_ID']\n",
    "gb2=gb2[['1.5STD_Range','TOTAL']]\n",
    "\n",
    "ds_15 = pd.merge(left = gb1, right = gb2,\n",
    "                how = 'inner',\n",
    "                left_on='1.5STD_Range', right_on='1.5STD_Range')\n",
    "\n",
    "ds_15['Dis.[%]']=(ds_15['ORD_ORDER_ID']/ds_15['TOTAL'])*100\n",
    "ds_15['Dis.[%]']=ds_15['Dis.[%]'].round(decimals=1)\n",
    "\n",
    "ds_15=ds_15[ds_15['bad_order']==1]\n",
    "#ds_15=ds_15[ds_15['1.5STD_Range']=='low_STD']"
   ]
  },
  {
   "cell_type": "code",
   "execution_count": 63,
   "metadata": {},
   "outputs": [],
   "source": [
    "df_1=df_s[['1.75STD_Range','bad_order','ORD_ORDER_ID']]\n",
    "gb1=df_1.groupby(['1.75STD_Range','bad_order']).count()\n",
    "gb1=gb1.reset_index()\n",
    "\n",
    "gb2=gb1[['1.75STD_Range','ORD_ORDER_ID']].groupby(['1.75STD_Range']).sum()\n",
    "gb2=gb2.reset_index()\n",
    "gb2['TOTAL']=gb2['ORD_ORDER_ID']\n",
    "gb2=gb2[['1.75STD_Range','TOTAL']]\n",
    "\n",
    "ds_175 = pd.merge(left = gb1, right = gb2,\n",
    "                how = 'inner',\n",
    "                left_on='1.75STD_Range', right_on='1.75STD_Range')\n",
    "\n",
    "ds_175['Dis.[%]']=(ds_175['ORD_ORDER_ID']/ds_175['TOTAL'])*100\n",
    "ds_175['Dis.[%]']=ds_175['Dis.[%]'].round(decimals=1)\n",
    "\n",
    "ds_175=ds_175[ds_175['bad_order']==1]\n",
    "#ds_175=ds_175[ds_175['1.75STD_Range']=='low_STD']"
   ]
  },
  {
   "cell_type": "code",
   "execution_count": 64,
   "metadata": {},
   "outputs": [],
   "source": [
    "df_1=df_s[['2STD_Range','bad_order','ORD_ORDER_ID']]\n",
    "gb1=df_1.groupby(['2STD_Range','bad_order']).count()\n",
    "gb1=gb1.reset_index()\n",
    "\n",
    "gb2=gb1[['2STD_Range','ORD_ORDER_ID']].groupby(['2STD_Range']).sum()\n",
    "gb2=gb2.reset_index()\n",
    "gb2['TOTAL']=gb2['ORD_ORDER_ID']\n",
    "gb2=gb2[['2STD_Range','TOTAL']]\n",
    "\n",
    "ds_2 = pd.merge(left = gb1, right = gb2,\n",
    "                how = 'inner',\n",
    "                left_on='2STD_Range', right_on='2STD_Range')\n",
    "\n",
    "ds_2['Dis.[%]']=(ds_2['ORD_ORDER_ID']/ds_2['TOTAL'])*100\n",
    "ds_2['Dis.[%]']=ds_2['Dis.[%]'].round(decimals=1)\n",
    "\n",
    "ds_2=ds_2[ds_2['bad_order']==1]\n",
    "#ds_2=ds_2[ds_2['2STD_Range']=='low_STD']"
   ]
  },
  {
   "cell_type": "code",
   "execution_count": 65,
   "metadata": {},
   "outputs": [],
   "source": [
    "df_1=df_s[['2.25STD_Range','bad_order','ORD_ORDER_ID']]\n",
    "gb1=df_1.groupby(['2.25STD_Range','bad_order']).count()\n",
    "gb1=gb1.reset_index()\n",
    "\n",
    "gb2=gb1[['2.25STD_Range','ORD_ORDER_ID']].groupby(['2.25STD_Range']).sum()\n",
    "gb2=gb2.reset_index()\n",
    "gb2['TOTAL']=gb2['ORD_ORDER_ID']\n",
    "gb2=gb2[['2.25STD_Range','TOTAL']]\n",
    "\n",
    "ds_225 = pd.merge(left = gb1, right = gb2,\n",
    "                how = 'inner',\n",
    "                left_on='2.25STD_Range', right_on='2.25STD_Range')\n",
    "\n",
    "ds_225['Dis.[%]']=(ds_225['ORD_ORDER_ID']/ds_225['TOTAL'])*100\n",
    "ds_225['Dis.[%]']=ds_225['Dis.[%]'].round(decimals=1)\n",
    "\n",
    "ds_225=ds_225[ds_225['bad_order']==1]\n",
    "#ds_225=ds_225[ds_225['2.25STD_Range']=='low_STD']"
   ]
  },
  {
   "cell_type": "code",
   "execution_count": 66,
   "metadata": {},
   "outputs": [],
   "source": [
    "df_1=df_s[['2.5STD_Range','bad_order','ORD_ORDER_ID']]\n",
    "gb1=df_1.groupby(['2.5STD_Range','bad_order']).count()\n",
    "gb1=gb1.reset_index()\n",
    "\n",
    "gb2=gb1[['2.5STD_Range','ORD_ORDER_ID']].groupby(['2.5STD_Range']).sum()\n",
    "gb2=gb2.reset_index()\n",
    "gb2['TOTAL']=gb2['ORD_ORDER_ID']\n",
    "gb2=gb2[['2.5STD_Range','TOTAL']]\n",
    "\n",
    "ds_25 = pd.merge(left = gb1, right = gb2,\n",
    "                how = 'inner',\n",
    "                left_on='2.5STD_Range', right_on='2.5STD_Range')\n",
    "\n",
    "ds_25['Dis.[%]']=(ds_25['ORD_ORDER_ID']/ds_25['TOTAL'])*100\n",
    "ds_25['Dis.[%]']=ds_25['Dis.[%]'].round(decimals=1)\n",
    "\n",
    "ds_25=ds_25[ds_25['bad_order']==1]\n",
    "#ds_25=ds_25[ds_25['2.5STD_Range']=='low_STD']"
   ]
  },
  {
   "cell_type": "code",
   "execution_count": 67,
   "metadata": {},
   "outputs": [],
   "source": [
    "df_1=df_s[['2.75STD_Range','bad_order','ORD_ORDER_ID']]\n",
    "gb1=df_1.groupby(['2.75STD_Range','bad_order']).count()\n",
    "gb1=gb1.reset_index()\n",
    "\n",
    "gb2=gb1[['2.75STD_Range','ORD_ORDER_ID']].groupby(['2.75STD_Range']).sum()\n",
    "gb2=gb2.reset_index()\n",
    "gb2['TOTAL']=gb2['ORD_ORDER_ID']\n",
    "gb2=gb2[['2.75STD_Range','TOTAL']]\n",
    "\n",
    "ds_275 = pd.merge(left = gb1, right = gb2,\n",
    "                how = 'inner',\n",
    "                left_on='2.75STD_Range', right_on='2.75STD_Range')\n",
    "\n",
    "ds_275['Dis.[%]']=(ds_275['ORD_ORDER_ID']/ds_275['TOTAL'])*100\n",
    "ds_275['Dis.[%]']=ds_275['Dis.[%]'].round(decimals=1)\n",
    "\n",
    "ds_275=ds_275[ds_275['bad_order']==1]\n",
    "#ds_275=ds_275[ds_275['2.75STD_Range']=='low_STD']"
   ]
  },
  {
   "cell_type": "code",
   "execution_count": 68,
   "metadata": {},
   "outputs": [],
   "source": [
    "df_1=df_s[['3STD_Range','bad_order','ORD_ORDER_ID']]\n",
    "gb1=df_1.groupby(['3STD_Range','bad_order']).count()\n",
    "gb1=gb1.reset_index()\n",
    "\n",
    "gb2=gb1[['3STD_Range','ORD_ORDER_ID']].groupby(['3STD_Range']).sum()\n",
    "gb2=gb2.reset_index()\n",
    "gb2['TOTAL']=gb2['ORD_ORDER_ID']\n",
    "gb2=gb2[['3STD_Range','TOTAL']]\n",
    "\n",
    "ds_3 = pd.merge(left = gb1, right = gb2,\n",
    "                how = 'inner',\n",
    "                left_on='3STD_Range', right_on='3STD_Range')\n",
    "\n",
    "ds_3['Dis.[%]']=(ds_3['ORD_ORDER_ID']/ds_3['TOTAL'])*100\n",
    "ds_3['Dis.[%]']=ds_3['Dis.[%]'].round(decimals=1)\n",
    "\n",
    "ds_3=ds_3[ds_3['bad_order']==1]\n",
    "#ds_3=ds_3[ds_3['3STD_Range']=='low_STD']"
   ]
  },
  {
   "cell_type": "code",
   "execution_count": 69,
   "metadata": {},
   "outputs": [
    {
     "data": {
      "text/html": [
       "<div>\n",
       "<style scoped>\n",
       "    .dataframe tbody tr th:only-of-type {\n",
       "        vertical-align: middle;\n",
       "    }\n",
       "\n",
       "    .dataframe tbody tr th {\n",
       "        vertical-align: top;\n",
       "    }\n",
       "\n",
       "    .dataframe thead th {\n",
       "        text-align: right;\n",
       "    }\n",
       "</style>\n",
       "<table border=\"1\" class=\"dataframe\">\n",
       "  <thead>\n",
       "    <tr style=\"text-align: right;\">\n",
       "      <th></th>\n",
       "      <th>1STD_Range</th>\n",
       "      <th>bad_order</th>\n",
       "      <th>ORD_ORDER_ID</th>\n",
       "      <th>TOTAL</th>\n",
       "      <th>Dis.[%]</th>\n",
       "    </tr>\n",
       "  </thead>\n",
       "  <tbody>\n",
       "    <tr>\n",
       "      <th>1</th>\n",
       "      <td>high_STD</td>\n",
       "      <td>1</td>\n",
       "      <td>14109</td>\n",
       "      <td>100245</td>\n",
       "      <td>14.1</td>\n",
       "    </tr>\n",
       "    <tr>\n",
       "      <th>3</th>\n",
       "      <td>low_STD</td>\n",
       "      <td>1</td>\n",
       "      <td>13818</td>\n",
       "      <td>72615</td>\n",
       "      <td>19.0</td>\n",
       "    </tr>\n",
       "    <tr>\n",
       "      <th>5</th>\n",
       "      <td>middle_STD</td>\n",
       "      <td>1</td>\n",
       "      <td>115451</td>\n",
       "      <td>891892</td>\n",
       "      <td>12.9</td>\n",
       "    </tr>\n",
       "  </tbody>\n",
       "</table>\n",
       "</div>"
      ],
      "text/plain": [
       "   1STD_Range  bad_order  ORD_ORDER_ID   TOTAL  Dis.[%]\n",
       "1    high_STD          1         14109  100245     14.1\n",
       "3     low_STD          1         13818   72615     19.0\n",
       "5  middle_STD          1        115451  891892     12.9"
      ]
     },
     "execution_count": 69,
     "metadata": {},
     "output_type": "execute_result"
    }
   ],
   "source": [
    "ds_1"
   ]
  },
  {
   "cell_type": "code",
   "execution_count": 70,
   "metadata": {},
   "outputs": [
    {
     "data": {
      "text/html": [
       "<div>\n",
       "<style scoped>\n",
       "    .dataframe tbody tr th:only-of-type {\n",
       "        vertical-align: middle;\n",
       "    }\n",
       "\n",
       "    .dataframe tbody tr th {\n",
       "        vertical-align: top;\n",
       "    }\n",
       "\n",
       "    .dataframe thead th {\n",
       "        text-align: right;\n",
       "    }\n",
       "</style>\n",
       "<table border=\"1\" class=\"dataframe\">\n",
       "  <thead>\n",
       "    <tr style=\"text-align: right;\">\n",
       "      <th></th>\n",
       "      <th>1.25STD_Range</th>\n",
       "      <th>bad_order</th>\n",
       "      <th>ORD_ORDER_ID</th>\n",
       "      <th>TOTAL</th>\n",
       "      <th>Dis.[%]</th>\n",
       "    </tr>\n",
       "  </thead>\n",
       "  <tbody>\n",
       "    <tr>\n",
       "      <th>1</th>\n",
       "      <td>high_STD</td>\n",
       "      <td>1</td>\n",
       "      <td>10542</td>\n",
       "      <td>73895</td>\n",
       "      <td>14.3</td>\n",
       "    </tr>\n",
       "    <tr>\n",
       "      <th>3</th>\n",
       "      <td>low_STD</td>\n",
       "      <td>1</td>\n",
       "      <td>9071</td>\n",
       "      <td>42084</td>\n",
       "      <td>21.6</td>\n",
       "    </tr>\n",
       "    <tr>\n",
       "      <th>5</th>\n",
       "      <td>middle_STD</td>\n",
       "      <td>1</td>\n",
       "      <td>123765</td>\n",
       "      <td>948773</td>\n",
       "      <td>13.0</td>\n",
       "    </tr>\n",
       "  </tbody>\n",
       "</table>\n",
       "</div>"
      ],
      "text/plain": [
       "  1.25STD_Range  bad_order  ORD_ORDER_ID   TOTAL  Dis.[%]\n",
       "1      high_STD          1         10542   73895     14.3\n",
       "3       low_STD          1          9071   42084     21.6\n",
       "5    middle_STD          1        123765  948773     13.0"
      ]
     },
     "execution_count": 70,
     "metadata": {},
     "output_type": "execute_result"
    }
   ],
   "source": [
    "ds_125"
   ]
  },
  {
   "cell_type": "code",
   "execution_count": 71,
   "metadata": {},
   "outputs": [
    {
     "data": {
      "text/html": [
       "<div>\n",
       "<style scoped>\n",
       "    .dataframe tbody tr th:only-of-type {\n",
       "        vertical-align: middle;\n",
       "    }\n",
       "\n",
       "    .dataframe tbody tr th {\n",
       "        vertical-align: top;\n",
       "    }\n",
       "\n",
       "    .dataframe thead th {\n",
       "        text-align: right;\n",
       "    }\n",
       "</style>\n",
       "<table border=\"1\" class=\"dataframe\">\n",
       "  <thead>\n",
       "    <tr style=\"text-align: right;\">\n",
       "      <th></th>\n",
       "      <th>1.5STD_Range</th>\n",
       "      <th>bad_order</th>\n",
       "      <th>ORD_ORDER_ID</th>\n",
       "      <th>TOTAL</th>\n",
       "      <th>Dis.[%]</th>\n",
       "    </tr>\n",
       "  </thead>\n",
       "  <tbody>\n",
       "    <tr>\n",
       "      <th>1</th>\n",
       "      <td>high_STD</td>\n",
       "      <td>1</td>\n",
       "      <td>8013</td>\n",
       "      <td>55934</td>\n",
       "      <td>14.3</td>\n",
       "    </tr>\n",
       "    <tr>\n",
       "      <th>3</th>\n",
       "      <td>low_STD</td>\n",
       "      <td>1</td>\n",
       "      <td>5724</td>\n",
       "      <td>24145</td>\n",
       "      <td>23.7</td>\n",
       "    </tr>\n",
       "    <tr>\n",
       "      <th>5</th>\n",
       "      <td>middle_STD</td>\n",
       "      <td>1</td>\n",
       "      <td>129641</td>\n",
       "      <td>984673</td>\n",
       "      <td>13.2</td>\n",
       "    </tr>\n",
       "  </tbody>\n",
       "</table>\n",
       "</div>"
      ],
      "text/plain": [
       "  1.5STD_Range  bad_order  ORD_ORDER_ID   TOTAL  Dis.[%]\n",
       "1     high_STD          1          8013   55934     14.3\n",
       "3      low_STD          1          5724   24145     23.7\n",
       "5   middle_STD          1        129641  984673     13.2"
      ]
     },
     "execution_count": 71,
     "metadata": {},
     "output_type": "execute_result"
    }
   ],
   "source": [
    "ds_15"
   ]
  },
  {
   "cell_type": "code",
   "execution_count": 72,
   "metadata": {},
   "outputs": [
    {
     "data": {
      "text/html": [
       "<div>\n",
       "<style scoped>\n",
       "    .dataframe tbody tr th:only-of-type {\n",
       "        vertical-align: middle;\n",
       "    }\n",
       "\n",
       "    .dataframe tbody tr th {\n",
       "        vertical-align: top;\n",
       "    }\n",
       "\n",
       "    .dataframe thead th {\n",
       "        text-align: right;\n",
       "    }\n",
       "</style>\n",
       "<table border=\"1\" class=\"dataframe\">\n",
       "  <thead>\n",
       "    <tr style=\"text-align: right;\">\n",
       "      <th></th>\n",
       "      <th>1.75STD_Range</th>\n",
       "      <th>bad_order</th>\n",
       "      <th>ORD_ORDER_ID</th>\n",
       "      <th>TOTAL</th>\n",
       "      <th>Dis.[%]</th>\n",
       "    </tr>\n",
       "  </thead>\n",
       "  <tbody>\n",
       "    <tr>\n",
       "      <th>1</th>\n",
       "      <td>high_STD</td>\n",
       "      <td>1</td>\n",
       "      <td>6283</td>\n",
       "      <td>42112</td>\n",
       "      <td>14.9</td>\n",
       "    </tr>\n",
       "    <tr>\n",
       "      <th>3</th>\n",
       "      <td>low_STD</td>\n",
       "      <td>1</td>\n",
       "      <td>4035</td>\n",
       "      <td>15462</td>\n",
       "      <td>26.1</td>\n",
       "    </tr>\n",
       "    <tr>\n",
       "      <th>5</th>\n",
       "      <td>middle_STD</td>\n",
       "      <td>1</td>\n",
       "      <td>133060</td>\n",
       "      <td>1007178</td>\n",
       "      <td>13.2</td>\n",
       "    </tr>\n",
       "  </tbody>\n",
       "</table>\n",
       "</div>"
      ],
      "text/plain": [
       "  1.75STD_Range  bad_order  ORD_ORDER_ID    TOTAL  Dis.[%]\n",
       "1      high_STD          1          6283    42112     14.9\n",
       "3       low_STD          1          4035    15462     26.1\n",
       "5    middle_STD          1        133060  1007178     13.2"
      ]
     },
     "execution_count": 72,
     "metadata": {},
     "output_type": "execute_result"
    }
   ],
   "source": [
    "ds_175"
   ]
  },
  {
   "cell_type": "code",
   "execution_count": 73,
   "metadata": {},
   "outputs": [
    {
     "data": {
      "text/html": [
       "<div>\n",
       "<style scoped>\n",
       "    .dataframe tbody tr th:only-of-type {\n",
       "        vertical-align: middle;\n",
       "    }\n",
       "\n",
       "    .dataframe tbody tr th {\n",
       "        vertical-align: top;\n",
       "    }\n",
       "\n",
       "    .dataframe thead th {\n",
       "        text-align: right;\n",
       "    }\n",
       "</style>\n",
       "<table border=\"1\" class=\"dataframe\">\n",
       "  <thead>\n",
       "    <tr style=\"text-align: right;\">\n",
       "      <th></th>\n",
       "      <th>2STD_Range</th>\n",
       "      <th>bad_order</th>\n",
       "      <th>ORD_ORDER_ID</th>\n",
       "      <th>TOTAL</th>\n",
       "      <th>Dis.[%]</th>\n",
       "    </tr>\n",
       "  </thead>\n",
       "  <tbody>\n",
       "    <tr>\n",
       "      <th>1</th>\n",
       "      <td>high_STD</td>\n",
       "      <td>1</td>\n",
       "      <td>4884</td>\n",
       "      <td>32135</td>\n",
       "      <td>15.2</td>\n",
       "    </tr>\n",
       "    <tr>\n",
       "      <th>3</th>\n",
       "      <td>low_STD</td>\n",
       "      <td>1</td>\n",
       "      <td>2949</td>\n",
       "      <td>9919</td>\n",
       "      <td>29.7</td>\n",
       "    </tr>\n",
       "    <tr>\n",
       "      <th>5</th>\n",
       "      <td>middle_STD</td>\n",
       "      <td>1</td>\n",
       "      <td>135545</td>\n",
       "      <td>1022698</td>\n",
       "      <td>13.3</td>\n",
       "    </tr>\n",
       "  </tbody>\n",
       "</table>\n",
       "</div>"
      ],
      "text/plain": [
       "   2STD_Range  bad_order  ORD_ORDER_ID    TOTAL  Dis.[%]\n",
       "1    high_STD          1          4884    32135     15.2\n",
       "3     low_STD          1          2949     9919     29.7\n",
       "5  middle_STD          1        135545  1022698     13.3"
      ]
     },
     "execution_count": 73,
     "metadata": {},
     "output_type": "execute_result"
    }
   ],
   "source": [
    "ds_2"
   ]
  },
  {
   "cell_type": "code",
   "execution_count": 74,
   "metadata": {},
   "outputs": [
    {
     "data": {
      "text/html": [
       "<div>\n",
       "<style scoped>\n",
       "    .dataframe tbody tr th:only-of-type {\n",
       "        vertical-align: middle;\n",
       "    }\n",
       "\n",
       "    .dataframe tbody tr th {\n",
       "        vertical-align: top;\n",
       "    }\n",
       "\n",
       "    .dataframe thead th {\n",
       "        text-align: right;\n",
       "    }\n",
       "</style>\n",
       "<table border=\"1\" class=\"dataframe\">\n",
       "  <thead>\n",
       "    <tr style=\"text-align: right;\">\n",
       "      <th></th>\n",
       "      <th>2.25STD_Range</th>\n",
       "      <th>bad_order</th>\n",
       "      <th>ORD_ORDER_ID</th>\n",
       "      <th>TOTAL</th>\n",
       "      <th>Dis.[%]</th>\n",
       "    </tr>\n",
       "  </thead>\n",
       "  <tbody>\n",
       "    <tr>\n",
       "      <th>1</th>\n",
       "      <td>high_STD</td>\n",
       "      <td>1</td>\n",
       "      <td>3891</td>\n",
       "      <td>24364</td>\n",
       "      <td>16.0</td>\n",
       "    </tr>\n",
       "    <tr>\n",
       "      <th>3</th>\n",
       "      <td>low_STD</td>\n",
       "      <td>1</td>\n",
       "      <td>2321</td>\n",
       "      <td>6738</td>\n",
       "      <td>34.4</td>\n",
       "    </tr>\n",
       "    <tr>\n",
       "      <th>5</th>\n",
       "      <td>middle_STD</td>\n",
       "      <td>1</td>\n",
       "      <td>137166</td>\n",
       "      <td>1033650</td>\n",
       "      <td>13.3</td>\n",
       "    </tr>\n",
       "  </tbody>\n",
       "</table>\n",
       "</div>"
      ],
      "text/plain": [
       "  2.25STD_Range  bad_order  ORD_ORDER_ID    TOTAL  Dis.[%]\n",
       "1      high_STD          1          3891    24364     16.0\n",
       "3       low_STD          1          2321     6738     34.4\n",
       "5    middle_STD          1        137166  1033650     13.3"
      ]
     },
     "execution_count": 74,
     "metadata": {},
     "output_type": "execute_result"
    }
   ],
   "source": [
    "ds_225"
   ]
  },
  {
   "cell_type": "code",
   "execution_count": 75,
   "metadata": {},
   "outputs": [
    {
     "data": {
      "text/html": [
       "<div>\n",
       "<style scoped>\n",
       "    .dataframe tbody tr th:only-of-type {\n",
       "        vertical-align: middle;\n",
       "    }\n",
       "\n",
       "    .dataframe tbody tr th {\n",
       "        vertical-align: top;\n",
       "    }\n",
       "\n",
       "    .dataframe thead th {\n",
       "        text-align: right;\n",
       "    }\n",
       "</style>\n",
       "<table border=\"1\" class=\"dataframe\">\n",
       "  <thead>\n",
       "    <tr style=\"text-align: right;\">\n",
       "      <th></th>\n",
       "      <th>2.5STD_Range</th>\n",
       "      <th>bad_order</th>\n",
       "      <th>ORD_ORDER_ID</th>\n",
       "      <th>TOTAL</th>\n",
       "      <th>Dis.[%]</th>\n",
       "    </tr>\n",
       "  </thead>\n",
       "  <tbody>\n",
       "    <tr>\n",
       "      <th>1</th>\n",
       "      <td>high_STD</td>\n",
       "      <td>1</td>\n",
       "      <td>3227</td>\n",
       "      <td>19386</td>\n",
       "      <td>16.6</td>\n",
       "    </tr>\n",
       "    <tr>\n",
       "      <th>3</th>\n",
       "      <td>low_STD</td>\n",
       "      <td>1</td>\n",
       "      <td>1897</td>\n",
       "      <td>5133</td>\n",
       "      <td>37.0</td>\n",
       "    </tr>\n",
       "    <tr>\n",
       "      <th>5</th>\n",
       "      <td>middle_STD</td>\n",
       "      <td>1</td>\n",
       "      <td>138254</td>\n",
       "      <td>1040233</td>\n",
       "      <td>13.3</td>\n",
       "    </tr>\n",
       "  </tbody>\n",
       "</table>\n",
       "</div>"
      ],
      "text/plain": [
       "  2.5STD_Range  bad_order  ORD_ORDER_ID    TOTAL  Dis.[%]\n",
       "1     high_STD          1          3227    19386     16.6\n",
       "3      low_STD          1          1897     5133     37.0\n",
       "5   middle_STD          1        138254  1040233     13.3"
      ]
     },
     "execution_count": 75,
     "metadata": {},
     "output_type": "execute_result"
    }
   ],
   "source": [
    "ds_25"
   ]
  },
  {
   "cell_type": "code",
   "execution_count": 76,
   "metadata": {},
   "outputs": [
    {
     "data": {
      "text/html": [
       "<div>\n",
       "<style scoped>\n",
       "    .dataframe tbody tr th:only-of-type {\n",
       "        vertical-align: middle;\n",
       "    }\n",
       "\n",
       "    .dataframe tbody tr th {\n",
       "        vertical-align: top;\n",
       "    }\n",
       "\n",
       "    .dataframe thead th {\n",
       "        text-align: right;\n",
       "    }\n",
       "</style>\n",
       "<table border=\"1\" class=\"dataframe\">\n",
       "  <thead>\n",
       "    <tr style=\"text-align: right;\">\n",
       "      <th></th>\n",
       "      <th>2.75STD_Range</th>\n",
       "      <th>bad_order</th>\n",
       "      <th>ORD_ORDER_ID</th>\n",
       "      <th>TOTAL</th>\n",
       "      <th>Dis.[%]</th>\n",
       "    </tr>\n",
       "  </thead>\n",
       "  <tbody>\n",
       "    <tr>\n",
       "      <th>1</th>\n",
       "      <td>high_STD</td>\n",
       "      <td>1</td>\n",
       "      <td>2670</td>\n",
       "      <td>15163</td>\n",
       "      <td>17.6</td>\n",
       "    </tr>\n",
       "    <tr>\n",
       "      <th>3</th>\n",
       "      <td>low_STD</td>\n",
       "      <td>1</td>\n",
       "      <td>1593</td>\n",
       "      <td>4153</td>\n",
       "      <td>38.4</td>\n",
       "    </tr>\n",
       "    <tr>\n",
       "      <th>5</th>\n",
       "      <td>middle_STD</td>\n",
       "      <td>1</td>\n",
       "      <td>139115</td>\n",
       "      <td>1045436</td>\n",
       "      <td>13.3</td>\n",
       "    </tr>\n",
       "  </tbody>\n",
       "</table>\n",
       "</div>"
      ],
      "text/plain": [
       "  2.75STD_Range  bad_order  ORD_ORDER_ID    TOTAL  Dis.[%]\n",
       "1      high_STD          1          2670    15163     17.6\n",
       "3       low_STD          1          1593     4153     38.4\n",
       "5    middle_STD          1        139115  1045436     13.3"
      ]
     },
     "execution_count": 76,
     "metadata": {},
     "output_type": "execute_result"
    }
   ],
   "source": [
    "ds_275"
   ]
  },
  {
   "cell_type": "code",
   "execution_count": 77,
   "metadata": {},
   "outputs": [
    {
     "data": {
      "text/html": [
       "<div>\n",
       "<style scoped>\n",
       "    .dataframe tbody tr th:only-of-type {\n",
       "        vertical-align: middle;\n",
       "    }\n",
       "\n",
       "    .dataframe tbody tr th {\n",
       "        vertical-align: top;\n",
       "    }\n",
       "\n",
       "    .dataframe thead th {\n",
       "        text-align: right;\n",
       "    }\n",
       "</style>\n",
       "<table border=\"1\" class=\"dataframe\">\n",
       "  <thead>\n",
       "    <tr style=\"text-align: right;\">\n",
       "      <th></th>\n",
       "      <th>3STD_Range</th>\n",
       "      <th>bad_order</th>\n",
       "      <th>ORD_ORDER_ID</th>\n",
       "      <th>TOTAL</th>\n",
       "      <th>Dis.[%]</th>\n",
       "    </tr>\n",
       "  </thead>\n",
       "  <tbody>\n",
       "    <tr>\n",
       "      <th>1</th>\n",
       "      <td>high_STD</td>\n",
       "      <td>1</td>\n",
       "      <td>2326</td>\n",
       "      <td>12421</td>\n",
       "      <td>18.7</td>\n",
       "    </tr>\n",
       "    <tr>\n",
       "      <th>3</th>\n",
       "      <td>low_STD</td>\n",
       "      <td>1</td>\n",
       "      <td>1348</td>\n",
       "      <td>3167</td>\n",
       "      <td>42.6</td>\n",
       "    </tr>\n",
       "    <tr>\n",
       "      <th>5</th>\n",
       "      <td>middle_STD</td>\n",
       "      <td>1</td>\n",
       "      <td>139704</td>\n",
       "      <td>1049164</td>\n",
       "      <td>13.3</td>\n",
       "    </tr>\n",
       "  </tbody>\n",
       "</table>\n",
       "</div>"
      ],
      "text/plain": [
       "   3STD_Range  bad_order  ORD_ORDER_ID    TOTAL  Dis.[%]\n",
       "1    high_STD          1          2326    12421     18.7\n",
       "3     low_STD          1          1348     3167     42.6\n",
       "5  middle_STD          1        139704  1049164     13.3"
      ]
     },
     "execution_count": 77,
     "metadata": {},
     "output_type": "execute_result"
    }
   ],
   "source": [
    "ds_3"
   ]
  },
  {
   "cell_type": "markdown",
   "metadata": {},
   "source": [
    "## Distribution Bad Orders"
   ]
  },
  {
   "cell_type": "code",
   "execution_count": 78,
   "metadata": {},
   "outputs": [],
   "source": [
    "df_1=df_s[['2.25STD_Range','bad_order','ORD_ORDER_ID']]"
   ]
  },
  {
   "cell_type": "code",
   "execution_count": 79,
   "metadata": {},
   "outputs": [
    {
     "data": {
      "text/html": [
       "<div>\n",
       "<style scoped>\n",
       "    .dataframe tbody tr th:only-of-type {\n",
       "        vertical-align: middle;\n",
       "    }\n",
       "\n",
       "    .dataframe tbody tr th {\n",
       "        vertical-align: top;\n",
       "    }\n",
       "\n",
       "    .dataframe thead th {\n",
       "        text-align: right;\n",
       "    }\n",
       "</style>\n",
       "<table border=\"1\" class=\"dataframe\">\n",
       "  <thead>\n",
       "    <tr style=\"text-align: right;\">\n",
       "      <th></th>\n",
       "      <th>2.25STD_Range</th>\n",
       "      <th>bad_order</th>\n",
       "      <th>ORD_ORDER_ID</th>\n",
       "      <th>TOTAL</th>\n",
       "      <th>Dis.[%]</th>\n",
       "    </tr>\n",
       "  </thead>\n",
       "  <tbody>\n",
       "    <tr>\n",
       "      <th>0</th>\n",
       "      <td>high_STD</td>\n",
       "      <td>0</td>\n",
       "      <td>20473</td>\n",
       "      <td>24364</td>\n",
       "      <td>84.0</td>\n",
       "    </tr>\n",
       "    <tr>\n",
       "      <th>1</th>\n",
       "      <td>high_STD</td>\n",
       "      <td>1</td>\n",
       "      <td>3891</td>\n",
       "      <td>24364</td>\n",
       "      <td>16.0</td>\n",
       "    </tr>\n",
       "    <tr>\n",
       "      <th>2</th>\n",
       "      <td>low_STD</td>\n",
       "      <td>0</td>\n",
       "      <td>4417</td>\n",
       "      <td>6738</td>\n",
       "      <td>65.6</td>\n",
       "    </tr>\n",
       "    <tr>\n",
       "      <th>3</th>\n",
       "      <td>low_STD</td>\n",
       "      <td>1</td>\n",
       "      <td>2321</td>\n",
       "      <td>6738</td>\n",
       "      <td>34.4</td>\n",
       "    </tr>\n",
       "    <tr>\n",
       "      <th>4</th>\n",
       "      <td>middle_STD</td>\n",
       "      <td>0</td>\n",
       "      <td>896484</td>\n",
       "      <td>1033650</td>\n",
       "      <td>86.7</td>\n",
       "    </tr>\n",
       "    <tr>\n",
       "      <th>5</th>\n",
       "      <td>middle_STD</td>\n",
       "      <td>1</td>\n",
       "      <td>137166</td>\n",
       "      <td>1033650</td>\n",
       "      <td>13.3</td>\n",
       "    </tr>\n",
       "  </tbody>\n",
       "</table>\n",
       "</div>"
      ],
      "text/plain": [
       "  2.25STD_Range  bad_order  ORD_ORDER_ID    TOTAL  Dis.[%]\n",
       "0      high_STD          0         20473    24364     84.0\n",
       "1      high_STD          1          3891    24364     16.0\n",
       "2       low_STD          0          4417     6738     65.6\n",
       "3       low_STD          1          2321     6738     34.4\n",
       "4    middle_STD          0        896484  1033650     86.7\n",
       "5    middle_STD          1        137166  1033650     13.3"
      ]
     },
     "execution_count": 79,
     "metadata": {},
     "output_type": "execute_result"
    }
   ],
   "source": [
    "gb1=df_1.groupby(['2.25STD_Range','bad_order']).count()\n",
    "gb1=gb1.reset_index()\n",
    "\n",
    "gb2=gb1[['2.25STD_Range','ORD_ORDER_ID']].groupby(['2.25STD_Range']).sum()\n",
    "gb2=gb2.reset_index()\n",
    "gb2['TOTAL']=gb2['ORD_ORDER_ID']\n",
    "gb2=gb2[['2.25STD_Range','TOTAL']]\n",
    "\n",
    "gb3 = pd.merge(left = gb1, right = gb2,\n",
    "                how = 'inner',\n",
    "                left_on='2.25STD_Range', right_on='2.25STD_Range')\n",
    "\n",
    "gb3['Dis.[%]']=(gb3['ORD_ORDER_ID']/gb3['TOTAL'])*100\n",
    "gb3['Dis.[%]']=gb3['Dis.[%]'].round(decimals=1)\n",
    "\n",
    "gb3"
   ]
  },
  {
   "cell_type": "code",
   "execution_count": 80,
   "metadata": {},
   "outputs": [
    {
     "data": {
      "image/png": "[encoded data removed]",
      "text/plain": [
       "<Figure size 432x288 with 1 Axes>"
      ]
     },
     "metadata": {
      "needs_background": "light"
     },
     "output_type": "display_data"
    }
   ],
   "source": [
    "sns.histplot(\n",
    "            data=df_1,\n",
    "            x=\"2.25STD_Range\",\n",
    "            hue=\"bad_order\",\n",
    "            multiple=\"dodge\",\n",
    "            shrink=.8\n",
    "            ).set(title='Precio',ylabel='Orders');"
   ]
  },
  {
   "cell_type": "markdown",
   "metadata": {},
   "source": [
    "## Distribution Bad Users"
   ]
  },
  {
   "cell_type": "code",
   "execution_count": 81,
   "metadata": {},
   "outputs": [],
   "source": [
    "df_1=df_s[['2.25STD_Range','flag_bad_user','ORD_ORDER_ID']]"
   ]
  },
  {
   "cell_type": "code",
   "execution_count": 82,
   "metadata": {},
   "outputs": [
    {
     "data": {
      "text/html": [
       "<div>\n",
       "<style scoped>\n",
       "    .dataframe tbody tr th:only-of-type {\n",
       "        vertical-align: middle;\n",
       "    }\n",
       "\n",
       "    .dataframe tbody tr th {\n",
       "        vertical-align: top;\n",
       "    }\n",
       "\n",
       "    .dataframe thead th {\n",
       "        text-align: right;\n",
       "    }\n",
       "</style>\n",
       "<table border=\"1\" class=\"dataframe\">\n",
       "  <thead>\n",
       "    <tr style=\"text-align: right;\">\n",
       "      <th></th>\n",
       "      <th>2.25STD_Range</th>\n",
       "      <th>flag_bad_user</th>\n",
       "      <th>ORD_ORDER_ID</th>\n",
       "      <th>TOTAL</th>\n",
       "      <th>Dis.[%]</th>\n",
       "    </tr>\n",
       "  </thead>\n",
       "  <tbody>\n",
       "    <tr>\n",
       "      <th>0</th>\n",
       "      <td>high_STD</td>\n",
       "      <td>0</td>\n",
       "      <td>23410</td>\n",
       "      <td>24364</td>\n",
       "      <td>96.1</td>\n",
       "    </tr>\n",
       "    <tr>\n",
       "      <th>1</th>\n",
       "      <td>high_STD</td>\n",
       "      <td>1</td>\n",
       "      <td>954</td>\n",
       "      <td>24364</td>\n",
       "      <td>3.9</td>\n",
       "    </tr>\n",
       "    <tr>\n",
       "      <th>2</th>\n",
       "      <td>low_STD</td>\n",
       "      <td>0</td>\n",
       "      <td>6444</td>\n",
       "      <td>6738</td>\n",
       "      <td>95.6</td>\n",
       "    </tr>\n",
       "    <tr>\n",
       "      <th>3</th>\n",
       "      <td>low_STD</td>\n",
       "      <td>1</td>\n",
       "      <td>294</td>\n",
       "      <td>6738</td>\n",
       "      <td>4.4</td>\n",
       "    </tr>\n",
       "    <tr>\n",
       "      <th>4</th>\n",
       "      <td>middle_STD</td>\n",
       "      <td>0</td>\n",
       "      <td>999535</td>\n",
       "      <td>1033650</td>\n",
       "      <td>96.7</td>\n",
       "    </tr>\n",
       "    <tr>\n",
       "      <th>5</th>\n",
       "      <td>middle_STD</td>\n",
       "      <td>1</td>\n",
       "      <td>34115</td>\n",
       "      <td>1033650</td>\n",
       "      <td>3.3</td>\n",
       "    </tr>\n",
       "  </tbody>\n",
       "</table>\n",
       "</div>"
      ],
      "text/plain": [
       "  2.25STD_Range  flag_bad_user  ORD_ORDER_ID    TOTAL  Dis.[%]\n",
       "0      high_STD              0         23410    24364     96.1\n",
       "1      high_STD              1           954    24364      3.9\n",
       "2       low_STD              0          6444     6738     95.6\n",
       "3       low_STD              1           294     6738      4.4\n",
       "4    middle_STD              0        999535  1033650     96.7\n",
       "5    middle_STD              1         34115  1033650      3.3"
      ]
     },
     "execution_count": 82,
     "metadata": {},
     "output_type": "execute_result"
    }
   ],
   "source": [
    "gb1=df_1.groupby(['2.25STD_Range','flag_bad_user']).count()\n",
    "gb1=gb1.reset_index()\n",
    "\n",
    "gb2=gb1[['2.25STD_Range','ORD_ORDER_ID']].groupby(['2.25STD_Range']).sum()\n",
    "gb2=gb2.reset_index()\n",
    "gb2['TOTAL']=gb2['ORD_ORDER_ID']\n",
    "gb2=gb2[['2.25STD_Range','TOTAL']]\n",
    "\n",
    "gb3 = pd.merge(left = gb1, right = gb2,\n",
    "                how = 'inner',\n",
    "                left_on='2.25STD_Range', right_on='2.25STD_Range')\n",
    "\n",
    "gb3['Dis.[%]']=(gb3['ORD_ORDER_ID']/gb3['TOTAL'])*100\n",
    "gb3['Dis.[%]']=gb3['Dis.[%]'].round(decimals=1)\n",
    "\n",
    "gb3"
   ]
  },
  {
   "cell_type": "code",
   "execution_count": 83,
   "metadata": {},
   "outputs": [
    {
     "data": {
      "image/png": "[encoded data removed]",
      "text/plain": [
       "<Figure size 432x288 with 1 Axes>"
      ]
     },
     "metadata": {
      "needs_background": "light"
     },
     "output_type": "display_data"
    }
   ],
   "source": [
    "sns.histplot(\n",
    "            data=df_1,\n",
    "            x=\"2.25STD_Range\",\n",
    "            hue=\"flag_bad_user\",\n",
    "            multiple=\"dodge\",\n",
    "            shrink=.8\n",
    "            ).set(title='Precio',ylabel='Orders');"
   ]
  },
  {
   "cell_type": "markdown",
   "metadata": {},
   "source": [
    "## Distribution Has CashOut"
   ]
  },
  {
   "cell_type": "code",
   "execution_count": 84,
   "metadata": {},
   "outputs": [
    {
     "name": "stderr",
     "output_type": "stream",
     "text": [
      "<ipython-input-84-3a510db3b053>:2: SettingWithCopyWarning: \n",
      "A value is trying to be set on a copy of a slice from a DataFrame.\n",
      "Try using .loc[row_indexer,col_indexer] = value instead\n",
      "\n",
      "See the caveats in the documentation: https://pandas.pydata.org/pandas-docs/stable/user_guide/indexing.html#returning-a-view-versus-a-copy\n",
      "  df_1['has_co'] = df_1.apply(lambda x: 1 if x['bpp_cashout_final'] > 0 else 0, axis=1)\n"
     ]
    }
   ],
   "source": [
    "df_1=df_s[['2.25STD_Range','bpp_cashout_final','ORD_ORDER_ID']]\n",
    "df_1['has_co'] = df_1.apply(lambda x: 1 if x['bpp_cashout_final'] > 0 else 0, axis=1)\n",
    "df_1=df_1[['2.25STD_Range','has_co','ORD_ORDER_ID']]"
   ]
  },
  {
   "cell_type": "code",
   "execution_count": 85,
   "metadata": {},
   "outputs": [
    {
     "data": {
      "text/html": [
       "<div>\n",
       "<style scoped>\n",
       "    .dataframe tbody tr th:only-of-type {\n",
       "        vertical-align: middle;\n",
       "    }\n",
       "\n",
       "    .dataframe tbody tr th {\n",
       "        vertical-align: top;\n",
       "    }\n",
       "\n",
       "    .dataframe thead th {\n",
       "        text-align: right;\n",
       "    }\n",
       "</style>\n",
       "<table border=\"1\" class=\"dataframe\">\n",
       "  <thead>\n",
       "    <tr style=\"text-align: right;\">\n",
       "      <th></th>\n",
       "      <th>2.25STD_Range</th>\n",
       "      <th>has_co</th>\n",
       "      <th>ORD_ORDER_ID</th>\n",
       "      <th>TOTAL</th>\n",
       "      <th>Dis.[%]</th>\n",
       "    </tr>\n",
       "  </thead>\n",
       "  <tbody>\n",
       "    <tr>\n",
       "      <th>0</th>\n",
       "      <td>high_STD</td>\n",
       "      <td>0</td>\n",
       "      <td>24180</td>\n",
       "      <td>24364</td>\n",
       "      <td>99.2</td>\n",
       "    </tr>\n",
       "    <tr>\n",
       "      <th>1</th>\n",
       "      <td>high_STD</td>\n",
       "      <td>1</td>\n",
       "      <td>184</td>\n",
       "      <td>24364</td>\n",
       "      <td>0.8</td>\n",
       "    </tr>\n",
       "    <tr>\n",
       "      <th>2</th>\n",
       "      <td>low_STD</td>\n",
       "      <td>0</td>\n",
       "      <td>6658</td>\n",
       "      <td>6738</td>\n",
       "      <td>98.8</td>\n",
       "    </tr>\n",
       "    <tr>\n",
       "      <th>3</th>\n",
       "      <td>low_STD</td>\n",
       "      <td>1</td>\n",
       "      <td>80</td>\n",
       "      <td>6738</td>\n",
       "      <td>1.2</td>\n",
       "    </tr>\n",
       "    <tr>\n",
       "      <th>4</th>\n",
       "      <td>middle_STD</td>\n",
       "      <td>0</td>\n",
       "      <td>1027746</td>\n",
       "      <td>1033650</td>\n",
       "      <td>99.4</td>\n",
       "    </tr>\n",
       "    <tr>\n",
       "      <th>5</th>\n",
       "      <td>middle_STD</td>\n",
       "      <td>1</td>\n",
       "      <td>5904</td>\n",
       "      <td>1033650</td>\n",
       "      <td>0.6</td>\n",
       "    </tr>\n",
       "  </tbody>\n",
       "</table>\n",
       "</div>"
      ],
      "text/plain": [
       "  2.25STD_Range  has_co  ORD_ORDER_ID    TOTAL  Dis.[%]\n",
       "0      high_STD       0         24180    24364     99.2\n",
       "1      high_STD       1           184    24364      0.8\n",
       "2       low_STD       0          6658     6738     98.8\n",
       "3       low_STD       1            80     6738      1.2\n",
       "4    middle_STD       0       1027746  1033650     99.4\n",
       "5    middle_STD       1          5904  1033650      0.6"
      ]
     },
     "execution_count": 85,
     "metadata": {},
     "output_type": "execute_result"
    }
   ],
   "source": [
    "gb1=df_1.groupby(['2.25STD_Range','has_co']).count()\n",
    "gb1=gb1.reset_index()\n",
    "\n",
    "gb2=gb1[['2.25STD_Range','ORD_ORDER_ID']].groupby(['2.25STD_Range']).sum()\n",
    "gb2=gb2.reset_index()\n",
    "gb2['TOTAL']=gb2['ORD_ORDER_ID']\n",
    "gb2=gb2[['2.25STD_Range','TOTAL']]\n",
    "\n",
    "gb3 = pd.merge(left = gb1, right = gb2,\n",
    "                how = 'inner',\n",
    "                left_on='2.25STD_Range', right_on='2.25STD_Range')\n",
    "\n",
    "gb3['Dis.[%]']=(gb3['ORD_ORDER_ID']/gb3['TOTAL'])*100\n",
    "gb3['Dis.[%]']=gb3['Dis.[%]'].round(decimals=1)\n",
    "\n",
    "gb3"
   ]
  },
  {
   "cell_type": "code",
   "execution_count": 86,
   "metadata": {},
   "outputs": [
    {
     "data": {
      "image/png": "[encoded data removed]",
      "text/plain": [
       "<Figure size 432x288 with 1 Axes>"
      ]
     },
     "metadata": {
      "needs_background": "light"
     },
     "output_type": "display_data"
    }
   ],
   "source": [
    "sns.histplot(\n",
    "            data=df_1,\n",
    "            x=\"2.25STD_Range\",\n",
    "            hue=\"has_co\",\n",
    "            multiple=\"dodge\",\n",
    "            shrink=.8\n",
    "            ).set(title='Precio',ylabel='Orders');"
   ]
  },
  {
   "cell_type": "markdown",
   "metadata": {},
   "source": [
    "## Distribution Has Claim"
   ]
  },
  {
   "cell_type": "code",
   "execution_count": 87,
   "metadata": {},
   "outputs": [],
   "source": [
    "df_1=df_s[['2.25STD_Range','has_claim_seller','ORD_ORDER_ID']]"
   ]
  },
  {
   "cell_type": "code",
   "execution_count": 88,
   "metadata": {},
   "outputs": [
    {
     "data": {
      "text/html": [
       "<div>\n",
       "<style scoped>\n",
       "    .dataframe tbody tr th:only-of-type {\n",
       "        vertical-align: middle;\n",
       "    }\n",
       "\n",
       "    .dataframe tbody tr th {\n",
       "        vertical-align: top;\n",
       "    }\n",
       "\n",
       "    .dataframe thead th {\n",
       "        text-align: right;\n",
       "    }\n",
       "</style>\n",
       "<table border=\"1\" class=\"dataframe\">\n",
       "  <thead>\n",
       "    <tr style=\"text-align: right;\">\n",
       "      <th></th>\n",
       "      <th>2.25STD_Range</th>\n",
       "      <th>has_claim_seller</th>\n",
       "      <th>ORD_ORDER_ID</th>\n",
       "      <th>TOTAL</th>\n",
       "      <th>Dis.[%]</th>\n",
       "    </tr>\n",
       "  </thead>\n",
       "  <tbody>\n",
       "    <tr>\n",
       "      <th>0</th>\n",
       "      <td>high_STD</td>\n",
       "      <td>0</td>\n",
       "      <td>21839</td>\n",
       "      <td>24364</td>\n",
       "      <td>89.6</td>\n",
       "    </tr>\n",
       "    <tr>\n",
       "      <th>1</th>\n",
       "      <td>high_STD</td>\n",
       "      <td>1</td>\n",
       "      <td>2525</td>\n",
       "      <td>24364</td>\n",
       "      <td>10.4</td>\n",
       "    </tr>\n",
       "    <tr>\n",
       "      <th>2</th>\n",
       "      <td>low_STD</td>\n",
       "      <td>0</td>\n",
       "      <td>5063</td>\n",
       "      <td>6738</td>\n",
       "      <td>75.1</td>\n",
       "    </tr>\n",
       "    <tr>\n",
       "      <th>3</th>\n",
       "      <td>low_STD</td>\n",
       "      <td>1</td>\n",
       "      <td>1675</td>\n",
       "      <td>6738</td>\n",
       "      <td>24.9</td>\n",
       "    </tr>\n",
       "    <tr>\n",
       "      <th>4</th>\n",
       "      <td>middle_STD</td>\n",
       "      <td>0</td>\n",
       "      <td>944044</td>\n",
       "      <td>1033650</td>\n",
       "      <td>91.3</td>\n",
       "    </tr>\n",
       "    <tr>\n",
       "      <th>5</th>\n",
       "      <td>middle_STD</td>\n",
       "      <td>1</td>\n",
       "      <td>89606</td>\n",
       "      <td>1033650</td>\n",
       "      <td>8.7</td>\n",
       "    </tr>\n",
       "  </tbody>\n",
       "</table>\n",
       "</div>"
      ],
      "text/plain": [
       "  2.25STD_Range  has_claim_seller  ORD_ORDER_ID    TOTAL  Dis.[%]\n",
       "0      high_STD                 0         21839    24364     89.6\n",
       "1      high_STD                 1          2525    24364     10.4\n",
       "2       low_STD                 0          5063     6738     75.1\n",
       "3       low_STD                 1          1675     6738     24.9\n",
       "4    middle_STD                 0        944044  1033650     91.3\n",
       "5    middle_STD                 1         89606  1033650      8.7"
      ]
     },
     "execution_count": 88,
     "metadata": {},
     "output_type": "execute_result"
    }
   ],
   "source": [
    "gb1=df_1.groupby(['2.25STD_Range','has_claim_seller']).count()\n",
    "gb1=gb1.reset_index()\n",
    "\n",
    "gb2=gb1[['2.25STD_Range','ORD_ORDER_ID']].groupby(['2.25STD_Range']).sum()\n",
    "gb2=gb2.reset_index()\n",
    "gb2['TOTAL']=gb2['ORD_ORDER_ID']\n",
    "gb2=gb2[['2.25STD_Range','TOTAL']]\n",
    "\n",
    "gb3 = pd.merge(left = gb1, right = gb2,\n",
    "                how = 'inner',\n",
    "                left_on='2.25STD_Range', right_on='2.25STD_Range')\n",
    "\n",
    "gb3['Dis.[%]']=(gb3['ORD_ORDER_ID']/gb3['TOTAL'])*100\n",
    "gb3['Dis.[%]']=gb3['Dis.[%]'].round(decimals=1)\n",
    "\n",
    "gb3"
   ]
  },
  {
   "cell_type": "code",
   "execution_count": 89,
   "metadata": {},
   "outputs": [
    {
     "data": {
      "image/png": "[encoded data removed]",
      "text/plain": [
       "<Figure size 432x288 with 1 Axes>"
      ]
     },
     "metadata": {
      "needs_background": "light"
     },
     "output_type": "display_data"
    }
   ],
   "source": [
    "sns.histplot(\n",
    "            data=df_1,\n",
    "            x=\"2.25STD_Range\",\n",
    "            hue=\"has_claim_seller\",\n",
    "            multiple=\"dodge\",\n",
    "            shrink=.8\n",
    "            ).set(title='Precio',ylabel='Orders');"
   ]
  },
  {
   "cell_type": "markdown",
   "metadata": {},
   "source": [
    "## Distribution is Refund"
   ]
  },
  {
   "cell_type": "code",
   "execution_count": 90,
   "metadata": {},
   "outputs": [],
   "source": [
    "df_1=df_s[['2.25STD_Range','is_refund','ORD_ORDER_ID']]"
   ]
  },
  {
   "cell_type": "code",
   "execution_count": 91,
   "metadata": {},
   "outputs": [
    {
     "data": {
      "text/html": [
       "<div>\n",
       "<style scoped>\n",
       "    .dataframe tbody tr th:only-of-type {\n",
       "        vertical-align: middle;\n",
       "    }\n",
       "\n",
       "    .dataframe tbody tr th {\n",
       "        vertical-align: top;\n",
       "    }\n",
       "\n",
       "    .dataframe thead th {\n",
       "        text-align: right;\n",
       "    }\n",
       "</style>\n",
       "<table border=\"1\" class=\"dataframe\">\n",
       "  <thead>\n",
       "    <tr style=\"text-align: right;\">\n",
       "      <th></th>\n",
       "      <th>2.25STD_Range</th>\n",
       "      <th>is_refund</th>\n",
       "      <th>ORD_ORDER_ID</th>\n",
       "      <th>TOTAL</th>\n",
       "      <th>Dis.[%]</th>\n",
       "    </tr>\n",
       "  </thead>\n",
       "  <tbody>\n",
       "    <tr>\n",
       "      <th>0</th>\n",
       "      <td>high_STD</td>\n",
       "      <td>0.0</td>\n",
       "      <td>21793</td>\n",
       "      <td>24364</td>\n",
       "      <td>89.4</td>\n",
       "    </tr>\n",
       "    <tr>\n",
       "      <th>1</th>\n",
       "      <td>high_STD</td>\n",
       "      <td>1.0</td>\n",
       "      <td>2571</td>\n",
       "      <td>24364</td>\n",
       "      <td>10.6</td>\n",
       "    </tr>\n",
       "    <tr>\n",
       "      <th>2</th>\n",
       "      <td>low_STD</td>\n",
       "      <td>0.0</td>\n",
       "      <td>4736</td>\n",
       "      <td>6735</td>\n",
       "      <td>70.3</td>\n",
       "    </tr>\n",
       "    <tr>\n",
       "      <th>3</th>\n",
       "      <td>low_STD</td>\n",
       "      <td>1.0</td>\n",
       "      <td>1999</td>\n",
       "      <td>6735</td>\n",
       "      <td>29.7</td>\n",
       "    </tr>\n",
       "    <tr>\n",
       "      <th>4</th>\n",
       "      <td>middle_STD</td>\n",
       "      <td>0.0</td>\n",
       "      <td>947223</td>\n",
       "      <td>1033636</td>\n",
       "      <td>91.6</td>\n",
       "    </tr>\n",
       "    <tr>\n",
       "      <th>5</th>\n",
       "      <td>middle_STD</td>\n",
       "      <td>1.0</td>\n",
       "      <td>86413</td>\n",
       "      <td>1033636</td>\n",
       "      <td>8.4</td>\n",
       "    </tr>\n",
       "  </tbody>\n",
       "</table>\n",
       "</div>"
      ],
      "text/plain": [
       "  2.25STD_Range  is_refund  ORD_ORDER_ID    TOTAL  Dis.[%]\n",
       "0      high_STD        0.0         21793    24364     89.4\n",
       "1      high_STD        1.0          2571    24364     10.6\n",
       "2       low_STD        0.0          4736     6735     70.3\n",
       "3       low_STD        1.0          1999     6735     29.7\n",
       "4    middle_STD        0.0        947223  1033636     91.6\n",
       "5    middle_STD        1.0         86413  1033636      8.4"
      ]
     },
     "execution_count": 91,
     "metadata": {},
     "output_type": "execute_result"
    }
   ],
   "source": [
    "gb1=df_1.groupby(['2.25STD_Range','is_refund']).count()\n",
    "gb1=gb1.reset_index()\n",
    "\n",
    "gb2=gb1[['2.25STD_Range','ORD_ORDER_ID']].groupby(['2.25STD_Range']).sum()\n",
    "gb2=gb2.reset_index()\n",
    "gb2['TOTAL']=gb2['ORD_ORDER_ID']\n",
    "gb2=gb2[['2.25STD_Range','TOTAL']]\n",
    "\n",
    "gb3 = pd.merge(left = gb1, right = gb2,\n",
    "                how = 'inner',\n",
    "                left_on='2.25STD_Range', right_on='2.25STD_Range')\n",
    "\n",
    "gb3['Dis.[%]']=(gb3['ORD_ORDER_ID']/gb3['TOTAL'])*100\n",
    "gb3['Dis.[%]']=gb3['Dis.[%]'].round(decimals=1)\n",
    "\n",
    "gb3"
   ]
  },
  {
   "cell_type": "code",
   "execution_count": 92,
   "metadata": {},
   "outputs": [
    {
     "data": {
      "image/png": "[encoded data removed]",
      "text/plain": [
       "<Figure size 432x288 with 1 Axes>"
      ]
     },
     "metadata": {
      "needs_background": "light"
     },
     "output_type": "display_data"
    }
   ],
   "source": [
    "sns.histplot(\n",
    "            data=df_1,\n",
    "            x=\"2.25STD_Range\",\n",
    "            hue=\"is_refund\",\n",
    "            multiple=\"dodge\",\n",
    "            shrink=.8\n",
    "            ).set(title='Precio',ylabel='Orders');"
   ]
  },
  {
   "cell_type": "markdown",
   "metadata": {},
   "source": [
    "## Distribution Active Items"
   ]
  },
  {
   "cell_type": "code",
   "execution_count": 93,
   "metadata": {},
   "outputs": [],
   "source": [
    "df_1=df_s[['2.25STD_Range','active_item','ORD_ORDER_ID']]"
   ]
  },
  {
   "cell_type": "code",
   "execution_count": 94,
   "metadata": {},
   "outputs": [
    {
     "data": {
      "text/html": [
       "<div>\n",
       "<style scoped>\n",
       "    .dataframe tbody tr th:only-of-type {\n",
       "        vertical-align: middle;\n",
       "    }\n",
       "\n",
       "    .dataframe tbody tr th {\n",
       "        vertical-align: top;\n",
       "    }\n",
       "\n",
       "    .dataframe thead th {\n",
       "        text-align: right;\n",
       "    }\n",
       "</style>\n",
       "<table border=\"1\" class=\"dataframe\">\n",
       "  <thead>\n",
       "    <tr style=\"text-align: right;\">\n",
       "      <th></th>\n",
       "      <th>2.25STD_Range</th>\n",
       "      <th>active_item</th>\n",
       "      <th>ORD_ORDER_ID</th>\n",
       "      <th>TOTAL</th>\n",
       "      <th>Dis.[%]</th>\n",
       "    </tr>\n",
       "  </thead>\n",
       "  <tbody>\n",
       "    <tr>\n",
       "      <th>0</th>\n",
       "      <td>high_STD</td>\n",
       "      <td>0</td>\n",
       "      <td>12147</td>\n",
       "      <td>24364</td>\n",
       "      <td>49.9</td>\n",
       "    </tr>\n",
       "    <tr>\n",
       "      <th>1</th>\n",
       "      <td>high_STD</td>\n",
       "      <td>1</td>\n",
       "      <td>12217</td>\n",
       "      <td>24364</td>\n",
       "      <td>50.1</td>\n",
       "    </tr>\n",
       "    <tr>\n",
       "      <th>2</th>\n",
       "      <td>low_STD</td>\n",
       "      <td>0</td>\n",
       "      <td>5123</td>\n",
       "      <td>6738</td>\n",
       "      <td>76.0</td>\n",
       "    </tr>\n",
       "    <tr>\n",
       "      <th>3</th>\n",
       "      <td>low_STD</td>\n",
       "      <td>1</td>\n",
       "      <td>1615</td>\n",
       "      <td>6738</td>\n",
       "      <td>24.0</td>\n",
       "    </tr>\n",
       "    <tr>\n",
       "      <th>4</th>\n",
       "      <td>middle_STD</td>\n",
       "      <td>0</td>\n",
       "      <td>534862</td>\n",
       "      <td>1033650</td>\n",
       "      <td>51.7</td>\n",
       "    </tr>\n",
       "    <tr>\n",
       "      <th>5</th>\n",
       "      <td>middle_STD</td>\n",
       "      <td>1</td>\n",
       "      <td>498788</td>\n",
       "      <td>1033650</td>\n",
       "      <td>48.3</td>\n",
       "    </tr>\n",
       "  </tbody>\n",
       "</table>\n",
       "</div>"
      ],
      "text/plain": [
       "  2.25STD_Range  active_item  ORD_ORDER_ID    TOTAL  Dis.[%]\n",
       "0      high_STD            0         12147    24364     49.9\n",
       "1      high_STD            1         12217    24364     50.1\n",
       "2       low_STD            0          5123     6738     76.0\n",
       "3       low_STD            1          1615     6738     24.0\n",
       "4    middle_STD            0        534862  1033650     51.7\n",
       "5    middle_STD            1        498788  1033650     48.3"
      ]
     },
     "execution_count": 94,
     "metadata": {},
     "output_type": "execute_result"
    }
   ],
   "source": [
    "gb1=df_1.groupby(['2.25STD_Range','active_item']).count()\n",
    "gb1=gb1.reset_index()\n",
    "\n",
    "gb2=gb1[['2.25STD_Range','ORD_ORDER_ID']].groupby(['2.25STD_Range']).sum()\n",
    "gb2=gb2.reset_index()\n",
    "gb2['TOTAL']=gb2['ORD_ORDER_ID']\n",
    "gb2=gb2[['2.25STD_Range','TOTAL']]\n",
    "\n",
    "gb3 = pd.merge(left = gb1, right = gb2,\n",
    "                how = 'inner',\n",
    "                left_on='2.25STD_Range', right_on='2.25STD_Range')\n",
    "\n",
    "gb3['Dis.[%]']=(gb3['ORD_ORDER_ID']/gb3['TOTAL'])*100\n",
    "gb3['Dis.[%]']=gb3['Dis.[%]'].round(decimals=1)\n",
    "\n",
    "gb3"
   ]
  },
  {
   "cell_type": "code",
   "execution_count": 95,
   "metadata": {},
   "outputs": [
    {
     "data": {
      "image/png": "[encoded data removed]",
      "text/plain": [
       "<Figure size 432x288 with 1 Axes>"
      ]
     },
     "metadata": {
      "needs_background": "light"
     },
     "output_type": "display_data"
    }
   ],
   "source": [
    "sns.histplot(\n",
    "            data=df_1,\n",
    "            x=\"2.25STD_Range\",\n",
    "            hue=\"active_item\",\n",
    "            multiple=\"dodge\",\n",
    "            shrink=.8\n",
    "            ).set(title='Precio',ylabel='Orders');"
   ]
  },
  {
   "cell_type": "markdown",
   "metadata": {},
   "source": [
    "## Distribution Trusted Orders"
   ]
  },
  {
   "cell_type": "code",
   "execution_count": 96,
   "metadata": {},
   "outputs": [],
   "source": [
    "df_1=df_s[['2.25STD_Range','order_trusted','ORD_ORDER_ID']]"
   ]
  },
  {
   "cell_type": "code",
   "execution_count": 97,
   "metadata": {},
   "outputs": [
    {
     "data": {
      "text/html": [
       "<div>\n",
       "<style scoped>\n",
       "    .dataframe tbody tr th:only-of-type {\n",
       "        vertical-align: middle;\n",
       "    }\n",
       "\n",
       "    .dataframe tbody tr th {\n",
       "        vertical-align: top;\n",
       "    }\n",
       "\n",
       "    .dataframe thead th {\n",
       "        text-align: right;\n",
       "    }\n",
       "</style>\n",
       "<table border=\"1\" class=\"dataframe\">\n",
       "  <thead>\n",
       "    <tr style=\"text-align: right;\">\n",
       "      <th></th>\n",
       "      <th>2.25STD_Range</th>\n",
       "      <th>order_trusted</th>\n",
       "      <th>ORD_ORDER_ID</th>\n",
       "      <th>TOTAL</th>\n",
       "      <th>Dis.[%]</th>\n",
       "    </tr>\n",
       "  </thead>\n",
       "  <tbody>\n",
       "    <tr>\n",
       "      <th>0</th>\n",
       "      <td>high_STD</td>\n",
       "      <td>0</td>\n",
       "      <td>604</td>\n",
       "      <td>24364</td>\n",
       "      <td>2.5</td>\n",
       "    </tr>\n",
       "    <tr>\n",
       "      <th>1</th>\n",
       "      <td>high_STD</td>\n",
       "      <td>1</td>\n",
       "      <td>23760</td>\n",
       "      <td>24364</td>\n",
       "      <td>97.5</td>\n",
       "    </tr>\n",
       "    <tr>\n",
       "      <th>2</th>\n",
       "      <td>low_STD</td>\n",
       "      <td>0</td>\n",
       "      <td>1785</td>\n",
       "      <td>6738</td>\n",
       "      <td>26.5</td>\n",
       "    </tr>\n",
       "    <tr>\n",
       "      <th>3</th>\n",
       "      <td>low_STD</td>\n",
       "      <td>1</td>\n",
       "      <td>4953</td>\n",
       "      <td>6738</td>\n",
       "      <td>73.5</td>\n",
       "    </tr>\n",
       "    <tr>\n",
       "      <th>4</th>\n",
       "      <td>middle_STD</td>\n",
       "      <td>0</td>\n",
       "      <td>18955</td>\n",
       "      <td>1033650</td>\n",
       "      <td>1.8</td>\n",
       "    </tr>\n",
       "    <tr>\n",
       "      <th>5</th>\n",
       "      <td>middle_STD</td>\n",
       "      <td>1</td>\n",
       "      <td>1014695</td>\n",
       "      <td>1033650</td>\n",
       "      <td>98.2</td>\n",
       "    </tr>\n",
       "  </tbody>\n",
       "</table>\n",
       "</div>"
      ],
      "text/plain": [
       "  2.25STD_Range  order_trusted  ORD_ORDER_ID    TOTAL  Dis.[%]\n",
       "0      high_STD              0           604    24364      2.5\n",
       "1      high_STD              1         23760    24364     97.5\n",
       "2       low_STD              0          1785     6738     26.5\n",
       "3       low_STD              1          4953     6738     73.5\n",
       "4    middle_STD              0         18955  1033650      1.8\n",
       "5    middle_STD              1       1014695  1033650     98.2"
      ]
     },
     "execution_count": 97,
     "metadata": {},
     "output_type": "execute_result"
    }
   ],
   "source": [
    "gb1=df_1.groupby(['2.25STD_Range','order_trusted']).count()\n",
    "gb1=gb1.reset_index()\n",
    "\n",
    "gb2=gb1[['2.25STD_Range','ORD_ORDER_ID']].groupby(['2.25STD_Range']).sum()\n",
    "gb2=gb2.reset_index()\n",
    "gb2['TOTAL']=gb2['ORD_ORDER_ID']\n",
    "gb2=gb2[['2.25STD_Range','TOTAL']]\n",
    "\n",
    "gb3 = pd.merge(left = gb1, right = gb2,\n",
    "                how = 'inner',\n",
    "                left_on='2.25STD_Range', right_on='2.25STD_Range')\n",
    "\n",
    "gb3['Dis.[%]']=(gb3['ORD_ORDER_ID']/gb3['TOTAL'])*100\n",
    "gb3['Dis.[%]']=gb3['Dis.[%]'].round(decimals=1)\n",
    "\n",
    "gb3"
   ]
  },
  {
   "cell_type": "code",
   "execution_count": 98,
   "metadata": {},
   "outputs": [
    {
     "data": {
      "image/png": "[encoded data removed]",
      "text/plain": [
       "<Figure size 432x288 with 1 Axes>"
      ]
     },
     "metadata": {
      "needs_background": "light"
     },
     "output_type": "display_data"
    }
   ],
   "source": [
    "sns.histplot(\n",
    "            data=df_1,\n",
    "            x=\"2.25STD_Range\",\n",
    "            hue=\"order_trusted\",\n",
    "            multiple=\"dodge\",\n",
    "            shrink=.8\n",
    "            ).set(title='Precio',ylabel='Orders');"
   ]
  },
  {
   "cell_type": "markdown",
   "metadata": {},
   "source": [
    "## Keep columns of interest"
   ]
  },
  {
   "cell_type": "code",
   "execution_count": 99,
   "metadata": {},
   "outputs": [
    {
     "data": {
      "text/plain": [
       "Index(['CTLG_PROD_ID', 'ORD_ORDER_ID', 'CUS_CUST_ID_SEL', 'ITE_ITEM_ID',\n",
       "       'ITE_BASE_CURRENT_PRICE', 'active_item', 'flag_bad_item',\n",
       "       'flag_bad_user', 'order_trusted', 'is_buybox', 'has_bpp',\n",
       "       'has_claim_seller', 'is_refund', 'bpp_cashout_final', 'bad_order',\n",
       "       'mean', 'STDx1', 'STDx1.25', 'STDx1.5', 'STDx1.75', 'STDx2', 'STDx2.25',\n",
       "       'STDx2.5', 'STDx2.75', 'STDx3', 'media-1std', 'media-1.25std',\n",
       "       'media-1.5std', 'media-1.75std', 'media-2std', 'media-2.25std',\n",
       "       'media-2.5std', 'media-2.75std', 'media-3std', 'Low_1STD',\n",
       "       'Low_1.25STD', 'Low_1.5STD', 'Low_1.75STD', 'Low_2STD', 'Low_2.25STD',\n",
       "       'Low_2.5STD', 'Low_2.75STD', 'Low_3STD', 'media+1std', 'media+1.25std',\n",
       "       'media+1.5std', 'media+1.75std', 'media+2std', 'media+2.25std',\n",
       "       'media+2.5std', 'media+2.75std', 'media+3std', 'High_1STD',\n",
       "       'High_1.25STD', 'High_1.5STD', 'High_1.75STD', 'High_2STD',\n",
       "       'High_2.25STD', 'High_2.5STD', 'High_2.75STD', 'High_3STD',\n",
       "       '1STD_Range', '1.25STD_Range', '1.5STD_Range', '1.75STD_Range',\n",
       "       '2STD_Range', '2.25STD_Range', '2.5STD_Range', '2.75STD_Range',\n",
       "       '3STD_Range'],\n",
       "      dtype='object')"
      ]
     },
     "execution_count": 99,
     "metadata": {},
     "output_type": "execute_result"
    }
   ],
   "source": [
    "df_s.columns"
   ]
  },
  {
   "cell_type": "code",
   "execution_count": 100,
   "metadata": {},
   "outputs": [],
   "source": [
    "df_f = df_s.drop(columns=['STDx1', 'STDx1.25', 'STDx1.5', 'STDx1.75', 'STDx2', 'STDx2.25',\n",
    "       'STDx2.5', 'STDx2.75', 'STDx3', 'media-1std', 'media-1.25std',\n",
    "       'media-1.5std', 'media-1.75std', 'media-2std', 'media-2.25std',\n",
    "       'media-2.5std', 'media-2.75std', 'media-3std', 'Low_1STD',\n",
    "       'Low_1.25STD', 'Low_1.5STD', 'Low_1.75STD', 'Low_2STD', 'Low_2.25STD',\n",
    "       'Low_2.5STD', 'Low_2.75STD', 'Low_3STD', 'media+1std', 'media+1.25std',\n",
    "       'media+1.5std', 'media+1.75std', 'media+2std', 'media+2.25std',\n",
    "       'media+2.5std', 'media+2.75std', 'media+3std', 'High_1STD',\n",
    "       'High_1.25STD', 'High_1.5STD', 'High_1.75STD', 'High_2STD',\n",
    "       'High_2.25STD', 'High_2.5STD', 'High_2.75STD', 'High_3STD',\n",
    "       '1STD_Range', '1.25STD_Range', '1.5STD_Range', '1.75STD_Range',\n",
    "       '2STD_Range', '2.5STD_Range', '2.75STD_Range',\n",
    "       '3STD_Range', 'ORD_ORDER_ID', 'order_trusted', 'is_buybox', 'has_bpp',\n",
    "       'has_claim_seller', 'is_refund', 'bpp_cashout_final', 'bad_order'])\n",
    "                            "
   ]
  },
  {
   "cell_type": "code",
   "execution_count": 101,
   "metadata": {},
   "outputs": [
    {
     "data": {
      "text/plain": [
       "Index(['CTLG_PROD_ID', 'CUS_CUST_ID_SEL', 'ITE_ITEM_ID',\n",
       "       'ITE_BASE_CURRENT_PRICE', 'active_item', 'flag_bad_item',\n",
       "       'flag_bad_user', 'mean', '2.25STD_Range'],\n",
       "      dtype='object')"
      ]
     },
     "execution_count": 101,
     "metadata": {},
     "output_type": "execute_result"
    }
   ],
   "source": [
    "df_f.columns"
   ]
  },
  {
   "cell_type": "code",
   "execution_count": 102,
   "metadata": {},
   "outputs": [
    {
     "data": {
      "text/html": [
       "<div>\n",
       "<style scoped>\n",
       "    .dataframe tbody tr th:only-of-type {\n",
       "        vertical-align: middle;\n",
       "    }\n",
       "\n",
       "    .dataframe tbody tr th {\n",
       "        vertical-align: top;\n",
       "    }\n",
       "\n",
       "    .dataframe thead th {\n",
       "        text-align: right;\n",
       "    }\n",
       "</style>\n",
       "<table border=\"1\" class=\"dataframe\">\n",
       "  <thead>\n",
       "    <tr style=\"text-align: right;\">\n",
       "      <th></th>\n",
       "      <th>CTLG_PROD_ID</th>\n",
       "      <th>CUS_CUST_ID_SEL</th>\n",
       "      <th>ITE_ITEM_ID</th>\n",
       "      <th>ITE_BASE_CURRENT_PRICE</th>\n",
       "      <th>active_item</th>\n",
       "      <th>flag_bad_item</th>\n",
       "      <th>flag_bad_user</th>\n",
       "      <th>mean</th>\n",
       "      <th>2.25STD_Range</th>\n",
       "    </tr>\n",
       "  </thead>\n",
       "  <tbody>\n",
       "    <tr>\n",
       "      <th>906118</th>\n",
       "      <td>16222632</td>\n",
       "      <td>468666100</td>\n",
       "      <td>1776953238</td>\n",
       "      <td>762.21</td>\n",
       "      <td>0</td>\n",
       "      <td>0</td>\n",
       "      <td>0</td>\n",
       "      <td>666.50</td>\n",
       "      <td>middle_STD</td>\n",
       "    </tr>\n",
       "    <tr>\n",
       "      <th>615738</th>\n",
       "      <td>15703578</td>\n",
       "      <td>237587727</td>\n",
       "      <td>1578176901</td>\n",
       "      <td>19.84</td>\n",
       "      <td>1</td>\n",
       "      <td>0</td>\n",
       "      <td>0</td>\n",
       "      <td>16.72</td>\n",
       "      <td>high_STD</td>\n",
       "    </tr>\n",
       "    <tr>\n",
       "      <th>36109</th>\n",
       "      <td>6085394</td>\n",
       "      <td>532562854</td>\n",
       "      <td>1914743304</td>\n",
       "      <td>66.82</td>\n",
       "      <td>0</td>\n",
       "      <td>0</td>\n",
       "      <td>0</td>\n",
       "      <td>69.28</td>\n",
       "      <td>middle_STD</td>\n",
       "    </tr>\n",
       "    <tr>\n",
       "      <th>938518</th>\n",
       "      <td>16589778</td>\n",
       "      <td>707758915</td>\n",
       "      <td>1836344046</td>\n",
       "      <td>51.44</td>\n",
       "      <td>0</td>\n",
       "      <td>1</td>\n",
       "      <td>0</td>\n",
       "      <td>57.27</td>\n",
       "      <td>middle_STD</td>\n",
       "    </tr>\n",
       "    <tr>\n",
       "      <th>1045417</th>\n",
       "      <td>17780161</td>\n",
       "      <td>526170740</td>\n",
       "      <td>1861930223</td>\n",
       "      <td>354.33</td>\n",
       "      <td>0</td>\n",
       "      <td>0</td>\n",
       "      <td>0</td>\n",
       "      <td>389.72</td>\n",
       "      <td>middle_STD</td>\n",
       "    </tr>\n",
       "  </tbody>\n",
       "</table>\n",
       "</div>"
      ],
      "text/plain": [
       "         CTLG_PROD_ID  CUS_CUST_ID_SEL  ITE_ITEM_ID  ITE_BASE_CURRENT_PRICE  \\\n",
       "906118       16222632        468666100   1776953238                  762.21   \n",
       "615738       15703578        237587727   1578176901                   19.84   \n",
       "36109         6085394        532562854   1914743304                   66.82   \n",
       "938518       16589778        707758915   1836344046                   51.44   \n",
       "1045417      17780161        526170740   1861930223                  354.33   \n",
       "\n",
       "         active_item  flag_bad_item  flag_bad_user    mean 2.25STD_Range  \n",
       "906118             0              0              0  666.50    middle_STD  \n",
       "615738             1              0              0   16.72      high_STD  \n",
       "36109              0              0              0   69.28    middle_STD  \n",
       "938518             0              1              0   57.27    middle_STD  \n",
       "1045417            0              0              0  389.72    middle_STD  "
      ]
     },
     "execution_count": 102,
     "metadata": {},
     "output_type": "execute_result"
    }
   ],
   "source": [
    "df_f.sample(5)"
   ]
  },
  {
   "cell_type": "markdown",
   "metadata": {},
   "source": [
    "## Delate Duplicate Items"
   ]
  },
  {
   "cell_type": "code",
   "execution_count": 103,
   "metadata": {},
   "outputs": [
    {
     "data": {
      "text/plain": [
       "(1064752, 9)"
      ]
     },
     "execution_count": 103,
     "metadata": {},
     "output_type": "execute_result"
    }
   ],
   "source": [
    "df_f.shape"
   ]
  },
  {
   "cell_type": "code",
   "execution_count": 104,
   "metadata": {},
   "outputs": [],
   "source": [
    "df_f = df_f.drop_duplicates(subset=['ITE_ITEM_ID'])"
   ]
  },
  {
   "cell_type": "code",
   "execution_count": 105,
   "metadata": {
    "scrolled": true
   },
   "outputs": [
    {
     "data": {
      "text/plain": [
       "(113858, 9)"
      ]
     },
     "execution_count": 105,
     "metadata": {},
     "output_type": "execute_result"
    }
   ],
   "source": [
    "df_f.shape"
   ]
  },
  {
   "cell_type": "code",
   "execution_count": 126,
   "metadata": {},
   "outputs": [],
   "source": [
    "aaa=df_f[df_f['flag_bad_item']==1]"
   ]
  },
  {
   "cell_type": "code",
   "execution_count": 129,
   "metadata": {},
   "outputs": [
    {
     "data": {
      "text/html": [
       "<div>\n",
       "<style scoped>\n",
       "    .dataframe tbody tr th:only-of-type {\n",
       "        vertical-align: middle;\n",
       "    }\n",
       "\n",
       "    .dataframe tbody tr th {\n",
       "        vertical-align: top;\n",
       "    }\n",
       "\n",
       "    .dataframe thead th {\n",
       "        text-align: right;\n",
       "    }\n",
       "</style>\n",
       "<table border=\"1\" class=\"dataframe\">\n",
       "  <thead>\n",
       "    <tr style=\"text-align: right;\">\n",
       "      <th></th>\n",
       "      <th>CTLG_PROD_ID</th>\n",
       "      <th>CUS_CUST_ID_SEL</th>\n",
       "      <th>ITE_ITEM_ID</th>\n",
       "      <th>ITE_BASE_CURRENT_PRICE</th>\n",
       "      <th>active_item</th>\n",
       "      <th>flag_bad_item</th>\n",
       "      <th>flag_bad_user</th>\n",
       "      <th>mean</th>\n",
       "      <th>2.25STD_Range</th>\n",
       "    </tr>\n",
       "  </thead>\n",
       "  <tbody>\n",
       "    <tr>\n",
       "      <th>825875</th>\n",
       "      <td>16085225</td>\n",
       "      <td>260243872</td>\n",
       "      <td>1919271558</td>\n",
       "      <td>285.81</td>\n",
       "      <td>0</td>\n",
       "      <td>1</td>\n",
       "      <td>0</td>\n",
       "      <td>568.40</td>\n",
       "      <td>middle_STD</td>\n",
       "    </tr>\n",
       "    <tr>\n",
       "      <th>613168</th>\n",
       "      <td>15701846</td>\n",
       "      <td>84714523</td>\n",
       "      <td>1860302228</td>\n",
       "      <td>32.19</td>\n",
       "      <td>0</td>\n",
       "      <td>1</td>\n",
       "      <td>0</td>\n",
       "      <td>49.56</td>\n",
       "      <td>low_STD</td>\n",
       "    </tr>\n",
       "    <tr>\n",
       "      <th>628944</th>\n",
       "      <td>15741060</td>\n",
       "      <td>477445382</td>\n",
       "      <td>1378967152</td>\n",
       "      <td>2.37</td>\n",
       "      <td>0</td>\n",
       "      <td>1</td>\n",
       "      <td>1</td>\n",
       "      <td>2.49</td>\n",
       "      <td>middle_STD</td>\n",
       "    </tr>\n",
       "    <tr>\n",
       "      <th>154495</th>\n",
       "      <td>7910150</td>\n",
       "      <td>500859485</td>\n",
       "      <td>1921222286</td>\n",
       "      <td>258.24</td>\n",
       "      <td>0</td>\n",
       "      <td>1</td>\n",
       "      <td>0</td>\n",
       "      <td>436.88</td>\n",
       "      <td>low_STD</td>\n",
       "    </tr>\n",
       "    <tr>\n",
       "      <th>292900</th>\n",
       "      <td>12104148</td>\n",
       "      <td>783913659</td>\n",
       "      <td>1933938265</td>\n",
       "      <td>39.98</td>\n",
       "      <td>0</td>\n",
       "      <td>1</td>\n",
       "      <td>0</td>\n",
       "      <td>40.86</td>\n",
       "      <td>middle_STD</td>\n",
       "    </tr>\n",
       "  </tbody>\n",
       "</table>\n",
       "</div>"
      ],
      "text/plain": [
       "        CTLG_PROD_ID  CUS_CUST_ID_SEL  ITE_ITEM_ID  ITE_BASE_CURRENT_PRICE  \\\n",
       "825875      16085225        260243872   1919271558                  285.81   \n",
       "613168      15701846         84714523   1860302228                   32.19   \n",
       "628944      15741060        477445382   1378967152                    2.37   \n",
       "154495       7910150        500859485   1921222286                  258.24   \n",
       "292900      12104148        783913659   1933938265                   39.98   \n",
       "\n",
       "        active_item  flag_bad_item  flag_bad_user    mean 2.25STD_Range  \n",
       "825875            0              1              0  568.40    middle_STD  \n",
       "613168            0              1              0   49.56       low_STD  \n",
       "628944            0              1              1    2.49    middle_STD  \n",
       "154495            0              1              0  436.88       low_STD  \n",
       "292900            0              1              0   40.86    middle_STD  "
      ]
     },
     "execution_count": 129,
     "metadata": {},
     "output_type": "execute_result"
    }
   ],
   "source": [
    "aaa.sample(5)"
   ]
  },
  {
   "cell_type": "markdown",
   "metadata": {},
   "source": [
    "## Active Items"
   ]
  },
  {
   "cell_type": "code",
   "execution_count": 130,
   "metadata": {},
   "outputs": [],
   "source": [
    "df_1=df_f[['2.25STD_Range','active_item','ITE_ITEM_ID']]"
   ]
  },
  {
   "cell_type": "code",
   "execution_count": 131,
   "metadata": {},
   "outputs": [
    {
     "data": {
      "text/html": [
       "<div>\n",
       "<style scoped>\n",
       "    .dataframe tbody tr th:only-of-type {\n",
       "        vertical-align: middle;\n",
       "    }\n",
       "\n",
       "    .dataframe tbody tr th {\n",
       "        vertical-align: top;\n",
       "    }\n",
       "\n",
       "    .dataframe thead th {\n",
       "        text-align: right;\n",
       "    }\n",
       "</style>\n",
       "<table border=\"1\" class=\"dataframe\">\n",
       "  <thead>\n",
       "    <tr style=\"text-align: right;\">\n",
       "      <th></th>\n",
       "      <th>2.25STD_Range</th>\n",
       "      <th>active_item</th>\n",
       "      <th>ITE_ITEM_ID</th>\n",
       "      <th>TOTAL</th>\n",
       "      <th>Dis.[%]</th>\n",
       "    </tr>\n",
       "  </thead>\n",
       "  <tbody>\n",
       "    <tr>\n",
       "      <th>0</th>\n",
       "      <td>high_STD</td>\n",
       "      <td>0</td>\n",
       "      <td>3459</td>\n",
       "      <td>7435</td>\n",
       "      <td>46.5</td>\n",
       "    </tr>\n",
       "    <tr>\n",
       "      <th>1</th>\n",
       "      <td>high_STD</td>\n",
       "      <td>1</td>\n",
       "      <td>3976</td>\n",
       "      <td>7435</td>\n",
       "      <td>53.5</td>\n",
       "    </tr>\n",
       "    <tr>\n",
       "      <th>2</th>\n",
       "      <td>low_STD</td>\n",
       "      <td>0</td>\n",
       "      <td>2372</td>\n",
       "      <td>2873</td>\n",
       "      <td>82.6</td>\n",
       "    </tr>\n",
       "    <tr>\n",
       "      <th>3</th>\n",
       "      <td>low_STD</td>\n",
       "      <td>1</td>\n",
       "      <td>501</td>\n",
       "      <td>2873</td>\n",
       "      <td>17.4</td>\n",
       "    </tr>\n",
       "    <tr>\n",
       "      <th>4</th>\n",
       "      <td>middle_STD</td>\n",
       "      <td>0</td>\n",
       "      <td>63787</td>\n",
       "      <td>103550</td>\n",
       "      <td>61.6</td>\n",
       "    </tr>\n",
       "    <tr>\n",
       "      <th>5</th>\n",
       "      <td>middle_STD</td>\n",
       "      <td>1</td>\n",
       "      <td>39763</td>\n",
       "      <td>103550</td>\n",
       "      <td>38.4</td>\n",
       "    </tr>\n",
       "  </tbody>\n",
       "</table>\n",
       "</div>"
      ],
      "text/plain": [
       "  2.25STD_Range  active_item  ITE_ITEM_ID   TOTAL  Dis.[%]\n",
       "0      high_STD            0         3459    7435     46.5\n",
       "1      high_STD            1         3976    7435     53.5\n",
       "2       low_STD            0         2372    2873     82.6\n",
       "3       low_STD            1          501    2873     17.4\n",
       "4    middle_STD            0        63787  103550     61.6\n",
       "5    middle_STD            1        39763  103550     38.4"
      ]
     },
     "execution_count": 131,
     "metadata": {},
     "output_type": "execute_result"
    }
   ],
   "source": [
    "gb1=df_1.groupby(['2.25STD_Range','active_item']).count()\n",
    "gb1=gb1.reset_index()\n",
    "\n",
    "gb2=gb1[['2.25STD_Range','ITE_ITEM_ID']].groupby(['2.25STD_Range']).sum()\n",
    "gb2=gb2.reset_index()\n",
    "gb2['TOTAL']=gb2['ITE_ITEM_ID']\n",
    "gb2=gb2[['2.25STD_Range','TOTAL']]\n",
    "\n",
    "gb3 = pd.merge(left = gb1, right = gb2,\n",
    "                how = 'inner',\n",
    "                left_on='2.25STD_Range', right_on='2.25STD_Range')\n",
    "\n",
    "gb3['Dis.[%]']=(gb3['ITE_ITEM_ID']/gb3['TOTAL'])*100\n",
    "gb3['Dis.[%]']=gb3['Dis.[%]'].round(decimals=1)\n",
    "\n",
    "gb3"
   ]
  },
  {
   "cell_type": "markdown",
   "metadata": {},
   "source": [
    "## Blocked Items"
   ]
  },
  {
   "cell_type": "code",
   "execution_count": 132,
   "metadata": {},
   "outputs": [],
   "source": [
    "df_1=df_f[['2.25STD_Range','flag_bad_item','ITE_ITEM_ID']]"
   ]
  },
  {
   "cell_type": "code",
   "execution_count": 133,
   "metadata": {},
   "outputs": [
    {
     "data": {
      "text/html": [
       "<div>\n",
       "<style scoped>\n",
       "    .dataframe tbody tr th:only-of-type {\n",
       "        vertical-align: middle;\n",
       "    }\n",
       "\n",
       "    .dataframe tbody tr th {\n",
       "        vertical-align: top;\n",
       "    }\n",
       "\n",
       "    .dataframe thead th {\n",
       "        text-align: right;\n",
       "    }\n",
       "</style>\n",
       "<table border=\"1\" class=\"dataframe\">\n",
       "  <thead>\n",
       "    <tr style=\"text-align: right;\">\n",
       "      <th></th>\n",
       "      <th>2.25STD_Range</th>\n",
       "      <th>flag_bad_item</th>\n",
       "      <th>ITE_ITEM_ID</th>\n",
       "      <th>TOTAL</th>\n",
       "      <th>Dis.[%]</th>\n",
       "    </tr>\n",
       "  </thead>\n",
       "  <tbody>\n",
       "    <tr>\n",
       "      <th>0</th>\n",
       "      <td>high_STD</td>\n",
       "      <td>0</td>\n",
       "      <td>7121</td>\n",
       "      <td>7435</td>\n",
       "      <td>95.8</td>\n",
       "    </tr>\n",
       "    <tr>\n",
       "      <th>1</th>\n",
       "      <td>high_STD</td>\n",
       "      <td>1</td>\n",
       "      <td>314</td>\n",
       "      <td>7435</td>\n",
       "      <td>4.2</td>\n",
       "    </tr>\n",
       "    <tr>\n",
       "      <th>2</th>\n",
       "      <td>low_STD</td>\n",
       "      <td>0</td>\n",
       "      <td>2160</td>\n",
       "      <td>2873</td>\n",
       "      <td>75.2</td>\n",
       "    </tr>\n",
       "    <tr>\n",
       "      <th>3</th>\n",
       "      <td>low_STD</td>\n",
       "      <td>1</td>\n",
       "      <td>713</td>\n",
       "      <td>2873</td>\n",
       "      <td>24.8</td>\n",
       "    </tr>\n",
       "    <tr>\n",
       "      <th>4</th>\n",
       "      <td>middle_STD</td>\n",
       "      <td>0</td>\n",
       "      <td>96643</td>\n",
       "      <td>103550</td>\n",
       "      <td>93.3</td>\n",
       "    </tr>\n",
       "    <tr>\n",
       "      <th>5</th>\n",
       "      <td>middle_STD</td>\n",
       "      <td>1</td>\n",
       "      <td>6907</td>\n",
       "      <td>103550</td>\n",
       "      <td>6.7</td>\n",
       "    </tr>\n",
       "  </tbody>\n",
       "</table>\n",
       "</div>"
      ],
      "text/plain": [
       "  2.25STD_Range  flag_bad_item  ITE_ITEM_ID   TOTAL  Dis.[%]\n",
       "0      high_STD              0         7121    7435     95.8\n",
       "1      high_STD              1          314    7435      4.2\n",
       "2       low_STD              0         2160    2873     75.2\n",
       "3       low_STD              1          713    2873     24.8\n",
       "4    middle_STD              0        96643  103550     93.3\n",
       "5    middle_STD              1         6907  103550      6.7"
      ]
     },
     "execution_count": 133,
     "metadata": {},
     "output_type": "execute_result"
    }
   ],
   "source": [
    "gb1=df_1.groupby(['2.25STD_Range','flag_bad_item']).count()\n",
    "gb1=gb1.reset_index()\n",
    "\n",
    "gb2=gb1[['2.25STD_Range','ITE_ITEM_ID']].groupby(['2.25STD_Range']).sum()\n",
    "gb2=gb2.reset_index()\n",
    "gb2['TOTAL']=gb2['ITE_ITEM_ID']\n",
    "gb2=gb2[['2.25STD_Range','TOTAL']]\n",
    "\n",
    "gb3 = pd.merge(left = gb1, right = gb2,\n",
    "                how = 'inner',\n",
    "                left_on='2.25STD_Range', right_on='2.25STD_Range')\n",
    "\n",
    "gb3['Dis.[%]']=(gb3['ITE_ITEM_ID']/gb3['TOTAL'])*100\n",
    "gb3['Dis.[%]']=gb3['Dis.[%]'].round(decimals=1)\n",
    "\n",
    "gb3"
   ]
  },
  {
   "cell_type": "markdown",
   "metadata": {},
   "source": [
    "## DFs with low_STD"
   ]
  },
  {
   "cell_type": "code",
   "execution_count": 134,
   "metadata": {},
   "outputs": [],
   "source": [
    "ord_tot = df_s.drop(columns=['STDx1', 'STDx1.25', 'STDx1.5', 'STDx1.75', 'STDx2', 'STDx2.25',\n",
    "       'STDx2.5', 'STDx2.75', 'STDx3', 'media-1std', 'media-1.25std',\n",
    "       'media-1.5std', 'media-1.75std', 'media-2std', 'media-2.25std',\n",
    "       'media-2.5std', 'media-2.75std', 'media-3std', 'Low_1STD',\n",
    "       'Low_1.25STD', 'Low_1.5STD', 'Low_1.75STD', 'Low_2STD', 'Low_2.25STD',\n",
    "       'Low_2.5STD', 'Low_2.75STD', 'Low_3STD', 'media+1std', 'media+1.25std',\n",
    "       'media+1.5std', 'media+1.75std', 'media+2std', 'media+2.25std',\n",
    "       'media+2.5std', 'media+2.75std', 'media+3std', 'High_1STD',\n",
    "       'High_1.25STD', 'High_1.5STD', 'High_1.75STD', 'High_2STD',\n",
    "       'High_2.25STD', 'High_2.5STD', 'High_2.75STD', 'High_3STD',\n",
    "       '1STD_Range', '1.25STD_Range', '1.5STD_Range', '1.75STD_Range',\n",
    "       '2STD_Range', '2.5STD_Range', '2.75STD_Range',\n",
    "       '3STD_Range'])"
   ]
  },
  {
   "cell_type": "code",
   "execution_count": 135,
   "metadata": {},
   "outputs": [],
   "source": [
    "ord_low = ord_tot[ord_tot['2.25STD_Range']=='low_STD']"
   ]
  },
  {
   "cell_type": "code",
   "execution_count": 136,
   "metadata": {},
   "outputs": [
    {
     "data": {
      "text/plain": [
       "(6738, 17)"
      ]
     },
     "execution_count": 136,
     "metadata": {},
     "output_type": "execute_result"
    }
   ],
   "source": [
    "ord_low.shape"
   ]
  },
  {
   "cell_type": "code",
   "execution_count": 137,
   "metadata": {},
   "outputs": [],
   "source": [
    "ite_low = df_f[df_f['2.25STD_Range']=='low_STD']"
   ]
  },
  {
   "cell_type": "code",
   "execution_count": 138,
   "metadata": {},
   "outputs": [
    {
     "data": {
      "text/plain": [
       "(2873, 9)"
      ]
     },
     "execution_count": 138,
     "metadata": {},
     "output_type": "execute_result"
    }
   ],
   "source": [
    "ite_low.shape"
   ]
  },
  {
   "cell_type": "code",
   "execution_count": 199,
   "metadata": {},
   "outputs": [],
   "source": [
    "df_c = ord_tot.drop_duplicates(subset=['CUS_CUST_ID_SEL'])"
   ]
  },
  {
   "cell_type": "code",
   "execution_count": 200,
   "metadata": {},
   "outputs": [],
   "source": [
    "cus_low = df_c[df_c['2.25STD_Range']=='low_STD']"
   ]
  },
  {
   "cell_type": "code",
   "execution_count": 202,
   "metadata": {},
   "outputs": [
    {
     "data": {
      "text/plain": [
       "(1196, 17)"
      ]
     },
     "execution_count": 202,
     "metadata": {},
     "output_type": "execute_result"
    }
   ],
   "source": [
    "cus_low.shape"
   ]
  },
  {
   "cell_type": "markdown",
   "metadata": {},
   "source": [
    "## Orders Graphics"
   ]
  },
  {
   "cell_type": "code",
   "execution_count": 139,
   "metadata": {},
   "outputs": [],
   "source": [
    "df_1=ord_low[['order_trusted','ORD_ORDER_ID']]"
   ]
  },
  {
   "cell_type": "code",
   "execution_count": 140,
   "metadata": {},
   "outputs": [
    {
     "data": {
      "text/html": [
       "<div>\n",
       "<style scoped>\n",
       "    .dataframe tbody tr th:only-of-type {\n",
       "        vertical-align: middle;\n",
       "    }\n",
       "\n",
       "    .dataframe tbody tr th {\n",
       "        vertical-align: top;\n",
       "    }\n",
       "\n",
       "    .dataframe thead th {\n",
       "        text-align: right;\n",
       "    }\n",
       "</style>\n",
       "<table border=\"1\" class=\"dataframe\">\n",
       "  <thead>\n",
       "    <tr style=\"text-align: right;\">\n",
       "      <th></th>\n",
       "      <th>order_trusted</th>\n",
       "      <th>ORD_ORDER_ID</th>\n",
       "      <th>TOTAL</th>\n",
       "      <th>Dis.[%]</th>\n",
       "    </tr>\n",
       "  </thead>\n",
       "  <tbody>\n",
       "    <tr>\n",
       "      <th>0</th>\n",
       "      <td>0</td>\n",
       "      <td>1785</td>\n",
       "      <td>6738</td>\n",
       "      <td>26.5</td>\n",
       "    </tr>\n",
       "    <tr>\n",
       "      <th>1</th>\n",
       "      <td>1</td>\n",
       "      <td>4953</td>\n",
       "      <td>6738</td>\n",
       "      <td>73.5</td>\n",
       "    </tr>\n",
       "  </tbody>\n",
       "</table>\n",
       "</div>"
      ],
      "text/plain": [
       "   order_trusted  ORD_ORDER_ID  TOTAL  Dis.[%]\n",
       "0              0          1785   6738     26.5\n",
       "1              1          4953   6738     73.5"
      ]
     },
     "execution_count": 140,
     "metadata": {},
     "output_type": "execute_result"
    }
   ],
   "source": [
    "gb1=df_1.groupby(['order_trusted']).count()\n",
    "gb1=gb1.reset_index()\n",
    "\n",
    "gb2=gb1[['ORD_ORDER_ID']].sum()\n",
    "gb1['TOTAL']=gb2['ORD_ORDER_ID']\n",
    "\n",
    "gb1['Dis.[%]']=(gb1['ORD_ORDER_ID']/gb1['TOTAL'])*100\n",
    "gb1['Dis.[%]']=gb1['Dis.[%]'].round(decimals=1)\n",
    "\n",
    "gb1"
   ]
  },
  {
   "cell_type": "code",
   "execution_count": 178,
   "metadata": {},
   "outputs": [
    {
     "data": {
      "image/png": "[encoded data removed]",
      "text/plain": [
       "<Figure size 576x432 with 1 Axes>"
      ]
     },
     "metadata": {
      "needs_background": "light"
     },
     "output_type": "display_data"
    }
   ],
   "source": [
    "graa=gb1[['order_trusted','ORD_ORDER_ID']]\n",
    "graf=graa.set_index('order_trusted')\n",
    "\n",
    "graf.plot(kind='bar', figsize=(8, 6), rot=90, width= 0.25, legend=False)\n",
    "\n",
    "plt.title('Trusted Orders')\n",
    "plt.ylabel('Orders')\n",
    "plt.xlabel('Flag Trusted Order')\n",
    "plt.xticks(rotation=0)\n",
    "\n",
    "plt.show()"
   ]
  },
  {
   "cell_type": "code",
   "execution_count": 182,
   "metadata": {},
   "outputs": [],
   "source": [
    "df_1=ord_low[['bad_order','ORD_ORDER_ID']]"
   ]
  },
  {
   "cell_type": "code",
   "execution_count": 183,
   "metadata": {},
   "outputs": [
    {
     "data": {
      "text/html": [
       "<div>\n",
       "<style scoped>\n",
       "    .dataframe tbody tr th:only-of-type {\n",
       "        vertical-align: middle;\n",
       "    }\n",
       "\n",
       "    .dataframe tbody tr th {\n",
       "        vertical-align: top;\n",
       "    }\n",
       "\n",
       "    .dataframe thead th {\n",
       "        text-align: right;\n",
       "    }\n",
       "</style>\n",
       "<table border=\"1\" class=\"dataframe\">\n",
       "  <thead>\n",
       "    <tr style=\"text-align: right;\">\n",
       "      <th></th>\n",
       "      <th>bad_order</th>\n",
       "      <th>ORD_ORDER_ID</th>\n",
       "      <th>TOTAL</th>\n",
       "      <th>Dis.[%]</th>\n",
       "    </tr>\n",
       "  </thead>\n",
       "  <tbody>\n",
       "    <tr>\n",
       "      <th>0</th>\n",
       "      <td>0</td>\n",
       "      <td>4417</td>\n",
       "      <td>6738</td>\n",
       "      <td>65.6</td>\n",
       "    </tr>\n",
       "    <tr>\n",
       "      <th>1</th>\n",
       "      <td>1</td>\n",
       "      <td>2321</td>\n",
       "      <td>6738</td>\n",
       "      <td>34.4</td>\n",
       "    </tr>\n",
       "  </tbody>\n",
       "</table>\n",
       "</div>"
      ],
      "text/plain": [
       "   bad_order  ORD_ORDER_ID  TOTAL  Dis.[%]\n",
       "0          0          4417   6738     65.6\n",
       "1          1          2321   6738     34.4"
      ]
     },
     "execution_count": 183,
     "metadata": {},
     "output_type": "execute_result"
    }
   ],
   "source": [
    "gb1=df_1.groupby(['bad_order']).count()\n",
    "gb1=gb1.reset_index()\n",
    "\n",
    "gb2=gb1[['ORD_ORDER_ID']].sum()\n",
    "gb1['TOTAL']=gb2['ORD_ORDER_ID']\n",
    "\n",
    "gb1['Dis.[%]']=(gb1['ORD_ORDER_ID']/gb1['TOTAL'])*100\n",
    "gb1['Dis.[%]']=gb1['Dis.[%]'].round(decimals=1)\n",
    "\n",
    "gb1"
   ]
  },
  {
   "cell_type": "code",
   "execution_count": 185,
   "metadata": {},
   "outputs": [
    {
     "data": {
      "image/png": "[encoded data removed]",
      "text/plain": [
       "<Figure size 576x432 with 1 Axes>"
      ]
     },
     "metadata": {
      "needs_background": "light"
     },
     "output_type": "display_data"
    }
   ],
   "source": [
    "graa=gb1[['bad_order','ORD_ORDER_ID']]\n",
    "graf=graa.set_index('bad_order')\n",
    "\n",
    "graf.plot(kind='bar', figsize=(8, 6), rot=90, width= 0.25, legend=False)\n",
    "\n",
    "plt.title('Bad Orders')\n",
    "plt.ylabel('Orders')\n",
    "plt.xlabel('Flag Bad Order')\n",
    "plt.xticks(rotation=0)\n",
    "\n",
    "plt.show()"
   ]
  },
  {
   "cell_type": "code",
   "execution_count": 258,
   "metadata": {},
   "outputs": [],
   "source": [
    "df_1=ord_low[['is_refund','ORD_ORDER_ID']]"
   ]
  },
  {
   "cell_type": "code",
   "execution_count": 259,
   "metadata": {},
   "outputs": [
    {
     "data": {
      "text/html": [
       "<div>\n",
       "<style scoped>\n",
       "    .dataframe tbody tr th:only-of-type {\n",
       "        vertical-align: middle;\n",
       "    }\n",
       "\n",
       "    .dataframe tbody tr th {\n",
       "        vertical-align: top;\n",
       "    }\n",
       "\n",
       "    .dataframe thead th {\n",
       "        text-align: right;\n",
       "    }\n",
       "</style>\n",
       "<table border=\"1\" class=\"dataframe\">\n",
       "  <thead>\n",
       "    <tr style=\"text-align: right;\">\n",
       "      <th></th>\n",
       "      <th>is_refund</th>\n",
       "      <th>ORD_ORDER_ID</th>\n",
       "      <th>TOTAL</th>\n",
       "      <th>Dis.[%]</th>\n",
       "    </tr>\n",
       "  </thead>\n",
       "  <tbody>\n",
       "    <tr>\n",
       "      <th>0</th>\n",
       "      <td>0.0</td>\n",
       "      <td>4736</td>\n",
       "      <td>6735</td>\n",
       "      <td>70.3</td>\n",
       "    </tr>\n",
       "    <tr>\n",
       "      <th>1</th>\n",
       "      <td>1.0</td>\n",
       "      <td>1999</td>\n",
       "      <td>6735</td>\n",
       "      <td>29.7</td>\n",
       "    </tr>\n",
       "  </tbody>\n",
       "</table>\n",
       "</div>"
      ],
      "text/plain": [
       "   is_refund  ORD_ORDER_ID  TOTAL  Dis.[%]\n",
       "0        0.0          4736   6735     70.3\n",
       "1        1.0          1999   6735     29.7"
      ]
     },
     "execution_count": 259,
     "metadata": {},
     "output_type": "execute_result"
    }
   ],
   "source": [
    "gb1=df_1.groupby(['is_refund']).count()\n",
    "gb1=gb1.reset_index()\n",
    "\n",
    "gb2=gb1[['ORD_ORDER_ID']].sum()\n",
    "gb1['TOTAL']=gb2['ORD_ORDER_ID']\n",
    "\n",
    "gb1['Dis.[%]']=(gb1['ORD_ORDER_ID']/gb1['TOTAL'])*100\n",
    "gb1['Dis.[%]']=gb1['Dis.[%]'].round(decimals=1)\n",
    "\n",
    "gb1"
   ]
  },
  {
   "cell_type": "code",
   "execution_count": 260,
   "metadata": {},
   "outputs": [
    {
     "data": {
      "image/png": "[encoded data removed]",
      "text/plain": [
       "<Figure size 576x432 with 1 Axes>"
      ]
     },
     "metadata": {
      "needs_background": "light"
     },
     "output_type": "display_data"
    }
   ],
   "source": [
    "graa=gb1[['is_refund','ORD_ORDER_ID']]\n",
    "graf=graa.set_index('is_refund')\n",
    "\n",
    "graf.plot(kind='bar', figsize=(8, 6), rot=90, width= 0.25, legend=False)\n",
    "\n",
    "plt.title('Refund Orders')\n",
    "plt.ylabel('Orders')\n",
    "plt.xlabel('Flag Is Refund')\n",
    "plt.xticks(rotation=0)\n",
    "\n",
    "plt.show()"
   ]
  },
  {
   "cell_type": "markdown",
   "metadata": {},
   "source": [
    "## Items Graphics"
   ]
  },
  {
   "cell_type": "code",
   "execution_count": 191,
   "metadata": {},
   "outputs": [
    {
     "data": {
      "text/plain": [
       "Index(['CTLG_PROD_ID', 'CUS_CUST_ID_SEL', 'ITE_ITEM_ID',\n",
       "       'ITE_BASE_CURRENT_PRICE', 'active_item', 'flag_bad_item',\n",
       "       'flag_bad_user', 'mean', '2.25STD_Range'],\n",
       "      dtype='object')"
      ]
     },
     "execution_count": 191,
     "metadata": {},
     "output_type": "execute_result"
    }
   ],
   "source": [
    "ite_low.columns"
   ]
  },
  {
   "cell_type": "code",
   "execution_count": 192,
   "metadata": {},
   "outputs": [],
   "source": [
    "df_1=ite_low[['active_item','ITE_ITEM_ID']]"
   ]
  },
  {
   "cell_type": "code",
   "execution_count": 193,
   "metadata": {},
   "outputs": [
    {
     "data": {
      "text/html": [
       "<div>\n",
       "<style scoped>\n",
       "    .dataframe tbody tr th:only-of-type {\n",
       "        vertical-align: middle;\n",
       "    }\n",
       "\n",
       "    .dataframe tbody tr th {\n",
       "        vertical-align: top;\n",
       "    }\n",
       "\n",
       "    .dataframe thead th {\n",
       "        text-align: right;\n",
       "    }\n",
       "</style>\n",
       "<table border=\"1\" class=\"dataframe\">\n",
       "  <thead>\n",
       "    <tr style=\"text-align: right;\">\n",
       "      <th></th>\n",
       "      <th>flag_bad_item</th>\n",
       "      <th>ITE_ITEM_ID</th>\n",
       "      <th>TOTAL</th>\n",
       "      <th>Dis.[%]</th>\n",
       "    </tr>\n",
       "  </thead>\n",
       "  <tbody>\n",
       "    <tr>\n",
       "      <th>0</th>\n",
       "      <td>0</td>\n",
       "      <td>2160</td>\n",
       "      <td>2873</td>\n",
       "      <td>75.2</td>\n",
       "    </tr>\n",
       "    <tr>\n",
       "      <th>1</th>\n",
       "      <td>1</td>\n",
       "      <td>713</td>\n",
       "      <td>2873</td>\n",
       "      <td>24.8</td>\n",
       "    </tr>\n",
       "  </tbody>\n",
       "</table>\n",
       "</div>"
      ],
      "text/plain": [
       "   flag_bad_item  ITE_ITEM_ID  TOTAL  Dis.[%]\n",
       "0              0         2160   2873     75.2\n",
       "1              1          713   2873     24.8"
      ]
     },
     "execution_count": 193,
     "metadata": {},
     "output_type": "execute_result"
    }
   ],
   "source": [
    "gb1=df_1.groupby(['active_item']).count()\n",
    "gb1=gb1.reset_index()\n",
    "\n",
    "gb2=gb1[['ITE_ITEM_ID']].sum()\n",
    "gb1['TOTAL']=gb2['ITE_ITEM_ID']\n",
    "\n",
    "gb1['Dis.[%]']=(gb1['ITE_ITEM_ID']/gb1['TOTAL'])*100\n",
    "gb1['Dis.[%]']=gb1['Dis.[%]'].round(decimals=1)\n",
    "\n",
    "gb1"
   ]
  },
  {
   "cell_type": "code",
   "execution_count": 194,
   "metadata": {},
   "outputs": [
    {
     "data": {
      "image/png": "[encoded data removed]",
      "text/plain": [
       "<Figure size 576x432 with 1 Axes>"
      ]
     },
     "metadata": {
      "needs_background": "light"
     },
     "output_type": "display_data"
    }
   ],
   "source": [
    "graa=gb1[['flag_bad_item','ITE_ITEM_ID']]\n",
    "graf=graa.set_index('flag_bad_item')\n",
    "\n",
    "graf.plot(kind='bar', figsize=(8, 6), rot=90, width= 0.25, legend=False)\n",
    "\n",
    "plt.title('Bad Items')\n",
    "plt.ylabel('Items')\n",
    "plt.xlabel('Flag Bad Items')\n",
    "plt.xticks(rotation=0)\n",
    "\n",
    "plt.show()"
   ]
  },
  {
   "cell_type": "code",
   "execution_count": 195,
   "metadata": {},
   "outputs": [],
   "source": [
    "df_1=ite_low[['active_item','ITE_ITEM_ID']]"
   ]
  },
  {
   "cell_type": "code",
   "execution_count": 196,
   "metadata": {},
   "outputs": [
    {
     "data": {
      "text/html": [
       "<div>\n",
       "<style scoped>\n",
       "    .dataframe tbody tr th:only-of-type {\n",
       "        vertical-align: middle;\n",
       "    }\n",
       "\n",
       "    .dataframe tbody tr th {\n",
       "        vertical-align: top;\n",
       "    }\n",
       "\n",
       "    .dataframe thead th {\n",
       "        text-align: right;\n",
       "    }\n",
       "</style>\n",
       "<table border=\"1\" class=\"dataframe\">\n",
       "  <thead>\n",
       "    <tr style=\"text-align: right;\">\n",
       "      <th></th>\n",
       "      <th>active_item</th>\n",
       "      <th>ITE_ITEM_ID</th>\n",
       "      <th>TOTAL</th>\n",
       "      <th>Dis.[%]</th>\n",
       "    </tr>\n",
       "  </thead>\n",
       "  <tbody>\n",
       "    <tr>\n",
       "      <th>0</th>\n",
       "      <td>0</td>\n",
       "      <td>2372</td>\n",
       "      <td>2873</td>\n",
       "      <td>82.6</td>\n",
       "    </tr>\n",
       "    <tr>\n",
       "      <th>1</th>\n",
       "      <td>1</td>\n",
       "      <td>501</td>\n",
       "      <td>2873</td>\n",
       "      <td>17.4</td>\n",
       "    </tr>\n",
       "  </tbody>\n",
       "</table>\n",
       "</div>"
      ],
      "text/plain": [
       "   active_item  ITE_ITEM_ID  TOTAL  Dis.[%]\n",
       "0            0         2372   2873     82.6\n",
       "1            1          501   2873     17.4"
      ]
     },
     "execution_count": 196,
     "metadata": {},
     "output_type": "execute_result"
    }
   ],
   "source": [
    "gb1=df_1.groupby(['active_item']).count()\n",
    "gb1=gb1.reset_index()\n",
    "\n",
    "gb2=gb1[['ITE_ITEM_ID']].sum()\n",
    "gb1['TOTAL']=gb2['ITE_ITEM_ID']\n",
    "\n",
    "gb1['Dis.[%]']=(gb1['ITE_ITEM_ID']/gb1['TOTAL'])*100\n",
    "gb1['Dis.[%]']=gb1['Dis.[%]'].round(decimals=1)\n",
    "\n",
    "gb1"
   ]
  },
  {
   "cell_type": "code",
   "execution_count": 197,
   "metadata": {},
   "outputs": [
    {
     "data": {
      "image/png": "[encoded data removed]",
      "text/plain": [
       "<Figure size 576x432 with 1 Axes>"
      ]
     },
     "metadata": {
      "needs_background": "light"
     },
     "output_type": "display_data"
    }
   ],
   "source": [
    "graa=gb1[['active_item','ITE_ITEM_ID']]\n",
    "graf=graa.set_index('active_item')\n",
    "\n",
    "graf.plot(kind='bar', figsize=(8, 6), rot=90, width= 0.25, legend=False)\n",
    "\n",
    "plt.title('Active Items')\n",
    "plt.ylabel('Items')\n",
    "plt.xlabel('Flag Active Items')\n",
    "plt.xticks(rotation=0)\n",
    "\n",
    "plt.show()"
   ]
  },
  {
   "cell_type": "code",
   "execution_count": 248,
   "metadata": {},
   "outputs": [],
   "source": [
    "df_1=df_f[['2.25STD_Range','ITE_ITEM_ID','active_item']]"
   ]
  },
  {
   "cell_type": "code",
   "execution_count": 249,
   "metadata": {},
   "outputs": [
    {
     "data": {
      "text/html": [
       "<div>\n",
       "<style scoped>\n",
       "    .dataframe tbody tr th:only-of-type {\n",
       "        vertical-align: middle;\n",
       "    }\n",
       "\n",
       "    .dataframe tbody tr th {\n",
       "        vertical-align: top;\n",
       "    }\n",
       "\n",
       "    .dataframe thead th {\n",
       "        text-align: right;\n",
       "    }\n",
       "</style>\n",
       "<table border=\"1\" class=\"dataframe\">\n",
       "  <thead>\n",
       "    <tr style=\"text-align: right;\">\n",
       "      <th></th>\n",
       "      <th>2.25STD_Range</th>\n",
       "      <th>active_item</th>\n",
       "      <th>ITE_ITEM_ID</th>\n",
       "      <th>TOTAL</th>\n",
       "      <th>Dis.[%]</th>\n",
       "    </tr>\n",
       "  </thead>\n",
       "  <tbody>\n",
       "    <tr>\n",
       "      <th>0</th>\n",
       "      <td>high_STD</td>\n",
       "      <td>0</td>\n",
       "      <td>3459</td>\n",
       "      <td>7435</td>\n",
       "      <td>46.5</td>\n",
       "    </tr>\n",
       "    <tr>\n",
       "      <th>1</th>\n",
       "      <td>high_STD</td>\n",
       "      <td>1</td>\n",
       "      <td>3976</td>\n",
       "      <td>7435</td>\n",
       "      <td>53.5</td>\n",
       "    </tr>\n",
       "    <tr>\n",
       "      <th>2</th>\n",
       "      <td>low_STD</td>\n",
       "      <td>0</td>\n",
       "      <td>2372</td>\n",
       "      <td>2873</td>\n",
       "      <td>82.6</td>\n",
       "    </tr>\n",
       "    <tr>\n",
       "      <th>3</th>\n",
       "      <td>low_STD</td>\n",
       "      <td>1</td>\n",
       "      <td>501</td>\n",
       "      <td>2873</td>\n",
       "      <td>17.4</td>\n",
       "    </tr>\n",
       "    <tr>\n",
       "      <th>4</th>\n",
       "      <td>middle_STD</td>\n",
       "      <td>0</td>\n",
       "      <td>63787</td>\n",
       "      <td>103550</td>\n",
       "      <td>61.6</td>\n",
       "    </tr>\n",
       "    <tr>\n",
       "      <th>5</th>\n",
       "      <td>middle_STD</td>\n",
       "      <td>1</td>\n",
       "      <td>39763</td>\n",
       "      <td>103550</td>\n",
       "      <td>38.4</td>\n",
       "    </tr>\n",
       "  </tbody>\n",
       "</table>\n",
       "</div>"
      ],
      "text/plain": [
       "  2.25STD_Range  active_item  ITE_ITEM_ID   TOTAL  Dis.[%]\n",
       "0      high_STD            0         3459    7435     46.5\n",
       "1      high_STD            1         3976    7435     53.5\n",
       "2       low_STD            0         2372    2873     82.6\n",
       "3       low_STD            1          501    2873     17.4\n",
       "4    middle_STD            0        63787  103550     61.6\n",
       "5    middle_STD            1        39763  103550     38.4"
      ]
     },
     "execution_count": 249,
     "metadata": {},
     "output_type": "execute_result"
    }
   ],
   "source": [
    "gb1=df_1.groupby(['2.25STD_Range','active_item']).count()\n",
    "gb1=gb1.reset_index()\n",
    "\n",
    "gb2=gb1[['2.25STD_Range','ITE_ITEM_ID']].groupby(['2.25STD_Range']).sum()\n",
    "gb2=gb2.reset_index()\n",
    "gb2['TOTAL']=gb2['ITE_ITEM_ID']\n",
    "gb2=gb2[['2.25STD_Range','TOTAL']]\n",
    "\n",
    "gb3 = pd.merge(left = gb1, right = gb2,\n",
    "                how = 'inner',\n",
    "                left_on='2.25STD_Range', right_on='2.25STD_Range')\n",
    "\n",
    "gb3['Dis.[%]']=(gb3['ITE_ITEM_ID']/gb3['TOTAL'])*100\n",
    "gb3['Dis.[%]']=gb3['Dis.[%]'].round(decimals=1)\n",
    "\n",
    "gb3"
   ]
  },
  {
   "cell_type": "code",
   "execution_count": 250,
   "metadata": {},
   "outputs": [
    {
     "data": {
      "text/html": [
       "<div>\n",
       "<style scoped>\n",
       "    .dataframe tbody tr th:only-of-type {\n",
       "        vertical-align: middle;\n",
       "    }\n",
       "\n",
       "    .dataframe tbody tr th {\n",
       "        vertical-align: top;\n",
       "    }\n",
       "\n",
       "    .dataframe thead th {\n",
       "        text-align: right;\n",
       "    }\n",
       "</style>\n",
       "<table border=\"1\" class=\"dataframe\">\n",
       "  <thead>\n",
       "    <tr style=\"text-align: right;\">\n",
       "      <th></th>\n",
       "      <th>2.25STD_Range</th>\n",
       "      <th>active_item</th>\n",
       "      <th>ITE_ITEM_ID</th>\n",
       "      <th>TOTAL</th>\n",
       "      <th>Dis.[%]</th>\n",
       "    </tr>\n",
       "  </thead>\n",
       "  <tbody>\n",
       "    <tr>\n",
       "      <th>0</th>\n",
       "      <td>high_STD</td>\n",
       "      <td>0</td>\n",
       "      <td>3459</td>\n",
       "      <td>7435</td>\n",
       "      <td>46.5</td>\n",
       "    </tr>\n",
       "    <tr>\n",
       "      <th>2</th>\n",
       "      <td>low_STD</td>\n",
       "      <td>0</td>\n",
       "      <td>2372</td>\n",
       "      <td>2873</td>\n",
       "      <td>82.6</td>\n",
       "    </tr>\n",
       "    <tr>\n",
       "      <th>4</th>\n",
       "      <td>middle_STD</td>\n",
       "      <td>0</td>\n",
       "      <td>63787</td>\n",
       "      <td>103550</td>\n",
       "      <td>61.6</td>\n",
       "    </tr>\n",
       "  </tbody>\n",
       "</table>\n",
       "</div>"
      ],
      "text/plain": [
       "  2.25STD_Range  active_item  ITE_ITEM_ID   TOTAL  Dis.[%]\n",
       "0      high_STD            0         3459    7435     46.5\n",
       "2       low_STD            0         2372    2873     82.6\n",
       "4    middle_STD            0        63787  103550     61.6"
      ]
     },
     "execution_count": 250,
     "metadata": {},
     "output_type": "execute_result"
    }
   ],
   "source": [
    "ite_ina = gb3[gb3['active_item']==0]\n",
    "ite_ina"
   ]
  },
  {
   "cell_type": "code",
   "execution_count": 256,
   "metadata": {},
   "outputs": [
    {
     "data": {
      "image/png": "[encoded data removed]",
      "text/plain": [
       "<Figure size 576x432 with 1 Axes>"
      ]
     },
     "metadata": {
      "needs_background": "light"
     },
     "output_type": "display_data"
    }
   ],
   "source": [
    "graa=ite_ina[['2.25STD_Range','Dis.[%]']]\n",
    "graf=graa.set_index('2.25STD_Range')\n",
    "\n",
    "graf.plot(kind='bar', figsize=(8, 6), rot=90, width= 0.35, legend=False)\n",
    "\n",
    "plt.title('Inactive Items')\n",
    "plt.ylabel('%')\n",
    "plt.xlabel('STD Range')\n",
    "plt.xticks(rotation=0)\n",
    "\n",
    "plt.show()"
   ]
  },
  {
   "cell_type": "code",
   "execution_count": 244,
   "metadata": {},
   "outputs": [],
   "source": [
    "df_1=df_f[['2.25STD_Range','ITE_ITEM_ID','flag_bad_item']]"
   ]
  },
  {
   "cell_type": "code",
   "execution_count": 245,
   "metadata": {},
   "outputs": [
    {
     "data": {
      "text/html": [
       "<div>\n",
       "<style scoped>\n",
       "    .dataframe tbody tr th:only-of-type {\n",
       "        vertical-align: middle;\n",
       "    }\n",
       "\n",
       "    .dataframe tbody tr th {\n",
       "        vertical-align: top;\n",
       "    }\n",
       "\n",
       "    .dataframe thead th {\n",
       "        text-align: right;\n",
       "    }\n",
       "</style>\n",
       "<table border=\"1\" class=\"dataframe\">\n",
       "  <thead>\n",
       "    <tr style=\"text-align: right;\">\n",
       "      <th></th>\n",
       "      <th>2.25STD_Range</th>\n",
       "      <th>flag_bad_item</th>\n",
       "      <th>ITE_ITEM_ID</th>\n",
       "      <th>TOTAL</th>\n",
       "      <th>Dis.[%]</th>\n",
       "    </tr>\n",
       "  </thead>\n",
       "  <tbody>\n",
       "    <tr>\n",
       "      <th>0</th>\n",
       "      <td>high_STD</td>\n",
       "      <td>0</td>\n",
       "      <td>7121</td>\n",
       "      <td>7435</td>\n",
       "      <td>95.8</td>\n",
       "    </tr>\n",
       "    <tr>\n",
       "      <th>1</th>\n",
       "      <td>high_STD</td>\n",
       "      <td>1</td>\n",
       "      <td>314</td>\n",
       "      <td>7435</td>\n",
       "      <td>4.2</td>\n",
       "    </tr>\n",
       "    <tr>\n",
       "      <th>2</th>\n",
       "      <td>low_STD</td>\n",
       "      <td>0</td>\n",
       "      <td>2160</td>\n",
       "      <td>2873</td>\n",
       "      <td>75.2</td>\n",
       "    </tr>\n",
       "    <tr>\n",
       "      <th>3</th>\n",
       "      <td>low_STD</td>\n",
       "      <td>1</td>\n",
       "      <td>713</td>\n",
       "      <td>2873</td>\n",
       "      <td>24.8</td>\n",
       "    </tr>\n",
       "    <tr>\n",
       "      <th>4</th>\n",
       "      <td>middle_STD</td>\n",
       "      <td>0</td>\n",
       "      <td>96643</td>\n",
       "      <td>103550</td>\n",
       "      <td>93.3</td>\n",
       "    </tr>\n",
       "    <tr>\n",
       "      <th>5</th>\n",
       "      <td>middle_STD</td>\n",
       "      <td>1</td>\n",
       "      <td>6907</td>\n",
       "      <td>103550</td>\n",
       "      <td>6.7</td>\n",
       "    </tr>\n",
       "  </tbody>\n",
       "</table>\n",
       "</div>"
      ],
      "text/plain": [
       "  2.25STD_Range  flag_bad_item  ITE_ITEM_ID   TOTAL  Dis.[%]\n",
       "0      high_STD              0         7121    7435     95.8\n",
       "1      high_STD              1          314    7435      4.2\n",
       "2       low_STD              0         2160    2873     75.2\n",
       "3       low_STD              1          713    2873     24.8\n",
       "4    middle_STD              0        96643  103550     93.3\n",
       "5    middle_STD              1         6907  103550      6.7"
      ]
     },
     "execution_count": 245,
     "metadata": {},
     "output_type": "execute_result"
    }
   ],
   "source": [
    "gb1=df_1.groupby(['2.25STD_Range','flag_bad_item']).count()\n",
    "gb1=gb1.reset_index()\n",
    "\n",
    "gb2=gb1[['2.25STD_Range','ITE_ITEM_ID']].groupby(['2.25STD_Range']).sum()\n",
    "gb2=gb2.reset_index()\n",
    "gb2['TOTAL']=gb2['ITE_ITEM_ID']\n",
    "gb2=gb2[['2.25STD_Range','TOTAL']]\n",
    "\n",
    "gb3 = pd.merge(left = gb1, right = gb2,\n",
    "                how = 'inner',\n",
    "                left_on='2.25STD_Range', right_on='2.25STD_Range')\n",
    "\n",
    "gb3['Dis.[%]']=(gb3['ITE_ITEM_ID']/gb3['TOTAL'])*100\n",
    "gb3['Dis.[%]']=gb3['Dis.[%]'].round(decimals=1)\n",
    "\n",
    "gb3"
   ]
  },
  {
   "cell_type": "code",
   "execution_count": 246,
   "metadata": {},
   "outputs": [
    {
     "data": {
      "text/html": [
       "<div>\n",
       "<style scoped>\n",
       "    .dataframe tbody tr th:only-of-type {\n",
       "        vertical-align: middle;\n",
       "    }\n",
       "\n",
       "    .dataframe tbody tr th {\n",
       "        vertical-align: top;\n",
       "    }\n",
       "\n",
       "    .dataframe thead th {\n",
       "        text-align: right;\n",
       "    }\n",
       "</style>\n",
       "<table border=\"1\" class=\"dataframe\">\n",
       "  <thead>\n",
       "    <tr style=\"text-align: right;\">\n",
       "      <th></th>\n",
       "      <th>2.25STD_Range</th>\n",
       "      <th>flag_bad_item</th>\n",
       "      <th>ITE_ITEM_ID</th>\n",
       "      <th>TOTAL</th>\n",
       "      <th>Dis.[%]</th>\n",
       "    </tr>\n",
       "  </thead>\n",
       "  <tbody>\n",
       "    <tr>\n",
       "      <th>1</th>\n",
       "      <td>high_STD</td>\n",
       "      <td>1</td>\n",
       "      <td>314</td>\n",
       "      <td>7435</td>\n",
       "      <td>4.2</td>\n",
       "    </tr>\n",
       "    <tr>\n",
       "      <th>3</th>\n",
       "      <td>low_STD</td>\n",
       "      <td>1</td>\n",
       "      <td>713</td>\n",
       "      <td>2873</td>\n",
       "      <td>24.8</td>\n",
       "    </tr>\n",
       "    <tr>\n",
       "      <th>5</th>\n",
       "      <td>middle_STD</td>\n",
       "      <td>1</td>\n",
       "      <td>6907</td>\n",
       "      <td>103550</td>\n",
       "      <td>6.7</td>\n",
       "    </tr>\n",
       "  </tbody>\n",
       "</table>\n",
       "</div>"
      ],
      "text/plain": [
       "  2.25STD_Range  flag_bad_item  ITE_ITEM_ID   TOTAL  Dis.[%]\n",
       "1      high_STD              1          314    7435      4.2\n",
       "3       low_STD              1          713    2873     24.8\n",
       "5    middle_STD              1         6907  103550      6.7"
      ]
     },
     "execution_count": 246,
     "metadata": {},
     "output_type": "execute_result"
    }
   ],
   "source": [
    "ite_ina = gb3[gb3['flag_bad_item']==1]\n",
    "ite_ina"
   ]
  },
  {
   "cell_type": "code",
   "execution_count": 247,
   "metadata": {},
   "outputs": [
    {
     "data": {
      "image/png": "[encoded data removed]",
      "text/plain": [
       "<Figure size 576x432 with 1 Axes>"
      ]
     },
     "metadata": {
      "needs_background": "light"
     },
     "output_type": "display_data"
    }
   ],
   "source": [
    "graa=ite_ina[['2.25STD_Range','Dis.[%]']]\n",
    "graf=graa.set_index('2.25STD_Range')\n",
    "\n",
    "graf.plot(kind='bar', figsize=(8, 6), rot=90, width= 0.35, legend=False)\n",
    "\n",
    "plt.title('Bad Items')\n",
    "plt.ylabel('%')\n",
    "plt.xlabel('STD Range')\n",
    "plt.xticks(rotation=0)\n",
    "\n",
    "plt.show()"
   ]
  },
  {
   "cell_type": "markdown",
   "metadata": {},
   "source": [
    "## Users Graphics"
   ]
  },
  {
   "cell_type": "code",
   "execution_count": 204,
   "metadata": {},
   "outputs": [],
   "source": [
    "df_1=cus_low[['flag_bad_user','CUS_CUST_ID_SEL']]"
   ]
  },
  {
   "cell_type": "code",
   "execution_count": 205,
   "metadata": {},
   "outputs": [
    {
     "data": {
      "text/html": [
       "<div>\n",
       "<style scoped>\n",
       "    .dataframe tbody tr th:only-of-type {\n",
       "        vertical-align: middle;\n",
       "    }\n",
       "\n",
       "    .dataframe tbody tr th {\n",
       "        vertical-align: top;\n",
       "    }\n",
       "\n",
       "    .dataframe thead th {\n",
       "        text-align: right;\n",
       "    }\n",
       "</style>\n",
       "<table border=\"1\" class=\"dataframe\">\n",
       "  <thead>\n",
       "    <tr style=\"text-align: right;\">\n",
       "      <th></th>\n",
       "      <th>flag_bad_user</th>\n",
       "      <th>CUS_CUST_ID_SEL</th>\n",
       "      <th>TOTAL</th>\n",
       "      <th>Dis.[%]</th>\n",
       "    </tr>\n",
       "  </thead>\n",
       "  <tbody>\n",
       "    <tr>\n",
       "      <th>0</th>\n",
       "      <td>0</td>\n",
       "      <td>1135</td>\n",
       "      <td>1196</td>\n",
       "      <td>94.9</td>\n",
       "    </tr>\n",
       "    <tr>\n",
       "      <th>1</th>\n",
       "      <td>1</td>\n",
       "      <td>61</td>\n",
       "      <td>1196</td>\n",
       "      <td>5.1</td>\n",
       "    </tr>\n",
       "  </tbody>\n",
       "</table>\n",
       "</div>"
      ],
      "text/plain": [
       "   flag_bad_user  CUS_CUST_ID_SEL  TOTAL  Dis.[%]\n",
       "0              0             1135   1196     94.9\n",
       "1              1               61   1196      5.1"
      ]
     },
     "execution_count": 205,
     "metadata": {},
     "output_type": "execute_result"
    }
   ],
   "source": [
    "gb1=df_1.groupby(['flag_bad_user']).count()\n",
    "gb1=gb1.reset_index()\n",
    "\n",
    "gb2=gb1[['CUS_CUST_ID_SEL']].sum()\n",
    "gb1['TOTAL']=gb2['CUS_CUST_ID_SEL']\n",
    "\n",
    "gb1['Dis.[%]']=(gb1['CUS_CUST_ID_SEL']/gb1['TOTAL'])*100\n",
    "gb1['Dis.[%]']=gb1['Dis.[%]'].round(decimals=1)\n",
    "\n",
    "gb1"
   ]
  },
  {
   "cell_type": "code",
   "execution_count": 206,
   "metadata": {},
   "outputs": [
    {
     "data": {
      "image/png": "[encoded data removed]",
      "text/plain": [
       "<Figure size 576x432 with 1 Axes>"
      ]
     },
     "metadata": {
      "needs_background": "light"
     },
     "output_type": "display_data"
    }
   ],
   "source": [
    "graa=gb1[['flag_bad_user','CUS_CUST_ID_SEL']]\n",
    "graf=graa.set_index('flag_bad_user')\n",
    "\n",
    "graf.plot(kind='bar', figsize=(8, 6), rot=90, width= 0.25, legend=False)\n",
    "\n",
    "plt.title('Users Status')\n",
    "plt.ylabel('Users')\n",
    "plt.xlabel('Flag Bad Users')\n",
    "plt.xticks(rotation=0)\n",
    "\n",
    "plt.show()"
   ]
  },
  {
   "cell_type": "code",
   "execution_count": null,
   "metadata": {},
   "outputs": [],
   "source": []
  },
  {
   "cell_type": "code",
   "execution_count": null,
   "metadata": {},
   "outputs": [],
   "source": []
  },
  {
   "cell_type": "code",
   "execution_count": null,
   "metadata": {},
   "outputs": [],
   "source": []
  },
  {
   "cell_type": "code",
   "execution_count": 261,
   "metadata": {},
   "outputs": [
    {
     "data": {
      "text/html": [
       "<div>\n",
       "<style scoped>\n",
       "    .dataframe tbody tr th:only-of-type {\n",
       "        vertical-align: middle;\n",
       "    }\n",
       "\n",
       "    .dataframe tbody tr th {\n",
       "        vertical-align: top;\n",
       "    }\n",
       "\n",
       "    .dataframe thead th {\n",
       "        text-align: right;\n",
       "    }\n",
       "</style>\n",
       "<table border=\"1\" class=\"dataframe\">\n",
       "  <thead>\n",
       "    <tr style=\"text-align: right;\">\n",
       "      <th></th>\n",
       "      <th>CTLG_PROD_ID</th>\n",
       "      <th>CUS_CUST_ID_SEL</th>\n",
       "      <th>ITE_ITEM_ID</th>\n",
       "      <th>ITE_BASE_CURRENT_PRICE</th>\n",
       "      <th>active_item</th>\n",
       "      <th>flag_bad_item</th>\n",
       "      <th>flag_bad_user</th>\n",
       "      <th>mean</th>\n",
       "      <th>2.25STD_Range</th>\n",
       "    </tr>\n",
       "  </thead>\n",
       "  <tbody>\n",
       "    <tr>\n",
       "      <th>706921</th>\n",
       "      <td>15918090</td>\n",
       "      <td>223389656</td>\n",
       "      <td>1851799826</td>\n",
       "      <td>2.51</td>\n",
       "      <td>1</td>\n",
       "      <td>0</td>\n",
       "      <td>0</td>\n",
       "      <td>13.70</td>\n",
       "      <td>low_STD</td>\n",
       "    </tr>\n",
       "    <tr>\n",
       "      <th>1052137</th>\n",
       "      <td>17837279</td>\n",
       "      <td>564615359</td>\n",
       "      <td>1927762405</td>\n",
       "      <td>228.53</td>\n",
       "      <td>1</td>\n",
       "      <td>0</td>\n",
       "      <td>0</td>\n",
       "      <td>259.43</td>\n",
       "      <td>low_STD</td>\n",
       "    </tr>\n",
       "    <tr>\n",
       "      <th>572847</th>\n",
       "      <td>15553601</td>\n",
       "      <td>192727217</td>\n",
       "      <td>825270128</td>\n",
       "      <td>5.11</td>\n",
       "      <td>0</td>\n",
       "      <td>0</td>\n",
       "      <td>0</td>\n",
       "      <td>23.35</td>\n",
       "      <td>low_STD</td>\n",
       "    </tr>\n",
       "    <tr>\n",
       "      <th>941717</th>\n",
       "      <td>16596570</td>\n",
       "      <td>484436004</td>\n",
       "      <td>1702309915</td>\n",
       "      <td>85.58</td>\n",
       "      <td>1</td>\n",
       "      <td>0</td>\n",
       "      <td>0</td>\n",
       "      <td>97.27</td>\n",
       "      <td>low_STD</td>\n",
       "    </tr>\n",
       "    <tr>\n",
       "      <th>455421</th>\n",
       "      <td>15246346</td>\n",
       "      <td>118205728</td>\n",
       "      <td>1832265247</td>\n",
       "      <td>15.41</td>\n",
       "      <td>0</td>\n",
       "      <td>0</td>\n",
       "      <td>0</td>\n",
       "      <td>25.97</td>\n",
       "      <td>low_STD</td>\n",
       "    </tr>\n",
       "    <tr>\n",
       "      <th>683236</th>\n",
       "      <td>15822731</td>\n",
       "      <td>710504378</td>\n",
       "      <td>1919275861</td>\n",
       "      <td>404.00</td>\n",
       "      <td>0</td>\n",
       "      <td>1</td>\n",
       "      <td>0</td>\n",
       "      <td>528.78</td>\n",
       "      <td>low_STD</td>\n",
       "    </tr>\n",
       "    <tr>\n",
       "      <th>217034</th>\n",
       "      <td>9295666</td>\n",
       "      <td>582611883</td>\n",
       "      <td>1812241637</td>\n",
       "      <td>30.94</td>\n",
       "      <td>1</td>\n",
       "      <td>0</td>\n",
       "      <td>0</td>\n",
       "      <td>113.47</td>\n",
       "      <td>low_STD</td>\n",
       "    </tr>\n",
       "    <tr>\n",
       "      <th>20833</th>\n",
       "      <td>6072241</td>\n",
       "      <td>79273785</td>\n",
       "      <td>1927481047</td>\n",
       "      <td>8.48</td>\n",
       "      <td>0</td>\n",
       "      <td>0</td>\n",
       "      <td>0</td>\n",
       "      <td>11.44</td>\n",
       "      <td>low_STD</td>\n",
       "    </tr>\n",
       "    <tr>\n",
       "      <th>247157</th>\n",
       "      <td>10345749</td>\n",
       "      <td>85638021</td>\n",
       "      <td>1926095404</td>\n",
       "      <td>204.89</td>\n",
       "      <td>0</td>\n",
       "      <td>1</td>\n",
       "      <td>0</td>\n",
       "      <td>626.35</td>\n",
       "      <td>low_STD</td>\n",
       "    </tr>\n",
       "    <tr>\n",
       "      <th>33131</th>\n",
       "      <td>6079303</td>\n",
       "      <td>665114212</td>\n",
       "      <td>1917034457</td>\n",
       "      <td>38.64</td>\n",
       "      <td>0</td>\n",
       "      <td>0</td>\n",
       "      <td>0</td>\n",
       "      <td>58.87</td>\n",
       "      <td>low_STD</td>\n",
       "    </tr>\n",
       "  </tbody>\n",
       "</table>\n",
       "</div>"
      ],
      "text/plain": [
       "         CTLG_PROD_ID  CUS_CUST_ID_SEL  ITE_ITEM_ID  ITE_BASE_CURRENT_PRICE  \\\n",
       "706921       15918090        223389656   1851799826                    2.51   \n",
       "1052137      17837279        564615359   1927762405                  228.53   \n",
       "572847       15553601        192727217    825270128                    5.11   \n",
       "941717       16596570        484436004   1702309915                   85.58   \n",
       "455421       15246346        118205728   1832265247                   15.41   \n",
       "683236       15822731        710504378   1919275861                  404.00   \n",
       "217034        9295666        582611883   1812241637                   30.94   \n",
       "20833         6072241         79273785   1927481047                    8.48   \n",
       "247157       10345749         85638021   1926095404                  204.89   \n",
       "33131         6079303        665114212   1917034457                   38.64   \n",
       "\n",
       "         active_item  flag_bad_item  flag_bad_user    mean 2.25STD_Range  \n",
       "706921             1              0              0   13.70       low_STD  \n",
       "1052137            1              0              0  259.43       low_STD  \n",
       "572847             0              0              0   23.35       low_STD  \n",
       "941717             1              0              0   97.27       low_STD  \n",
       "455421             0              0              0   25.97       low_STD  \n",
       "683236             0              1              0  528.78       low_STD  \n",
       "217034             1              0              0  113.47       low_STD  \n",
       "20833              0              0              0   11.44       low_STD  \n",
       "247157             0              1              0  626.35       low_STD  \n",
       "33131              0              0              0   58.87       low_STD  "
      ]
     },
     "execution_count": 261,
     "metadata": {},
     "output_type": "execute_result"
    }
   ],
   "source": [
    "ite_low.sample(10)"
   ]
  },
  {
   "cell_type": "code",
   "execution_count": null,
   "metadata": {},
   "outputs": [],
   "source": []
  },
  {
   "cell_type": "code",
   "execution_count": null,
   "metadata": {},
   "outputs": [],
   "source": []
  },
  {
   "cell_type": "markdown",
   "metadata": {},
   "source": [
    "## Export the products IDs"
   ]
  },
  {
   "cell_type": "code",
   "execution_count": 112,
   "metadata": {},
   "outputs": [],
   "source": [
    "#ID=df['CTLG_PROD_ID']\n",
    "#ID.to_csv(r'products_id.csv', index = False)"
   ]
  },
  {
   "cell_type": "code",
   "execution_count": 113,
   "metadata": {},
   "outputs": [],
   "source": [
    "#LAMBDA CON AND\n",
    "#df_ratios['extremos']= df_ratios.apply(lambda x: 'caso1' if x['ratio_recla_1m']> 0.3 and x['ratio_cashout_1m']> 0.3 and x['ratio_ref_1m']> 0.3 and x['ratio_claims_1m']> 0.3 else 'no',axis=1)\n"
   ]
  },
  {
   "cell_type": "code",
   "execution_count": 114,
   "metadata": {},
   "outputs": [],
   "source": [
    "#LAMDA CON IF ANIDADO\n",
    "#df['adicionales']= df.apply(lambda x: 'caso1' if x['gmv_90d']<= 0 else('caso2' if  x['gmv_30d']<=0  else 'no'),axis=1)\n"
   ]
  }
 ],
 "metadata": {
  "kernelspec": {
   "display_name": "Python 3",
   "language": "python",
   "name": "python3"
  },
  "language_info": {
   "codemirror_mode": {
    "name": "ipython",
    "version": 3
   },
   "file_extension": ".py",
   "mimetype": "text/x-python",
   "name": "python",
   "nbconvert_exporter": "python",
   "pygments_lexer": "ipython3",
   "version": "3.8.5"
  }
 },
 "nbformat": 4,
 "nbformat_minor": 4
}
