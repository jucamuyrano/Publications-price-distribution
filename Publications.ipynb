{
 "cells": [
  {
   "cell_type": "markdown",
   "metadata": {},
   "source": [
    "## Import libraries"
   ]
  },
  {
   "cell_type": "code",
   "execution_count": 1,
   "metadata": {},
   "outputs": [],
   "source": [
    "import pandas as pd\n",
    "import numpy as np\n",
    "import os\n",
    "import matplotlib.pyplot as plt\n",
    "import seaborn as sns\n",
    "from datetime import datetime"
   ]
  },
  {
   "cell_type": "markdown",
   "metadata": {},
   "source": [
    "## Upload Data Base"
   ]
  },
  {
   "cell_type": "code",
   "execution_count": 2,
   "metadata": {},
   "outputs": [],
   "source": [
    "df_ord = pd.read_csv(r'base_orders.csv')"
   ]
  },
  {
   "cell_type": "code",
   "execution_count": 3,
   "metadata": {},
   "outputs": [
    {
     "data": {
      "text/plain": [
       "(1066717, 14)"
      ]
     },
     "execution_count": 3,
     "metadata": {},
     "output_type": "execute_result"
    }
   ],
   "source": [
    "df_ord.shape"
   ]
  },
  {
   "cell_type": "code",
   "execution_count": 4,
   "metadata": {},
   "outputs": [
    {
     "data": {
      "text/plain": [
       "Index(['ORD_ORDER_ID', 'CUS_CUST_ID_SEL', 'ITE_ITEM_ID', 'CTLG_PROD_ID',\n",
       "       'ITE_BASE_CURRENT_PRICE', 'active_item', 'flag_bad_item',\n",
       "       'flag_bad_user', 'order_trusted', 'is_buybox', 'has_bpp',\n",
       "       'has_claim_seller', 'is_refund', 'bpp_cashout_final'],\n",
       "      dtype='object')"
      ]
     },
     "execution_count": 4,
     "metadata": {},
     "output_type": "execute_result"
    }
   ],
   "source": [
    "df_ord.columns"
   ]
  },
  {
   "cell_type": "code",
   "execution_count": 5,
   "metadata": {},
   "outputs": [
    {
     "data": {
      "text/html": [
       "<div>\n",
       "<style scoped>\n",
       "    .dataframe tbody tr th:only-of-type {\n",
       "        vertical-align: middle;\n",
       "    }\n",
       "\n",
       "    .dataframe tbody tr th {\n",
       "        vertical-align: top;\n",
       "    }\n",
       "\n",
       "    .dataframe thead th {\n",
       "        text-align: right;\n",
       "    }\n",
       "</style>\n",
       "<table border=\"1\" class=\"dataframe\">\n",
       "  <thead>\n",
       "    <tr style=\"text-align: right;\">\n",
       "      <th></th>\n",
       "      <th>ORD_ORDER_ID</th>\n",
       "      <th>CUS_CUST_ID_SEL</th>\n",
       "      <th>ITE_ITEM_ID</th>\n",
       "      <th>CTLG_PROD_ID</th>\n",
       "      <th>ITE_BASE_CURRENT_PRICE</th>\n",
       "      <th>active_item</th>\n",
       "      <th>flag_bad_item</th>\n",
       "      <th>flag_bad_user</th>\n",
       "      <th>order_trusted</th>\n",
       "      <th>is_buybox</th>\n",
       "      <th>has_bpp</th>\n",
       "      <th>has_claim_seller</th>\n",
       "      <th>is_refund</th>\n",
       "      <th>bpp_cashout_final</th>\n",
       "    </tr>\n",
       "  </thead>\n",
       "  <tbody>\n",
       "    <tr>\n",
       "      <th>0</th>\n",
       "      <td>4654788990</td>\n",
       "      <td>131356719</td>\n",
       "      <td>1904336408</td>\n",
       "      <td>6240112</td>\n",
       "      <td>518.25</td>\n",
       "      <td>0</td>\n",
       "      <td>0</td>\n",
       "      <td>0</td>\n",
       "      <td>0</td>\n",
       "      <td>0</td>\n",
       "      <td>1</td>\n",
       "      <td>1</td>\n",
       "      <td>1.0</td>\n",
       "      <td>0.0</td>\n",
       "    </tr>\n",
       "    <tr>\n",
       "      <th>1</th>\n",
       "      <td>4653151316</td>\n",
       "      <td>53919165</td>\n",
       "      <td>1367749223</td>\n",
       "      <td>11754915</td>\n",
       "      <td>22.24</td>\n",
       "      <td>1</td>\n",
       "      <td>0</td>\n",
       "      <td>0</td>\n",
       "      <td>1</td>\n",
       "      <td>0</td>\n",
       "      <td>0</td>\n",
       "      <td>0</td>\n",
       "      <td>0.0</td>\n",
       "      <td>0.0</td>\n",
       "    </tr>\n",
       "    <tr>\n",
       "      <th>2</th>\n",
       "      <td>4620214232</td>\n",
       "      <td>414872503</td>\n",
       "      <td>1689031432</td>\n",
       "      <td>15984003</td>\n",
       "      <td>52.99</td>\n",
       "      <td>0</td>\n",
       "      <td>0</td>\n",
       "      <td>0</td>\n",
       "      <td>1</td>\n",
       "      <td>1</td>\n",
       "      <td>0</td>\n",
       "      <td>0</td>\n",
       "      <td>0.0</td>\n",
       "      <td>0.0</td>\n",
       "    </tr>\n",
       "    <tr>\n",
       "      <th>3</th>\n",
       "      <td>4618321782</td>\n",
       "      <td>480263032</td>\n",
       "      <td>1658897376</td>\n",
       "      <td>14214635</td>\n",
       "      <td>35.11</td>\n",
       "      <td>0</td>\n",
       "      <td>0</td>\n",
       "      <td>0</td>\n",
       "      <td>1</td>\n",
       "      <td>1</td>\n",
       "      <td>0</td>\n",
       "      <td>0</td>\n",
       "      <td>0.0</td>\n",
       "      <td>0.0</td>\n",
       "    </tr>\n",
       "    <tr>\n",
       "      <th>4</th>\n",
       "      <td>4675812638</td>\n",
       "      <td>451835672</td>\n",
       "      <td>1743613950</td>\n",
       "      <td>15786116</td>\n",
       "      <td>25.04</td>\n",
       "      <td>0</td>\n",
       "      <td>0</td>\n",
       "      <td>0</td>\n",
       "      <td>1</td>\n",
       "      <td>1</td>\n",
       "      <td>0</td>\n",
       "      <td>0</td>\n",
       "      <td>0.0</td>\n",
       "      <td>0.0</td>\n",
       "    </tr>\n",
       "  </tbody>\n",
       "</table>\n",
       "</div>"
      ],
      "text/plain": [
       "   ORD_ORDER_ID  CUS_CUST_ID_SEL  ITE_ITEM_ID  CTLG_PROD_ID  \\\n",
       "0    4654788990        131356719   1904336408       6240112   \n",
       "1    4653151316         53919165   1367749223      11754915   \n",
       "2    4620214232        414872503   1689031432      15984003   \n",
       "3    4618321782        480263032   1658897376      14214635   \n",
       "4    4675812638        451835672   1743613950      15786116   \n",
       "\n",
       "   ITE_BASE_CURRENT_PRICE  active_item  flag_bad_item  flag_bad_user  \\\n",
       "0                  518.25            0              0              0   \n",
       "1                   22.24            1              0              0   \n",
       "2                   52.99            0              0              0   \n",
       "3                   35.11            0              0              0   \n",
       "4                   25.04            0              0              0   \n",
       "\n",
       "   order_trusted  is_buybox  has_bpp  has_claim_seller  is_refund  \\\n",
       "0              0          0        1                 1        1.0   \n",
       "1              1          0        0                 0        0.0   \n",
       "2              1          1        0                 0        0.0   \n",
       "3              1          1        0                 0        0.0   \n",
       "4              1          1        0                 0        0.0   \n",
       "\n",
       "   bpp_cashout_final  \n",
       "0                0.0  \n",
       "1                0.0  \n",
       "2                0.0  \n",
       "3                0.0  \n",
       "4                0.0  "
      ]
     },
     "execution_count": 5,
     "metadata": {},
     "output_type": "execute_result"
    }
   ],
   "source": [
    "df_ord.head()"
   ]
  },
  {
   "cell_type": "code",
   "execution_count": 6,
   "metadata": {},
   "outputs": [
    {
     "data": {
      "text/plain": [
       "ORD_ORDER_ID                int64\n",
       "CUS_CUST_ID_SEL             int64\n",
       "ITE_ITEM_ID                 int64\n",
       "CTLG_PROD_ID                int64\n",
       "ITE_BASE_CURRENT_PRICE    float64\n",
       "active_item                 int64\n",
       "flag_bad_item               int64\n",
       "flag_bad_user               int64\n",
       "order_trusted               int64\n",
       "is_buybox                   int64\n",
       "has_bpp                     int64\n",
       "has_claim_seller            int64\n",
       "is_refund                 float64\n",
       "bpp_cashout_final         float64\n",
       "dtype: object"
      ]
     },
     "execution_count": 6,
     "metadata": {},
     "output_type": "execute_result"
    }
   ],
   "source": [
    "df_ord.dtypes"
   ]
  },
  {
   "cell_type": "markdown",
   "metadata": {},
   "source": [
    "## Describe of the prices of the products"
   ]
  },
  {
   "cell_type": "code",
   "execution_count": 7,
   "metadata": {},
   "outputs": [],
   "source": [
    "df_prod = df_ord[['CTLG_PROD_ID','ITE_ITEM_ID','ITE_BASE_CURRENT_PRICE']]"
   ]
  },
  {
   "cell_type": "code",
   "execution_count": 8,
   "metadata": {},
   "outputs": [
    {
     "data": {
      "text/html": [
       "<div>\n",
       "<style scoped>\n",
       "    .dataframe tbody tr th:only-of-type {\n",
       "        vertical-align: middle;\n",
       "    }\n",
       "\n",
       "    .dataframe tbody tr th {\n",
       "        vertical-align: top;\n",
       "    }\n",
       "\n",
       "    .dataframe thead th {\n",
       "        text-align: right;\n",
       "    }\n",
       "</style>\n",
       "<table border=\"1\" class=\"dataframe\">\n",
       "  <thead>\n",
       "    <tr style=\"text-align: right;\">\n",
       "      <th></th>\n",
       "      <th>CTLG_PROD_ID</th>\n",
       "      <th>ITE_ITEM_ID</th>\n",
       "      <th>ITE_BASE_CURRENT_PRICE</th>\n",
       "    </tr>\n",
       "  </thead>\n",
       "  <tbody>\n",
       "    <tr>\n",
       "      <th>66970</th>\n",
       "      <td>16926686</td>\n",
       "      <td>1906537800</td>\n",
       "      <td>191.48</td>\n",
       "    </tr>\n",
       "    <tr>\n",
       "      <th>44860</th>\n",
       "      <td>16034285</td>\n",
       "      <td>1713394306</td>\n",
       "      <td>71.03</td>\n",
       "    </tr>\n",
       "    <tr>\n",
       "      <th>590879</th>\n",
       "      <td>15318315</td>\n",
       "      <td>1868912248</td>\n",
       "      <td>35.88</td>\n",
       "    </tr>\n",
       "    <tr>\n",
       "      <th>295557</th>\n",
       "      <td>10334411</td>\n",
       "      <td>1520490500</td>\n",
       "      <td>64.94</td>\n",
       "    </tr>\n",
       "    <tr>\n",
       "      <th>476879</th>\n",
       "      <td>15833648</td>\n",
       "      <td>1687691711</td>\n",
       "      <td>6.01</td>\n",
       "    </tr>\n",
       "  </tbody>\n",
       "</table>\n",
       "</div>"
      ],
      "text/plain": [
       "        CTLG_PROD_ID  ITE_ITEM_ID  ITE_BASE_CURRENT_PRICE\n",
       "66970       16926686   1906537800                  191.48\n",
       "44860       16034285   1713394306                   71.03\n",
       "590879      15318315   1868912248                   35.88\n",
       "295557      10334411   1520490500                   64.94\n",
       "476879      15833648   1687691711                    6.01"
      ]
     },
     "execution_count": 8,
     "metadata": {},
     "output_type": "execute_result"
    }
   ],
   "source": [
    "df_prod.sample(5)"
   ]
  },
  {
   "cell_type": "code",
   "execution_count": 9,
   "metadata": {},
   "outputs": [
    {
     "data": {
      "text/plain": [
       "(1066717, 3)"
      ]
     },
     "execution_count": 9,
     "metadata": {},
     "output_type": "execute_result"
    }
   ],
   "source": [
    "df_prod.shape"
   ]
  },
  {
   "cell_type": "code",
   "execution_count": 10,
   "metadata": {},
   "outputs": [
    {
     "data": {
      "text/html": [
       "<div>\n",
       "<style scoped>\n",
       "    .dataframe tbody tr th:only-of-type {\n",
       "        vertical-align: middle;\n",
       "    }\n",
       "\n",
       "    .dataframe tbody tr th {\n",
       "        vertical-align: top;\n",
       "    }\n",
       "\n",
       "    .dataframe thead th {\n",
       "        text-align: right;\n",
       "    }\n",
       "</style>\n",
       "<table border=\"1\" class=\"dataframe\">\n",
       "  <thead>\n",
       "    <tr style=\"text-align: right;\">\n",
       "      <th></th>\n",
       "      <th>count</th>\n",
       "      <th>mean</th>\n",
       "      <th>std</th>\n",
       "      <th>min</th>\n",
       "      <th>25%</th>\n",
       "      <th>50%</th>\n",
       "      <th>75%</th>\n",
       "      <th>max</th>\n",
       "    </tr>\n",
       "    <tr>\n",
       "      <th>CTLG_PROD_ID</th>\n",
       "      <th></th>\n",
       "      <th></th>\n",
       "      <th></th>\n",
       "      <th></th>\n",
       "      <th></th>\n",
       "      <th></th>\n",
       "      <th></th>\n",
       "      <th></th>\n",
       "    </tr>\n",
       "  </thead>\n",
       "  <tbody>\n",
       "    <tr>\n",
       "      <th>633</th>\n",
       "      <td>5.0</td>\n",
       "      <td>41.338000</td>\n",
       "      <td>4.864187</td>\n",
       "      <td>37.50</td>\n",
       "      <td>37.50</td>\n",
       "      <td>38.86</td>\n",
       "      <td>44.480</td>\n",
       "      <td>48.35</td>\n",
       "    </tr>\n",
       "    <tr>\n",
       "      <th>5020</th>\n",
       "      <td>21.0</td>\n",
       "      <td>44.738571</td>\n",
       "      <td>3.796100</td>\n",
       "      <td>41.91</td>\n",
       "      <td>41.91</td>\n",
       "      <td>44.90</td>\n",
       "      <td>45.380</td>\n",
       "      <td>59.86</td>\n",
       "    </tr>\n",
       "    <tr>\n",
       "      <th>802407</th>\n",
       "      <td>1.0</td>\n",
       "      <td>43.340000</td>\n",
       "      <td>NaN</td>\n",
       "      <td>43.34</td>\n",
       "      <td>43.34</td>\n",
       "      <td>43.34</td>\n",
       "      <td>43.340</td>\n",
       "      <td>43.34</td>\n",
       "    </tr>\n",
       "    <tr>\n",
       "      <th>802447</th>\n",
       "      <td>3.0</td>\n",
       "      <td>18.766667</td>\n",
       "      <td>7.990528</td>\n",
       "      <td>9.54</td>\n",
       "      <td>16.46</td>\n",
       "      <td>23.38</td>\n",
       "      <td>23.380</td>\n",
       "      <td>23.38</td>\n",
       "    </tr>\n",
       "    <tr>\n",
       "      <th>802465</th>\n",
       "      <td>75.0</td>\n",
       "      <td>98.923867</td>\n",
       "      <td>63.653281</td>\n",
       "      <td>5.72</td>\n",
       "      <td>7.60</td>\n",
       "      <td>137.79</td>\n",
       "      <td>140.415</td>\n",
       "      <td>181.60</td>\n",
       "    </tr>\n",
       "    <tr>\n",
       "      <th>...</th>\n",
       "      <td>...</td>\n",
       "      <td>...</td>\n",
       "      <td>...</td>\n",
       "      <td>...</td>\n",
       "      <td>...</td>\n",
       "      <td>...</td>\n",
       "      <td>...</td>\n",
       "      <td>...</td>\n",
       "    </tr>\n",
       "    <tr>\n",
       "      <th>18326224</th>\n",
       "      <td>1.0</td>\n",
       "      <td>79.990000</td>\n",
       "      <td>NaN</td>\n",
       "      <td>79.99</td>\n",
       "      <td>79.99</td>\n",
       "      <td>79.99</td>\n",
       "      <td>79.990</td>\n",
       "      <td>79.99</td>\n",
       "    </tr>\n",
       "    <tr>\n",
       "      <th>18337312</th>\n",
       "      <td>1.0</td>\n",
       "      <td>705.030000</td>\n",
       "      <td>NaN</td>\n",
       "      <td>705.03</td>\n",
       "      <td>705.03</td>\n",
       "      <td>705.03</td>\n",
       "      <td>705.030</td>\n",
       "      <td>705.03</td>\n",
       "    </tr>\n",
       "    <tr>\n",
       "      <th>18339643</th>\n",
       "      <td>4.0</td>\n",
       "      <td>181.730000</td>\n",
       "      <td>9.560000</td>\n",
       "      <td>167.39</td>\n",
       "      <td>181.73</td>\n",
       "      <td>186.51</td>\n",
       "      <td>186.510</td>\n",
       "      <td>186.51</td>\n",
       "    </tr>\n",
       "    <tr>\n",
       "      <th>18339644</th>\n",
       "      <td>1.0</td>\n",
       "      <td>190.320000</td>\n",
       "      <td>NaN</td>\n",
       "      <td>190.32</td>\n",
       "      <td>190.32</td>\n",
       "      <td>190.32</td>\n",
       "      <td>190.320</td>\n",
       "      <td>190.32</td>\n",
       "    </tr>\n",
       "    <tr>\n",
       "      <th>18339645</th>\n",
       "      <td>1.0</td>\n",
       "      <td>183.480000</td>\n",
       "      <td>NaN</td>\n",
       "      <td>183.48</td>\n",
       "      <td>183.48</td>\n",
       "      <td>183.48</td>\n",
       "      <td>183.480</td>\n",
       "      <td>183.48</td>\n",
       "    </tr>\n",
       "  </tbody>\n",
       "</table>\n",
       "<p>13878 rows × 8 columns</p>\n",
       "</div>"
      ],
      "text/plain": [
       "              count        mean        std     min     25%     50%      75%  \\\n",
       "CTLG_PROD_ID                                                                  \n",
       "633             5.0   41.338000   4.864187   37.50   37.50   38.86   44.480   \n",
       "5020           21.0   44.738571   3.796100   41.91   41.91   44.90   45.380   \n",
       "802407          1.0   43.340000        NaN   43.34   43.34   43.34   43.340   \n",
       "802447          3.0   18.766667   7.990528    9.54   16.46   23.38   23.380   \n",
       "802465         75.0   98.923867  63.653281    5.72    7.60  137.79  140.415   \n",
       "...             ...         ...        ...     ...     ...     ...      ...   \n",
       "18326224        1.0   79.990000        NaN   79.99   79.99   79.99   79.990   \n",
       "18337312        1.0  705.030000        NaN  705.03  705.03  705.03  705.030   \n",
       "18339643        4.0  181.730000   9.560000  167.39  181.73  186.51  186.510   \n",
       "18339644        1.0  190.320000        NaN  190.32  190.32  190.32  190.320   \n",
       "18339645        1.0  183.480000        NaN  183.48  183.48  183.48  183.480   \n",
       "\n",
       "                 max  \n",
       "CTLG_PROD_ID          \n",
       "633            48.35  \n",
       "5020           59.86  \n",
       "802407         43.34  \n",
       "802447         23.38  \n",
       "802465        181.60  \n",
       "...              ...  \n",
       "18326224       79.99  \n",
       "18337312      705.03  \n",
       "18339643      186.51  \n",
       "18339644      190.32  \n",
       "18339645      183.48  \n",
       "\n",
       "[13878 rows x 8 columns]"
      ]
     },
     "execution_count": 10,
     "metadata": {},
     "output_type": "execute_result"
    }
   ],
   "source": [
    "gb=df_prod.groupby(['CTLG_PROD_ID'])\n",
    "df_des=gb['ITE_BASE_CURRENT_PRICE'].describe()\n",
    "df_des"
   ]
  },
  {
   "cell_type": "markdown",
   "metadata": {},
   "source": [
    "## Drop rows with NaN std"
   ]
  },
  {
   "cell_type": "code",
   "execution_count": 11,
   "metadata": {},
   "outputs": [
    {
     "data": {
      "text/plain": [
       "1965"
      ]
     },
     "execution_count": 11,
     "metadata": {},
     "output_type": "execute_result"
    }
   ],
   "source": [
    "countNaN = df_des['std'].isna().sum()\n",
    "countNaN"
   ]
  },
  {
   "cell_type": "code",
   "execution_count": 12,
   "metadata": {},
   "outputs": [],
   "source": [
    "df_des.dropna(subset = ['std'], inplace=True)"
   ]
  },
  {
   "cell_type": "code",
   "execution_count": 13,
   "metadata": {},
   "outputs": [
    {
     "data": {
      "text/plain": [
       "0"
      ]
     },
     "execution_count": 13,
     "metadata": {},
     "output_type": "execute_result"
    }
   ],
   "source": [
    "countNaN = df_des['std'].isna().sum()\n",
    "countNaN"
   ]
  },
  {
   "cell_type": "markdown",
   "metadata": {},
   "source": [
    "## Reset the index"
   ]
  },
  {
   "cell_type": "code",
   "execution_count": 14,
   "metadata": {},
   "outputs": [],
   "source": [
    "df_des=df_des.reset_index()"
   ]
  },
  {
   "cell_type": "code",
   "execution_count": 15,
   "metadata": {},
   "outputs": [
    {
     "data": {
      "text/html": [
       "<div>\n",
       "<style scoped>\n",
       "    .dataframe tbody tr th:only-of-type {\n",
       "        vertical-align: middle;\n",
       "    }\n",
       "\n",
       "    .dataframe tbody tr th {\n",
       "        vertical-align: top;\n",
       "    }\n",
       "\n",
       "    .dataframe thead th {\n",
       "        text-align: right;\n",
       "    }\n",
       "</style>\n",
       "<table border=\"1\" class=\"dataframe\">\n",
       "  <thead>\n",
       "    <tr style=\"text-align: right;\">\n",
       "      <th></th>\n",
       "      <th>CTLG_PROD_ID</th>\n",
       "      <th>count</th>\n",
       "      <th>mean</th>\n",
       "      <th>std</th>\n",
       "      <th>min</th>\n",
       "      <th>25%</th>\n",
       "      <th>50%</th>\n",
       "      <th>75%</th>\n",
       "      <th>max</th>\n",
       "    </tr>\n",
       "  </thead>\n",
       "  <tbody>\n",
       "    <tr>\n",
       "      <th>0</th>\n",
       "      <td>633</td>\n",
       "      <td>5.0</td>\n",
       "      <td>41.338000</td>\n",
       "      <td>4.864187</td>\n",
       "      <td>37.50</td>\n",
       "      <td>37.50</td>\n",
       "      <td>38.86</td>\n",
       "      <td>44.480</td>\n",
       "      <td>48.35</td>\n",
       "    </tr>\n",
       "    <tr>\n",
       "      <th>1</th>\n",
       "      <td>5020</td>\n",
       "      <td>21.0</td>\n",
       "      <td>44.738571</td>\n",
       "      <td>3.796100</td>\n",
       "      <td>41.91</td>\n",
       "      <td>41.91</td>\n",
       "      <td>44.90</td>\n",
       "      <td>45.380</td>\n",
       "      <td>59.86</td>\n",
       "    </tr>\n",
       "    <tr>\n",
       "      <th>2</th>\n",
       "      <td>802447</td>\n",
       "      <td>3.0</td>\n",
       "      <td>18.766667</td>\n",
       "      <td>7.990528</td>\n",
       "      <td>9.54</td>\n",
       "      <td>16.46</td>\n",
       "      <td>23.38</td>\n",
       "      <td>23.380</td>\n",
       "      <td>23.38</td>\n",
       "    </tr>\n",
       "    <tr>\n",
       "      <th>3</th>\n",
       "      <td>802465</td>\n",
       "      <td>75.0</td>\n",
       "      <td>98.923867</td>\n",
       "      <td>63.653281</td>\n",
       "      <td>5.72</td>\n",
       "      <td>7.60</td>\n",
       "      <td>137.79</td>\n",
       "      <td>140.415</td>\n",
       "      <td>181.60</td>\n",
       "    </tr>\n",
       "    <tr>\n",
       "      <th>4</th>\n",
       "      <td>802499</td>\n",
       "      <td>3.0</td>\n",
       "      <td>47.350000</td>\n",
       "      <td>0.571577</td>\n",
       "      <td>47.02</td>\n",
       "      <td>47.02</td>\n",
       "      <td>47.02</td>\n",
       "      <td>47.515</td>\n",
       "      <td>48.01</td>\n",
       "    </tr>\n",
       "  </tbody>\n",
       "</table>\n",
       "</div>"
      ],
      "text/plain": [
       "   CTLG_PROD_ID  count       mean        std    min    25%     50%      75%  \\\n",
       "0           633    5.0  41.338000   4.864187  37.50  37.50   38.86   44.480   \n",
       "1          5020   21.0  44.738571   3.796100  41.91  41.91   44.90   45.380   \n",
       "2        802447    3.0  18.766667   7.990528   9.54  16.46   23.38   23.380   \n",
       "3        802465   75.0  98.923867  63.653281   5.72   7.60  137.79  140.415   \n",
       "4        802499    3.0  47.350000   0.571577  47.02  47.02   47.02   47.515   \n",
       "\n",
       "      max  \n",
       "0   48.35  \n",
       "1   59.86  \n",
       "2   23.38  \n",
       "3  181.60  \n",
       "4   48.01  "
      ]
     },
     "execution_count": 15,
     "metadata": {},
     "output_type": "execute_result"
    }
   ],
   "source": [
    "df_des.head()"
   ]
  },
  {
   "cell_type": "code",
   "execution_count": 16,
   "metadata": {},
   "outputs": [
    {
     "data": {
      "text/plain": [
       "(11913, 9)"
      ]
     },
     "execution_count": 16,
     "metadata": {},
     "output_type": "execute_result"
    }
   ],
   "source": [
    "df_des.shape"
   ]
  },
  {
   "cell_type": "markdown",
   "metadata": {},
   "source": [
    "## Join the DFs by Product ID"
   ]
  },
  {
   "cell_type": "code",
   "execution_count": 17,
   "metadata": {},
   "outputs": [],
   "source": [
    "df = pd.merge(left = df_des, right = df_ord,\n",
    "                how = 'inner',\n",
    "                left_on='CTLG_PROD_ID', right_on='CTLG_PROD_ID')"
   ]
  },
  {
   "cell_type": "code",
   "execution_count": 18,
   "metadata": {},
   "outputs": [
    {
     "data": {
      "text/plain": [
       "(1064752, 22)"
      ]
     },
     "execution_count": 18,
     "metadata": {},
     "output_type": "execute_result"
    }
   ],
   "source": [
    "df.shape"
   ]
  },
  {
   "cell_type": "code",
   "execution_count": 19,
   "metadata": {},
   "outputs": [
    {
     "data": {
      "text/plain": [
       "Index(['CTLG_PROD_ID', 'count', 'mean', 'std', 'min', '25%', '50%', '75%',\n",
       "       'max', 'ORD_ORDER_ID', 'CUS_CUST_ID_SEL', 'ITE_ITEM_ID',\n",
       "       'ITE_BASE_CURRENT_PRICE', 'active_item', 'flag_bad_item',\n",
       "       'flag_bad_user', 'order_trusted', 'is_buybox', 'has_bpp',\n",
       "       'has_claim_seller', 'is_refund', 'bpp_cashout_final'],\n",
       "      dtype='object')"
      ]
     },
     "execution_count": 19,
     "metadata": {},
     "output_type": "execute_result"
    }
   ],
   "source": [
    "df.columns"
   ]
  },
  {
   "cell_type": "code",
   "execution_count": 20,
   "metadata": {},
   "outputs": [
    {
     "data": {
      "text/html": [
       "<div>\n",
       "<style scoped>\n",
       "    .dataframe tbody tr th:only-of-type {\n",
       "        vertical-align: middle;\n",
       "    }\n",
       "\n",
       "    .dataframe tbody tr th {\n",
       "        vertical-align: top;\n",
       "    }\n",
       "\n",
       "    .dataframe thead th {\n",
       "        text-align: right;\n",
       "    }\n",
       "</style>\n",
       "<table border=\"1\" class=\"dataframe\">\n",
       "  <thead>\n",
       "    <tr style=\"text-align: right;\">\n",
       "      <th></th>\n",
       "      <th>CTLG_PROD_ID</th>\n",
       "      <th>count</th>\n",
       "      <th>mean</th>\n",
       "      <th>std</th>\n",
       "      <th>min</th>\n",
       "      <th>25%</th>\n",
       "      <th>50%</th>\n",
       "      <th>75%</th>\n",
       "      <th>max</th>\n",
       "      <th>ORD_ORDER_ID</th>\n",
       "      <th>...</th>\n",
       "      <th>ITE_BASE_CURRENT_PRICE</th>\n",
       "      <th>active_item</th>\n",
       "      <th>flag_bad_item</th>\n",
       "      <th>flag_bad_user</th>\n",
       "      <th>order_trusted</th>\n",
       "      <th>is_buybox</th>\n",
       "      <th>has_bpp</th>\n",
       "      <th>has_claim_seller</th>\n",
       "      <th>is_refund</th>\n",
       "      <th>bpp_cashout_final</th>\n",
       "    </tr>\n",
       "  </thead>\n",
       "  <tbody>\n",
       "    <tr>\n",
       "      <th>837222</th>\n",
       "      <td>16107489</td>\n",
       "      <td>5515.0</td>\n",
       "      <td>131.803570</td>\n",
       "      <td>17.965357</td>\n",
       "      <td>84.33</td>\n",
       "      <td>116.56</td>\n",
       "      <td>131.44</td>\n",
       "      <td>133.230</td>\n",
       "      <td>223.28</td>\n",
       "      <td>4677844730</td>\n",
       "      <td>...</td>\n",
       "      <td>133.23</td>\n",
       "      <td>1</td>\n",
       "      <td>0</td>\n",
       "      <td>0</td>\n",
       "      <td>1</td>\n",
       "      <td>1</td>\n",
       "      <td>0</td>\n",
       "      <td>0</td>\n",
       "      <td>0.0</td>\n",
       "      <td>0.0</td>\n",
       "    </tr>\n",
       "    <tr>\n",
       "      <th>144079</th>\n",
       "      <td>6454163</td>\n",
       "      <td>4.0</td>\n",
       "      <td>69.165000</td>\n",
       "      <td>20.442253</td>\n",
       "      <td>52.22</td>\n",
       "      <td>52.22</td>\n",
       "      <td>65.54</td>\n",
       "      <td>82.485</td>\n",
       "      <td>93.36</td>\n",
       "      <td>4638255211</td>\n",
       "      <td>...</td>\n",
       "      <td>52.22</td>\n",
       "      <td>1</td>\n",
       "      <td>0</td>\n",
       "      <td>0</td>\n",
       "      <td>1</td>\n",
       "      <td>0</td>\n",
       "      <td>1</td>\n",
       "      <td>0</td>\n",
       "      <td>1.0</td>\n",
       "      <td>0.0</td>\n",
       "    </tr>\n",
       "    <tr>\n",
       "      <th>842749</th>\n",
       "      <td>16109737</td>\n",
       "      <td>373.0</td>\n",
       "      <td>74.816622</td>\n",
       "      <td>4.961791</td>\n",
       "      <td>66.70</td>\n",
       "      <td>72.26</td>\n",
       "      <td>75.32</td>\n",
       "      <td>77.450</td>\n",
       "      <td>92.39</td>\n",
       "      <td>4652593135</td>\n",
       "      <td>...</td>\n",
       "      <td>77.45</td>\n",
       "      <td>0</td>\n",
       "      <td>0</td>\n",
       "      <td>0</td>\n",
       "      <td>1</td>\n",
       "      <td>0</td>\n",
       "      <td>0</td>\n",
       "      <td>0</td>\n",
       "      <td>0.0</td>\n",
       "      <td>0.0</td>\n",
       "    </tr>\n",
       "    <tr>\n",
       "      <th>907350</th>\n",
       "      <td>16224579</td>\n",
       "      <td>779.0</td>\n",
       "      <td>11.606290</td>\n",
       "      <td>14.466251</td>\n",
       "      <td>1.36</td>\n",
       "      <td>5.54</td>\n",
       "      <td>5.90</td>\n",
       "      <td>7.760</td>\n",
       "      <td>54.35</td>\n",
       "      <td>4655255596</td>\n",
       "      <td>...</td>\n",
       "      <td>9.76</td>\n",
       "      <td>0</td>\n",
       "      <td>0</td>\n",
       "      <td>0</td>\n",
       "      <td>1</td>\n",
       "      <td>0</td>\n",
       "      <td>0</td>\n",
       "      <td>0</td>\n",
       "      <td>0.0</td>\n",
       "      <td>0.0</td>\n",
       "    </tr>\n",
       "    <tr>\n",
       "      <th>322826</th>\n",
       "      <td>13841393</td>\n",
       "      <td>7077.0</td>\n",
       "      <td>48.359426</td>\n",
       "      <td>25.568360</td>\n",
       "      <td>4.49</td>\n",
       "      <td>44.75</td>\n",
       "      <td>46.27</td>\n",
       "      <td>47.770</td>\n",
       "      <td>512.98</td>\n",
       "      <td>4653915494</td>\n",
       "      <td>...</td>\n",
       "      <td>46.29</td>\n",
       "      <td>0</td>\n",
       "      <td>0</td>\n",
       "      <td>0</td>\n",
       "      <td>1</td>\n",
       "      <td>1</td>\n",
       "      <td>0</td>\n",
       "      <td>0</td>\n",
       "      <td>0.0</td>\n",
       "      <td>0.0</td>\n",
       "    </tr>\n",
       "  </tbody>\n",
       "</table>\n",
       "<p>5 rows × 22 columns</p>\n",
       "</div>"
      ],
      "text/plain": [
       "        CTLG_PROD_ID   count        mean        std    min     25%     50%  \\\n",
       "837222      16107489  5515.0  131.803570  17.965357  84.33  116.56  131.44   \n",
       "144079       6454163     4.0   69.165000  20.442253  52.22   52.22   65.54   \n",
       "842749      16109737   373.0   74.816622   4.961791  66.70   72.26   75.32   \n",
       "907350      16224579   779.0   11.606290  14.466251   1.36    5.54    5.90   \n",
       "322826      13841393  7077.0   48.359426  25.568360   4.49   44.75   46.27   \n",
       "\n",
       "            75%     max  ORD_ORDER_ID  ...  ITE_BASE_CURRENT_PRICE  \\\n",
       "837222  133.230  223.28    4677844730  ...                  133.23   \n",
       "144079   82.485   93.36    4638255211  ...                   52.22   \n",
       "842749   77.450   92.39    4652593135  ...                   77.45   \n",
       "907350    7.760   54.35    4655255596  ...                    9.76   \n",
       "322826   47.770  512.98    4653915494  ...                   46.29   \n",
       "\n",
       "        active_item  flag_bad_item  flag_bad_user  order_trusted  is_buybox  \\\n",
       "837222            1              0              0              1          1   \n",
       "144079            1              0              0              1          0   \n",
       "842749            0              0              0              1          0   \n",
       "907350            0              0              0              1          0   \n",
       "322826            0              0              0              1          1   \n",
       "\n",
       "        has_bpp  has_claim_seller  is_refund  bpp_cashout_final  \n",
       "837222        0                 0        0.0                0.0  \n",
       "144079        1                 0        1.0                0.0  \n",
       "842749        0                 0        0.0                0.0  \n",
       "907350        0                 0        0.0                0.0  \n",
       "322826        0                 0        0.0                0.0  \n",
       "\n",
       "[5 rows x 22 columns]"
      ]
     },
     "execution_count": 20,
     "metadata": {},
     "output_type": "execute_result"
    }
   ],
   "source": [
    "df.sample(5)"
   ]
  },
  {
   "cell_type": "markdown",
   "metadata": {},
   "source": [
    "## Bad orders"
   ]
  },
  {
   "cell_type": "code",
   "execution_count": 21,
   "metadata": {},
   "outputs": [],
   "source": [
    "df['bad_order'] = df.apply(lambda x: 1 if x['flag_bad_user'] == 1 or x['has_bpp'] == 1 or x['has_claim_seller'] == 1 or x['is_refund'] == 1 or x['bpp_cashout_final'] > 0 else 0, axis=1)\n"
   ]
  },
  {
   "cell_type": "code",
   "execution_count": 22,
   "metadata": {},
   "outputs": [
    {
     "data": {
      "text/html": [
       "<div>\n",
       "<style scoped>\n",
       "    .dataframe tbody tr th:only-of-type {\n",
       "        vertical-align: middle;\n",
       "    }\n",
       "\n",
       "    .dataframe tbody tr th {\n",
       "        vertical-align: top;\n",
       "    }\n",
       "\n",
       "    .dataframe thead th {\n",
       "        text-align: right;\n",
       "    }\n",
       "</style>\n",
       "<table border=\"1\" class=\"dataframe\">\n",
       "  <thead>\n",
       "    <tr style=\"text-align: right;\">\n",
       "      <th></th>\n",
       "      <th>CTLG_PROD_ID</th>\n",
       "      <th>count</th>\n",
       "      <th>mean</th>\n",
       "      <th>std</th>\n",
       "      <th>min</th>\n",
       "      <th>25%</th>\n",
       "      <th>50%</th>\n",
       "      <th>75%</th>\n",
       "      <th>max</th>\n",
       "      <th>ORD_ORDER_ID</th>\n",
       "      <th>...</th>\n",
       "      <th>active_item</th>\n",
       "      <th>flag_bad_item</th>\n",
       "      <th>flag_bad_user</th>\n",
       "      <th>order_trusted</th>\n",
       "      <th>is_buybox</th>\n",
       "      <th>has_bpp</th>\n",
       "      <th>has_claim_seller</th>\n",
       "      <th>is_refund</th>\n",
       "      <th>bpp_cashout_final</th>\n",
       "      <th>bad_order</th>\n",
       "    </tr>\n",
       "  </thead>\n",
       "  <tbody>\n",
       "    <tr>\n",
       "      <th>798993</th>\n",
       "      <td>16033357</td>\n",
       "      <td>38.0</td>\n",
       "      <td>78.216579</td>\n",
       "      <td>0.472064</td>\n",
       "      <td>78.14</td>\n",
       "      <td>78.14</td>\n",
       "      <td>78.14</td>\n",
       "      <td>78.140</td>\n",
       "      <td>81.05</td>\n",
       "      <td>4648066172</td>\n",
       "      <td>...</td>\n",
       "      <td>1</td>\n",
       "      <td>0</td>\n",
       "      <td>0</td>\n",
       "      <td>1</td>\n",
       "      <td>0</td>\n",
       "      <td>0</td>\n",
       "      <td>0</td>\n",
       "      <td>0.0</td>\n",
       "      <td>0.0</td>\n",
       "      <td>0</td>\n",
       "    </tr>\n",
       "    <tr>\n",
       "      <th>817820</th>\n",
       "      <td>16068992</td>\n",
       "      <td>218.0</td>\n",
       "      <td>78.713578</td>\n",
       "      <td>5.228728</td>\n",
       "      <td>70.60</td>\n",
       "      <td>76.75</td>\n",
       "      <td>76.98</td>\n",
       "      <td>78.495</td>\n",
       "      <td>97.63</td>\n",
       "      <td>4610813883</td>\n",
       "      <td>...</td>\n",
       "      <td>0</td>\n",
       "      <td>0</td>\n",
       "      <td>0</td>\n",
       "      <td>1</td>\n",
       "      <td>1</td>\n",
       "      <td>0</td>\n",
       "      <td>0</td>\n",
       "      <td>0.0</td>\n",
       "      <td>0.0</td>\n",
       "      <td>0</td>\n",
       "    </tr>\n",
       "    <tr>\n",
       "      <th>9758</th>\n",
       "      <td>6062278</td>\n",
       "      <td>2231.0</td>\n",
       "      <td>28.024742</td>\n",
       "      <td>38.510689</td>\n",
       "      <td>19.70</td>\n",
       "      <td>25.73</td>\n",
       "      <td>25.73</td>\n",
       "      <td>25.730</td>\n",
       "      <td>713.65</td>\n",
       "      <td>4638484289</td>\n",
       "      <td>...</td>\n",
       "      <td>1</td>\n",
       "      <td>0</td>\n",
       "      <td>0</td>\n",
       "      <td>1</td>\n",
       "      <td>1</td>\n",
       "      <td>0</td>\n",
       "      <td>1</td>\n",
       "      <td>0.0</td>\n",
       "      <td>0.0</td>\n",
       "      <td>1</td>\n",
       "    </tr>\n",
       "    <tr>\n",
       "      <th>751882</th>\n",
       "      <td>15963018</td>\n",
       "      <td>4401.0</td>\n",
       "      <td>36.845681</td>\n",
       "      <td>11.734667</td>\n",
       "      <td>13.42</td>\n",
       "      <td>34.30</td>\n",
       "      <td>34.31</td>\n",
       "      <td>37.170</td>\n",
       "      <td>196.50</td>\n",
       "      <td>4659230928</td>\n",
       "      <td>...</td>\n",
       "      <td>0</td>\n",
       "      <td>0</td>\n",
       "      <td>0</td>\n",
       "      <td>1</td>\n",
       "      <td>1</td>\n",
       "      <td>0</td>\n",
       "      <td>0</td>\n",
       "      <td>0.0</td>\n",
       "      <td>0.0</td>\n",
       "      <td>0</td>\n",
       "    </tr>\n",
       "    <tr>\n",
       "      <th>1053322</th>\n",
       "      <td>17891865</td>\n",
       "      <td>701.0</td>\n",
       "      <td>367.917389</td>\n",
       "      <td>32.500812</td>\n",
       "      <td>117.30</td>\n",
       "      <td>371.48</td>\n",
       "      <td>371.48</td>\n",
       "      <td>371.480</td>\n",
       "      <td>484.38</td>\n",
       "      <td>4673182157</td>\n",
       "      <td>...</td>\n",
       "      <td>1</td>\n",
       "      <td>0</td>\n",
       "      <td>0</td>\n",
       "      <td>1</td>\n",
       "      <td>1</td>\n",
       "      <td>0</td>\n",
       "      <td>0</td>\n",
       "      <td>0.0</td>\n",
       "      <td>0.0</td>\n",
       "      <td>0</td>\n",
       "    </tr>\n",
       "  </tbody>\n",
       "</table>\n",
       "<p>5 rows × 23 columns</p>\n",
       "</div>"
      ],
      "text/plain": [
       "         CTLG_PROD_ID   count        mean        std     min     25%     50%  \\\n",
       "798993       16033357    38.0   78.216579   0.472064   78.14   78.14   78.14   \n",
       "817820       16068992   218.0   78.713578   5.228728   70.60   76.75   76.98   \n",
       "9758          6062278  2231.0   28.024742  38.510689   19.70   25.73   25.73   \n",
       "751882       15963018  4401.0   36.845681  11.734667   13.42   34.30   34.31   \n",
       "1053322      17891865   701.0  367.917389  32.500812  117.30  371.48  371.48   \n",
       "\n",
       "             75%     max  ORD_ORDER_ID  ...  active_item  flag_bad_item  \\\n",
       "798993    78.140   81.05    4648066172  ...            1              0   \n",
       "817820    78.495   97.63    4610813883  ...            0              0   \n",
       "9758      25.730  713.65    4638484289  ...            1              0   \n",
       "751882    37.170  196.50    4659230928  ...            0              0   \n",
       "1053322  371.480  484.38    4673182157  ...            1              0   \n",
       "\n",
       "         flag_bad_user  order_trusted  is_buybox  has_bpp  has_claim_seller  \\\n",
       "798993               0              1          0        0                 0   \n",
       "817820               0              1          1        0                 0   \n",
       "9758                 0              1          1        0                 1   \n",
       "751882               0              1          1        0                 0   \n",
       "1053322              0              1          1        0                 0   \n",
       "\n",
       "         is_refund  bpp_cashout_final  bad_order  \n",
       "798993         0.0                0.0          0  \n",
       "817820         0.0                0.0          0  \n",
       "9758           0.0                0.0          1  \n",
       "751882         0.0                0.0          0  \n",
       "1053322        0.0                0.0          0  \n",
       "\n",
       "[5 rows x 23 columns]"
      ]
     },
     "execution_count": 22,
     "metadata": {},
     "output_type": "execute_result"
    }
   ],
   "source": [
    "df.sample(5)"
   ]
  },
  {
   "cell_type": "code",
   "execution_count": 23,
   "metadata": {},
   "outputs": [
    {
     "data": {
      "text/plain": [
       "Index(['CTLG_PROD_ID', 'count', 'mean', 'std', 'min', '25%', '50%', '75%',\n",
       "       'max', 'ORD_ORDER_ID', 'CUS_CUST_ID_SEL', 'ITE_ITEM_ID',\n",
       "       'ITE_BASE_CURRENT_PRICE', 'active_item', 'flag_bad_item',\n",
       "       'flag_bad_user', 'order_trusted', 'is_buybox', 'has_bpp',\n",
       "       'has_claim_seller', 'is_refund', 'bpp_cashout_final', 'bad_order'],\n",
       "      dtype='object')"
      ]
     },
     "execution_count": 23,
     "metadata": {},
     "output_type": "execute_result"
    }
   ],
   "source": [
    "df.columns"
   ]
  },
  {
   "cell_type": "markdown",
   "metadata": {},
   "source": [
    "# Base on the Price_Range"
   ]
  },
  {
   "cell_type": "markdown",
   "metadata": {},
   "source": [
    "## Create columns flag low_price for those items with price below the 25%"
   ]
  },
  {
   "cell_type": "code",
   "execution_count": 24,
   "metadata": {},
   "outputs": [],
   "source": [
    "df['Low25_Price'] = df.apply(lambda x: 1 if x['25%'] > x['ITE_BASE_CURRENT_PRICE'] else 0, axis=1)"
   ]
  },
  {
   "cell_type": "markdown",
   "metadata": {},
   "source": [
    "## Create columns flag middle_price for items with price below the 75% and over the  25%"
   ]
  },
  {
   "cell_type": "code",
   "execution_count": 25,
   "metadata": {},
   "outputs": [],
   "source": [
    "df['Middle_Price'] = df.apply(lambda x: 1 if x['75%'] >= x['ITE_BASE_CURRENT_PRICE'] and x['25%'] <= x['ITE_BASE_CURRENT_PRICE'] else 0, axis=1)\n"
   ]
  },
  {
   "cell_type": "markdown",
   "metadata": {},
   "source": [
    "## Create column flag high_price for those items with price over the 75%"
   ]
  },
  {
   "cell_type": "code",
   "execution_count": 26,
   "metadata": {},
   "outputs": [],
   "source": [
    "df['High75_Price'] = df.apply(lambda x: 1 if x['75%'] < x['ITE_BASE_CURRENT_PRICE'] else 0, axis=1)"
   ]
  },
  {
   "cell_type": "markdown",
   "metadata": {},
   "source": [
    "## Create column flag price_range"
   ]
  },
  {
   "cell_type": "code",
   "execution_count": 27,
   "metadata": {},
   "outputs": [],
   "source": [
    "df['Price_Range'] = df.apply(lambda x:'low_25' if x['Low25_Price']== 1 else('high_75' if  x['High75_Price']==1  else 'middle'),axis=1)\n"
   ]
  },
  {
   "cell_type": "code",
   "execution_count": 28,
   "metadata": {},
   "outputs": [
    {
     "data": {
      "text/plain": [
       "Index(['CTLG_PROD_ID', 'count', 'mean', 'std', 'min', '25%', '50%', '75%',\n",
       "       'max', 'ORD_ORDER_ID', 'CUS_CUST_ID_SEL', 'ITE_ITEM_ID',\n",
       "       'ITE_BASE_CURRENT_PRICE', 'active_item', 'flag_bad_item',\n",
       "       'flag_bad_user', 'order_trusted', 'is_buybox', 'has_bpp',\n",
       "       'has_claim_seller', 'is_refund', 'bpp_cashout_final', 'bad_order',\n",
       "       'Low25_Price', 'Middle_Price', 'High75_Price', 'Price_Range'],\n",
       "      dtype='object')"
      ]
     },
     "execution_count": 28,
     "metadata": {},
     "output_type": "execute_result"
    }
   ],
   "source": [
    "df.columns"
   ]
  },
  {
   "cell_type": "code",
   "execution_count": 29,
   "metadata": {},
   "outputs": [
    {
     "data": {
      "text/html": [
       "<div>\n",
       "<style scoped>\n",
       "    .dataframe tbody tr th:only-of-type {\n",
       "        vertical-align: middle;\n",
       "    }\n",
       "\n",
       "    .dataframe tbody tr th {\n",
       "        vertical-align: top;\n",
       "    }\n",
       "\n",
       "    .dataframe thead th {\n",
       "        text-align: right;\n",
       "    }\n",
       "</style>\n",
       "<table border=\"1\" class=\"dataframe\">\n",
       "  <thead>\n",
       "    <tr style=\"text-align: right;\">\n",
       "      <th></th>\n",
       "      <th>CTLG_PROD_ID</th>\n",
       "      <th>count</th>\n",
       "      <th>mean</th>\n",
       "      <th>std</th>\n",
       "      <th>min</th>\n",
       "      <th>25%</th>\n",
       "      <th>50%</th>\n",
       "      <th>75%</th>\n",
       "      <th>max</th>\n",
       "      <th>ORD_ORDER_ID</th>\n",
       "      <th>...</th>\n",
       "      <th>is_buybox</th>\n",
       "      <th>has_bpp</th>\n",
       "      <th>has_claim_seller</th>\n",
       "      <th>is_refund</th>\n",
       "      <th>bpp_cashout_final</th>\n",
       "      <th>bad_order</th>\n",
       "      <th>Low25_Price</th>\n",
       "      <th>Middle_Price</th>\n",
       "      <th>High75_Price</th>\n",
       "      <th>Price_Range</th>\n",
       "    </tr>\n",
       "  </thead>\n",
       "  <tbody>\n",
       "    <tr>\n",
       "      <th>730247</th>\n",
       "      <td>15949974</td>\n",
       "      <td>4762.0</td>\n",
       "      <td>203.488066</td>\n",
       "      <td>8.430057</td>\n",
       "      <td>162.36</td>\n",
       "      <td>198.61</td>\n",
       "      <td>203.94</td>\n",
       "      <td>206.630</td>\n",
       "      <td>348.12</td>\n",
       "      <td>4681391360</td>\n",
       "      <td>...</td>\n",
       "      <td>1</td>\n",
       "      <td>0</td>\n",
       "      <td>0</td>\n",
       "      <td>0.0</td>\n",
       "      <td>0.0</td>\n",
       "      <td>0</td>\n",
       "      <td>0</td>\n",
       "      <td>1</td>\n",
       "      <td>0</td>\n",
       "      <td>middle</td>\n",
       "    </tr>\n",
       "    <tr>\n",
       "      <th>409648</th>\n",
       "      <td>15100131</td>\n",
       "      <td>2343.0</td>\n",
       "      <td>16.573683</td>\n",
       "      <td>1.471263</td>\n",
       "      <td>12.39</td>\n",
       "      <td>15.74</td>\n",
       "      <td>16.02</td>\n",
       "      <td>16.960</td>\n",
       "      <td>25.52</td>\n",
       "      <td>4636698252</td>\n",
       "      <td>...</td>\n",
       "      <td>1</td>\n",
       "      <td>0</td>\n",
       "      <td>0</td>\n",
       "      <td>0.0</td>\n",
       "      <td>0.0</td>\n",
       "      <td>0</td>\n",
       "      <td>0</td>\n",
       "      <td>1</td>\n",
       "      <td>0</td>\n",
       "      <td>middle</td>\n",
       "    </tr>\n",
       "    <tr>\n",
       "      <th>967751</th>\n",
       "      <td>17000435</td>\n",
       "      <td>65.0</td>\n",
       "      <td>130.144308</td>\n",
       "      <td>5.322936</td>\n",
       "      <td>123.60</td>\n",
       "      <td>125.52</td>\n",
       "      <td>131.29</td>\n",
       "      <td>131.290</td>\n",
       "      <td>165.80</td>\n",
       "      <td>4669391440</td>\n",
       "      <td>...</td>\n",
       "      <td>1</td>\n",
       "      <td>0</td>\n",
       "      <td>0</td>\n",
       "      <td>0.0</td>\n",
       "      <td>0.0</td>\n",
       "      <td>0</td>\n",
       "      <td>0</td>\n",
       "      <td>1</td>\n",
       "      <td>0</td>\n",
       "      <td>middle</td>\n",
       "    </tr>\n",
       "    <tr>\n",
       "      <th>343007</th>\n",
       "      <td>14141807</td>\n",
       "      <td>722.0</td>\n",
       "      <td>26.661163</td>\n",
       "      <td>2.764574</td>\n",
       "      <td>22.30</td>\n",
       "      <td>25.08</td>\n",
       "      <td>25.70</td>\n",
       "      <td>28.565</td>\n",
       "      <td>51.10</td>\n",
       "      <td>4613060036</td>\n",
       "      <td>...</td>\n",
       "      <td>1</td>\n",
       "      <td>0</td>\n",
       "      <td>0</td>\n",
       "      <td>0.0</td>\n",
       "      <td>0.0</td>\n",
       "      <td>0</td>\n",
       "      <td>0</td>\n",
       "      <td>1</td>\n",
       "      <td>0</td>\n",
       "      <td>middle</td>\n",
       "    </tr>\n",
       "    <tr>\n",
       "      <th>1007871</th>\n",
       "      <td>17457350</td>\n",
       "      <td>270.0</td>\n",
       "      <td>152.001704</td>\n",
       "      <td>5.155241</td>\n",
       "      <td>136.54</td>\n",
       "      <td>152.29</td>\n",
       "      <td>152.29</td>\n",
       "      <td>152.290</td>\n",
       "      <td>195.28</td>\n",
       "      <td>4624765837</td>\n",
       "      <td>...</td>\n",
       "      <td>1</td>\n",
       "      <td>0</td>\n",
       "      <td>0</td>\n",
       "      <td>0.0</td>\n",
       "      <td>0.0</td>\n",
       "      <td>0</td>\n",
       "      <td>0</td>\n",
       "      <td>1</td>\n",
       "      <td>0</td>\n",
       "      <td>middle</td>\n",
       "    </tr>\n",
       "  </tbody>\n",
       "</table>\n",
       "<p>5 rows × 27 columns</p>\n",
       "</div>"
      ],
      "text/plain": [
       "         CTLG_PROD_ID   count        mean       std     min     25%     50%  \\\n",
       "730247       15949974  4762.0  203.488066  8.430057  162.36  198.61  203.94   \n",
       "409648       15100131  2343.0   16.573683  1.471263   12.39   15.74   16.02   \n",
       "967751       17000435    65.0  130.144308  5.322936  123.60  125.52  131.29   \n",
       "343007       14141807   722.0   26.661163  2.764574   22.30   25.08   25.70   \n",
       "1007871      17457350   270.0  152.001704  5.155241  136.54  152.29  152.29   \n",
       "\n",
       "             75%     max  ORD_ORDER_ID  ...  is_buybox  has_bpp  \\\n",
       "730247   206.630  348.12    4681391360  ...          1        0   \n",
       "409648    16.960   25.52    4636698252  ...          1        0   \n",
       "967751   131.290  165.80    4669391440  ...          1        0   \n",
       "343007    28.565   51.10    4613060036  ...          1        0   \n",
       "1007871  152.290  195.28    4624765837  ...          1        0   \n",
       "\n",
       "         has_claim_seller  is_refund  bpp_cashout_final  bad_order  \\\n",
       "730247                  0        0.0                0.0          0   \n",
       "409648                  0        0.0                0.0          0   \n",
       "967751                  0        0.0                0.0          0   \n",
       "343007                  0        0.0                0.0          0   \n",
       "1007871                 0        0.0                0.0          0   \n",
       "\n",
       "         Low25_Price  Middle_Price  High75_Price  Price_Range  \n",
       "730247             0             1             0       middle  \n",
       "409648             0             1             0       middle  \n",
       "967751             0             1             0       middle  \n",
       "343007             0             1             0       middle  \n",
       "1007871            0             1             0       middle  \n",
       "\n",
       "[5 rows x 27 columns]"
      ]
     },
     "execution_count": 29,
     "metadata": {},
     "output_type": "execute_result"
    }
   ],
   "source": [
    "df.sample(5)"
   ]
  },
  {
   "cell_type": "markdown",
   "metadata": {},
   "source": [
    "## Distribution Bad Orders"
   ]
  },
  {
   "cell_type": "code",
   "execution_count": 30,
   "metadata": {},
   "outputs": [],
   "source": [
    "df_1=df[['Price_Range','bad_order','ORD_ORDER_ID']]"
   ]
  },
  {
   "cell_type": "code",
   "execution_count": 31,
   "metadata": {},
   "outputs": [
    {
     "data": {
      "text/html": [
       "<div>\n",
       "<style scoped>\n",
       "    .dataframe tbody tr th:only-of-type {\n",
       "        vertical-align: middle;\n",
       "    }\n",
       "\n",
       "    .dataframe tbody tr th {\n",
       "        vertical-align: top;\n",
       "    }\n",
       "\n",
       "    .dataframe thead th {\n",
       "        text-align: right;\n",
       "    }\n",
       "</style>\n",
       "<table border=\"1\" class=\"dataframe\">\n",
       "  <thead>\n",
       "    <tr style=\"text-align: right;\">\n",
       "      <th></th>\n",
       "      <th>Price_Range</th>\n",
       "      <th>bad_order</th>\n",
       "      <th>ORD_ORDER_ID</th>\n",
       "      <th>TOTAL</th>\n",
       "      <th>Dis.[%]</th>\n",
       "    </tr>\n",
       "  </thead>\n",
       "  <tbody>\n",
       "    <tr>\n",
       "      <th>0</th>\n",
       "      <td>high_75</td>\n",
       "      <td>0</td>\n",
       "      <td>144950</td>\n",
       "      <td>169616</td>\n",
       "      <td>85.5</td>\n",
       "    </tr>\n",
       "    <tr>\n",
       "      <th>1</th>\n",
       "      <td>high_75</td>\n",
       "      <td>1</td>\n",
       "      <td>24666</td>\n",
       "      <td>169616</td>\n",
       "      <td>14.5</td>\n",
       "    </tr>\n",
       "    <tr>\n",
       "      <th>2</th>\n",
       "      <td>low_25</td>\n",
       "      <td>0</td>\n",
       "      <td>122872</td>\n",
       "      <td>148995</td>\n",
       "      <td>82.5</td>\n",
       "    </tr>\n",
       "    <tr>\n",
       "      <th>3</th>\n",
       "      <td>low_25</td>\n",
       "      <td>1</td>\n",
       "      <td>26123</td>\n",
       "      <td>148995</td>\n",
       "      <td>17.5</td>\n",
       "    </tr>\n",
       "    <tr>\n",
       "      <th>4</th>\n",
       "      <td>middle</td>\n",
       "      <td>0</td>\n",
       "      <td>653552</td>\n",
       "      <td>746141</td>\n",
       "      <td>87.6</td>\n",
       "    </tr>\n",
       "    <tr>\n",
       "      <th>5</th>\n",
       "      <td>middle</td>\n",
       "      <td>1</td>\n",
       "      <td>92589</td>\n",
       "      <td>746141</td>\n",
       "      <td>12.4</td>\n",
       "    </tr>\n",
       "  </tbody>\n",
       "</table>\n",
       "</div>"
      ],
      "text/plain": [
       "  Price_Range  bad_order  ORD_ORDER_ID   TOTAL  Dis.[%]\n",
       "0     high_75          0        144950  169616     85.5\n",
       "1     high_75          1         24666  169616     14.5\n",
       "2      low_25          0        122872  148995     82.5\n",
       "3      low_25          1         26123  148995     17.5\n",
       "4      middle          0        653552  746141     87.6\n",
       "5      middle          1         92589  746141     12.4"
      ]
     },
     "execution_count": 31,
     "metadata": {},
     "output_type": "execute_result"
    }
   ],
   "source": [
    "gb1=df_1.groupby(['Price_Range','bad_order']).count()\n",
    "gb1=gb1.reset_index()\n",
    "\n",
    "gb2=gb1[['Price_Range','ORD_ORDER_ID']].groupby(['Price_Range']).sum()\n",
    "gb2=gb2.reset_index()\n",
    "gb2['TOTAL']=gb2['ORD_ORDER_ID']\n",
    "gb2=gb2[['Price_Range','TOTAL']]\n",
    "\n",
    "gb3 = pd.merge(left = gb1, right = gb2,\n",
    "                how = 'inner',\n",
    "                left_on='Price_Range', right_on='Price_Range')\n",
    "\n",
    "gb3['Dis.[%]']=(gb3['ORD_ORDER_ID']/gb3['TOTAL'])*100\n",
    "gb3['Dis.[%]']=gb3['Dis.[%]'].round(decimals=1)\n",
    "\n",
    "gb3"
   ]
  },
  {
   "cell_type": "code",
   "execution_count": 32,
   "metadata": {},
   "outputs": [
    {
     "data": {
      "image/png": "[encoded data removed]",
      "text/plain": [
       "<Figure size 432x288 with 1 Axes>"
      ]
     },
     "metadata": {
      "needs_background": "light"
     },
     "output_type": "display_data"
    }
   ],
   "source": [
    "sns.histplot(\n",
    "            data=df_1,\n",
    "            x=\"Price_Range\",\n",
    "            hue=\"bad_order\",\n",
    "            multiple=\"dodge\",\n",
    "            shrink=.8\n",
    "            ).set(title='Precio',ylabel='Orders');"
   ]
  },
  {
   "cell_type": "markdown",
   "metadata": {},
   "source": [
    "## Distribution Bad Users"
   ]
  },
  {
   "cell_type": "code",
   "execution_count": 33,
   "metadata": {},
   "outputs": [],
   "source": [
    "df_1=df[['Price_Range','flag_bad_user','ORD_ORDER_ID']]"
   ]
  },
  {
   "cell_type": "code",
   "execution_count": 34,
   "metadata": {},
   "outputs": [
    {
     "data": {
      "text/html": [
       "<div>\n",
       "<style scoped>\n",
       "    .dataframe tbody tr th:only-of-type {\n",
       "        vertical-align: middle;\n",
       "    }\n",
       "\n",
       "    .dataframe tbody tr th {\n",
       "        vertical-align: top;\n",
       "    }\n",
       "\n",
       "    .dataframe thead th {\n",
       "        text-align: right;\n",
       "    }\n",
       "</style>\n",
       "<table border=\"1\" class=\"dataframe\">\n",
       "  <thead>\n",
       "    <tr style=\"text-align: right;\">\n",
       "      <th></th>\n",
       "      <th>Price_Range</th>\n",
       "      <th>flag_bad_user</th>\n",
       "      <th>ORD_ORDER_ID</th>\n",
       "      <th>TOTAL</th>\n",
       "      <th>Dis.[%]</th>\n",
       "    </tr>\n",
       "  </thead>\n",
       "  <tbody>\n",
       "    <tr>\n",
       "      <th>0</th>\n",
       "      <td>high_75</td>\n",
       "      <td>0</td>\n",
       "      <td>163154</td>\n",
       "      <td>169616</td>\n",
       "      <td>96.2</td>\n",
       "    </tr>\n",
       "    <tr>\n",
       "      <th>1</th>\n",
       "      <td>high_75</td>\n",
       "      <td>1</td>\n",
       "      <td>6462</td>\n",
       "      <td>169616</td>\n",
       "      <td>3.8</td>\n",
       "    </tr>\n",
       "    <tr>\n",
       "      <th>2</th>\n",
       "      <td>low_25</td>\n",
       "      <td>0</td>\n",
       "      <td>142571</td>\n",
       "      <td>148995</td>\n",
       "      <td>95.7</td>\n",
       "    </tr>\n",
       "    <tr>\n",
       "      <th>3</th>\n",
       "      <td>low_25</td>\n",
       "      <td>1</td>\n",
       "      <td>6424</td>\n",
       "      <td>148995</td>\n",
       "      <td>4.3</td>\n",
       "    </tr>\n",
       "    <tr>\n",
       "      <th>4</th>\n",
       "      <td>middle</td>\n",
       "      <td>0</td>\n",
       "      <td>723664</td>\n",
       "      <td>746141</td>\n",
       "      <td>97.0</td>\n",
       "    </tr>\n",
       "    <tr>\n",
       "      <th>5</th>\n",
       "      <td>middle</td>\n",
       "      <td>1</td>\n",
       "      <td>22477</td>\n",
       "      <td>746141</td>\n",
       "      <td>3.0</td>\n",
       "    </tr>\n",
       "  </tbody>\n",
       "</table>\n",
       "</div>"
      ],
      "text/plain": [
       "  Price_Range  flag_bad_user  ORD_ORDER_ID   TOTAL  Dis.[%]\n",
       "0     high_75              0        163154  169616     96.2\n",
       "1     high_75              1          6462  169616      3.8\n",
       "2      low_25              0        142571  148995     95.7\n",
       "3      low_25              1          6424  148995      4.3\n",
       "4      middle              0        723664  746141     97.0\n",
       "5      middle              1         22477  746141      3.0"
      ]
     },
     "execution_count": 34,
     "metadata": {},
     "output_type": "execute_result"
    }
   ],
   "source": [
    "gb1=df_1.groupby(['Price_Range','flag_bad_user']).count()\n",
    "gb1=gb1.reset_index()\n",
    "\n",
    "gb2=gb1[['Price_Range','ORD_ORDER_ID']].groupby(['Price_Range']).sum()\n",
    "gb2=gb2.reset_index()\n",
    "gb2['TOTAL']=gb2['ORD_ORDER_ID']\n",
    "gb2=gb2[['Price_Range','TOTAL']]\n",
    "\n",
    "gb3 = pd.merge(left = gb1, right = gb2,\n",
    "                how = 'inner',\n",
    "                left_on='Price_Range', right_on='Price_Range')\n",
    "\n",
    "gb3['Dis.[%]']=(gb3['ORD_ORDER_ID']/gb3['TOTAL'])*100\n",
    "gb3['Dis.[%]']=gb3['Dis.[%]'].round(decimals=1)\n",
    "\n",
    "gb3"
   ]
  },
  {
   "cell_type": "code",
   "execution_count": 35,
   "metadata": {},
   "outputs": [
    {
     "data": {
      "image/png": "[encoded data removed]",
      "text/plain": [
       "<Figure size 432x288 with 1 Axes>"
      ]
     },
     "metadata": {
      "needs_background": "light"
     },
     "output_type": "display_data"
    }
   ],
   "source": [
    "sns.histplot(\n",
    "            data=df_1,\n",
    "            x=\"Price_Range\",\n",
    "            hue=\"flag_bad_user\",\n",
    "            multiple=\"dodge\",\n",
    "            shrink=.8\n",
    "            ).set(title='Precio',ylabel='Orders');"
   ]
  },
  {
   "cell_type": "markdown",
   "metadata": {},
   "source": [
    "## Distribution Has CashOut"
   ]
  },
  {
   "cell_type": "code",
   "execution_count": 36,
   "metadata": {},
   "outputs": [
    {
     "name": "stderr",
     "output_type": "stream",
     "text": [
      "<ipython-input-36-239d2c268fe3>:2: SettingWithCopyWarning: \n",
      "A value is trying to be set on a copy of a slice from a DataFrame.\n",
      "Try using .loc[row_indexer,col_indexer] = value instead\n",
      "\n",
      "See the caveats in the documentation: https://pandas.pydata.org/pandas-docs/stable/user_guide/indexing.html#returning-a-view-versus-a-copy\n",
      "  df_1['has_co'] = df_1.apply(lambda x: 1 if x['bpp_cashout_final'] > 0 else 0, axis=1)\n"
     ]
    }
   ],
   "source": [
    "df_1=df[['Price_Range','bpp_cashout_final','ORD_ORDER_ID']]\n",
    "df_1['has_co'] = df_1.apply(lambda x: 1 if x['bpp_cashout_final'] > 0 else 0, axis=1)\n",
    "df_1=df_1[['Price_Range','has_co','ORD_ORDER_ID']]"
   ]
  },
  {
   "cell_type": "code",
   "execution_count": 37,
   "metadata": {},
   "outputs": [
    {
     "data": {
      "text/html": [
       "<div>\n",
       "<style scoped>\n",
       "    .dataframe tbody tr th:only-of-type {\n",
       "        vertical-align: middle;\n",
       "    }\n",
       "\n",
       "    .dataframe tbody tr th {\n",
       "        vertical-align: top;\n",
       "    }\n",
       "\n",
       "    .dataframe thead th {\n",
       "        text-align: right;\n",
       "    }\n",
       "</style>\n",
       "<table border=\"1\" class=\"dataframe\">\n",
       "  <thead>\n",
       "    <tr style=\"text-align: right;\">\n",
       "      <th></th>\n",
       "      <th>Price_Range</th>\n",
       "      <th>has_co</th>\n",
       "      <th>ORD_ORDER_ID</th>\n",
       "      <th>TOTAL</th>\n",
       "      <th>Dis.[%]</th>\n",
       "    </tr>\n",
       "  </thead>\n",
       "  <tbody>\n",
       "    <tr>\n",
       "      <th>0</th>\n",
       "      <td>high_75</td>\n",
       "      <td>0</td>\n",
       "      <td>168674</td>\n",
       "      <td>169616</td>\n",
       "      <td>99.4</td>\n",
       "    </tr>\n",
       "    <tr>\n",
       "      <th>1</th>\n",
       "      <td>high_75</td>\n",
       "      <td>1</td>\n",
       "      <td>942</td>\n",
       "      <td>169616</td>\n",
       "      <td>0.6</td>\n",
       "    </tr>\n",
       "    <tr>\n",
       "      <th>2</th>\n",
       "      <td>low_25</td>\n",
       "      <td>0</td>\n",
       "      <td>147812</td>\n",
       "      <td>148995</td>\n",
       "      <td>99.2</td>\n",
       "    </tr>\n",
       "    <tr>\n",
       "      <th>3</th>\n",
       "      <td>low_25</td>\n",
       "      <td>1</td>\n",
       "      <td>1183</td>\n",
       "      <td>148995</td>\n",
       "      <td>0.8</td>\n",
       "    </tr>\n",
       "    <tr>\n",
       "      <th>4</th>\n",
       "      <td>middle</td>\n",
       "      <td>0</td>\n",
       "      <td>742098</td>\n",
       "      <td>746141</td>\n",
       "      <td>99.5</td>\n",
       "    </tr>\n",
       "    <tr>\n",
       "      <th>5</th>\n",
       "      <td>middle</td>\n",
       "      <td>1</td>\n",
       "      <td>4043</td>\n",
       "      <td>746141</td>\n",
       "      <td>0.5</td>\n",
       "    </tr>\n",
       "  </tbody>\n",
       "</table>\n",
       "</div>"
      ],
      "text/plain": [
       "  Price_Range  has_co  ORD_ORDER_ID   TOTAL  Dis.[%]\n",
       "0     high_75       0        168674  169616     99.4\n",
       "1     high_75       1           942  169616      0.6\n",
       "2      low_25       0        147812  148995     99.2\n",
       "3      low_25       1          1183  148995      0.8\n",
       "4      middle       0        742098  746141     99.5\n",
       "5      middle       1          4043  746141      0.5"
      ]
     },
     "execution_count": 37,
     "metadata": {},
     "output_type": "execute_result"
    }
   ],
   "source": [
    "gb1=df_1.groupby(['Price_Range','has_co']).count()\n",
    "gb1=gb1.reset_index()\n",
    "\n",
    "gb2=gb1[['Price_Range','ORD_ORDER_ID']].groupby(['Price_Range']).sum()\n",
    "gb2=gb2.reset_index()\n",
    "gb2['TOTAL']=gb2['ORD_ORDER_ID']\n",
    "gb2=gb2[['Price_Range','TOTAL']]\n",
    "\n",
    "gb3 = pd.merge(left = gb1, right = gb2,\n",
    "                how = 'inner',\n",
    "                left_on='Price_Range', right_on='Price_Range')\n",
    "\n",
    "gb3['Dis.[%]']=(gb3['ORD_ORDER_ID']/gb3['TOTAL'])*100\n",
    "gb3['Dis.[%]']=gb3['Dis.[%]'].round(decimals=1)\n",
    "\n",
    "gb3"
   ]
  },
  {
   "cell_type": "code",
   "execution_count": 38,
   "metadata": {},
   "outputs": [
    {
     "data": {
      "image/png": "[encoded data removed]",
      "text/plain": [
       "<Figure size 432x288 with 1 Axes>"
      ]
     },
     "metadata": {
      "needs_background": "light"
     },
     "output_type": "display_data"
    }
   ],
   "source": [
    "sns.histplot(\n",
    "            data=df_1,\n",
    "            x=\"Price_Range\",\n",
    "            hue=\"has_co\",\n",
    "            multiple=\"dodge\",\n",
    "            shrink=.8\n",
    "            ).set(title='Precio',ylabel='Orders');"
   ]
  },
  {
   "cell_type": "markdown",
   "metadata": {},
   "source": [
    "## Distribution Has Claim"
   ]
  },
  {
   "cell_type": "code",
   "execution_count": 39,
   "metadata": {},
   "outputs": [],
   "source": [
    "df_1=df[['Price_Range','has_claim_seller','ORD_ORDER_ID']]"
   ]
  },
  {
   "cell_type": "code",
   "execution_count": 40,
   "metadata": {},
   "outputs": [
    {
     "data": {
      "text/html": [
       "<div>\n",
       "<style scoped>\n",
       "    .dataframe tbody tr th:only-of-type {\n",
       "        vertical-align: middle;\n",
       "    }\n",
       "\n",
       "    .dataframe tbody tr th {\n",
       "        vertical-align: top;\n",
       "    }\n",
       "\n",
       "    .dataframe thead th {\n",
       "        text-align: right;\n",
       "    }\n",
       "</style>\n",
       "<table border=\"1\" class=\"dataframe\">\n",
       "  <thead>\n",
       "    <tr style=\"text-align: right;\">\n",
       "      <th></th>\n",
       "      <th>Price_Range</th>\n",
       "      <th>has_claim_seller</th>\n",
       "      <th>ORD_ORDER_ID</th>\n",
       "      <th>TOTAL</th>\n",
       "      <th>Dis.[%]</th>\n",
       "    </tr>\n",
       "  </thead>\n",
       "  <tbody>\n",
       "    <tr>\n",
       "      <th>0</th>\n",
       "      <td>high_75</td>\n",
       "      <td>0</td>\n",
       "      <td>153804</td>\n",
       "      <td>169616</td>\n",
       "      <td>90.7</td>\n",
       "    </tr>\n",
       "    <tr>\n",
       "      <th>1</th>\n",
       "      <td>high_75</td>\n",
       "      <td>1</td>\n",
       "      <td>15812</td>\n",
       "      <td>169616</td>\n",
       "      <td>9.3</td>\n",
       "    </tr>\n",
       "    <tr>\n",
       "      <th>2</th>\n",
       "      <td>low_25</td>\n",
       "      <td>0</td>\n",
       "      <td>132141</td>\n",
       "      <td>148995</td>\n",
       "      <td>88.7</td>\n",
       "    </tr>\n",
       "    <tr>\n",
       "      <th>3</th>\n",
       "      <td>low_25</td>\n",
       "      <td>1</td>\n",
       "      <td>16854</td>\n",
       "      <td>148995</td>\n",
       "      <td>11.3</td>\n",
       "    </tr>\n",
       "    <tr>\n",
       "      <th>4</th>\n",
       "      <td>middle</td>\n",
       "      <td>0</td>\n",
       "      <td>685001</td>\n",
       "      <td>746141</td>\n",
       "      <td>91.8</td>\n",
       "    </tr>\n",
       "    <tr>\n",
       "      <th>5</th>\n",
       "      <td>middle</td>\n",
       "      <td>1</td>\n",
       "      <td>61140</td>\n",
       "      <td>746141</td>\n",
       "      <td>8.2</td>\n",
       "    </tr>\n",
       "  </tbody>\n",
       "</table>\n",
       "</div>"
      ],
      "text/plain": [
       "  Price_Range  has_claim_seller  ORD_ORDER_ID   TOTAL  Dis.[%]\n",
       "0     high_75                 0        153804  169616     90.7\n",
       "1     high_75                 1         15812  169616      9.3\n",
       "2      low_25                 0        132141  148995     88.7\n",
       "3      low_25                 1         16854  148995     11.3\n",
       "4      middle                 0        685001  746141     91.8\n",
       "5      middle                 1         61140  746141      8.2"
      ]
     },
     "execution_count": 40,
     "metadata": {},
     "output_type": "execute_result"
    }
   ],
   "source": [
    "gb1=df_1.groupby(['Price_Range','has_claim_seller']).count()\n",
    "gb1=gb1.reset_index()\n",
    "\n",
    "gb2=gb1[['Price_Range','ORD_ORDER_ID']].groupby(['Price_Range']).sum()\n",
    "gb2=gb2.reset_index()\n",
    "gb2['TOTAL']=gb2['ORD_ORDER_ID']\n",
    "gb2=gb2[['Price_Range','TOTAL']]\n",
    "\n",
    "gb3 = pd.merge(left = gb1, right = gb2,\n",
    "                how = 'inner',\n",
    "                left_on='Price_Range', right_on='Price_Range')\n",
    "\n",
    "gb3['Dis.[%]']=(gb3['ORD_ORDER_ID']/gb3['TOTAL'])*100\n",
    "gb3['Dis.[%]']=gb3['Dis.[%]'].round(decimals=1)\n",
    "\n",
    "gb3"
   ]
  },
  {
   "cell_type": "code",
   "execution_count": 41,
   "metadata": {},
   "outputs": [
    {
     "data": {
      "image/png": "[encoded data removed]",
      "text/plain": [
       "<Figure size 432x288 with 1 Axes>"
      ]
     },
     "metadata": {
      "needs_background": "light"
     },
     "output_type": "display_data"
    }
   ],
   "source": [
    "sns.histplot(\n",
    "            data=df_1,\n",
    "            x=\"Price_Range\",\n",
    "            hue=\"has_claim_seller\",\n",
    "            multiple=\"dodge\",\n",
    "            shrink=.8\n",
    "            ).set(title='Precio',ylabel='Orders');"
   ]
  },
  {
   "cell_type": "markdown",
   "metadata": {},
   "source": [
    "## Distribution is Refund"
   ]
  },
  {
   "cell_type": "code",
   "execution_count": 42,
   "metadata": {},
   "outputs": [],
   "source": [
    "df_1=df[['Price_Range','is_refund','ORD_ORDER_ID']]"
   ]
  },
  {
   "cell_type": "code",
   "execution_count": 43,
   "metadata": {},
   "outputs": [
    {
     "data": {
      "text/html": [
       "<div>\n",
       "<style scoped>\n",
       "    .dataframe tbody tr th:only-of-type {\n",
       "        vertical-align: middle;\n",
       "    }\n",
       "\n",
       "    .dataframe tbody tr th {\n",
       "        vertical-align: top;\n",
       "    }\n",
       "\n",
       "    .dataframe thead th {\n",
       "        text-align: right;\n",
       "    }\n",
       "</style>\n",
       "<table border=\"1\" class=\"dataframe\">\n",
       "  <thead>\n",
       "    <tr style=\"text-align: right;\">\n",
       "      <th></th>\n",
       "      <th>Price_Range</th>\n",
       "      <th>is_refund</th>\n",
       "      <th>ORD_ORDER_ID</th>\n",
       "      <th>TOTAL</th>\n",
       "      <th>Dis.[%]</th>\n",
       "    </tr>\n",
       "  </thead>\n",
       "  <tbody>\n",
       "    <tr>\n",
       "      <th>0</th>\n",
       "      <td>high_75</td>\n",
       "      <td>0.0</td>\n",
       "      <td>153937</td>\n",
       "      <td>169612</td>\n",
       "      <td>90.8</td>\n",
       "    </tr>\n",
       "    <tr>\n",
       "      <th>1</th>\n",
       "      <td>high_75</td>\n",
       "      <td>1.0</td>\n",
       "      <td>15675</td>\n",
       "      <td>169612</td>\n",
       "      <td>9.2</td>\n",
       "    </tr>\n",
       "    <tr>\n",
       "      <th>2</th>\n",
       "      <td>low_25</td>\n",
       "      <td>0.0</td>\n",
       "      <td>131484</td>\n",
       "      <td>148987</td>\n",
       "      <td>88.3</td>\n",
       "    </tr>\n",
       "    <tr>\n",
       "      <th>3</th>\n",
       "      <td>low_25</td>\n",
       "      <td>1.0</td>\n",
       "      <td>17503</td>\n",
       "      <td>148987</td>\n",
       "      <td>11.7</td>\n",
       "    </tr>\n",
       "    <tr>\n",
       "      <th>4</th>\n",
       "      <td>middle</td>\n",
       "      <td>0.0</td>\n",
       "      <td>688331</td>\n",
       "      <td>746136</td>\n",
       "      <td>92.3</td>\n",
       "    </tr>\n",
       "    <tr>\n",
       "      <th>5</th>\n",
       "      <td>middle</td>\n",
       "      <td>1.0</td>\n",
       "      <td>57805</td>\n",
       "      <td>746136</td>\n",
       "      <td>7.7</td>\n",
       "    </tr>\n",
       "  </tbody>\n",
       "</table>\n",
       "</div>"
      ],
      "text/plain": [
       "  Price_Range  is_refund  ORD_ORDER_ID   TOTAL  Dis.[%]\n",
       "0     high_75        0.0        153937  169612     90.8\n",
       "1     high_75        1.0         15675  169612      9.2\n",
       "2      low_25        0.0        131484  148987     88.3\n",
       "3      low_25        1.0         17503  148987     11.7\n",
       "4      middle        0.0        688331  746136     92.3\n",
       "5      middle        1.0         57805  746136      7.7"
      ]
     },
     "execution_count": 43,
     "metadata": {},
     "output_type": "execute_result"
    }
   ],
   "source": [
    "gb1=df_1.groupby(['Price_Range','is_refund']).count()\n",
    "gb1=gb1.reset_index()\n",
    "\n",
    "gb2=gb1[['Price_Range','ORD_ORDER_ID']].groupby(['Price_Range']).sum()\n",
    "gb2=gb2.reset_index()\n",
    "gb2['TOTAL']=gb2['ORD_ORDER_ID']\n",
    "gb2=gb2[['Price_Range','TOTAL']]\n",
    "\n",
    "gb3 = pd.merge(left = gb1, right = gb2,\n",
    "                how = 'inner',\n",
    "                left_on='Price_Range', right_on='Price_Range')\n",
    "\n",
    "gb3['Dis.[%]']=(gb3['ORD_ORDER_ID']/gb3['TOTAL'])*100\n",
    "gb3['Dis.[%]']=gb3['Dis.[%]'].round(decimals=1)\n",
    "\n",
    "gb3"
   ]
  },
  {
   "cell_type": "code",
   "execution_count": 44,
   "metadata": {},
   "outputs": [
    {
     "data": {
      "image/png": "[encoded data removed]",
      "text/plain": [
       "<Figure size 432x288 with 1 Axes>"
      ]
     },
     "metadata": {
      "needs_background": "light"
     },
     "output_type": "display_data"
    }
   ],
   "source": [
    "sns.histplot(\n",
    "            data=df_1,\n",
    "            x=\"Price_Range\",\n",
    "            hue=\"is_refund\",\n",
    "            multiple=\"dodge\",\n",
    "            shrink=.8\n",
    "            ).set(title='Precio',ylabel='Orders');"
   ]
  },
  {
   "cell_type": "markdown",
   "metadata": {},
   "source": [
    "# Base on the STD_Range"
   ]
  },
  {
   "cell_type": "markdown",
   "metadata": {},
   "source": [
    "## Create DF STD"
   ]
  },
  {
   "cell_type": "code",
   "execution_count": 45,
   "metadata": {},
   "outputs": [
    {
     "name": "stderr",
     "output_type": "stream",
     "text": [
      "<ipython-input-45-01a83c4a6b8b>:2: SettingWithCopyWarning: \n",
      "A value is trying to be set on a copy of a slice from a DataFrame.\n",
      "Try using .loc[row_indexer,col_indexer] = value instead\n",
      "\n",
      "See the caveats in the documentation: https://pandas.pydata.org/pandas-docs/stable/user_guide/indexing.html#returning-a-view-versus-a-copy\n",
      "  df_std['STDx1'] = df_des['std']\n",
      "<ipython-input-45-01a83c4a6b8b>:3: SettingWithCopyWarning: \n",
      "A value is trying to be set on a copy of a slice from a DataFrame.\n",
      "Try using .loc[row_indexer,col_indexer] = value instead\n",
      "\n",
      "See the caveats in the documentation: https://pandas.pydata.org/pandas-docs/stable/user_guide/indexing.html#returning-a-view-versus-a-copy\n",
      "  df_std['STDx1.25'] = df_des['std']*1.25\n",
      "<ipython-input-45-01a83c4a6b8b>:4: SettingWithCopyWarning: \n",
      "A value is trying to be set on a copy of a slice from a DataFrame.\n",
      "Try using .loc[row_indexer,col_indexer] = value instead\n",
      "\n",
      "See the caveats in the documentation: https://pandas.pydata.org/pandas-docs/stable/user_guide/indexing.html#returning-a-view-versus-a-copy\n",
      "  df_std['STDx1.5'] = df_des['std']*1.5\n",
      "<ipython-input-45-01a83c4a6b8b>:5: SettingWithCopyWarning: \n",
      "A value is trying to be set on a copy of a slice from a DataFrame.\n",
      "Try using .loc[row_indexer,col_indexer] = value instead\n",
      "\n",
      "See the caveats in the documentation: https://pandas.pydata.org/pandas-docs/stable/user_guide/indexing.html#returning-a-view-versus-a-copy\n",
      "  df_std['STDx1.75'] = df_des['std']*1.75\n",
      "<ipython-input-45-01a83c4a6b8b>:6: SettingWithCopyWarning: \n",
      "A value is trying to be set on a copy of a slice from a DataFrame.\n",
      "Try using .loc[row_indexer,col_indexer] = value instead\n",
      "\n",
      "See the caveats in the documentation: https://pandas.pydata.org/pandas-docs/stable/user_guide/indexing.html#returning-a-view-versus-a-copy\n",
      "  df_std['STDx2'] = df_des['std']*2\n",
      "<ipython-input-45-01a83c4a6b8b>:7: SettingWithCopyWarning: \n",
      "A value is trying to be set on a copy of a slice from a DataFrame.\n",
      "Try using .loc[row_indexer,col_indexer] = value instead\n",
      "\n",
      "See the caveats in the documentation: https://pandas.pydata.org/pandas-docs/stable/user_guide/indexing.html#returning-a-view-versus-a-copy\n",
      "  df_std['STDx2.25'] = df_des['std']*2.25\n"
     ]
    }
   ],
   "source": [
    "df_std = df_des[['CTLG_PROD_ID','mean']]\n",
    "df_std['STDx1'] = df_des['std']\n",
    "df_std['STDx1.25'] = df_des['std']*1.25\n",
    "df_std['STDx1.5'] = df_des['std']*1.5\n",
    "df_std['STDx1.75'] = df_des['std']*1.75\n",
    "df_std['STDx2'] = df_des['std']*2\n",
    "df_std['STDx2.25'] = df_des['std']*2.25\n",
    "df_std['STDx2.5'] = df_des['std']*2.5\n",
    "df_std['STDx2.75'] = df_des['std']*2.75\n",
    "df_std['STDx3'] = df_des['std']*3\n",
    "df_std=df_std.round(decimals=2)"
   ]
  },
  {
   "cell_type": "code",
   "execution_count": 46,
   "metadata": {},
   "outputs": [
    {
     "data": {
      "text/html": [
       "<div>\n",
       "<style scoped>\n",
       "    .dataframe tbody tr th:only-of-type {\n",
       "        vertical-align: middle;\n",
       "    }\n",
       "\n",
       "    .dataframe tbody tr th {\n",
       "        vertical-align: top;\n",
       "    }\n",
       "\n",
       "    .dataframe thead th {\n",
       "        text-align: right;\n",
       "    }\n",
       "</style>\n",
       "<table border=\"1\" class=\"dataframe\">\n",
       "  <thead>\n",
       "    <tr style=\"text-align: right;\">\n",
       "      <th></th>\n",
       "      <th>CTLG_PROD_ID</th>\n",
       "      <th>mean</th>\n",
       "      <th>STDx1</th>\n",
       "      <th>STDx1.25</th>\n",
       "      <th>STDx1.5</th>\n",
       "      <th>STDx1.75</th>\n",
       "      <th>STDx2</th>\n",
       "      <th>STDx2.25</th>\n",
       "      <th>STDx2.5</th>\n",
       "      <th>STDx2.75</th>\n",
       "      <th>STDx3</th>\n",
       "    </tr>\n",
       "  </thead>\n",
       "  <tbody>\n",
       "    <tr>\n",
       "      <th>10359</th>\n",
       "      <td>16141278</td>\n",
       "      <td>343.33</td>\n",
       "      <td>19.91</td>\n",
       "      <td>24.89</td>\n",
       "      <td>29.86</td>\n",
       "      <td>34.84</td>\n",
       "      <td>39.82</td>\n",
       "      <td>44.80</td>\n",
       "      <td>49.77</td>\n",
       "      <td>54.75</td>\n",
       "      <td>59.73</td>\n",
       "    </tr>\n",
       "    <tr>\n",
       "      <th>4874</th>\n",
       "      <td>14141806</td>\n",
       "      <td>26.42</td>\n",
       "      <td>2.89</td>\n",
       "      <td>3.62</td>\n",
       "      <td>4.34</td>\n",
       "      <td>5.06</td>\n",
       "      <td>5.79</td>\n",
       "      <td>6.51</td>\n",
       "      <td>7.23</td>\n",
       "      <td>7.96</td>\n",
       "      <td>8.68</td>\n",
       "    </tr>\n",
       "    <tr>\n",
       "      <th>6457</th>\n",
       "      <td>15246539</td>\n",
       "      <td>36.45</td>\n",
       "      <td>29.76</td>\n",
       "      <td>37.20</td>\n",
       "      <td>44.64</td>\n",
       "      <td>52.08</td>\n",
       "      <td>59.52</td>\n",
       "      <td>66.96</td>\n",
       "      <td>74.40</td>\n",
       "      <td>81.84</td>\n",
       "      <td>89.28</td>\n",
       "    </tr>\n",
       "    <tr>\n",
       "      <th>5272</th>\n",
       "      <td>14663095</td>\n",
       "      <td>82.25</td>\n",
       "      <td>9.69</td>\n",
       "      <td>12.11</td>\n",
       "      <td>14.53</td>\n",
       "      <td>16.95</td>\n",
       "      <td>19.37</td>\n",
       "      <td>21.79</td>\n",
       "      <td>24.22</td>\n",
       "      <td>26.64</td>\n",
       "      <td>29.06</td>\n",
       "    </tr>\n",
       "    <tr>\n",
       "      <th>5210</th>\n",
       "      <td>14643330</td>\n",
       "      <td>152.29</td>\n",
       "      <td>0.00</td>\n",
       "      <td>0.00</td>\n",
       "      <td>0.00</td>\n",
       "      <td>0.00</td>\n",
       "      <td>0.00</td>\n",
       "      <td>0.00</td>\n",
       "      <td>0.00</td>\n",
       "      <td>0.00</td>\n",
       "      <td>0.00</td>\n",
       "    </tr>\n",
       "  </tbody>\n",
       "</table>\n",
       "</div>"
      ],
      "text/plain": [
       "       CTLG_PROD_ID    mean  STDx1  STDx1.25  STDx1.5  STDx1.75  STDx2  \\\n",
       "10359      16141278  343.33  19.91     24.89    29.86     34.84  39.82   \n",
       "4874       14141806   26.42   2.89      3.62     4.34      5.06   5.79   \n",
       "6457       15246539   36.45  29.76     37.20    44.64     52.08  59.52   \n",
       "5272       14663095   82.25   9.69     12.11    14.53     16.95  19.37   \n",
       "5210       14643330  152.29   0.00      0.00     0.00      0.00   0.00   \n",
       "\n",
       "       STDx2.25  STDx2.5  STDx2.75  STDx3  \n",
       "10359     44.80    49.77     54.75  59.73  \n",
       "4874       6.51     7.23      7.96   8.68  \n",
       "6457      66.96    74.40     81.84  89.28  \n",
       "5272      21.79    24.22     26.64  29.06  \n",
       "5210       0.00     0.00      0.00   0.00  "
      ]
     },
     "execution_count": 46,
     "metadata": {},
     "output_type": "execute_result"
    }
   ],
   "source": [
    "df_std.sample(5)"
   ]
  },
  {
   "cell_type": "code",
   "execution_count": 47,
   "metadata": {},
   "outputs": [
    {
     "data": {
      "text/plain": [
       "Index(['CTLG_PROD_ID', 'count', 'mean', 'std', 'min', '25%', '50%', '75%',\n",
       "       'max', 'ORD_ORDER_ID', 'CUS_CUST_ID_SEL', 'ITE_ITEM_ID',\n",
       "       'ITE_BASE_CURRENT_PRICE', 'active_item', 'flag_bad_item',\n",
       "       'flag_bad_user', 'order_trusted', 'is_buybox', 'has_bpp',\n",
       "       'has_claim_seller', 'is_refund', 'bpp_cashout_final', 'bad_order',\n",
       "       'Low25_Price', 'Middle_Price', 'High75_Price', 'Price_Range'],\n",
       "      dtype='object')"
      ]
     },
     "execution_count": 47,
     "metadata": {},
     "output_type": "execute_result"
    }
   ],
   "source": [
    "df.columns"
   ]
  },
  {
   "cell_type": "code",
   "execution_count": 48,
   "metadata": {},
   "outputs": [
    {
     "data": {
      "text/html": [
       "<div>\n",
       "<style scoped>\n",
       "    .dataframe tbody tr th:only-of-type {\n",
       "        vertical-align: middle;\n",
       "    }\n",
       "\n",
       "    .dataframe tbody tr th {\n",
       "        vertical-align: top;\n",
       "    }\n",
       "\n",
       "    .dataframe thead th {\n",
       "        text-align: right;\n",
       "    }\n",
       "</style>\n",
       "<table border=\"1\" class=\"dataframe\">\n",
       "  <thead>\n",
       "    <tr style=\"text-align: right;\">\n",
       "      <th></th>\n",
       "      <th>CTLG_PROD_ID</th>\n",
       "      <th>count</th>\n",
       "      <th>mean</th>\n",
       "      <th>std</th>\n",
       "      <th>min</th>\n",
       "      <th>25%</th>\n",
       "      <th>50%</th>\n",
       "      <th>75%</th>\n",
       "      <th>max</th>\n",
       "      <th>ORD_ORDER_ID</th>\n",
       "      <th>...</th>\n",
       "      <th>is_buybox</th>\n",
       "      <th>has_bpp</th>\n",
       "      <th>has_claim_seller</th>\n",
       "      <th>is_refund</th>\n",
       "      <th>bpp_cashout_final</th>\n",
       "      <th>bad_order</th>\n",
       "      <th>Low25_Price</th>\n",
       "      <th>Middle_Price</th>\n",
       "      <th>High75_Price</th>\n",
       "      <th>Price_Range</th>\n",
       "    </tr>\n",
       "  </thead>\n",
       "  <tbody>\n",
       "    <tr>\n",
       "      <th>0</th>\n",
       "      <td>633</td>\n",
       "      <td>5.0</td>\n",
       "      <td>41.338</td>\n",
       "      <td>4.864187</td>\n",
       "      <td>37.5</td>\n",
       "      <td>37.5</td>\n",
       "      <td>38.86</td>\n",
       "      <td>44.48</td>\n",
       "      <td>48.35</td>\n",
       "      <td>4657437874</td>\n",
       "      <td>...</td>\n",
       "      <td>0</td>\n",
       "      <td>1</td>\n",
       "      <td>1</td>\n",
       "      <td>1.0</td>\n",
       "      <td>0.0</td>\n",
       "      <td>1</td>\n",
       "      <td>0</td>\n",
       "      <td>0</td>\n",
       "      <td>1</td>\n",
       "      <td>high_75</td>\n",
       "    </tr>\n",
       "    <tr>\n",
       "      <th>1</th>\n",
       "      <td>633</td>\n",
       "      <td>5.0</td>\n",
       "      <td>41.338</td>\n",
       "      <td>4.864187</td>\n",
       "      <td>37.5</td>\n",
       "      <td>37.5</td>\n",
       "      <td>38.86</td>\n",
       "      <td>44.48</td>\n",
       "      <td>48.35</td>\n",
       "      <td>4663135807</td>\n",
       "      <td>...</td>\n",
       "      <td>0</td>\n",
       "      <td>0</td>\n",
       "      <td>0</td>\n",
       "      <td>0.0</td>\n",
       "      <td>0.0</td>\n",
       "      <td>0</td>\n",
       "      <td>0</td>\n",
       "      <td>1</td>\n",
       "      <td>0</td>\n",
       "      <td>middle</td>\n",
       "    </tr>\n",
       "    <tr>\n",
       "      <th>2</th>\n",
       "      <td>633</td>\n",
       "      <td>5.0</td>\n",
       "      <td>41.338</td>\n",
       "      <td>4.864187</td>\n",
       "      <td>37.5</td>\n",
       "      <td>37.5</td>\n",
       "      <td>38.86</td>\n",
       "      <td>44.48</td>\n",
       "      <td>48.35</td>\n",
       "      <td>4613961317</td>\n",
       "      <td>...</td>\n",
       "      <td>1</td>\n",
       "      <td>0</td>\n",
       "      <td>0</td>\n",
       "      <td>0.0</td>\n",
       "      <td>0.0</td>\n",
       "      <td>0</td>\n",
       "      <td>0</td>\n",
       "      <td>1</td>\n",
       "      <td>0</td>\n",
       "      <td>middle</td>\n",
       "    </tr>\n",
       "    <tr>\n",
       "      <th>3</th>\n",
       "      <td>633</td>\n",
       "      <td>5.0</td>\n",
       "      <td>41.338</td>\n",
       "      <td>4.864187</td>\n",
       "      <td>37.5</td>\n",
       "      <td>37.5</td>\n",
       "      <td>38.86</td>\n",
       "      <td>44.48</td>\n",
       "      <td>48.35</td>\n",
       "      <td>4623483089</td>\n",
       "      <td>...</td>\n",
       "      <td>1</td>\n",
       "      <td>1</td>\n",
       "      <td>0</td>\n",
       "      <td>1.0</td>\n",
       "      <td>0.0</td>\n",
       "      <td>1</td>\n",
       "      <td>0</td>\n",
       "      <td>1</td>\n",
       "      <td>0</td>\n",
       "      <td>middle</td>\n",
       "    </tr>\n",
       "    <tr>\n",
       "      <th>4</th>\n",
       "      <td>633</td>\n",
       "      <td>5.0</td>\n",
       "      <td>41.338</td>\n",
       "      <td>4.864187</td>\n",
       "      <td>37.5</td>\n",
       "      <td>37.5</td>\n",
       "      <td>38.86</td>\n",
       "      <td>44.48</td>\n",
       "      <td>48.35</td>\n",
       "      <td>4672212277</td>\n",
       "      <td>...</td>\n",
       "      <td>0</td>\n",
       "      <td>0</td>\n",
       "      <td>0</td>\n",
       "      <td>0.0</td>\n",
       "      <td>0.0</td>\n",
       "      <td>0</td>\n",
       "      <td>0</td>\n",
       "      <td>1</td>\n",
       "      <td>0</td>\n",
       "      <td>middle</td>\n",
       "    </tr>\n",
       "  </tbody>\n",
       "</table>\n",
       "<p>5 rows × 27 columns</p>\n",
       "</div>"
      ],
      "text/plain": [
       "   CTLG_PROD_ID  count    mean       std   min   25%    50%    75%    max  \\\n",
       "0           633    5.0  41.338  4.864187  37.5  37.5  38.86  44.48  48.35   \n",
       "1           633    5.0  41.338  4.864187  37.5  37.5  38.86  44.48  48.35   \n",
       "2           633    5.0  41.338  4.864187  37.5  37.5  38.86  44.48  48.35   \n",
       "3           633    5.0  41.338  4.864187  37.5  37.5  38.86  44.48  48.35   \n",
       "4           633    5.0  41.338  4.864187  37.5  37.5  38.86  44.48  48.35   \n",
       "\n",
       "   ORD_ORDER_ID  ...  is_buybox  has_bpp  has_claim_seller  is_refund  \\\n",
       "0    4657437874  ...          0        1                 1        1.0   \n",
       "1    4663135807  ...          0        0                 0        0.0   \n",
       "2    4613961317  ...          1        0                 0        0.0   \n",
       "3    4623483089  ...          1        1                 0        1.0   \n",
       "4    4672212277  ...          0        0                 0        0.0   \n",
       "\n",
       "   bpp_cashout_final  bad_order  Low25_Price  Middle_Price  High75_Price  \\\n",
       "0                0.0          1            0             0             1   \n",
       "1                0.0          0            0             1             0   \n",
       "2                0.0          0            0             1             0   \n",
       "3                0.0          1            0             1             0   \n",
       "4                0.0          0            0             1             0   \n",
       "\n",
       "   Price_Range  \n",
       "0      high_75  \n",
       "1       middle  \n",
       "2       middle  \n",
       "3       middle  \n",
       "4       middle  \n",
       "\n",
       "[5 rows x 27 columns]"
      ]
     },
     "execution_count": 48,
     "metadata": {},
     "output_type": "execute_result"
    }
   ],
   "source": [
    "df.head(5)"
   ]
  },
  {
   "cell_type": "markdown",
   "metadata": {},
   "source": [
    "## Join the DF STD with the rest of the info"
   ]
  },
  {
   "cell_type": "code",
   "execution_count": 49,
   "metadata": {},
   "outputs": [],
   "source": [
    "df_red = df.drop(columns=['count','mean','std','min','25%','50%','75%','max','Low25_Price','Middle_Price','High75_Price','Price_Range'])\n",
    "\n",
    "df_s = pd.merge(left = df_red, right = df_std,\n",
    "                how = 'inner',\n",
    "                left_on='CTLG_PROD_ID', right_on='CTLG_PROD_ID')"
   ]
  },
  {
   "cell_type": "code",
   "execution_count": 50,
   "metadata": {},
   "outputs": [
    {
     "data": {
      "text/html": [
       "<div>\n",
       "<style scoped>\n",
       "    .dataframe tbody tr th:only-of-type {\n",
       "        vertical-align: middle;\n",
       "    }\n",
       "\n",
       "    .dataframe tbody tr th {\n",
       "        vertical-align: top;\n",
       "    }\n",
       "\n",
       "    .dataframe thead th {\n",
       "        text-align: right;\n",
       "    }\n",
       "</style>\n",
       "<table border=\"1\" class=\"dataframe\">\n",
       "  <thead>\n",
       "    <tr style=\"text-align: right;\">\n",
       "      <th></th>\n",
       "      <th>CTLG_PROD_ID</th>\n",
       "      <th>ORD_ORDER_ID</th>\n",
       "      <th>CUS_CUST_ID_SEL</th>\n",
       "      <th>ITE_ITEM_ID</th>\n",
       "      <th>ITE_BASE_CURRENT_PRICE</th>\n",
       "      <th>active_item</th>\n",
       "      <th>flag_bad_item</th>\n",
       "      <th>flag_bad_user</th>\n",
       "      <th>order_trusted</th>\n",
       "      <th>is_buybox</th>\n",
       "      <th>...</th>\n",
       "      <th>mean</th>\n",
       "      <th>STDx1</th>\n",
       "      <th>STDx1.25</th>\n",
       "      <th>STDx1.5</th>\n",
       "      <th>STDx1.75</th>\n",
       "      <th>STDx2</th>\n",
       "      <th>STDx2.25</th>\n",
       "      <th>STDx2.5</th>\n",
       "      <th>STDx2.75</th>\n",
       "      <th>STDx3</th>\n",
       "    </tr>\n",
       "  </thead>\n",
       "  <tbody>\n",
       "    <tr>\n",
       "      <th>307481</th>\n",
       "      <td>13426506</td>\n",
       "      <td>4611251808</td>\n",
       "      <td>198962424</td>\n",
       "      <td>1743957653</td>\n",
       "      <td>119.14</td>\n",
       "      <td>1</td>\n",
       "      <td>0</td>\n",
       "      <td>0</td>\n",
       "      <td>1</td>\n",
       "      <td>0</td>\n",
       "      <td>...</td>\n",
       "      <td>69.69</td>\n",
       "      <td>29.21</td>\n",
       "      <td>36.51</td>\n",
       "      <td>43.82</td>\n",
       "      <td>51.12</td>\n",
       "      <td>58.42</td>\n",
       "      <td>65.72</td>\n",
       "      <td>73.03</td>\n",
       "      <td>80.33</td>\n",
       "      <td>87.63</td>\n",
       "    </tr>\n",
       "    <tr>\n",
       "      <th>447699</th>\n",
       "      <td>15227153</td>\n",
       "      <td>4656029570</td>\n",
       "      <td>451653248</td>\n",
       "      <td>1556276804</td>\n",
       "      <td>17.69</td>\n",
       "      <td>1</td>\n",
       "      <td>0</td>\n",
       "      <td>0</td>\n",
       "      <td>1</td>\n",
       "      <td>1</td>\n",
       "      <td>...</td>\n",
       "      <td>12.64</td>\n",
       "      <td>2.63</td>\n",
       "      <td>3.28</td>\n",
       "      <td>3.94</td>\n",
       "      <td>4.60</td>\n",
       "      <td>5.25</td>\n",
       "      <td>5.91</td>\n",
       "      <td>6.57</td>\n",
       "      <td>7.23</td>\n",
       "      <td>7.88</td>\n",
       "    </tr>\n",
       "    <tr>\n",
       "      <th>193873</th>\n",
       "      <td>8859356</td>\n",
       "      <td>4610447334</td>\n",
       "      <td>446656163</td>\n",
       "      <td>1734282146</td>\n",
       "      <td>14.35</td>\n",
       "      <td>0</td>\n",
       "      <td>0</td>\n",
       "      <td>0</td>\n",
       "      <td>1</td>\n",
       "      <td>1</td>\n",
       "      <td>...</td>\n",
       "      <td>10.67</td>\n",
       "      <td>7.54</td>\n",
       "      <td>9.43</td>\n",
       "      <td>11.31</td>\n",
       "      <td>13.20</td>\n",
       "      <td>15.08</td>\n",
       "      <td>16.97</td>\n",
       "      <td>18.85</td>\n",
       "      <td>20.74</td>\n",
       "      <td>22.62</td>\n",
       "    </tr>\n",
       "    <tr>\n",
       "      <th>146109</th>\n",
       "      <td>6573135</td>\n",
       "      <td>4652703158</td>\n",
       "      <td>75459468</td>\n",
       "      <td>1662753726</td>\n",
       "      <td>73.76</td>\n",
       "      <td>0</td>\n",
       "      <td>0</td>\n",
       "      <td>0</td>\n",
       "      <td>1</td>\n",
       "      <td>0</td>\n",
       "      <td>...</td>\n",
       "      <td>73.76</td>\n",
       "      <td>0.00</td>\n",
       "      <td>0.00</td>\n",
       "      <td>0.00</td>\n",
       "      <td>0.00</td>\n",
       "      <td>0.00</td>\n",
       "      <td>0.00</td>\n",
       "      <td>0.00</td>\n",
       "      <td>0.00</td>\n",
       "      <td>0.00</td>\n",
       "    </tr>\n",
       "    <tr>\n",
       "      <th>709458</th>\n",
       "      <td>15927744</td>\n",
       "      <td>4624321360</td>\n",
       "      <td>81686151</td>\n",
       "      <td>1739159657</td>\n",
       "      <td>137.64</td>\n",
       "      <td>0</td>\n",
       "      <td>0</td>\n",
       "      <td>0</td>\n",
       "      <td>1</td>\n",
       "      <td>0</td>\n",
       "      <td>...</td>\n",
       "      <td>152.13</td>\n",
       "      <td>82.89</td>\n",
       "      <td>103.61</td>\n",
       "      <td>124.34</td>\n",
       "      <td>145.06</td>\n",
       "      <td>165.78</td>\n",
       "      <td>186.51</td>\n",
       "      <td>207.23</td>\n",
       "      <td>227.95</td>\n",
       "      <td>248.68</td>\n",
       "    </tr>\n",
       "  </tbody>\n",
       "</table>\n",
       "<p>5 rows × 25 columns</p>\n",
       "</div>"
      ],
      "text/plain": [
       "        CTLG_PROD_ID  ORD_ORDER_ID  CUS_CUST_ID_SEL  ITE_ITEM_ID  \\\n",
       "307481      13426506    4611251808        198962424   1743957653   \n",
       "447699      15227153    4656029570        451653248   1556276804   \n",
       "193873       8859356    4610447334        446656163   1734282146   \n",
       "146109       6573135    4652703158         75459468   1662753726   \n",
       "709458      15927744    4624321360         81686151   1739159657   \n",
       "\n",
       "        ITE_BASE_CURRENT_PRICE  active_item  flag_bad_item  flag_bad_user  \\\n",
       "307481                  119.14            1              0              0   \n",
       "447699                   17.69            1              0              0   \n",
       "193873                   14.35            0              0              0   \n",
       "146109                   73.76            0              0              0   \n",
       "709458                  137.64            0              0              0   \n",
       "\n",
       "        order_trusted  is_buybox  ...    mean  STDx1  STDx1.25  STDx1.5  \\\n",
       "307481              1          0  ...   69.69  29.21     36.51    43.82   \n",
       "447699              1          1  ...   12.64   2.63      3.28     3.94   \n",
       "193873              1          1  ...   10.67   7.54      9.43    11.31   \n",
       "146109              1          0  ...   73.76   0.00      0.00     0.00   \n",
       "709458              1          0  ...  152.13  82.89    103.61   124.34   \n",
       "\n",
       "        STDx1.75   STDx2  STDx2.25  STDx2.5  STDx2.75   STDx3  \n",
       "307481     51.12   58.42     65.72    73.03     80.33   87.63  \n",
       "447699      4.60    5.25      5.91     6.57      7.23    7.88  \n",
       "193873     13.20   15.08     16.97    18.85     20.74   22.62  \n",
       "146109      0.00    0.00      0.00     0.00      0.00    0.00  \n",
       "709458    145.06  165.78    186.51   207.23    227.95  248.68  \n",
       "\n",
       "[5 rows x 25 columns]"
      ]
     },
     "execution_count": 50,
     "metadata": {},
     "output_type": "execute_result"
    }
   ],
   "source": [
    "df_s.sample(5)"
   ]
  },
  {
   "cell_type": "code",
   "execution_count": 51,
   "metadata": {},
   "outputs": [
    {
     "data": {
      "text/plain": [
       "Index(['CTLG_PROD_ID', 'ORD_ORDER_ID', 'CUS_CUST_ID_SEL', 'ITE_ITEM_ID',\n",
       "       'ITE_BASE_CURRENT_PRICE', 'active_item', 'flag_bad_item',\n",
       "       'flag_bad_user', 'order_trusted', 'is_buybox', 'has_bpp',\n",
       "       'has_claim_seller', 'is_refund', 'bpp_cashout_final', 'bad_order',\n",
       "       'mean', 'STDx1', 'STDx1.25', 'STDx1.5', 'STDx1.75', 'STDx2', 'STDx2.25',\n",
       "       'STDx2.5', 'STDx2.75', 'STDx3'],\n",
       "      dtype='object')"
      ]
     },
     "execution_count": 51,
     "metadata": {},
     "output_type": "execute_result"
    }
   ],
   "source": [
    "df_s.columns"
   ]
  },
  {
   "cell_type": "markdown",
   "metadata": {},
   "source": [
    "## Create column flag below STD"
   ]
  },
  {
   "cell_type": "code",
   "execution_count": 52,
   "metadata": {},
   "outputs": [],
   "source": [
    "df_s['media-1std'] = df_s['mean'] - df_s['STDx1']\n",
    "df_s['media-1.25std'] = df_s['mean'] - df_s['STDx1.25']\n",
    "df_s['media-1.5std'] = df_s['mean'] - df_s['STDx1.5']\n",
    "df_s['media-1.75std'] = df_s['mean'] - df_s['STDx1.75']\n",
    "df_s['media-2std'] = df_s['mean'] - df_s['STDx2']\n",
    "df_s['media-2.25std'] = df_s['mean'] - df_s['STDx2.25']\n",
    "df_s['media-2.5std'] = df_s['mean'] - df_s['STDx2.5']\n",
    "df_s['media-2.75std'] = df_s['mean'] - df_s['STDx2.75']\n",
    "df_s['media-3std'] = df_s['mean'] - df_s['STDx3']"
   ]
  },
  {
   "cell_type": "code",
   "execution_count": 53,
   "metadata": {},
   "outputs": [],
   "source": [
    "df_s['Low_1STD'] = df_s.apply(lambda x: 1 if x['media-1std'] > x['ITE_BASE_CURRENT_PRICE'] else 0, axis=1)\n",
    "df_s['Low_1.25STD'] = df_s.apply(lambda x: 1 if x['media-1.25std'] > x['ITE_BASE_CURRENT_PRICE'] else 0, axis=1)\n",
    "df_s['Low_1.5STD'] = df_s.apply(lambda x: 1 if x['media-1.5std'] > x['ITE_BASE_CURRENT_PRICE'] else 0, axis=1)\n",
    "df_s['Low_1.75STD'] = df_s.apply(lambda x: 1 if x['media-1.75std'] > x['ITE_BASE_CURRENT_PRICE'] else 0, axis=1)\n",
    "df_s['Low_2STD'] = df_s.apply(lambda x: 1 if x['media-2std'] > x['ITE_BASE_CURRENT_PRICE'] else 0, axis=1)\n",
    "df_s['Low_2.25STD'] = df_s.apply(lambda x: 1 if x['media-2.25std'] > x['ITE_BASE_CURRENT_PRICE'] else 0, axis=1)\n",
    "df_s['Low_2.5STD'] = df_s.apply(lambda x: 1 if x['media-2.5std'] > x['ITE_BASE_CURRENT_PRICE'] else 0, axis=1)\n",
    "df_s['Low_2.75STD'] = df_s.apply(lambda x: 1 if x['media-2.75std'] > x['ITE_BASE_CURRENT_PRICE'] else 0, axis=1)\n",
    "df_s['Low_3STD'] = df_s.apply(lambda x: 1 if x['media-3std'] > x['ITE_BASE_CURRENT_PRICE'] else 0, axis=1)"
   ]
  },
  {
   "cell_type": "markdown",
   "metadata": {},
   "source": [
    "## Create column flag over STD"
   ]
  },
  {
   "cell_type": "code",
   "execution_count": 54,
   "metadata": {},
   "outputs": [],
   "source": [
    "df_s['media+1std'] = df_s['mean'] + df_s['STDx1']\n",
    "df_s['media+1.25std'] = df_s['mean'] + df_s['STDx1.25']\n",
    "df_s['media+1.5std'] = df_s['mean'] + df_s['STDx1.5']\n",
    "df_s['media+1.75std'] = df_s['mean'] + df_s['STDx1.75']\n",
    "df_s['media+2std'] = df_s['mean'] + df_s['STDx2']\n",
    "df_s['media+2.25std'] = df_s['mean'] + df_s['STDx2.25']\n",
    "df_s['media+2.5std'] = df_s['mean'] + df_s['STDx2.5']\n",
    "df_s['media+2.75std'] = df_s['mean'] + df_s['STDx2.75']\n",
    "df_s['media+3std'] = df_s['mean'] + df_s['STDx3']"
   ]
  },
  {
   "cell_type": "code",
   "execution_count": 55,
   "metadata": {},
   "outputs": [],
   "source": [
    "df_s['High_1STD'] = df_s.apply(lambda x: 1 if x['media+1std'] < x['ITE_BASE_CURRENT_PRICE'] else 0, axis=1)\n",
    "df_s['High_1.25STD'] = df_s.apply(lambda x: 1 if x['media+1.25std'] < x['ITE_BASE_CURRENT_PRICE'] else 0, axis=1)\n",
    "df_s['High_1.5STD'] = df_s.apply(lambda x: 1 if x['media+1.5std'] < x['ITE_BASE_CURRENT_PRICE'] else 0, axis=1)\n",
    "df_s['High_1.75STD'] = df_s.apply(lambda x: 1 if x['media+1.75std'] < x['ITE_BASE_CURRENT_PRICE'] else 0, axis=1)\n",
    "df_s['High_2STD'] = df_s.apply(lambda x: 1 if x['media+2std'] < x['ITE_BASE_CURRENT_PRICE'] else 0, axis=1)\n",
    "df_s['High_2.25STD'] = df_s.apply(lambda x: 1 if x['media+2.25std'] < x['ITE_BASE_CURRENT_PRICE'] else 0, axis=1)\n",
    "df_s['High_2.5STD'] = df_s.apply(lambda x: 1 if x['media+2.5std'] < x['ITE_BASE_CURRENT_PRICE'] else 0, axis=1)\n",
    "df_s['High_2.75STD'] = df_s.apply(lambda x: 1 if x['media+2.75std'] < x['ITE_BASE_CURRENT_PRICE'] else 0, axis=1)\n",
    "df_s['High_3STD'] = df_s.apply(lambda x: 1 if x['media+3std'] < x['ITE_BASE_CURRENT_PRICE'] else 0, axis=1)"
   ]
  },
  {
   "cell_type": "markdown",
   "metadata": {},
   "source": [
    "## Create column flag STD_range"
   ]
  },
  {
   "cell_type": "code",
   "execution_count": 56,
   "metadata": {},
   "outputs": [],
   "source": [
    "df_s['1STD_Range'] = df_s.apply(lambda x:'low_STD' if x['Low_1STD']== 1 else('high_STD' if  x['High_1STD']==1  else 'middle_STD'),axis=1)\n",
    "df_s['1.25STD_Range'] = df_s.apply(lambda x:'low_STD' if x['Low_1.25STD']== 1 else('high_STD' if  x['High_1.25STD']==1  else 'middle_STD'),axis=1)\n",
    "df_s['1.5STD_Range'] = df_s.apply(lambda x:'low_STD' if x['Low_1.5STD']== 1 else('high_STD' if  x['High_1.5STD']==1  else 'middle_STD'),axis=1)\n",
    "df_s['1.75STD_Range'] = df_s.apply(lambda x:'low_STD' if x['Low_1.75STD']== 1 else('high_STD' if  x['High_1.75STD']==1  else 'middle_STD'),axis=1)\n",
    "df_s['2STD_Range'] = df_s.apply(lambda x:'low_STD' if x['Low_2STD']== 1 else('high_STD' if  x['High_2STD']==1  else 'middle_STD'),axis=1)\n",
    "df_s['2.25STD_Range'] = df_s.apply(lambda x:'low_STD' if x['Low_2.25STD']== 1 else('high_STD' if  x['High_2.25STD']==1  else 'middle_STD'),axis=1)\n",
    "df_s['2.5STD_Range'] = df_s.apply(lambda x:'low_STD' if x['Low_2.5STD']== 1 else('high_STD' if  x['High_2.5STD']==1  else 'middle_STD'),axis=1)\n",
    "df_s['2.75STD_Range'] = df_s.apply(lambda x:'low_STD' if x['Low_2.75STD']== 1 else('high_STD' if  x['High_2.75STD']==1  else 'middle_STD'),axis=1)\n",
    "df_s['3STD_Range'] = df_s.apply(lambda x:'low_STD' if x['Low_3STD']== 1 else('high_STD' if  x['High_3STD']==1  else 'middle_STD'),axis=1)\n"
   ]
  },
  {
   "cell_type": "code",
   "execution_count": 57,
   "metadata": {},
   "outputs": [
    {
     "data": {
      "text/plain": [
       "Index(['CTLG_PROD_ID', 'ORD_ORDER_ID', 'CUS_CUST_ID_SEL', 'ITE_ITEM_ID',\n",
       "       'ITE_BASE_CURRENT_PRICE', 'active_item', 'flag_bad_item',\n",
       "       'flag_bad_user', 'order_trusted', 'is_buybox', 'has_bpp',\n",
       "       'has_claim_seller', 'is_refund', 'bpp_cashout_final', 'bad_order',\n",
       "       'mean', 'STDx1', 'STDx1.25', 'STDx1.5', 'STDx1.75', 'STDx2', 'STDx2.25',\n",
       "       'STDx2.5', 'STDx2.75', 'STDx3', 'media-1std', 'media-1.25std',\n",
       "       'media-1.5std', 'media-1.75std', 'media-2std', 'media-2.25std',\n",
       "       'media-2.5std', 'media-2.75std', 'media-3std', 'Low_1STD',\n",
       "       'Low_1.25STD', 'Low_1.5STD', 'Low_1.75STD', 'Low_2STD', 'Low_2.25STD',\n",
       "       'Low_2.5STD', 'Low_2.75STD', 'Low_3STD', 'media+1std', 'media+1.25std',\n",
       "       'media+1.5std', 'media+1.75std', 'media+2std', 'media+2.25std',\n",
       "       'media+2.5std', 'media+2.75std', 'media+3std', 'High_1STD',\n",
       "       'High_1.25STD', 'High_1.5STD', 'High_1.75STD', 'High_2STD',\n",
       "       'High_2.25STD', 'High_2.5STD', 'High_2.75STD', 'High_3STD',\n",
       "       '1STD_Range', '1.25STD_Range', '1.5STD_Range', '1.75STD_Range',\n",
       "       '2STD_Range', '2.25STD_Range', '2.5STD_Range', '2.75STD_Range',\n",
       "       '3STD_Range'],\n",
       "      dtype='object')"
      ]
     },
     "execution_count": 57,
     "metadata": {},
     "output_type": "execute_result"
    }
   ],
   "source": [
    "df_s.columns"
   ]
  },
  {
   "cell_type": "code",
   "execution_count": 58,
   "metadata": {},
   "outputs": [
    {
     "data": {
      "text/html": [
       "<div>\n",
       "<style scoped>\n",
       "    .dataframe tbody tr th:only-of-type {\n",
       "        vertical-align: middle;\n",
       "    }\n",
       "\n",
       "    .dataframe tbody tr th {\n",
       "        vertical-align: top;\n",
       "    }\n",
       "\n",
       "    .dataframe thead th {\n",
       "        text-align: right;\n",
       "    }\n",
       "</style>\n",
       "<table border=\"1\" class=\"dataframe\">\n",
       "  <thead>\n",
       "    <tr style=\"text-align: right;\">\n",
       "      <th></th>\n",
       "      <th>CTLG_PROD_ID</th>\n",
       "      <th>ORD_ORDER_ID</th>\n",
       "      <th>CUS_CUST_ID_SEL</th>\n",
       "      <th>ITE_ITEM_ID</th>\n",
       "      <th>ITE_BASE_CURRENT_PRICE</th>\n",
       "      <th>active_item</th>\n",
       "      <th>flag_bad_item</th>\n",
       "      <th>flag_bad_user</th>\n",
       "      <th>order_trusted</th>\n",
       "      <th>is_buybox</th>\n",
       "      <th>...</th>\n",
       "      <th>High_3STD</th>\n",
       "      <th>1STD_Range</th>\n",
       "      <th>1.25STD_Range</th>\n",
       "      <th>1.5STD_Range</th>\n",
       "      <th>1.75STD_Range</th>\n",
       "      <th>2STD_Range</th>\n",
       "      <th>2.25STD_Range</th>\n",
       "      <th>2.5STD_Range</th>\n",
       "      <th>2.75STD_Range</th>\n",
       "      <th>3STD_Range</th>\n",
       "    </tr>\n",
       "  </thead>\n",
       "  <tbody>\n",
       "    <tr>\n",
       "      <th>734947</th>\n",
       "      <td>15949977</td>\n",
       "      <td>4651905721</td>\n",
       "      <td>167016957</td>\n",
       "      <td>1886245205</td>\n",
       "      <td>167.96</td>\n",
       "      <td>0</td>\n",
       "      <td>0</td>\n",
       "      <td>0</td>\n",
       "      <td>1</td>\n",
       "      <td>1</td>\n",
       "      <td>...</td>\n",
       "      <td>0</td>\n",
       "      <td>middle_STD</td>\n",
       "      <td>middle_STD</td>\n",
       "      <td>middle_STD</td>\n",
       "      <td>middle_STD</td>\n",
       "      <td>middle_STD</td>\n",
       "      <td>middle_STD</td>\n",
       "      <td>middle_STD</td>\n",
       "      <td>middle_STD</td>\n",
       "      <td>middle_STD</td>\n",
       "    </tr>\n",
       "    <tr>\n",
       "      <th>262322</th>\n",
       "      <td>10818833</td>\n",
       "      <td>4612488702</td>\n",
       "      <td>176184192</td>\n",
       "      <td>1431933901</td>\n",
       "      <td>35.45</td>\n",
       "      <td>1</td>\n",
       "      <td>0</td>\n",
       "      <td>0</td>\n",
       "      <td>1</td>\n",
       "      <td>1</td>\n",
       "      <td>...</td>\n",
       "      <td>0</td>\n",
       "      <td>middle_STD</td>\n",
       "      <td>middle_STD</td>\n",
       "      <td>middle_STD</td>\n",
       "      <td>middle_STD</td>\n",
       "      <td>middle_STD</td>\n",
       "      <td>middle_STD</td>\n",
       "      <td>middle_STD</td>\n",
       "      <td>middle_STD</td>\n",
       "      <td>middle_STD</td>\n",
       "    </tr>\n",
       "    <tr>\n",
       "      <th>415965</th>\n",
       "      <td>15136753</td>\n",
       "      <td>4655980507</td>\n",
       "      <td>124533988</td>\n",
       "      <td>1058139730</td>\n",
       "      <td>9.32</td>\n",
       "      <td>1</td>\n",
       "      <td>0</td>\n",
       "      <td>0</td>\n",
       "      <td>1</td>\n",
       "      <td>0</td>\n",
       "      <td>...</td>\n",
       "      <td>0</td>\n",
       "      <td>middle_STD</td>\n",
       "      <td>middle_STD</td>\n",
       "      <td>middle_STD</td>\n",
       "      <td>middle_STD</td>\n",
       "      <td>middle_STD</td>\n",
       "      <td>middle_STD</td>\n",
       "      <td>middle_STD</td>\n",
       "      <td>middle_STD</td>\n",
       "      <td>middle_STD</td>\n",
       "    </tr>\n",
       "    <tr>\n",
       "      <th>956306</th>\n",
       "      <td>16994775</td>\n",
       "      <td>4663196663</td>\n",
       "      <td>7958650</td>\n",
       "      <td>1694517597</td>\n",
       "      <td>14.09</td>\n",
       "      <td>1</td>\n",
       "      <td>0</td>\n",
       "      <td>0</td>\n",
       "      <td>1</td>\n",
       "      <td>0</td>\n",
       "      <td>...</td>\n",
       "      <td>0</td>\n",
       "      <td>middle_STD</td>\n",
       "      <td>middle_STD</td>\n",
       "      <td>middle_STD</td>\n",
       "      <td>middle_STD</td>\n",
       "      <td>middle_STD</td>\n",
       "      <td>middle_STD</td>\n",
       "      <td>middle_STD</td>\n",
       "      <td>middle_STD</td>\n",
       "      <td>middle_STD</td>\n",
       "    </tr>\n",
       "    <tr>\n",
       "      <th>952019</th>\n",
       "      <td>16949046</td>\n",
       "      <td>4630544250</td>\n",
       "      <td>262872826</td>\n",
       "      <td>1824407727</td>\n",
       "      <td>33.18</td>\n",
       "      <td>0</td>\n",
       "      <td>0</td>\n",
       "      <td>0</td>\n",
       "      <td>1</td>\n",
       "      <td>0</td>\n",
       "      <td>...</td>\n",
       "      <td>0</td>\n",
       "      <td>middle_STD</td>\n",
       "      <td>middle_STD</td>\n",
       "      <td>middle_STD</td>\n",
       "      <td>middle_STD</td>\n",
       "      <td>middle_STD</td>\n",
       "      <td>middle_STD</td>\n",
       "      <td>middle_STD</td>\n",
       "      <td>middle_STD</td>\n",
       "      <td>middle_STD</td>\n",
       "    </tr>\n",
       "  </tbody>\n",
       "</table>\n",
       "<p>5 rows × 70 columns</p>\n",
       "</div>"
      ],
      "text/plain": [
       "        CTLG_PROD_ID  ORD_ORDER_ID  CUS_CUST_ID_SEL  ITE_ITEM_ID  \\\n",
       "734947      15949977    4651905721        167016957   1886245205   \n",
       "262322      10818833    4612488702        176184192   1431933901   \n",
       "415965      15136753    4655980507        124533988   1058139730   \n",
       "956306      16994775    4663196663          7958650   1694517597   \n",
       "952019      16949046    4630544250        262872826   1824407727   \n",
       "\n",
       "        ITE_BASE_CURRENT_PRICE  active_item  flag_bad_item  flag_bad_user  \\\n",
       "734947                  167.96            0              0              0   \n",
       "262322                   35.45            1              0              0   \n",
       "415965                    9.32            1              0              0   \n",
       "956306                   14.09            1              0              0   \n",
       "952019                   33.18            0              0              0   \n",
       "\n",
       "        order_trusted  is_buybox  ...  High_3STD  1STD_Range  1.25STD_Range  \\\n",
       "734947              1          1  ...          0  middle_STD     middle_STD   \n",
       "262322              1          1  ...          0  middle_STD     middle_STD   \n",
       "415965              1          0  ...          0  middle_STD     middle_STD   \n",
       "956306              1          0  ...          0  middle_STD     middle_STD   \n",
       "952019              1          0  ...          0  middle_STD     middle_STD   \n",
       "\n",
       "        1.5STD_Range  1.75STD_Range  2STD_Range  2.25STD_Range  2.5STD_Range  \\\n",
       "734947    middle_STD     middle_STD  middle_STD     middle_STD    middle_STD   \n",
       "262322    middle_STD     middle_STD  middle_STD     middle_STD    middle_STD   \n",
       "415965    middle_STD     middle_STD  middle_STD     middle_STD    middle_STD   \n",
       "956306    middle_STD     middle_STD  middle_STD     middle_STD    middle_STD   \n",
       "952019    middle_STD     middle_STD  middle_STD     middle_STD    middle_STD   \n",
       "\n",
       "        2.75STD_Range  3STD_Range  \n",
       "734947     middle_STD  middle_STD  \n",
       "262322     middle_STD  middle_STD  \n",
       "415965     middle_STD  middle_STD  \n",
       "956306     middle_STD  middle_STD  \n",
       "952019     middle_STD  middle_STD  \n",
       "\n",
       "[5 rows x 70 columns]"
      ]
     },
     "execution_count": 58,
     "metadata": {},
     "output_type": "execute_result"
    }
   ],
   "source": [
    "df_s.sample(5)"
   ]
  },
  {
   "cell_type": "code",
   "execution_count": 59,
   "metadata": {},
   "outputs": [
    {
     "data": {
      "text/html": [
       "<div>\n",
       "<style scoped>\n",
       "    .dataframe tbody tr th:only-of-type {\n",
       "        vertical-align: middle;\n",
       "    }\n",
       "\n",
       "    .dataframe tbody tr th {\n",
       "        vertical-align: top;\n",
       "    }\n",
       "\n",
       "    .dataframe thead th {\n",
       "        text-align: right;\n",
       "    }\n",
       "</style>\n",
       "<table border=\"1\" class=\"dataframe\">\n",
       "  <thead>\n",
       "    <tr style=\"text-align: right;\">\n",
       "      <th></th>\n",
       "      <th>1STD_Range</th>\n",
       "      <th>1.25STD_Range</th>\n",
       "      <th>1.5STD_Range</th>\n",
       "      <th>1.75STD_Range</th>\n",
       "      <th>2STD_Range</th>\n",
       "      <th>2.25STD_Range</th>\n",
       "      <th>2.5STD_Range</th>\n",
       "      <th>2.75STD_Range</th>\n",
       "      <th>3STD_Range</th>\n",
       "      <th>bad_order</th>\n",
       "      <th>ORD_ORDER_ID</th>\n",
       "    </tr>\n",
       "  </thead>\n",
       "  <tbody>\n",
       "    <tr>\n",
       "      <th>206152</th>\n",
       "      <td>middle_STD</td>\n",
       "      <td>middle_STD</td>\n",
       "      <td>middle_STD</td>\n",
       "      <td>middle_STD</td>\n",
       "      <td>middle_STD</td>\n",
       "      <td>middle_STD</td>\n",
       "      <td>middle_STD</td>\n",
       "      <td>middle_STD</td>\n",
       "      <td>middle_STD</td>\n",
       "      <td>0</td>\n",
       "      <td>4628656993</td>\n",
       "    </tr>\n",
       "    <tr>\n",
       "      <th>620099</th>\n",
       "      <td>low_STD</td>\n",
       "      <td>low_STD</td>\n",
       "      <td>low_STD</td>\n",
       "      <td>low_STD</td>\n",
       "      <td>middle_STD</td>\n",
       "      <td>middle_STD</td>\n",
       "      <td>middle_STD</td>\n",
       "      <td>middle_STD</td>\n",
       "      <td>middle_STD</td>\n",
       "      <td>0</td>\n",
       "      <td>4669307945</td>\n",
       "    </tr>\n",
       "    <tr>\n",
       "      <th>736079</th>\n",
       "      <td>middle_STD</td>\n",
       "      <td>middle_STD</td>\n",
       "      <td>middle_STD</td>\n",
       "      <td>middle_STD</td>\n",
       "      <td>middle_STD</td>\n",
       "      <td>middle_STD</td>\n",
       "      <td>middle_STD</td>\n",
       "      <td>middle_STD</td>\n",
       "      <td>middle_STD</td>\n",
       "      <td>1</td>\n",
       "      <td>4629598313</td>\n",
       "    </tr>\n",
       "    <tr>\n",
       "      <th>691385</th>\n",
       "      <td>middle_STD</td>\n",
       "      <td>middle_STD</td>\n",
       "      <td>middle_STD</td>\n",
       "      <td>middle_STD</td>\n",
       "      <td>middle_STD</td>\n",
       "      <td>middle_STD</td>\n",
       "      <td>middle_STD</td>\n",
       "      <td>middle_STD</td>\n",
       "      <td>middle_STD</td>\n",
       "      <td>0</td>\n",
       "      <td>4610346801</td>\n",
       "    </tr>\n",
       "    <tr>\n",
       "      <th>860594</th>\n",
       "      <td>middle_STD</td>\n",
       "      <td>middle_STD</td>\n",
       "      <td>middle_STD</td>\n",
       "      <td>middle_STD</td>\n",
       "      <td>middle_STD</td>\n",
       "      <td>middle_STD</td>\n",
       "      <td>middle_STD</td>\n",
       "      <td>middle_STD</td>\n",
       "      <td>middle_STD</td>\n",
       "      <td>0</td>\n",
       "      <td>4661680912</td>\n",
       "    </tr>\n",
       "  </tbody>\n",
       "</table>\n",
       "</div>"
      ],
      "text/plain": [
       "        1STD_Range 1.25STD_Range 1.5STD_Range 1.75STD_Range  2STD_Range  \\\n",
       "206152  middle_STD    middle_STD   middle_STD    middle_STD  middle_STD   \n",
       "620099     low_STD       low_STD      low_STD       low_STD  middle_STD   \n",
       "736079  middle_STD    middle_STD   middle_STD    middle_STD  middle_STD   \n",
       "691385  middle_STD    middle_STD   middle_STD    middle_STD  middle_STD   \n",
       "860594  middle_STD    middle_STD   middle_STD    middle_STD  middle_STD   \n",
       "\n",
       "       2.25STD_Range 2.5STD_Range 2.75STD_Range  3STD_Range  bad_order  \\\n",
       "206152    middle_STD   middle_STD    middle_STD  middle_STD          0   \n",
       "620099    middle_STD   middle_STD    middle_STD  middle_STD          0   \n",
       "736079    middle_STD   middle_STD    middle_STD  middle_STD          1   \n",
       "691385    middle_STD   middle_STD    middle_STD  middle_STD          0   \n",
       "860594    middle_STD   middle_STD    middle_STD  middle_STD          0   \n",
       "\n",
       "        ORD_ORDER_ID  \n",
       "206152    4628656993  \n",
       "620099    4669307945  \n",
       "736079    4629598313  \n",
       "691385    4610346801  \n",
       "860594    4661680912  "
      ]
     },
     "execution_count": 59,
     "metadata": {},
     "output_type": "execute_result"
    }
   ],
   "source": [
    "df_2=df_s[['1STD_Range','1.25STD_Range','1.5STD_Range','1.75STD_Range','2STD_Range','2.25STD_Range','2.5STD_Range','2.75STD_Range','3STD_Range','bad_order','ORD_ORDER_ID']]\n",
    "df_2.sample(5)"
   ]
  },
  {
   "cell_type": "markdown",
   "metadata": {},
   "source": [
    "## Distribution Bad Orders by different STD segments"
   ]
  },
  {
   "cell_type": "code",
   "execution_count": 60,
   "metadata": {},
   "outputs": [],
   "source": [
    "df_1=df_s[['1STD_Range','bad_order','ORD_ORDER_ID']]\n",
    "gb1=df_1.groupby(['1STD_Range','bad_order']).count()\n",
    "gb1=gb1.reset_index()\n",
    "\n",
    "gb2=gb1[['1STD_Range','ORD_ORDER_ID']].groupby(['1STD_Range']).sum()\n",
    "gb2=gb2.reset_index()\n",
    "gb2['TOTAL']=gb2['ORD_ORDER_ID']\n",
    "gb2=gb2[['1STD_Range','TOTAL']]\n",
    "\n",
    "ds_1 = pd.merge(left = gb1, right = gb2,\n",
    "                how = 'inner',\n",
    "                left_on='1STD_Range', right_on='1STD_Range')\n",
    "\n",
    "ds_1['Dis.[%]']=(ds_1['ORD_ORDER_ID']/ds_1['TOTAL'])*100\n",
    "ds_1['Dis.[%]']=ds_1['Dis.[%]'].round(decimals=1)\n",
    "\n",
    "ds_1=ds_1[ds_1['bad_order']==1]\n",
    "#ds_1=ds_1[ds_1['1STD_Range']=='low_STD']"
   ]
  },
  {
   "cell_type": "code",
   "execution_count": 61,
   "metadata": {},
   "outputs": [],
   "source": [
    "df_1=df_s[['1.25STD_Range','bad_order','ORD_ORDER_ID']]\n",
    "gb1=df_1.groupby(['1.25STD_Range','bad_order']).count()\n",
    "gb1=gb1.reset_index()\n",
    "\n",
    "gb2=gb1[['1.25STD_Range','ORD_ORDER_ID']].groupby(['1.25STD_Range']).sum()\n",
    "gb2=gb2.reset_index()\n",
    "gb2['TOTAL']=gb2['ORD_ORDER_ID']\n",
    "gb2=gb2[['1.25STD_Range','TOTAL']]\n",
    "\n",
    "ds_125 = pd.merge(left = gb1, right = gb2,\n",
    "                how = 'inner',\n",
    "                left_on='1.25STD_Range', right_on='1.25STD_Range')\n",
    "\n",
    "ds_125['Dis.[%]']=(ds_125['ORD_ORDER_ID']/ds_125['TOTAL'])*100\n",
    "ds_125['Dis.[%]']=ds_125['Dis.[%]'].round(decimals=1)\n",
    "\n",
    "ds_125=ds_125[ds_125['bad_order']==1]\n",
    "#ds_125=ds_125[ds_125['1.25STD_Range']=='low_STD']"
   ]
  },
  {
   "cell_type": "code",
   "execution_count": 62,
   "metadata": {},
   "outputs": [],
   "source": [
    "df_1=df_s[['1.5STD_Range','bad_order','ORD_ORDER_ID']]\n",
    "gb1=df_1.groupby(['1.5STD_Range','bad_order']).count()\n",
    "gb1=gb1.reset_index()\n",
    "\n",
    "gb2=gb1[['1.5STD_Range','ORD_ORDER_ID']].groupby(['1.5STD_Range']).sum()\n",
    "gb2=gb2.reset_index()\n",
    "gb2['TOTAL']=gb2['ORD_ORDER_ID']\n",
    "gb2=gb2[['1.5STD_Range','TOTAL']]\n",
    "\n",
    "ds_15 = pd.merge(left = gb1, right = gb2,\n",
    "                how = 'inner',\n",
    "                left_on='1.5STD_Range', right_on='1.5STD_Range')\n",
    "\n",
    "ds_15['Dis.[%]']=(ds_15['ORD_ORDER_ID']/ds_15['TOTAL'])*100\n",
    "ds_15['Dis.[%]']=ds_15['Dis.[%]'].round(decimals=1)\n",
    "\n",
    "ds_15=ds_15[ds_15['bad_order']==1]\n",
    "#ds_15=ds_15[ds_15['1.5STD_Range']=='low_STD']"
   ]
  },
  {
   "cell_type": "code",
   "execution_count": 63,
   "metadata": {},
   "outputs": [],
   "source": [
    "df_1=df_s[['1.75STD_Range','bad_order','ORD_ORDER_ID']]\n",
    "gb1=df_1.groupby(['1.75STD_Range','bad_order']).count()\n",
    "gb1=gb1.reset_index()\n",
    "\n",
    "gb2=gb1[['1.75STD_Range','ORD_ORDER_ID']].groupby(['1.75STD_Range']).sum()\n",
    "gb2=gb2.reset_index()\n",
    "gb2['TOTAL']=gb2['ORD_ORDER_ID']\n",
    "gb2=gb2[['1.75STD_Range','TOTAL']]\n",
    "\n",
    "ds_175 = pd.merge(left = gb1, right = gb2,\n",
    "                how = 'inner',\n",
    "                left_on='1.75STD_Range', right_on='1.75STD_Range')\n",
    "\n",
    "ds_175['Dis.[%]']=(ds_175['ORD_ORDER_ID']/ds_175['TOTAL'])*100\n",
    "ds_175['Dis.[%]']=ds_175['Dis.[%]'].round(decimals=1)\n",
    "\n",
    "ds_175=ds_175[ds_175['bad_order']==1]\n",
    "#ds_175=ds_175[ds_175['1.75STD_Range']=='low_STD']"
   ]
  },
  {
   "cell_type": "code",
   "execution_count": 64,
   "metadata": {},
   "outputs": [],
   "source": [
    "df_1=df_s[['2STD_Range','bad_order','ORD_ORDER_ID']]\n",
    "gb1=df_1.groupby(['2STD_Range','bad_order']).count()\n",
    "gb1=gb1.reset_index()\n",
    "\n",
    "gb2=gb1[['2STD_Range','ORD_ORDER_ID']].groupby(['2STD_Range']).sum()\n",
    "gb2=gb2.reset_index()\n",
    "gb2['TOTAL']=gb2['ORD_ORDER_ID']\n",
    "gb2=gb2[['2STD_Range','TOTAL']]\n",
    "\n",
    "ds_2 = pd.merge(left = gb1, right = gb2,\n",
    "                how = 'inner',\n",
    "                left_on='2STD_Range', right_on='2STD_Range')\n",
    "\n",
    "ds_2['Dis.[%]']=(ds_2['ORD_ORDER_ID']/ds_2['TOTAL'])*100\n",
    "ds_2['Dis.[%]']=ds_2['Dis.[%]'].round(decimals=1)\n",
    "\n",
    "ds_2=ds_2[ds_2['bad_order']==1]\n",
    "#ds_2=ds_2[ds_2['2STD_Range']=='low_STD']"
   ]
  },
  {
   "cell_type": "code",
   "execution_count": 65,
   "metadata": {},
   "outputs": [],
   "source": [
    "df_1=df_s[['2.25STD_Range','bad_order','ORD_ORDER_ID']]\n",
    "gb1=df_1.groupby(['2.25STD_Range','bad_order']).count()\n",
    "gb1=gb1.reset_index()\n",
    "\n",
    "gb2=gb1[['2.25STD_Range','ORD_ORDER_ID']].groupby(['2.25STD_Range']).sum()\n",
    "gb2=gb2.reset_index()\n",
    "gb2['TOTAL']=gb2['ORD_ORDER_ID']\n",
    "gb2=gb2[['2.25STD_Range','TOTAL']]\n",
    "\n",
    "ds_225 = pd.merge(left = gb1, right = gb2,\n",
    "                how = 'inner',\n",
    "                left_on='2.25STD_Range', right_on='2.25STD_Range')\n",
    "\n",
    "ds_225['Dis.[%]']=(ds_225['ORD_ORDER_ID']/ds_225['TOTAL'])*100\n",
    "ds_225['Dis.[%]']=ds_225['Dis.[%]'].round(decimals=1)\n",
    "\n",
    "ds_225=ds_225[ds_225['bad_order']==1]\n",
    "#ds_225=ds_225[ds_225['2.25STD_Range']=='low_STD']"
   ]
  },
  {
   "cell_type": "code",
   "execution_count": 66,
   "metadata": {},
   "outputs": [],
   "source": [
    "df_1=df_s[['2.5STD_Range','bad_order','ORD_ORDER_ID']]\n",
    "gb1=df_1.groupby(['2.5STD_Range','bad_order']).count()\n",
    "gb1=gb1.reset_index()\n",
    "\n",
    "gb2=gb1[['2.5STD_Range','ORD_ORDER_ID']].groupby(['2.5STD_Range']).sum()\n",
    "gb2=gb2.reset_index()\n",
    "gb2['TOTAL']=gb2['ORD_ORDER_ID']\n",
    "gb2=gb2[['2.5STD_Range','TOTAL']]\n",
    "\n",
    "ds_25 = pd.merge(left = gb1, right = gb2,\n",
    "                how = 'inner',\n",
    "                left_on='2.5STD_Range', right_on='2.5STD_Range')\n",
    "\n",
    "ds_25['Dis.[%]']=(ds_25['ORD_ORDER_ID']/ds_25['TOTAL'])*100\n",
    "ds_25['Dis.[%]']=ds_25['Dis.[%]'].round(decimals=1)\n",
    "\n",
    "ds_25=ds_25[ds_25['bad_order']==1]\n",
    "#ds_25=ds_25[ds_25['2.5STD_Range']=='low_STD']"
   ]
  },
  {
   "cell_type": "code",
   "execution_count": 67,
   "metadata": {},
   "outputs": [],
   "source": [
    "df_1=df_s[['2.75STD_Range','bad_order','ORD_ORDER_ID']]\n",
    "gb1=df_1.groupby(['2.75STD_Range','bad_order']).count()\n",
    "gb1=gb1.reset_index()\n",
    "\n",
    "gb2=gb1[['2.75STD_Range','ORD_ORDER_ID']].groupby(['2.75STD_Range']).sum()\n",
    "gb2=gb2.reset_index()\n",
    "gb2['TOTAL']=gb2['ORD_ORDER_ID']\n",
    "gb2=gb2[['2.75STD_Range','TOTAL']]\n",
    "\n",
    "ds_275 = pd.merge(left = gb1, right = gb2,\n",
    "                how = 'inner',\n",
    "                left_on='2.75STD_Range', right_on='2.75STD_Range')\n",
    "\n",
    "ds_275['Dis.[%]']=(ds_275['ORD_ORDER_ID']/ds_275['TOTAL'])*100\n",
    "ds_275['Dis.[%]']=ds_275['Dis.[%]'].round(decimals=1)\n",
    "\n",
    "ds_275=ds_275[ds_275['bad_order']==1]\n",
    "#ds_275=ds_275[ds_275['2.75STD_Range']=='low_STD']"
   ]
  },
  {
   "cell_type": "code",
   "execution_count": 68,
   "metadata": {},
   "outputs": [],
   "source": [
    "df_1=df_s[['3STD_Range','bad_order','ORD_ORDER_ID']]\n",
    "gb1=df_1.groupby(['3STD_Range','bad_order']).count()\n",
    "gb1=gb1.reset_index()\n",
    "\n",
    "gb2=gb1[['3STD_Range','ORD_ORDER_ID']].groupby(['3STD_Range']).sum()\n",
    "gb2=gb2.reset_index()\n",
    "gb2['TOTAL']=gb2['ORD_ORDER_ID']\n",
    "gb2=gb2[['3STD_Range','TOTAL']]\n",
    "\n",
    "ds_3 = pd.merge(left = gb1, right = gb2,\n",
    "                how = 'inner',\n",
    "                left_on='3STD_Range', right_on='3STD_Range')\n",
    "\n",
    "ds_3['Dis.[%]']=(ds_3['ORD_ORDER_ID']/ds_3['TOTAL'])*100\n",
    "ds_3['Dis.[%]']=ds_3['Dis.[%]'].round(decimals=1)\n",
    "\n",
    "ds_3=ds_3[ds_3['bad_order']==1]\n",
    "#ds_3=ds_3[ds_3['3STD_Range']=='low_STD']"
   ]
  },
  {
   "cell_type": "code",
   "execution_count": 69,
   "metadata": {},
   "outputs": [
    {
     "data": {
      "text/html": [
       "<div>\n",
       "<style scoped>\n",
       "    .dataframe tbody tr th:only-of-type {\n",
       "        vertical-align: middle;\n",
       "    }\n",
       "\n",
       "    .dataframe tbody tr th {\n",
       "        vertical-align: top;\n",
       "    }\n",
       "\n",
       "    .dataframe thead th {\n",
       "        text-align: right;\n",
       "    }\n",
       "</style>\n",
       "<table border=\"1\" class=\"dataframe\">\n",
       "  <thead>\n",
       "    <tr style=\"text-align: right;\">\n",
       "      <th></th>\n",
       "      <th>1STD_Range</th>\n",
       "      <th>bad_order</th>\n",
       "      <th>ORD_ORDER_ID</th>\n",
       "      <th>TOTAL</th>\n",
       "      <th>Dis.[%]</th>\n",
       "    </tr>\n",
       "  </thead>\n",
       "  <tbody>\n",
       "    <tr>\n",
       "      <th>1</th>\n",
       "      <td>high_STD</td>\n",
       "      <td>1</td>\n",
       "      <td>14109</td>\n",
       "      <td>100245</td>\n",
       "      <td>14.1</td>\n",
       "    </tr>\n",
       "    <tr>\n",
       "      <th>3</th>\n",
       "      <td>low_STD</td>\n",
       "      <td>1</td>\n",
       "      <td>13818</td>\n",
       "      <td>72615</td>\n",
       "      <td>19.0</td>\n",
       "    </tr>\n",
       "    <tr>\n",
       "      <th>5</th>\n",
       "      <td>middle_STD</td>\n",
       "      <td>1</td>\n",
       "      <td>115451</td>\n",
       "      <td>891892</td>\n",
       "      <td>12.9</td>\n",
       "    </tr>\n",
       "  </tbody>\n",
       "</table>\n",
       "</div>"
      ],
      "text/plain": [
       "   1STD_Range  bad_order  ORD_ORDER_ID   TOTAL  Dis.[%]\n",
       "1    high_STD          1         14109  100245     14.1\n",
       "3     low_STD          1         13818   72615     19.0\n",
       "5  middle_STD          1        115451  891892     12.9"
      ]
     },
     "execution_count": 69,
     "metadata": {},
     "output_type": "execute_result"
    }
   ],
   "source": [
    "ds_1"
   ]
  },
  {
   "cell_type": "code",
   "execution_count": 70,
   "metadata": {},
   "outputs": [
    {
     "data": {
      "text/html": [
       "<div>\n",
       "<style scoped>\n",
       "    .dataframe tbody tr th:only-of-type {\n",
       "        vertical-align: middle;\n",
       "    }\n",
       "\n",
       "    .dataframe tbody tr th {\n",
       "        vertical-align: top;\n",
       "    }\n",
       "\n",
       "    .dataframe thead th {\n",
       "        text-align: right;\n",
       "    }\n",
       "</style>\n",
       "<table border=\"1\" class=\"dataframe\">\n",
       "  <thead>\n",
       "    <tr style=\"text-align: right;\">\n",
       "      <th></th>\n",
       "      <th>1.25STD_Range</th>\n",
       "      <th>bad_order</th>\n",
       "      <th>ORD_ORDER_ID</th>\n",
       "      <th>TOTAL</th>\n",
       "      <th>Dis.[%]</th>\n",
       "    </tr>\n",
       "  </thead>\n",
       "  <tbody>\n",
       "    <tr>\n",
       "      <th>1</th>\n",
       "      <td>high_STD</td>\n",
       "      <td>1</td>\n",
       "      <td>10542</td>\n",
       "      <td>73895</td>\n",
       "      <td>14.3</td>\n",
       "    </tr>\n",
       "    <tr>\n",
       "      <th>3</th>\n",
       "      <td>low_STD</td>\n",
       "      <td>1</td>\n",
       "      <td>9071</td>\n",
       "      <td>42084</td>\n",
       "      <td>21.6</td>\n",
       "    </tr>\n",
       "    <tr>\n",
       "      <th>5</th>\n",
       "      <td>middle_STD</td>\n",
       "      <td>1</td>\n",
       "      <td>123765</td>\n",
       "      <td>948773</td>\n",
       "      <td>13.0</td>\n",
       "    </tr>\n",
       "  </tbody>\n",
       "</table>\n",
       "</div>"
      ],
      "text/plain": [
       "  1.25STD_Range  bad_order  ORD_ORDER_ID   TOTAL  Dis.[%]\n",
       "1      high_STD          1         10542   73895     14.3\n",
       "3       low_STD          1          9071   42084     21.6\n",
       "5    middle_STD          1        123765  948773     13.0"
      ]
     },
     "execution_count": 70,
     "metadata": {},
     "output_type": "execute_result"
    }
   ],
   "source": [
    "ds_125"
   ]
  },
  {
   "cell_type": "code",
   "execution_count": 71,
   "metadata": {},
   "outputs": [
    {
     "data": {
      "text/html": [
       "<div>\n",
       "<style scoped>\n",
       "    .dataframe tbody tr th:only-of-type {\n",
       "        vertical-align: middle;\n",
       "    }\n",
       "\n",
       "    .dataframe tbody tr th {\n",
       "        vertical-align: top;\n",
       "    }\n",
       "\n",
       "    .dataframe thead th {\n",
       "        text-align: right;\n",
       "    }\n",
       "</style>\n",
       "<table border=\"1\" class=\"dataframe\">\n",
       "  <thead>\n",
       "    <tr style=\"text-align: right;\">\n",
       "      <th></th>\n",
       "      <th>1.5STD_Range</th>\n",
       "      <th>bad_order</th>\n",
       "      <th>ORD_ORDER_ID</th>\n",
       "      <th>TOTAL</th>\n",
       "      <th>Dis.[%]</th>\n",
       "    </tr>\n",
       "  </thead>\n",
       "  <tbody>\n",
       "    <tr>\n",
       "      <th>1</th>\n",
       "      <td>high_STD</td>\n",
       "      <td>1</td>\n",
       "      <td>8013</td>\n",
       "      <td>55934</td>\n",
       "      <td>14.3</td>\n",
       "    </tr>\n",
       "    <tr>\n",
       "      <th>3</th>\n",
       "      <td>low_STD</td>\n",
       "      <td>1</td>\n",
       "      <td>5724</td>\n",
       "      <td>24145</td>\n",
       "      <td>23.7</td>\n",
       "    </tr>\n",
       "    <tr>\n",
       "      <th>5</th>\n",
       "      <td>middle_STD</td>\n",
       "      <td>1</td>\n",
       "      <td>129641</td>\n",
       "      <td>984673</td>\n",
       "      <td>13.2</td>\n",
       "    </tr>\n",
       "  </tbody>\n",
       "</table>\n",
       "</div>"
      ],
      "text/plain": [
       "  1.5STD_Range  bad_order  ORD_ORDER_ID   TOTAL  Dis.[%]\n",
       "1     high_STD          1          8013   55934     14.3\n",
       "3      low_STD          1          5724   24145     23.7\n",
       "5   middle_STD          1        129641  984673     13.2"
      ]
     },
     "execution_count": 71,
     "metadata": {},
     "output_type": "execute_result"
    }
   ],
   "source": [
    "ds_15"
   ]
  },
  {
   "cell_type": "code",
   "execution_count": 72,
   "metadata": {},
   "outputs": [
    {
     "data": {
      "text/html": [
       "<div>\n",
       "<style scoped>\n",
       "    .dataframe tbody tr th:only-of-type {\n",
       "        vertical-align: middle;\n",
       "    }\n",
       "\n",
       "    .dataframe tbody tr th {\n",
       "        vertical-align: top;\n",
       "    }\n",
       "\n",
       "    .dataframe thead th {\n",
       "        text-align: right;\n",
       "    }\n",
       "</style>\n",
       "<table border=\"1\" class=\"dataframe\">\n",
       "  <thead>\n",
       "    <tr style=\"text-align: right;\">\n",
       "      <th></th>\n",
       "      <th>1.75STD_Range</th>\n",
       "      <th>bad_order</th>\n",
       "      <th>ORD_ORDER_ID</th>\n",
       "      <th>TOTAL</th>\n",
       "      <th>Dis.[%]</th>\n",
       "    </tr>\n",
       "  </thead>\n",
       "  <tbody>\n",
       "    <tr>\n",
       "      <th>1</th>\n",
       "      <td>high_STD</td>\n",
       "      <td>1</td>\n",
       "      <td>6283</td>\n",
       "      <td>42112</td>\n",
       "      <td>14.9</td>\n",
       "    </tr>\n",
       "    <tr>\n",
       "      <th>3</th>\n",
       "      <td>low_STD</td>\n",
       "      <td>1</td>\n",
       "      <td>4035</td>\n",
       "      <td>15462</td>\n",
       "      <td>26.1</td>\n",
       "    </tr>\n",
       "    <tr>\n",
       "      <th>5</th>\n",
       "      <td>middle_STD</td>\n",
       "      <td>1</td>\n",
       "      <td>133060</td>\n",
       "      <td>1007178</td>\n",
       "      <td>13.2</td>\n",
       "    </tr>\n",
       "  </tbody>\n",
       "</table>\n",
       "</div>"
      ],
      "text/plain": [
       "  1.75STD_Range  bad_order  ORD_ORDER_ID    TOTAL  Dis.[%]\n",
       "1      high_STD          1          6283    42112     14.9\n",
       "3       low_STD          1          4035    15462     26.1\n",
       "5    middle_STD          1        133060  1007178     13.2"
      ]
     },
     "execution_count": 72,
     "metadata": {},
     "output_type": "execute_result"
    }
   ],
   "source": [
    "ds_175"
   ]
  },
  {
   "cell_type": "code",
   "execution_count": 73,
   "metadata": {},
   "outputs": [
    {
     "data": {
      "text/html": [
       "<div>\n",
       "<style scoped>\n",
       "    .dataframe tbody tr th:only-of-type {\n",
       "        vertical-align: middle;\n",
       "    }\n",
       "\n",
       "    .dataframe tbody tr th {\n",
       "        vertical-align: top;\n",
       "    }\n",
       "\n",
       "    .dataframe thead th {\n",
       "        text-align: right;\n",
       "    }\n",
       "</style>\n",
       "<table border=\"1\" class=\"dataframe\">\n",
       "  <thead>\n",
       "    <tr style=\"text-align: right;\">\n",
       "      <th></th>\n",
       "      <th>2STD_Range</th>\n",
       "      <th>bad_order</th>\n",
       "      <th>ORD_ORDER_ID</th>\n",
       "      <th>TOTAL</th>\n",
       "      <th>Dis.[%]</th>\n",
       "    </tr>\n",
       "  </thead>\n",
       "  <tbody>\n",
       "    <tr>\n",
       "      <th>1</th>\n",
       "      <td>high_STD</td>\n",
       "      <td>1</td>\n",
       "      <td>4884</td>\n",
       "      <td>32135</td>\n",
       "      <td>15.2</td>\n",
       "    </tr>\n",
       "    <tr>\n",
       "      <th>3</th>\n",
       "      <td>low_STD</td>\n",
       "      <td>1</td>\n",
       "      <td>2949</td>\n",
       "      <td>9919</td>\n",
       "      <td>29.7</td>\n",
       "    </tr>\n",
       "    <tr>\n",
       "      <th>5</th>\n",
       "      <td>middle_STD</td>\n",
       "      <td>1</td>\n",
       "      <td>135545</td>\n",
       "      <td>1022698</td>\n",
       "      <td>13.3</td>\n",
       "    </tr>\n",
       "  </tbody>\n",
       "</table>\n",
       "</div>"
      ],
      "text/plain": [
       "   2STD_Range  bad_order  ORD_ORDER_ID    TOTAL  Dis.[%]\n",
       "1    high_STD          1          4884    32135     15.2\n",
       "3     low_STD          1          2949     9919     29.7\n",
       "5  middle_STD          1        135545  1022698     13.3"
      ]
     },
     "execution_count": 73,
     "metadata": {},
     "output_type": "execute_result"
    }
   ],
   "source": [
    "ds_2"
   ]
  },
  {
   "cell_type": "code",
   "execution_count": 74,
   "metadata": {},
   "outputs": [
    {
     "data": {
      "text/html": [
       "<div>\n",
       "<style scoped>\n",
       "    .dataframe tbody tr th:only-of-type {\n",
       "        vertical-align: middle;\n",
       "    }\n",
       "\n",
       "    .dataframe tbody tr th {\n",
       "        vertical-align: top;\n",
       "    }\n",
       "\n",
       "    .dataframe thead th {\n",
       "        text-align: right;\n",
       "    }\n",
       "</style>\n",
       "<table border=\"1\" class=\"dataframe\">\n",
       "  <thead>\n",
       "    <tr style=\"text-align: right;\">\n",
       "      <th></th>\n",
       "      <th>2.25STD_Range</th>\n",
       "      <th>bad_order</th>\n",
       "      <th>ORD_ORDER_ID</th>\n",
       "      <th>TOTAL</th>\n",
       "      <th>Dis.[%]</th>\n",
       "    </tr>\n",
       "  </thead>\n",
       "  <tbody>\n",
       "    <tr>\n",
       "      <th>1</th>\n",
       "      <td>high_STD</td>\n",
       "      <td>1</td>\n",
       "      <td>3891</td>\n",
       "      <td>24364</td>\n",
       "      <td>16.0</td>\n",
       "    </tr>\n",
       "    <tr>\n",
       "      <th>3</th>\n",
       "      <td>low_STD</td>\n",
       "      <td>1</td>\n",
       "      <td>2321</td>\n",
       "      <td>6738</td>\n",
       "      <td>34.4</td>\n",
       "    </tr>\n",
       "    <tr>\n",
       "      <th>5</th>\n",
       "      <td>middle_STD</td>\n",
       "      <td>1</td>\n",
       "      <td>137166</td>\n",
       "      <td>1033650</td>\n",
       "      <td>13.3</td>\n",
       "    </tr>\n",
       "  </tbody>\n",
       "</table>\n",
       "</div>"
      ],
      "text/plain": [
       "  2.25STD_Range  bad_order  ORD_ORDER_ID    TOTAL  Dis.[%]\n",
       "1      high_STD          1          3891    24364     16.0\n",
       "3       low_STD          1          2321     6738     34.4\n",
       "5    middle_STD          1        137166  1033650     13.3"
      ]
     },
     "execution_count": 74,
     "metadata": {},
     "output_type": "execute_result"
    }
   ],
   "source": [
    "ds_225"
   ]
  },
  {
   "cell_type": "code",
   "execution_count": 75,
   "metadata": {},
   "outputs": [
    {
     "data": {
      "text/html": [
       "<div>\n",
       "<style scoped>\n",
       "    .dataframe tbody tr th:only-of-type {\n",
       "        vertical-align: middle;\n",
       "    }\n",
       "\n",
       "    .dataframe tbody tr th {\n",
       "        vertical-align: top;\n",
       "    }\n",
       "\n",
       "    .dataframe thead th {\n",
       "        text-align: right;\n",
       "    }\n",
       "</style>\n",
       "<table border=\"1\" class=\"dataframe\">\n",
       "  <thead>\n",
       "    <tr style=\"text-align: right;\">\n",
       "      <th></th>\n",
       "      <th>2.5STD_Range</th>\n",
       "      <th>bad_order</th>\n",
       "      <th>ORD_ORDER_ID</th>\n",
       "      <th>TOTAL</th>\n",
       "      <th>Dis.[%]</th>\n",
       "    </tr>\n",
       "  </thead>\n",
       "  <tbody>\n",
       "    <tr>\n",
       "      <th>1</th>\n",
       "      <td>high_STD</td>\n",
       "      <td>1</td>\n",
       "      <td>3227</td>\n",
       "      <td>19386</td>\n",
       "      <td>16.6</td>\n",
       "    </tr>\n",
       "    <tr>\n",
       "      <th>3</th>\n",
       "      <td>low_STD</td>\n",
       "      <td>1</td>\n",
       "      <td>1897</td>\n",
       "      <td>5133</td>\n",
       "      <td>37.0</td>\n",
       "    </tr>\n",
       "    <tr>\n",
       "      <th>5</th>\n",
       "      <td>middle_STD</td>\n",
       "      <td>1</td>\n",
       "      <td>138254</td>\n",
       "      <td>1040233</td>\n",
       "      <td>13.3</td>\n",
       "    </tr>\n",
       "  </tbody>\n",
       "</table>\n",
       "</div>"
      ],
      "text/plain": [
       "  2.5STD_Range  bad_order  ORD_ORDER_ID    TOTAL  Dis.[%]\n",
       "1     high_STD          1          3227    19386     16.6\n",
       "3      low_STD          1          1897     5133     37.0\n",
       "5   middle_STD          1        138254  1040233     13.3"
      ]
     },
     "execution_count": 75,
     "metadata": {},
     "output_type": "execute_result"
    }
   ],
   "source": [
    "ds_25"
   ]
  },
  {
   "cell_type": "code",
   "execution_count": 76,
   "metadata": {},
   "outputs": [
    {
     "data": {
      "text/html": [
       "<div>\n",
       "<style scoped>\n",
       "    .dataframe tbody tr th:only-of-type {\n",
       "        vertical-align: middle;\n",
       "    }\n",
       "\n",
       "    .dataframe tbody tr th {\n",
       "        vertical-align: top;\n",
       "    }\n",
       "\n",
       "    .dataframe thead th {\n",
       "        text-align: right;\n",
       "    }\n",
       "</style>\n",
       "<table border=\"1\" class=\"dataframe\">\n",
       "  <thead>\n",
       "    <tr style=\"text-align: right;\">\n",
       "      <th></th>\n",
       "      <th>2.75STD_Range</th>\n",
       "      <th>bad_order</th>\n",
       "      <th>ORD_ORDER_ID</th>\n",
       "      <th>TOTAL</th>\n",
       "      <th>Dis.[%]</th>\n",
       "    </tr>\n",
       "  </thead>\n",
       "  <tbody>\n",
       "    <tr>\n",
       "      <th>1</th>\n",
       "      <td>high_STD</td>\n",
       "      <td>1</td>\n",
       "      <td>2670</td>\n",
       "      <td>15163</td>\n",
       "      <td>17.6</td>\n",
       "    </tr>\n",
       "    <tr>\n",
       "      <th>3</th>\n",
       "      <td>low_STD</td>\n",
       "      <td>1</td>\n",
       "      <td>1593</td>\n",
       "      <td>4153</td>\n",
       "      <td>38.4</td>\n",
       "    </tr>\n",
       "    <tr>\n",
       "      <th>5</th>\n",
       "      <td>middle_STD</td>\n",
       "      <td>1</td>\n",
       "      <td>139115</td>\n",
       "      <td>1045436</td>\n",
       "      <td>13.3</td>\n",
       "    </tr>\n",
       "  </tbody>\n",
       "</table>\n",
       "</div>"
      ],
      "text/plain": [
       "  2.75STD_Range  bad_order  ORD_ORDER_ID    TOTAL  Dis.[%]\n",
       "1      high_STD          1          2670    15163     17.6\n",
       "3       low_STD          1          1593     4153     38.4\n",
       "5    middle_STD          1        139115  1045436     13.3"
      ]
     },
     "execution_count": 76,
     "metadata": {},
     "output_type": "execute_result"
    }
   ],
   "source": [
    "ds_275"
   ]
  },
  {
   "cell_type": "code",
   "execution_count": 77,
   "metadata": {},
   "outputs": [
    {
     "data": {
      "text/html": [
       "<div>\n",
       "<style scoped>\n",
       "    .dataframe tbody tr th:only-of-type {\n",
       "        vertical-align: middle;\n",
       "    }\n",
       "\n",
       "    .dataframe tbody tr th {\n",
       "        vertical-align: top;\n",
       "    }\n",
       "\n",
       "    .dataframe thead th {\n",
       "        text-align: right;\n",
       "    }\n",
       "</style>\n",
       "<table border=\"1\" class=\"dataframe\">\n",
       "  <thead>\n",
       "    <tr style=\"text-align: right;\">\n",
       "      <th></th>\n",
       "      <th>3STD_Range</th>\n",
       "      <th>bad_order</th>\n",
       "      <th>ORD_ORDER_ID</th>\n",
       "      <th>TOTAL</th>\n",
       "      <th>Dis.[%]</th>\n",
       "    </tr>\n",
       "  </thead>\n",
       "  <tbody>\n",
       "    <tr>\n",
       "      <th>1</th>\n",
       "      <td>high_STD</td>\n",
       "      <td>1</td>\n",
       "      <td>2326</td>\n",
       "      <td>12421</td>\n",
       "      <td>18.7</td>\n",
       "    </tr>\n",
       "    <tr>\n",
       "      <th>3</th>\n",
       "      <td>low_STD</td>\n",
       "      <td>1</td>\n",
       "      <td>1348</td>\n",
       "      <td>3167</td>\n",
       "      <td>42.6</td>\n",
       "    </tr>\n",
       "    <tr>\n",
       "      <th>5</th>\n",
       "      <td>middle_STD</td>\n",
       "      <td>1</td>\n",
       "      <td>139704</td>\n",
       "      <td>1049164</td>\n",
       "      <td>13.3</td>\n",
       "    </tr>\n",
       "  </tbody>\n",
       "</table>\n",
       "</div>"
      ],
      "text/plain": [
       "   3STD_Range  bad_order  ORD_ORDER_ID    TOTAL  Dis.[%]\n",
       "1    high_STD          1          2326    12421     18.7\n",
       "3     low_STD          1          1348     3167     42.6\n",
       "5  middle_STD          1        139704  1049164     13.3"
      ]
     },
     "execution_count": 77,
     "metadata": {},
     "output_type": "execute_result"
    }
   ],
   "source": [
    "ds_3"
   ]
  },
  {
   "cell_type": "markdown",
   "metadata": {},
   "source": [
    "## Distribution Bad Orders"
   ]
  },
  {
   "cell_type": "code",
   "execution_count": 78,
   "metadata": {},
   "outputs": [],
   "source": [
    "df_1=df_s[['2.25STD_Range','bad_order','ORD_ORDER_ID']]"
   ]
  },
  {
   "cell_type": "code",
   "execution_count": 79,
   "metadata": {},
   "outputs": [
    {
     "data": {
      "text/html": [
       "<div>\n",
       "<style scoped>\n",
       "    .dataframe tbody tr th:only-of-type {\n",
       "        vertical-align: middle;\n",
       "    }\n",
       "\n",
       "    .dataframe tbody tr th {\n",
       "        vertical-align: top;\n",
       "    }\n",
       "\n",
       "    .dataframe thead th {\n",
       "        text-align: right;\n",
       "    }\n",
       "</style>\n",
       "<table border=\"1\" class=\"dataframe\">\n",
       "  <thead>\n",
       "    <tr style=\"text-align: right;\">\n",
       "      <th></th>\n",
       "      <th>2.25STD_Range</th>\n",
       "      <th>bad_order</th>\n",
       "      <th>ORD_ORDER_ID</th>\n",
       "      <th>TOTAL</th>\n",
       "      <th>Dis.[%]</th>\n",
       "    </tr>\n",
       "  </thead>\n",
       "  <tbody>\n",
       "    <tr>\n",
       "      <th>0</th>\n",
       "      <td>high_STD</td>\n",
       "      <td>0</td>\n",
       "      <td>20473</td>\n",
       "      <td>24364</td>\n",
       "      <td>84.0</td>\n",
       "    </tr>\n",
       "    <tr>\n",
       "      <th>1</th>\n",
       "      <td>high_STD</td>\n",
       "      <td>1</td>\n",
       "      <td>3891</td>\n",
       "      <td>24364</td>\n",
       "      <td>16.0</td>\n",
       "    </tr>\n",
       "    <tr>\n",
       "      <th>2</th>\n",
       "      <td>low_STD</td>\n",
       "      <td>0</td>\n",
       "      <td>4417</td>\n",
       "      <td>6738</td>\n",
       "      <td>65.6</td>\n",
       "    </tr>\n",
       "    <tr>\n",
       "      <th>3</th>\n",
       "      <td>low_STD</td>\n",
       "      <td>1</td>\n",
       "      <td>2321</td>\n",
       "      <td>6738</td>\n",
       "      <td>34.4</td>\n",
       "    </tr>\n",
       "    <tr>\n",
       "      <th>4</th>\n",
       "      <td>middle_STD</td>\n",
       "      <td>0</td>\n",
       "      <td>896484</td>\n",
       "      <td>1033650</td>\n",
       "      <td>86.7</td>\n",
       "    </tr>\n",
       "    <tr>\n",
       "      <th>5</th>\n",
       "      <td>middle_STD</td>\n",
       "      <td>1</td>\n",
       "      <td>137166</td>\n",
       "      <td>1033650</td>\n",
       "      <td>13.3</td>\n",
       "    </tr>\n",
       "  </tbody>\n",
       "</table>\n",
       "</div>"
      ],
      "text/plain": [
       "  2.25STD_Range  bad_order  ORD_ORDER_ID    TOTAL  Dis.[%]\n",
       "0      high_STD          0         20473    24364     84.0\n",
       "1      high_STD          1          3891    24364     16.0\n",
       "2       low_STD          0          4417     6738     65.6\n",
       "3       low_STD          1          2321     6738     34.4\n",
       "4    middle_STD          0        896484  1033650     86.7\n",
       "5    middle_STD          1        137166  1033650     13.3"
      ]
     },
     "execution_count": 79,
     "metadata": {},
     "output_type": "execute_result"
    }
   ],
   "source": [
    "gb1=df_1.groupby(['2.25STD_Range','bad_order']).count()\n",
    "gb1=gb1.reset_index()\n",
    "\n",
    "gb2=gb1[['2.25STD_Range','ORD_ORDER_ID']].groupby(['2.25STD_Range']).sum()\n",
    "gb2=gb2.reset_index()\n",
    "gb2['TOTAL']=gb2['ORD_ORDER_ID']\n",
    "gb2=gb2[['2.25STD_Range','TOTAL']]\n",
    "\n",
    "gb3 = pd.merge(left = gb1, right = gb2,\n",
    "                how = 'inner',\n",
    "                left_on='2.25STD_Range', right_on='2.25STD_Range')\n",
    "\n",
    "gb3['Dis.[%]']=(gb3['ORD_ORDER_ID']/gb3['TOTAL'])*100\n",
    "gb3['Dis.[%]']=gb3['Dis.[%]'].round(decimals=1)\n",
    "\n",
    "gb3"
   ]
  },
  {
   "cell_type": "code",
   "execution_count": 80,
   "metadata": {},
   "outputs": [
    {
     "data": {
      "image/png": "[encoded data removed]",
      "text/plain": [
       "<Figure size 432x288 with 1 Axes>"
      ]
     },
     "metadata": {
      "needs_background": "light"
     },
     "output_type": "display_data"
    }
   ],
   "source": [
    "sns.histplot(\n",
    "            data=df_1,\n",
    "            x=\"2.25STD_Range\",\n",
    "            hue=\"bad_order\",\n",
    "            multiple=\"dodge\",\n",
    "            shrink=.8\n",
    "            ).set(title='Precio',ylabel='Orders');"
   ]
  },
  {
   "cell_type": "markdown",
   "metadata": {},
   "source": [
    "## Distribution Bad Users"
   ]
  },
  {
   "cell_type": "code",
   "execution_count": 81,
   "metadata": {},
   "outputs": [],
   "source": [
    "df_1=df_s[['2.25STD_Range','flag_bad_user','ORD_ORDER_ID']]"
   ]
  },
  {
   "cell_type": "code",
   "execution_count": 82,
   "metadata": {},
   "outputs": [
    {
     "data": {
      "text/html": [
       "<div>\n",
       "<style scoped>\n",
       "    .dataframe tbody tr th:only-of-type {\n",
       "        vertical-align: middle;\n",
       "    }\n",
       "\n",
       "    .dataframe tbody tr th {\n",
       "        vertical-align: top;\n",
       "    }\n",
       "\n",
       "    .dataframe thead th {\n",
       "        text-align: right;\n",
       "    }\n",
       "</style>\n",
       "<table border=\"1\" class=\"dataframe\">\n",
       "  <thead>\n",
       "    <tr style=\"text-align: right;\">\n",
       "      <th></th>\n",
       "      <th>2.25STD_Range</th>\n",
       "      <th>flag_bad_user</th>\n",
       "      <th>ORD_ORDER_ID</th>\n",
       "      <th>TOTAL</th>\n",
       "      <th>Dis.[%]</th>\n",
       "    </tr>\n",
       "  </thead>\n",
       "  <tbody>\n",
       "    <tr>\n",
       "      <th>0</th>\n",
       "      <td>high_STD</td>\n",
       "      <td>0</td>\n",
       "      <td>23410</td>\n",
       "      <td>24364</td>\n",
       "      <td>96.1</td>\n",
       "    </tr>\n",
       "    <tr>\n",
       "      <th>1</th>\n",
       "      <td>high_STD</td>\n",
       "      <td>1</td>\n",
       "      <td>954</td>\n",
       "      <td>24364</td>\n",
       "      <td>3.9</td>\n",
       "    </tr>\n",
       "    <tr>\n",
       "      <th>2</th>\n",
       "      <td>low_STD</td>\n",
       "      <td>0</td>\n",
       "      <td>6444</td>\n",
       "      <td>6738</td>\n",
       "      <td>95.6</td>\n",
       "    </tr>\n",
       "    <tr>\n",
       "      <th>3</th>\n",
       "      <td>low_STD</td>\n",
       "      <td>1</td>\n",
       "      <td>294</td>\n",
       "      <td>6738</td>\n",
       "      <td>4.4</td>\n",
       "    </tr>\n",
       "    <tr>\n",
       "      <th>4</th>\n",
       "      <td>middle_STD</td>\n",
       "      <td>0</td>\n",
       "      <td>999535</td>\n",
       "      <td>1033650</td>\n",
       "      <td>96.7</td>\n",
       "    </tr>\n",
       "    <tr>\n",
       "      <th>5</th>\n",
       "      <td>middle_STD</td>\n",
       "      <td>1</td>\n",
       "      <td>34115</td>\n",
       "      <td>1033650</td>\n",
       "      <td>3.3</td>\n",
       "    </tr>\n",
       "  </tbody>\n",
       "</table>\n",
       "</div>"
      ],
      "text/plain": [
       "  2.25STD_Range  flag_bad_user  ORD_ORDER_ID    TOTAL  Dis.[%]\n",
       "0      high_STD              0         23410    24364     96.1\n",
       "1      high_STD              1           954    24364      3.9\n",
       "2       low_STD              0          6444     6738     95.6\n",
       "3       low_STD              1           294     6738      4.4\n",
       "4    middle_STD              0        999535  1033650     96.7\n",
       "5    middle_STD              1         34115  1033650      3.3"
      ]
     },
     "execution_count": 82,
     "metadata": {},
     "output_type": "execute_result"
    }
   ],
   "source": [
    "gb1=df_1.groupby(['2.25STD_Range','flag_bad_user']).count()\n",
    "gb1=gb1.reset_index()\n",
    "\n",
    "gb2=gb1[['2.25STD_Range','ORD_ORDER_ID']].groupby(['2.25STD_Range']).sum()\n",
    "gb2=gb2.reset_index()\n",
    "gb2['TOTAL']=gb2['ORD_ORDER_ID']\n",
    "gb2=gb2[['2.25STD_Range','TOTAL']]\n",
    "\n",
    "gb3 = pd.merge(left = gb1, right = gb2,\n",
    "                how = 'inner',\n",
    "                left_on='2.25STD_Range', right_on='2.25STD_Range')\n",
    "\n",
    "gb3['Dis.[%]']=(gb3['ORD_ORDER_ID']/gb3['TOTAL'])*100\n",
    "gb3['Dis.[%]']=gb3['Dis.[%]'].round(decimals=1)\n",
    "\n",
    "gb3"
   ]
  },
  {
   "cell_type": "code",
   "execution_count": 83,
   "metadata": {},
   "outputs": [
    {
     "data": {
      "image/png": "[encoded data removed]",
      "text/plain": [
       "<Figure size 432x288 with 1 Axes>"
      ]
     },
     "metadata": {
      "needs_background": "light"
     },
     "output_type": "display_data"
    }
   ],
   "source": [
    "sns.histplot(\n",
    "            data=df_1,\n",
    "            x=\"2.25STD_Range\",\n",
    "            hue=\"flag_bad_user\",\n",
    "            multiple=\"dodge\",\n",
    "            shrink=.8\n",
    "            ).set(title='Precio',ylabel='Orders');"
   ]
  },
  {
   "cell_type": "markdown",
   "metadata": {},
   "source": [
    "## Distribution Has CashOut"
   ]
  },
  {
   "cell_type": "code",
   "execution_count": 84,
   "metadata": {},
   "outputs": [
    {
     "name": "stderr",
     "output_type": "stream",
     "text": [
      "<ipython-input-84-3a510db3b053>:2: SettingWithCopyWarning: \n",
      "A value is trying to be set on a copy of a slice from a DataFrame.\n",
      "Try using .loc[row_indexer,col_indexer] = value instead\n",
      "\n",
      "See the caveats in the documentation: https://pandas.pydata.org/pandas-docs/stable/user_guide/indexing.html#returning-a-view-versus-a-copy\n",
      "  df_1['has_co'] = df_1.apply(lambda x: 1 if x['bpp_cashout_final'] > 0 else 0, axis=1)\n"
     ]
    }
   ],
   "source": [
    "df_1=df_s[['2.25STD_Range','bpp_cashout_final','ORD_ORDER_ID']]\n",
    "df_1['has_co'] = df_1.apply(lambda x: 1 if x['bpp_cashout_final'] > 0 else 0, axis=1)\n",
    "df_1=df_1[['2.25STD_Range','has_co','ORD_ORDER_ID']]"
   ]
  },
  {
   "cell_type": "code",
   "execution_count": 85,
   "metadata": {},
   "outputs": [
    {
     "data": {
      "text/html": [
       "<div>\n",
       "<style scoped>\n",
       "    .dataframe tbody tr th:only-of-type {\n",
       "        vertical-align: middle;\n",
       "    }\n",
       "\n",
       "    .dataframe tbody tr th {\n",
       "        vertical-align: top;\n",
       "    }\n",
       "\n",
       "    .dataframe thead th {\n",
       "        text-align: right;\n",
       "    }\n",
       "</style>\n",
       "<table border=\"1\" class=\"dataframe\">\n",
       "  <thead>\n",
       "    <tr style=\"text-align: right;\">\n",
       "      <th></th>\n",
       "      <th>2.25STD_Range</th>\n",
       "      <th>has_co</th>\n",
       "      <th>ORD_ORDER_ID</th>\n",
       "      <th>TOTAL</th>\n",
       "      <th>Dis.[%]</th>\n",
       "    </tr>\n",
       "  </thead>\n",
       "  <tbody>\n",
       "    <tr>\n",
       "      <th>0</th>\n",
       "      <td>high_STD</td>\n",
       "      <td>0</td>\n",
       "      <td>24180</td>\n",
       "      <td>24364</td>\n",
       "      <td>99.2</td>\n",
       "    </tr>\n",
       "    <tr>\n",
       "      <th>1</th>\n",
       "      <td>high_STD</td>\n",
       "      <td>1</td>\n",
       "      <td>184</td>\n",
       "      <td>24364</td>\n",
       "      <td>0.8</td>\n",
       "    </tr>\n",
       "    <tr>\n",
       "      <th>2</th>\n",
       "      <td>low_STD</td>\n",
       "      <td>0</td>\n",
       "      <td>6658</td>\n",
       "      <td>6738</td>\n",
       "      <td>98.8</td>\n",
       "    </tr>\n",
       "    <tr>\n",
       "      <th>3</th>\n",
       "      <td>low_STD</td>\n",
       "      <td>1</td>\n",
       "      <td>80</td>\n",
       "      <td>6738</td>\n",
       "      <td>1.2</td>\n",
       "    </tr>\n",
       "    <tr>\n",
       "      <th>4</th>\n",
       "      <td>middle_STD</td>\n",
       "      <td>0</td>\n",
       "      <td>1027746</td>\n",
       "      <td>1033650</td>\n",
       "      <td>99.4</td>\n",
       "    </tr>\n",
       "    <tr>\n",
       "      <th>5</th>\n",
       "      <td>middle_STD</td>\n",
       "      <td>1</td>\n",
       "      <td>5904</td>\n",
       "      <td>1033650</td>\n",
       "      <td>0.6</td>\n",
       "    </tr>\n",
       "  </tbody>\n",
       "</table>\n",
       "</div>"
      ],
      "text/plain": [
       "  2.25STD_Range  has_co  ORD_ORDER_ID    TOTAL  Dis.[%]\n",
       "0      high_STD       0         24180    24364     99.2\n",
       "1      high_STD       1           184    24364      0.8\n",
       "2       low_STD       0          6658     6738     98.8\n",
       "3       low_STD       1            80     6738      1.2\n",
       "4    middle_STD       0       1027746  1033650     99.4\n",
       "5    middle_STD       1          5904  1033650      0.6"
      ]
     },
     "execution_count": 85,
     "metadata": {},
     "output_type": "execute_result"
    }
   ],
   "source": [
    "gb1=df_1.groupby(['2.25STD_Range','has_co']).count()\n",
    "gb1=gb1.reset_index()\n",
    "\n",
    "gb2=gb1[['2.25STD_Range','ORD_ORDER_ID']].groupby(['2.25STD_Range']).sum()\n",
    "gb2=gb2.reset_index()\n",
    "gb2['TOTAL']=gb2['ORD_ORDER_ID']\n",
    "gb2=gb2[['2.25STD_Range','TOTAL']]\n",
    "\n",
    "gb3 = pd.merge(left = gb1, right = gb2,\n",
    "                how = 'inner',\n",
    "                left_on='2.25STD_Range', right_on='2.25STD_Range')\n",
    "\n",
    "gb3['Dis.[%]']=(gb3['ORD_ORDER_ID']/gb3['TOTAL'])*100\n",
    "gb3['Dis.[%]']=gb3['Dis.[%]'].round(decimals=1)\n",
    "\n",
    "gb3"
   ]
  },
  {
   "cell_type": "code",
   "execution_count": 86,
   "metadata": {},
   "outputs": [
    {
     "data": {
      "image/png": "[encoded data removed]",
      "text/plain": [
       "<Figure size 432x288 with 1 Axes>"
      ]
     },
     "metadata": {
      "needs_background": "light"
     },
     "output_type": "display_data"
    }
   ],
   "source": [
    "sns.histplot(\n",
    "            data=df_1,\n",
    "            x=\"2.25STD_Range\",\n",
    "            hue=\"has_co\",\n",
    "            multiple=\"dodge\",\n",
    "            shrink=.8\n",
    "            ).set(title='Precio',ylabel='Orders');"
   ]
  },
  {
   "cell_type": "markdown",
   "metadata": {},
   "source": [
    "## Distribution Has Claim"
   ]
  },
  {
   "cell_type": "code",
   "execution_count": 87,
   "metadata": {},
   "outputs": [],
   "source": [
    "df_1=df_s[['2.25STD_Range','has_claim_seller','ORD_ORDER_ID']]"
   ]
  },
  {
   "cell_type": "code",
   "execution_count": 88,
   "metadata": {},
   "outputs": [
    {
     "data": {
      "text/html": [
       "<div>\n",
       "<style scoped>\n",
       "    .dataframe tbody tr th:only-of-type {\n",
       "        vertical-align: middle;\n",
       "    }\n",
       "\n",
       "    .dataframe tbody tr th {\n",
       "        vertical-align: top;\n",
       "    }\n",
       "\n",
       "    .dataframe thead th {\n",
       "        text-align: right;\n",
       "    }\n",
       "</style>\n",
       "<table border=\"1\" class=\"dataframe\">\n",
       "  <thead>\n",
       "    <tr style=\"text-align: right;\">\n",
       "      <th></th>\n",
       "      <th>2.25STD_Range</th>\n",
       "      <th>has_claim_seller</th>\n",
       "      <th>ORD_ORDER_ID</th>\n",
       "      <th>TOTAL</th>\n",
       "      <th>Dis.[%]</th>\n",
       "    </tr>\n",
       "  </thead>\n",
       "  <tbody>\n",
       "    <tr>\n",
       "      <th>0</th>\n",
       "      <td>high_STD</td>\n",
       "      <td>0</td>\n",
       "      <td>21839</td>\n",
       "      <td>24364</td>\n",
       "      <td>89.6</td>\n",
       "    </tr>\n",
       "    <tr>\n",
       "      <th>1</th>\n",
       "      <td>high_STD</td>\n",
       "      <td>1</td>\n",
       "      <td>2525</td>\n",
       "      <td>24364</td>\n",
       "      <td>10.4</td>\n",
       "    </tr>\n",
       "    <tr>\n",
       "      <th>2</th>\n",
       "      <td>low_STD</td>\n",
       "      <td>0</td>\n",
       "      <td>5063</td>\n",
       "      <td>6738</td>\n",
       "      <td>75.1</td>\n",
       "    </tr>\n",
       "    <tr>\n",
       "      <th>3</th>\n",
       "      <td>low_STD</td>\n",
       "      <td>1</td>\n",
       "      <td>1675</td>\n",
       "      <td>6738</td>\n",
       "      <td>24.9</td>\n",
       "    </tr>\n",
       "    <tr>\n",
       "      <th>4</th>\n",
       "      <td>middle_STD</td>\n",
       "      <td>0</td>\n",
       "      <td>944044</td>\n",
       "      <td>1033650</td>\n",
       "      <td>91.3</td>\n",
       "    </tr>\n",
       "    <tr>\n",
       "      <th>5</th>\n",
       "      <td>middle_STD</td>\n",
       "      <td>1</td>\n",
       "      <td>89606</td>\n",
       "      <td>1033650</td>\n",
       "      <td>8.7</td>\n",
       "    </tr>\n",
       "  </tbody>\n",
       "</table>\n",
       "</div>"
      ],
      "text/plain": [
       "  2.25STD_Range  has_claim_seller  ORD_ORDER_ID    TOTAL  Dis.[%]\n",
       "0      high_STD                 0         21839    24364     89.6\n",
       "1      high_STD                 1          2525    24364     10.4\n",
       "2       low_STD                 0          5063     6738     75.1\n",
       "3       low_STD                 1          1675     6738     24.9\n",
       "4    middle_STD                 0        944044  1033650     91.3\n",
       "5    middle_STD                 1         89606  1033650      8.7"
      ]
     },
     "execution_count": 88,
     "metadata": {},
     "output_type": "execute_result"
    }
   ],
   "source": [
    "gb1=df_1.groupby(['2.25STD_Range','has_claim_seller']).count()\n",
    "gb1=gb1.reset_index()\n",
    "\n",
    "gb2=gb1[['2.25STD_Range','ORD_ORDER_ID']].groupby(['2.25STD_Range']).sum()\n",
    "gb2=gb2.reset_index()\n",
    "gb2['TOTAL']=gb2['ORD_ORDER_ID']\n",
    "gb2=gb2[['2.25STD_Range','TOTAL']]\n",
    "\n",
    "gb3 = pd.merge(left = gb1, right = gb2,\n",
    "                how = 'inner',\n",
    "                left_on='2.25STD_Range', right_on='2.25STD_Range')\n",
    "\n",
    "gb3['Dis.[%]']=(gb3['ORD_ORDER_ID']/gb3['TOTAL'])*100\n",
    "gb3['Dis.[%]']=gb3['Dis.[%]'].round(decimals=1)\n",
    "\n",
    "gb3"
   ]
  },
  {
   "cell_type": "code",
   "execution_count": 89,
   "metadata": {},
   "outputs": [
    {
     "data": {
      "image/png": "[encoded data removed]",
      "text/plain": [
       "<Figure size 432x288 with 1 Axes>"
      ]
     },
     "metadata": {
      "needs_background": "light"
     },
     "output_type": "display_data"
    }
   ],
   "source": [
    "sns.histplot(\n",
    "            data=df_1,\n",
    "            x=\"2.25STD_Range\",\n",
    "            hue=\"has_claim_seller\",\n",
    "            multiple=\"dodge\",\n",
    "            shrink=.8\n",
    "            ).set(title='Precio',ylabel='Orders');"
   ]
  },
  {
   "cell_type": "markdown",
   "metadata": {},
   "source": [
    "## Distribution is Refund"
   ]
  },
  {
   "cell_type": "code",
   "execution_count": 90,
   "metadata": {},
   "outputs": [],
   "source": [
    "df_1=df_s[['2.25STD_Range','is_refund','ORD_ORDER_ID']]"
   ]
  },
  {
   "cell_type": "code",
   "execution_count": 91,
   "metadata": {},
   "outputs": [
    {
     "data": {
      "text/html": [
       "<div>\n",
       "<style scoped>\n",
       "    .dataframe tbody tr th:only-of-type {\n",
       "        vertical-align: middle;\n",
       "    }\n",
       "\n",
       "    .dataframe tbody tr th {\n",
       "        vertical-align: top;\n",
       "    }\n",
       "\n",
       "    .dataframe thead th {\n",
       "        text-align: right;\n",
       "    }\n",
       "</style>\n",
       "<table border=\"1\" class=\"dataframe\">\n",
       "  <thead>\n",
       "    <tr style=\"text-align: right;\">\n",
       "      <th></th>\n",
       "      <th>2.25STD_Range</th>\n",
       "      <th>is_refund</th>\n",
       "      <th>ORD_ORDER_ID</th>\n",
       "      <th>TOTAL</th>\n",
       "      <th>Dis.[%]</th>\n",
       "    </tr>\n",
       "  </thead>\n",
       "  <tbody>\n",
       "    <tr>\n",
       "      <th>0</th>\n",
       "      <td>high_STD</td>\n",
       "      <td>0.0</td>\n",
       "      <td>21793</td>\n",
       "      <td>24364</td>\n",
       "      <td>89.4</td>\n",
       "    </tr>\n",
       "    <tr>\n",
       "      <th>1</th>\n",
       "      <td>high_STD</td>\n",
       "      <td>1.0</td>\n",
       "      <td>2571</td>\n",
       "      <td>24364</td>\n",
       "      <td>10.6</td>\n",
       "    </tr>\n",
       "    <tr>\n",
       "      <th>2</th>\n",
       "      <td>low_STD</td>\n",
       "      <td>0.0</td>\n",
       "      <td>4736</td>\n",
       "      <td>6735</td>\n",
       "      <td>70.3</td>\n",
       "    </tr>\n",
       "    <tr>\n",
       "      <th>3</th>\n",
       "      <td>low_STD</td>\n",
       "      <td>1.0</td>\n",
       "      <td>1999</td>\n",
       "      <td>6735</td>\n",
       "      <td>29.7</td>\n",
       "    </tr>\n",
       "    <tr>\n",
       "      <th>4</th>\n",
       "      <td>middle_STD</td>\n",
       "      <td>0.0</td>\n",
       "      <td>947223</td>\n",
       "      <td>1033636</td>\n",
       "      <td>91.6</td>\n",
       "    </tr>\n",
       "    <tr>\n",
       "      <th>5</th>\n",
       "      <td>middle_STD</td>\n",
       "      <td>1.0</td>\n",
       "      <td>86413</td>\n",
       "      <td>1033636</td>\n",
       "      <td>8.4</td>\n",
       "    </tr>\n",
       "  </tbody>\n",
       "</table>\n",
       "</div>"
      ],
      "text/plain": [
       "  2.25STD_Range  is_refund  ORD_ORDER_ID    TOTAL  Dis.[%]\n",
       "0      high_STD        0.0         21793    24364     89.4\n",
       "1      high_STD        1.0          2571    24364     10.6\n",
       "2       low_STD        0.0          4736     6735     70.3\n",
       "3       low_STD        1.0          1999     6735     29.7\n",
       "4    middle_STD        0.0        947223  1033636     91.6\n",
       "5    middle_STD        1.0         86413  1033636      8.4"
      ]
     },
     "execution_count": 91,
     "metadata": {},
     "output_type": "execute_result"
    }
   ],
   "source": [
    "gb1=df_1.groupby(['2.25STD_Range','is_refund']).count()\n",
    "gb1=gb1.reset_index()\n",
    "\n",
    "gb2=gb1[['2.25STD_Range','ORD_ORDER_ID']].groupby(['2.25STD_Range']).sum()\n",
    "gb2=gb2.reset_index()\n",
    "gb2['TOTAL']=gb2['ORD_ORDER_ID']\n",
    "gb2=gb2[['2.25STD_Range','TOTAL']]\n",
    "\n",
    "gb3 = pd.merge(left = gb1, right = gb2,\n",
    "                how = 'inner',\n",
    "                left_on='2.25STD_Range', right_on='2.25STD_Range')\n",
    "\n",
    "gb3['Dis.[%]']=(gb3['ORD_ORDER_ID']/gb3['TOTAL'])*100\n",
    "gb3['Dis.[%]']=gb3['Dis.[%]'].round(decimals=1)\n",
    "\n",
    "gb3"
   ]
  },
  {
   "cell_type": "code",
   "execution_count": 92,
   "metadata": {},
   "outputs": [
    {
     "data": {
      "image/png": "[encoded data removed]",
      "text/plain": [
       "<Figure size 432x288 with 1 Axes>"
      ]
     },
     "metadata": {
      "needs_background": "light"
     },
     "output_type": "display_data"
    }
   ],
   "source": [
    "sns.histplot(\n",
    "            data=df_1,\n",
    "            x=\"2.25STD_Range\",\n",
    "            hue=\"is_refund\",\n",
    "            multiple=\"dodge\",\n",
    "            shrink=.8\n",
    "            ).set(title='Precio',ylabel='Orders');"
   ]
  },
  {
   "cell_type": "markdown",
   "metadata": {},
   "source": [
    "## Distribution Active Items"
   ]
  },
  {
   "cell_type": "code",
   "execution_count": 93,
   "metadata": {},
   "outputs": [],
   "source": [
    "df_1=df_s[['2.25STD_Range','active_item','ORD_ORDER_ID']]"
   ]
  },
  {
   "cell_type": "code",
   "execution_count": 94,
   "metadata": {},
   "outputs": [
    {
     "data": {
      "text/html": [
       "<div>\n",
       "<style scoped>\n",
       "    .dataframe tbody tr th:only-of-type {\n",
       "        vertical-align: middle;\n",
       "    }\n",
       "\n",
       "    .dataframe tbody tr th {\n",
       "        vertical-align: top;\n",
       "    }\n",
       "\n",
       "    .dataframe thead th {\n",
       "        text-align: right;\n",
       "    }\n",
       "</style>\n",
       "<table border=\"1\" class=\"dataframe\">\n",
       "  <thead>\n",
       "    <tr style=\"text-align: right;\">\n",
       "      <th></th>\n",
       "      <th>2.25STD_Range</th>\n",
       "      <th>active_item</th>\n",
       "      <th>ORD_ORDER_ID</th>\n",
       "      <th>TOTAL</th>\n",
       "      <th>Dis.[%]</th>\n",
       "    </tr>\n",
       "  </thead>\n",
       "  <tbody>\n",
       "    <tr>\n",
       "      <th>0</th>\n",
       "      <td>high_STD</td>\n",
       "      <td>0</td>\n",
       "      <td>12147</td>\n",
       "      <td>24364</td>\n",
       "      <td>49.9</td>\n",
       "    </tr>\n",
       "    <tr>\n",
       "      <th>1</th>\n",
       "      <td>high_STD</td>\n",
       "      <td>1</td>\n",
       "      <td>12217</td>\n",
       "      <td>24364</td>\n",
       "      <td>50.1</td>\n",
       "    </tr>\n",
       "    <tr>\n",
       "      <th>2</th>\n",
       "      <td>low_STD</td>\n",
       "      <td>0</td>\n",
       "      <td>5123</td>\n",
       "      <td>6738</td>\n",
       "      <td>76.0</td>\n",
       "    </tr>\n",
       "    <tr>\n",
       "      <th>3</th>\n",
       "      <td>low_STD</td>\n",
       "      <td>1</td>\n",
       "      <td>1615</td>\n",
       "      <td>6738</td>\n",
       "      <td>24.0</td>\n",
       "    </tr>\n",
       "    <tr>\n",
       "      <th>4</th>\n",
       "      <td>middle_STD</td>\n",
       "      <td>0</td>\n",
       "      <td>534862</td>\n",
       "      <td>1033650</td>\n",
       "      <td>51.7</td>\n",
       "    </tr>\n",
       "    <tr>\n",
       "      <th>5</th>\n",
       "      <td>middle_STD</td>\n",
       "      <td>1</td>\n",
       "      <td>498788</td>\n",
       "      <td>1033650</td>\n",
       "      <td>48.3</td>\n",
       "    </tr>\n",
       "  </tbody>\n",
       "</table>\n",
       "</div>"
      ],
      "text/plain": [
       "  2.25STD_Range  active_item  ORD_ORDER_ID    TOTAL  Dis.[%]\n",
       "0      high_STD            0         12147    24364     49.9\n",
       "1      high_STD            1         12217    24364     50.1\n",
       "2       low_STD            0          5123     6738     76.0\n",
       "3       low_STD            1          1615     6738     24.0\n",
       "4    middle_STD            0        534862  1033650     51.7\n",
       "5    middle_STD            1        498788  1033650     48.3"
      ]
     },
     "execution_count": 94,
     "metadata": {},
     "output_type": "execute_result"
    }
   ],
   "source": [
    "gb1=df_1.groupby(['2.25STD_Range','active_item']).count()\n",
    "gb1=gb1.reset_index()\n",
    "\n",
    "gb2=gb1[['2.25STD_Range','ORD_ORDER_ID']].groupby(['2.25STD_Range']).sum()\n",
    "gb2=gb2.reset_index()\n",
    "gb2['TOTAL']=gb2['ORD_ORDER_ID']\n",
    "gb2=gb2[['2.25STD_Range','TOTAL']]\n",
    "\n",
    "gb3 = pd.merge(left = gb1, right = gb2,\n",
    "                how = 'inner',\n",
    "                left_on='2.25STD_Range', right_on='2.25STD_Range')\n",
    "\n",
    "gb3['Dis.[%]']=(gb3['ORD_ORDER_ID']/gb3['TOTAL'])*100\n",
    "gb3['Dis.[%]']=gb3['Dis.[%]'].round(decimals=1)\n",
    "\n",
    "gb3"
   ]
  },
  {
   "cell_type": "code",
   "execution_count": 95,
   "metadata": {},
   "outputs": [
    {
     "data": {
      "image/png": "[encoded data removed]",
      "text/plain": [
       "<Figure size 432x288 with 1 Axes>"
      ]
     },
     "metadata": {
      "needs_background": "light"
     },
     "output_type": "display_data"
    }
   ],
   "source": [
    "sns.histplot(\n",
    "            data=df_1,\n",
    "            x=\"2.25STD_Range\",\n",
    "            hue=\"active_item\",\n",
    "            multiple=\"dodge\",\n",
    "            shrink=.8\n",
    "            ).set(title='Precio',ylabel='Orders');"
   ]
  },
  {
   "cell_type": "markdown",
   "metadata": {},
   "source": [
    "## Distribution Trusted Orders"
   ]
  },
  {
   "cell_type": "code",
   "execution_count": 96,
   "metadata": {},
   "outputs": [],
   "source": [
    "df_1=df_s[['2.25STD_Range','order_trusted','ORD_ORDER_ID']]"
   ]
  },
  {
   "cell_type": "code",
   "execution_count": 97,
   "metadata": {},
   "outputs": [
    {
     "data": {
      "text/html": [
       "<div>\n",
       "<style scoped>\n",
       "    .dataframe tbody tr th:only-of-type {\n",
       "        vertical-align: middle;\n",
       "    }\n",
       "\n",
       "    .dataframe tbody tr th {\n",
       "        vertical-align: top;\n",
       "    }\n",
       "\n",
       "    .dataframe thead th {\n",
       "        text-align: right;\n",
       "    }\n",
       "</style>\n",
       "<table border=\"1\" class=\"dataframe\">\n",
       "  <thead>\n",
       "    <tr style=\"text-align: right;\">\n",
       "      <th></th>\n",
       "      <th>2.25STD_Range</th>\n",
       "      <th>order_trusted</th>\n",
       "      <th>ORD_ORDER_ID</th>\n",
       "      <th>TOTAL</th>\n",
       "      <th>Dis.[%]</th>\n",
       "    </tr>\n",
       "  </thead>\n",
       "  <tbody>\n",
       "    <tr>\n",
       "      <th>0</th>\n",
       "      <td>high_STD</td>\n",
       "      <td>0</td>\n",
       "      <td>604</td>\n",
       "      <td>24364</td>\n",
       "      <td>2.5</td>\n",
       "    </tr>\n",
       "    <tr>\n",
       "      <th>1</th>\n",
       "      <td>high_STD</td>\n",
       "      <td>1</td>\n",
       "      <td>23760</td>\n",
       "      <td>24364</td>\n",
       "      <td>97.5</td>\n",
       "    </tr>\n",
       "    <tr>\n",
       "      <th>2</th>\n",
       "      <td>low_STD</td>\n",
       "      <td>0</td>\n",
       "      <td>1785</td>\n",
       "      <td>6738</td>\n",
       "      <td>26.5</td>\n",
       "    </tr>\n",
       "    <tr>\n",
       "      <th>3</th>\n",
       "      <td>low_STD</td>\n",
       "      <td>1</td>\n",
       "      <td>4953</td>\n",
       "      <td>6738</td>\n",
       "      <td>73.5</td>\n",
       "    </tr>\n",
       "    <tr>\n",
       "      <th>4</th>\n",
       "      <td>middle_STD</td>\n",
       "      <td>0</td>\n",
       "      <td>18955</td>\n",
       "      <td>1033650</td>\n",
       "      <td>1.8</td>\n",
       "    </tr>\n",
       "    <tr>\n",
       "      <th>5</th>\n",
       "      <td>middle_STD</td>\n",
       "      <td>1</td>\n",
       "      <td>1014695</td>\n",
       "      <td>1033650</td>\n",
       "      <td>98.2</td>\n",
       "    </tr>\n",
       "  </tbody>\n",
       "</table>\n",
       "</div>"
      ],
      "text/plain": [
       "  2.25STD_Range  order_trusted  ORD_ORDER_ID    TOTAL  Dis.[%]\n",
       "0      high_STD              0           604    24364      2.5\n",
       "1      high_STD              1         23760    24364     97.5\n",
       "2       low_STD              0          1785     6738     26.5\n",
       "3       low_STD              1          4953     6738     73.5\n",
       "4    middle_STD              0         18955  1033650      1.8\n",
       "5    middle_STD              1       1014695  1033650     98.2"
      ]
     },
     "execution_count": 97,
     "metadata": {},
     "output_type": "execute_result"
    }
   ],
   "source": [
    "gb1=df_1.groupby(['2.25STD_Range','order_trusted']).count()\n",
    "gb1=gb1.reset_index()\n",
    "\n",
    "gb2=gb1[['2.25STD_Range','ORD_ORDER_ID']].groupby(['2.25STD_Range']).sum()\n",
    "gb2=gb2.reset_index()\n",
    "gb2['TOTAL']=gb2['ORD_ORDER_ID']\n",
    "gb2=gb2[['2.25STD_Range','TOTAL']]\n",
    "\n",
    "gb3 = pd.merge(left = gb1, right = gb2,\n",
    "                how = 'inner',\n",
    "                left_on='2.25STD_Range', right_on='2.25STD_Range')\n",
    "\n",
    "gb3['Dis.[%]']=(gb3['ORD_ORDER_ID']/gb3['TOTAL'])*100\n",
    "gb3['Dis.[%]']=gb3['Dis.[%]'].round(decimals=1)\n",
    "\n",
    "gb3"
   ]
  },
  {
   "cell_type": "code",
   "execution_count": 98,
   "metadata": {},
   "outputs": [
    {
     "data": {
      "image/png": "[encoded data removed]",
      "text/plain": [
       "<Figure size 432x288 with 1 Axes>"
      ]
     },
     "metadata": {
      "needs_background": "light"
     },
     "output_type": "display_data"
    }
   ],
   "source": [
    "sns.histplot(\n",
    "            data=df_1,\n",
    "            x=\"2.25STD_Range\",\n",
    "            hue=\"order_trusted\",\n",
    "            multiple=\"dodge\",\n",
    "            shrink=.8\n",
    "            ).set(title='Precio',ylabel='Orders');"
   ]
  },
  {
   "cell_type": "markdown",
   "metadata": {},
   "source": [
    "## Keep columns of interest"
   ]
  },
  {
   "cell_type": "code",
   "execution_count": 99,
   "metadata": {},
   "outputs": [
    {
     "data": {
      "text/plain": [
       "Index(['CTLG_PROD_ID', 'ORD_ORDER_ID', 'CUS_CUST_ID_SEL', 'ITE_ITEM_ID',\n",
       "       'ITE_BASE_CURRENT_PRICE', 'active_item', 'flag_bad_item',\n",
       "       'flag_bad_user', 'order_trusted', 'is_buybox', 'has_bpp',\n",
       "       'has_claim_seller', 'is_refund', 'bpp_cashout_final', 'bad_order',\n",
       "       'mean', 'STDx1', 'STDx1.25', 'STDx1.5', 'STDx1.75', 'STDx2', 'STDx2.25',\n",
       "       'STDx2.5', 'STDx2.75', 'STDx3', 'media-1std', 'media-1.25std',\n",
       "       'media-1.5std', 'media-1.75std', 'media-2std', 'media-2.25std',\n",
       "       'media-2.5std', 'media-2.75std', 'media-3std', 'Low_1STD',\n",
       "       'Low_1.25STD', 'Low_1.5STD', 'Low_1.75STD', 'Low_2STD', 'Low_2.25STD',\n",
       "       'Low_2.5STD', 'Low_2.75STD', 'Low_3STD', 'media+1std', 'media+1.25std',\n",
       "       'media+1.5std', 'media+1.75std', 'media+2std', 'media+2.25std',\n",
       "       'media+2.5std', 'media+2.75std', 'media+3std', 'High_1STD',\n",
       "       'High_1.25STD', 'High_1.5STD', 'High_1.75STD', 'High_2STD',\n",
       "       'High_2.25STD', 'High_2.5STD', 'High_2.75STD', 'High_3STD',\n",
       "       '1STD_Range', '1.25STD_Range', '1.5STD_Range', '1.75STD_Range',\n",
       "       '2STD_Range', '2.25STD_Range', '2.5STD_Range', '2.75STD_Range',\n",
       "       '3STD_Range'],\n",
       "      dtype='object')"
      ]
     },
     "execution_count": 99,
     "metadata": {},
     "output_type": "execute_result"
    }
   ],
   "source": [
    "df_s.columns"
   ]
  },
  {
   "cell_type": "code",
   "execution_count": 100,
   "metadata": {},
   "outputs": [],
   "source": [
    "df_f = df_s.drop(columns=['STDx1', 'STDx1.25', 'STDx1.5', 'STDx1.75', 'STDx2', 'STDx2.25',\n",
    "       'STDx2.5', 'STDx2.75', 'STDx3', 'media-1std', 'media-1.25std',\n",
    "       'media-1.5std', 'media-1.75std', 'media-2std', 'media-2.25std',\n",
    "       'media-2.5std', 'media-2.75std', 'media-3std', 'Low_1STD',\n",
    "       'Low_1.25STD', 'Low_1.5STD', 'Low_1.75STD', 'Low_2STD', 'Low_2.25STD',\n",
    "       'Low_2.5STD', 'Low_2.75STD', 'Low_3STD', 'media+1std', 'media+1.25std',\n",
    "       'media+1.5std', 'media+1.75std', 'media+2std', 'media+2.25std',\n",
    "       'media+2.5std', 'media+2.75std', 'media+3std', 'High_1STD',\n",
    "       'High_1.25STD', 'High_1.5STD', 'High_1.75STD', 'High_2STD',\n",
    "       'High_2.25STD', 'High_2.5STD', 'High_2.75STD', 'High_3STD',\n",
    "       '1STD_Range', '1.25STD_Range', '1.5STD_Range', '1.75STD_Range',\n",
    "       '2STD_Range', '2.5STD_Range', '2.75STD_Range',\n",
    "       '3STD_Range', 'ORD_ORDER_ID', 'order_trusted', 'is_buybox', 'has_bpp',\n",
    "       'has_claim_seller', 'is_refund', 'bpp_cashout_final', 'bad_order'])\n",
    "                            "
   ]
  },
  {
   "cell_type": "code",
   "execution_count": 101,
   "metadata": {},
   "outputs": [
    {
     "data": {
      "text/plain": [
       "Index(['CTLG_PROD_ID', 'CUS_CUST_ID_SEL', 'ITE_ITEM_ID',\n",
       "       'ITE_BASE_CURRENT_PRICE', 'active_item', 'flag_bad_item',\n",
       "       'flag_bad_user', 'mean', '2.25STD_Range'],\n",
       "      dtype='object')"
      ]
     },
     "execution_count": 101,
     "metadata": {},
     "output_type": "execute_result"
    }
   ],
   "source": [
    "df_f.columns"
   ]
  },
  {
   "cell_type": "code",
   "execution_count": 102,
   "metadata": {},
   "outputs": [
    {
     "data": {
      "text/html": [
       "<div>\n",
       "<style scoped>\n",
       "    .dataframe tbody tr th:only-of-type {\n",
       "        vertical-align: middle;\n",
       "    }\n",
       "\n",
       "    .dataframe tbody tr th {\n",
       "        vertical-align: top;\n",
       "    }\n",
       "\n",
       "    .dataframe thead th {\n",
       "        text-align: right;\n",
       "    }\n",
       "</style>\n",
       "<table border=\"1\" class=\"dataframe\">\n",
       "  <thead>\n",
       "    <tr style=\"text-align: right;\">\n",
       "      <th></th>\n",
       "      <th>CTLG_PROD_ID</th>\n",
       "      <th>CUS_CUST_ID_SEL</th>\n",
       "      <th>ITE_ITEM_ID</th>\n",
       "      <th>ITE_BASE_CURRENT_PRICE</th>\n",
       "      <th>active_item</th>\n",
       "      <th>flag_bad_item</th>\n",
       "      <th>flag_bad_user</th>\n",
       "      <th>mean</th>\n",
       "      <th>2.25STD_Range</th>\n",
       "    </tr>\n",
       "  </thead>\n",
       "  <tbody>\n",
       "    <tr>\n",
       "      <th>714703</th>\n",
       "      <td>15943171</td>\n",
       "      <td>245718870</td>\n",
       "      <td>1669066494</td>\n",
       "      <td>66.71</td>\n",
       "      <td>1</td>\n",
       "      <td>0</td>\n",
       "      <td>0</td>\n",
       "      <td>77.58</td>\n",
       "      <td>middle_STD</td>\n",
       "    </tr>\n",
       "    <tr>\n",
       "      <th>967430</th>\n",
       "      <td>16999834</td>\n",
       "      <td>89553366</td>\n",
       "      <td>1821410428</td>\n",
       "      <td>47.65</td>\n",
       "      <td>1</td>\n",
       "      <td>0</td>\n",
       "      <td>0</td>\n",
       "      <td>10.22</td>\n",
       "      <td>high_STD</td>\n",
       "    </tr>\n",
       "    <tr>\n",
       "      <th>632544</th>\n",
       "      <td>15754693</td>\n",
       "      <td>497954458</td>\n",
       "      <td>1913770461</td>\n",
       "      <td>11.82</td>\n",
       "      <td>0</td>\n",
       "      <td>0</td>\n",
       "      <td>0</td>\n",
       "      <td>12.74</td>\n",
       "      <td>middle_STD</td>\n",
       "    </tr>\n",
       "    <tr>\n",
       "      <th>580437</th>\n",
       "      <td>15570789</td>\n",
       "      <td>494204060</td>\n",
       "      <td>1884517949</td>\n",
       "      <td>2.34</td>\n",
       "      <td>0</td>\n",
       "      <td>0</td>\n",
       "      <td>0</td>\n",
       "      <td>31.19</td>\n",
       "      <td>low_STD</td>\n",
       "    </tr>\n",
       "    <tr>\n",
       "      <th>619422</th>\n",
       "      <td>15709998</td>\n",
       "      <td>245718870</td>\n",
       "      <td>1606704257</td>\n",
       "      <td>76.93</td>\n",
       "      <td>0</td>\n",
       "      <td>0</td>\n",
       "      <td>0</td>\n",
       "      <td>74.47</td>\n",
       "      <td>middle_STD</td>\n",
       "    </tr>\n",
       "  </tbody>\n",
       "</table>\n",
       "</div>"
      ],
      "text/plain": [
       "        CTLG_PROD_ID  CUS_CUST_ID_SEL  ITE_ITEM_ID  ITE_BASE_CURRENT_PRICE  \\\n",
       "714703      15943171        245718870   1669066494                   66.71   \n",
       "967430      16999834         89553366   1821410428                   47.65   \n",
       "632544      15754693        497954458   1913770461                   11.82   \n",
       "580437      15570789        494204060   1884517949                    2.34   \n",
       "619422      15709998        245718870   1606704257                   76.93   \n",
       "\n",
       "        active_item  flag_bad_item  flag_bad_user   mean 2.25STD_Range  \n",
       "714703            1              0              0  77.58    middle_STD  \n",
       "967430            1              0              0  10.22      high_STD  \n",
       "632544            0              0              0  12.74    middle_STD  \n",
       "580437            0              0              0  31.19       low_STD  \n",
       "619422            0              0              0  74.47    middle_STD  "
      ]
     },
     "execution_count": 102,
     "metadata": {},
     "output_type": "execute_result"
    }
   ],
   "source": [
    "df_f.sample(5)"
   ]
  },
  {
   "cell_type": "markdown",
   "metadata": {},
   "source": [
    "## Delate Duplicate Items"
   ]
  },
  {
   "cell_type": "code",
   "execution_count": 103,
   "metadata": {},
   "outputs": [
    {
     "data": {
      "text/plain": [
       "(1064752, 9)"
      ]
     },
     "execution_count": 103,
     "metadata": {},
     "output_type": "execute_result"
    }
   ],
   "source": [
    "df_f.shape"
   ]
  },
  {
   "cell_type": "code",
   "execution_count": 104,
   "metadata": {},
   "outputs": [],
   "source": [
    "df_f = df_f.drop_duplicates(subset=['ITE_ITEM_ID'])"
   ]
  },
  {
   "cell_type": "code",
   "execution_count": 105,
   "metadata": {},
   "outputs": [
    {
     "data": {
      "text/plain": [
       "(113858, 9)"
      ]
     },
     "execution_count": 105,
     "metadata": {},
     "output_type": "execute_result"
    }
   ],
   "source": [
    "df_f.shape"
   ]
  },
  {
   "cell_type": "markdown",
   "metadata": {},
   "source": [
    "## Active Items"
   ]
  },
  {
   "cell_type": "code",
   "execution_count": 106,
   "metadata": {},
   "outputs": [],
   "source": [
    "df_1=df_f[['2.25STD_Range','active_item','ITE_ITEM_ID']]"
   ]
  },
  {
   "cell_type": "code",
   "execution_count": 107,
   "metadata": {},
   "outputs": [
    {
     "data": {
      "text/html": [
       "<div>\n",
       "<style scoped>\n",
       "    .dataframe tbody tr th:only-of-type {\n",
       "        vertical-align: middle;\n",
       "    }\n",
       "\n",
       "    .dataframe tbody tr th {\n",
       "        vertical-align: top;\n",
       "    }\n",
       "\n",
       "    .dataframe thead th {\n",
       "        text-align: right;\n",
       "    }\n",
       "</style>\n",
       "<table border=\"1\" class=\"dataframe\">\n",
       "  <thead>\n",
       "    <tr style=\"text-align: right;\">\n",
       "      <th></th>\n",
       "      <th>2.25STD_Range</th>\n",
       "      <th>active_item</th>\n",
       "      <th>ITE_ITEM_ID</th>\n",
       "      <th>TOTAL</th>\n",
       "      <th>Dis.[%]</th>\n",
       "    </tr>\n",
       "  </thead>\n",
       "  <tbody>\n",
       "    <tr>\n",
       "      <th>0</th>\n",
       "      <td>high_STD</td>\n",
       "      <td>0</td>\n",
       "      <td>3459</td>\n",
       "      <td>7435</td>\n",
       "      <td>46.5</td>\n",
       "    </tr>\n",
       "    <tr>\n",
       "      <th>1</th>\n",
       "      <td>high_STD</td>\n",
       "      <td>1</td>\n",
       "      <td>3976</td>\n",
       "      <td>7435</td>\n",
       "      <td>53.5</td>\n",
       "    </tr>\n",
       "    <tr>\n",
       "      <th>2</th>\n",
       "      <td>low_STD</td>\n",
       "      <td>0</td>\n",
       "      <td>2372</td>\n",
       "      <td>2873</td>\n",
       "      <td>82.6</td>\n",
       "    </tr>\n",
       "    <tr>\n",
       "      <th>3</th>\n",
       "      <td>low_STD</td>\n",
       "      <td>1</td>\n",
       "      <td>501</td>\n",
       "      <td>2873</td>\n",
       "      <td>17.4</td>\n",
       "    </tr>\n",
       "    <tr>\n",
       "      <th>4</th>\n",
       "      <td>middle_STD</td>\n",
       "      <td>0</td>\n",
       "      <td>63787</td>\n",
       "      <td>103550</td>\n",
       "      <td>61.6</td>\n",
       "    </tr>\n",
       "    <tr>\n",
       "      <th>5</th>\n",
       "      <td>middle_STD</td>\n",
       "      <td>1</td>\n",
       "      <td>39763</td>\n",
       "      <td>103550</td>\n",
       "      <td>38.4</td>\n",
       "    </tr>\n",
       "  </tbody>\n",
       "</table>\n",
       "</div>"
      ],
      "text/plain": [
       "  2.25STD_Range  active_item  ITE_ITEM_ID   TOTAL  Dis.[%]\n",
       "0      high_STD            0         3459    7435     46.5\n",
       "1      high_STD            1         3976    7435     53.5\n",
       "2       low_STD            0         2372    2873     82.6\n",
       "3       low_STD            1          501    2873     17.4\n",
       "4    middle_STD            0        63787  103550     61.6\n",
       "5    middle_STD            1        39763  103550     38.4"
      ]
     },
     "execution_count": 107,
     "metadata": {},
     "output_type": "execute_result"
    }
   ],
   "source": [
    "gb1=df_1.groupby(['2.25STD_Range','active_item']).count()\n",
    "gb1=gb1.reset_index()\n",
    "\n",
    "gb2=gb1[['2.25STD_Range','ITE_ITEM_ID']].groupby(['2.25STD_Range']).sum()\n",
    "gb2=gb2.reset_index()\n",
    "gb2['TOTAL']=gb2['ITE_ITEM_ID']\n",
    "gb2=gb2[['2.25STD_Range','TOTAL']]\n",
    "\n",
    "gb3 = pd.merge(left = gb1, right = gb2,\n",
    "                how = 'inner',\n",
    "                left_on='2.25STD_Range', right_on='2.25STD_Range')\n",
    "\n",
    "gb3['Dis.[%]']=(gb3['ITE_ITEM_ID']/gb3['TOTAL'])*100\n",
    "gb3['Dis.[%]']=gb3['Dis.[%]'].round(decimals=1)\n",
    "\n",
    "gb3"
   ]
  },
  {
   "cell_type": "markdown",
   "metadata": {},
   "source": [
    "## Blocked Items"
   ]
  },
  {
   "cell_type": "code",
   "execution_count": 108,
   "metadata": {},
   "outputs": [],
   "source": [
    "df_1=df_f[['2.25STD_Range','flag_bad_item','ITE_ITEM_ID']]"
   ]
  },
  {
   "cell_type": "code",
   "execution_count": 109,
   "metadata": {},
   "outputs": [
    {
     "data": {
      "text/html": [
       "<div>\n",
       "<style scoped>\n",
       "    .dataframe tbody tr th:only-of-type {\n",
       "        vertical-align: middle;\n",
       "    }\n",
       "\n",
       "    .dataframe tbody tr th {\n",
       "        vertical-align: top;\n",
       "    }\n",
       "\n",
       "    .dataframe thead th {\n",
       "        text-align: right;\n",
       "    }\n",
       "</style>\n",
       "<table border=\"1\" class=\"dataframe\">\n",
       "  <thead>\n",
       "    <tr style=\"text-align: right;\">\n",
       "      <th></th>\n",
       "      <th>2.25STD_Range</th>\n",
       "      <th>flag_bad_item</th>\n",
       "      <th>ITE_ITEM_ID</th>\n",
       "      <th>TOTAL</th>\n",
       "      <th>Dis.[%]</th>\n",
       "    </tr>\n",
       "  </thead>\n",
       "  <tbody>\n",
       "    <tr>\n",
       "      <th>0</th>\n",
       "      <td>high_STD</td>\n",
       "      <td>0</td>\n",
       "      <td>7121</td>\n",
       "      <td>7435</td>\n",
       "      <td>95.8</td>\n",
       "    </tr>\n",
       "    <tr>\n",
       "      <th>1</th>\n",
       "      <td>high_STD</td>\n",
       "      <td>1</td>\n",
       "      <td>314</td>\n",
       "      <td>7435</td>\n",
       "      <td>4.2</td>\n",
       "    </tr>\n",
       "    <tr>\n",
       "      <th>2</th>\n",
       "      <td>low_STD</td>\n",
       "      <td>0</td>\n",
       "      <td>2160</td>\n",
       "      <td>2873</td>\n",
       "      <td>75.2</td>\n",
       "    </tr>\n",
       "    <tr>\n",
       "      <th>3</th>\n",
       "      <td>low_STD</td>\n",
       "      <td>1</td>\n",
       "      <td>713</td>\n",
       "      <td>2873</td>\n",
       "      <td>24.8</td>\n",
       "    </tr>\n",
       "    <tr>\n",
       "      <th>4</th>\n",
       "      <td>middle_STD</td>\n",
       "      <td>0</td>\n",
       "      <td>96643</td>\n",
       "      <td>103550</td>\n",
       "      <td>93.3</td>\n",
       "    </tr>\n",
       "    <tr>\n",
       "      <th>5</th>\n",
       "      <td>middle_STD</td>\n",
       "      <td>1</td>\n",
       "      <td>6907</td>\n",
       "      <td>103550</td>\n",
       "      <td>6.7</td>\n",
       "    </tr>\n",
       "  </tbody>\n",
       "</table>\n",
       "</div>"
      ],
      "text/plain": [
       "  2.25STD_Range  flag_bad_item  ITE_ITEM_ID   TOTAL  Dis.[%]\n",
       "0      high_STD              0         7121    7435     95.8\n",
       "1      high_STD              1          314    7435      4.2\n",
       "2       low_STD              0         2160    2873     75.2\n",
       "3       low_STD              1          713    2873     24.8\n",
       "4    middle_STD              0        96643  103550     93.3\n",
       "5    middle_STD              1         6907  103550      6.7"
      ]
     },
     "execution_count": 109,
     "metadata": {},
     "output_type": "execute_result"
    }
   ],
   "source": [
    "gb1=df_1.groupby(['2.25STD_Range','flag_bad_item']).count()\n",
    "gb1=gb1.reset_index()\n",
    "\n",
    "gb2=gb1[['2.25STD_Range','ITE_ITEM_ID']].groupby(['2.25STD_Range']).sum()\n",
    "gb2=gb2.reset_index()\n",
    "gb2['TOTAL']=gb2['ITE_ITEM_ID']\n",
    "gb2=gb2[['2.25STD_Range','TOTAL']]\n",
    "\n",
    "gb3 = pd.merge(left = gb1, right = gb2,\n",
    "                how = 'inner',\n",
    "                left_on='2.25STD_Range', right_on='2.25STD_Range')\n",
    "\n",
    "gb3['Dis.[%]']=(gb3['ITE_ITEM_ID']/gb3['TOTAL'])*100\n",
    "gb3['Dis.[%]']=gb3['Dis.[%]'].round(decimals=1)\n",
    "\n",
    "gb3"
   ]
  },
  {
   "cell_type": "markdown",
   "metadata": {},
   "source": [
    "## DFs with low_STD"
   ]
  },
  {
   "cell_type": "code",
   "execution_count": 116,
   "metadata": {},
   "outputs": [],
   "source": [
    "ord_tot = df_s.drop(columns=['STDx1', 'STDx1.25', 'STDx1.5', 'STDx1.75', 'STDx2', 'STDx2.25',\n",
    "       'STDx2.5', 'STDx2.75', 'STDx3', 'media-1std', 'media-1.25std',\n",
    "       'media-1.5std', 'media-1.75std', 'media-2std', 'media-2.25std',\n",
    "       'media-2.5std', 'media-2.75std', 'media-3std', 'Low_1STD',\n",
    "       'Low_1.25STD', 'Low_1.5STD', 'Low_1.75STD', 'Low_2STD', 'Low_2.25STD',\n",
    "       'Low_2.5STD', 'Low_2.75STD', 'Low_3STD', 'media+1std', 'media+1.25std',\n",
    "       'media+1.5std', 'media+1.75std', 'media+2std', 'media+2.25std',\n",
    "       'media+2.5std', 'media+2.75std', 'media+3std', 'High_1STD',\n",
    "       'High_1.25STD', 'High_1.5STD', 'High_1.75STD', 'High_2STD',\n",
    "       'High_2.25STD', 'High_2.5STD', 'High_2.75STD', 'High_3STD',\n",
    "       '1STD_Range', '1.25STD_Range', '1.5STD_Range', '1.75STD_Range',\n",
    "       '2STD_Range', '2.5STD_Range', '2.75STD_Range',\n",
    "       '3STD_Range'])"
   ]
  },
  {
   "cell_type": "code",
   "execution_count": 117,
   "metadata": {},
   "outputs": [],
   "source": [
    "ord_low = ord_tot[ord_tot['2.25STD_Range']=='low_STD']"
   ]
  },
  {
   "cell_type": "code",
   "execution_count": 120,
   "metadata": {},
   "outputs": [
    {
     "data": {
      "text/plain": [
       "(6738, 17)"
      ]
     },
     "execution_count": 120,
     "metadata": {},
     "output_type": "execute_result"
    }
   ],
   "source": [
    "ord_low.shape"
   ]
  },
  {
   "cell_type": "code",
   "execution_count": 118,
   "metadata": {},
   "outputs": [],
   "source": [
    "ite_low = df_f[df_f['2.25STD_Range']=='low_STD']"
   ]
  },
  {
   "cell_type": "code",
   "execution_count": 121,
   "metadata": {},
   "outputs": [
    {
     "data": {
      "text/plain": [
       "(2873, 9)"
      ]
     },
     "execution_count": 121,
     "metadata": {},
     "output_type": "execute_result"
    }
   ],
   "source": [
    "ite_low.shape"
   ]
  },
  {
   "cell_type": "markdown",
   "metadata": {},
   "source": [
    "## Orders Grafics"
   ]
  },
  {
   "cell_type": "code",
   "execution_count": 144,
   "metadata": {},
   "outputs": [],
   "source": [
    "df_1=ord_low[['order_trusted','ORD_ORDER_ID']]"
   ]
  },
  {
   "cell_type": "code",
   "execution_count": 146,
   "metadata": {},
   "outputs": [
    {
     "data": {
      "text/html": [
       "<div>\n",
       "<style scoped>\n",
       "    .dataframe tbody tr th:only-of-type {\n",
       "        vertical-align: middle;\n",
       "    }\n",
       "\n",
       "    .dataframe tbody tr th {\n",
       "        vertical-align: top;\n",
       "    }\n",
       "\n",
       "    .dataframe thead th {\n",
       "        text-align: right;\n",
       "    }\n",
       "</style>\n",
       "<table border=\"1\" class=\"dataframe\">\n",
       "  <thead>\n",
       "    <tr style=\"text-align: right;\">\n",
       "      <th></th>\n",
       "      <th>order_trusted</th>\n",
       "      <th>ORD_ORDER_ID</th>\n",
       "      <th>TOTAL</th>\n",
       "      <th>Dis.[%]</th>\n",
       "    </tr>\n",
       "  </thead>\n",
       "  <tbody>\n",
       "    <tr>\n",
       "      <th>0</th>\n",
       "      <td>0</td>\n",
       "      <td>1785</td>\n",
       "      <td>6738</td>\n",
       "      <td>26.5</td>\n",
       "    </tr>\n",
       "    <tr>\n",
       "      <th>1</th>\n",
       "      <td>1</td>\n",
       "      <td>4953</td>\n",
       "      <td>6738</td>\n",
       "      <td>73.5</td>\n",
       "    </tr>\n",
       "  </tbody>\n",
       "</table>\n",
       "</div>"
      ],
      "text/plain": [
       "   order_trusted  ORD_ORDER_ID  TOTAL  Dis.[%]\n",
       "0              0          1785   6738     26.5\n",
       "1              1          4953   6738     73.5"
      ]
     },
     "execution_count": 146,
     "metadata": {},
     "output_type": "execute_result"
    }
   ],
   "source": [
    "gb1=df_1.groupby(['order_trusted']).count()\n",
    "gb1=gb1.reset_index()\n",
    "\n",
    "gb2=gb1[['ORD_ORDER_ID']].sum()\n",
    "gb1['TOTAL']=gb2['ORD_ORDER_ID']\n",
    "\n",
    "gb1['Dis.[%]']=(gb1['ORD_ORDER_ID']/gb1['TOTAL'])*100\n",
    "gb1['Dis.[%]']=gb1['Dis.[%]'].round(decimals=1)\n",
    "\n",
    "gb1"
   ]
  },
  {
   "cell_type": "code",
   "execution_count": 154,
   "metadata": {},
   "outputs": [
    {
     "data": {
      "text/html": [
       "<div>\n",
       "<style scoped>\n",
       "    .dataframe tbody tr th:only-of-type {\n",
       "        vertical-align: middle;\n",
       "    }\n",
       "\n",
       "    .dataframe tbody tr th {\n",
       "        vertical-align: top;\n",
       "    }\n",
       "\n",
       "    .dataframe thead th {\n",
       "        text-align: right;\n",
       "    }\n",
       "</style>\n",
       "<table border=\"1\" class=\"dataframe\">\n",
       "  <thead>\n",
       "    <tr style=\"text-align: right;\">\n",
       "      <th></th>\n",
       "      <th>order_trusted</th>\n",
       "      <th>ORD_ORDER_ID</th>\n",
       "    </tr>\n",
       "  </thead>\n",
       "  <tbody>\n",
       "    <tr>\n",
       "      <th>344</th>\n",
       "      <td>0</td>\n",
       "      <td>4654737288</td>\n",
       "    </tr>\n",
       "    <tr>\n",
       "      <th>359</th>\n",
       "      <td>0</td>\n",
       "      <td>4637796481</td>\n",
       "    </tr>\n",
       "    <tr>\n",
       "      <th>401</th>\n",
       "      <td>1</td>\n",
       "      <td>4614028319</td>\n",
       "    </tr>\n",
       "    <tr>\n",
       "      <th>585</th>\n",
       "      <td>1</td>\n",
       "      <td>4652523894</td>\n",
       "    </tr>\n",
       "    <tr>\n",
       "      <th>588</th>\n",
       "      <td>0</td>\n",
       "      <td>4617575029</td>\n",
       "    </tr>\n",
       "  </tbody>\n",
       "</table>\n",
       "</div>"
      ],
      "text/plain": [
       "     order_trusted  ORD_ORDER_ID\n",
       "344              0    4654737288\n",
       "359              0    4637796481\n",
       "401              1    4614028319\n",
       "585              1    4652523894\n",
       "588              0    4617575029"
      ]
     },
     "execution_count": 154,
     "metadata": {},
     "output_type": "execute_result"
    }
   ],
   "source": [
    "df_1.head()"
   ]
  },
  {
   "cell_type": "code",
   "execution_count": 153,
   "metadata": {},
   "outputs": [
    {
     "data": {
      "image/png": "[encoded data removed]",
      "text/plain": [
       "<Figure size 432x288 with 1 Axes>"
      ]
     },
     "metadata": {
      "needs_background": "light"
     },
     "output_type": "display_data"
    }
   ],
   "source": [
    "sns.histplot(\n",
    "            data=df_1,\n",
    "            x=\"order_trusted\",\n",
    "            multiple=\"dodge\",\n",
    "            shrink= 2\n",
    "            ).set(title='Trusted Orders',ylabel='Orders');"
   ]
  },
  {
   "cell_type": "code",
   "execution_count": 161,
   "metadata": {},
   "outputs": [
    {
     "data": {
      "text/plain": [
       "<AxesSubplot:>"
      ]
     },
     "execution_count": 161,
     "metadata": {},
     "output_type": "execute_result"
    },
    {
     "data": {
      "image/png": "[encoded data removed]",
      "text/plain": [
       "<Figure size 432x288 with 1 Axes>"
      ]
     },
     "metadata": {
      "needs_background": "light"
     },
     "output_type": "display_data"
    }
   ],
   "source": [
    "graf=gb1[['order_trusted','ORD_ORDER_ID']]\n",
    "\n",
    "graf.plot(kind='bar')\n"
   ]
  },
  {
   "cell_type": "code",
   "execution_count": null,
   "metadata": {},
   "outputs": [],
   "source": []
  },
  {
   "cell_type": "code",
   "execution_count": null,
   "metadata": {},
   "outputs": [],
   "source": []
  },
  {
   "cell_type": "code",
   "execution_count": null,
   "metadata": {},
   "outputs": [],
   "source": []
  },
  {
   "cell_type": "markdown",
   "metadata": {},
   "source": [
    "## Export the products IDs"
   ]
  },
  {
   "cell_type": "code",
   "execution_count": 112,
   "metadata": {},
   "outputs": [],
   "source": [
    "#ID=df['CTLG_PROD_ID']\n",
    "#ID.to_csv(r'products_id.csv', index = False)"
   ]
  },
  {
   "cell_type": "code",
   "execution_count": 113,
   "metadata": {},
   "outputs": [],
   "source": [
    "#LAMBDA CON AND\n",
    "#df_ratios['extremos']= df_ratios.apply(lambda x: 'caso1' if x['ratio_recla_1m']> 0.3 and x['ratio_cashout_1m']> 0.3 and x['ratio_ref_1m']> 0.3 and x['ratio_claims_1m']> 0.3 else 'no',axis=1)\n"
   ]
  },
  {
   "cell_type": "code",
   "execution_count": 114,
   "metadata": {},
   "outputs": [],
   "source": [
    "#LAMDA CON IF ANIDADO\n",
    "#df['adicionales']= df.apply(lambda x: 'caso1' if x['gmv_90d']<= 0 else('caso2' if  x['gmv_30d']<=0  else 'no'),axis=1)\n"
   ]
  }
 ],
 "metadata": {
  "kernelspec": {
   "display_name": "Python 3",
   "language": "python",
   "name": "python3"
  },
  "language_info": {
   "codemirror_mode": {
    "name": "ipython",
    "version": 3
   },
   "file_extension": ".py",
   "mimetype": "text/x-python",
   "name": "python",
   "nbconvert_exporter": "python",
   "pygments_lexer": "ipython3",
   "version": "3.8.5"
  }
 },
 "nbformat": 4,
 "nbformat_minor": 4
}
