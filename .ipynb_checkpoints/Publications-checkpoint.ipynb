{
 "cells": [
  {
   "cell_type": "markdown",
   "metadata": {},
   "source": [
    "## Import libraries"
   ]
  },
  {
   "cell_type": "code",
   "execution_count": 1,
   "metadata": {},
   "outputs": [],
   "source": [
    "import pandas as pd\n",
    "import numpy as np\n",
    "import os\n",
    "import matplotlib.pyplot as plt\n",
    "import seaborn as sns\n",
    "from datetime import datetime"
   ]
  },
  {
   "cell_type": "markdown",
   "metadata": {},
   "source": [
    "## Upload Data Base"
   ]
  },
  {
   "cell_type": "code",
   "execution_count": 2,
   "metadata": {},
   "outputs": [],
   "source": [
    "df_ord = pd.read_csv(r'base_publicaciones.csv')"
   ]
  },
  {
   "cell_type": "code",
   "execution_count": 3,
   "metadata": {},
   "outputs": [
    {
     "data": {
      "text/plain": [
       "(869470, 10)"
      ]
     },
     "execution_count": 3,
     "metadata": {},
     "output_type": "execute_result"
    }
   ],
   "source": [
    "df_ord.shape"
   ]
  },
  {
   "cell_type": "code",
   "execution_count": 4,
   "metadata": {},
   "outputs": [
    {
     "data": {
      "text/plain": [
       "Index(['ORD_ORDER_ID', 'ITE_ITEM_ID', 'CTLG_PROD_ID', 'ITE_BASE_CURRENT_PRICE',\n",
       "       'flag_bad_user', 'is_buybox', 'has_bpp', 'has_claim_seller',\n",
       "       'is_refund', 'bpp_cashout_final'],\n",
       "      dtype='object')"
      ]
     },
     "execution_count": 4,
     "metadata": {},
     "output_type": "execute_result"
    }
   ],
   "source": [
    "df_ord.columns"
   ]
  },
  {
   "cell_type": "code",
   "execution_count": 5,
   "metadata": {},
   "outputs": [
    {
     "data": {
      "text/html": [
       "<div>\n",
       "<style scoped>\n",
       "    .dataframe tbody tr th:only-of-type {\n",
       "        vertical-align: middle;\n",
       "    }\n",
       "\n",
       "    .dataframe tbody tr th {\n",
       "        vertical-align: top;\n",
       "    }\n",
       "\n",
       "    .dataframe thead th {\n",
       "        text-align: right;\n",
       "    }\n",
       "</style>\n",
       "<table border=\"1\" class=\"dataframe\">\n",
       "  <thead>\n",
       "    <tr style=\"text-align: right;\">\n",
       "      <th></th>\n",
       "      <th>ORD_ORDER_ID</th>\n",
       "      <th>ITE_ITEM_ID</th>\n",
       "      <th>CTLG_PROD_ID</th>\n",
       "      <th>ITE_BASE_CURRENT_PRICE</th>\n",
       "      <th>flag_bad_user</th>\n",
       "      <th>is_buybox</th>\n",
       "      <th>has_bpp</th>\n",
       "      <th>has_claim_seller</th>\n",
       "      <th>is_refund</th>\n",
       "      <th>bpp_cashout_final</th>\n",
       "    </tr>\n",
       "  </thead>\n",
       "  <tbody>\n",
       "    <tr>\n",
       "      <th>0</th>\n",
       "      <td>4577317619</td>\n",
       "      <td>1718794438</td>\n",
       "      <td>10608114</td>\n",
       "      <td>10.66</td>\n",
       "      <td>0</td>\n",
       "      <td>0</td>\n",
       "      <td>0</td>\n",
       "      <td>0</td>\n",
       "      <td>0.0</td>\n",
       "      <td>0.0</td>\n",
       "    </tr>\n",
       "    <tr>\n",
       "      <th>1</th>\n",
       "      <td>4542724158</td>\n",
       "      <td>1855945942</td>\n",
       "      <td>15305518</td>\n",
       "      <td>20.32</td>\n",
       "      <td>0</td>\n",
       "      <td>1</td>\n",
       "      <td>0</td>\n",
       "      <td>0</td>\n",
       "      <td>0.0</td>\n",
       "      <td>0.0</td>\n",
       "    </tr>\n",
       "    <tr>\n",
       "      <th>2</th>\n",
       "      <td>4603385249</td>\n",
       "      <td>1899937971</td>\n",
       "      <td>6078534</td>\n",
       "      <td>3.33</td>\n",
       "      <td>0</td>\n",
       "      <td>1</td>\n",
       "      <td>0</td>\n",
       "      <td>0</td>\n",
       "      <td>0.0</td>\n",
       "      <td>0.0</td>\n",
       "    </tr>\n",
       "    <tr>\n",
       "      <th>3</th>\n",
       "      <td>4588423792</td>\n",
       "      <td>1658897376</td>\n",
       "      <td>14214635</td>\n",
       "      <td>34.45</td>\n",
       "      <td>0</td>\n",
       "      <td>1</td>\n",
       "      <td>0</td>\n",
       "      <td>0</td>\n",
       "      <td>0.0</td>\n",
       "      <td>0.0</td>\n",
       "    </tr>\n",
       "    <tr>\n",
       "      <th>4</th>\n",
       "      <td>4546930678</td>\n",
       "      <td>1743613950</td>\n",
       "      <td>15786116</td>\n",
       "      <td>23.54</td>\n",
       "      <td>0</td>\n",
       "      <td>1</td>\n",
       "      <td>0</td>\n",
       "      <td>0</td>\n",
       "      <td>0.0</td>\n",
       "      <td>0.0</td>\n",
       "    </tr>\n",
       "  </tbody>\n",
       "</table>\n",
       "</div>"
      ],
      "text/plain": [
       "   ORD_ORDER_ID  ITE_ITEM_ID  CTLG_PROD_ID  ITE_BASE_CURRENT_PRICE  \\\n",
       "0    4577317619   1718794438      10608114                   10.66   \n",
       "1    4542724158   1855945942      15305518                   20.32   \n",
       "2    4603385249   1899937971       6078534                    3.33   \n",
       "3    4588423792   1658897376      14214635                   34.45   \n",
       "4    4546930678   1743613950      15786116                   23.54   \n",
       "\n",
       "   flag_bad_user  is_buybox  has_bpp  has_claim_seller  is_refund  \\\n",
       "0              0          0        0                 0        0.0   \n",
       "1              0          1        0                 0        0.0   \n",
       "2              0          1        0                 0        0.0   \n",
       "3              0          1        0                 0        0.0   \n",
       "4              0          1        0                 0        0.0   \n",
       "\n",
       "   bpp_cashout_final  \n",
       "0                0.0  \n",
       "1                0.0  \n",
       "2                0.0  \n",
       "3                0.0  \n",
       "4                0.0  "
      ]
     },
     "execution_count": 5,
     "metadata": {},
     "output_type": "execute_result"
    }
   ],
   "source": [
    "df_ord.head()"
   ]
  },
  {
   "cell_type": "code",
   "execution_count": 6,
   "metadata": {},
   "outputs": [
    {
     "data": {
      "text/plain": [
       "ORD_ORDER_ID                int64\n",
       "ITE_ITEM_ID                 int64\n",
       "CTLG_PROD_ID                int64\n",
       "ITE_BASE_CURRENT_PRICE    float64\n",
       "flag_bad_user               int64\n",
       "is_buybox                   int64\n",
       "has_bpp                     int64\n",
       "has_claim_seller            int64\n",
       "is_refund                 float64\n",
       "bpp_cashout_final         float64\n",
       "dtype: object"
      ]
     },
     "execution_count": 6,
     "metadata": {},
     "output_type": "execute_result"
    }
   ],
   "source": [
    "df_ord.dtypes"
   ]
  },
  {
   "cell_type": "markdown",
   "metadata": {},
   "source": [
    "## Describe of the prices of the products"
   ]
  },
  {
   "cell_type": "code",
   "execution_count": 7,
   "metadata": {},
   "outputs": [],
   "source": [
    "df_prod = df_ord[['CTLG_PROD_ID','ITE_ITEM_ID','ITE_BASE_CURRENT_PRICE']]"
   ]
  },
  {
   "cell_type": "code",
   "execution_count": 8,
   "metadata": {},
   "outputs": [
    {
     "data": {
      "text/html": [
       "<div>\n",
       "<style scoped>\n",
       "    .dataframe tbody tr th:only-of-type {\n",
       "        vertical-align: middle;\n",
       "    }\n",
       "\n",
       "    .dataframe tbody tr th {\n",
       "        vertical-align: top;\n",
       "    }\n",
       "\n",
       "    .dataframe thead th {\n",
       "        text-align: right;\n",
       "    }\n",
       "</style>\n",
       "<table border=\"1\" class=\"dataframe\">\n",
       "  <thead>\n",
       "    <tr style=\"text-align: right;\">\n",
       "      <th></th>\n",
       "      <th>CTLG_PROD_ID</th>\n",
       "      <th>ITE_ITEM_ID</th>\n",
       "      <th>ITE_BASE_CURRENT_PRICE</th>\n",
       "    </tr>\n",
       "  </thead>\n",
       "  <tbody>\n",
       "    <tr>\n",
       "      <th>775336</th>\n",
       "      <td>16141535</td>\n",
       "      <td>1774444723</td>\n",
       "      <td>234.19</td>\n",
       "    </tr>\n",
       "    <tr>\n",
       "      <th>367757</th>\n",
       "      <td>6095749</td>\n",
       "      <td>1744550664</td>\n",
       "      <td>25.73</td>\n",
       "    </tr>\n",
       "    <tr>\n",
       "      <th>572549</th>\n",
       "      <td>11112053</td>\n",
       "      <td>1720920362</td>\n",
       "      <td>48.72</td>\n",
       "    </tr>\n",
       "    <tr>\n",
       "      <th>72031</th>\n",
       "      <td>16224070</td>\n",
       "      <td>1647250028</td>\n",
       "      <td>25.30</td>\n",
       "    </tr>\n",
       "    <tr>\n",
       "      <th>85377</th>\n",
       "      <td>6078515</td>\n",
       "      <td>1624862678</td>\n",
       "      <td>4.04</td>\n",
       "    </tr>\n",
       "  </tbody>\n",
       "</table>\n",
       "</div>"
      ],
      "text/plain": [
       "        CTLG_PROD_ID  ITE_ITEM_ID  ITE_BASE_CURRENT_PRICE\n",
       "775336      16141535   1774444723                  234.19\n",
       "367757       6095749   1744550664                   25.73\n",
       "572549      11112053   1720920362                   48.72\n",
       "72031       16224070   1647250028                   25.30\n",
       "85377        6078515   1624862678                    4.04"
      ]
     },
     "execution_count": 8,
     "metadata": {},
     "output_type": "execute_result"
    }
   ],
   "source": [
    "df_prod.sample(5)"
   ]
  },
  {
   "cell_type": "code",
   "execution_count": 9,
   "metadata": {},
   "outputs": [
    {
     "data": {
      "text/plain": [
       "(869470, 3)"
      ]
     },
     "execution_count": 9,
     "metadata": {},
     "output_type": "execute_result"
    }
   ],
   "source": [
    "df_prod.shape"
   ]
  },
  {
   "cell_type": "code",
   "execution_count": 10,
   "metadata": {},
   "outputs": [
    {
     "data": {
      "text/html": [
       "<div>\n",
       "<style scoped>\n",
       "    .dataframe tbody tr th:only-of-type {\n",
       "        vertical-align: middle;\n",
       "    }\n",
       "\n",
       "    .dataframe tbody tr th {\n",
       "        vertical-align: top;\n",
       "    }\n",
       "\n",
       "    .dataframe thead th {\n",
       "        text-align: right;\n",
       "    }\n",
       "</style>\n",
       "<table border=\"1\" class=\"dataframe\">\n",
       "  <thead>\n",
       "    <tr style=\"text-align: right;\">\n",
       "      <th></th>\n",
       "      <th>count</th>\n",
       "      <th>mean</th>\n",
       "      <th>std</th>\n",
       "      <th>min</th>\n",
       "      <th>25%</th>\n",
       "      <th>50%</th>\n",
       "      <th>75%</th>\n",
       "      <th>max</th>\n",
       "    </tr>\n",
       "    <tr>\n",
       "      <th>CTLG_PROD_ID</th>\n",
       "      <th></th>\n",
       "      <th></th>\n",
       "      <th></th>\n",
       "      <th></th>\n",
       "      <th></th>\n",
       "      <th></th>\n",
       "      <th></th>\n",
       "      <th></th>\n",
       "    </tr>\n",
       "  </thead>\n",
       "  <tbody>\n",
       "    <tr>\n",
       "      <th>633</th>\n",
       "      <td>2.0</td>\n",
       "      <td>47.590000</td>\n",
       "      <td>1.183697e+01</td>\n",
       "      <td>39.22</td>\n",
       "      <td>43.4050</td>\n",
       "      <td>47.590</td>\n",
       "      <td>51.7750</td>\n",
       "      <td>55.96</td>\n",
       "    </tr>\n",
       "    <tr>\n",
       "      <th>5020</th>\n",
       "      <td>22.0</td>\n",
       "      <td>44.903636</td>\n",
       "      <td>4.364103e+00</td>\n",
       "      <td>42.09</td>\n",
       "      <td>42.5025</td>\n",
       "      <td>44.020</td>\n",
       "      <td>44.4025</td>\n",
       "      <td>57.98</td>\n",
       "    </tr>\n",
       "    <tr>\n",
       "      <th>802465</th>\n",
       "      <td>51.0</td>\n",
       "      <td>87.916471</td>\n",
       "      <td>6.482665e+01</td>\n",
       "      <td>7.83</td>\n",
       "      <td>7.8300</td>\n",
       "      <td>133.770</td>\n",
       "      <td>140.2100</td>\n",
       "      <td>156.84</td>\n",
       "    </tr>\n",
       "    <tr>\n",
       "      <th>802499</th>\n",
       "      <td>7.0</td>\n",
       "      <td>47.891429</td>\n",
       "      <td>1.512552e+00</td>\n",
       "      <td>47.02</td>\n",
       "      <td>47.0200</td>\n",
       "      <td>47.080</td>\n",
       "      <td>48.1650</td>\n",
       "      <td>50.77</td>\n",
       "    </tr>\n",
       "    <tr>\n",
       "      <th>802500</th>\n",
       "      <td>2.0</td>\n",
       "      <td>63.605000</td>\n",
       "      <td>1.248043e+01</td>\n",
       "      <td>54.78</td>\n",
       "      <td>59.1925</td>\n",
       "      <td>63.605</td>\n",
       "      <td>68.0175</td>\n",
       "      <td>72.43</td>\n",
       "    </tr>\n",
       "    <tr>\n",
       "      <th>...</th>\n",
       "      <td>...</td>\n",
       "      <td>...</td>\n",
       "      <td>...</td>\n",
       "      <td>...</td>\n",
       "      <td>...</td>\n",
       "      <td>...</td>\n",
       "      <td>...</td>\n",
       "      <td>...</td>\n",
       "    </tr>\n",
       "    <tr>\n",
       "      <th>18185023</th>\n",
       "      <td>4.0</td>\n",
       "      <td>88.860000</td>\n",
       "      <td>4.180000e+00</td>\n",
       "      <td>86.77</td>\n",
       "      <td>86.7700</td>\n",
       "      <td>86.770</td>\n",
       "      <td>88.8600</td>\n",
       "      <td>95.13</td>\n",
       "    </tr>\n",
       "    <tr>\n",
       "      <th>18186809</th>\n",
       "      <td>3.0</td>\n",
       "      <td>120.853333</td>\n",
       "      <td>1.144490e+01</td>\n",
       "      <td>109.22</td>\n",
       "      <td>115.2300</td>\n",
       "      <td>121.240</td>\n",
       "      <td>126.6700</td>\n",
       "      <td>132.10</td>\n",
       "    </tr>\n",
       "    <tr>\n",
       "      <th>18209455</th>\n",
       "      <td>40.0</td>\n",
       "      <td>588.700000</td>\n",
       "      <td>4.605405e-13</td>\n",
       "      <td>588.70</td>\n",
       "      <td>588.7000</td>\n",
       "      <td>588.700</td>\n",
       "      <td>588.7000</td>\n",
       "      <td>588.70</td>\n",
       "    </tr>\n",
       "    <tr>\n",
       "      <th>18217813</th>\n",
       "      <td>1.0</td>\n",
       "      <td>197.380000</td>\n",
       "      <td>NaN</td>\n",
       "      <td>197.38</td>\n",
       "      <td>197.3800</td>\n",
       "      <td>197.380</td>\n",
       "      <td>197.3800</td>\n",
       "      <td>197.38</td>\n",
       "    </tr>\n",
       "    <tr>\n",
       "      <th>18235364</th>\n",
       "      <td>1.0</td>\n",
       "      <td>40.200000</td>\n",
       "      <td>NaN</td>\n",
       "      <td>40.20</td>\n",
       "      <td>40.2000</td>\n",
       "      <td>40.200</td>\n",
       "      <td>40.2000</td>\n",
       "      <td>40.20</td>\n",
       "    </tr>\n",
       "  </tbody>\n",
       "</table>\n",
       "<p>9555 rows × 8 columns</p>\n",
       "</div>"
      ],
      "text/plain": [
       "              count        mean           std     min       25%      50%  \\\n",
       "CTLG_PROD_ID                                                               \n",
       "633             2.0   47.590000  1.183697e+01   39.22   43.4050   47.590   \n",
       "5020           22.0   44.903636  4.364103e+00   42.09   42.5025   44.020   \n",
       "802465         51.0   87.916471  6.482665e+01    7.83    7.8300  133.770   \n",
       "802499          7.0   47.891429  1.512552e+00   47.02   47.0200   47.080   \n",
       "802500          2.0   63.605000  1.248043e+01   54.78   59.1925   63.605   \n",
       "...             ...         ...           ...     ...       ...      ...   \n",
       "18185023        4.0   88.860000  4.180000e+00   86.77   86.7700   86.770   \n",
       "18186809        3.0  120.853333  1.144490e+01  109.22  115.2300  121.240   \n",
       "18209455       40.0  588.700000  4.605405e-13  588.70  588.7000  588.700   \n",
       "18217813        1.0  197.380000           NaN  197.38  197.3800  197.380   \n",
       "18235364        1.0   40.200000           NaN   40.20   40.2000   40.200   \n",
       "\n",
       "                   75%     max  \n",
       "CTLG_PROD_ID                    \n",
       "633            51.7750   55.96  \n",
       "5020           44.4025   57.98  \n",
       "802465        140.2100  156.84  \n",
       "802499         48.1650   50.77  \n",
       "802500         68.0175   72.43  \n",
       "...                ...     ...  \n",
       "18185023       88.8600   95.13  \n",
       "18186809      126.6700  132.10  \n",
       "18209455      588.7000  588.70  \n",
       "18217813      197.3800  197.38  \n",
       "18235364       40.2000   40.20  \n",
       "\n",
       "[9555 rows x 8 columns]"
      ]
     },
     "execution_count": 10,
     "metadata": {},
     "output_type": "execute_result"
    }
   ],
   "source": [
    "gb=df_prod.groupby(['CTLG_PROD_ID'])\n",
    "df_des=gb['ITE_BASE_CURRENT_PRICE'].describe()\n",
    "df_des"
   ]
  },
  {
   "cell_type": "markdown",
   "metadata": {},
   "source": [
    "## Drop rows with NaN std"
   ]
  },
  {
   "cell_type": "code",
   "execution_count": 11,
   "metadata": {},
   "outputs": [
    {
     "data": {
      "text/plain": [
       "1073"
      ]
     },
     "execution_count": 11,
     "metadata": {},
     "output_type": "execute_result"
    }
   ],
   "source": [
    "countNaN = df_des['std'].isna().sum()\n",
    "countNaN"
   ]
  },
  {
   "cell_type": "code",
   "execution_count": 12,
   "metadata": {},
   "outputs": [],
   "source": [
    "df_des.dropna(subset = ['std'], inplace=True)"
   ]
  },
  {
   "cell_type": "code",
   "execution_count": 13,
   "metadata": {},
   "outputs": [
    {
     "data": {
      "text/plain": [
       "0"
      ]
     },
     "execution_count": 13,
     "metadata": {},
     "output_type": "execute_result"
    }
   ],
   "source": [
    "countNaN = df_des['std'].isna().sum()\n",
    "countNaN"
   ]
  },
  {
   "cell_type": "markdown",
   "metadata": {},
   "source": [
    "## Reset the index"
   ]
  },
  {
   "cell_type": "code",
   "execution_count": 14,
   "metadata": {},
   "outputs": [],
   "source": [
    "df_des=df_des.reset_index()"
   ]
  },
  {
   "cell_type": "code",
   "execution_count": 15,
   "metadata": {},
   "outputs": [
    {
     "data": {
      "text/html": [
       "<div>\n",
       "<style scoped>\n",
       "    .dataframe tbody tr th:only-of-type {\n",
       "        vertical-align: middle;\n",
       "    }\n",
       "\n",
       "    .dataframe tbody tr th {\n",
       "        vertical-align: top;\n",
       "    }\n",
       "\n",
       "    .dataframe thead th {\n",
       "        text-align: right;\n",
       "    }\n",
       "</style>\n",
       "<table border=\"1\" class=\"dataframe\">\n",
       "  <thead>\n",
       "    <tr style=\"text-align: right;\">\n",
       "      <th></th>\n",
       "      <th>CTLG_PROD_ID</th>\n",
       "      <th>count</th>\n",
       "      <th>mean</th>\n",
       "      <th>std</th>\n",
       "      <th>min</th>\n",
       "      <th>25%</th>\n",
       "      <th>50%</th>\n",
       "      <th>75%</th>\n",
       "      <th>max</th>\n",
       "    </tr>\n",
       "  </thead>\n",
       "  <tbody>\n",
       "    <tr>\n",
       "      <th>0</th>\n",
       "      <td>633</td>\n",
       "      <td>2.0</td>\n",
       "      <td>47.590000</td>\n",
       "      <td>11.836968</td>\n",
       "      <td>39.22</td>\n",
       "      <td>43.4050</td>\n",
       "      <td>47.590</td>\n",
       "      <td>51.7750</td>\n",
       "      <td>55.96</td>\n",
       "    </tr>\n",
       "    <tr>\n",
       "      <th>1</th>\n",
       "      <td>5020</td>\n",
       "      <td>22.0</td>\n",
       "      <td>44.903636</td>\n",
       "      <td>4.364103</td>\n",
       "      <td>42.09</td>\n",
       "      <td>42.5025</td>\n",
       "      <td>44.020</td>\n",
       "      <td>44.4025</td>\n",
       "      <td>57.98</td>\n",
       "    </tr>\n",
       "    <tr>\n",
       "      <th>2</th>\n",
       "      <td>802465</td>\n",
       "      <td>51.0</td>\n",
       "      <td>87.916471</td>\n",
       "      <td>64.826648</td>\n",
       "      <td>7.83</td>\n",
       "      <td>7.8300</td>\n",
       "      <td>133.770</td>\n",
       "      <td>140.2100</td>\n",
       "      <td>156.84</td>\n",
       "    </tr>\n",
       "    <tr>\n",
       "      <th>3</th>\n",
       "      <td>802499</td>\n",
       "      <td>7.0</td>\n",
       "      <td>47.891429</td>\n",
       "      <td>1.512552</td>\n",
       "      <td>47.02</td>\n",
       "      <td>47.0200</td>\n",
       "      <td>47.080</td>\n",
       "      <td>48.1650</td>\n",
       "      <td>50.77</td>\n",
       "    </tr>\n",
       "    <tr>\n",
       "      <th>4</th>\n",
       "      <td>802500</td>\n",
       "      <td>2.0</td>\n",
       "      <td>63.605000</td>\n",
       "      <td>12.480435</td>\n",
       "      <td>54.78</td>\n",
       "      <td>59.1925</td>\n",
       "      <td>63.605</td>\n",
       "      <td>68.0175</td>\n",
       "      <td>72.43</td>\n",
       "    </tr>\n",
       "  </tbody>\n",
       "</table>\n",
       "</div>"
      ],
      "text/plain": [
       "   CTLG_PROD_ID  count       mean        std    min      25%      50%  \\\n",
       "0           633    2.0  47.590000  11.836968  39.22  43.4050   47.590   \n",
       "1          5020   22.0  44.903636   4.364103  42.09  42.5025   44.020   \n",
       "2        802465   51.0  87.916471  64.826648   7.83   7.8300  133.770   \n",
       "3        802499    7.0  47.891429   1.512552  47.02  47.0200   47.080   \n",
       "4        802500    2.0  63.605000  12.480435  54.78  59.1925   63.605   \n",
       "\n",
       "        75%     max  \n",
       "0   51.7750   55.96  \n",
       "1   44.4025   57.98  \n",
       "2  140.2100  156.84  \n",
       "3   48.1650   50.77  \n",
       "4   68.0175   72.43  "
      ]
     },
     "execution_count": 15,
     "metadata": {},
     "output_type": "execute_result"
    }
   ],
   "source": [
    "df_des.head()"
   ]
  },
  {
   "cell_type": "code",
   "execution_count": 16,
   "metadata": {},
   "outputs": [
    {
     "data": {
      "text/plain": [
       "(8482, 9)"
      ]
     },
     "execution_count": 16,
     "metadata": {},
     "output_type": "execute_result"
    }
   ],
   "source": [
    "df_des.shape"
   ]
  },
  {
   "cell_type": "markdown",
   "metadata": {},
   "source": [
    "## Join the DFs by Product ID"
   ]
  },
  {
   "cell_type": "code",
   "execution_count": 17,
   "metadata": {},
   "outputs": [],
   "source": [
    "df = pd.merge(left = df_des, right = df_ord,\n",
    "                how = 'inner',\n",
    "                left_on='CTLG_PROD_ID', right_on='CTLG_PROD_ID')"
   ]
  },
  {
   "cell_type": "code",
   "execution_count": 18,
   "metadata": {},
   "outputs": [
    {
     "data": {
      "text/plain": [
       "(868397, 18)"
      ]
     },
     "execution_count": 18,
     "metadata": {},
     "output_type": "execute_result"
    }
   ],
   "source": [
    "df.shape"
   ]
  },
  {
   "cell_type": "code",
   "execution_count": 19,
   "metadata": {},
   "outputs": [
    {
     "data": {
      "text/plain": [
       "Index(['CTLG_PROD_ID', 'count', 'mean', 'std', 'min', '25%', '50%', '75%',\n",
       "       'max', 'ORD_ORDER_ID', 'ITE_ITEM_ID', 'ITE_BASE_CURRENT_PRICE',\n",
       "       'flag_bad_user', 'is_buybox', 'has_bpp', 'has_claim_seller',\n",
       "       'is_refund', 'bpp_cashout_final'],\n",
       "      dtype='object')"
      ]
     },
     "execution_count": 19,
     "metadata": {},
     "output_type": "execute_result"
    }
   ],
   "source": [
    "df.columns"
   ]
  },
  {
   "cell_type": "code",
   "execution_count": 20,
   "metadata": {},
   "outputs": [
    {
     "data": {
      "text/html": [
       "<div>\n",
       "<style scoped>\n",
       "    .dataframe tbody tr th:only-of-type {\n",
       "        vertical-align: middle;\n",
       "    }\n",
       "\n",
       "    .dataframe tbody tr th {\n",
       "        vertical-align: top;\n",
       "    }\n",
       "\n",
       "    .dataframe thead th {\n",
       "        text-align: right;\n",
       "    }\n",
       "</style>\n",
       "<table border=\"1\" class=\"dataframe\">\n",
       "  <thead>\n",
       "    <tr style=\"text-align: right;\">\n",
       "      <th></th>\n",
       "      <th>CTLG_PROD_ID</th>\n",
       "      <th>count</th>\n",
       "      <th>mean</th>\n",
       "      <th>std</th>\n",
       "      <th>min</th>\n",
       "      <th>25%</th>\n",
       "      <th>50%</th>\n",
       "      <th>75%</th>\n",
       "      <th>max</th>\n",
       "      <th>ORD_ORDER_ID</th>\n",
       "      <th>ITE_ITEM_ID</th>\n",
       "      <th>ITE_BASE_CURRENT_PRICE</th>\n",
       "      <th>flag_bad_user</th>\n",
       "      <th>is_buybox</th>\n",
       "      <th>has_bpp</th>\n",
       "      <th>has_claim_seller</th>\n",
       "      <th>is_refund</th>\n",
       "      <th>bpp_cashout_final</th>\n",
       "    </tr>\n",
       "  </thead>\n",
       "  <tbody>\n",
       "    <tr>\n",
       "      <th>837321</th>\n",
       "      <td>17459951</td>\n",
       "      <td>7488.0</td>\n",
       "      <td>332.949119</td>\n",
       "      <td>164.024941</td>\n",
       "      <td>150.88</td>\n",
       "      <td>302.970</td>\n",
       "      <td>320.26</td>\n",
       "      <td>349.60</td>\n",
       "      <td>9860.00</td>\n",
       "      <td>4597131526</td>\n",
       "      <td>1886856147</td>\n",
       "      <td>302.67</td>\n",
       "      <td>0</td>\n",
       "      <td>0</td>\n",
       "      <td>0</td>\n",
       "      <td>0</td>\n",
       "      <td>0.0</td>\n",
       "      <td>0.0</td>\n",
       "    </tr>\n",
       "    <tr>\n",
       "      <th>420371</th>\n",
       "      <td>15286957</td>\n",
       "      <td>140.0</td>\n",
       "      <td>65.598143</td>\n",
       "      <td>10.489034</td>\n",
       "      <td>53.82</td>\n",
       "      <td>57.910</td>\n",
       "      <td>61.53</td>\n",
       "      <td>77.11</td>\n",
       "      <td>82.25</td>\n",
       "      <td>4568226456</td>\n",
       "      <td>1849465365</td>\n",
       "      <td>57.57</td>\n",
       "      <td>0</td>\n",
       "      <td>0</td>\n",
       "      <td>0</td>\n",
       "      <td>0</td>\n",
       "      <td>0.0</td>\n",
       "      <td>0.0</td>\n",
       "    </tr>\n",
       "    <tr>\n",
       "      <th>274595</th>\n",
       "      <td>12791291</td>\n",
       "      <td>91.0</td>\n",
       "      <td>39.782527</td>\n",
       "      <td>2.587869</td>\n",
       "      <td>34.35</td>\n",
       "      <td>38.305</td>\n",
       "      <td>40.83</td>\n",
       "      <td>41.22</td>\n",
       "      <td>46.26</td>\n",
       "      <td>4556302984</td>\n",
       "      <td>1864061828</td>\n",
       "      <td>36.15</td>\n",
       "      <td>0</td>\n",
       "      <td>0</td>\n",
       "      <td>0</td>\n",
       "      <td>0</td>\n",
       "      <td>0.0</td>\n",
       "      <td>0.0</td>\n",
       "    </tr>\n",
       "    <tr>\n",
       "      <th>216618</th>\n",
       "      <td>9697362</td>\n",
       "      <td>179.0</td>\n",
       "      <td>35.710670</td>\n",
       "      <td>4.238270</td>\n",
       "      <td>31.15</td>\n",
       "      <td>33.570</td>\n",
       "      <td>33.57</td>\n",
       "      <td>36.69</td>\n",
       "      <td>66.40</td>\n",
       "      <td>4552773670</td>\n",
       "      <td>1416108956</td>\n",
       "      <td>33.60</td>\n",
       "      <td>0</td>\n",
       "      <td>0</td>\n",
       "      <td>1</td>\n",
       "      <td>1</td>\n",
       "      <td>1.0</td>\n",
       "      <td>0.0</td>\n",
       "    </tr>\n",
       "    <tr>\n",
       "      <th>663283</th>\n",
       "      <td>16033457</td>\n",
       "      <td>47.0</td>\n",
       "      <td>270.610213</td>\n",
       "      <td>34.116728</td>\n",
       "      <td>194.51</td>\n",
       "      <td>252.020</td>\n",
       "      <td>255.25</td>\n",
       "      <td>311.84</td>\n",
       "      <td>331.74</td>\n",
       "      <td>4601404016</td>\n",
       "      <td>1627938901</td>\n",
       "      <td>277.96</td>\n",
       "      <td>0</td>\n",
       "      <td>0</td>\n",
       "      <td>0</td>\n",
       "      <td>0</td>\n",
       "      <td>0.0</td>\n",
       "      <td>0.0</td>\n",
       "    </tr>\n",
       "  </tbody>\n",
       "</table>\n",
       "</div>"
      ],
      "text/plain": [
       "        CTLG_PROD_ID   count        mean         std     min      25%     50%  \\\n",
       "837321      17459951  7488.0  332.949119  164.024941  150.88  302.970  320.26   \n",
       "420371      15286957   140.0   65.598143   10.489034   53.82   57.910   61.53   \n",
       "274595      12791291    91.0   39.782527    2.587869   34.35   38.305   40.83   \n",
       "216618       9697362   179.0   35.710670    4.238270   31.15   33.570   33.57   \n",
       "663283      16033457    47.0  270.610213   34.116728  194.51  252.020  255.25   \n",
       "\n",
       "           75%      max  ORD_ORDER_ID  ITE_ITEM_ID  ITE_BASE_CURRENT_PRICE  \\\n",
       "837321  349.60  9860.00    4597131526   1886856147                  302.67   \n",
       "420371   77.11    82.25    4568226456   1849465365                   57.57   \n",
       "274595   41.22    46.26    4556302984   1864061828                   36.15   \n",
       "216618   36.69    66.40    4552773670   1416108956                   33.60   \n",
       "663283  311.84   331.74    4601404016   1627938901                  277.96   \n",
       "\n",
       "        flag_bad_user  is_buybox  has_bpp  has_claim_seller  is_refund  \\\n",
       "837321              0          0        0                 0        0.0   \n",
       "420371              0          0        0                 0        0.0   \n",
       "274595              0          0        0                 0        0.0   \n",
       "216618              0          0        1                 1        1.0   \n",
       "663283              0          0        0                 0        0.0   \n",
       "\n",
       "        bpp_cashout_final  \n",
       "837321                0.0  \n",
       "420371                0.0  \n",
       "274595                0.0  \n",
       "216618                0.0  \n",
       "663283                0.0  "
      ]
     },
     "execution_count": 20,
     "metadata": {},
     "output_type": "execute_result"
    }
   ],
   "source": [
    "df.sample(5)"
   ]
  },
  {
   "cell_type": "markdown",
   "metadata": {},
   "source": [
    "## Create columns flag low_price for those items with price below the 25%"
   ]
  },
  {
   "cell_type": "code",
   "execution_count": 21,
   "metadata": {},
   "outputs": [],
   "source": [
    "df['Low25_Price'] = df.apply(lambda x: 1 if x['25%'] > x['ITE_BASE_CURRENT_PRICE'] else 0, axis=1)"
   ]
  },
  {
   "cell_type": "markdown",
   "metadata": {},
   "source": [
    "## Create columns flag middle_price for items with price below the 75% and over the  25%"
   ]
  },
  {
   "cell_type": "code",
   "execution_count": 22,
   "metadata": {},
   "outputs": [],
   "source": [
    "df['Middle_Price'] = df.apply(lambda x: 1 if x['75%'] >= x['ITE_BASE_CURRENT_PRICE'] and x['25%'] <= x['ITE_BASE_CURRENT_PRICE'] else 0, axis=1)\n"
   ]
  },
  {
   "cell_type": "markdown",
   "metadata": {},
   "source": [
    "## Create column flag high_price for those items with price over the 75%"
   ]
  },
  {
   "cell_type": "code",
   "execution_count": 23,
   "metadata": {},
   "outputs": [],
   "source": [
    "df['High75_Price'] = df.apply(lambda x: 1 if x['75%'] < x['ITE_BASE_CURRENT_PRICE'] else 0, axis=1)"
   ]
  },
  {
   "cell_type": "markdown",
   "metadata": {},
   "source": [
    "## Create column flag price_range"
   ]
  },
  {
   "cell_type": "code",
   "execution_count": 24,
   "metadata": {},
   "outputs": [],
   "source": [
    "df['Price_Range'] = df.apply(lambda x:'low_25' if x['Low25_Price']== 1 else('high_75' if  x['High75_Price']==1  else 'middle'),axis=1)\n"
   ]
  },
  {
   "cell_type": "code",
   "execution_count": 25,
   "metadata": {
    "scrolled": false
   },
   "outputs": [
    {
     "data": {
      "text/html": [
       "<div>\n",
       "<style scoped>\n",
       "    .dataframe tbody tr th:only-of-type {\n",
       "        vertical-align: middle;\n",
       "    }\n",
       "\n",
       "    .dataframe tbody tr th {\n",
       "        vertical-align: top;\n",
       "    }\n",
       "\n",
       "    .dataframe thead th {\n",
       "        text-align: right;\n",
       "    }\n",
       "</style>\n",
       "<table border=\"1\" class=\"dataframe\">\n",
       "  <thead>\n",
       "    <tr style=\"text-align: right;\">\n",
       "      <th></th>\n",
       "      <th>CTLG_PROD_ID</th>\n",
       "      <th>count</th>\n",
       "      <th>mean</th>\n",
       "      <th>std</th>\n",
       "      <th>min</th>\n",
       "      <th>25%</th>\n",
       "      <th>50%</th>\n",
       "      <th>75%</th>\n",
       "      <th>max</th>\n",
       "      <th>ORD_ORDER_ID</th>\n",
       "      <th>...</th>\n",
       "      <th>flag_bad_user</th>\n",
       "      <th>is_buybox</th>\n",
       "      <th>has_bpp</th>\n",
       "      <th>has_claim_seller</th>\n",
       "      <th>is_refund</th>\n",
       "      <th>bpp_cashout_final</th>\n",
       "      <th>Low25_Price</th>\n",
       "      <th>Middle_Price</th>\n",
       "      <th>High75_Price</th>\n",
       "      <th>Price_Range</th>\n",
       "    </tr>\n",
       "  </thead>\n",
       "  <tbody>\n",
       "    <tr>\n",
       "      <th>706302</th>\n",
       "      <td>16141536</td>\n",
       "      <td>1595.0</td>\n",
       "      <td>243.638245</td>\n",
       "      <td>32.680044</td>\n",
       "      <td>197.82</td>\n",
       "      <td>224.51</td>\n",
       "      <td>245.95</td>\n",
       "      <td>249.10</td>\n",
       "      <td>375.94</td>\n",
       "      <td>4567388796</td>\n",
       "      <td>...</td>\n",
       "      <td>0</td>\n",
       "      <td>1</td>\n",
       "      <td>0</td>\n",
       "      <td>0</td>\n",
       "      <td>1.0</td>\n",
       "      <td>0.0</td>\n",
       "      <td>1</td>\n",
       "      <td>0</td>\n",
       "      <td>0</td>\n",
       "      <td>low_25</td>\n",
       "    </tr>\n",
       "    <tr>\n",
       "      <th>727737</th>\n",
       "      <td>16164069</td>\n",
       "      <td>1447.0</td>\n",
       "      <td>15.626628</td>\n",
       "      <td>2.207219</td>\n",
       "      <td>10.15</td>\n",
       "      <td>14.70</td>\n",
       "      <td>14.70</td>\n",
       "      <td>15.49</td>\n",
       "      <td>26.27</td>\n",
       "      <td>4601004332</td>\n",
       "      <td>...</td>\n",
       "      <td>0</td>\n",
       "      <td>1</td>\n",
       "      <td>0</td>\n",
       "      <td>0</td>\n",
       "      <td>0.0</td>\n",
       "      <td>0.0</td>\n",
       "      <td>0</td>\n",
       "      <td>1</td>\n",
       "      <td>0</td>\n",
       "      <td>middle</td>\n",
       "    </tr>\n",
       "    <tr>\n",
       "      <th>538752</th>\n",
       "      <td>15793958</td>\n",
       "      <td>4333.0</td>\n",
       "      <td>317.929938</td>\n",
       "      <td>4335.774785</td>\n",
       "      <td>37.18</td>\n",
       "      <td>228.76</td>\n",
       "      <td>254.60</td>\n",
       "      <td>266.38</td>\n",
       "      <td>285649.80</td>\n",
       "      <td>4564288886</td>\n",
       "      <td>...</td>\n",
       "      <td>0</td>\n",
       "      <td>0</td>\n",
       "      <td>0</td>\n",
       "      <td>0</td>\n",
       "      <td>0.0</td>\n",
       "      <td>0.0</td>\n",
       "      <td>0</td>\n",
       "      <td>1</td>\n",
       "      <td>0</td>\n",
       "      <td>middle</td>\n",
       "    </tr>\n",
       "    <tr>\n",
       "      <th>282610</th>\n",
       "      <td>13764959</td>\n",
       "      <td>669.0</td>\n",
       "      <td>8.999163</td>\n",
       "      <td>0.980985</td>\n",
       "      <td>7.44</td>\n",
       "      <td>7.83</td>\n",
       "      <td>9.58</td>\n",
       "      <td>9.79</td>\n",
       "      <td>13.51</td>\n",
       "      <td>4596500941</td>\n",
       "      <td>...</td>\n",
       "      <td>0</td>\n",
       "      <td>0</td>\n",
       "      <td>0</td>\n",
       "      <td>1</td>\n",
       "      <td>0.0</td>\n",
       "      <td>0.0</td>\n",
       "      <td>0</td>\n",
       "      <td>1</td>\n",
       "      <td>0</td>\n",
       "      <td>middle</td>\n",
       "    </tr>\n",
       "    <tr>\n",
       "      <th>188766</th>\n",
       "      <td>8859356</td>\n",
       "      <td>3677.0</td>\n",
       "      <td>11.633565</td>\n",
       "      <td>2.647621</td>\n",
       "      <td>5.88</td>\n",
       "      <td>9.63</td>\n",
       "      <td>11.20</td>\n",
       "      <td>14.18</td>\n",
       "      <td>84.96</td>\n",
       "      <td>4596578875</td>\n",
       "      <td>...</td>\n",
       "      <td>0</td>\n",
       "      <td>1</td>\n",
       "      <td>0</td>\n",
       "      <td>0</td>\n",
       "      <td>0.0</td>\n",
       "      <td>0.0</td>\n",
       "      <td>0</td>\n",
       "      <td>1</td>\n",
       "      <td>0</td>\n",
       "      <td>middle</td>\n",
       "    </tr>\n",
       "  </tbody>\n",
       "</table>\n",
       "<p>5 rows × 22 columns</p>\n",
       "</div>"
      ],
      "text/plain": [
       "        CTLG_PROD_ID   count        mean          std     min     25%     50%  \\\n",
       "706302      16141536  1595.0  243.638245    32.680044  197.82  224.51  245.95   \n",
       "727737      16164069  1447.0   15.626628     2.207219   10.15   14.70   14.70   \n",
       "538752      15793958  4333.0  317.929938  4335.774785   37.18  228.76  254.60   \n",
       "282610      13764959   669.0    8.999163     0.980985    7.44    7.83    9.58   \n",
       "188766       8859356  3677.0   11.633565     2.647621    5.88    9.63   11.20   \n",
       "\n",
       "           75%        max  ORD_ORDER_ID  ...  flag_bad_user  is_buybox  \\\n",
       "706302  249.10     375.94    4567388796  ...              0          1   \n",
       "727737   15.49      26.27    4601004332  ...              0          1   \n",
       "538752  266.38  285649.80    4564288886  ...              0          0   \n",
       "282610    9.79      13.51    4596500941  ...              0          0   \n",
       "188766   14.18      84.96    4596578875  ...              0          1   \n",
       "\n",
       "        has_bpp  has_claim_seller  is_refund  bpp_cashout_final  Low25_Price  \\\n",
       "706302        0                 0        1.0                0.0            1   \n",
       "727737        0                 0        0.0                0.0            0   \n",
       "538752        0                 0        0.0                0.0            0   \n",
       "282610        0                 1        0.0                0.0            0   \n",
       "188766        0                 0        0.0                0.0            0   \n",
       "\n",
       "        Middle_Price  High75_Price  Price_Range  \n",
       "706302             0             0       low_25  \n",
       "727737             1             0       middle  \n",
       "538752             1             0       middle  \n",
       "282610             1             0       middle  \n",
       "188766             1             0       middle  \n",
       "\n",
       "[5 rows x 22 columns]"
      ]
     },
     "execution_count": 25,
     "metadata": {},
     "output_type": "execute_result"
    }
   ],
   "source": [
    "df.sample(5)"
   ]
  },
  {
   "cell_type": "markdown",
   "metadata": {},
   "source": [
    "## Order weight on products"
   ]
  },
  {
   "cell_type": "code",
   "execution_count": 26,
   "metadata": {},
   "outputs": [],
   "source": [
    "df['weight'] = 1/df[['count']]"
   ]
  },
  {
   "cell_type": "code",
   "execution_count": 27,
   "metadata": {},
   "outputs": [
    {
     "data": {
      "text/html": [
       "<div>\n",
       "<style scoped>\n",
       "    .dataframe tbody tr th:only-of-type {\n",
       "        vertical-align: middle;\n",
       "    }\n",
       "\n",
       "    .dataframe tbody tr th {\n",
       "        vertical-align: top;\n",
       "    }\n",
       "\n",
       "    .dataframe thead th {\n",
       "        text-align: right;\n",
       "    }\n",
       "</style>\n",
       "<table border=\"1\" class=\"dataframe\">\n",
       "  <thead>\n",
       "    <tr style=\"text-align: right;\">\n",
       "      <th></th>\n",
       "      <th>CTLG_PROD_ID</th>\n",
       "      <th>count</th>\n",
       "      <th>mean</th>\n",
       "      <th>std</th>\n",
       "      <th>min</th>\n",
       "      <th>25%</th>\n",
       "      <th>50%</th>\n",
       "      <th>75%</th>\n",
       "      <th>max</th>\n",
       "      <th>ORD_ORDER_ID</th>\n",
       "      <th>...</th>\n",
       "      <th>is_buybox</th>\n",
       "      <th>has_bpp</th>\n",
       "      <th>has_claim_seller</th>\n",
       "      <th>is_refund</th>\n",
       "      <th>bpp_cashout_final</th>\n",
       "      <th>Low25_Price</th>\n",
       "      <th>Middle_Price</th>\n",
       "      <th>High75_Price</th>\n",
       "      <th>Price_Range</th>\n",
       "      <th>weight</th>\n",
       "    </tr>\n",
       "  </thead>\n",
       "  <tbody>\n",
       "    <tr>\n",
       "      <th>127643</th>\n",
       "      <td>6408981</td>\n",
       "      <td>17962.0</td>\n",
       "      <td>53.589554</td>\n",
       "      <td>6.892285</td>\n",
       "      <td>34.07</td>\n",
       "      <td>50.64</td>\n",
       "      <td>52.02</td>\n",
       "      <td>54.17</td>\n",
       "      <td>375.73</td>\n",
       "      <td>4602297366</td>\n",
       "      <td>...</td>\n",
       "      <td>1</td>\n",
       "      <td>1</td>\n",
       "      <td>1</td>\n",
       "      <td>1.0</td>\n",
       "      <td>0.0</td>\n",
       "      <td>0</td>\n",
       "      <td>1</td>\n",
       "      <td>0</td>\n",
       "      <td>middle</td>\n",
       "      <td>0.000056</td>\n",
       "    </tr>\n",
       "    <tr>\n",
       "      <th>684601</th>\n",
       "      <td>16091899</td>\n",
       "      <td>233.0</td>\n",
       "      <td>525.038069</td>\n",
       "      <td>60.169883</td>\n",
       "      <td>383.80</td>\n",
       "      <td>490.55</td>\n",
       "      <td>490.55</td>\n",
       "      <td>608.14</td>\n",
       "      <td>626.94</td>\n",
       "      <td>4598866676</td>\n",
       "      <td>...</td>\n",
       "      <td>1</td>\n",
       "      <td>0</td>\n",
       "      <td>0</td>\n",
       "      <td>0.0</td>\n",
       "      <td>0.0</td>\n",
       "      <td>0</td>\n",
       "      <td>0</td>\n",
       "      <td>1</td>\n",
       "      <td>high_75</td>\n",
       "      <td>0.004292</td>\n",
       "    </tr>\n",
       "    <tr>\n",
       "      <th>149597</th>\n",
       "      <td>6823887</td>\n",
       "      <td>101.0</td>\n",
       "      <td>76.472871</td>\n",
       "      <td>16.996116</td>\n",
       "      <td>59.77</td>\n",
       "      <td>72.83</td>\n",
       "      <td>72.83</td>\n",
       "      <td>75.24</td>\n",
       "      <td>237.94</td>\n",
       "      <td>4578060864</td>\n",
       "      <td>...</td>\n",
       "      <td>0</td>\n",
       "      <td>0</td>\n",
       "      <td>0</td>\n",
       "      <td>0.0</td>\n",
       "      <td>0.0</td>\n",
       "      <td>1</td>\n",
       "      <td>0</td>\n",
       "      <td>0</td>\n",
       "      <td>low_25</td>\n",
       "      <td>0.009901</td>\n",
       "    </tr>\n",
       "    <tr>\n",
       "      <th>611730</th>\n",
       "      <td>15950021</td>\n",
       "      <td>215.0</td>\n",
       "      <td>328.086326</td>\n",
       "      <td>21.563535</td>\n",
       "      <td>209.86</td>\n",
       "      <td>303.87</td>\n",
       "      <td>345.29</td>\n",
       "      <td>345.29</td>\n",
       "      <td>345.29</td>\n",
       "      <td>4591655645</td>\n",
       "      <td>...</td>\n",
       "      <td>1</td>\n",
       "      <td>0</td>\n",
       "      <td>0</td>\n",
       "      <td>0.0</td>\n",
       "      <td>0.0</td>\n",
       "      <td>0</td>\n",
       "      <td>1</td>\n",
       "      <td>0</td>\n",
       "      <td>middle</td>\n",
       "      <td>0.004651</td>\n",
       "    </tr>\n",
       "    <tr>\n",
       "      <th>204148</th>\n",
       "      <td>9072580</td>\n",
       "      <td>16.0</td>\n",
       "      <td>11.996875</td>\n",
       "      <td>4.848440</td>\n",
       "      <td>9.79</td>\n",
       "      <td>9.79</td>\n",
       "      <td>9.79</td>\n",
       "      <td>12.27</td>\n",
       "      <td>28.62</td>\n",
       "      <td>4587353512</td>\n",
       "      <td>...</td>\n",
       "      <td>0</td>\n",
       "      <td>0</td>\n",
       "      <td>0</td>\n",
       "      <td>0.0</td>\n",
       "      <td>0.0</td>\n",
       "      <td>0</td>\n",
       "      <td>1</td>\n",
       "      <td>0</td>\n",
       "      <td>middle</td>\n",
       "      <td>0.062500</td>\n",
       "    </tr>\n",
       "  </tbody>\n",
       "</table>\n",
       "<p>5 rows × 23 columns</p>\n",
       "</div>"
      ],
      "text/plain": [
       "        CTLG_PROD_ID    count        mean        std     min     25%     50%  \\\n",
       "127643       6408981  17962.0   53.589554   6.892285   34.07   50.64   52.02   \n",
       "684601      16091899    233.0  525.038069  60.169883  383.80  490.55  490.55   \n",
       "149597       6823887    101.0   76.472871  16.996116   59.77   72.83   72.83   \n",
       "611730      15950021    215.0  328.086326  21.563535  209.86  303.87  345.29   \n",
       "204148       9072580     16.0   11.996875   4.848440    9.79    9.79    9.79   \n",
       "\n",
       "           75%     max  ORD_ORDER_ID  ...  is_buybox  has_bpp  \\\n",
       "127643   54.17  375.73    4602297366  ...          1        1   \n",
       "684601  608.14  626.94    4598866676  ...          1        0   \n",
       "149597   75.24  237.94    4578060864  ...          0        0   \n",
       "611730  345.29  345.29    4591655645  ...          1        0   \n",
       "204148   12.27   28.62    4587353512  ...          0        0   \n",
       "\n",
       "        has_claim_seller  is_refund  bpp_cashout_final  Low25_Price  \\\n",
       "127643                 1        1.0                0.0            0   \n",
       "684601                 0        0.0                0.0            0   \n",
       "149597                 0        0.0                0.0            1   \n",
       "611730                 0        0.0                0.0            0   \n",
       "204148                 0        0.0                0.0            0   \n",
       "\n",
       "        Middle_Price  High75_Price  Price_Range    weight  \n",
       "127643             1             0       middle  0.000056  \n",
       "684601             0             1      high_75  0.004292  \n",
       "149597             0             0       low_25  0.009901  \n",
       "611730             1             0       middle  0.004651  \n",
       "204148             1             0       middle  0.062500  \n",
       "\n",
       "[5 rows x 23 columns]"
      ]
     },
     "execution_count": 27,
     "metadata": {},
     "output_type": "execute_result"
    }
   ],
   "source": [
    "df.sample(5)"
   ]
  },
  {
   "cell_type": "code",
   "execution_count": 28,
   "metadata": {},
   "outputs": [
    {
     "data": {
      "text/plain": [
       "Index(['CTLG_PROD_ID', 'count', 'mean', 'std', 'min', '25%', '50%', '75%',\n",
       "       'max', 'ORD_ORDER_ID', 'ITE_ITEM_ID', 'ITE_BASE_CURRENT_PRICE',\n",
       "       'flag_bad_user', 'is_buybox', 'has_bpp', 'has_claim_seller',\n",
       "       'is_refund', 'bpp_cashout_final', 'Low25_Price', 'Middle_Price',\n",
       "       'High75_Price', 'Price_Range', 'weight'],\n",
       "      dtype='object')"
      ]
     },
     "execution_count": 28,
     "metadata": {},
     "output_type": "execute_result"
    }
   ],
   "source": [
    "df.columns"
   ]
  },
  {
   "cell_type": "markdown",
   "metadata": {},
   "source": [
    "## Bad orders"
   ]
  },
  {
   "cell_type": "code",
   "execution_count": 29,
   "metadata": {},
   "outputs": [],
   "source": [
    "df['bad_order'] = df.apply(lambda x: 1 if x['flag_bad_user'] == 1 or x['has_bpp'] == 1 or x['has_claim_seller'] == 1 or x['is_refund'] == 1 or x['bpp_cashout_final'] > 0 else 0, axis=1)\n"
   ]
  },
  {
   "cell_type": "code",
   "execution_count": 30,
   "metadata": {},
   "outputs": [
    {
     "data": {
      "text/html": [
       "<div>\n",
       "<style scoped>\n",
       "    .dataframe tbody tr th:only-of-type {\n",
       "        vertical-align: middle;\n",
       "    }\n",
       "\n",
       "    .dataframe tbody tr th {\n",
       "        vertical-align: top;\n",
       "    }\n",
       "\n",
       "    .dataframe thead th {\n",
       "        text-align: right;\n",
       "    }\n",
       "</style>\n",
       "<table border=\"1\" class=\"dataframe\">\n",
       "  <thead>\n",
       "    <tr style=\"text-align: right;\">\n",
       "      <th></th>\n",
       "      <th>CTLG_PROD_ID</th>\n",
       "      <th>count</th>\n",
       "      <th>mean</th>\n",
       "      <th>std</th>\n",
       "      <th>min</th>\n",
       "      <th>25%</th>\n",
       "      <th>50%</th>\n",
       "      <th>75%</th>\n",
       "      <th>max</th>\n",
       "      <th>ORD_ORDER_ID</th>\n",
       "      <th>...</th>\n",
       "      <th>has_bpp</th>\n",
       "      <th>has_claim_seller</th>\n",
       "      <th>is_refund</th>\n",
       "      <th>bpp_cashout_final</th>\n",
       "      <th>Low25_Price</th>\n",
       "      <th>Middle_Price</th>\n",
       "      <th>High75_Price</th>\n",
       "      <th>Price_Range</th>\n",
       "      <th>weight</th>\n",
       "      <th>bad_order</th>\n",
       "    </tr>\n",
       "  </thead>\n",
       "  <tbody>\n",
       "    <tr>\n",
       "      <th>50175</th>\n",
       "      <td>6125039</td>\n",
       "      <td>1030.0</td>\n",
       "      <td>49.147068</td>\n",
       "      <td>2.938083</td>\n",
       "      <td>46.06</td>\n",
       "      <td>47.33</td>\n",
       "      <td>49.45</td>\n",
       "      <td>49.86</td>\n",
       "      <td>72.73</td>\n",
       "      <td>4552705098</td>\n",
       "      <td>...</td>\n",
       "      <td>0</td>\n",
       "      <td>0</td>\n",
       "      <td>0.0</td>\n",
       "      <td>0.0</td>\n",
       "      <td>0</td>\n",
       "      <td>1</td>\n",
       "      <td>0</td>\n",
       "      <td>middle</td>\n",
       "      <td>0.000971</td>\n",
       "      <td>0</td>\n",
       "    </tr>\n",
       "    <tr>\n",
       "      <th>25197</th>\n",
       "      <td>6078511</td>\n",
       "      <td>481.0</td>\n",
       "      <td>10.849771</td>\n",
       "      <td>1.974317</td>\n",
       "      <td>5.96</td>\n",
       "      <td>9.12</td>\n",
       "      <td>9.95</td>\n",
       "      <td>12.39</td>\n",
       "      <td>18.91</td>\n",
       "      <td>4547209777</td>\n",
       "      <td>...</td>\n",
       "      <td>0</td>\n",
       "      <td>0</td>\n",
       "      <td>0.0</td>\n",
       "      <td>0.0</td>\n",
       "      <td>0</td>\n",
       "      <td>1</td>\n",
       "      <td>0</td>\n",
       "      <td>middle</td>\n",
       "      <td>0.002079</td>\n",
       "      <td>0</td>\n",
       "    </tr>\n",
       "    <tr>\n",
       "      <th>131988</th>\n",
       "      <td>6408981</td>\n",
       "      <td>17962.0</td>\n",
       "      <td>53.589554</td>\n",
       "      <td>6.892285</td>\n",
       "      <td>34.07</td>\n",
       "      <td>50.64</td>\n",
       "      <td>52.02</td>\n",
       "      <td>54.17</td>\n",
       "      <td>375.73</td>\n",
       "      <td>4595258825</td>\n",
       "      <td>...</td>\n",
       "      <td>0</td>\n",
       "      <td>0</td>\n",
       "      <td>0.0</td>\n",
       "      <td>0.0</td>\n",
       "      <td>1</td>\n",
       "      <td>0</td>\n",
       "      <td>0</td>\n",
       "      <td>low_25</td>\n",
       "      <td>0.000056</td>\n",
       "      <td>0</td>\n",
       "    </tr>\n",
       "    <tr>\n",
       "      <th>625637</th>\n",
       "      <td>15970241</td>\n",
       "      <td>128.0</td>\n",
       "      <td>432.005781</td>\n",
       "      <td>67.035370</td>\n",
       "      <td>279.29</td>\n",
       "      <td>422.59</td>\n",
       "      <td>449.82</td>\n",
       "      <td>453.26</td>\n",
       "      <td>662.55</td>\n",
       "      <td>4582777142</td>\n",
       "      <td>...</td>\n",
       "      <td>1</td>\n",
       "      <td>1</td>\n",
       "      <td>1.0</td>\n",
       "      <td>0.0</td>\n",
       "      <td>0</td>\n",
       "      <td>1</td>\n",
       "      <td>0</td>\n",
       "      <td>middle</td>\n",
       "      <td>0.007812</td>\n",
       "      <td>1</td>\n",
       "    </tr>\n",
       "    <tr>\n",
       "      <th>59820</th>\n",
       "      <td>6176095</td>\n",
       "      <td>121.0</td>\n",
       "      <td>21.751322</td>\n",
       "      <td>7.035963</td>\n",
       "      <td>11.58</td>\n",
       "      <td>17.65</td>\n",
       "      <td>18.56</td>\n",
       "      <td>30.34</td>\n",
       "      <td>30.34</td>\n",
       "      <td>4552119105</td>\n",
       "      <td>...</td>\n",
       "      <td>0</td>\n",
       "      <td>0</td>\n",
       "      <td>0.0</td>\n",
       "      <td>0.0</td>\n",
       "      <td>0</td>\n",
       "      <td>1</td>\n",
       "      <td>0</td>\n",
       "      <td>middle</td>\n",
       "      <td>0.008264</td>\n",
       "      <td>0</td>\n",
       "    </tr>\n",
       "  </tbody>\n",
       "</table>\n",
       "<p>5 rows × 24 columns</p>\n",
       "</div>"
      ],
      "text/plain": [
       "        CTLG_PROD_ID    count        mean        std     min     25%     50%  \\\n",
       "50175        6125039   1030.0   49.147068   2.938083   46.06   47.33   49.45   \n",
       "25197        6078511    481.0   10.849771   1.974317    5.96    9.12    9.95   \n",
       "131988       6408981  17962.0   53.589554   6.892285   34.07   50.64   52.02   \n",
       "625637      15970241    128.0  432.005781  67.035370  279.29  422.59  449.82   \n",
       "59820        6176095    121.0   21.751322   7.035963   11.58   17.65   18.56   \n",
       "\n",
       "           75%     max  ORD_ORDER_ID  ...  has_bpp  has_claim_seller  \\\n",
       "50175    49.86   72.73    4552705098  ...        0                 0   \n",
       "25197    12.39   18.91    4547209777  ...        0                 0   \n",
       "131988   54.17  375.73    4595258825  ...        0                 0   \n",
       "625637  453.26  662.55    4582777142  ...        1                 1   \n",
       "59820    30.34   30.34    4552119105  ...        0                 0   \n",
       "\n",
       "        is_refund  bpp_cashout_final  Low25_Price  Middle_Price  High75_Price  \\\n",
       "50175         0.0                0.0            0             1             0   \n",
       "25197         0.0                0.0            0             1             0   \n",
       "131988        0.0                0.0            1             0             0   \n",
       "625637        1.0                0.0            0             1             0   \n",
       "59820         0.0                0.0            0             1             0   \n",
       "\n",
       "        Price_Range    weight  bad_order  \n",
       "50175        middle  0.000971          0  \n",
       "25197        middle  0.002079          0  \n",
       "131988       low_25  0.000056          0  \n",
       "625637       middle  0.007812          1  \n",
       "59820        middle  0.008264          0  \n",
       "\n",
       "[5 rows x 24 columns]"
      ]
     },
     "execution_count": 30,
     "metadata": {},
     "output_type": "execute_result"
    }
   ],
   "source": [
    "df.sample(5)"
   ]
  },
  {
   "cell_type": "code",
   "execution_count": 31,
   "metadata": {},
   "outputs": [
    {
     "data": {
      "text/plain": [
       "Index(['CTLG_PROD_ID', 'count', 'mean', 'std', 'min', '25%', '50%', '75%',\n",
       "       'max', 'ORD_ORDER_ID', 'ITE_ITEM_ID', 'ITE_BASE_CURRENT_PRICE',\n",
       "       'flag_bad_user', 'is_buybox', 'has_bpp', 'has_claim_seller',\n",
       "       'is_refund', 'bpp_cashout_final', 'Low25_Price', 'Middle_Price',\n",
       "       'High75_Price', 'Price_Range', 'weight', 'bad_order'],\n",
       "      dtype='object')"
      ]
     },
     "execution_count": 31,
     "metadata": {},
     "output_type": "execute_result"
    }
   ],
   "source": [
    "df.columns"
   ]
  },
  {
   "cell_type": "markdown",
   "metadata": {},
   "source": [
    "## Distribution Bad Orders"
   ]
  },
  {
   "cell_type": "code",
   "execution_count": 43,
   "metadata": {},
   "outputs": [],
   "source": [
    "df_1=df[['Price_Range','bad_order','ORD_ORDER_ID']]"
   ]
  },
  {
   "cell_type": "code",
   "execution_count": 44,
   "metadata": {},
   "outputs": [
    {
     "data": {
      "text/html": [
       "<div>\n",
       "<style scoped>\n",
       "    .dataframe tbody tr th:only-of-type {\n",
       "        vertical-align: middle;\n",
       "    }\n",
       "\n",
       "    .dataframe tbody tr th {\n",
       "        vertical-align: top;\n",
       "    }\n",
       "\n",
       "    .dataframe thead th {\n",
       "        text-align: right;\n",
       "    }\n",
       "</style>\n",
       "<table border=\"1\" class=\"dataframe\">\n",
       "  <thead>\n",
       "    <tr style=\"text-align: right;\">\n",
       "      <th></th>\n",
       "      <th>Price_Range</th>\n",
       "      <th>bad_order</th>\n",
       "      <th>ORD_ORDER_ID</th>\n",
       "      <th>TOTAL</th>\n",
       "      <th>Dis.[%]</th>\n",
       "    </tr>\n",
       "  </thead>\n",
       "  <tbody>\n",
       "    <tr>\n",
       "      <th>0</th>\n",
       "      <td>high_75</td>\n",
       "      <td>0</td>\n",
       "      <td>120675</td>\n",
       "      <td>140534</td>\n",
       "      <td>85.868900</td>\n",
       "    </tr>\n",
       "    <tr>\n",
       "      <th>1</th>\n",
       "      <td>high_75</td>\n",
       "      <td>1</td>\n",
       "      <td>19859</td>\n",
       "      <td>140534</td>\n",
       "      <td>14.131100</td>\n",
       "    </tr>\n",
       "    <tr>\n",
       "      <th>2</th>\n",
       "      <td>low_25</td>\n",
       "      <td>0</td>\n",
       "      <td>100553</td>\n",
       "      <td>126987</td>\n",
       "      <td>79.183696</td>\n",
       "    </tr>\n",
       "    <tr>\n",
       "      <th>3</th>\n",
       "      <td>low_25</td>\n",
       "      <td>1</td>\n",
       "      <td>26434</td>\n",
       "      <td>126987</td>\n",
       "      <td>20.816304</td>\n",
       "    </tr>\n",
       "    <tr>\n",
       "      <th>4</th>\n",
       "      <td>middle</td>\n",
       "      <td>0</td>\n",
       "      <td>523584</td>\n",
       "      <td>600876</td>\n",
       "      <td>87.136780</td>\n",
       "    </tr>\n",
       "    <tr>\n",
       "      <th>5</th>\n",
       "      <td>middle</td>\n",
       "      <td>1</td>\n",
       "      <td>77292</td>\n",
       "      <td>600876</td>\n",
       "      <td>12.863220</td>\n",
       "    </tr>\n",
       "  </tbody>\n",
       "</table>\n",
       "</div>"
      ],
      "text/plain": [
       "  Price_Range  bad_order  ORD_ORDER_ID   TOTAL    Dis.[%]\n",
       "0     high_75          0        120675  140534  85.868900\n",
       "1     high_75          1         19859  140534  14.131100\n",
       "2      low_25          0        100553  126987  79.183696\n",
       "3      low_25          1         26434  126987  20.816304\n",
       "4      middle          0        523584  600876  87.136780\n",
       "5      middle          1         77292  600876  12.863220"
      ]
     },
     "execution_count": 44,
     "metadata": {},
     "output_type": "execute_result"
    }
   ],
   "source": [
    "gb1=df_1.groupby(['Price_Range','bad_order']).count()\n",
    "gb1=gb1.reset_index()\n",
    "\n",
    "gb2=gb1[['Price_Range','ORD_ORDER_ID']].groupby(['Price_Range']).sum()\n",
    "gb2=gb2.reset_index()\n",
    "gb2['TOTAL']=gb2['ORD_ORDER_ID']\n",
    "gb2=gb2[['Price_Range','TOTAL']]\n",
    "\n",
    "gb3 = pd.merge(left = gb1, right = gb2,\n",
    "                how = 'inner',\n",
    "                left_on='Price_Range', right_on='Price_Range')\n",
    "\n",
    "gb3['Dis.[%]']=(gb3['ORD_ORDER_ID']/gb3['TOTAL'])*100\n",
    "\n",
    "gb3"
   ]
  },
  {
   "cell_type": "code",
   "execution_count": 45,
   "metadata": {},
   "outputs": [
    {
     "data": {
      "image/png": "[encoded data removed]",
      "text/plain": [
       "<Figure size 432x288 with 1 Axes>"
      ]
     },
     "metadata": {
      "needs_background": "light"
     },
     "output_type": "display_data"
    }
   ],
   "source": [
    "sns.histplot(\n",
    "            data=df_1,\n",
    "            x=\"Price_Range\",\n",
    "            hue=\"bad_order\",\n",
    "            multiple=\"dodge\",\n",
    "            shrink=.8\n",
    "            ).set(title='Precio',ylabel='Orders');"
   ]
  },
  {
   "cell_type": "markdown",
   "metadata": {},
   "source": [
    "## Distribution Bad Users"
   ]
  },
  {
   "cell_type": "code",
   "execution_count": 46,
   "metadata": {
    "scrolled": true
   },
   "outputs": [],
   "source": [
    "df_1=df[['Price_Range','flag_bad_user','ORD_ORDER_ID']]"
   ]
  },
  {
   "cell_type": "code",
   "execution_count": 47,
   "metadata": {},
   "outputs": [
    {
     "data": {
      "text/html": [
       "<div>\n",
       "<style scoped>\n",
       "    .dataframe tbody tr th:only-of-type {\n",
       "        vertical-align: middle;\n",
       "    }\n",
       "\n",
       "    .dataframe tbody tr th {\n",
       "        vertical-align: top;\n",
       "    }\n",
       "\n",
       "    .dataframe thead th {\n",
       "        text-align: right;\n",
       "    }\n",
       "</style>\n",
       "<table border=\"1\" class=\"dataframe\">\n",
       "  <thead>\n",
       "    <tr style=\"text-align: right;\">\n",
       "      <th></th>\n",
       "      <th>Price_Range</th>\n",
       "      <th>flag_bad_user</th>\n",
       "      <th>ORD_ORDER_ID</th>\n",
       "      <th>TOTAL</th>\n",
       "      <th>Dis.[%]</th>\n",
       "    </tr>\n",
       "  </thead>\n",
       "  <tbody>\n",
       "    <tr>\n",
       "      <th>0</th>\n",
       "      <td>high_75</td>\n",
       "      <td>0</td>\n",
       "      <td>136138</td>\n",
       "      <td>140534</td>\n",
       "      <td>96.871931</td>\n",
       "    </tr>\n",
       "    <tr>\n",
       "      <th>1</th>\n",
       "      <td>high_75</td>\n",
       "      <td>1</td>\n",
       "      <td>4396</td>\n",
       "      <td>140534</td>\n",
       "      <td>3.128069</td>\n",
       "    </tr>\n",
       "    <tr>\n",
       "      <th>2</th>\n",
       "      <td>low_25</td>\n",
       "      <td>0</td>\n",
       "      <td>119663</td>\n",
       "      <td>126987</td>\n",
       "      <td>94.232480</td>\n",
       "    </tr>\n",
       "    <tr>\n",
       "      <th>3</th>\n",
       "      <td>low_25</td>\n",
       "      <td>1</td>\n",
       "      <td>7324</td>\n",
       "      <td>126987</td>\n",
       "      <td>5.767520</td>\n",
       "    </tr>\n",
       "    <tr>\n",
       "      <th>4</th>\n",
       "      <td>middle</td>\n",
       "      <td>0</td>\n",
       "      <td>582734</td>\n",
       "      <td>600876</td>\n",
       "      <td>96.980741</td>\n",
       "    </tr>\n",
       "    <tr>\n",
       "      <th>5</th>\n",
       "      <td>middle</td>\n",
       "      <td>1</td>\n",
       "      <td>18142</td>\n",
       "      <td>600876</td>\n",
       "      <td>3.019259</td>\n",
       "    </tr>\n",
       "  </tbody>\n",
       "</table>\n",
       "</div>"
      ],
      "text/plain": [
       "  Price_Range  flag_bad_user  ORD_ORDER_ID   TOTAL    Dis.[%]\n",
       "0     high_75              0        136138  140534  96.871931\n",
       "1     high_75              1          4396  140534   3.128069\n",
       "2      low_25              0        119663  126987  94.232480\n",
       "3      low_25              1          7324  126987   5.767520\n",
       "4      middle              0        582734  600876  96.980741\n",
       "5      middle              1         18142  600876   3.019259"
      ]
     },
     "execution_count": 47,
     "metadata": {},
     "output_type": "execute_result"
    }
   ],
   "source": [
    "gb1=df_1.groupby(['Price_Range','flag_bad_user']).count()\n",
    "gb1=gb1.reset_index()\n",
    "\n",
    "gb2=gb1[['Price_Range','ORD_ORDER_ID']].groupby(['Price_Range']).sum()\n",
    "gb2=gb2.reset_index()\n",
    "gb2['TOTAL']=gb2['ORD_ORDER_ID']\n",
    "gb2=gb2[['Price_Range','TOTAL']]\n",
    "\n",
    "gb3 = pd.merge(left = gb1, right = gb2,\n",
    "                how = 'inner',\n",
    "                left_on='Price_Range', right_on='Price_Range')\n",
    "\n",
    "gb3['Dis.[%]']=(gb3['ORD_ORDER_ID']/gb3['TOTAL'])*100\n",
    "\n",
    "gb3"
   ]
  },
  {
   "cell_type": "code",
   "execution_count": 48,
   "metadata": {
    "scrolled": true
   },
   "outputs": [
    {
     "data": {
      "image/png": "[encoded data removed]",
      "text/plain": [
       "<Figure size 432x288 with 1 Axes>"
      ]
     },
     "metadata": {
      "needs_background": "light"
     },
     "output_type": "display_data"
    }
   ],
   "source": [
    "sns.histplot(\n",
    "            data=df_1,\n",
    "            x=\"Price_Range\",\n",
    "            hue=\"flag_bad_user\",\n",
    "            multiple=\"dodge\",\n",
    "            shrink=.8\n",
    "            ).set(title='Precio',ylabel='Orders');"
   ]
  },
  {
   "cell_type": "markdown",
   "metadata": {},
   "source": [
    "## Distribution Has CashOut"
   ]
  },
  {
   "cell_type": "code",
   "execution_count": 49,
   "metadata": {},
   "outputs": [
    {
     "name": "stderr",
     "output_type": "stream",
     "text": [
      "<ipython-input-49-239d2c268fe3>:2: SettingWithCopyWarning: \n",
      "A value is trying to be set on a copy of a slice from a DataFrame.\n",
      "Try using .loc[row_indexer,col_indexer] = value instead\n",
      "\n",
      "See the caveats in the documentation: https://pandas.pydata.org/pandas-docs/stable/user_guide/indexing.html#returning-a-view-versus-a-copy\n",
      "  df_1['has_co'] = df_1.apply(lambda x: 1 if x['bpp_cashout_final'] > 0 else 0, axis=1)\n"
     ]
    }
   ],
   "source": [
    "df_1=df[['Price_Range','bpp_cashout_final','ORD_ORDER_ID']]\n",
    "df_1['has_co'] = df_1.apply(lambda x: 1 if x['bpp_cashout_final'] > 0 else 0, axis=1)\n",
    "df_1=df_1[['Price_Range','has_co','ORD_ORDER_ID']]"
   ]
  },
  {
   "cell_type": "code",
   "execution_count": 50,
   "metadata": {},
   "outputs": [
    {
     "data": {
      "text/html": [
       "<div>\n",
       "<style scoped>\n",
       "    .dataframe tbody tr th:only-of-type {\n",
       "        vertical-align: middle;\n",
       "    }\n",
       "\n",
       "    .dataframe tbody tr th {\n",
       "        vertical-align: top;\n",
       "    }\n",
       "\n",
       "    .dataframe thead th {\n",
       "        text-align: right;\n",
       "    }\n",
       "</style>\n",
       "<table border=\"1\" class=\"dataframe\">\n",
       "  <thead>\n",
       "    <tr style=\"text-align: right;\">\n",
       "      <th></th>\n",
       "      <th>Price_Range</th>\n",
       "      <th>has_co</th>\n",
       "      <th>ORD_ORDER_ID</th>\n",
       "      <th>TOTAL</th>\n",
       "      <th>Dis.[%]</th>\n",
       "    </tr>\n",
       "  </thead>\n",
       "  <tbody>\n",
       "    <tr>\n",
       "      <th>0</th>\n",
       "      <td>high_75</td>\n",
       "      <td>0</td>\n",
       "      <td>139690</td>\n",
       "      <td>140534</td>\n",
       "      <td>99.399434</td>\n",
       "    </tr>\n",
       "    <tr>\n",
       "      <th>1</th>\n",
       "      <td>high_75</td>\n",
       "      <td>1</td>\n",
       "      <td>844</td>\n",
       "      <td>140534</td>\n",
       "      <td>0.600566</td>\n",
       "    </tr>\n",
       "    <tr>\n",
       "      <th>2</th>\n",
       "      <td>low_25</td>\n",
       "      <td>0</td>\n",
       "      <td>125609</td>\n",
       "      <td>126987</td>\n",
       "      <td>98.914850</td>\n",
       "    </tr>\n",
       "    <tr>\n",
       "      <th>3</th>\n",
       "      <td>low_25</td>\n",
       "      <td>1</td>\n",
       "      <td>1378</td>\n",
       "      <td>126987</td>\n",
       "      <td>1.085150</td>\n",
       "    </tr>\n",
       "    <tr>\n",
       "      <th>4</th>\n",
       "      <td>middle</td>\n",
       "      <td>0</td>\n",
       "      <td>597099</td>\n",
       "      <td>600876</td>\n",
       "      <td>99.371418</td>\n",
       "    </tr>\n",
       "    <tr>\n",
       "      <th>5</th>\n",
       "      <td>middle</td>\n",
       "      <td>1</td>\n",
       "      <td>3777</td>\n",
       "      <td>600876</td>\n",
       "      <td>0.628582</td>\n",
       "    </tr>\n",
       "  </tbody>\n",
       "</table>\n",
       "</div>"
      ],
      "text/plain": [
       "  Price_Range  has_co  ORD_ORDER_ID   TOTAL    Dis.[%]\n",
       "0     high_75       0        139690  140534  99.399434\n",
       "1     high_75       1           844  140534   0.600566\n",
       "2      low_25       0        125609  126987  98.914850\n",
       "3      low_25       1          1378  126987   1.085150\n",
       "4      middle       0        597099  600876  99.371418\n",
       "5      middle       1          3777  600876   0.628582"
      ]
     },
     "execution_count": 50,
     "metadata": {},
     "output_type": "execute_result"
    }
   ],
   "source": [
    "gb1=df_1.groupby(['Price_Range','has_co']).count()\n",
    "gb1=gb1.reset_index()\n",
    "\n",
    "gb2=gb1[['Price_Range','ORD_ORDER_ID']].groupby(['Price_Range']).sum()\n",
    "gb2=gb2.reset_index()\n",
    "gb2['TOTAL']=gb2['ORD_ORDER_ID']\n",
    "gb2=gb2[['Price_Range','TOTAL']]\n",
    "\n",
    "gb3 = pd.merge(left = gb1, right = gb2,\n",
    "                how = 'inner',\n",
    "                left_on='Price_Range', right_on='Price_Range')\n",
    "\n",
    "gb3['Dis.[%]']=(gb3['ORD_ORDER_ID']/gb3['TOTAL'])*100\n",
    "\n",
    "gb3"
   ]
  },
  {
   "cell_type": "code",
   "execution_count": 51,
   "metadata": {},
   "outputs": [
    {
     "data": {
      "image/png": "[encoded data removed]",
      "text/plain": [
       "<Figure size 432x288 with 1 Axes>"
      ]
     },
     "metadata": {
      "needs_background": "light"
     },
     "output_type": "display_data"
    }
   ],
   "source": [
    "sns.histplot(\n",
    "            data=df_1,\n",
    "            x=\"Price_Range\",\n",
    "            hue=\"has_co\",\n",
    "            multiple=\"dodge\",\n",
    "            shrink=.8\n",
    "            ).set(title='Precio',ylabel='Orders');"
   ]
  },
  {
   "cell_type": "markdown",
   "metadata": {},
   "source": [
    "## Distribution Has Claim"
   ]
  },
  {
   "cell_type": "code",
   "execution_count": 52,
   "metadata": {},
   "outputs": [],
   "source": [
    "df_1=df[['Price_Range','has_claim_seller','ORD_ORDER_ID']]"
   ]
  },
  {
   "cell_type": "code",
   "execution_count": 53,
   "metadata": {},
   "outputs": [
    {
     "data": {
      "text/html": [
       "<div>\n",
       "<style scoped>\n",
       "    .dataframe tbody tr th:only-of-type {\n",
       "        vertical-align: middle;\n",
       "    }\n",
       "\n",
       "    .dataframe tbody tr th {\n",
       "        vertical-align: top;\n",
       "    }\n",
       "\n",
       "    .dataframe thead th {\n",
       "        text-align: right;\n",
       "    }\n",
       "</style>\n",
       "<table border=\"1\" class=\"dataframe\">\n",
       "  <thead>\n",
       "    <tr style=\"text-align: right;\">\n",
       "      <th></th>\n",
       "      <th>Price_Range</th>\n",
       "      <th>has_claim_seller</th>\n",
       "      <th>ORD_ORDER_ID</th>\n",
       "      <th>TOTAL</th>\n",
       "      <th>Dis.[%]</th>\n",
       "    </tr>\n",
       "  </thead>\n",
       "  <tbody>\n",
       "    <tr>\n",
       "      <th>0</th>\n",
       "      <td>high_75</td>\n",
       "      <td>0</td>\n",
       "      <td>127238</td>\n",
       "      <td>140534</td>\n",
       "      <td>90.538944</td>\n",
       "    </tr>\n",
       "    <tr>\n",
       "      <th>1</th>\n",
       "      <td>high_75</td>\n",
       "      <td>1</td>\n",
       "      <td>13296</td>\n",
       "      <td>140534</td>\n",
       "      <td>9.461056</td>\n",
       "    </tr>\n",
       "    <tr>\n",
       "      <th>2</th>\n",
       "      <td>low_25</td>\n",
       "      <td>0</td>\n",
       "      <td>110606</td>\n",
       "      <td>126987</td>\n",
       "      <td>87.100254</td>\n",
       "    </tr>\n",
       "    <tr>\n",
       "      <th>3</th>\n",
       "      <td>low_25</td>\n",
       "      <td>1</td>\n",
       "      <td>16381</td>\n",
       "      <td>126987</td>\n",
       "      <td>12.899746</td>\n",
       "    </tr>\n",
       "    <tr>\n",
       "      <th>4</th>\n",
       "      <td>middle</td>\n",
       "      <td>0</td>\n",
       "      <td>551372</td>\n",
       "      <td>600876</td>\n",
       "      <td>91.761362</td>\n",
       "    </tr>\n",
       "    <tr>\n",
       "      <th>5</th>\n",
       "      <td>middle</td>\n",
       "      <td>1</td>\n",
       "      <td>49504</td>\n",
       "      <td>600876</td>\n",
       "      <td>8.238638</td>\n",
       "    </tr>\n",
       "  </tbody>\n",
       "</table>\n",
       "</div>"
      ],
      "text/plain": [
       "  Price_Range  has_claim_seller  ORD_ORDER_ID   TOTAL    Dis.[%]\n",
       "0     high_75                 0        127238  140534  90.538944\n",
       "1     high_75                 1         13296  140534   9.461056\n",
       "2      low_25                 0        110606  126987  87.100254\n",
       "3      low_25                 1         16381  126987  12.899746\n",
       "4      middle                 0        551372  600876  91.761362\n",
       "5      middle                 1         49504  600876   8.238638"
      ]
     },
     "execution_count": 53,
     "metadata": {},
     "output_type": "execute_result"
    }
   ],
   "source": [
    "gb1=df_1.groupby(['Price_Range','has_claim_seller']).count()\n",
    "gb1=gb1.reset_index()\n",
    "\n",
    "gb2=gb1[['Price_Range','ORD_ORDER_ID']].groupby(['Price_Range']).sum()\n",
    "gb2=gb2.reset_index()\n",
    "gb2['TOTAL']=gb2['ORD_ORDER_ID']\n",
    "gb2=gb2[['Price_Range','TOTAL']]\n",
    "\n",
    "gb3 = pd.merge(left = gb1, right = gb2,\n",
    "                how = 'inner',\n",
    "                left_on='Price_Range', right_on='Price_Range')\n",
    "\n",
    "gb3['Dis.[%]']=(gb3['ORD_ORDER_ID']/gb3['TOTAL'])*100\n",
    "\n",
    "gb3"
   ]
  },
  {
   "cell_type": "code",
   "execution_count": 54,
   "metadata": {},
   "outputs": [
    {
     "data": {
      "image/png": "[encoded data removed]",
      "text/plain": [
       "<Figure size 432x288 with 1 Axes>"
      ]
     },
     "metadata": {
      "needs_background": "light"
     },
     "output_type": "display_data"
    }
   ],
   "source": [
    "sns.histplot(\n",
    "            data=df_1,\n",
    "            x=\"Price_Range\",\n",
    "            hue=\"has_claim_seller\",\n",
    "            multiple=\"dodge\",\n",
    "            shrink=.8\n",
    "            ).set(title='Precio',ylabel='Orders');"
   ]
  },
  {
   "cell_type": "markdown",
   "metadata": {},
   "source": [
    "## Distribution is Refund"
   ]
  },
  {
   "cell_type": "code",
   "execution_count": 56,
   "metadata": {},
   "outputs": [],
   "source": [
    "df_1=df[['Price_Range','is_refund','ORD_ORDER_ID']]"
   ]
  },
  {
   "cell_type": "code",
   "execution_count": 57,
   "metadata": {},
   "outputs": [
    {
     "data": {
      "text/html": [
       "<div>\n",
       "<style scoped>\n",
       "    .dataframe tbody tr th:only-of-type {\n",
       "        vertical-align: middle;\n",
       "    }\n",
       "\n",
       "    .dataframe tbody tr th {\n",
       "        vertical-align: top;\n",
       "    }\n",
       "\n",
       "    .dataframe thead th {\n",
       "        text-align: right;\n",
       "    }\n",
       "</style>\n",
       "<table border=\"1\" class=\"dataframe\">\n",
       "  <thead>\n",
       "    <tr style=\"text-align: right;\">\n",
       "      <th></th>\n",
       "      <th>Price_Range</th>\n",
       "      <th>is_refund</th>\n",
       "      <th>ORD_ORDER_ID</th>\n",
       "      <th>TOTAL</th>\n",
       "      <th>Dis.[%]</th>\n",
       "    </tr>\n",
       "  </thead>\n",
       "  <tbody>\n",
       "    <tr>\n",
       "      <th>0</th>\n",
       "      <td>high_75</td>\n",
       "      <td>0.0</td>\n",
       "      <td>127272</td>\n",
       "      <td>140533</td>\n",
       "      <td>90.563782</td>\n",
       "    </tr>\n",
       "    <tr>\n",
       "      <th>1</th>\n",
       "      <td>high_75</td>\n",
       "      <td>1.0</td>\n",
       "      <td>13261</td>\n",
       "      <td>140533</td>\n",
       "      <td>9.436218</td>\n",
       "    </tr>\n",
       "    <tr>\n",
       "      <th>2</th>\n",
       "      <td>low_25</td>\n",
       "      <td>0.0</td>\n",
       "      <td>109284</td>\n",
       "      <td>126978</td>\n",
       "      <td>86.065303</td>\n",
       "    </tr>\n",
       "    <tr>\n",
       "      <th>3</th>\n",
       "      <td>low_25</td>\n",
       "      <td>1.0</td>\n",
       "      <td>17694</td>\n",
       "      <td>126978</td>\n",
       "      <td>13.934697</td>\n",
       "    </tr>\n",
       "    <tr>\n",
       "      <th>4</th>\n",
       "      <td>middle</td>\n",
       "      <td>0.0</td>\n",
       "      <td>551477</td>\n",
       "      <td>600874</td>\n",
       "      <td>91.779142</td>\n",
       "    </tr>\n",
       "    <tr>\n",
       "      <th>5</th>\n",
       "      <td>middle</td>\n",
       "      <td>1.0</td>\n",
       "      <td>49397</td>\n",
       "      <td>600874</td>\n",
       "      <td>8.220858</td>\n",
       "    </tr>\n",
       "  </tbody>\n",
       "</table>\n",
       "</div>"
      ],
      "text/plain": [
       "  Price_Range  is_refund  ORD_ORDER_ID   TOTAL    Dis.[%]\n",
       "0     high_75        0.0        127272  140533  90.563782\n",
       "1     high_75        1.0         13261  140533   9.436218\n",
       "2      low_25        0.0        109284  126978  86.065303\n",
       "3      low_25        1.0         17694  126978  13.934697\n",
       "4      middle        0.0        551477  600874  91.779142\n",
       "5      middle        1.0         49397  600874   8.220858"
      ]
     },
     "execution_count": 57,
     "metadata": {},
     "output_type": "execute_result"
    }
   ],
   "source": [
    "gb1=df_1.groupby(['Price_Range','is_refund']).count()\n",
    "gb1=gb1.reset_index()\n",
    "\n",
    "gb2=gb1[['Price_Range','ORD_ORDER_ID']].groupby(['Price_Range']).sum()\n",
    "gb2=gb2.reset_index()\n",
    "gb2['TOTAL']=gb2['ORD_ORDER_ID']\n",
    "gb2=gb2[['Price_Range','TOTAL']]\n",
    "\n",
    "gb3 = pd.merge(left = gb1, right = gb2,\n",
    "                how = 'inner',\n",
    "                left_on='Price_Range', right_on='Price_Range')\n",
    "\n",
    "gb3['Dis.[%]']=(gb3['ORD_ORDER_ID']/gb3['TOTAL'])*100\n",
    "\n",
    "gb3"
   ]
  },
  {
   "cell_type": "code",
   "execution_count": 60,
   "metadata": {},
   "outputs": [
    {
     "data": {
      "image/png": "[encoded data removed]",
      "text/plain": [
       "<Figure size 432x288 with 1 Axes>"
      ]
     },
     "metadata": {
      "needs_background": "light"
     },
     "output_type": "display_data"
    }
   ],
   "source": [
    "sns.histplot(\n",
    "            data=df_1,\n",
    "            x=\"Price_Range\",\n",
    "            hue=\"is_refund\",\n",
    "            multiple=\"dodge\",\n",
    "            shrink=.8\n",
    "            ).set(title='Precio',ylabel='Orders');"
   ]
  },
  {
   "cell_type": "markdown",
   "metadata": {},
   "source": [
    "## Export the products IDs"
   ]
  },
  {
   "cell_type": "code",
   "execution_count": null,
   "metadata": {},
   "outputs": [],
   "source": [
    "#ID=df['CTLG_PROD_ID']\n",
    "#ID.to_csv(r'products_id.csv', index = False)"
   ]
  },
  {
   "cell_type": "code",
   "execution_count": null,
   "metadata": {},
   "outputs": [],
   "source": [
    "#LAMBDA CON AND\n",
    "#df_ratios['extremos']= df_ratios.apply(lambda x: 'caso1' if x['ratio_recla_1m']> 0.3 and x['ratio_cashout_1m']> 0.3 and x['ratio_ref_1m']> 0.3 and x['ratio_claims_1m']> 0.3 else 'no',axis=1)\n"
   ]
  },
  {
   "cell_type": "code",
   "execution_count": null,
   "metadata": {},
   "outputs": [],
   "source": [
    "#LAMDA CON IF ANIDADO\n",
    "#df['adicionales']= df.apply(lambda x: 'caso1' if x['gmv_90d']<= 0 else('caso2' if  x['gmv_30d']<=0  else 'no'),axis=1)\n"
   ]
  }
 ],
 "metadata": {
  "kernelspec": {
   "display_name": "Python 3",
   "language": "python",
   "name": "python3"
  },
  "language_info": {
   "codemirror_mode": {
    "name": "ipython",
    "version": 3
   },
   "file_extension": ".py",
   "mimetype": "text/x-python",
   "name": "python",
   "nbconvert_exporter": "python",
   "pygments_lexer": "ipython3",
   "version": "3.8.5"
  }
 },
 "nbformat": 4,
 "nbformat_minor": 4
}
